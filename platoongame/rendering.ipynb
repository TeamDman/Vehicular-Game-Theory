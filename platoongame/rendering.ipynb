{
 "cells": [
  {
   "cell_type": "code",
   "execution_count": 1,
   "metadata": {},
   "outputs": [
    {
     "data": {
      "application/vnd.jupyter.widget-view+json": {
       "model_id": "367583b1374c42de8340c3ae40b02073",
       "version_major": 2,
       "version_minor": 0
      },
      "text/plain": [
       "Canvas(height=442, width=1060)"
      ]
     },
     "metadata": {},
     "output_type": "display_data"
    },
    {
     "name": "stdout",
     "output_type": "stream",
     "text": [
      "<TimeLimit<OrderEnforcing<PassiveEnvChecker<InOutEnv<Platoon-v0>>>>>\n"
     ]
    }
   ],
   "source": [
    "from itertools import count\n",
    "from IPython.display import display, clear_output\n",
    "\n",
    "import platoonenv\n",
    "import gymnasium as gym\n",
    "\n",
    "env_name = \"Platoon-v0\"\n",
    "env = gym.make(env_name, render_mode=\"canvas\")\n",
    "\n",
    "env.reset()\n",
    "rewards = []\n",
    "for i in count():\n",
    "    action = env.action_space.sample()\n",
    "    next_obs, reward, done, trunc, info = env.step(action)\n",
    "    rewards.append(reward)\n",
    "    clear_output()\n",
    "    display(env.render())\n",
    "    if done or trunc:\n",
    "        break\n",
    "\n",
    "print(env)\n",
    "# print(rewards)\n",
    "# print(sum(rewards))"
   ]
  },
  {
   "cell_type": "code",
   "execution_count": 2,
   "metadata": {},
   "outputs": [
    {
     "data": {
      "application/vnd.jupyter.widget-view+json": {
       "model_id": "e7be01f459504737bbe1c7d605c7dcc3",
       "version_major": 2,
       "version_minor": 0
      },
      "text/plain": [
       "Canvas(height=286, width=1060)"
      ]
     },
     "metadata": {},
     "output_type": "display_data"
    },
    {
     "name": "stdout",
     "output_type": "stream",
     "text": [
      "<TimeLimit<OrderEnforcing<PassiveEnvChecker<InOutDangerEnv<Platoon-v1>>>>>\n"
     ]
    }
   ],
   "source": [
    "from itertools import count\n",
    "from IPython.display import display, clear_output\n",
    "\n",
    "import platoonenv\n",
    "import gymnasium as gym\n",
    "\n",
    "env_name = \"Platoon-v1\"\n",
    "env = gym.make(env_name, render_mode=\"canvas\")\n",
    "\n",
    "env.reset()\n",
    "rewards = []\n",
    "for i in count():\n",
    "    action = env.action_space.sample()\n",
    "    next_obs, reward, done, trunc, info = env.step(action)\n",
    "    rewards.append(reward)\n",
    "    clear_output()\n",
    "    display(env.render())\n",
    "    if done or trunc:\n",
    "        break\n",
    "\n",
    "print(env)\n",
    "# print(rewards)\n",
    "# print(sum(rewards))"
   ]
  },
  {
   "cell_type": "code",
   "execution_count": 3,
   "metadata": {},
   "outputs": [
    {
     "data": {
      "application/vnd.jupyter.widget-view+json": {
       "model_id": "55eee9f2c5ac43bc855ff1b7fdb63c0c",
       "version_major": 2,
       "version_minor": 0
      },
      "text/plain": [
       "Canvas(height=286, width=1060)"
      ]
     },
     "metadata": {},
     "output_type": "display_data"
    },
    {
     "name": "stdout",
     "output_type": "stream",
     "text": [
      "<TimeLimit<OrderEnforcing<PassiveEnvChecker<InOutValueEnv<Platoon-v2>>>>>\n"
     ]
    }
   ],
   "source": [
    "from itertools import count\n",
    "from IPython.display import display, clear_output\n",
    "\n",
    "import platoonenv\n",
    "import gymnasium as gym\n",
    "\n",
    "env_name = \"Platoon-v2\"\n",
    "env = gym.make(env_name, render_mode=\"canvas\")\n",
    "\n",
    "env.reset()\n",
    "rewards = []\n",
    "for i in count():\n",
    "    action = env.action_space.sample()\n",
    "    next_obs, reward, done, trunc, info = env.step(action)\n",
    "    rewards.append(reward)\n",
    "    clear_output()\n",
    "    display(env.render())\n",
    "    if done or trunc:\n",
    "        break\n",
    "\n",
    "print(env)\n",
    "# print(rewards)\n",
    "# print(sum(rewards))"
   ]
  },
  {
   "cell_type": "code",
   "execution_count": 4,
   "metadata": {},
   "outputs": [
    {
     "data": {
      "application/vnd.jupyter.widget-view+json": {
       "model_id": "bc2a1a2c10724f9a9695f7f862ac014c",
       "version_major": 2,
       "version_minor": 0
      },
      "text/plain": [
       "Canvas(height=1326, width=1460)"
      ]
     },
     "metadata": {},
     "output_type": "display_data"
    },
    {
     "name": "stdout",
     "output_type": "stream",
     "text": [
      "<OrderEnforcing<PassiveEnvChecker<InOutValueProbEnv<Platoon-v3>>>>\n"
     ]
    }
   ],
   "source": [
    "from itertools import count\n",
    "from IPython.display import display, clear_output\n",
    "\n",
    "import platoonenv\n",
    "import gymnasium as gym\n",
    "\n",
    "env_name = \"Platoon-v3\"\n",
    "env = gym.make(env_name, render_mode=\"canvas\")\n",
    "\n",
    "env.reset()\n",
    "rewards = []\n",
    "for i in count():\n",
    "    action = env.action_space.sample()\n",
    "    next_obs, reward, done, trunc, info = env.step(action)\n",
    "    rewards.append(reward)\n",
    "    clear_output()\n",
    "    display(env.render())\n",
    "    if done or trunc:\n",
    "        break\n",
    "\n",
    "print(env)\n",
    "# print(rewards)\n",
    "# print(sum(rewards))\n",
    "# import numpy as np\n",
    "# print(np.cumsum(rewards))"
   ]
  },
  {
   "cell_type": "code",
   "execution_count": 5,
   "metadata": {},
   "outputs": [
    {
     "name": "stdout",
     "output_type": "stream",
     "text": [
      "{}\n"
     ]
    },
    {
     "name": "stderr",
     "output_type": "stream",
     "text": [
      "c:\\Users\\TeamD\\.conda\\envs\\rllib\\lib\\site-packages\\gymnasium\\envs\\registration.py:577: UserWarning: \u001b[33mWARN: The environment Platoon-v4 is out of date. You should consider upgrading to version `v5`.\u001b[0m\n",
      "  logger.warn(\n"
     ]
    },
    {
     "data": {
      "application/vnd.jupyter.widget-view+json": {
       "model_id": "d02dd1a59a4f45f58b0bd5c655d9f5c9",
       "version_major": 2,
       "version_minor": 0
      },
      "text/plain": [
       "Canvas(height=1326, width=1460)"
      ]
     },
     "metadata": {},
     "output_type": "display_data"
    },
    {
     "name": "stdout",
     "output_type": "stream",
     "text": [
      "<OrderEnforcing<PassiveEnvChecker<InOutValueProbCyclingEnv<Platoon-v4>>>>\n"
     ]
    }
   ],
   "source": [
    "from itertools import count\n",
    "from IPython.display import display, clear_output\n",
    "\n",
    "import platoonenv\n",
    "import gymnasium as gym\n",
    "\n",
    "env_name = \"Platoon-v4\"\n",
    "env = gym.make(env_name, render_mode=\"canvas\")\n",
    "\n",
    "env.reset()\n",
    "rewards = []\n",
    "for i in count():\n",
    "    action = env.action_space.sample()\n",
    "    next_obs, reward, done, trunc, info = env.step(action)\n",
    "    rewards.append(reward)\n",
    "    if done or trunc:\n",
    "        print(info)\n",
    "        break\n",
    "\n",
    "# clear_output()\n",
    "display(env.render())\n",
    "print(env)"
   ]
  },
  {
   "cell_type": "code",
   "execution_count": 6,
   "metadata": {},
   "outputs": [
    {
     "data": {
      "application/vnd.jupyter.widget-view+json": {
       "model_id": "84a119ae587743d8b08dbdbbfee34e4a",
       "version_major": 2,
       "version_minor": 0
      },
      "text/plain": [
       "Canvas(height=832, width=1460)"
      ]
     },
     "metadata": {},
     "output_type": "display_data"
    },
    {
     "name": "stdout",
     "output_type": "stream",
     "text": [
      "<OrderEnforcing<PassiveEnvChecker<InOutValueProbCyclingMonitoringEnv<Platoon-v5>>>>\n"
     ]
    }
   ],
   "source": [
    "from itertools import count\n",
    "from IPython.display import display, clear_output\n",
    "\n",
    "import platoonenv\n",
    "import gymnasium as gym\n",
    "\n",
    "env_name = \"Platoon-v5\"\n",
    "env = gym.make(env_name, render_mode=\"canvas\", env_config={\"steps_before_truncation\": 20})\n",
    "\n",
    "env.reset()\n",
    "rewards = []\n",
    "user_control = False\n",
    "for i in count():\n",
    "    if user_control:\n",
    "        clear_output()\n",
    "        display(env.render())\n",
    "    action = int(input(\"action\")) if user_control else env.action_space.sample()\n",
    "    next_obs, reward, done, trunc, info = env.step(action)\n",
    "    rewards.append(reward)\n",
    "    if done or trunc:\n",
    "        break\n",
    "\n",
    "# clear_output()\n",
    "display(env.render())\n",
    "print(env)"
   ]
  }
 ],
 "metadata": {
  "kernelspec": {
   "display_name": "rllib",
   "language": "python",
   "name": "python3"
  },
  "language_info": {
   "codemirror_mode": {
    "name": "ipython",
    "version": 3
   },
   "file_extension": ".py",
   "mimetype": "text/x-python",
   "name": "python",
   "nbconvert_exporter": "python",
   "pygments_lexer": "ipython3",
   "version": "3.8.15"
  },
  "orig_nbformat": 4,
  "vscode": {
   "interpreter": {
    "hash": "524f818cd743d7abf57cb48d668c781df3b45c3f425c53d80f3bb0fcd0df7a52"
   }
  }
 },
 "nbformat": 4,
 "nbformat_minor": 2
}
