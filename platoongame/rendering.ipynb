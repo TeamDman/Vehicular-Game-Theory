{
 "cells": [
  {
   "cell_type": "code",
   "execution_count": 1,
   "metadata": {},
   "outputs": [
    {
     "data": {
      "application/vnd.jupyter.widget-view+json": {
       "model_id": "df80ee2981724ab598c480752c13d590",
       "version_major": 2,
       "version_minor": 0
      },
      "text/plain": [
       "Canvas(height=442, width=1060)"
      ]
     },
     "metadata": {},
     "output_type": "display_data"
    }
   ],
   "source": [
    "from itertools import count\n",
    "from IPython.display import display, clear_output\n",
    "\n",
    "import platoonenv\n",
    "import gymnasium as gym\n",
    "\n",
    "env_name = \"Platoon-v0\"\n",
    "env = gym.make(env_name, render_mode=\"canvas\")\n",
    "\n",
    "env.reset()\n",
    "for i in count():\n",
    "    action = env.action_space.sample()\n",
    "    next_obs, reward, done, trunc, info = env.step(action)\n",
    "    clear_output()\n",
    "    display(env.render())\n",
    "    if done or trunc:\n",
    "        break"
   ]
  },
  {
   "cell_type": "code",
   "execution_count": 2,
   "metadata": {},
   "outputs": [
    {
     "data": {
      "application/vnd.jupyter.widget-view+json": {
       "model_id": "4ae8cf375dd747a3bd09309b49a08caa",
       "version_major": 2,
       "version_minor": 0
      },
      "text/plain": [
       "Canvas(height=286, width=1060)"
      ]
     },
     "metadata": {},
     "output_type": "display_data"
    }
   ],
   "source": [
    "from itertools import count\n",
    "from IPython.display import display, clear_output\n",
    "\n",
    "import platoonenv\n",
    "import gymnasium as gym\n",
    "\n",
    "env_name = \"Platoon-v1\"\n",
    "env = gym.make(env_name, render_mode=\"canvas\")\n",
    "\n",
    "env.reset()\n",
    "for i in count():\n",
    "    action = env.action_space.sample()\n",
    "    next_obs, reward, done, trunc, info = env.step(action)\n",
    "    clear_output()\n",
    "    display(env.render())\n",
    "    if done or trunc:\n",
    "        break"
   ]
  },
  {
   "cell_type": "code",
   "execution_count": 1,
   "metadata": {},
   "outputs": [
    {
     "data": {
      "application/vnd.jupyter.widget-view+json": {
       "model_id": "f46a6b2a5f0a47148a845e91ce77156d",
       "version_major": 2,
       "version_minor": 0
      },
      "text/plain": [
       "Canvas(height=286, width=1060)"
      ]
     },
     "metadata": {},
     "output_type": "display_data"
    }
   ],
   "source": [
    "from itertools import count\n",
    "from IPython.display import display, clear_output\n",
    "\n",
    "import platoonenv\n",
    "import gymnasium as gym\n",
    "\n",
    "env_name = \"Platoon-v2\"\n",
    "env = gym.make(env_name, render_mode=\"canvas\")\n",
    "\n",
    "env.reset()\n",
    "for i in count():\n",
    "    action = env.action_space.sample()\n",
    "    next_obs, reward, done, trunc, info = env.step(action)\n",
    "    clear_output()\n",
    "    display(env.render())\n",
    "    if done or trunc:\n",
    "        break"
   ]
  }
 ],
 "metadata": {
  "kernelspec": {
   "display_name": "rllib",
   "language": "python",
   "name": "python3"
  },
  "language_info": {
   "codemirror_mode": {
    "name": "ipython",
    "version": 3
   },
   "file_extension": ".py",
   "mimetype": "text/x-python",
   "name": "python",
   "nbconvert_exporter": "python",
   "pygments_lexer": "ipython3",
   "version": "3.8.15"
  },
  "orig_nbformat": 4,
  "vscode": {
   "interpreter": {
    "hash": "524f818cd743d7abf57cb48d668c781df3b45c3f425c53d80f3bb0fcd0df7a52"
   }
  }
 },
 "nbformat": 4,
 "nbformat_minor": 2
}
