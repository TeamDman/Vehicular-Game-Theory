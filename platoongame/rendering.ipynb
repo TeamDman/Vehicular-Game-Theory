{
 "cells": [
  {
   "cell_type": "code",
   "execution_count": 1,
   "metadata": {},
   "outputs": [
    {
     "data": {
      "application/vnd.jupyter.widget-view+json": {
       "model_id": "7113568aa0c8475fb2099916024830f6",
       "version_major": 2,
       "version_minor": 0
      },
      "text/plain": [
       "Canvas(height=442, width=1060)"
      ]
     },
     "metadata": {},
     "output_type": "display_data"
    },
    {
     "name": "stdout",
     "output_type": "stream",
     "text": [
      "[-0.09, -0.08, -0.07, -0.06, -0.07, -0.06, -0.05, -0.06, -0.05, -0.04, -0.03, -0.04, -0.05, -0.06, -0.05, -0.04, -0.03]\n",
      "-0.9300000000000004\n"
     ]
    }
   ],
   "source": [
    "from itertools import count\n",
    "from IPython.display import display, clear_output\n",
    "\n",
    "import platoonenv\n",
    "import gymnasium as gym\n",
    "\n",
    "env_name = \"Platoon-v0\"\n",
    "env = gym.make(env_name, render_mode=\"canvas\")\n",
    "\n",
    "env.reset()\n",
    "rewards = []\n",
    "for i in count():\n",
    "    action = env.action_space.sample()\n",
    "    next_obs, reward, done, trunc, info = env.step(action)\n",
    "    rewards.append(reward)\n",
    "    clear_output()\n",
    "    display(env.render())\n",
    "    if done or trunc:\n",
    "        break\n",
    "\n",
    "print(rewards)\n",
    "print(sum(rewards))"
   ]
  },
  {
   "cell_type": "code",
   "execution_count": 3,
   "metadata": {},
   "outputs": [
    {
     "data": {
      "application/vnd.jupyter.widget-view+json": {
       "model_id": "9cfecb9607c542aea11b8243a360a225",
       "version_major": 2,
       "version_minor": 0
      },
      "text/plain": [
       "Canvas(height=286, width=1060)"
      ]
     },
     "metadata": {},
     "output_type": "display_data"
    },
    {
     "name": "stdout",
     "output_type": "stream",
     "text": [
      "[-0.09, -0.18, -0.17, -0.17, -0.17, -0.18, -0.19, -0.28, -0.27, -0.26, -0.25]\n",
      "-2.21\n"
     ]
    }
   ],
   "source": [
    "from itertools import count\n",
    "from IPython.display import display, clear_output\n",
    "\n",
    "import platoonenv\n",
    "import gymnasium as gym\n",
    "\n",
    "env_name = \"Platoon-v1\"\n",
    "env = gym.make(env_name, render_mode=\"canvas\")\n",
    "\n",
    "env.reset()\n",
    "rewards = []\n",
    "for i in count():\n",
    "    action = env.action_space.sample()\n",
    "    next_obs, reward, done, trunc, info = env.step(action)\n",
    "    rewards.append(reward)\n",
    "    clear_output()\n",
    "    display(env.render())\n",
    "    if done or trunc:\n",
    "        break\n",
    "\n",
    "print(rewards)\n",
    "print(sum(rewards))"
   ]
  },
  {
   "cell_type": "code",
   "execution_count": 2,
   "metadata": {},
   "outputs": [
    {
     "data": {
      "application/vnd.jupyter.widget-view+json": {
       "model_id": "a22445761ab840eea0676067ecc1cd6e",
       "version_major": 2,
       "version_minor": 0
      },
      "text/plain": [
       "Canvas(height=286, width=1060)"
      ]
     },
     "metadata": {},
     "output_type": "display_data"
    },
    {
     "name": "stdout",
     "output_type": "stream",
     "text": [
      "[-0.14, -0.12, -0.12, -0.01, -0.08, -0.01, 0.06, 0.07, 0.0, -0.01, -0.03]\n",
      "-0.39\n"
     ]
    }
   ],
   "source": [
    "from itertools import count\n",
    "from IPython.display import display, clear_output\n",
    "\n",
    "import platoonenv\n",
    "import gymnasium as gym\n",
    "\n",
    "env_name = \"Platoon-v2\"\n",
    "env = gym.make(env_name, render_mode=\"canvas\")\n",
    "\n",
    "env.reset()\n",
    "rewards = []\n",
    "for i in count():\n",
    "    action = env.action_space.sample()\n",
    "    next_obs, reward, done, trunc, info = env.step(action)\n",
    "    rewards.append(reward)\n",
    "    clear_output()\n",
    "    display(env.render())\n",
    "    if done or trunc:\n",
    "        break\n",
    "\n",
    "print(rewards)\n",
    "print(sum(rewards))"
   ]
  },
  {
   "cell_type": "code",
   "execution_count": 1,
   "metadata": {},
   "outputs": [
    {
     "data": {
      "application/vnd.jupyter.widget-view+json": {
       "model_id": "7d76495b890640f5b60c78561e6da686",
       "version_major": 2,
       "version_minor": 0
      },
      "text/plain": [
       "Canvas(height=286, width=1460)"
      ]
     },
     "metadata": {},
     "output_type": "display_data"
    },
    {
     "name": "stdout",
     "output_type": "stream",
     "text": [
      "[-0.09, -0.1, -0.14, -0.14, -0.1, -0.09, -0.08, -0.07, -0.07, -0.06, -0.05]\n",
      "-0.9900000000000002\n",
      "[-0.09 -0.19 -0.33 -0.47 -0.57 -0.66 -0.74 -0.81 -0.88 -0.94 -0.99]\n"
     ]
    }
   ],
   "source": [
    "from itertools import count\n",
    "from IPython.display import display, clear_output\n",
    "\n",
    "import platoonenv\n",
    "import gymnasium as gym\n",
    "\n",
    "env_name = \"Platoon-v3\"\n",
    "env = gym.make(env_name, render_mode=\"canvas\")\n",
    "\n",
    "env.reset()\n",
    "rewards = []\n",
    "for i in count():\n",
    "    action = env.action_space.sample()\n",
    "    next_obs, reward, done, trunc, info = env.step(action)\n",
    "    rewards.append(reward)\n",
    "    clear_output()\n",
    "    display(env.render())\n",
    "    if done or trunc:\n",
    "        break\n",
    "\n",
    "print(rewards)\n",
    "print(sum(rewards))\n",
    "import numpy as np\n",
    "print(np.cumsum(rewards))"
   ]
  },
  {
   "cell_type": "code",
   "execution_count": 2,
   "metadata": {},
   "outputs": [
    {
     "data": {
      "text/plain": [
       "array([1.       , 0.       , 0.       , 0.9952237, 0.       , 0.       ,\n",
       "       0.2867317, 1.       , 1.       , 0.7767861], dtype=float32)"
      ]
     },
     "execution_count": 2,
     "metadata": {},
     "output_type": "execute_result"
    }
   ],
   "source": [
    "env.probs"
   ]
  }
 ],
 "metadata": {
  "kernelspec": {
   "display_name": "rllib",
   "language": "python",
   "name": "python3"
  },
  "language_info": {
   "codemirror_mode": {
    "name": "ipython",
    "version": 3
   },
   "file_extension": ".py",
   "mimetype": "text/x-python",
   "name": "python",
   "nbconvert_exporter": "python",
   "pygments_lexer": "ipython3",
   "version": "3.8.15"
  },
  "orig_nbformat": 4,
  "vscode": {
   "interpreter": {
    "hash": "524f818cd743d7abf57cb48d668c781df3b45c3f425c53d80f3bb0fcd0df7a52"
   }
  }
 },
 "nbformat": 4,
 "nbformat_minor": 2
}
