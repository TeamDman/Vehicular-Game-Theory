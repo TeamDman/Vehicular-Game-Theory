{
 "cells": [
  {
   "cell_type": "code",
   "execution_count": 3,
   "metadata": {},
   "outputs": [
    {
     "data": {
      "application/vnd.jupyter.widget-view+json": {
       "model_id": "db4f0b40743a4f6da8b210081f039d99",
       "version_major": 2,
       "version_minor": 0
      },
      "text/plain": [
       "Canvas(height=442, width=1060)"
      ]
     },
     "metadata": {},
     "output_type": "display_data"
    },
    {
     "name": "stdout",
     "output_type": "stream",
     "text": [
      "[-0.09, -0.1, -0.09, -0.1, -0.09, -0.08, -0.07, -0.08, -0.07, -0.08, -0.08, -0.07, -0.06, -0.05, -0.06, -0.07, -0.06]\n",
      "-1.3\n"
     ]
    }
   ],
   "source": [
    "from itertools import count\n",
    "from IPython.display import display, clear_output\n",
    "\n",
    "import platoonenv\n",
    "import gymnasium as gym\n",
    "\n",
    "env_name = \"Platoon-v0\"\n",
    "env = gym.make(env_name, render_mode=\"canvas\")\n",
    "\n",
    "env.reset()\n",
    "rewards = []\n",
    "for i in count():\n",
    "    action = env.action_space.sample()\n",
    "    next_obs, reward, done, trunc, info = env.step(action)\n",
    "    rewards.append(reward)\n",
    "    clear_output()\n",
    "    display(env.render())\n",
    "    if done or trunc:\n",
    "        break\n",
    "\n",
    "print(rewards)\n",
    "print(sum(rewards))"
   ]
  },
  {
   "cell_type": "code",
   "execution_count": 3,
   "metadata": {},
   "outputs": [
    {
     "data": {
      "application/vnd.jupyter.widget-view+json": {
       "model_id": "9cfecb9607c542aea11b8243a360a225",
       "version_major": 2,
       "version_minor": 0
      },
      "text/plain": [
       "Canvas(height=286, width=1060)"
      ]
     },
     "metadata": {},
     "output_type": "display_data"
    },
    {
     "name": "stdout",
     "output_type": "stream",
     "text": [
      "[-0.09, -0.18, -0.17, -0.17, -0.17, -0.18, -0.19, -0.28, -0.27, -0.26, -0.25]\n",
      "-2.21\n"
     ]
    }
   ],
   "source": [
    "from itertools import count\n",
    "from IPython.display import display, clear_output\n",
    "\n",
    "import platoonenv\n",
    "import gymnasium as gym\n",
    "\n",
    "env_name = \"Platoon-v1\"\n",
    "env = gym.make(env_name, render_mode=\"canvas\")\n",
    "\n",
    "env.reset()\n",
    "rewards = []\n",
    "for i in count():\n",
    "    action = env.action_space.sample()\n",
    "    next_obs, reward, done, trunc, info = env.step(action)\n",
    "    rewards.append(reward)\n",
    "    clear_output()\n",
    "    display(env.render())\n",
    "    if done or trunc:\n",
    "        break\n",
    "\n",
    "print(rewards)\n",
    "print(sum(rewards))"
   ]
  },
  {
   "cell_type": "code",
   "execution_count": 2,
   "metadata": {},
   "outputs": [
    {
     "data": {
      "application/vnd.jupyter.widget-view+json": {
       "model_id": "a22445761ab840eea0676067ecc1cd6e",
       "version_major": 2,
       "version_minor": 0
      },
      "text/plain": [
       "Canvas(height=286, width=1060)"
      ]
     },
     "metadata": {},
     "output_type": "display_data"
    },
    {
     "name": "stdout",
     "output_type": "stream",
     "text": [
      "[-0.14, -0.12, -0.12, -0.01, -0.08, -0.01, 0.06, 0.07, 0.0, -0.01, -0.03]\n",
      "-0.39\n"
     ]
    }
   ],
   "source": [
    "from itertools import count\n",
    "from IPython.display import display, clear_output\n",
    "\n",
    "import platoonenv\n",
    "import gymnasium as gym\n",
    "\n",
    "env_name = \"Platoon-v2\"\n",
    "env = gym.make(env_name, render_mode=\"canvas\")\n",
    "\n",
    "env.reset()\n",
    "rewards = []\n",
    "for i in count():\n",
    "    action = env.action_space.sample()\n",
    "    next_obs, reward, done, trunc, info = env.step(action)\n",
    "    rewards.append(reward)\n",
    "    clear_output()\n",
    "    display(env.render())\n",
    "    if done or trunc:\n",
    "        break\n",
    "\n",
    "print(rewards)\n",
    "print(sum(rewards))"
   ]
  },
  {
   "cell_type": "code",
   "execution_count": 1,
   "metadata": {},
   "outputs": [
    {
     "data": {
      "application/vnd.jupyter.widget-view+json": {
       "model_id": "2d9eace2c8c24d2ca7b80ebe6cb8cfe5",
       "version_major": 2,
       "version_minor": 0
      },
      "text/plain": [
       "Canvas(height=1300, width=1460)"
      ]
     },
     "metadata": {},
     "output_type": "display_data"
    },
    {
     "name": "stdout",
     "output_type": "stream",
     "text": [
      "[-0.009, -0.011, -0.01, -0.009, -0.01, -0.009, -0.008, -0.01, -0.011, -0.01, -0.014, -0.016, -0.015, -0.014, -0.015, -0.016, -0.014, -0.013, -0.014, -0.015, -0.017, -0.016, -0.015, -0.013, -0.014, -0.016, -0.015, -0.018, -0.016, -0.015, -0.016, -0.016, -0.013, -0.011, -0.013, -0.014, -0.013, -0.012, -0.014, -0.013, -0.013, -0.014, -0.017, -0.018, -0.019, -0.016, -0.017, -0.02, -0.017, -0.016]\n",
      "-0.7000000000000005\n",
      "[-0.009 -0.02  -0.03  -0.039 -0.049 -0.058 -0.066 -0.076 -0.087 -0.097\n",
      " -0.111 -0.127 -0.142 -0.156 -0.171 -0.187 -0.201 -0.214 -0.228 -0.243\n",
      " -0.26  -0.276 -0.291 -0.304 -0.318 -0.334 -0.349 -0.367 -0.383 -0.398\n",
      " -0.414 -0.43  -0.443 -0.454 -0.467 -0.481 -0.494 -0.506 -0.52  -0.533\n",
      " -0.546 -0.56  -0.577 -0.595 -0.614 -0.63  -0.647 -0.667 -0.684 -0.7  ]\n"
     ]
    }
   ],
   "source": [
    "from itertools import count\n",
    "from IPython.display import display, clear_output\n",
    "\n",
    "import platoonenv\n",
    "import gymnasium as gym\n",
    "\n",
    "env_name = \"Platoon-v3\"\n",
    "env = gym.make(env_name, render_mode=\"canvas\")\n",
    "\n",
    "env.reset()\n",
    "rewards = []\n",
    "for i in count():\n",
    "    action = env.action_space.sample()\n",
    "    next_obs, reward, done, trunc, info = env.step(action)\n",
    "    rewards.append(reward)\n",
    "    clear_output()\n",
    "    display(env.render())\n",
    "    if done or trunc:\n",
    "        break\n",
    "\n",
    "print(rewards)\n",
    "print(sum(rewards))\n",
    "import numpy as np\n",
    "print(np.cumsum(rewards))"
   ]
  },
  {
   "cell_type": "code",
   "execution_count": 1,
   "metadata": {},
   "outputs": [
    {
     "data": {
      "application/vnd.jupyter.widget-view+json": {
       "model_id": "ad9f91153ec8461bbaadaecedcb41e23",
       "version_major": 2,
       "version_minor": 0
      },
      "text/plain": [
       "Canvas(height=1300, width=1460)"
      ]
     },
     "metadata": {},
     "output_type": "display_data"
    }
   ],
   "source": [
    "from itertools import count\n",
    "from IPython.display import display, clear_output\n",
    "\n",
    "import platoonenv\n",
    "import gymnasium as gym\n",
    "\n",
    "env_name = \"Platoon-v4\"\n",
    "env = gym.make(env_name, render_mode=\"canvas\")\n",
    "\n",
    "env.reset()\n",
    "rewards = []\n",
    "for i in count():\n",
    "    action = env.action_space.sample()\n",
    "    next_obs, reward, done, trunc, info = env.step(action)\n",
    "    rewards.append(reward)\n",
    "    if done or trunc:\n",
    "        break\n",
    "\n",
    "# clear_output()\n",
    "display(env.render())"
   ]
  }
 ],
 "metadata": {
  "kernelspec": {
   "display_name": "rllib",
   "language": "python",
   "name": "python3"
  },
  "language_info": {
   "codemirror_mode": {
    "name": "ipython",
    "version": 3
   },
   "file_extension": ".py",
   "mimetype": "text/x-python",
   "name": "python",
   "nbconvert_exporter": "python",
   "pygments_lexer": "ipython3",
   "version": "3.8.15"
  },
  "orig_nbformat": 4,
  "vscode": {
   "interpreter": {
    "hash": "524f818cd743d7abf57cb48d668c781df3b45c3f425c53d80f3bb0fcd0df7a52"
   }
  }
 },
 "nbformat": 4,
 "nbformat_minor": 2
}
