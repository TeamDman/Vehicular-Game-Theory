{
 "cells": [
  {
   "attachments": {},
   "cell_type": "markdown",
   "metadata": {},
   "source": [
    "# Initialization"
   ]
  },
  {
   "cell_type": "code",
   "execution_count": 1,
   "metadata": {},
   "outputs": [],
   "source": [
    "# https://github.com/ray-project/ray/blob/master/rllib/examples/sb2rllib_rllib_example.py\n",
    "import ray\n",
    "from ray import tune, air\n",
    "import ray.rllib.algorithms.ppo as ppo\n",
    "from IPython.display import display, clear_output\n",
    "from time import sleep\n",
    "from glob import glob\n",
    "from pathlib import Path\n",
    "from tqdm import tqdm\n",
    "from itertools import count\n",
    "import matplotlib.pyplot as plt"
   ]
  },
  {
   "cell_type": "code",
   "execution_count": 2,
   "metadata": {},
   "outputs": [
    {
     "name": "stdout",
     "output_type": "stream",
     "text": [
      "Usage stats collection is enabled by default for nightly wheels. To disable this, run the following command: `ray disable-usage-stats` before starting Ray. See https://docs.ray.io/en/master/cluster/usage-stats.html for more details.\n"
     ]
    },
    {
     "name": "stderr",
     "output_type": "stream",
     "text": [
      "2023-01-15 18:59:04,308\tINFO worker.py:1536 -- Started a local Ray instance. View the dashboard at \u001b[1m\u001b[32mhttp://127.0.0.1:8265 \u001b[39m\u001b[22m\n"
     ]
    },
    {
     "data": {
      "text/html": [
       "<div>\n",
       "    <div style=\"margin-left: 50px;display: flex;flex-direction: row;align-items: center\">\n",
       "        <h3 style=\"color: var(--jp-ui-font-color0)\">Ray</h3>\n",
       "        <svg version=\"1.1\" id=\"ray\" width=\"3em\" viewBox=\"0 0 144.5 144.6\" style=\"margin-left: 3em;margin-right: 3em\">\n",
       "            <g id=\"layer-1\">\n",
       "                <path fill=\"#00a2e9\" class=\"st0\" d=\"M97.3,77.2c-3.8-1.1-6.2,0.9-8.3,5.1c-3.5,6.8-9.9,9.9-17.4,9.6S58,88.1,54.8,81.2c-1.4-3-3-4-6.3-4.1\n",
       "                    c-5.6-0.1-9.9,0.1-13.1,6.4c-3.8,7.6-13.6,10.2-21.8,7.6C5.2,88.4-0.4,80.5,0,71.7c0.1-8.4,5.7-15.8,13.8-18.2\n",
       "                    c8.4-2.6,17.5,0.7,22.3,8c1.3,1.9,1.3,5.2,3.6,5.6c3.9,0.6,8,0.2,12,0.2c1.8,0,1.9-1.6,2.4-2.8c3.5-7.8,9.7-11.8,18-11.9\n",
       "                    c8.2-0.1,14.4,3.9,17.8,11.4c1.3,2.8,2.9,3.6,5.7,3.3c1-0.1,2,0.1,3,0c2.8-0.5,6.4,1.7,8.1-2.7s-2.3-5.5-4.1-7.5\n",
       "                    c-5.1-5.7-10.9-10.8-16.1-16.3C84,38,81.9,37.1,78,38.3C66.7,42,56.2,35.7,53,24.1C50.3,14,57.3,2.8,67.7,0.5\n",
       "                    C78.4-2,89,4.7,91.5,15.3c0.1,0.3,0.1,0.5,0.2,0.8c0.7,3.4,0.7,6.9-0.8,9.8c-1.7,3.2-0.8,5,1.5,7.2c6.7,6.5,13.3,13,19.8,19.7\n",
       "                    c1.8,1.8,3,2.1,5.5,1.2c9.1-3.4,17.9-0.6,23.4,7c4.8,6.9,4.6,16.1-0.4,22.9c-5.4,7.2-14.2,9.9-23.1,6.5c-2.3-0.9-3.5-0.6-5.1,1.1\n",
       "                    c-6.7,6.9-13.6,13.7-20.5,20.4c-1.8,1.8-2.5,3.2-1.4,5.9c3.5,8.7,0.3,18.6-7.7,23.6c-7.9,5-18.2,3.8-24.8-2.9\n",
       "                    c-6.4-6.4-7.4-16.2-2.5-24.3c4.9-7.8,14.5-11,23.1-7.8c3,1.1,4.7,0.5,6.9-1.7C91.7,98.4,98,92.3,104.2,86c1.6-1.6,4.1-2.7,2.6-6.2\n",
       "                    c-1.4-3.3-3.8-2.5-6.2-2.6C99.8,77.2,98.9,77.2,97.3,77.2z M72.1,29.7c5.5,0.1,9.9-4.3,10-9.8c0-0.1,0-0.2,0-0.3\n",
       "                    C81.8,14,77,9.8,71.5,10.2c-5,0.3-9,4.2-9.3,9.2c-0.2,5.5,4,10.1,9.5,10.3C71.8,29.7,72,29.7,72.1,29.7z M72.3,62.3\n",
       "                    c-5.4-0.1-9.9,4.2-10.1,9.7c0,0.2,0,0.3,0,0.5c0.2,5.4,4.5,9.7,9.9,10c5.1,0.1,9.9-4.7,10.1-9.8c0.2-5.5-4-10-9.5-10.3\n",
       "                    C72.6,62.3,72.4,62.3,72.3,62.3z M115,72.5c0.1,5.4,4.5,9.7,9.8,9.9c5.6-0.2,10-4.8,10-10.4c-0.2-5.4-4.6-9.7-10-9.7\n",
       "                    c-5.3-0.1-9.8,4.2-9.9,9.5C115,72.1,115,72.3,115,72.5z M19.5,62.3c-5.4,0.1-9.8,4.4-10,9.8c-0.1,5.1,5.2,10.4,10.2,10.3\n",
       "                    c5.6-0.2,10-4.9,9.8-10.5c-0.1-5.4-4.5-9.7-9.9-9.6C19.6,62.3,19.5,62.3,19.5,62.3z M71.8,134.6c5.9,0.2,10.3-3.9,10.4-9.6\n",
       "                    c0.5-5.5-3.6-10.4-9.1-10.8c-5.5-0.5-10.4,3.6-10.8,9.1c0,0.5,0,0.9,0,1.4c-0.2,5.3,4,9.8,9.3,10\n",
       "                    C71.6,134.6,71.7,134.6,71.8,134.6z\"/>\n",
       "            </g>\n",
       "        </svg>\n",
       "        <table>\n",
       "            <tr>\n",
       "                <td style=\"text-align: left\"><b>Python version:</b></td>\n",
       "                <td style=\"text-align: left\"><b>3.8.15</b></td>\n",
       "            </tr>\n",
       "            <tr>\n",
       "                <td style=\"text-align: left\"><b>Ray version:</b></td>\n",
       "                <td style=\"text-align: left\"><b> 3.0.0.dev0</b></td>\n",
       "            </tr>\n",
       "            <tr>\n",
       "    <td style=\"text-align: left\"><b>Dashboard:</b></td>\n",
       "    <td style=\"text-align: left\"><b><a href=\"http://127.0.0.1:8265\" target=\"_blank\">http://127.0.0.1:8265</a></b></td>\n",
       "</tr>\n",
       "\n",
       "        </table>\n",
       "    </div>\n",
       "</div>\n"
      ],
      "text/plain": [
       "RayContext(dashboard_url='127.0.0.1:8265', python_version='3.8.15', ray_version='3.0.0.dev0', ray_commit='3e18487d7427a3ffcea9fecd5c79ca3e81fb92d0', address_info={'node_ip_address': '127.0.0.1', 'raylet_ip_address': '127.0.0.1', 'redis_address': None, 'object_store_address': 'tcp://127.0.0.1:20776', 'raylet_socket_name': 'tcp://127.0.0.1:4624', 'webui_url': '127.0.0.1:8265', 'session_dir': 'C:\\\\Users\\\\TeamD\\\\AppData\\\\Local\\\\Temp\\\\ray\\\\session_2023-01-15_18-59-01_766492_13316', 'metrics_export_port': 52403, 'gcs_address': '127.0.0.1:35587', 'address': '127.0.0.1:35587', 'dashboard_agent_listen_port': 52365, 'node_id': '5bde3506b6bba30671eaa06eb6392e72b9c60fb409fbc219647c1ae9'})"
      ]
     },
     "execution_count": 2,
     "metadata": {},
     "output_type": "execute_result"
    }
   ],
   "source": [
    "if ray.is_initialized():\n",
    "    ray.shutdown()\n",
    "ray.init(num_gpus=1, local_mode=False)"
   ]
  },
  {
   "cell_type": "code",
   "execution_count": 3,
   "metadata": {},
   "outputs": [
    {
     "name": "stdout",
     "output_type": "stream",
     "text": [
      "Platoon-v5 \n",
      "------------------\n",
      "reward_threshold None\n",
      "max_episode_steps None\n"
     ]
    }
   ],
   "source": [
    "# env config\n",
    "import gymnasium as gym\n",
    "import platoonenv\n",
    "\n",
    "env_name = \"Platoon-v5\"\n",
    "env_config=dict(\n",
    "    num_vehicles=20,\n",
    "    steps_before_truncation=200,\n",
    "    cycle_interval=1,\n",
    "    cycle_num=1,\n",
    "    attack_interval=1,\n",
    ")\n",
    "env = gym.make(\n",
    "    id=env_name,\n",
    "    render_mode=\"canvas\",\n",
    "    env_config=env_config,\n",
    ")\n",
    "\n",
    "print(env_name,\"\\n------------------\")\n",
    "print(\"reward_threshold\", env.spec.reward_threshold)\n",
    "print(\"max_episode_steps\", env.spec.max_episode_steps)"
   ]
  },
  {
   "cell_type": "code",
   "execution_count": 4,
   "metadata": {},
   "outputs": [
    {
     "data": {
      "application/vnd.jupyter.widget-view+json": {
       "model_id": "10a5803a47d44785abf13d533e2e5b0f",
       "version_major": 2,
       "version_minor": 0
      },
      "text/plain": [
       "Canvas(height=5512, width=2520)"
      ]
     },
     "metadata": {},
     "output_type": "display_data"
    }
   ],
   "source": [
    "# env preview\n",
    "env.reset()\n",
    "rewards = [] \n",
    "for step in count():\n",
    "    action = env.action_space.sample()\n",
    "    obs, reward, done, trunc, info = env.step(action)\n",
    "    rewards.append(float(reward))\n",
    "    # sleep(0.02)\n",
    "    if done or trunc:\n",
    "        break\n",
    "\n",
    "clear_output()\n",
    "display(env.render())"
   ]
  },
  {
   "cell_type": "code",
   "execution_count": 5,
   "metadata": {},
   "outputs": [
    {
     "name": "stdout",
     "output_type": "stream",
     "text": [
      "finished with -2.1379999999999986 reward, -0.01063681592039801 mean reward, -0.007 max reward, 200 steps\n",
      "[-0.0095, -0.0095, -0.009, -0.009, -0.0085, -0.0085, -0.0085, -0.0085, -0.008, -0.0085]\n",
      "[-0.0095, -0.0105, -0.0105, -0.01, -0.01, -0.011, -0.011, -0.0105, -0.0105, -0.0085]\n"
     ]
    }
   ],
   "source": [
    "from statistics import mean\n",
    "print(f\"finished with {sum(rewards)} reward, {mean(rewards)} mean reward, {max(rewards)} max reward, {step} steps\")\n",
    "print(rewards[:10])\n",
    "print(rewards[-10:])"
   ]
  },
  {
   "cell_type": "code",
   "execution_count": 6,
   "metadata": {},
   "outputs": [
    {
     "name": "stderr",
     "output_type": "stream",
     "text": [
      "2023-01-15 18:59:08,695\tWARNING env.py:166 -- Your env reset() method appears to take 'seed' or 'return_info' arguments. Note that these are not yet supported in RLlib. Seeding will take place using 'env.seed()' and the info dict will not be returned from reset.\n"
     ]
    }
   ],
   "source": [
    "from ray.rllib.utils import check_env\n",
    "\n",
    "check_env(env)"
   ]
  },
  {
   "cell_type": "code",
   "execution_count": 7,
   "metadata": {},
   "outputs": [],
   "source": [
    "from ray.rllib.algorithms.ppo import PPOConfig\n",
    "from ray.rllib.algorithms.dqn import DQNConfig\n",
    "\n",
    "config = (\n",
    "    PPOConfig()\n",
    "    .environment(env=env_name, env_config=env_config)\n",
    "    .framework(\"torch\")\n",
    "    .rollouts(num_rollout_workers=10)\n",
    "    # .rollouts(num_rollout_workers=0) # curiosity doesn't support parallelism\n",
    "    .resources(num_gpus=1)\n",
    "    # .exploration( # https://docs.ray.io/en/latest/rllib/rllib-algorithms.html#curiosity-icm-intrinsic-curiosity-module\n",
    "    #     exploration_config={\n",
    "    #         \"type\": \"Curiosity\",  # <- Use the Curiosity module for exploring.\n",
    "    #         \"eta\": 1.0,  # Weight for intrinsic rewards before being added to extrinsic ones.\n",
    "    #         \"lr\": 0.001,  # Learning rate of the curiosity (ICM) module.\n",
    "    #         \"feature_dim\": 288,  # Dimensionality of the generated feature vectors.\n",
    "    #         # Setup of the feature net (used to encode observations into feature (latent) vectors).\n",
    "    #         \"feature_net_config\": {\n",
    "    #             \"fcnet_hiddens\": [],\n",
    "    #             \"fcnet_activation\": \"relu\",\n",
    "    #         },\n",
    "    #         \"inverse_net_hiddens\": [256],  # Hidden layers of the \"inverse\" model.\n",
    "    #         \"inverse_net_activation\": \"relu\",  # Activation of the \"inverse\" model.\n",
    "    #         \"forward_net_hiddens\": [256],  # Hidden layers of the \"forward\" model.\n",
    "    #         \"forward_net_activation\": \"relu\",  # Activation of the \"forward\" model.\n",
    "    #         \"beta\": 0.2,  # Weight for the \"forward\" loss (beta) over the \"inverse\" loss (1.0 - beta).\n",
    "    #         # Specify, which exploration sub-type to use (usually, the algo's \"default\"\n",
    "    #         # exploration, e.g. EpsilonGreedy for DQN, StochasticSampling for PG/SAC).\n",
    "    #         \"sub_exploration\": {\n",
    "    #             \"type\": \"StochasticSampling\",\n",
    "    #         }\n",
    "    #     }\n",
    "    # )\n",
    ")\n",
    "config.horizon = env.spec.max_episode_steps\n",
    "config.lr = 0.0001\n",
    "config.create_env_on_local_worker=True"
   ]
  },
  {
   "cell_type": "code",
   "execution_count": 8,
   "metadata": {},
   "outputs": [
    {
     "name": "stderr",
     "output_type": "stream",
     "text": [
      "\u001b[2m\u001b[36m(RolloutWorker pid=2560)\u001b[0m 2023-01-15 18:59:21,185\tWARNING env.py:166 -- Your env reset() method appears to take 'seed' or 'return_info' arguments. Note that these are not yet supported in RLlib. Seeding will take place using 'env.seed()' and the info dict will not be returned from reset.\n",
      "\u001b[2m\u001b[36m(RolloutWorker pid=2560)\u001b[0m 2023-01-15 18:59:21,238\tINFO policy.py:1196 -- Policy (worker=1) running on CPU.\n",
      "\u001b[2m\u001b[36m(RolloutWorker pid=2560)\u001b[0m 2023-01-15 18:59:21,239\tINFO torch_policy_v2.py:110 -- Found 1 visible cuda devices.\n",
      "\u001b[2m\u001b[36m(RolloutWorker pid=7248)\u001b[0m 2023-01-15 18:59:21,342\tINFO policy.py:1196 -- Policy (worker=2) running on CPU.\n",
      "\u001b[2m\u001b[36m(RolloutWorker pid=7248)\u001b[0m 2023-01-15 18:59:21,342\tINFO torch_policy_v2.py:110 -- Found 1 visible cuda devices.\n",
      "\u001b[2m\u001b[36m(RolloutWorker pid=22744)\u001b[0m 2023-01-15 18:59:21,355\tINFO policy.py:1196 -- Policy (worker=10) running on CPU.\n",
      "\u001b[2m\u001b[36m(RolloutWorker pid=22744)\u001b[0m 2023-01-15 18:59:21,355\tINFO torch_policy_v2.py:110 -- Found 1 visible cuda devices.\n",
      "\u001b[2m\u001b[36m(RolloutWorker pid=10520)\u001b[0m 2023-01-15 18:59:21,335\tINFO policy.py:1196 -- Policy (worker=9) running on CPU.\n",
      "\u001b[2m\u001b[36m(RolloutWorker pid=10520)\u001b[0m 2023-01-15 18:59:21,336\tINFO torch_policy_v2.py:110 -- Found 1 visible cuda devices.\n",
      "\u001b[2m\u001b[36m(RolloutWorker pid=9184)\u001b[0m 2023-01-15 18:59:21,446\tINFO policy.py:1196 -- Policy (worker=3) running on CPU.\n",
      "\u001b[2m\u001b[36m(RolloutWorker pid=9184)\u001b[0m 2023-01-15 18:59:21,446\tINFO torch_policy_v2.py:110 -- Found 1 visible cuda devices.\n",
      "\u001b[2m\u001b[36m(RolloutWorker pid=19324)\u001b[0m 2023-01-15 18:59:21,432\tINFO policy.py:1196 -- Policy (worker=7) running on CPU.\n",
      "\u001b[2m\u001b[36m(RolloutWorker pid=19324)\u001b[0m 2023-01-15 18:59:21,433\tINFO torch_policy_v2.py:110 -- Found 1 visible cuda devices.\n",
      "\u001b[2m\u001b[36m(RolloutWorker pid=23900)\u001b[0m 2023-01-15 18:59:21,480\tINFO policy.py:1196 -- Policy (worker=6) running on CPU.\n",
      "\u001b[2m\u001b[36m(RolloutWorker pid=23900)\u001b[0m 2023-01-15 18:59:21,480\tINFO torch_policy_v2.py:110 -- Found 1 visible cuda devices.\n",
      "\u001b[2m\u001b[36m(RolloutWorker pid=6336)\u001b[0m 2023-01-15 18:59:21,477\tINFO policy.py:1196 -- Policy (worker=5) running on CPU.\n",
      "\u001b[2m\u001b[36m(RolloutWorker pid=6336)\u001b[0m 2023-01-15 18:59:21,477\tINFO torch_policy_v2.py:110 -- Found 1 visible cuda devices.\n",
      "\u001b[2m\u001b[36m(RolloutWorker pid=23872)\u001b[0m 2023-01-15 18:59:21,476\tINFO policy.py:1196 -- Policy (worker=8) running on CPU.\n",
      "\u001b[2m\u001b[36m(RolloutWorker pid=23872)\u001b[0m 2023-01-15 18:59:21,476\tINFO torch_policy_v2.py:110 -- Found 1 visible cuda devices.\n",
      "\u001b[2m\u001b[36m(RolloutWorker pid=13764)\u001b[0m 2023-01-15 18:59:21,489\tINFO policy.py:1196 -- Policy (worker=4) running on CPU.\n",
      "\u001b[2m\u001b[36m(RolloutWorker pid=13764)\u001b[0m 2023-01-15 18:59:21,489\tINFO torch_policy_v2.py:110 -- Found 1 visible cuda devices.\n",
      "2023-01-15 18:59:21,542\tINFO policy.py:1196 -- Policy (worker=local) running on 1 GPUs.\n",
      "2023-01-15 18:59:21,543\tINFO torch_policy_v2.py:110 -- Found 1 visible cuda devices.\n",
      "2023-01-15 18:59:23,572\tINFO rollout_worker.py:2037 -- Built policy map: <PolicyMap lru-caching-capacity=100 policy-IDs=['default_policy']>\n",
      "2023-01-15 18:59:23,572\tINFO rollout_worker.py:2038 -- Built preprocessor map: {'default_policy': <ray.rllib.models.preprocessors.NoPreprocessor object at 0x000002491571CA60>}\n",
      "2023-01-15 18:59:23,573\tINFO rollout_worker.py:757 -- Built filter map: defaultdict(<class 'ray.rllib.utils.filter.NoFilter'>, {'default_policy': <ray.rllib.utils.filter.NoFilter object at 0x0000024915A81EE0>})\n",
      "2023-01-15 18:59:23,591\tINFO trainable.py:172 -- Trainable.setup took 14.642 seconds. If your trainable is slow to initialize, consider setting reuse_actors=True to reduce actor creation overheads.\n"
     ]
    }
   ],
   "source": [
    "algo = config.build()"
   ]
  },
  {
   "cell_type": "code",
   "execution_count": 9,
   "metadata": {},
   "outputs": [
    {
     "data": {
      "text/plain": [
       "{'num_vehicles': 20,\n",
       " 'steps_before_truncation': 200,\n",
       " 'cycle_interval': 1,\n",
       " 'cycle_num': 1,\n",
       " 'attack_interval': 1}"
      ]
     },
     "execution_count": 9,
     "metadata": {},
     "output_type": "execute_result"
    }
   ],
   "source": [
    "config.env_config"
   ]
  },
  {
   "cell_type": "code",
   "execution_count": 10,
   "metadata": {},
   "outputs": [
    {
     "data": {
      "text/plain": [
       "{'extra_python_environs_for_driver': {},\n",
       " 'extra_python_environs_for_worker': {},\n",
       " 'num_gpus': 1,\n",
       " 'num_cpus_per_worker': 1,\n",
       " 'num_gpus_per_worker': 0,\n",
       " '_fake_gpus': False,\n",
       " 'custom_resources_per_worker': {},\n",
       " 'placement_strategy': 'PACK',\n",
       " 'eager_tracing': False,\n",
       " 'eager_max_retraces': 20,\n",
       " 'tf_session_args': {'intra_op_parallelism_threads': 2,\n",
       "  'inter_op_parallelism_threads': 2,\n",
       "  'gpu_options': {'allow_growth': True},\n",
       "  'log_device_placement': False,\n",
       "  'device_count': {'CPU': 1},\n",
       "  'allow_soft_placement': True},\n",
       " 'local_tf_session_args': {'intra_op_parallelism_threads': 8,\n",
       "  'inter_op_parallelism_threads': 8},\n",
       " 'env': 'Platoon-v5',\n",
       " 'env_config': {'num_vehicles': 20,\n",
       "  'steps_before_truncation': 200,\n",
       "  'cycle_interval': 1,\n",
       "  'cycle_num': 1,\n",
       "  'attack_interval': 1},\n",
       " 'observation_space': None,\n",
       " 'action_space': None,\n",
       " 'env_task_fn': None,\n",
       " 'render_env': False,\n",
       " 'clip_rewards': None,\n",
       " 'normalize_actions': True,\n",
       " 'clip_actions': False,\n",
       " 'disable_env_checking': False,\n",
       " 'is_atari': None,\n",
       " 'num_envs_per_worker': 1,\n",
       " 'sample_collector': ray.rllib.evaluation.collectors.simple_list_collector.SimpleListCollector,\n",
       " 'sample_async': False,\n",
       " 'enable_connectors': False,\n",
       " 'rollout_fragment_length': 'auto',\n",
       " 'batch_mode': 'truncate_episodes',\n",
       " 'remote_worker_envs': False,\n",
       " 'remote_env_batch_wait_ms': 0,\n",
       " 'validate_workers_after_construction': True,\n",
       " 'ignore_worker_failures': False,\n",
       " 'recreate_failed_workers': False,\n",
       " 'restart_failed_sub_environments': False,\n",
       " 'num_consecutive_worker_failures_tolerance': 100,\n",
       " 'preprocessor_pref': 'deepmind',\n",
       " 'observation_filter': 'NoFilter',\n",
       " 'synchronize_filters': True,\n",
       " 'compress_observations': False,\n",
       " 'enable_tf1_exec_eagerly': False,\n",
       " 'sampler_perf_stats_ema_coef': None,\n",
       " 'gamma': 0.99,\n",
       " 'lr': 0.0001,\n",
       " 'train_batch_size': 4000,\n",
       " 'model': {'_disable_preprocessor_api': False,\n",
       "  '_disable_action_flattening': False,\n",
       "  'fcnet_hiddens': [256, 256],\n",
       "  'fcnet_activation': 'tanh',\n",
       "  'conv_filters': None,\n",
       "  'conv_activation': 'relu',\n",
       "  'post_fcnet_hiddens': [],\n",
       "  'post_fcnet_activation': 'relu',\n",
       "  'free_log_std': False,\n",
       "  'no_final_linear': False,\n",
       "  'vf_share_layers': False,\n",
       "  'use_lstm': False,\n",
       "  'max_seq_len': 20,\n",
       "  'lstm_cell_size': 256,\n",
       "  'lstm_use_prev_action': False,\n",
       "  'lstm_use_prev_reward': False,\n",
       "  '_time_major': False,\n",
       "  'use_attention': False,\n",
       "  'attention_num_transformer_units': 1,\n",
       "  'attention_dim': 64,\n",
       "  'attention_num_heads': 1,\n",
       "  'attention_head_dim': 32,\n",
       "  'attention_memory_inference': 50,\n",
       "  'attention_memory_training': 50,\n",
       "  'attention_position_wise_mlp_dim': 32,\n",
       "  'attention_init_gru_gate_bias': 2.0,\n",
       "  'attention_use_n_prev_actions': 0,\n",
       "  'attention_use_n_prev_rewards': 0,\n",
       "  'framestack': True,\n",
       "  'dim': 84,\n",
       "  'grayscale': False,\n",
       "  'zero_mean': True,\n",
       "  'custom_model': None,\n",
       "  'custom_model_config': {},\n",
       "  'custom_action_dist': None,\n",
       "  'custom_preprocessor': None,\n",
       "  'lstm_use_prev_action_reward': -1,\n",
       "  '_use_default_native_models': -1},\n",
       " 'optimizer': {},\n",
       " 'max_requests_in_flight_per_sampler_worker': 2,\n",
       " 'explore': True,\n",
       " 'exploration_config': {'type': 'StochasticSampling'},\n",
       " 'policies': {'default_policy': <ray.rllib.policy.policy.PolicySpec at 0x24915e2ea30>},\n",
       " 'policy_states_are_swappable': False,\n",
       " 'input_config': {},\n",
       " 'actions_in_input_normalized': False,\n",
       " 'postprocess_inputs': False,\n",
       " 'shuffle_buffer_size': 0,\n",
       " 'output': None,\n",
       " 'output_config': {},\n",
       " 'output_compress_columns': ['obs', 'new_obs'],\n",
       " 'output_max_file_size': 67108864,\n",
       " 'offline_sampling': False,\n",
       " 'evaluation_interval': None,\n",
       " 'evaluation_duration': 10,\n",
       " 'evaluation_duration_unit': 'episodes',\n",
       " 'evaluation_sample_timeout_s': 180.0,\n",
       " 'evaluation_parallel_to_training': False,\n",
       " 'evaluation_config': None,\n",
       " 'off_policy_estimation_methods': {},\n",
       " 'ope_split_batch_by_episode': True,\n",
       " 'evaluation_num_workers': 0,\n",
       " 'always_attach_evaluation_results': False,\n",
       " 'enable_async_evaluation': False,\n",
       " 'in_evaluation': False,\n",
       " 'sync_filters_on_rollout_workers_timeout_s': 60.0,\n",
       " 'keep_per_episode_custom_metrics': False,\n",
       " 'metrics_episode_collection_timeout_s': 60.0,\n",
       " 'metrics_num_episodes_for_smoothing': 100,\n",
       " 'min_time_s_per_iteration': None,\n",
       " 'min_train_timesteps_per_iteration': 0,\n",
       " 'min_sample_timesteps_per_iteration': 0,\n",
       " 'export_native_model_files': False,\n",
       " 'checkpoint_trainable_policies_only': False,\n",
       " 'logger_creator': None,\n",
       " 'logger_config': None,\n",
       " 'log_level': -1,\n",
       " 'log_sys_usage': True,\n",
       " 'fake_sampler': False,\n",
       " 'seed': None,\n",
       " 'worker_cls': None,\n",
       " 'rl_module_class': None,\n",
       " '_enable_rl_module_api': False,\n",
       " '_tf_policy_handles_more_than_one_loss': False,\n",
       " '_disable_preprocessor_api': False,\n",
       " '_disable_action_flattening': False,\n",
       " '_disable_execution_plan_api': True,\n",
       " 'simple_optimizer': -1,\n",
       " 'replay_sequence_length': None,\n",
       " 'horizon': None,\n",
       " 'soft_horizon': -1,\n",
       " 'no_done_at_end': -1,\n",
       " 'lr_schedule': None,\n",
       " 'use_critic': True,\n",
       " 'use_gae': True,\n",
       " 'kl_coeff': 0.2,\n",
       " 'sgd_minibatch_size': 128,\n",
       " 'num_sgd_iter': 30,\n",
       " 'shuffle_sequences': True,\n",
       " 'vf_loss_coeff': 1.0,\n",
       " 'entropy_coeff': 0.0,\n",
       " 'entropy_coeff_schedule': None,\n",
       " 'clip_param': 0.3,\n",
       " 'vf_clip_param': 10.0,\n",
       " 'grad_clip': None,\n",
       " 'kl_target': 0.01,\n",
       " 'vf_share_layers': -1,\n",
       " 'lambda': 1.0,\n",
       " 'input': 'sampler',\n",
       " 'multiagent': {'policies': {'default_policy': (None, None, None, None)},\n",
       "  'policy_mapping_fn': <function ray.rllib.algorithms.algorithm_config.AlgorithmConfig.__init__.<locals>.<lambda>(aid, episode, worker, **kwargs)>,\n",
       "  'policies_to_train': None,\n",
       "  'policy_map_capacity': 100,\n",
       "  'policy_map_cache': -1,\n",
       "  'count_steps_by': 'env_steps',\n",
       "  'observation_fn': None},\n",
       " 'callbacks': ray.rllib.algorithms.callbacks.DefaultCallbacks,\n",
       " 'create_env_on_driver': True,\n",
       " 'custom_eval_function': None,\n",
       " 'framework': 'torch',\n",
       " 'num_cpus_for_driver': 1,\n",
       " 'num_workers': 10}"
      ]
     },
     "execution_count": 10,
     "metadata": {},
     "output_type": "execute_result"
    }
   ],
   "source": [
    "config.to_dict()"
   ]
  },
  {
   "cell_type": "code",
   "execution_count": 11,
   "metadata": {},
   "outputs": [
    {
     "ename": "IndexError",
     "evalue": "list index out of range",
     "output_type": "error",
     "traceback": [
      "\u001b[1;31m---------------------------------------------------------------------------\u001b[0m",
      "\u001b[1;31mIndexError\u001b[0m                                Traceback (most recent call last)",
      "Cell \u001b[1;32mIn[11], line 7\u001b[0m\n\u001b[0;32m      4\u001b[0m save_dir\u001b[39m.\u001b[39mmkdir(parents\u001b[39m=\u001b[39m\u001b[39mTrue\u001b[39;00m, exist_ok\u001b[39m=\u001b[39m\u001b[39mTrue\u001b[39;00m)\n\u001b[0;32m      6\u001b[0m checkpoints \u001b[39m=\u001b[39m \u001b[39msorted\u001b[39m(glob(\u001b[39mstr\u001b[39m(Path(\u001b[39m\"\u001b[39m\u001b[39msaved_models\u001b[39m\u001b[39m\"\u001b[39m,\u001b[39m\"\u001b[39m\u001b[39m**\u001b[39m\u001b[39m\"\u001b[39m,\u001b[39m\"\u001b[39m\u001b[39mcheckpoint_*\u001b[39m\u001b[39m\"\u001b[39m))))\n\u001b[1;32m----> 7\u001b[0m checkpoint_path \u001b[39m=\u001b[39m \u001b[39msorted\u001b[39;49m(glob(\u001b[39mstr\u001b[39;49m(save_dir \u001b[39m/\u001b[39;49m \u001b[39m\"\u001b[39;49m\u001b[39m*\u001b[39;49m\u001b[39m\"\u001b[39;49m)))[\u001b[39m-\u001b[39;49m\u001b[39m1\u001b[39;49m]\n\u001b[0;32m      9\u001b[0m w \u001b[39m=\u001b[39m widgets\u001b[39m.\u001b[39mDropdown(\n\u001b[0;32m     10\u001b[0m     layout\u001b[39m=\u001b[39m{\u001b[39m'\u001b[39m\u001b[39mwidth\u001b[39m\u001b[39m'\u001b[39m: \u001b[39m'\u001b[39m\u001b[39minitial\u001b[39m\u001b[39m'\u001b[39m},\n\u001b[0;32m     11\u001b[0m     options\u001b[39m=\u001b[39mcheckpoints,\n\u001b[0;32m     12\u001b[0m     value\u001b[39m=\u001b[39mcheckpoint_path,\n\u001b[0;32m     13\u001b[0m     description\u001b[39m=\u001b[39m\u001b[39m'\u001b[39m\u001b[39mCheckpoint:\u001b[39m\u001b[39m'\u001b[39m\n\u001b[0;32m     14\u001b[0m )\n\u001b[0;32m     16\u001b[0m \u001b[39mdef\u001b[39;00m \u001b[39mon_change\u001b[39m(change):\n",
      "\u001b[1;31mIndexError\u001b[0m: list index out of range"
     ]
    }
   ],
   "source": [
    "import ipywidgets as widgets\n",
    "\n",
    "save_dir = Path(\"saved_models\",f\"{env_name}-curious-{env_config['num_vehicles']}vehicles\")\n",
    "save_dir.mkdir(parents=True, exist_ok=True)\n",
    "\n",
    "checkpoints = sorted(glob(str(Path(\"saved_models\",\"**\",\"checkpoint_*\"))))\n",
    "checkpoint_path = sorted(glob(str(save_dir / \"*\")))[-1]\n",
    "\n",
    "w = widgets.Dropdown(\n",
    "    layout={'width': 'initial'},\n",
    "    options=checkpoints,\n",
    "    value=checkpoint_path,\n",
    "    description='Checkpoint:'\n",
    ")\n",
    "\n",
    "def on_change(change):\n",
    "    global checkpoint_path\n",
    "    if change['type'] == 'change' and change['name'] == 'value':\n",
    "        print(\"changed to %s\" % change['new'])\n",
    "        checkpoint_path = change['new']\n",
    "\n",
    "w.observe(on_change)\n",
    "display(w)\n"
   ]
  },
  {
   "cell_type": "code",
   "execution_count": null,
   "metadata": {},
   "outputs": [
    {
     "name": "stderr",
     "output_type": "stream",
     "text": [
      "2023-01-15 11:28:11,779\tINFO trainable.py:790 -- Restored on 127.0.0.1 from checkpoint: saved_models\\Platoon-v4-curious-20vehicles\\checkpoint_000288\n",
      "2023-01-15 11:28:11,780\tINFO trainable.py:799 -- Current state after restoring: {'_iteration': 288, '_timesteps_total': None, '_time_total': 4482.512967348099, '_episodes_total': 46310}\n"
     ]
    },
    {
     "name": "stdout",
     "output_type": "stream",
     "text": [
      "Restoring from checkpoint: saved_models\\Platoon-v4-curious-20vehicles\\checkpoint_000288\n"
     ]
    }
   ],
   "source": [
    "print(f\"Restoring from checkpoint: {checkpoint_path}\")\n",
    "algo.restore(checkpoint_path)"
   ]
  },
  {
   "attachments": {},
   "cell_type": "markdown",
   "metadata": {},
   "source": [
    "# Training"
   ]
  },
  {
   "cell_type": "code",
   "execution_count": 12,
   "metadata": {},
   "outputs": [],
   "source": [
    "def plot(rewards_history):\n",
    "    clear_output(True)\n",
    "    plt.figure(figsize=(12, 5))\n",
    "    plt.title(\"Training...\")\n",
    "    plt.xlabel(\"Step\")\n",
    "    plt.ylabel(\"Rewards\")\n",
    "    plt.plot([x[\"episode_reward_mean\"] for x in rewards_history])\n",
    "    plt.show()"
   ]
  },
  {
   "cell_type": "code",
   "execution_count": 13,
   "metadata": {},
   "outputs": [],
   "source": [
    "results_history = []"
   ]
  },
  {
   "cell_type": "code",
   "execution_count": 29,
   "metadata": {},
   "outputs": [
    {
     "data": {
      "application/vnd.jupyter.widget-view+json": {
       "model_id": "0c0647b0206242d7be716895a6dc4c83",
       "version_major": 2,
       "version_minor": 0
      },
      "text/plain": [
       "Dropdown(description='Skip training?', options=(True, False), value=True)"
      ]
     },
     "metadata": {},
     "output_type": "display_data"
    },
    {
     "name": "stdout",
     "output_type": "stream",
     "text": [
      "changed to False\n"
     ]
    }
   ],
   "source": [
    "skip_training = True\n",
    "w = widgets.Dropdown(\n",
    "    value=skip_training,\n",
    "    description=\"Skip training?\",\n",
    "    options=[True, False],\n",
    ")\n",
    "def on_change(change):\n",
    "    global skip_training\n",
    "    if change['type'] == 'change' and change['name'] == 'value':\n",
    "        print(\"changed to %s\" % change['new'])\n",
    "        skip_training = change['new']\n",
    "w.observe(on_change)\n",
    "display(w)"
   ]
  },
  {
   "cell_type": "code",
   "execution_count": 30,
   "metadata": {},
   "outputs": [
    {
     "name": "stderr",
     "output_type": "stream",
     "text": [
      "  0%|          | 0/500 [00:00<?, ?it/s]\u001b[2m\u001b[36m(RolloutWorker pid=2560)\u001b[0m 2023-01-15 19:02:59,861\tINFO rollout_worker.py:905 -- Generating sample batch of size 400\n",
      "\u001b[2m\u001b[36m(RolloutWorker pid=2560)\u001b[0m 2023-01-15 19:02:59,862\tINFO sampler.py:610 -- Raw obs from env: { 0: { 'agent0': np.ndarray((80,), dtype=float32, min=-6.0, max=0.986, mean=-0.879)}}\n",
      "\u001b[2m\u001b[36m(RolloutWorker pid=2560)\u001b[0m 2023-01-15 19:02:59,863\tINFO sampler.py:611 -- Info return from env: { 0: { 'agent0': { 'modes': np.ndarray((20,), dtype=float32, min=0.0, max=0.0, mean=0.0),\n",
      "\u001b[2m\u001b[36m(RolloutWorker pid=2560)\u001b[0m                    'probs': np.ndarray((20,), dtype=float32, min=0.025, max=0.986, mean=0.535),\n",
      "\u001b[2m\u001b[36m(RolloutWorker pid=2560)\u001b[0m                    'state': np.ndarray((20,), dtype=float32, min=0.0, max=0.0, mean=0.0),\n",
      "\u001b[2m\u001b[36m(RolloutWorker pid=2560)\u001b[0m                    'values': np.ndarray((20,), dtype=float32, min=-6.0, max=-3.0, mean=-4.05)}}}\n",
      "\u001b[2m\u001b[36m(RolloutWorker pid=2560)\u001b[0m 2023-01-15 19:02:59,863\tINFO sampler.py:853 -- Preprocessed obs: np.ndarray((80,), dtype=float32, min=-6.0, max=0.986, mean=-0.879)\n",
      "\u001b[2m\u001b[36m(RolloutWorker pid=2560)\u001b[0m 2023-01-15 19:02:59,863\tINFO sampler.py:858 -- Filtered obs: np.ndarray((80,), dtype=float32, min=-6.0, max=0.986, mean=-0.879)\n",
      "\u001b[2m\u001b[36m(RolloutWorker pid=2560)\u001b[0m 2023-01-15 19:02:59,865\tINFO sampler.py:1144 -- Inputs to compute_actions():\n",
      "\u001b[2m\u001b[36m(RolloutWorker pid=2560)\u001b[0m \n",
      "\u001b[2m\u001b[36m(RolloutWorker pid=2560)\u001b[0m { 'default_policy': [ { 'data': { 'agent_id': 'agent0',\n",
      "\u001b[2m\u001b[36m(RolloutWorker pid=2560)\u001b[0m                                   'env_id': 0,\n",
      "\u001b[2m\u001b[36m(RolloutWorker pid=2560)\u001b[0m                                   'info': { 'modes': np.ndarray((20,), dtype=float32, min=0.0, max=0.0, mean=0.0),\n",
      "\u001b[2m\u001b[36m(RolloutWorker pid=2560)\u001b[0m                                             'probs': np.ndarray((20,), dtype=float32, min=0.025, max=0.986, mean=0.535),\n",
      "\u001b[2m\u001b[36m(RolloutWorker pid=2560)\u001b[0m                                             'state': np.ndarray((20,), dtype=float32, min=0.0, max=0.0, mean=0.0),\n",
      "\u001b[2m\u001b[36m(RolloutWorker pid=2560)\u001b[0m                                             'values': np.ndarray((20,), dtype=float32, min=-6.0, max=-3.0, mean=-4.05)},\n",
      "\u001b[2m\u001b[36m(RolloutWorker pid=2560)\u001b[0m                                   'obs': np.ndarray((80,), dtype=float32, min=-6.0, max=0.986, mean=-0.879),\n",
      "\u001b[2m\u001b[36m(RolloutWorker pid=2560)\u001b[0m                                   'prev_action': None,\n",
      "\u001b[2m\u001b[36m(RolloutWorker pid=2560)\u001b[0m                                   'prev_reward': 0.0,\n",
      "\u001b[2m\u001b[36m(RolloutWorker pid=2560)\u001b[0m                                   'rnn_state': None},\n",
      "\u001b[2m\u001b[36m(RolloutWorker pid=2560)\u001b[0m                         'type': '_PolicyEvalData'}]}\n",
      "\u001b[2m\u001b[36m(RolloutWorker pid=2560)\u001b[0m \n",
      "\u001b[2m\u001b[36m(RolloutWorker pid=2560)\u001b[0m 2023-01-15 19:02:59,868\tINFO sampler.py:1171 -- Outputs of compute_actions():\n",
      "\u001b[2m\u001b[36m(RolloutWorker pid=2560)\u001b[0m \n",
      "\u001b[2m\u001b[36m(RolloutWorker pid=2560)\u001b[0m { 'default_policy': ( np.ndarray((1,), dtype=int64, min=15.0, max=15.0, mean=15.0),\n",
      "\u001b[2m\u001b[36m(RolloutWorker pid=2560)\u001b[0m                       [],\n",
      "\u001b[2m\u001b[36m(RolloutWorker pid=2560)\u001b[0m                       { 'action_dist_inputs': np.ndarray((1, 21), dtype=float32, min=-0.007, max=0.015, mean=0.002),\n",
      "\u001b[2m\u001b[36m(RolloutWorker pid=2560)\u001b[0m                         'action_logp': np.ndarray((1,), dtype=float32, min=-3.045, max=-3.045, mean=-3.045),\n",
      "\u001b[2m\u001b[36m(RolloutWorker pid=2560)\u001b[0m                         'action_prob': np.ndarray((1,), dtype=float32, min=0.048, max=0.048, mean=0.048),\n",
      "\u001b[2m\u001b[36m(RolloutWorker pid=2560)\u001b[0m                         'vf_preds': np.ndarray((1,), dtype=float32, min=-0.002, max=-0.002, mean=-0.002)})}\n",
      "\u001b[2m\u001b[36m(RolloutWorker pid=2560)\u001b[0m \n",
      "\u001b[2m\u001b[36m(RolloutWorker pid=2560)\u001b[0m 2023-01-15 19:03:00,456\tINFO simple_list_collector.py:520 -- Trajectory fragment after postprocess_trajectory():\n",
      "\u001b[2m\u001b[36m(RolloutWorker pid=2560)\u001b[0m \n",
      "\u001b[2m\u001b[36m(RolloutWorker pid=2560)\u001b[0m { 'agent0': { 'action_dist_inputs': np.ndarray((201, 21), dtype=float32, min=-0.01, max=0.018, mean=0.002),\n",
      "\u001b[2m\u001b[36m(RolloutWorker pid=2560)\u001b[0m               'action_logp': np.ndarray((201,), dtype=float32, min=-3.053, max=-3.029, mean=-3.044),\n",
      "\u001b[2m\u001b[36m(RolloutWorker pid=2560)\u001b[0m               'actions': np.ndarray((201,), dtype=int64, min=0.0, max=20.0, mean=9.602),\n",
      "\u001b[2m\u001b[36m(RolloutWorker pid=2560)\u001b[0m               'advantages': np.ndarray((201,), dtype=float32, min=-0.879, max=-0.008, mean=-0.637),\n",
      "\u001b[2m\u001b[36m(RolloutWorker pid=2560)\u001b[0m               'agent_index': np.ndarray((201,), dtype=int32, min=0.0, max=0.0, mean=0.0),\n",
      "\u001b[2m\u001b[36m(RolloutWorker pid=2560)\u001b[0m               'eps_id': np.ndarray((201,), dtype=int64, min=1.660880546945688e+16, max=1.660880546945688e+16, mean=1.6608805469456886e+16),\n",
      "\u001b[2m\u001b[36m(RolloutWorker pid=2560)\u001b[0m               'infos': np.ndarray((201,), dtype=object, head={'state': np.ndarray((20,), dtype=float32, min=0.0, max=1.0, mean=0.15), 'values': np.ndarray((20,), dtype=float32, min=-7.0, max=-2.0, mean=-4.05), 'probs': np.ndarray((20,), dtype=float32, min=0.0, max=1.0, mean=0.493), 'modes': np.ndarray((20,), dtype=float32, min=0.0, max=0.0, mean=0.0)}),\n",
      "\u001b[2m\u001b[36m(RolloutWorker pid=2560)\u001b[0m               'new_obs': np.ndarray((201, 80), dtype=float32, min=-7.0, max=1.0, mean=-0.687),\n",
      "\u001b[2m\u001b[36m(RolloutWorker pid=2560)\u001b[0m               'obs': np.ndarray((201, 80), dtype=float32, min=-7.0, max=1.0, mean=-0.688),\n",
      "\u001b[2m\u001b[36m(RolloutWorker pid=2560)\u001b[0m               'rewards': np.ndarray((201,), dtype=float32, min=-0.016, max=-0.007, mean=-0.011),\n",
      "\u001b[2m\u001b[36m(RolloutWorker pid=2560)\u001b[0m               't': np.ndarray((201,), dtype=int32, min=0.0, max=200.0, mean=100.0),\n",
      "\u001b[2m\u001b[36m(RolloutWorker pid=2560)\u001b[0m               'terminateds': np.ndarray((201,), dtype=bool, min=0.0, max=0.0, mean=0.0),\n",
      "\u001b[2m\u001b[36m(RolloutWorker pid=2560)\u001b[0m               'truncateds': np.ndarray((201,), dtype=bool, min=0.0, max=1.0, mean=0.005),\n",
      "\u001b[2m\u001b[36m(RolloutWorker pid=2560)\u001b[0m               'unroll_id': np.ndarray((201,), dtype=int32, min=0.0, max=0.0, mean=0.0),\n",
      "\u001b[2m\u001b[36m(RolloutWorker pid=2560)\u001b[0m               'value_targets': np.ndarray((201,), dtype=float32, min=-0.882, max=-0.009, mean=-0.638),\n",
      "\u001b[2m\u001b[36m(RolloutWorker pid=2560)\u001b[0m               'vf_preds': np.ndarray((201,), dtype=float32, min=-0.005, max=0.003, mean=-0.001)}}\n",
      "\u001b[2m\u001b[36m(RolloutWorker pid=2560)\u001b[0m \n",
      "\u001b[2m\u001b[36m(RolloutWorker pid=2560)\u001b[0m 2023-01-15 19:03:01,072\tINFO rollout_worker.py:946 -- Completed sample batch:\n",
      "\u001b[2m\u001b[36m(RolloutWorker pid=2560)\u001b[0m \n",
      "\u001b[2m\u001b[36m(RolloutWorker pid=2560)\u001b[0m { 'action_dist_inputs': np.ndarray((400, 21), dtype=float32, min=-0.011, max=0.018, mean=0.002),\n",
      "\u001b[2m\u001b[36m(RolloutWorker pid=2560)\u001b[0m   'action_logp': np.ndarray((400,), dtype=float32, min=-3.057, max=-3.029, mean=-3.045),\n",
      "\u001b[2m\u001b[36m(RolloutWorker pid=2560)\u001b[0m   'actions': np.ndarray((400,), dtype=int64, min=0.0, max=20.0, mean=9.995),\n",
      "\u001b[2m\u001b[36m(RolloutWorker pid=2560)\u001b[0m   'advantages': np.ndarray((400,), dtype=float32, min=-0.879, max=-0.008, mean=-0.578),\n",
      "\u001b[2m\u001b[36m(RolloutWorker pid=2560)\u001b[0m   'agent_index': np.ndarray((400,), dtype=int32, min=0.0, max=0.0, mean=0.0),\n",
      "\u001b[2m\u001b[36m(RolloutWorker pid=2560)\u001b[0m   'eps_id': np.ndarray((400,), dtype=int64, min=1.660880546945688e+16, max=6.32411335278603e+17, mean=3.2297056404950714e+17),\n",
      "\u001b[2m\u001b[36m(RolloutWorker pid=2560)\u001b[0m   'infos': np.ndarray((400,), dtype=object, head={'state': np.ndarray((20,), dtype=float32, min=0.0, max=1.0, mean=0.15), 'values': np.ndarray((20,), dtype=float32, min=-7.0, max=-2.0, mean=-4.05), 'probs': np.ndarray((20,), dtype=float32, min=0.0, max=1.0, mean=0.493), 'modes': np.ndarray((20,), dtype=float32, min=0.0, max=0.0, mean=0.0)}),\n",
      "\u001b[2m\u001b[36m(RolloutWorker pid=2560)\u001b[0m   'new_obs': np.ndarray((400, 80), dtype=float32, min=-7.0, max=1.0, mean=-0.712),\n",
      "\u001b[2m\u001b[36m(RolloutWorker pid=2560)\u001b[0m   'obs': np.ndarray((400, 80), dtype=float32, min=-7.0, max=1.0, mean=-0.713),\n",
      "\u001b[2m\u001b[36m(RolloutWorker pid=2560)\u001b[0m   'rewards': np.ndarray((400,), dtype=float32, min=-0.016, max=-0.007, mean=-0.01),\n",
      "\u001b[2m\u001b[36m(RolloutWorker pid=2560)\u001b[0m   't': np.ndarray((400,), dtype=int32, min=0.0, max=200.0, mean=99.502),\n",
      "\u001b[2m\u001b[36m(RolloutWorker pid=2560)\u001b[0m   'terminateds': np.ndarray((400,), dtype=bool, min=0.0, max=0.0, mean=0.0),\n",
      "\u001b[2m\u001b[36m(RolloutWorker pid=2560)\u001b[0m   'truncateds': np.ndarray((400,), dtype=bool, min=0.0, max=1.0, mean=0.003),\n",
      "\u001b[2m\u001b[36m(RolloutWorker pid=2560)\u001b[0m   'unroll_id': np.ndarray((400,), dtype=int32, min=0.0, max=1.0, mean=0.497),\n",
      "\u001b[2m\u001b[36m(RolloutWorker pid=2560)\u001b[0m   'value_targets': np.ndarray((400,), dtype=float32, min=-0.882, max=-0.009, mean=-0.58),\n",
      "\u001b[2m\u001b[36m(RolloutWorker pid=2560)\u001b[0m   'vf_preds': np.ndarray((400,), dtype=float32, min=-0.007, max=0.003, mean=-0.002)}\n",
      "\u001b[2m\u001b[36m(RolloutWorker pid=2560)\u001b[0m \n"
     ]
    }
   ],
   "source": [
    "train_steps = 500\n",
    "plot_every = 1\n",
    "\n",
    "with tqdm(total=train_steps) as pbar:\n",
    "    for i in count() if train_steps == 0 else range(train_steps):\n",
    "        if skip_training: \n",
    "            print(\"skipping training\")\n",
    "            break\n",
    "        try:\n",
    "            results = algo.train()\n",
    "        except KeyboardInterrupt:\n",
    "            print(\"Interrupting training\")\n",
    "            checkpoint_path = algo.save(save_dir)\n",
    "            print(f\"Checkpoint saved at: {checkpoint_path}\")\n",
    "            break\n",
    "        pbar.set_description(f\"reward mean={results['episode_reward_mean']:.02f}\")\n",
    "        results_history.append(results)\n",
    "        pbar.update()\n",
    "        if i % plot_every == 0:\n",
    "            plot(results_history)\n",
    "            pbar.display()\n",
    "        "
   ]
  },
  {
   "cell_type": "code",
   "execution_count": 26,
   "metadata": {},
   "outputs": [
    {
     "ename": "NameError",
     "evalue": "name 'results' is not defined",
     "output_type": "error",
     "traceback": [
      "\u001b[1;31m---------------------------------------------------------------------------\u001b[0m",
      "\u001b[1;31mNameError\u001b[0m                                 Traceback (most recent call last)",
      "Cell \u001b[1;32mIn[26], line 1\u001b[0m\n\u001b[1;32m----> 1\u001b[0m results[\u001b[39m\"\u001b[39m\u001b[39minfo\u001b[39m\u001b[39m\"\u001b[39m]\n",
      "\u001b[1;31mNameError\u001b[0m: name 'results' is not defined"
     ]
    }
   ],
   "source": [
    "results[\"info\"]"
   ]
  },
  {
   "cell_type": "code",
   "execution_count": null,
   "metadata": {},
   "outputs": [
    {
     "data": {
      "text/plain": [
       "'saved_models\\\\Platoon-v4-curious-20vehicles\\\\checkpoint_000288'"
      ]
     },
     "execution_count": 17,
     "metadata": {},
     "output_type": "execute_result"
    }
   ],
   "source": [
    "algo.save(save_dir)\n",
    "# checkpoint path is grabbed by glob when restoring earlier"
   ]
  },
  {
   "cell_type": "code",
   "execution_count": null,
   "metadata": {},
   "outputs": [
    {
     "name": "stderr",
     "output_type": "stream",
     "text": [
      "2023-01-14 23:41:05,377\tINFO algorithm.py:882 -- Evaluating current policy for 10 episodes.\n",
      "2023-01-14 23:41:05,378\tINFO rollout_worker.py:905 -- Generating sample batch of size 400\n",
      "2023-01-14 23:41:05,380\tINFO sampler.py:610 -- Raw obs from env: { 0: { 'agent0': np.ndarray((60,), dtype=float32, min=-6.0, max=0.975, mean=-1.165)}}\n",
      "2023-01-14 23:41:05,380\tINFO sampler.py:611 -- Info return from env: {0: {'agent0': {}}}\n",
      "2023-01-14 23:41:05,381\tINFO sampler.py:853 -- Preprocessed obs: np.ndarray((60,), dtype=float32, min=-6.0, max=0.975, mean=-1.165)\n",
      "2023-01-14 23:41:05,383\tINFO sampler.py:858 -- Filtered obs: np.ndarray((60,), dtype=float32, min=-6.0, max=0.975, mean=-1.165)\n",
      "2023-01-14 23:41:05,385\tINFO sampler.py:1144 -- Inputs to compute_actions():\n",
      "\n",
      "{ 'default_policy': [ { 'data': { 'agent_id': 'agent0',\n",
      "                                  'env_id': 0,\n",
      "                                  'info': {},\n",
      "                                  'obs': np.ndarray((60,), dtype=float32, min=-6.0, max=0.975, mean=-1.165),\n",
      "                                  'prev_action': None,\n",
      "                                  'prev_reward': 0.0,\n",
      "                                  'rnn_state': None},\n",
      "                        'type': '_PolicyEvalData'}]}\n",
      "\n",
      "2023-01-14 23:41:05,392\tINFO sampler.py:1171 -- Outputs of compute_actions():\n",
      "\n",
      "{ 'default_policy': ( np.ndarray((1,), dtype=int64, min=15.0, max=15.0, mean=15.0),\n",
      "                      [],\n",
      "                      { 'action_dist_inputs': np.ndarray((1, 21), dtype=float32, min=-9.284, max=6.659, mean=-0.105),\n",
      "                        'action_logp': np.ndarray((1,), dtype=float32, min=-1.059, max=-1.059, mean=-1.059),\n",
      "                        'action_prob': np.ndarray((1,), dtype=float32, min=0.347, max=0.347, mean=0.347),\n",
      "                        'vf_preds': np.ndarray((1,), dtype=float32, min=-0.972, max=-0.972, mean=-0.972)})}\n",
      "\n",
      "2023-01-14 23:41:06,133\tINFO simple_list_collector.py:520 -- Trajectory fragment after postprocess_trajectory():\n",
      "\n",
      "{ 'agent0': { 'action_dist_inputs': np.ndarray((201, 21), dtype=float32, min=-15.704, max=15.709, mean=-0.186),\n",
      "              'action_logp': np.ndarray((201,), dtype=float32, min=-5.841, max=-0.0, mean=-0.819),\n",
      "              'actions': np.ndarray((201,), dtype=int64, min=0.0, max=20.0, mean=9.08),\n",
      "              'advantages': np.ndarray((201,), dtype=float32, min=-0.307, max=0.08, mean=-0.084),\n",
      "              'agent_index': np.ndarray((201,), dtype=int32, min=0.0, max=0.0, mean=0.0),\n",
      "              'eps_id': np.ndarray((201,), dtype=int64, min=2985195609959894.0, max=2985195609959894.0, mean=2985195609959894.5),\n",
      "              'infos': np.ndarray((201,), dtype=object, head={}),\n",
      "              'new_obs': np.ndarray((201, 60), dtype=float32, min=-7.0, max=1.0, mean=-1.092),\n",
      "              'obs': np.ndarray((201, 60), dtype=float32, min=-7.0, max=1.0, mean=-1.093),\n",
      "              'rewards': np.ndarray((201,), dtype=float32, min=-0.018, max=-0.006, mean=-0.011),\n",
      "              't': np.ndarray((201,), dtype=int32, min=0.0, max=200.0, mean=100.0),\n",
      "              'terminateds': np.ndarray((201,), dtype=bool, min=0.0, max=0.0, mean=0.0),\n",
      "              'truncateds': np.ndarray((201,), dtype=bool, min=0.0, max=1.0, mean=0.005),\n",
      "              'unroll_id': np.ndarray((201,), dtype=int32, min=0.0, max=0.0, mean=0.0),\n",
      "              'value_targets': np.ndarray((201,), dtype=float32, min=-1.13, max=-0.861, mean=-1.006),\n",
      "              'vf_preds': np.ndarray((201,), dtype=float32, min=-1.074, max=-0.813, mean=-0.922)}}\n",
      "\n",
      "2023-01-14 23:41:06,947\tINFO rollout_worker.py:946 -- Completed sample batch:\n",
      "\n",
      "{ 'action_dist_inputs': np.ndarray((400, 21), dtype=float32, min=-19.404, max=17.269, mean=-0.159),\n",
      "  'action_logp': np.ndarray((400,), dtype=float32, min=-5.841, max=-0.0, mean=-0.756),\n",
      "  'actions': np.ndarray((400,), dtype=int64, min=0.0, max=20.0, mean=9.96),\n",
      "  'advantages': np.ndarray((400,), dtype=float32, min=-0.312, max=0.105, mean=-0.083),\n",
      "  'agent_index': np.ndarray((400,), dtype=int32, min=0.0, max=0.0, mean=0.0),\n",
      "  'eps_id': np.ndarray((400,), dtype=int64, min=2985195609959894.0, max=3026370923975914.0, mean=3005680328682864.0),\n",
      "  'infos': np.ndarray((400,), dtype=object, head={}),\n",
      "  'new_obs': np.ndarray((400, 60), dtype=float32, min=-7.0, max=1.0, mean=-1.054),\n",
      "  'obs': np.ndarray((400, 60), dtype=float32, min=-7.0, max=1.0, mean=-1.055),\n",
      "  'rewards': np.ndarray((400,), dtype=float32, min=-0.018, max=-0.004, mean=-0.01),\n",
      "  't': np.ndarray((400,), dtype=int32, min=0.0, max=200.0, mean=99.502),\n",
      "  'terminateds': np.ndarray((400,), dtype=bool, min=0.0, max=0.0, mean=0.0),\n",
      "  'truncateds': np.ndarray((400,), dtype=bool, min=0.0, max=1.0, mean=0.003),\n",
      "  'unroll_id': np.ndarray((400,), dtype=int32, min=0.0, max=1.0, mean=0.497),\n",
      "  'value_targets': np.ndarray((400,), dtype=float32, min=-1.13, max=-0.861, mean=-0.98),\n",
      "  'vf_preds': np.ndarray((400,), dtype=float32, min=-1.074, max=-0.655, mean=-0.896)}\n",
      "\n"
     ]
    },
    {
     "data": {
      "text/plain": [
       "{'evaluation': {'episode_reward_max': -1.614499999999997,\n",
       "  'episode_reward_min': -2.244499999999997,\n",
       "  'episode_reward_mean': -1.825210526315787,\n",
       "  'episode_len_mean': 201.0,\n",
       "  'episode_media': {},\n",
       "  'episodes_this_iter': 19,\n",
       "  'policy_reward_min': {},\n",
       "  'policy_reward_max': {},\n",
       "  'policy_reward_mean': {},\n",
       "  'custom_metrics': {},\n",
       "  'hist_stats': {'episode_reward': [-2.124499999999999,\n",
       "    -1.8409999999999969,\n",
       "    -1.891499999999998,\n",
       "    -1.7399999999999973,\n",
       "    -1.6244999999999974,\n",
       "    -2.0269999999999975,\n",
       "    -1.7284999999999968,\n",
       "    -1.6489999999999982,\n",
       "    -2.244499999999997,\n",
       "    -1.6669999999999996,\n",
       "    -1.6354999999999966,\n",
       "    -1.9889999999999983,\n",
       "    -1.7404999999999966,\n",
       "    -1.6154999999999982,\n",
       "    -1.614499999999997,\n",
       "    -1.7824999999999975,\n",
       "    -1.8699999999999977,\n",
       "    -1.7789999999999988,\n",
       "    -2.114999999999997],\n",
       "   'episode_lengths': [201,\n",
       "    201,\n",
       "    201,\n",
       "    201,\n",
       "    201,\n",
       "    201,\n",
       "    201,\n",
       "    201,\n",
       "    201,\n",
       "    201,\n",
       "    201,\n",
       "    201,\n",
       "    201,\n",
       "    201,\n",
       "    201,\n",
       "    201,\n",
       "    201,\n",
       "    201,\n",
       "    201]},\n",
       "  'sampler_perf': {'mean_raw_obs_processing_ms': 0.44528331437190755,\n",
       "   'mean_inference_ms': 3.008539156447766,\n",
       "   'mean_action_processing_ms': 0.11802071245036638,\n",
       "   'mean_env_wait_ms': 0.28055305929071933,\n",
       "   'mean_env_render_ms': 0.0},\n",
       "  'num_faulty_episodes': 0,\n",
       "  'num_agent_steps_sampled_this_iter': 4000,\n",
       "  'num_env_steps_sampled_this_iter': 4000,\n",
       "  'timesteps_this_iter': 4000}}"
      ]
     },
     "execution_count": 18,
     "metadata": {},
     "output_type": "execute_result"
    }
   ],
   "source": [
    "algo.evaluate()"
   ]
  },
  {
   "attachments": {},
   "cell_type": "markdown",
   "metadata": {},
   "source": [
    "# Evaluate agent"
   ]
  },
  {
   "cell_type": "code",
   "execution_count": null,
   "metadata": {},
   "outputs": [],
   "source": [
    "import numpy as np"
   ]
  },
  {
   "cell_type": "code",
   "execution_count": null,
   "metadata": {},
   "outputs": [
    {
     "data": {
      "text/plain": [
       "<OrderEnforcing<PassiveEnvChecker<InOutValueProbCyclingMonitoringEnv<Platoon-v5>>>>"
      ]
     },
     "execution_count": 18,
     "metadata": {},
     "output_type": "execute_result"
    }
   ],
   "source": [
    "env"
   ]
  },
  {
   "cell_type": "code",
   "execution_count": null,
   "metadata": {},
   "outputs": [
    {
     "name": "stdout",
     "output_type": "stream",
     "text": [
      "seed: 2146\n",
      "ended after step 200 with reward -1.9665000000000028 (spec: None)\n"
     ]
    },
    {
     "data": {
      "application/vnd.jupyter.widget-view+json": {
       "model_id": "4ca57817969249fe8616dbce44cfa692",
       "version_major": 2,
       "version_minor": 0
      },
      "text/plain": [
       "Canvas(height=5512, width=2520)"
      ]
     },
     "metadata": {},
     "output_type": "display_data"
    },
    {
     "name": "stdout",
     "output_type": "stream",
     "text": [
      "ended after step 200 with reward -1.9809999999999963 (spec: None)\n"
     ]
    },
    {
     "data": {
      "application/vnd.jupyter.widget-view+json": {
       "model_id": "624a2796b2084ef5899115158cc31be0",
       "version_major": 2,
       "version_minor": 0
      },
      "text/plain": [
       "Canvas(height=5512, width=2520)"
      ]
     },
     "metadata": {},
     "output_type": "display_data"
    }
   ],
   "source": [
    "env = gym.make(\n",
    "    id=env_name,\n",
    "    render_mode=\"canvas\",\n",
    "    env_config={\n",
    "        **env_config,\n",
    "        \"steps_before_truncation\": 200\n",
    "    },\n",
    ")\n",
    "\n",
    "seed = int(np.random.randint(0, 100000))\n",
    "print(f\"seed: {seed}\")\n",
    "\n",
    "# evaluate using trained policy\n",
    "obs, info = env.reset(seed=seed)\n",
    "actions = []\n",
    "rewards = []\n",
    "observations = [obs]\n",
    "for episode_step in count():\n",
    "    action = algo.compute_single_action(obs,explore=False)\n",
    "    next_obs, reward, terminated, truncated, info = env.step(action)\n",
    "    actions.append(action)\n",
    "    rewards.append(float(reward))\n",
    "    observations.append(next_obs)\n",
    "    if terminated or truncated:\n",
    "        print(f\"ended after step {episode_step} with reward {sum(rewards)} (spec: {env.spec.reward_threshold})\")\n",
    "        break\n",
    "    obs = next_obs\n",
    "display(env.render())\n",
    "\n",
    "# evaluate using random policy for comparison\n",
    "obs, info = env.reset(seed=seed)\n",
    "random_actions = []\n",
    "random_rewards = []\n",
    "random_observations = [obs]\n",
    "for episode_step in count():\n",
    "    action = env.action_space.sample()\n",
    "    next_obs, reward, terminated, truncated, info = env.step(action)\n",
    "    random_actions.append(action)\n",
    "    random_rewards.append(float(reward))\n",
    "    random_observations.append(next_obs)\n",
    "    if terminated or truncated:\n",
    "        print(f\"ended after step {episode_step} with reward {sum(random_rewards)} (spec: {env.spec.reward_threshold})\")\n",
    "        break\n",
    "    obs = next_obs\n",
    "display(env.render())\n"
   ]
  },
  {
   "cell_type": "code",
   "execution_count": null,
   "metadata": {},
   "outputs": [
    {
     "data": {
      "image/png": "[encoded data removed]",
      "text/plain": [
       "<Figure size 640x480 with 1 Axes>"
      ]
     },
     "metadata": {},
     "output_type": "display_data"
    }
   ],
   "source": [
    "plt.title(\"actions\")\n",
    "plt.plot(actions, label=\"trained\")\n",
    "plt.plot(random_actions, label=\"random\", alpha=0.2)\n",
    "plt.legend()\n",
    "plt.show()"
   ]
  },
  {
   "cell_type": "code",
   "execution_count": null,
   "metadata": {},
   "outputs": [
    {
     "data": {
      "image/png": "[encoded data removed]",
      "text/plain": [
       "<Figure size 640x480 with 2 Axes>"
      ]
     },
     "metadata": {},
     "output_type": "display_data"
    }
   ],
   "source": [
    "fig, axs = plt.subplots(2)\n",
    "plt.subplots_adjust(\n",
    "    left=0.1,\n",
    "    bottom=0.1,\n",
    "    right=0.9,\n",
    "    top=0.88,\n",
    "    # wspace=0.4,\n",
    "    hspace=0.4,\n",
    ")\n",
    "fig.suptitle(\"Rewards\")\n",
    "axs[0].plot(rewards, label=\"trained\")\n",
    "axs[0].plot(random_rewards, label=\"random\")\n",
    "axs[0].set_title(\"stepwise\")\n",
    "axs[0].legend()\n",
    "\n",
    "axs[1].plot(np.cumsum(rewards), label=\"trained\")\n",
    "axs[1].plot(np.cumsum(random_rewards), label=\"random\")\n",
    "axs[1].set_title(\"cumulative\")\n",
    "axs[1].legend()\n",
    "\n",
    "plt.show()"
   ]
  },
  {
   "cell_type": "code",
   "execution_count": null,
   "metadata": {},
   "outputs": [
    {
     "ename": "ValueError",
     "evalue": "operands could not be broadcast together with shapes (20,) (40,) ",
     "output_type": "error",
     "traceback": [
      "\u001b[1;31m---------------------------------------------------------------------------\u001b[0m",
      "\u001b[1;31mValueError\u001b[0m                                Traceback (most recent call last)",
      "Cell \u001b[1;32mIn[22], line 10\u001b[0m\n\u001b[0;32m      7\u001b[0m     \u001b[39mreturn\u001b[39;00m np\u001b[39m.\u001b[39msum(membership \u001b[39m*\u001b[39m values \u001b[39m*\u001b[39m probs)\n\u001b[0;32m      9\u001b[0m plt\u001b[39m.\u001b[39mtitle(\u001b[39m\"\u001b[39m\u001b[39mPlatoon security posture\u001b[39m\u001b[39m\"\u001b[39m)\n\u001b[1;32m---> 10\u001b[0m plt\u001b[39m.\u001b[39mplot([measure(obs) \u001b[39mfor\u001b[39;00m obs \u001b[39min\u001b[39;00m observations], label\u001b[39m=\u001b[39m\u001b[39m\"\u001b[39m\u001b[39mtrained\u001b[39m\u001b[39m\"\u001b[39m)\n\u001b[0;32m     11\u001b[0m plt\u001b[39m.\u001b[39mplot([measure(obs) \u001b[39mfor\u001b[39;00m obs \u001b[39min\u001b[39;00m random_observations], label\u001b[39m=\u001b[39m\u001b[39m\"\u001b[39m\u001b[39mrandom\u001b[39m\u001b[39m\"\u001b[39m, alpha\u001b[39m=\u001b[39m\u001b[39m0.2\u001b[39m)\n\u001b[0;32m     12\u001b[0m plt\u001b[39m.\u001b[39mlegend()\n",
      "Cell \u001b[1;32mIn[22], line 10\u001b[0m, in \u001b[0;36m<listcomp>\u001b[1;34m(.0)\u001b[0m\n\u001b[0;32m      7\u001b[0m     \u001b[39mreturn\u001b[39;00m np\u001b[39m.\u001b[39msum(membership \u001b[39m*\u001b[39m values \u001b[39m*\u001b[39m probs)\n\u001b[0;32m      9\u001b[0m plt\u001b[39m.\u001b[39mtitle(\u001b[39m\"\u001b[39m\u001b[39mPlatoon security posture\u001b[39m\u001b[39m\"\u001b[39m)\n\u001b[1;32m---> 10\u001b[0m plt\u001b[39m.\u001b[39mplot([measure(obs) \u001b[39mfor\u001b[39;00m obs \u001b[39min\u001b[39;00m observations], label\u001b[39m=\u001b[39m\u001b[39m\"\u001b[39m\u001b[39mtrained\u001b[39m\u001b[39m\"\u001b[39m)\n\u001b[0;32m     11\u001b[0m plt\u001b[39m.\u001b[39mplot([measure(obs) \u001b[39mfor\u001b[39;00m obs \u001b[39min\u001b[39;00m random_observations], label\u001b[39m=\u001b[39m\u001b[39m\"\u001b[39m\u001b[39mrandom\u001b[39m\u001b[39m\"\u001b[39m, alpha\u001b[39m=\u001b[39m\u001b[39m0.2\u001b[39m)\n\u001b[0;32m     12\u001b[0m plt\u001b[39m.\u001b[39mlegend()\n",
      "Cell \u001b[1;32mIn[22], line 7\u001b[0m, in \u001b[0;36mmeasure\u001b[1;34m(obs)\u001b[0m\n\u001b[0;32m      4\u001b[0m values \u001b[39m=\u001b[39m obs[num_vehicles:num_vehicles\u001b[39m*\u001b[39m\u001b[39m2\u001b[39m]\n\u001b[0;32m      5\u001b[0m probs \u001b[39m=\u001b[39m obs[num_vehicles\u001b[39m*\u001b[39m\u001b[39m2\u001b[39m:]\n\u001b[1;32m----> 7\u001b[0m \u001b[39mreturn\u001b[39;00m np\u001b[39m.\u001b[39msum(membership \u001b[39m*\u001b[39;49m values \u001b[39m*\u001b[39;49m probs)\n",
      "\u001b[1;31mValueError\u001b[0m: operands could not be broadcast together with shapes (20,) (40,) "
     ]
    },
    {
     "data": {
      "image/png": "[encoded data removed]",
      "text/plain": [
       "<Figure size 640x480 with 1 Axes>"
      ]
     },
     "metadata": {},
     "output_type": "display_data"
    }
   ],
   "source": [
    "num_vehicles = env.num_vehicles\n",
    "def measure(obs):\n",
    "    membership = obs[:num_vehicles]\n",
    "    values = obs[num_vehicles:num_vehicles*2]\n",
    "    probs = obs[num_vehicles*2:]\n",
    "    \n",
    "    return np.sum(membership * values * probs)\n",
    "\n",
    "plt.title(\"Platoon security posture\")\n",
    "plt.plot([measure(obs) for obs in observations], label=\"trained\")\n",
    "plt.plot([measure(obs) for obs in random_observations], label=\"random\", alpha=0.2)\n",
    "plt.legend()\n",
    "plt.show()"
   ]
  }
 ],
 "metadata": {
  "kernelspec": {
   "display_name": "rllib",
   "language": "python",
   "name": "python3"
  },
  "language_info": {
   "codemirror_mode": {
    "name": "ipython",
    "version": 3
   },
   "file_extension": ".py",
   "mimetype": "text/x-python",
   "name": "python",
   "nbconvert_exporter": "python",
   "pygments_lexer": "ipython3",
   "version": "3.8.15"
  },
  "orig_nbformat": 4,
  "vscode": {
   "interpreter": {
    "hash": "524f818cd743d7abf57cb48d668c781df3b45c3f425c53d80f3bb0fcd0df7a52"
   }
  }
 },
 "nbformat": 4,
 "nbformat_minor": 2
}
