{
 "cells": [
  {
   "cell_type": "code",
   "execution_count": 1,
   "metadata": {},
   "outputs": [],
   "source": [
    "# https://github.com/ray-project/ray/blob/master/rllib/examples/sb2rllib_rllib_example.py\n",
    "import ray\n",
    "from ray import tune, air\n",
    "import ray.rllib.algorithms.ppo as ppo"
   ]
  },
  {
   "cell_type": "code",
   "execution_count": 2,
   "metadata": {},
   "outputs": [
    {
     "name": "stdout",
     "output_type": "stream",
     "text": [
      "Usage stats collection is enabled by default for nightly wheels. To disable this, run the following command: `ray disable-usage-stats` before starting Ray. See https://docs.ray.io/en/master/cluster/usage-stats.html for more details.\n"
     ]
    },
    {
     "name": "stderr",
     "output_type": "stream",
     "text": [
      "2023-01-08 18:54:45,925\tINFO worker.py:1536 -- Started a local Ray instance. View the dashboard at \u001b[1m\u001b[32mhttp://127.0.0.1:8265 \u001b[39m\u001b[22m\n"
     ]
    },
    {
     "data": {
      "text/html": [
       "<div>\n",
       "    <div style=\"margin-left: 50px;display: flex;flex-direction: row;align-items: center\">\n",
       "        <h3 style=\"color: var(--jp-ui-font-color0)\">Ray</h3>\n",
       "        <svg version=\"1.1\" id=\"ray\" width=\"3em\" viewBox=\"0 0 144.5 144.6\" style=\"margin-left: 3em;margin-right: 3em\">\n",
       "            <g id=\"layer-1\">\n",
       "                <path fill=\"#00a2e9\" class=\"st0\" d=\"M97.3,77.2c-3.8-1.1-6.2,0.9-8.3,5.1c-3.5,6.8-9.9,9.9-17.4,9.6S58,88.1,54.8,81.2c-1.4-3-3-4-6.3-4.1\n",
       "                    c-5.6-0.1-9.9,0.1-13.1,6.4c-3.8,7.6-13.6,10.2-21.8,7.6C5.2,88.4-0.4,80.5,0,71.7c0.1-8.4,5.7-15.8,13.8-18.2\n",
       "                    c8.4-2.6,17.5,0.7,22.3,8c1.3,1.9,1.3,5.2,3.6,5.6c3.9,0.6,8,0.2,12,0.2c1.8,0,1.9-1.6,2.4-2.8c3.5-7.8,9.7-11.8,18-11.9\n",
       "                    c8.2-0.1,14.4,3.9,17.8,11.4c1.3,2.8,2.9,3.6,5.7,3.3c1-0.1,2,0.1,3,0c2.8-0.5,6.4,1.7,8.1-2.7s-2.3-5.5-4.1-7.5\n",
       "                    c-5.1-5.7-10.9-10.8-16.1-16.3C84,38,81.9,37.1,78,38.3C66.7,42,56.2,35.7,53,24.1C50.3,14,57.3,2.8,67.7,0.5\n",
       "                    C78.4-2,89,4.7,91.5,15.3c0.1,0.3,0.1,0.5,0.2,0.8c0.7,3.4,0.7,6.9-0.8,9.8c-1.7,3.2-0.8,5,1.5,7.2c6.7,6.5,13.3,13,19.8,19.7\n",
       "                    c1.8,1.8,3,2.1,5.5,1.2c9.1-3.4,17.9-0.6,23.4,7c4.8,6.9,4.6,16.1-0.4,22.9c-5.4,7.2-14.2,9.9-23.1,6.5c-2.3-0.9-3.5-0.6-5.1,1.1\n",
       "                    c-6.7,6.9-13.6,13.7-20.5,20.4c-1.8,1.8-2.5,3.2-1.4,5.9c3.5,8.7,0.3,18.6-7.7,23.6c-7.9,5-18.2,3.8-24.8-2.9\n",
       "                    c-6.4-6.4-7.4-16.2-2.5-24.3c4.9-7.8,14.5-11,23.1-7.8c3,1.1,4.7,0.5,6.9-1.7C91.7,98.4,98,92.3,104.2,86c1.6-1.6,4.1-2.7,2.6-6.2\n",
       "                    c-1.4-3.3-3.8-2.5-6.2-2.6C99.8,77.2,98.9,77.2,97.3,77.2z M72.1,29.7c5.5,0.1,9.9-4.3,10-9.8c0-0.1,0-0.2,0-0.3\n",
       "                    C81.8,14,77,9.8,71.5,10.2c-5,0.3-9,4.2-9.3,9.2c-0.2,5.5,4,10.1,9.5,10.3C71.8,29.7,72,29.7,72.1,29.7z M72.3,62.3\n",
       "                    c-5.4-0.1-9.9,4.2-10.1,9.7c0,0.2,0,0.3,0,0.5c0.2,5.4,4.5,9.7,9.9,10c5.1,0.1,9.9-4.7,10.1-9.8c0.2-5.5-4-10-9.5-10.3\n",
       "                    C72.6,62.3,72.4,62.3,72.3,62.3z M115,72.5c0.1,5.4,4.5,9.7,9.8,9.9c5.6-0.2,10-4.8,10-10.4c-0.2-5.4-4.6-9.7-10-9.7\n",
       "                    c-5.3-0.1-9.8,4.2-9.9,9.5C115,72.1,115,72.3,115,72.5z M19.5,62.3c-5.4,0.1-9.8,4.4-10,9.8c-0.1,5.1,5.2,10.4,10.2,10.3\n",
       "                    c5.6-0.2,10-4.9,9.8-10.5c-0.1-5.4-4.5-9.7-9.9-9.6C19.6,62.3,19.5,62.3,19.5,62.3z M71.8,134.6c5.9,0.2,10.3-3.9,10.4-9.6\n",
       "                    c0.5-5.5-3.6-10.4-9.1-10.8c-5.5-0.5-10.4,3.6-10.8,9.1c0,0.5,0,0.9,0,1.4c-0.2,5.3,4,9.8,9.3,10\n",
       "                    C71.6,134.6,71.7,134.6,71.8,134.6z\"/>\n",
       "            </g>\n",
       "        </svg>\n",
       "        <table>\n",
       "            <tr>\n",
       "                <td style=\"text-align: left\"><b>Python version:</b></td>\n",
       "                <td style=\"text-align: left\"><b>3.8.15</b></td>\n",
       "            </tr>\n",
       "            <tr>\n",
       "                <td style=\"text-align: left\"><b>Ray version:</b></td>\n",
       "                <td style=\"text-align: left\"><b> 3.0.0.dev0</b></td>\n",
       "            </tr>\n",
       "            <tr>\n",
       "    <td style=\"text-align: left\"><b>Dashboard:</b></td>\n",
       "    <td style=\"text-align: left\"><b><a href=\"http://127.0.0.1:8265\" target=\"_blank\">http://127.0.0.1:8265</a></b></td>\n",
       "</tr>\n",
       "\n",
       "        </table>\n",
       "    </div>\n",
       "</div>\n"
      ],
      "text/plain": [
       "RayContext(dashboard_url='127.0.0.1:8265', python_version='3.8.15', ray_version='3.0.0.dev0', ray_commit='3e18487d7427a3ffcea9fecd5c79ca3e81fb92d0', address_info={'node_ip_address': '127.0.0.1', 'raylet_ip_address': '127.0.0.1', 'redis_address': None, 'object_store_address': 'tcp://127.0.0.1:56203', 'raylet_socket_name': 'tcp://127.0.0.1:36009', 'webui_url': '127.0.0.1:8265', 'session_dir': 'C:\\\\Users\\\\TeamD\\\\AppData\\\\Local\\\\Temp\\\\ray\\\\session_2023-01-08_18-54-43_355040_6364', 'metrics_export_port': 12768, 'gcs_address': '127.0.0.1:40429', 'address': '127.0.0.1:40429', 'dashboard_agent_listen_port': 52365, 'node_id': 'f54488a19a1065c229518ba493cca730c31be054dd0d2bacdb93ac9c'})"
      ]
     },
     "execution_count": 2,
     "metadata": {},
     "output_type": "execute_result"
    }
   ],
   "source": [
    "if ray.is_initialized():\n",
    "    ray.shutdown()\n",
    "ray.init(num_gpus=1, local_mode=False)"
   ]
  },
  {
   "cell_type": "code",
   "execution_count": 3,
   "metadata": {},
   "outputs": [
    {
     "name": "stdout",
     "output_type": "stream",
     "text": [
      "Platoon-v2 \n",
      "------------------\n",
      "reward_threshold 0\n",
      "max_episode_steps 20\n"
     ]
    }
   ],
   "source": [
    "# settings used for both stable baselines and rllib\n",
    "import gymnasium as gym\n",
    "import platoonenv\n",
    "\n",
    "env_name = \"Platoon-v2\"\n",
    "env = gym.make(env_name)\n",
    "\n",
    "print(env_name,\"\\n------------------\")\n",
    "print(\"reward_threshold\", env.spec.reward_threshold)\n",
    "print(\"max_episode_steps\", env.spec.max_episode_steps)"
   ]
  },
  {
   "cell_type": "code",
   "execution_count": 4,
   "metadata": {},
   "outputs": [
    {
     "name": "stderr",
     "output_type": "stream",
     "text": [
      "2023-01-08 18:54:49,445\tWARNING env.py:166 -- Your env reset() method appears to take 'seed' or 'return_info' arguments. Note that these are not yet supported in RLlib. Seeding will take place using 'env.seed()' and the info dict will not be returned from reset.\n",
      "2023-01-08 18:54:49,497\tINFO policy.py:1196 -- Policy (worker=local) running on 1 GPUs.\n",
      "2023-01-08 18:54:49,499\tINFO torch_policy_v2.py:110 -- Found 1 visible cuda devices.\n",
      "2023-01-08 18:54:51,425\tINFO rollout_worker.py:2037 -- Built policy map: <PolicyMap lru-caching-capacity=100 policy-IDs=['default_policy']>\n",
      "2023-01-08 18:54:51,425\tINFO rollout_worker.py:2038 -- Built preprocessor map: {'default_policy': <ray.rllib.models.preprocessors.NoPreprocessor object at 0x000002550B994E20>}\n",
      "2023-01-08 18:54:51,426\tINFO rollout_worker.py:757 -- Built filter map: defaultdict(<class 'ray.rllib.utils.filter.NoFilter'>, {'default_policy': <ray.rllib.utils.filter.NoFilter object at 0x000002550BA06DF0>})\n"
     ]
    }
   ],
   "source": [
    "from ray.rllib.algorithms.ppo import PPOConfig\n",
    "from ray.rllib.algorithms.dqn import DQNConfig\n",
    "\n",
    "config = (\n",
    "    PPOConfig()\n",
    "    .environment(env_name)\n",
    "    .framework(\"torch\")\n",
    "    # .rollouts(num_rollout_workers=10)\n",
    "    .rollouts(num_rollout_workers=0) # curiosity doesn't support parallelism\n",
    "    .resources(num_gpus=1)\n",
    "    .exploration( # https://docs.ray.io/en/latest/rllib/rllib-algorithms.html#curiosity-icm-intrinsic-curiosity-module\n",
    "        exploration_config={\n",
    "            \"type\": \"Curiosity\",  # <- Use the Curiosity module for exploring.\n",
    "            \"eta\": 1.0,  # Weight for intrinsic rewards before being added to extrinsic ones.\n",
    "            \"lr\": 0.001,  # Learning rate of the curiosity (ICM) module.\n",
    "            \"feature_dim\": 288,  # Dimensionality of the generated feature vectors.\n",
    "            # Setup of the feature net (used to encode observations into feature (latent) vectors).\n",
    "            \"feature_net_config\": {\n",
    "                \"fcnet_hiddens\": [],\n",
    "                \"fcnet_activation\": \"relu\",\n",
    "            },\n",
    "            \"inverse_net_hiddens\": [256],  # Hidden layers of the \"inverse\" model.\n",
    "            \"inverse_net_activation\": \"relu\",  # Activation of the \"inverse\" model.\n",
    "            \"forward_net_hiddens\": [256],  # Hidden layers of the \"forward\" model.\n",
    "            \"forward_net_activation\": \"relu\",  # Activation of the \"forward\" model.\n",
    "            \"beta\": 0.2,  # Weight for the \"forward\" loss (beta) over the \"inverse\" loss (1.0 - beta).\n",
    "            # Specify, which exploration sub-type to use (usually, the algo's \"default\"\n",
    "            # exploration, e.g. EpsilonGreedy for DQN, StochasticSampling for PG/SAC).\n",
    "            \"sub_exploration\": {\n",
    "                \"type\": \"StochasticSampling\",\n",
    "            }\n",
    "        }\n",
    "    )\n",
    ")\n",
    "algo = config.build()"
   ]
  },
  {
   "cell_type": "code",
   "execution_count": 5,
   "metadata": {},
   "outputs": [
    {
     "name": "stderr",
     "output_type": "stream",
     "text": [
      "2023-01-08 18:54:51,518\tINFO trainable.py:790 -- Restored on 127.0.0.1 from checkpoint: saved_models\\Platoon-v2-curious\\checkpoint_000181\n",
      "2023-01-08 18:54:51,519\tINFO trainable.py:799 -- Current state after restoring: {'_iteration': 181, '_timesteps_total': None, '_time_total': 5578.578124284744, '_episodes_total': 72800}\n"
     ]
    },
    {
     "name": "stdout",
     "output_type": "stream",
     "text": [
      "Restoring from checkpoint: saved_models\\Platoon-v2-curious\\checkpoint_000181\n"
     ]
    }
   ],
   "source": [
    "from glob import glob\n",
    "from pathlib import Path\n",
    "save_dir = Path(\"saved_models\",\"Platoon-v2-curious\")\n",
    "save_dir.mkdir(parents=True, exist_ok=True)\n",
    "try:\n",
    "    checkpoint_path = sorted(glob(str(save_dir / \"*\")))[-1]\n",
    "    print(f\"Restoring from checkpoint: {checkpoint_path}\")\n",
    "    algo.restore(checkpoint_path)\n",
    "except IndexError as e:\n",
    "    print(f\"Failed to load checkpoint: {e}\")"
   ]
  },
  {
   "cell_type": "code",
   "execution_count": 6,
   "metadata": {},
   "outputs": [],
   "source": [
    "from IPython.display import clear_output\n",
    "def plot(rewards_history):\n",
    "    clear_output(True)\n",
    "    plt.figure(figsize=(12, 5))\n",
    "    plt.title(\"Training...\")\n",
    "    plt.xlabel(\"Step\")\n",
    "    plt.ylabel(\"Rewards\")\n",
    "    plt.plot([x[\"episode_reward_mean\"] for x in rewards_history])\n",
    "    plt.show()"
   ]
  },
  {
   "cell_type": "code",
   "execution_count": 7,
   "metadata": {},
   "outputs": [
    {
     "data": {
      "image/png": "[encoded data removed]",
      "text/plain": [
       "<Figure size 1200x500 with 1 Axes>"
      ]
     },
     "metadata": {},
     "output_type": "display_data"
    },
    {
     "name": "stderr",
     "output_type": "stream",
     "text": [
      "76.935: : 1it [00:35, 35.35s/it]\n"
     ]
    }
   ],
   "source": [
    "from tqdm import tqdm\n",
    "from itertools import count\n",
    "import matplotlib.pyplot as plt\n",
    "results_history = []\n",
    "plot_every = 1\n",
    "train_steps = 1\n",
    "with tqdm() as pbar:\n",
    "    for i in count() if train_steps == 0 else range(train_steps):\n",
    "        try:\n",
    "            results = algo.train()\n",
    "        except KeyboardInterrupt:\n",
    "            print(\"Interrupting training\")\n",
    "            checkpoint_path = algo.save(save_dir)\n",
    "            print(f\"Checkpoint saved at: {checkpoint_path}\")\n",
    "            break\n",
    "        pbar.set_description(str(results[\"episode_reward_mean\"]))\n",
    "        results_history.append(results)\n",
    "        pbar.update()\n",
    "        if i % plot_every == 0:\n",
    "            plot(results_history)\n",
    "            pbar.display()\n",
    "        "
   ]
  },
  {
   "cell_type": "code",
   "execution_count": 8,
   "metadata": {},
   "outputs": [
    {
     "data": {
      "text/plain": [
       "{'learner': {'default_policy': {'custom_metrics': {},\n",
       "   'learner_stats': {'cur_kl_coeff': 0.4500000000000001,\n",
       "    'cur_lr': 5.0000000000000016e-05,\n",
       "    'total_loss': 9.620634902420864,\n",
       "    'policy_loss': -0.06652672709196165,\n",
       "    'vf_loss': 9.682051417648152,\n",
       "    'vf_explained_var': 0.6668216268862447,\n",
       "    'kl': 0.011356052117487034,\n",
       "    'entropy': 0.9424524944315674,\n",
       "    'entropy_coeff': 0.0},\n",
       "   'model': {},\n",
       "   'num_grad_updates_lifetime': 465.5,\n",
       "   'diff_num_grad_updates_vs_sampler_policy': 464.5}},\n",
       " 'num_env_steps_sampled': 732000,\n",
       " 'num_env_steps_trained': 728000,\n",
       " 'num_agent_steps_sampled': 732000,\n",
       " 'num_agent_steps_trained': 728000}"
      ]
     },
     "execution_count": 8,
     "metadata": {},
     "output_type": "execute_result"
    }
   ],
   "source": [
    "results[\"info\"]"
   ]
  },
  {
   "cell_type": "code",
   "execution_count": 9,
   "metadata": {},
   "outputs": [
    {
     "data": {
      "text/plain": [
       "'saved_models\\\\Platoon-v2-curious\\\\checkpoint_000182'"
      ]
     },
     "execution_count": 9,
     "metadata": {},
     "output_type": "execute_result"
    }
   ],
   "source": [
    "algo.save(save_dir)\n",
    "# checkpoint path is grabbed by glob when restoring earlier"
   ]
  },
  {
   "cell_type": "code",
   "execution_count": 10,
   "metadata": {},
   "outputs": [
    {
     "name": "stderr",
     "output_type": "stream",
     "text": [
      "c:\\Users\\TeamD\\.conda\\envs\\rllib\\lib\\site-packages\\gymnasium\\utils\\passive_env_checker.py:157: UserWarning: \u001b[33mWARN: The obs returned by the `reset()` method was expecting numpy array dtype to be float32, actual type: float64\u001b[0m\n",
      "  logger.warn(\n",
      "c:\\Users\\TeamD\\.conda\\envs\\rllib\\lib\\site-packages\\gymnasium\\utils\\passive_env_checker.py:181: UserWarning: \u001b[33mWARN: The obs returned by the `reset()` method is not within the observation space.\u001b[0m\n",
      "  logger.warn(f\"{pre} is not within the observation space.\")\n"
     ]
    },
    {
     "data": {
      "application/vnd.jupyter.widget-view+json": {
       "model_id": "5f4b81a6a11b451d86e734108bb71279",
       "version_major": 2,
       "version_minor": 0
      },
      "text/plain": [
       "Canvas(height=900, width=1600)"
      ]
     },
     "metadata": {},
     "output_type": "display_data"
    },
    {
     "name": "stderr",
     "output_type": "stream",
     "text": [
      "c:\\Users\\TeamD\\.conda\\envs\\rllib\\lib\\site-packages\\gymnasium\\utils\\passive_env_checker.py:157: UserWarning: \u001b[33mWARN: The obs returned by the `step()` method was expecting numpy array dtype to be float32, actual type: float64\u001b[0m\n",
      "  logger.warn(\n",
      "c:\\Users\\TeamD\\.conda\\envs\\rllib\\lib\\site-packages\\gymnasium\\utils\\passive_env_checker.py:181: UserWarning: \u001b[33mWARN: The obs returned by the `step()` method is not within the observation space.\u001b[0m\n",
      "  logger.warn(f\"{pre} is not within the observation space.\")\n"
     ]
    },
    {
     "name": "stdout",
     "output_type": "stream",
     "text": [
      "ended after 9 steps with reward 112.0\n"
     ]
    }
   ],
   "source": [
    "# inference\n",
    "from ipycanvas import Canvas, hold_canvas\n",
    "from IPython.display import display\n",
    "from time import sleep\n",
    "\n",
    "env = gym.make(env_name)\n",
    "# obs, info = env.reset(seed=10)\n",
    "obs, info = env.reset()\n",
    "reward_total = 0\n",
    "\n",
    "num_vehicles = obs.shape[0]//2\n",
    "canvas = Canvas(width=1600, height=900)\n",
    "display(canvas)\n",
    "vehicle_width = 80\n",
    "vehicle_height = 40\n",
    "padding = 6\n",
    "\n",
    "\n",
    "for episode_step in count():\n",
    "    action = algo.compute_single_action(obs)\n",
    "    next_obs, reward, terminated, truncated, info = env.step(action)\n",
    "    reward_total += float(reward)\n",
    "\n",
    "    with hold_canvas():\n",
    "        for vehicle_index in range(num_vehicles):\n",
    "            was_member = obs[vehicle_index] > 0\n",
    "            is_member = next_obs[vehicle_index] > 0\n",
    "            value = next_obs[vehicle_index+num_vehicles]\n",
    "\n",
    "            x = vehicle_index*(vehicle_width + padding) + padding\n",
    "            y = (padding + vehicle_height) * episode_step + padding\n",
    "\n",
    "            # draw highlight for changed membership\n",
    "            if is_member != was_member:\n",
    "                canvas.fill_style = \"red\"\n",
    "                canvas.fill_rect(\n",
    "                    x=x-padding/2,\n",
    "                    y=y-padding/2,\n",
    "                    width=vehicle_width+padding,\n",
    "                    height=vehicle_height+padding,\n",
    "                )\n",
    "\n",
    "            # draw vehicle\n",
    "            if is_member:\n",
    "                canvas.fill_style = \"#55F\"\n",
    "            else:\n",
    "                canvas.fill_style = \"gray\"\n",
    "            canvas.fill_rect(\n",
    "                x=x,\n",
    "                y=y,\n",
    "                width=vehicle_width,\n",
    "                height=vehicle_height,\n",
    "            )\n",
    "\n",
    "            # draw value        \n",
    "            canvas.font = \"20px Consolas\"\n",
    "            canvas.fill_style = \"black\"\n",
    "            canvas.fill_text(\n",
    "                text=f\"{value}\",\n",
    "                x=x+vehicle_width/2 - 25,\n",
    "                y=y+vehicle_height/2 + 7,\n",
    "            )\n",
    "        \n",
    "        # draw text\n",
    "        canvas.fill_text(\n",
    "            text=f\"action: {action:02d}, reward: {reward_total:+04.0f} ({reward:+.0f})\",\n",
    "            x = x + vehicle_width + 25,\n",
    "            y = y + 25,\n",
    "        )\n",
    "\n",
    "        sleep(0.02)\n",
    "    if terminated or truncated:\n",
    "        print(f\"ended after {episode_step} steps with reward {reward_total}\")\n",
    "        break\n",
    "    obs = next_obs"
   ]
  }
 ],
 "metadata": {
  "kernelspec": {
   "display_name": "rllib",
   "language": "python",
   "name": "python3"
  },
  "language_info": {
   "codemirror_mode": {
    "name": "ipython",
    "version": 3
   },
   "file_extension": ".py",
   "mimetype": "text/x-python",
   "name": "python",
   "nbconvert_exporter": "python",
   "pygments_lexer": "ipython3",
   "version": "3.8.15"
  },
  "orig_nbformat": 4,
  "vscode": {
   "interpreter": {
    "hash": "524f818cd743d7abf57cb48d668c781df3b45c3f425c53d80f3bb0fcd0df7a52"
   }
  }
 },
 "nbformat": 4,
 "nbformat_minor": 2
}
