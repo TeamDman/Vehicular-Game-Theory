{
 "cells": [
  {
   "cell_type": "code",
   "execution_count": 5,
   "metadata": {},
   "outputs": [
    {
     "name": "stdout",
     "output_type": "stream",
     "text": [
      "torch.Size([3, 10, 7, 4]) raw NHWC\n",
      "torch.Size([3, 4, 10, 7]) permuted NCHW\n",
      "torch.Size([3, 5, 5, 3]) convd\n",
      "torch.Size([3, 5, 5, 3]) norm\n",
      "torch.Size([3, 5, 5, 3]) relu\n"
     ]
    },
    {
     "name": "stderr",
     "output_type": "stream",
     "text": [
      "c:\\Users\\TeamD\\.conda\\envs\\subgame\\lib\\site-packages\\torch\\nn\\modules\\lazy.py:178: UserWarning: Lazy modules are a new feature under heavy development so changes to the API or functionality can happen at any moment.\n",
      "  warnings.warn('Lazy modules are a new feature under heavy development '\n"
     ]
    }
   ],
   "source": [
    "import torch\n",
    "import torch.nn.functional as F\n",
    "import torch.nn as nn\n",
    "\n",
    "batch_size=3\n",
    "max_vehicles = 10\n",
    "max_vulns = 7\n",
    "vuln_width = 4\n",
    "vuln_conv = nn.Conv2d(\n",
    "    in_channels=vuln_width,\n",
    "    out_channels=5,\n",
    "    stride=2,\n",
    "    kernel_size=2\n",
    ")\n",
    "x = torch.ones((batch_size, max_vehicles, max_vulns, vuln_width))\n",
    "print(x.shape, \"raw\", \"NHWC\")\n",
    "x = x.permute((0,3,1,2))\n",
    "print(x.shape, \"permuted\", \"NCHW\")\n",
    "x = vuln_conv(x)\n",
    "print(x.shape, \"convd\")\n",
    "norm = nn.LazyBatchNorm2d()\n",
    "x = norm(x)\n",
    "print(x.shape, \"norm\")\n",
    "x = F.relu(x)\n",
    "print(x.shape, \"relu\")"
   ]
  },
  {
   "cell_type": "code",
   "execution_count": null,
   "metadata": {},
   "outputs": [],
   "source": [
    "import vehicles\n",
    "import game\n",
    "import agents\n",
    "import evaluation\n",
    "import torch"
   ]
  },
  {
   "cell_type": "code",
   "execution_count": null,
   "metadata": {},
   "outputs": [],
   "source": [
    "engine = evaluation.Evaluator(\n",
    "    # attacker=agents.PassiveAgent(),\n",
    "    attacker=agents.BasicAttackerAgent(1),\n",
    "    defender=agents.BasicDefenderAgent(monitor_limit=1),\n",
    "    vehicles=vehicles.JsonVehicleProvider(\"../subgame/python/solutions.json\"),\n",
    "    game_config=game.GameConfig(\n",
    "        max_vehicles=30,\n",
    "        cycle_every=3,\n",
    "        cycle_num=5,\n",
    "        cycle_allow_platoon=False\n",
    "    ),\n",
    "    num_rounds=1000\n",
    ")\n",
    "engine.reset()"
   ]
  },
  {
   "cell_type": "code",
   "execution_count": null,
   "metadata": {},
   "outputs": [
    {
     "data": {
      "text/plain": [
       "tensor([0.9400, 1.0000, 0.0000, 0.0000])"
      ]
     },
     "metadata": {},
     "output_type": "display_data"
    }
   ],
   "source": [
    "engine.game.state.vehicles[0].vulnerabilities[0].as_tensor()"
   ]
  },
  {
   "cell_type": "code",
   "execution_count": null,
   "metadata": {},
   "outputs": [
    {
     "name": "stdout",
     "output_type": "stream",
     "text": [
      "torch.Size([3, 30, 7, 4])\n",
      "torch.Size([3, 30, 2])\n"
     ]
    }
   ],
   "source": [
    "batch_size = 3\n",
    "vulns_quants = []\n",
    "vehicle_quants = []\n",
    "for _ in range(batch_size):\n",
    "    vulns_quant, vehicle_quant = engine.game.state.as_tensors(engine.game_config.max_vehicles, engine.vehicles.max_vulns)\n",
    "    vulns_quants.append(vulns_quant)\n",
    "    vehicle_quants.append(vehicle_quant)\n",
    "\n",
    "vulns_quant = torch.stack(vulns_quants)\n",
    "vehicle_quant = torch.stack(vehicle_quants)\n",
    "print(vulns_quant.shape)\n",
    "print(vehicle_quant.shape)\n",
    "del vulns_quants\n",
    "del vehicle_quants"
   ]
  },
  {
   "cell_type": "code",
   "execution_count": null,
   "metadata": {},
   "outputs": [
    {
     "name": "stdout",
     "output_type": "stream",
     "text": [
      "torch.Size([3, 8, 13, 2]) torch.Size([3, 4, 29])\n",
      "torch.Size([972])\n",
      "torch.Size([30]) torch.Size([30])\n"
     ]
    },
    {
     "name": "stderr",
     "output_type": "stream",
     "text": [
      "c:\\Users\\TeamD\\.conda\\envs\\subgame\\lib\\site-packages\\torch\\nn\\modules\\lazy.py:178: UserWarning: Lazy modules are a new feature under heavy development so changes to the API or functionality can happen at any moment.\n",
      "  warnings.warn('Lazy modules are a new feature under heavy development '\n"
     ]
    }
   ],
   "source": [
    "import reinforcement_learning\n",
    "agent = reinforcement_learning.RLDefenderAgent(engine.game)\n",
    "y = agent.policy_net(vulns_quant, vehicle_quant)\n",
    "print(y[0].shape, y[1].shape)"
   ]
  },
  {
   "cell_type": "code",
   "execution_count": null,
   "metadata": {},
   "outputs": [
    {
     "name": "stdout",
     "output_type": "stream",
     "text": [
      "=================================================================\n",
      "Layer (type:depth-idx)                   Param #\n",
      "=================================================================\n",
      "├─Conv2d: 1-1                            808\n",
      "├─BatchNorm2d: 1-2                       16\n",
      "├─Conv1d: 1-3                            20\n",
      "├─BatchNorm1d: 1-4                       8\n",
      "├─Linear: 1-5                            2,530\n",
      "├─Linear: 1-6                            2,530\n",
      "=================================================================\n",
      "Total params: 5,912\n",
      "Trainable params: 5,912\n",
      "Non-trainable params: 0\n",
      "=================================================================\n"
     ]
    },
    {
     "data": {
      "text/plain": [
       "=================================================================\n",
       "Layer (type:depth-idx)                   Param #\n",
       "=================================================================\n",
       "├─Conv2d: 1-1                            808\n",
       "├─BatchNorm2d: 1-2                       16\n",
       "├─Conv1d: 1-3                            20\n",
       "├─BatchNorm1d: 1-4                       8\n",
       "├─Linear: 1-5                            2,530\n",
       "├─Linear: 1-6                            2,530\n",
       "=================================================================\n",
       "Total params: 5,912\n",
       "Trainable params: 5,912\n",
       "Non-trainable params: 0\n",
       "================================================================="
      ]
     },
     "metadata": {},
     "output_type": "display_data"
    }
   ],
   "source": [
    "from torchsummary import summary\n",
    "summary(agent.policy_net)"
   ]
  },
  {
   "cell_type": "code",
   "execution_count": 20,
   "metadata": {},
   "outputs": [
    {
     "name": "stdout",
     "output_type": "stream",
     "text": [
      "tensor([-0.0086,  0.0122, -0.5581,  0.5493,  0.2074,  1.0648,  0.9339, -0.7565,\n",
      "         0.6404, -0.0040,  1.1001, -0.0658, -0.9233, -0.0207,  1.8461,  1.5032,\n",
      "         0.9084,  0.4523,  0.9821, -1.6651, -0.6420, -0.8580, -0.9656, -1.0564,\n",
      "         1.8804,  0.0318,  0.4744, -0.2340,  1.1124, -0.7272])\n",
      "tensor([0., 1., 0., 1., 1., 1., 1., 0., 1., 0., 1., 0., 0., 0., 1., 1., 1., 1.,\n",
      "        1., 0., 0., 0., 0., 0., 1., 1., 1., 0., 1., 0.])\n",
      "tensor([ 1,  3,  4,  5,  6,  8, 10, 14, 15, 16, 17, 18, 24, 25, 26, 28])\n",
      "frozenset({1, 3, 4, 5, 6, 8, 10, 14, 15, 16, 17, 18, 24, 25, 26, 28})\n"
     ]
    }
   ],
   "source": [
    "import torch\n",
    "x = torch.randn(30)\n",
    "print(x)\n",
    "x = x.heaviside(torch.tensor(1.))\n",
    "print(x)\n",
    "x = ((x == 1).nonzero().squeeze())\n",
    "print(x)\n",
    "print(frozenset(x.numpy()))"
   ]
  }
 ],
 "metadata": {
  "kernelspec": {
   "display_name": "Python 3.9.12 ('subgame')",
   "language": "python",
   "name": "python3"
  },
  "language_info": {
   "codemirror_mode": {
    "name": "ipython",
    "version": 3
   },
   "file_extension": ".py",
   "mimetype": "text/x-python",
   "name": "python",
   "nbconvert_exporter": "python",
   "pygments_lexer": "ipython3",
   "version": "3.9.12"
  },
  "orig_nbformat": 4,
  "vscode": {
   "interpreter": {
    "hash": "09b31e4957d63d79e1e76c5537c345194b9f565583fac53cbbb105281d72baf4"
   }
  }
 },
 "nbformat": 4,
 "nbformat_minor": 2
}
