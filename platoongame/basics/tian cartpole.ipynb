{
 "cells": [
  {
   "cell_type": "code",
   "execution_count": 1,
   "metadata": {},
   "outputs": [],
   "source": [
    "import gym\n",
    "import tianshou as ts\n",
    "import torch"
   ]
  },
  {
   "cell_type": "code",
   "execution_count": 2,
   "metadata": {},
   "outputs": [],
   "source": [
    "envName = \"CartPole-v1\"\n",
    "env = gym.make(envName)"
   ]
  },
  {
   "cell_type": "code",
   "execution_count": 3,
   "metadata": {},
   "outputs": [],
   "source": [
    "train_envs = ts.env.DummyVectorEnv([lambda: gym.make(envName) for _ in range(10)])\n",
    "test_envs = ts.env.DummyVectorEnv([lambda: gym.make(envName, render_mode=\"human\") for _ in range(100)])"
   ]
  },
  {
   "cell_type": "code",
   "execution_count": 4,
   "metadata": {},
   "outputs": [],
   "source": [
    "from tianshou.utils.net.common import Net\n",
    "state_shape = env.observation_space.shape or env.observation_space.n\n",
    "action_shape = env.action_space.shape or env.action_space.n\n",
    "net = Net(state_shape, action_shape, hidden_sizes=(128,128,128,128))\n",
    "optim = torch.optim.Adam(net.parameters(), lr=1e-3)"
   ]
  },
  {
   "cell_type": "code",
   "execution_count": 5,
   "metadata": {},
   "outputs": [],
   "source": [
    "policy = ts.policy.DQNPolicy(net, optim, discount_factor=0.9, estimation_step=3, target_update_freq=320)"
   ]
  },
  {
   "cell_type": "code",
   "execution_count": 6,
   "metadata": {},
   "outputs": [],
   "source": [
    "train_collector = ts.data.Collector(policy, train_envs, ts.data.VectorReplayBuffer(20000, 10), exploration_noise=True)\n",
    "test_collector = ts.data.Collector(policy, train_envs, exploration_noise=True)"
   ]
  },
  {
   "cell_type": "code",
   "execution_count": 7,
   "metadata": {},
   "outputs": [
    {
     "data": {
      "text/plain": [
       "EnvSpec(id='CartPole-v1', entry_point='gym.envs.classic_control.cartpole:CartPoleEnv', reward_threshold=475.0, nondeterministic=False, max_episode_steps=500, order_enforce=True, autoreset=False, disable_env_checker=False, apply_api_compatibility=False, kwargs={}, namespace=None, name='CartPole', version=1)"
      ]
     },
     "execution_count": 7,
     "metadata": {},
     "output_type": "execute_result"
    }
   ],
   "source": [
    "env.spec"
   ]
  },
  {
   "cell_type": "code",
   "execution_count": 8,
   "metadata": {},
   "outputs": [
    {
     "data": {
      "text/plain": [
       "475.0"
      ]
     },
     "execution_count": 8,
     "metadata": {},
     "output_type": "execute_result"
    }
   ],
   "source": [
    "env.spec.reward_threshold"
   ]
  },
  {
   "cell_type": "code",
   "execution_count": 9,
   "metadata": {},
   "outputs": [
    {
     "name": "stderr",
     "output_type": "stream",
     "text": [
      "Epoch #1: 10001it [00:07, 1405.44it/s, env_step=10000, len=137, loss=0.351, n/ep=0, n/st=10, rew=137.00]                           \n"
     ]
    },
    {
     "name": "stdout",
     "output_type": "stream",
     "text": [
      "Epoch #1: test_reward: 206.040000 ± 44.547485, best_reward: 206.040000 ± 44.547485 in #1\n"
     ]
    },
    {
     "name": "stderr",
     "output_type": "stream",
     "text": [
      "Epoch #2: 10001it [00:06, 1568.23it/s, env_step=20000, len=177, loss=0.386, n/ep=0, n/st=10, rew=177.00]                           \n"
     ]
    },
    {
     "name": "stdout",
     "output_type": "stream",
     "text": [
      "Epoch #2: test_reward: 210.830000 ± 24.216133, best_reward: 210.830000 ± 24.216133 in #2\n"
     ]
    },
    {
     "name": "stderr",
     "output_type": "stream",
     "text": [
      "Epoch #3: 10001it [00:06, 1564.43it/s, env_step=30000, len=227, loss=0.057, n/ep=0, n/st=10, rew=227.00]                           \n"
     ]
    },
    {
     "name": "stdout",
     "output_type": "stream",
     "text": [
      "Epoch #3: test_reward: 178.170000 ± 12.687045, best_reward: 210.830000 ± 24.216133 in #2\n"
     ]
    },
    {
     "name": "stderr",
     "output_type": "stream",
     "text": [
      "Epoch #4: 10001it [00:07, 1414.14it/s, env_step=40000, len=149, loss=0.025, n/ep=0, n/st=10, rew=149.00]                           \n"
     ]
    },
    {
     "name": "stdout",
     "output_type": "stream",
     "text": [
      "Epoch #4: test_reward: 176.080000 ± 11.839493, best_reward: 210.830000 ± 24.216133 in #2\n"
     ]
    },
    {
     "name": "stderr",
     "output_type": "stream",
     "text": [
      "Epoch #5: 10001it [00:06, 1463.88it/s, env_step=50000, len=176, loss=0.026, n/ep=0, n/st=10, rew=176.00]                           \n"
     ]
    },
    {
     "name": "stdout",
     "output_type": "stream",
     "text": [
      "Epoch #5: test_reward: 196.890000 ± 14.592392, best_reward: 210.830000 ± 24.216133 in #2\n"
     ]
    },
    {
     "name": "stderr",
     "output_type": "stream",
     "text": [
      "Epoch #6: 10001it [00:07, 1394.38it/s, env_step=60000, len=154, loss=0.025, n/ep=0, n/st=10, rew=154.00]                           \n"
     ]
    },
    {
     "name": "stdout",
     "output_type": "stream",
     "text": [
      "Epoch #6: test_reward: 172.770000 ± 10.669447, best_reward: 210.830000 ± 24.216133 in #2\n"
     ]
    },
    {
     "name": "stderr",
     "output_type": "stream",
     "text": [
      "Epoch #7: 10001it [00:06, 1591.69it/s, env_step=70000, len=158, loss=0.041, n/ep=0, n/st=10, rew=158.00]                           \n"
     ]
    },
    {
     "name": "stdout",
     "output_type": "stream",
     "text": [
      "Epoch #7: test_reward: 203.140000 ± 25.707205, best_reward: 210.830000 ± 24.216133 in #2\n"
     ]
    },
    {
     "name": "stderr",
     "output_type": "stream",
     "text": [
      "Epoch #8: 10001it [00:06, 1522.81it/s, env_step=80000, len=180, loss=0.057, n/ep=0, n/st=10, rew=180.00]                           \n"
     ]
    },
    {
     "name": "stdout",
     "output_type": "stream",
     "text": [
      "Epoch #8: test_reward: 167.100000 ± 7.091544, best_reward: 210.830000 ± 24.216133 in #2\n"
     ]
    },
    {
     "name": "stderr",
     "output_type": "stream",
     "text": [
      "Epoch #9: 10001it [00:06, 1562.25it/s, env_step=90000, len=230, loss=0.013, n/ep=0, n/st=10, rew=230.00]                           \n"
     ]
    },
    {
     "name": "stdout",
     "output_type": "stream",
     "text": [
      "Epoch #9: test_reward: 155.050000 ± 9.343848, best_reward: 210.830000 ± 24.216133 in #2\n"
     ]
    },
    {
     "name": "stderr",
     "output_type": "stream",
     "text": [
      "Epoch #10: 10001it [00:06, 1571.68it/s, env_step=100000, len=142, loss=0.034, n/ep=0, n/st=10, rew=142.00]                           \n"
     ]
    },
    {
     "name": "stdout",
     "output_type": "stream",
     "text": [
      "Epoch #10: test_reward: 103.350000 ± 9.334211, best_reward: 210.830000 ± 24.216133 in #2\n"
     ]
    },
    {
     "name": "stderr",
     "output_type": "stream",
     "text": [
      "Epoch #11: 10001it [00:06, 1562.57it/s, env_step=110000, len=40, loss=0.085, n/ep=0, n/st=10, rew=40.00]                            \n"
     ]
    },
    {
     "name": "stdout",
     "output_type": "stream",
     "text": [
      "Epoch #11: test_reward: 105.590000 ± 3.243748, best_reward: 210.830000 ± 24.216133 in #2\n"
     ]
    },
    {
     "name": "stderr",
     "output_type": "stream",
     "text": [
      "Epoch #12: 10001it [00:06, 1561.73it/s, env_step=120000, len=139, loss=0.185, n/ep=0, n/st=10, rew=139.00]                           \n"
     ]
    },
    {
     "name": "stdout",
     "output_type": "stream",
     "text": [
      "Epoch #12: test_reward: 83.370000 ± 34.078044, best_reward: 210.830000 ± 24.216133 in #2\n"
     ]
    },
    {
     "name": "stderr",
     "output_type": "stream",
     "text": [
      "Epoch #13: 10001it [00:06, 1546.68it/s, env_step=130000, len=129, loss=0.136, n/ep=0, n/st=10, rew=129.00]                           \n"
     ]
    },
    {
     "name": "stdout",
     "output_type": "stream",
     "text": [
      "Epoch #13: test_reward: 128.560000 ± 10.053179, best_reward: 210.830000 ± 24.216133 in #2\n"
     ]
    },
    {
     "name": "stderr",
     "output_type": "stream",
     "text": [
      "Epoch #14: 10001it [00:06, 1571.12it/s, env_step=140000, len=132, loss=0.084, n/ep=0, n/st=10, rew=132.00]                           \n"
     ]
    },
    {
     "name": "stdout",
     "output_type": "stream",
     "text": [
      "Epoch #14: test_reward: 138.270000 ± 6.581573, best_reward: 210.830000 ± 24.216133 in #2\n"
     ]
    },
    {
     "name": "stderr",
     "output_type": "stream",
     "text": [
      "Epoch #15: 10001it [00:06, 1571.50it/s, env_step=150000, len=203, loss=0.060, n/ep=0, n/st=10, rew=203.00]                           \n"
     ]
    },
    {
     "name": "stdout",
     "output_type": "stream",
     "text": [
      "Epoch #15: test_reward: 170.650000 ± 14.485424, best_reward: 210.830000 ± 24.216133 in #2\n"
     ]
    },
    {
     "name": "stderr",
     "output_type": "stream",
     "text": [
      "Epoch #16: 10001it [00:15, 629.76it/s, env_step=160000, len=833, loss=0.131, n/ep=0, n/st=10, rew=833.00]                           \n"
     ]
    },
    {
     "name": "stdout",
     "output_type": "stream",
     "text": [
      "Epoch #16: test_reward: 128.720000 ± 8.747663, best_reward: 210.830000 ± 24.216133 in #2\n"
     ]
    },
    {
     "name": "stderr",
     "output_type": "stream",
     "text": [
      "Epoch #17: 10001it [00:06, 1581.91it/s, env_step=170000, len=207, loss=0.056, n/ep=0, n/st=10, rew=207.00]                           \n"
     ]
    },
    {
     "name": "stdout",
     "output_type": "stream",
     "text": [
      "Epoch #17: test_reward: 326.030000 ± 85.559389, best_reward: 326.030000 ± 85.559389 in #17\n"
     ]
    },
    {
     "name": "stderr",
     "output_type": "stream",
     "text": [
      "Epoch #18: 10001it [00:07, 1395.22it/s, env_step=180000, len=179, loss=0.073, n/ep=0, n/st=10, rew=179.00]                           \n"
     ]
    },
    {
     "name": "stdout",
     "output_type": "stream",
     "text": [
      "Epoch #18: test_reward: 140.660000 ± 5.150184, best_reward: 326.030000 ± 85.559389 in #17\n"
     ]
    },
    {
     "name": "stderr",
     "output_type": "stream",
     "text": [
      "Epoch #19: 10001it [00:11, 863.19it/s, env_step=190000, len=125, loss=0.226, n/ep=0, n/st=10, rew=125.00]                            \n"
     ]
    },
    {
     "name": "stdout",
     "output_type": "stream",
     "text": [
      "Epoch #19: test_reward: 97.230000 ± 10.822065, best_reward: 326.030000 ± 85.559389 in #17\n"
     ]
    },
    {
     "name": "stderr",
     "output_type": "stream",
     "text": [
      "Epoch #20: 10001it [00:10, 991.19it/s, env_step=200000, len=552, loss=0.255, n/ep=0, n/st=10, rew=552.00]                           \n"
     ]
    },
    {
     "name": "stdout",
     "output_type": "stream",
     "text": [
      "Epoch #20: test_reward: 115.900000 ± 10.931148, best_reward: 326.030000 ± 85.559389 in #17\n",
      "Finished training! Use 174.45s\n"
     ]
    }
   ],
   "source": [
    "result = ts.trainer.offpolicy_trainer(\n",
    "    policy, train_collector, test_collector,\n",
    "    max_epoch=20, step_per_epoch=10000, step_per_collect=10,\n",
    "    update_per_step=0.1, episode_per_test=100, batch_size=64,\n",
    "    train_fn=lambda epoch, env_step: policy.set_eps(0.1),\n",
    "    test_fn=lambda epoch, env_step: policy.set_eps(0.05),\n",
    "    stop_fn=lambda mean_rewards: mean_rewards >= env.spec.reward_threshold,\n",
    ")\n",
    "print(f\"Finished training! Use {result['duration']}\")"
   ]
  },
  {
   "cell_type": "code",
   "execution_count": 10,
   "metadata": {},
   "outputs": [
    {
     "data": {
      "text/plain": [
       "{'duration': '174.45s',\n",
       " 'train_time/model': '105.86s',\n",
       " 'test_step': 559467,\n",
       " 'test_episode': 3500,\n",
       " 'test_time': '43.05s',\n",
       " 'test_speed': '12995.26 step/s',\n",
       " 'best_reward': 326.03,\n",
       " 'best_result': '326.03 ± 85.56',\n",
       " 'train_step': 200000,\n",
       " 'train_episode': 1441,\n",
       " 'train_time/collector': '25.54s',\n",
       " 'train_speed': '1522.13 step/s'}"
      ]
     },
     "execution_count": 10,
     "metadata": {},
     "output_type": "execute_result"
    }
   ],
   "source": [
    "result"
   ]
  },
  {
   "cell_type": "code",
   "execution_count": 11,
   "metadata": {},
   "outputs": [
    {
     "name": "stderr",
     "output_type": "stream",
     "text": [
      "c:\\Users\\TeamD\\.conda\\envs\\tianshou\\lib\\site-packages\\tianshou\\data\\collector.py:68: UserWarning: Single environment detected, wrap to DummyVectorEnv.\n",
      "  warnings.warn(\"Single environment detected, wrap to DummyVectorEnv.\")\n"
     ]
    }
   ],
   "source": [
    "policy.eval()\n",
    "policy.set_eps(0.05)\n",
    "collector = ts.data.Collector(policy, gym.make(envName, render_mode=\"human\"), exploration_noise=False)\n",
    "collector.collect(n_episode=10, render=1 / 60)"
   ]
  }
 ],
 "metadata": {
  "kernelspec": {
   "display_name": "Python 3.9.15 ('tianshou')",
   "language": "python",
   "name": "python3"
  },
  "language_info": {
   "codemirror_mode": {
    "name": "ipython",
    "version": 3
   },
   "file_extension": ".py",
   "mimetype": "text/x-python",
   "name": "python",
   "nbconvert_exporter": "python",
   "pygments_lexer": "ipython3",
   "version": "3.9.15 (main, Nov 24 2022, 14:39:17) [MSC v.1916 64 bit (AMD64)]"
  },
  "orig_nbformat": 4,
  "vscode": {
   "interpreter": {
    "hash": "71d9f79eb180b017341f284521d8f1f73000b55d56576dd42cfa51175f09c3a6"
   }
  }
 },
 "nbformat": 4,
 "nbformat_minor": 2
}
