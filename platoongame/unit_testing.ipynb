{
 "cells": [
  {
   "cell_type": "code",
   "execution_count": 1,
   "metadata": {},
   "outputs": [],
   "source": [
    "from agents import BasicAttackerAgent, WolpertingerDefenderAgent\n",
    "from evaluation import Evaluator\n",
    "from game import GameConfig\n",
    "from models import StateShapeData\n",
    "from vehicles import JsonVehicleProvider, Vehicle, Vulnerability"
   ]
  },
  {
   "cell_type": "code",
   "execution_count": 2,
   "metadata": {},
   "outputs": [
    {
     "name": "stderr",
     "output_type": "stream",
     "text": [
      "c:\\Users\\TeamD\\.conda\\envs\\subgame\\lib\\site-packages\\torch\\nn\\modules\\lazy.py:178: UserWarning: Lazy modules are a new feature under heavy development so changes to the API or functionality can happen at any moment.\n",
      "  warnings.warn('Lazy modules are a new feature under heavy development '\n"
     ]
    }
   ],
   "source": [
    "vehicle_provider=JsonVehicleProvider(\"../subgame/python/solutions.json\")\n",
    "game_config=GameConfig(\n",
    "    max_vehicles=30,\n",
    "    cycle_every=3,\n",
    "    cycle_num=5,\n",
    "    cycle_allow_platoon=False\n",
    ")\n",
    "\n",
    "attacker=BasicAttackerAgent(1)\n",
    "defender=WolpertingerDefenderAgent(\n",
    "    state_shape_data=StateShapeData(\n",
    "        num_vehicles=game_config.max_vehicles,\n",
    "        num_vehicle_features=Vehicle.get_shape()[0],\n",
    "        num_vulns=vehicle_provider.max_vulns,\n",
    "        num_vuln_features=Vulnerability.get_shape()[0]\n",
    "    )\n",
    ")\n",
    "\n",
    "engine = Evaluator(\n",
    "    vehicle_provider=vehicle_provider,\n",
    "    game_config=game_config,\n",
    "    num_rounds=1000\n",
    ")\n",
    "engine.reset()"
   ]
  },
  {
   "cell_type": "markdown",
   "metadata": {},
   "source": [
    "#### State shape expectations"
   ]
  },
  {
   "cell_type": "code",
   "execution_count": 3,
   "metadata": {},
   "outputs": [
    {
     "name": "stdout",
     "output_type": "stream",
     "text": [
      "vulnerabilities torch.Size([5, 30, 7, 4])\n",
      "vehicles torch.Size([5, 30, 2])\n"
     ]
    }
   ],
   "source": [
    "from models import StateTensorBatch\n",
    "import torch\n",
    "\n",
    "batch_size = 5\n",
    "state_batch = engine.game.state.as_tensors(defender.state_shape_data)\n",
    "state_batch = StateTensorBatch(\n",
    "    vulnerabilities=torch.cat([state_batch.vulnerabilities] * batch_size),\n",
    "    vehicles=torch.cat([state_batch.vehicles] * batch_size),\n",
    ")\n",
    "shape = state_batch.vulnerabilities.shape\n",
    "print(\"vulnerabilities\", shape)\n",
    "assert shape[0] == batch_size\n",
    "assert shape[1] == game_config.max_vehicles\n",
    "assert shape[2] == defender.state_shape_data.num_vulns\n",
    "assert shape[3] == defender.state_shape_data.num_vuln_features\n",
    "\n",
    "shape = state_batch.vehicles.shape\n",
    "print(\"vehicles\", state_batch.vehicles.shape)\n",
    "assert shape[0] == batch_size\n",
    "assert shape[1] == game_config.max_vehicles\n",
    "assert shape[2] == defender.state_shape_data.num_vehicle_features"
   ]
  },
  {
   "cell_type": "markdown",
   "metadata": {},
   "source": [
    "#### Proto actions shape expectations"
   ]
  },
  {
   "cell_type": "code",
   "execution_count": 4,
   "metadata": {},
   "outputs": [
    {
     "name": "stdout",
     "output_type": "stream",
     "text": [
      "torch.Size([5, 1, 30])\n",
      "torch.Size([5, 1, 30])\n"
     ]
    }
   ],
   "source": [
    "proto_action_batch = defender.actor(state_batch)\n",
    "shape = proto_action_batch.members.shape\n",
    "print(shape)\n",
    "assert len(shape) == 3\n",
    "assert shape[0] == batch_size\n",
    "assert shape[1] == 1\n",
    "assert shape[2] == defender.state_shape_data.num_vehicles\n",
    "\n",
    "shape = proto_action_batch.monitor.shape\n",
    "print(shape)\n",
    "assert len(shape) == 3\n",
    "assert shape[0] == batch_size\n",
    "assert shape[1] == 1\n",
    "assert shape[2] == defender.state_shape_data.num_vehicles"
   ]
  },
  {
   "cell_type": "markdown",
   "metadata": {},
   "source": [
    "#### Critic can accept unconverted proto-output from actor"
   ]
  },
  {
   "cell_type": "code",
   "execution_count": 5,
   "metadata": {},
   "outputs": [
    {
     "name": "stdout",
     "output_type": "stream",
     "text": [
      "state torch.Size([5, 30, 2]) torch.Size([5, 30, 7, 4])\n",
      "actions torch.Size([5, 1, 30]) torch.Size([5, 1, 30])\n",
      "torch.Size([5, 1])\n"
     ]
    },
    {
     "name": "stderr",
     "output_type": "stream",
     "text": [
      "c:\\Users\\TeamD\\.conda\\envs\\subgame\\lib\\site-packages\\torch\\nn\\functional.py:1795: UserWarning: nn.functional.tanh is deprecated. Use torch.tanh instead.\n",
      "  warnings.warn(\"nn.functional.tanh is deprecated. Use torch.tanh instead.\")\n"
     ]
    }
   ],
   "source": [
    "print(\"state\", state_batch.vehicles.shape, state_batch.vulnerabilities.shape)\n",
    "print(\"actions\", proto_action_batch.members.shape, proto_action_batch.monitor.shape)\n",
    "q_values = defender.critic(state_batch, proto_action_batch)\n",
    "shape = q_values.shape\n",
    "print(shape)\n",
    "assert len(shape) == 2\n",
    "assert shape[0] == batch_size\n",
    "assert shape[1] == 1"
   ]
  },
  {
   "cell_type": "markdown",
   "metadata": {},
   "source": [
    "#### Proto action collapse expectations"
   ]
  },
  {
   "cell_type": "code",
   "execution_count": 6,
   "metadata": {},
   "outputs": [
    {
     "name": "stdout",
     "output_type": "stream",
     "text": [
      "members torch.Size([5, 5, 30])\n",
      "monitor torch.Size([5, 5, 30])\n"
     ]
    }
   ],
   "source": [
    "actions = defender.collapse_proto_actions(proto_action_batch)\n",
    "shape = actions.members.shape\n",
    "print(\"members\", shape)\n",
    "assert shape[0] == batch_size\n",
    "assert shape[1] > 1 # should propose multiple actions for each proto-action\n",
    "assert shape[2] == defender.state_shape_data.num_vehicles\n",
    "shape = actions.monitor.shape\n",
    "print(\"monitor\", shape)\n",
    "assert shape[0] == batch_size\n",
    "assert shape[1] > 1 # should propose multiple actions for each proto-action\n",
    "assert shape[2] == defender.state_shape_data.num_vehicles"
   ]
  },
  {
   "cell_type": "markdown",
   "metadata": {},
   "source": [
    "#### Critic shape expectations"
   ]
  },
  {
   "cell_type": "code",
   "execution_count": 7,
   "metadata": {},
   "outputs": [
    {
     "name": "stdout",
     "output_type": "stream",
     "text": [
      "state torch.Size([5, 30, 2]) torch.Size([5, 30, 7, 4])\n",
      "actions torch.Size([5, 5, 30]) torch.Size([5, 5, 30])\n",
      "torch.Size([5, 5])\n",
      "tensor([3, 3, 3, 3, 4])\n"
     ]
    }
   ],
   "source": [
    "print(\"state\", state_batch.vehicles.shape, state_batch.vulnerabilities.shape)\n",
    "print(\"actions\", actions.members.shape, actions.monitor.shape)\n",
    "q_values = defender.critic(state_batch, actions)\n",
    "shape = q_values.shape\n",
    "print(shape)\n",
    "\n",
    "assert len(shape) == 2\n",
    "assert shape[0] == batch_size\n",
    "assert shape[1] == actions.members.shape[1]\n",
    "\n",
    "print(q_values.argmax(dim=1))"
   ]
  }
 ],
 "metadata": {
  "kernelspec": {
   "display_name": "Python 3.9.12 ('subgame')",
   "language": "python",
   "name": "python3"
  },
  "language_info": {
   "codemirror_mode": {
    "name": "ipython",
    "version": 3
   },
   "file_extension": ".py",
   "mimetype": "text/x-python",
   "name": "python",
   "nbconvert_exporter": "python",
   "pygments_lexer": "ipython3",
   "version": "3.9.12"
  },
  "orig_nbformat": 4,
  "vscode": {
   "interpreter": {
    "hash": "09b31e4957d63d79e1e76c5537c345194b9f565583fac53cbbb105281d72baf4"
   }
  }
 },
 "nbformat": 4,
 "nbformat_minor": 2
}
