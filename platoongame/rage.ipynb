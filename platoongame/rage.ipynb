{
 "cells": [
  {
   "cell_type": "code",
   "execution_count": 1,
   "metadata": {},
   "outputs": [],
   "source": [
    "import torch\n",
    "from torch import Tensor\n",
    "import random\n",
    "import math\n",
    "from typing import List, Tuple, Union, Iterable, Callable, Optional\n",
    "from tqdm.notebook import tqdm\n",
    "import matplotlib.pyplot as plt"
   ]
  },
  {
   "cell_type": "markdown",
   "metadata": {},
   "source": [
    "## Config"
   ]
  },
  {
   "cell_type": "code",
   "execution_count": 2,
   "metadata": {},
   "outputs": [],
   "source": [
    "State = Tensor # vehicle, vuln, feature\n",
    "StateBatch = Tensor\n",
    "DefenderAction = Tensor # vehicles\n",
    "DefenderActionBatch = Tensor\n",
    "AttackerAction = Tensor # vehicles\n",
    "AttackerActionBatch = Tensor\n",
    "Reward = Tensor\n",
    "RewardBatch = Tensor\n",
    "Terminal = Tensor\n",
    "TerminalBatch = Tensor\n",
    "\n",
    "MAX_VEHICLES                        = 10     #@param {type:\"integer\"}\n",
    "MAX_VULNS                           = 3      #@param {type:\"integer\"}\n",
    "MAX_ATTACK                          = 2      #@param {type:\"integer\"}\n",
    "\n",
    "BATCH_SIZE                          = 100    #@param {type:\"integer\"}\n",
    "MEMORY_SIZE                         = 10000  #@param {type:\"integer\"}\n",
    "MEMORY_WARMUP_STEPS                 = 20     #@param {type:\"integer\"} # scaled by batch size\n",
    "\n",
    "TRAIN_STEPS                         = 25     #@param {type:\"integer\"}\n",
    "EXPLORATION_STEPS_PER_TRAIN_STEP    = 1      #@param {type:\"integer\"} # scaled by batch size\n",
    "\n",
    "LEARNING_RATE                       = 0.001  #@param {type:\"number\"}\n",
    "LEARNING_RATE_GAMMA                 = 0.9    #@param {type:\"number\"}\n",
    "LEARNING_RATE_GAMMA_FREQUENCY       = 100    #@param {type:\"integer\"}\n",
    "\n",
    "REWARD_GAMMA                        = 0.99   #@param {type:\"number\"}\n",
    "\n",
    "EPSILON_DECAY_STEPS                 = 10000  #@param {type:\"integer\"}\n",
    "EPSILON_THETA                       = 0.0    #@param {type:\"number\"}\n",
    "EPSILON_MU                          = 0.0    #@param {type:\"number\"}\n",
    "EPSILON_SIGMA                       = 3      #@param {type:\"number\"}\n",
    "\n",
    "SOFT_UPDATE_TAU                     = 0.001   #@param {type:\"number\"}\n",
    "\n",
    "DEVICE = torch.cuda.is_available() and torch.device('cuda') or torch.device('cpu')"
   ]
  },
  {
   "cell_type": "code",
   "execution_count": 3,
   "metadata": {
    "tags": []
   },
   "outputs": [],
   "source": [
    "def get_random_starting_state() -> State:\n",
    "    prob_dist = torch.distributions.Normal(\n",
    "        loc=torch.as_tensor(0.5, dtype=torch.float32),\n",
    "        scale=torch.as_tensor(0.25, dtype=torch.float32),\n",
    "    )\n",
    "    sev_dist = torch.distributions.Normal(\n",
    "        loc=torch.as_tensor(2, dtype=torch.float32),\n",
    "        scale=torch.as_tensor(1, dtype=torch.float32),\n",
    "    )\n",
    "    state = torch.zeros((MAX_VEHICLES, MAX_VULNS, 4), dtype=torch.float32)\n",
    "    for i in range(MAX_VEHICLES):\n",
    "        for j in range(random.randint(0, MAX_VULNS)):\n",
    "            state[i,j,0] = float(prob_dist.sample().clamp(0.05,1)) # prob\n",
    "            state[i,j,1] = int(sev_dist.sample().clamp(1,5)) ** 2 # sev\n",
    "            state[i,j,2] = 0 # compromised\n",
    "            state[i,j,3] = 0 # membership\n",
    "\n",
    "    return state"
   ]
  },
  {
   "cell_type": "code",
   "execution_count": 4,
   "metadata": {},
   "outputs": [],
   "source": [
    "def get_empty_state() -> State:\n",
    "    return torch.zeros((MAX_VEHICLES, MAX_VULNS, 4), dtype=torch.float32)"
   ]
  },
  {
   "cell_type": "code",
   "execution_count": 5,
   "metadata": {},
   "outputs": [],
   "source": [
    "def batch_states(states: Union[Tuple[State, ...], List[State]]) -> StateBatch:\n",
    "    return torch.stack(states)"
   ]
  },
  {
   "cell_type": "code",
   "execution_count": 6,
   "metadata": {},
   "outputs": [],
   "source": [
    "def get_random_starting_state_batch(num_batches: int) -> StateBatch:\n",
    "    return batch_states([get_random_starting_state() for _ in range(num_batches)])"
   ]
  },
  {
   "cell_type": "code",
   "execution_count": 7,
   "metadata": {},
   "outputs": [],
   "source": [
    "def get_attacker_actions(states: StateBatch) -> AttackerActionBatch:\n",
    "    priority = (states[:,:,:,0] * states[:,:,:,1] * (1-states[:,:,:,2])).sum(dim=-1)\n",
    "    # find indices of vehicles to attack\n",
    "    attack = priority.topk(MAX_ATTACK).indices\n",
    "    # return mask of vehicles to attack\n",
    "    return torch.zeros((states.shape[0], MAX_VEHICLES), dtype=torch.float32).scatter_(1, attack, 1)"
   ]
  },
  {
   "cell_type": "code",
   "execution_count": 8,
   "metadata": {},
   "outputs": [],
   "source": [
    "def apply_attacker_actions(states: StateBatch, actions: AttackerActionBatch) -> StateBatch:\n",
    "    # batch size must be the same\n",
    "    assert states.shape[0] == actions.shape[0]\n",
    "\n",
    "    # create a copy so we don't modify the original\n",
    "    states = states.clone()\n",
    "\n",
    "    # roll probability for each vulnerability\n",
    "    probs = torch.rand((states.shape[0], MAX_VEHICLES, MAX_VULNS), dtype=torch.float32)\n",
    "\n",
    "    # only keep vulns for vehicles that are being attacked\n",
    "    for i in range(states.shape[0]):\n",
    "        probs[i, actions[i]!=1, :] = 0 \n",
    "\n",
    "    # set the vulnerability compromised flag to 1 for each successful attack\n",
    "    states[:,:,:,2] += (probs > 1-states[:,:,:,0]).float()\n",
    "    states[:,:,:,2] = states[:,:,:,2].clamp(0, 1)\n",
    "    return states"
   ]
  },
  {
   "cell_type": "code",
   "execution_count": 9,
   "metadata": {},
   "outputs": [],
   "source": [
    "def get_random_defender_actions(states: StateBatch) -> DefenderActionBatch:\n",
    "    return (torch.rand((states.shape[0], MAX_VEHICLES), dtype=torch.float32) > 0.5).float()"
   ]
  },
  {
   "cell_type": "code",
   "execution_count": 10,
   "metadata": {
    "tags": []
   },
   "outputs": [],
   "source": [
    "def apply_defender_actions(states: StateBatch, actions: DefenderActionBatch) -> StateBatch:\n",
    "    # batch size must be the same\n",
    "    assert states.shape[0] == actions.shape[0]\n",
    "\n",
    "    # create a copy so we don't modify the original\n",
    "    states = states.clone()\n",
    "\n",
    "    # set the membership flag to 1 for each vuln in each vehicle that is chosen\n",
    "    states[:,:,:,3] = 0\n",
    "    for i in range(states.shape[0]):\n",
    "        states[i,actions[i,:]==1,:,3] = 1\n",
    "    return states"
   ]
  },
  {
   "cell_type": "markdown",
   "metadata": {},
   "source": [
    "## Reward function"
   ]
  },
  {
   "cell_type": "code",
   "execution_count": 11,
   "metadata": {},
   "outputs": [],
   "source": [
    "def get_defender_utilities(states: StateBatch) -> RewardBatch:\n",
    "    # identify which platoons contain compromised vehicles\n",
    "    compromise_free_platoons = (states[:,:,:,2] * states[:,:,:,3]).sum(dim=[-1,-2]) == 0\n",
    "    # identify size of each platoon\n",
    "    members = states[:,:,:,3].max(dim=-1).values.sum(dim=-1)\n",
    "    # return 0 if platoon is compromised, size of platoon otherwise\n",
    "    return members * compromise_free_platoons.float()"
   ]
  },
  {
   "cell_type": "markdown",
   "metadata": {},
   "source": [
    "## Models"
   ]
  },
  {
   "cell_type": "code",
   "execution_count": 12,
   "metadata": {},
   "outputs": [],
   "source": [
    "import torch.nn as nn\n",
    "import torch.nn.functional as F"
   ]
  },
  {
   "cell_type": "code",
   "execution_count": 13,
   "metadata": {},
   "outputs": [],
   "source": [
    "class DefenderActor(nn.Module):\n",
    "    def __init__(self):\n",
    "        super().__init__()\n",
    "        self.conv1 = nn.LazyConv2d(out_channels=5, kernel_size=2, stride=1)\n",
    "        self.fc1 = nn.LazyLinear(256)\n",
    "        self.fc2 = nn.LazyLinear(128)\n",
    "        self.fc3 = nn.LazyLinear(MAX_VEHICLES)\n",
    "\n",
    "    def forward(self, x: StateBatch) -> DefenderActionBatch:\n",
    "        x = torch.hstack((\n",
    "            F.gelu(self.conv1(x)).flatten(start_dim=1),\n",
    "            x.flatten(start_dim=1), # skip connection after conv\n",
    "        ))\n",
    "        x = F.gelu(self.fc1(x))\n",
    "        x = F.gelu(self.fc2(x))\n",
    "        x = torch.tanh(self.fc3(x))\n",
    "        return x"
   ]
  },
  {
   "cell_type": "code",
   "execution_count": 14,
   "metadata": {},
   "outputs": [],
   "source": [
    "class DefenderCritic(nn.Module):\n",
    "    def __init__(self) -> None:\n",
    "        super().__init__()\n",
    "        self.conv1 = nn.LazyConv2d(out_channels=5, kernel_size=2, stride=1)\n",
    "        self.fc1 = nn.LazyLinear(256)\n",
    "        self.fc2 = nn.LazyLinear(128)\n",
    "        self.fc3 = nn.LazyLinear(1)\n",
    "    def forward(self, x1: StateBatch, x2: DefenderActionBatch) -> Reward:\n",
    "        x = torch.hstack((\n",
    "            F.gelu(self.conv1(x1)).flatten(start_dim=1),\n",
    "            x1.flatten(start_dim=1), # skip connection after conv\n",
    "            x2,\n",
    "        ))\n",
    "        x = F.gelu(self.fc1(x))\n",
    "        x = F.gelu(self.fc2(x))\n",
    "        x = self.fc3(x)\n",
    "        return x"
   ]
  },
  {
   "cell_type": "code",
   "execution_count": 15,
   "metadata": {},
   "outputs": [
    {
     "name": "stderr",
     "output_type": "stream",
     "text": [
      "c:\\Users\\TeamD\\.conda\\envs\\subgame\\lib\\site-packages\\torch\\nn\\modules\\lazy.py:178: UserWarning: Lazy modules are a new feature under heavy development so changes to the API or functionality can happen at any moment.\n",
      "  warnings.warn('Lazy modules are a new feature under heavy development '\n"
     ]
    },
    {
     "data": {
      "text/plain": [
       "<All keys matched successfully>"
      ]
     },
     "execution_count": 15,
     "metadata": {},
     "output_type": "execute_result"
    }
   ],
   "source": [
    "actor = DefenderActor()\n",
    "actor_target = DefenderActor()\n",
    "actor_target.load_state_dict(actor.state_dict())\n",
    "critic = DefenderCritic()\n",
    "critic_target = DefenderCritic()\n",
    "critic_target.load_state_dict(critic.state_dict())"
   ]
  },
  {
   "cell_type": "code",
   "execution_count": 16,
   "metadata": {},
   "outputs": [
    {
     "data": {
      "text/plain": [
       "<All keys matched successfully>"
      ]
     },
     "execution_count": 16,
     "metadata": {},
     "output_type": "execute_result"
    }
   ],
   "source": [
    "# ensure weights are initialized\n",
    "critic(get_random_starting_state_batch(1), actor(get_random_starting_state_batch(1)))\n",
    "critic_target(get_random_starting_state_batch(1), actor_target(get_random_starting_state_batch(1)))\n",
    "\n",
    "# hard update weights\n",
    "critic_target.load_state_dict(critic.state_dict())\n",
    "actor_target.load_state_dict(actor.state_dict())"
   ]
  },
  {
   "cell_type": "markdown",
   "metadata": {},
   "source": [
    "## Replay memory"
   ]
  },
  {
   "cell_type": "code",
   "execution_count": 17,
   "metadata": {},
   "outputs": [],
   "source": [
    "from collections import deque\n",
    "from dataclasses import dataclass\n",
    "\n",
    "@dataclass\n",
    "class Transition:\n",
    "    state: State\n",
    "    action: DefenderAction\n",
    "    reward: Reward\n",
    "    next_state: State\n",
    "    terminal: Terminal\n",
    "\n",
    "@dataclass\n",
    "class TransitionBatch:\n",
    "    states: StateBatch\n",
    "    actions: DefenderActionBatch\n",
    "    rewards: RewardBatch\n",
    "    next_states: StateBatch\n",
    "    terminals: TerminalBatch\n",
    "\n",
    "memory: deque[Transition] = deque(maxlen=MEMORY_SIZE)"
   ]
  },
  {
   "cell_type": "code",
   "execution_count": 18,
   "metadata": {},
   "outputs": [],
   "source": [
    "def sample_memory(batch_size: int) -> TransitionBatch:\n",
    "    samples = random.sample(memory, batch_size)\n",
    "    return TransitionBatch(\n",
    "        states=torch.stack([s.state for s in samples]),\n",
    "        actions=torch.stack([s.action for s in samples]),\n",
    "        rewards=torch.stack([s.reward for s in samples]),\n",
    "        next_states=torch.stack([s.next_state for s in samples]),\n",
    "        terminals=torch.stack([s.terminal for s in samples]),\n",
    "    )"
   ]
  },
  {
   "cell_type": "markdown",
   "metadata": {},
   "source": [
    "## Training"
   ]
  },
  {
   "cell_type": "markdown",
   "metadata": {},
   "source": [
    "### Warmup memory"
   ]
  },
  {
   "cell_type": "code",
   "execution_count": 19,
   "metadata": {},
   "outputs": [
    {
     "data": {
      "application/vnd.jupyter.widget-view+json": {
       "model_id": "75877a1c96e343988d698d99f3adc9dc",
       "version_major": 2,
       "version_minor": 0
      },
      "text/plain": [
       "  0%|          | 0/20 [00:00<?, ?it/s]"
      ]
     },
     "metadata": {},
     "output_type": "display_data"
    }
   ],
   "source": [
    "states = get_random_starting_state_batch(BATCH_SIZE)\n",
    "\n",
    "for _ in tqdm(range(MEMORY_WARMUP_STEPS)):\n",
    "    # random exploration\n",
    "    defender_actions = get_random_defender_actions(states)\n",
    "    next_states = apply_defender_actions(states, defender_actions)\n",
    "    attacker_actions = get_attacker_actions(next_states)\n",
    "    next_states = apply_attacker_actions(next_states, attacker_actions)\n",
    "    rewards = get_defender_utilities(next_states)\n",
    "    terminals = rewards == 0\n",
    "\n",
    "    # track next states as empty if terminal\n",
    "    next_states[terminals] = get_empty_state()\n",
    "\n",
    "    # save each transition in the batch to memory\n",
    "    for i in range(BATCH_SIZE):\n",
    "        memory.append(Transition(\n",
    "            state=states[i],\n",
    "            action=defender_actions[i],\n",
    "            reward=rewards[i],\n",
    "            next_state=next_states[i],\n",
    "            terminal=torch.as_tensor(rewards[i] == 0),\n",
    "        ))\n",
    "\n",
    "    # reset environment for terminal states\n",
    "    states = next_states.clone()\n",
    "    states[terminals] = get_random_starting_state_batch(int(terminals.sum()))"
   ]
  },
  {
   "cell_type": "code",
   "execution_count": 20,
   "metadata": {},
   "outputs": [
    {
     "data": {
      "text/plain": [
       "(array([711.,   8.,  28.,  49.,  79.,  65.,  37.,  17.,   4.,   2.]),\n",
       " array([0. , 0.9, 1.8, 2.7, 3.6, 4.5, 5.4, 6.3, 7.2, 8.1, 9. ],\n",
       "       dtype=float32),\n",
       " <BarContainer object of 10 artists>)"
      ]
     },
     "execution_count": 20,
     "metadata": {},
     "output_type": "execute_result"
    },
    {
     "data": {
      "image/png": "[encoded data removed]",
      "text/plain": [
       "<Figure size 432x288 with 1 Axes>"
      ]
     },
     "metadata": {
      "needs_background": "light"
     },
     "output_type": "display_data"
    }
   ],
   "source": [
    "plt.hist(sample_memory(1000).rewards.numpy())"
   ]
  },
  {
   "cell_type": "code",
   "execution_count": 21,
   "metadata": {},
   "outputs": [
    {
     "data": {
      "text/plain": [
       "[<matplotlib.lines.Line2D at 0x1e8cb39b7f0>]"
      ]
     },
     "execution_count": 21,
     "metadata": {},
     "output_type": "execute_result"
    },
    {
     "data": {
      "image/png": "[encoded data removed]",
      "text/plain": [
       "<Figure size 432x288 with 1 Axes>"
      ]
     },
     "metadata": {
      "needs_background": "light"
     },
     "output_type": "display_data"
    }
   ],
   "source": [
    "plt.plot(sample_memory(1000).rewards.cumsum(0).numpy())"
   ]
  },
  {
   "cell_type": "markdown",
   "metadata": {},
   "source": [
    "### Train loop"
   ]
  },
  {
   "cell_type": "code",
   "execution_count": 22,
   "metadata": {},
   "outputs": [],
   "source": [
    "actor_optimizer = torch.optim.Adam(actor.parameters(), lr=LEARNING_RATE)\n",
    "actor_scheduler = torch.optim.lr_scheduler.StepLR(\n",
    "    actor_optimizer,\n",
    "    step_size=LEARNING_RATE_GAMMA_FREQUENCY,\n",
    "    gamma=LEARNING_RATE_GAMMA,\n",
    ")\n",
    "critic_optimizer = torch.optim.Adam(critic.parameters(), lr=LEARNING_RATE)\n",
    "critic_scheduler = torch.optim.lr_scheduler.StepLR(\n",
    "    critic_optimizer,\n",
    "    step_size=LEARNING_RATE_GAMMA_FREQUENCY,\n",
    "    gamma=LEARNING_RATE_GAMMA,\n",
    ")"
   ]
  },
  {
   "cell_type": "code",
   "execution_count": 23,
   "metadata": {},
   "outputs": [],
   "source": [
    "# from https://github.com/ghliu/pytorch-ddpg/blob/master/util.py#L26\n",
    "\n",
    "def soft_update(target, source, tau):\n",
    "        for target_param, param in zip(target.parameters(), source.parameters()):\n",
    "            ## shouldn't be necessary since we use target networks to calculate loss\n",
    "            # if isinstance(target_param, torch.nn.parameter.UninitializedParameter):\n",
    "            #     # target model uninitialize, hard update\n",
    "            #     target_param.data.copy_(param.data)\n",
    "            # else:\n",
    "            target_param.data.copy_(target_param.data * (1.0 - tau) + param.data * tau)"
   ]
  },
  {
   "cell_type": "code",
   "execution_count": 24,
   "metadata": {},
   "outputs": [],
   "source": [
    "# from original deepRL author code\n",
    "class RandomProcess(object):\n",
    "    def reset_states(self):\n",
    "        pass\n",
    "class AnnealedGaussianProcess(RandomProcess):\n",
    "    def __init__(self, mu, sigma, sigma_min, n_steps_annealing):\n",
    "        self.mu = mu\n",
    "        self.sigma = sigma\n",
    "        self.n_steps = 0\n",
    "\n",
    "        if sigma_min is not None:\n",
    "            self.m = -float(sigma - sigma_min) / float(n_steps_annealing)\n",
    "            self.c = sigma\n",
    "            self.sigma_min = sigma_min\n",
    "        else:\n",
    "            self.m = 0.\n",
    "            self.c = sigma\n",
    "            self.sigma_min = sigma\n",
    "\n",
    "    @property\n",
    "    def current_sigma(self):\n",
    "        sigma = max(self.sigma_min, self.m * float(self.n_steps) + self.c)\n",
    "        return sigma\n",
    "\n",
    "# Based on http://math.stackexchange.com/questions/1287634/implementing-ornstein-uhlenbeck-in-matlab\n",
    "class OrnsteinUhlenbeckProcess(AnnealedGaussianProcess):\n",
    "    def __init__(self, theta, mu=0., sigma=1., dt=1e-2, x0=None, size=1, sigma_min=None, n_steps_annealing=1000):\n",
    "        super(OrnsteinUhlenbeckProcess, self).__init__(mu=mu, sigma=sigma, sigma_min=sigma_min, n_steps_annealing=n_steps_annealing)\n",
    "        self.theta = theta\n",
    "        self.mu = mu\n",
    "        self.dt = dt\n",
    "        self.x0 = x0\n",
    "        self.size = size\n",
    "        self.normal = torch.distributions.Normal(torch.as_tensor(0, dtype=torch.float32), torch.as_tensor(1, dtype=torch.float32))\n",
    "        self.reset_states()\n",
    "\n",
    "    def sample(self):\n",
    "        x = self.x_prev + self.theta * (self.mu - self.x_prev) * self.dt + self.current_sigma * torch.sqrt(torch.as_tensor(self.dt, dtype=torch.float32)) * self.normal.sample((self.size,))  # type: ignore\n",
    "        self.x_prev = x\n",
    "        self.n_steps += 1\n",
    "        return x\n",
    "\n",
    "    def reset_states(self):\n",
    "        self.x_prev = self.x0 if self.x0 is not None else torch.zeros(self.size)"
   ]
  },
  {
   "cell_type": "code",
   "execution_count": 25,
   "metadata": {},
   "outputs": [
    {
     "data": {
      "application/vnd.jupyter.widget-view+json": {
       "model_id": "b007d7e95e8b487f93c152a1950933c0",
       "version_major": 2,
       "version_minor": 0
      },
      "text/plain": [
       "  0%|          | 0/25 [00:00<?, ?it/s]"
      ]
     },
     "metadata": {},
     "output_type": "display_data"
    },
    {
     "name": "stdout",
     "output_type": "stream",
     "text": [
      "train step 00 exploring optimizing "
     ]
    }
   ],
   "source": [
    "states = get_random_starting_state_batch(BATCH_SIZE).to(DEVICE)\n",
    "\n",
    "epsilon = 1.0\n",
    "epsilon_decay = epsilon / EPSILON_DECAY_STEPS\n",
    "epsilon_noise = OrnsteinUhlenbeckProcess(\n",
    "    size=MAX_VEHICLES,\n",
    "    theta=EPSILON_SIGMA,\n",
    "    mu=EPSILON_MU,\n",
    "    sigma=EPSILON_SIGMA,\n",
    ")\n",
    "\n",
    "criterion = nn.MSELoss()\n",
    "\n",
    "digits = math.ceil(math.log10(TRAIN_STEPS))\n",
    "for i in tqdm(range(TRAIN_STEPS)):\n",
    "    print(f\"train step {i:0{digits}d}\", end=\" \")\n",
    "    # epsilon-noise exploration\n",
    "    print(f\"exploring\", end=\" \")\n",
    "    for j in range(EXPLORATION_STEPS_PER_TRAIN_STEP):\n",
    "        proto_defender_actions = actor(states)\n",
    "        for i in range(BATCH_SIZE):\n",
    "            proto_defender_actions[i] += epsilon * epsilon_noise.sample().to(proto_defender_actions.device)\n",
    "        epsilon = max(0.0, epsilon - epsilon_decay)\n",
    "        defender_actions: DefenderActionBatch = (proto_defender_actions > 0.5).float() # convert to binary\n",
    "        next_states = apply_defender_actions(states, defender_actions)\n",
    "        attacker_actions = get_attacker_actions(next_states)\n",
    "        next_states = apply_attacker_actions(next_states, attacker_actions)\n",
    "        rewards = get_defender_utilities(next_states)\n",
    "        terminals = rewards == 0\n",
    "\n",
    "        # track next states as empty if terminal\n",
    "        next_states[terminals] = get_empty_state()\n",
    "        \n",
    "        # save each transition in the batch to memory\n",
    "        for i in range(BATCH_SIZE):\n",
    "            memory.append(Transition(\n",
    "                state=states[i],\n",
    "                action=defender_actions[i],\n",
    "                reward=rewards[i],\n",
    "                next_state=next_states[i],\n",
    "                terminal=torch.as_tensor(rewards[i] == 0, dtype=torch.bool),\n",
    "            ))\n",
    "\n",
    "        # reset environment for terminal states\n",
    "        states = next_states.clone()\n",
    "        states[terminals] = get_random_starting_state_batch(int(terminals.sum()))\n",
    "\n",
    "    # train\n",
    "    print(f\"optimizing\", end=\" \")\n",
    "    batch = sample_memory(BATCH_SIZE)\n",
    "\n",
    "    with torch.no_grad():\n",
    "        q_next: Tensor = critic_target(\n",
    "            batch.next_states,\n",
    "            actor_target(batch.next_states),\n",
    "        )\n",
    "    q_next.requires_grad_()\n",
    "    q_target = q_next * REWARD_GAMMA * (1-batch.terminals.float().unsqueeze(1)) + batch.rewards.unsqueeze(1)\n",
    "\n",
    "    critic.zero_grad()\n",
    "    q_pred = critic(batch.states, batch.actions)\n",
    "    critic_loss = criterion(q_pred, q_target)\n",
    "    critic_loss.backward()\n",
    "    critic_optimizer.step()\n",
    "    critic_scheduler.step()\n",
    "    print(f\"critic loss: {critic_loss.item():.4f}\", end=\" \")\n",
    "\n",
    "    actor.zero_grad()\n",
    "    actor_loss = -critic(batch.states, actor(batch.states)).mean()\n",
    "    actor_loss.backward()\n",
    "    actor_optimizer.step()\n",
    "    actor_scheduler.step()\n",
    "    print(f\"actor loss: {actor_loss.item():.4f}\", end=\" \")\n",
    "\n",
    "    soft_update(actor_target, actor, SOFT_UPDATE_TAU)\n",
    "    soft_update(critic_target, critic, SOFT_UPDATE_TAU)\n",
    "\n",
    "\n",
    "    print()\n",
    "    \n",
    "    "
   ]
  }
 ],
 "metadata": {
  "kernelspec": {
   "display_name": "Python 3.9.12 ('subgame')",
   "language": "python",
   "name": "python3"
  },
  "language_info": {
   "codemirror_mode": {
    "name": "ipython",
    "version": 3
   },
   "file_extension": ".py",
   "mimetype": "text/x-python",
   "name": "python",
   "nbconvert_exporter": "python",
   "pygments_lexer": "ipython3",
   "version": "3.9.12"
  },
  "orig_nbformat": 4,
  "vscode": {
   "interpreter": {
    "hash": "09b31e4957d63d79e1e76c5537c345194b9f565583fac53cbbb105281d72baf4"
   }
  }
 },
 "nbformat": 4,
 "nbformat_minor": 2
}
