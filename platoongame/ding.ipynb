{
 "cells": [
  {
   "cell_type": "code",
   "execution_count": 1,
   "metadata": {},
   "outputs": [
    {
     "name": "stdout",
     "output_type": "stream",
     "text": [
      "v0.4.5\n"
     ]
    }
   ],
   "source": [
    "import ding\n",
    "print(ding.__version__)"
   ]
  },
  {
   "cell_type": "code",
   "execution_count": 2,
   "metadata": {},
   "outputs": [],
   "source": [
    "from dizoo.classic_control.cartpole.config.cartpole_dqn_config import main_config, create_config\n",
    "from ding.config import compile_config\n",
    "\n",
    "cfg = compile_config(main_config, create_cfg=create_config, auto=True)"
   ]
  },
  {
   "cell_type": "code",
   "execution_count": 4,
   "metadata": {},
   "outputs": [
    {
     "name": "stderr",
     "output_type": "stream",
     "text": [
      "c:\\Users\\TeamD\\.conda\\envs\\subgame\\lib\\site-packages\\gym\\envs\\registration.py:593: UserWarning: \u001b[33mWARN: The environment CartPole-v0 is out of date. You should consider upgrading to version `v1`.\u001b[0m\n",
      "  logger.warn(\n",
      "c:\\Users\\TeamD\\.conda\\envs\\subgame\\lib\\site-packages\\gym\\core.py:329: DeprecationWarning: \u001b[33mWARN: Initializing wrapper in old step API which returns one bool instead of two. It is recommended to set `new_step_api=True` to use new step API. This will be the default behaviour in future.\u001b[0m\n",
      "  deprecation(\n",
      "c:\\Users\\TeamD\\.conda\\envs\\subgame\\lib\\site-packages\\gym\\wrappers\\step_api_compatibility.py:39: DeprecationWarning: \u001b[33mWARN: Initializing environment in old step API which returns one bool instead of two. It is recommended to set `new_step_api=True` to use new step API. This will be the default behaviour in future.\u001b[0m\n",
      "  deprecation(\n"
     ]
    }
   ],
   "source": [
    "from ding.envs import DingEnvWrapper, BaseEnvManagerV2\n",
    "import gym\n",
    "collector_env = BaseEnvManagerV2(\n",
    "    env_fn=[lambda: DingEnvWrapper(gym.make(\"CartPole-v0\")) for _ in range(cfg.env.collector_env_num)],\n",
    "    cfg=cfg.env.manager\n",
    ")\n",
    "evaluator_env = BaseEnvManagerV2(\n",
    "    env_fn=[lambda: DingEnvWrapper(gym.make(\"CartPole-v0\")) for _ in range(cfg.env.evaluator_env_num)],\n",
    "    cfg=cfg.env.manager\n",
    ")"
   ]
  },
  {
   "cell_type": "code",
   "execution_count": 5,
   "metadata": {},
   "outputs": [],
   "source": [
    "from ding.model import DQN\n",
    "from ding.policy import DQNPolicy\n",
    "from ding.data import DequeBuffer\n",
    "\n",
    "model = DQN(**cfg.policy.model)\n",
    "buffer_ = DequeBuffer(size=cfg.policy.other.replay_buffer.replay_buffer_size)\n",
    "policy = DQNPolicy(cfg.policy, model=model)"
   ]
  },
  {
   "cell_type": "code",
   "execution_count": 7,
   "metadata": {},
   "outputs": [],
   "source": [
    "from ding.framework import task\n",
    "from ding.framework.context import OnlineRLContext\n",
    "from ding.framework.middleware import OffPolicyLearner, StepCollector, interaction_evaluator, data_pusher, eps_greedy_handler, CkptSaver\n",
    "\n",
    "with task.start(async_mode=False, ctx=OnlineRLContext()):\n",
    "    # Evaluating, we place it on the first place to get the score of the random model as a benchmark value\n",
    "    task.use(interaction_evaluator(cfg, policy.eval_mode, evaluator_env))\n",
    "    task.use(eps_greedy_handler(cfg))  # Decay probability of explore-exploit\n",
    "    task.use(StepCollector(cfg, policy.collect_mode, collector_env))  # Collect environmental data\n",
    "    task.use(data_pusher(cfg, buffer_))  # Push data to buffer\n",
    "    task.use(OffPolicyLearner(cfg, policy.learn_mode, buffer_))  # Train the model\n",
    "    task.use(CkptSaver(cfg, policy, train_freq=100))  # Save the model\n",
    "    # In the evaluation process, if the model is found to have exceeded the convergence value, it will end early here\n",
    "    task.run()"
   ]
  },
  {
   "cell_type": "code",
   "execution_count": null,
   "metadata": {},
   "outputs": [],
   "source": []
  }
 ],
 "metadata": {
  "kernelspec": {
   "display_name": "subgame",
   "language": "python",
   "name": "python3"
  },
  "language_info": {
   "codemirror_mode": {
    "name": "ipython",
    "version": 3
   },
   "file_extension": ".py",
   "mimetype": "text/x-python",
   "name": "python",
   "nbconvert_exporter": "python",
   "pygments_lexer": "ipython3",
   "version": "3.9.12 (main, Apr  4 2022, 05:22:27) [MSC v.1916 64 bit (AMD64)]"
  },
  "orig_nbformat": 4,
  "vscode": {
   "interpreter": {
    "hash": "09b31e4957d63d79e1e76c5537c345194b9f565583fac53cbbb105281d72baf4"
   }
  }
 },
 "nbformat": 4,
 "nbformat_minor": 2
}
