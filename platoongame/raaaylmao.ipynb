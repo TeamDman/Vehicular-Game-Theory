{
 "cells": [
  {
   "cell_type": "code",
   "execution_count": 1,
   "metadata": {},
   "outputs": [
    {
     "name": "stderr",
     "output_type": "stream",
     "text": [
      "c:\\Users\\TeamD\\.conda\\envs\\rllib\\lib\\site-packages\\tensorflow_probability\\python\\__init__.py:57: DeprecationWarning: distutils Version classes are deprecated. Use packaging.version instead.\n",
      "  if (distutils.version.LooseVersion(tf.__version__) <\n"
     ]
    }
   ],
   "source": [
    "import gymnasium as gym\n",
    "import ray\n",
    "from ray import air, tune\n",
    "from ray.rllib.algorithms.algorithm import Algorithm\n",
    "from ray.tune.registry import get_trainable_cls"
   ]
  },
  {
   "cell_type": "code",
   "execution_count": 2,
   "metadata": {},
   "outputs": [
    {
     "data": {
      "text/plain": [
       "'3.0.0.dev0'"
      ]
     },
     "execution_count": 2,
     "metadata": {},
     "output_type": "execute_result"
    }
   ],
   "source": [
    "ray.__version__\n",
    "# using nightly 3.0.0 build since gymnasium isn't supported in 2.3"
   ]
  },
  {
   "cell_type": "code",
   "execution_count": 3,
   "metadata": {},
   "outputs": [
    {
     "name": "stdout",
     "output_type": "stream",
     "text": [
      "Usage stats collection is enabled by default for nightly wheels. To disable this, run the following command: `ray disable-usage-stats` before starting Ray. See https://docs.ray.io/en/master/cluster/usage-stats.html for more details.\n"
     ]
    },
    {
     "name": "stderr",
     "output_type": "stream",
     "text": [
      "2022-12-31 15:04:15,242\tINFO worker.py:1536 -- Started a local Ray instance. View the dashboard at \u001b[1m\u001b[32mhttp://127.0.0.1:8265 \u001b[39m\u001b[22m\n"
     ]
    },
    {
     "data": {
      "text/html": [
       "<div>\n",
       "    <div style=\"margin-left: 50px;display: flex;flex-direction: row;align-items: center\">\n",
       "        <h3 style=\"color: var(--jp-ui-font-color0)\">Ray</h3>\n",
       "        <svg version=\"1.1\" id=\"ray\" width=\"3em\" viewBox=\"0 0 144.5 144.6\" style=\"margin-left: 3em;margin-right: 3em\">\n",
       "            <g id=\"layer-1\">\n",
       "                <path fill=\"#00a2e9\" class=\"st0\" d=\"M97.3,77.2c-3.8-1.1-6.2,0.9-8.3,5.1c-3.5,6.8-9.9,9.9-17.4,9.6S58,88.1,54.8,81.2c-1.4-3-3-4-6.3-4.1\n",
       "                    c-5.6-0.1-9.9,0.1-13.1,6.4c-3.8,7.6-13.6,10.2-21.8,7.6C5.2,88.4-0.4,80.5,0,71.7c0.1-8.4,5.7-15.8,13.8-18.2\n",
       "                    c8.4-2.6,17.5,0.7,22.3,8c1.3,1.9,1.3,5.2,3.6,5.6c3.9,0.6,8,0.2,12,0.2c1.8,0,1.9-1.6,2.4-2.8c3.5-7.8,9.7-11.8,18-11.9\n",
       "                    c8.2-0.1,14.4,3.9,17.8,11.4c1.3,2.8,2.9,3.6,5.7,3.3c1-0.1,2,0.1,3,0c2.8-0.5,6.4,1.7,8.1-2.7s-2.3-5.5-4.1-7.5\n",
       "                    c-5.1-5.7-10.9-10.8-16.1-16.3C84,38,81.9,37.1,78,38.3C66.7,42,56.2,35.7,53,24.1C50.3,14,57.3,2.8,67.7,0.5\n",
       "                    C78.4-2,89,4.7,91.5,15.3c0.1,0.3,0.1,0.5,0.2,0.8c0.7,3.4,0.7,6.9-0.8,9.8c-1.7,3.2-0.8,5,1.5,7.2c6.7,6.5,13.3,13,19.8,19.7\n",
       "                    c1.8,1.8,3,2.1,5.5,1.2c9.1-3.4,17.9-0.6,23.4,7c4.8,6.9,4.6,16.1-0.4,22.9c-5.4,7.2-14.2,9.9-23.1,6.5c-2.3-0.9-3.5-0.6-5.1,1.1\n",
       "                    c-6.7,6.9-13.6,13.7-20.5,20.4c-1.8,1.8-2.5,3.2-1.4,5.9c3.5,8.7,0.3,18.6-7.7,23.6c-7.9,5-18.2,3.8-24.8-2.9\n",
       "                    c-6.4-6.4-7.4-16.2-2.5-24.3c4.9-7.8,14.5-11,23.1-7.8c3,1.1,4.7,0.5,6.9-1.7C91.7,98.4,98,92.3,104.2,86c1.6-1.6,4.1-2.7,2.6-6.2\n",
       "                    c-1.4-3.3-3.8-2.5-6.2-2.6C99.8,77.2,98.9,77.2,97.3,77.2z M72.1,29.7c5.5,0.1,9.9-4.3,10-9.8c0-0.1,0-0.2,0-0.3\n",
       "                    C81.8,14,77,9.8,71.5,10.2c-5,0.3-9,4.2-9.3,9.2c-0.2,5.5,4,10.1,9.5,10.3C71.8,29.7,72,29.7,72.1,29.7z M72.3,62.3\n",
       "                    c-5.4-0.1-9.9,4.2-10.1,9.7c0,0.2,0,0.3,0,0.5c0.2,5.4,4.5,9.7,9.9,10c5.1,0.1,9.9-4.7,10.1-9.8c0.2-5.5-4-10-9.5-10.3\n",
       "                    C72.6,62.3,72.4,62.3,72.3,62.3z M115,72.5c0.1,5.4,4.5,9.7,9.8,9.9c5.6-0.2,10-4.8,10-10.4c-0.2-5.4-4.6-9.7-10-9.7\n",
       "                    c-5.3-0.1-9.8,4.2-9.9,9.5C115,72.1,115,72.3,115,72.5z M19.5,62.3c-5.4,0.1-9.8,4.4-10,9.8c-0.1,5.1,5.2,10.4,10.2,10.3\n",
       "                    c5.6-0.2,10-4.9,9.8-10.5c-0.1-5.4-4.5-9.7-9.9-9.6C19.6,62.3,19.5,62.3,19.5,62.3z M71.8,134.6c5.9,0.2,10.3-3.9,10.4-9.6\n",
       "                    c0.5-5.5-3.6-10.4-9.1-10.8c-5.5-0.5-10.4,3.6-10.8,9.1c0,0.5,0,0.9,0,1.4c-0.2,5.3,4,9.8,9.3,10\n",
       "                    C71.6,134.6,71.7,134.6,71.8,134.6z\"/>\n",
       "            </g>\n",
       "        </svg>\n",
       "        <table>\n",
       "            <tr>\n",
       "                <td style=\"text-align: left\"><b>Python version:</b></td>\n",
       "                <td style=\"text-align: left\"><b>3.8.15</b></td>\n",
       "            </tr>\n",
       "            <tr>\n",
       "                <td style=\"text-align: left\"><b>Ray version:</b></td>\n",
       "                <td style=\"text-align: left\"><b> 3.0.0.dev0</b></td>\n",
       "            </tr>\n",
       "            <tr>\n",
       "    <td style=\"text-align: left\"><b>Dashboard:</b></td>\n",
       "    <td style=\"text-align: left\"><b><a href=\"http://127.0.0.1:8265\" target=\"_blank\">http://127.0.0.1:8265</a></b></td>\n",
       "</tr>\n",
       "\n",
       "        </table>\n",
       "    </div>\n",
       "</div>\n"
      ],
      "text/plain": [
       "RayContext(dashboard_url='127.0.0.1:8265', python_version='3.8.15', ray_version='3.0.0.dev0', ray_commit='3e18487d7427a3ffcea9fecd5c79ca3e81fb92d0', address_info={'node_ip_address': '127.0.0.1', 'raylet_ip_address': '127.0.0.1', 'redis_address': None, 'object_store_address': 'tcp://127.0.0.1:59507', 'raylet_socket_name': 'tcp://127.0.0.1:37778', 'webui_url': '127.0.0.1:8265', 'session_dir': 'C:\\\\Users\\\\TeamD\\\\AppData\\\\Local\\\\Temp\\\\ray\\\\session_2022-12-31_15-04-12_366050_8960', 'metrics_export_port': 42812, 'gcs_address': '127.0.0.1:53303', 'address': '127.0.0.1:53303', 'dashboard_agent_listen_port': 52365, 'node_id': 'ab859759a74cc3ac90a3109a357e33d4be274a5178e579e2ab7f9d67'})"
      ]
     },
     "execution_count": 3,
     "metadata": {},
     "output_type": "execute_result"
    }
   ],
   "source": [
    "ray.init()"
   ]
  },
  {
   "cell_type": "code",
   "execution_count": 4,
   "metadata": {},
   "outputs": [],
   "source": [
    "import platoonenv\n",
    "env_cls = platoonenv.PlatoonEnvV1\n",
    "env=env_cls()"
   ]
  },
  {
   "cell_type": "code",
   "execution_count": 5,
   "metadata": {},
   "outputs": [
    {
     "name": "stderr",
     "output_type": "stream",
     "text": [
      "2022-12-31 15:04:18,275\tWARNING env.py:156 -- Your env doesn't have a .spec.max_episode_steps attribute. Your horizon will default to infinity, and your environment will not be reset.\n",
      "2022-12-31 15:04:18,276\tWARNING env.py:166 -- Your env reset() method appears to take 'seed' or 'return_info' arguments. Note that these are not yet supported in RLlib. Seeding will take place using 'env.seed()' and the info dict will not be returned from reset.\n"
     ]
    }
   ],
   "source": [
    "ray.rllib.utils.check_env(env)"
   ]
  },
  {
   "cell_type": "code",
   "execution_count": 6,
   "metadata": {},
   "outputs": [],
   "source": [
    "# env_name = \"CartPole-v1\"\n",
    "from ray.rllib.algorithms.ppo import PPOConfig\n",
    "from ray.rllib.algorithms.dqn import DQNConfig\n",
    "# train_class = \"PPO\"\n",
    "# config = (\n",
    "#     PPOConfig()\n",
    "#     .environment(env_cls)\n",
    "#     .framework(\"torch\")\n",
    "#     .rollouts(num_rollout_workers=10)\n",
    "#     .resources(num_gpus=0)\n",
    "    \n",
    "# )\n",
    "train_class=\"DQN\"\n",
    "config = (\n",
    "    DQNConfig()\n",
    "    .environment(env_cls)\n",
    "    .framework(\"torch\")\n",
    "    .rollouts(num_rollout_workers=10)\n",
    "    .resources(num_gpus=0)\n",
    ")"
   ]
  },
  {
   "cell_type": "code",
   "execution_count": 8,
   "metadata": {},
   "outputs": [
    {
     "name": "stdout",
     "output_type": "stream",
     "text": [
      "-48\n"
     ]
    }
   ],
   "source": [
    "stop = {\n",
    "    \"training_iteration\": 200,\n",
    "    \"timesteps_total\": 800_000,\n",
    "    \"episode_reward_mean\": env.metadata[\"reward_threshold\"],\n",
    "}\n",
    "print(stop[\"episode_reward_mean\"])"
   ]
  },
  {
   "cell_type": "code",
   "execution_count": 71,
   "metadata": {},
   "outputs": [
    {
     "name": "stderr",
     "output_type": "stream",
     "text": [
      "2022-12-31 15:59:04,413\tINFO experiment_analysis.py:795 -- No `self.trials`. Drawing logdirs from checkpoint file. This may result in some information that is out of sync, as checkpointing is periodic.\n"
     ]
    }
   ],
   "source": [
    "resume = False\n",
    "resume_path = \"C:/Users/TeamD/ray_results/PPO\"\n",
    "if resume:\n",
    "    tuner = tune.Tuner.restore(resume_path)\n",
    "else:\n",
    "    tuner = tune.Tuner(\n",
    "        train_class,\n",
    "        param_space=config.to_dict(),\n",
    "        run_config=air.RunConfig(\n",
    "            stop=stop,\n",
    "            verbose=2,\n",
    "            checkpoint_config=air.CheckpointConfig(\n",
    "                checkpoint_frequency=1, checkpoint_at_end=True\n",
    "            ),\n",
    "        ),\n",
    "    )"
   ]
  },
  {
   "cell_type": "code",
   "execution_count": 72,
   "metadata": {},
   "outputs": [
    {
     "data": {
      "text/html": [
       "<div class=\"tuneStatus\">\n",
       "  <div style=\"display: flex;flex-direction: row\">\n",
       "    <div style=\"display: flex;flex-direction: column;\">\n",
       "      <h3>Tune Status</h3>\n",
       "      <table>\n",
       "<tbody>\n",
       "<tr><td>Current time:</td><td>2022-12-31 15:59:09</td></tr>\n",
       "<tr><td>Running for: </td><td>00:00:00.93        </td></tr>\n",
       "<tr><td>Memory:      </td><td>15.0/31.9 GiB      </td></tr>\n",
       "</tbody>\n",
       "</table>\n",
       "    </div>\n",
       "    <div class=\"vDivider\"></div>\n",
       "    <div class=\"systemInfo\">\n",
       "      <h3>System Info</h3>\n",
       "      Using FIFO scheduling algorithm.<br>Resources requested: 0/12 CPUs, 0/0 GPUs, 0.0/10.82 GiB heap, 0.0/5.41 GiB objects\n",
       "    </div>\n",
       "    \n",
       "  </div>\n",
       "  <div class=\"hDivider\"></div>\n",
       "  <div class=\"trialStatus\">\n",
       "    <h3>Trial Status</h3>\n",
       "    <table>\n",
       "<thead>\n",
       "<tr><th>Trial name                  </th><th>status    </th><th>loc            </th><th style=\"text-align: right;\">  iter</th><th style=\"text-align: right;\">  total time (s)</th><th style=\"text-align: right;\">    ts</th><th style=\"text-align: right;\">  reward</th><th style=\"text-align: right;\">  episode_reward_max</th><th style=\"text-align: right;\">  episode_reward_min</th><th style=\"text-align: right;\">  episode_len_mean</th></tr>\n",
       "</thead>\n",
       "<tbody>\n",
       "<tr><td>PPO_PlatoonEnvV1_56ad8_00000</td><td>TERMINATED</td><td>127.0.0.1:13116</td><td style=\"text-align: right;\">   200</td><td style=\"text-align: right;\">         2620.85</td><td style=\"text-align: right;\">800000</td><td style=\"text-align: right;\"> -49.285</td><td style=\"text-align: right;\">                 -49</td><td style=\"text-align: right;\">                 -60</td><td style=\"text-align: right;\">                10</td></tr>\n",
       "</tbody>\n",
       "</table>\n",
       "  </div>\n",
       "</div>\n",
       "<style>\n",
       ".tuneStatus {\n",
       "  color: var(--jp-ui-font-color1);\n",
       "}\n",
       ".tuneStatus .systemInfo {\n",
       "  display: flex;\n",
       "  flex-direction: column;\n",
       "}\n",
       ".tuneStatus td {\n",
       "  white-space: nowrap;\n",
       "}\n",
       ".tuneStatus .trialStatus {\n",
       "  display: flex;\n",
       "  flex-direction: column;\n",
       "}\n",
       ".tuneStatus h3 {\n",
       "  font-weight: bold;\n",
       "}\n",
       ".tuneStatus .hDivider {\n",
       "  border-bottom-width: var(--jp-border-width);\n",
       "  border-bottom-color: var(--jp-border-color0);\n",
       "  border-bottom-style: solid;\n",
       "}\n",
       ".tuneStatus .vDivider {\n",
       "  border-left-width: var(--jp-border-width);\n",
       "  border-left-color: var(--jp-border-color0);\n",
       "  border-left-style: solid;\n",
       "  margin: 0.5em 1em 0.5em 1em;\n",
       "}\n",
       "</style>\n"
      ],
      "text/plain": [
       "<IPython.core.display.HTML object>"
      ]
     },
     "metadata": {},
     "output_type": "display_data"
    },
    {
     "name": "stderr",
     "output_type": "stream",
     "text": [
      "2022-12-31 15:59:08,756\tINFO trial_runner.py:695 -- A local experiment checkpoint was found and will be used to restore the previous experiment state.\n",
      "2022-12-31 15:59:08,758\tINFO trial_runner.py:832 -- Using following checkpoint to resume: C:\\Users\\TeamD\\ray_results\\PPO\\experiment_state-2022-12-31_15-04-31.json\n",
      "2022-12-31 15:59:08,797\tWARNING trial_runner.py:837 -- Attempting to resume experiment from C:\\Users\\TeamD\\ray_results\\PPO. This will ignore any new changes to the specification.\n",
      "2022-12-31 15:59:08,869\tINFO tune.py:711 -- TrialRunner resumed, ignoring new add_experiment but updating trial resources.\n",
      "2022-12-31 15:59:09,797\tINFO tune.py:774 -- Total run time: 1.05 seconds (0.00 seconds for the tuning loop).\n"
     ]
    }
   ],
   "source": [
    "results = tuner.fit()"
   ]
  },
  {
   "cell_type": "code",
   "execution_count": 11,
   "metadata": {},
   "outputs": [
    {
     "name": "stderr",
     "output_type": "stream",
     "text": [
      "2022-12-31 15:53:21,158\tWARNING algorithm_config.py:614 -- Cannot create PPOConfig from given `config_dict`! Property __stdout_file__ not supported.\n"
     ]
    },
    {
     "name": "stdout",
     "output_type": "stream",
     "text": [
      "Checkpoint(local_path=C:\\Users\\TeamD\\ray_results\\PPO\\PPO_PlatoonEnvV1_56ad8_00000_0_2022-12-31_15-04-31\\checkpoint_000200)\n"
     ]
    },
    {
     "name": "stderr",
     "output_type": "stream",
     "text": [
      "\u001b[2m\u001b[36m(pid=14904)\u001b[0m c:\\Users\\TeamD\\.conda\\envs\\rllib\\lib\\site-packages\\win32\\lib\\pywintypes.py:2: DeprecationWarning: the imp module is deprecated in favour of importlib; see the module's documentation for alternative uses\n",
      "\u001b[2m\u001b[36m(pid=14904)\u001b[0m   import imp, sys, os\n",
      "\u001b[2m\u001b[36m(pid=10716)\u001b[0m c:\\Users\\TeamD\\.conda\\envs\\rllib\\lib\\site-packages\\win32\\lib\\pywintypes.py:2: DeprecationWarning: the imp module is deprecated in favour of importlib; see the module's documentation for alternative uses\n",
      "\u001b[2m\u001b[36m(pid=10716)\u001b[0m   import imp, sys, os\n",
      "\u001b[2m\u001b[36m(pid=14904)\u001b[0m c:\\Users\\TeamD\\.conda\\envs\\rllib\\lib\\site-packages\\tensorflow_probability\\python\\__init__.py:57: DeprecationWarning: distutils Version classes are deprecated. Use packaging.version instead.\n",
      "\u001b[2m\u001b[36m(pid=14904)\u001b[0m   if (distutils.version.LooseVersion(tf.__version__) <\n",
      "\u001b[2m\u001b[36m(pid=10716)\u001b[0m c:\\Users\\TeamD\\.conda\\envs\\rllib\\lib\\site-packages\\tensorflow_probability\\python\\__init__.py:57: DeprecationWarning: distutils Version classes are deprecated. Use packaging.version instead.\n",
      "\u001b[2m\u001b[36m(pid=10716)\u001b[0m   if (distutils.version.LooseVersion(tf.__version__) <\n",
      "2022-12-31 15:53:29,501\tINFO worker_set.py:309 -- Inferred observation/action spaces from remote worker (local worker has no env): {'default_policy': (Box(-10.0, 1.0, (20,), float32), Discrete(11)), '__env__': (Box(-10.0, 1.0, (20,), float32), Discrete(11))}\n",
      "2022-12-31 15:53:29,518\tINFO policy.py:1196 -- Policy (worker=local) running on CPU.\n",
      "2022-12-31 15:53:29,518\tINFO torch_policy_v2.py:110 -- Found 0 visible cuda devices.\n",
      "\u001b[2m\u001b[36m(RolloutWorker pid=14904)\u001b[0m 2022-12-31 15:53:29,466\tWARNING env.py:156 -- Your env doesn't have a .spec.max_episode_steps attribute. Your horizon will default to infinity, and your environment will not be reset.\n",
      "\u001b[2m\u001b[36m(RolloutWorker pid=14904)\u001b[0m 2022-12-31 15:53:29,466\tWARNING env.py:166 -- Your env reset() method appears to take 'seed' or 'return_info' arguments. Note that these are not yet supported in RLlib. Seeding will take place using 'env.seed()' and the info dict will not be returned from reset.\n",
      "\u001b[2m\u001b[36m(RolloutWorker pid=14904)\u001b[0m 2022-12-31 15:53:29,479\tINFO policy.py:1196 -- Policy (worker=1) running on CPU.\n",
      "\u001b[2m\u001b[36m(RolloutWorker pid=14904)\u001b[0m 2022-12-31 15:53:29,480\tINFO torch_policy_v2.py:110 -- Found 0 visible cuda devices.\n",
      "\u001b[2m\u001b[36m(RolloutWorker pid=10716)\u001b[0m 2022-12-31 15:53:29,479\tINFO policy.py:1196 -- Policy (worker=2) running on CPU.\n",
      "\u001b[2m\u001b[36m(RolloutWorker pid=10716)\u001b[0m 2022-12-31 15:53:29,479\tINFO torch_policy_v2.py:110 -- Found 0 visible cuda devices.\n",
      "2022-12-31 15:53:29,534\tINFO rollout_worker.py:2037 -- Built policy map: <PolicyMap lru-caching-capacity=100 policy-IDs=['default_policy']>\n",
      "2022-12-31 15:53:29,535\tINFO rollout_worker.py:2038 -- Built preprocessor map: {'default_policy': <ray.rllib.models.preprocessors.NoPreprocessor object at 0x000001BDBCF19610>}\n",
      "2022-12-31 15:53:29,536\tINFO rollout_worker.py:757 -- Built filter map: defaultdict(<class 'ray.rllib.utils.filter.NoFilter'>, {'default_policy': <ray.rllib.utils.filter.NoFilter object at 0x000001BD9236A640>})\n",
      "2022-12-31 15:53:29,543\tWARNING util.py:66 -- Install gputil for GPU system monitoring.\n"
     ]
    }
   ],
   "source": [
    "checkpoint = results.get_best_result().checkpoint\n",
    "# Checkpoint(local_path=C:\\Users\\TeamD\\ray_results\\PPO\\PPO_PlatoonEnvV1_56ad8_00000_0_2022-12-31_15-04-31\\checkpoint_000200)\n",
    "assert checkpoint is not None, \"checkpoint doesn't exist, training failed?\"\n",
    "print(checkpoint)\n",
    "algo = Algorithm.from_checkpoint(checkpoint)"
   ]
  },
  {
   "cell_type": "code",
   "execution_count": 12,
   "metadata": {},
   "outputs": [],
   "source": [
    "obs, info = env.reset()"
   ]
  },
  {
   "cell_type": "code",
   "execution_count": 13,
   "metadata": {},
   "outputs": [
    {
     "name": "stdout",
     "output_type": "stream",
     "text": [
      "ind, act, rew\n",
      " [[ 1.  2.  3.  4.  5.  6.  7.  8.  9. 10.]\n",
      " [ 9.  7.  6.  5.  1.  4. 10.  3.  5.  5.]\n",
      " [-9. -8. -7. -6. -5. -4. -3. -2. -3. -2.]]\n",
      "obs\n",
      " [[  1.   0.   1.   1.   1.   1.   1.   0.   1.   1.]\n",
      " [  0. -10.   0.   0.   0.   0.   0. -10.   0.   0.]]\n",
      "Episode done: Total reward = -49.0, steps = 10\n",
      "ind, act, rew\n",
      " [[ 1.  2.  3.  4.  5.  6.  7.  8.  9. 10.]\n",
      " [10.  9.  5.  8.  7.  1.  3.  6.  5.  5.]\n",
      " [-9. -8. -7. -6. -5. -4. -3. -2. -3. -2.]]\n",
      "obs\n",
      " [[  1.   0.   1.   0.   1.   1.   1.   1.   1.   1.]\n",
      " [  0. -10.   0. -10.   0.   0.   0.   0.   0.   0.]]\n",
      "Episode done: Total reward = -49.0, steps = 10\n",
      "ind, act, rew\n",
      " [[ 1.  2.  3.  4.  5.  6.  7.  8.  9. 10.]\n",
      " [10.  9.  2.  7.  1.  5.  4.  6.  5.  5.]\n",
      " [-9. -8. -7. -6. -5. -4. -3. -2. -3. -2.]]\n",
      "obs\n",
      " [[  1.   1.   0.   1.   1.   1.   1.   0.   1.   1.]\n",
      " [  0.   0. -10.   0.   0.   0.   0. -10.   0.   0.]]\n",
      "Episode done: Total reward = -49.0, steps = 10\n",
      "ind, act, rew\n",
      " [[ 1.  2.  3.  4.  5.  6.  7.  8.  9. 10.]\n",
      " [ 1.  8.  6.  2.  5. 10.  3.  7.  8.  8.]\n",
      " [-9. -8. -7. -6. -5. -4. -3. -2. -3. -2.]]\n",
      "obs\n",
      " [[  1.   1.   1.   0.   1.   1.   1.   1.   0.   1.]\n",
      " [  0.   0.   0. -10.   0.   0.   0.   0. -10.   0.]]\n",
      "Episode done: Total reward = -49.0, steps = 10\n",
      "ind, act, rew\n",
      " [[ 1.  2.  3.  4.  5.  6.  7.  8.  9. 10.]\n",
      " [10.  1.  6.  7.  4.  2.  9.  3.  7.  7.]\n",
      " [-9. -8. -7. -6. -5. -4. -3. -2. -3. -2.]]\n",
      "obs\n",
      " [[  1.   1.   1.   1.   0.   1.   1.   0.   1.   1.]\n",
      " [  0.   0.   0.   0. -10.   0.   0. -10.   0.   0.]]\n",
      "Episode done: Total reward = -49.0, steps = 10\n",
      "ind, act, rew\n",
      " [[ 1.  2.  3.  4.  5.  6.  7.  8.  9. 10.]\n",
      " [ 1. 10.  6.  5.  2.  4.  3.  9.  5.  5.]\n",
      " [-9. -8. -7. -6. -5. -4. -3. -2. -3. -2.]]\n",
      "obs\n",
      " [[  1.   1.   1.   1.   1.   1.   0.   0.   1.   1.]\n",
      " [  0.   0.   0.   0.   0.   0. -10. -10.   0.   0.]]\n",
      "Episode done: Total reward = -49.0, steps = 10\n",
      "ind, act, rew\n",
      " [[ 1.  2.  3.  4.  5.  6.  7.  8.  9. 10.]\n",
      " [ 1.  8.  6.  2.  5. 10.  3.  7.  8.  8.]\n",
      " [-9. -8. -7. -6. -5. -4. -3. -2. -3. -2.]]\n",
      "obs\n",
      " [[  1.   1.   1.   0.   1.   1.   1.   1.   0.   1.]\n",
      " [  0.   0.   0. -10.   0.   0.   0.   0. -10.   0.]]\n",
      "Episode done: Total reward = -49.0, steps = 10\n",
      "ind, act, rew\n",
      " [[ 1.  2.  3.  4.  5.  6.  7.  8.  9. 10.]\n",
      " [ 1.  3.  8.  5. 10.  2.  9.  6.  5.  5.]\n",
      " [-9. -8. -7. -6. -5. -4. -3. -2. -3. -2.]]\n",
      "obs\n",
      " [[  1.   1.   1.   0.   1.   1.   0.   1.   1.   1.]\n",
      " [  0.   0.   0. -10.   0.   0. -10.   0.   0.   0.]]\n",
      "Episode done: Total reward = -49.0, steps = 10\n",
      "ind, act, rew\n",
      " [[ 1.  2.  3.  4.  5.  6.  7.  8.  9. 10.]\n",
      " [ 6.  8.  5.  1. 10.  7.  2.  9.  5.  5.]\n",
      " [-9. -8. -7. -6. -5. -4. -3. -2. -3. -2.]]\n",
      "obs\n",
      " [[  1.   1.   0.   0.   1.   1.   1.   1.   1.   1.]\n",
      " [  0.   0. -10. -10.   0.   0.   0.   0.   0.   0.]]\n",
      "Episode done: Total reward = -49.0, steps = 10\n",
      "ind, act, rew\n",
      " [[ 1.  2.  3.  4.  5.  6.  7.  8.  9. 10.]\n",
      " [10.  8.  5.  2.  7.  3.  6.  4.  7.  7.]\n",
      " [-9. -8. -7. -6. -5. -4. -3. -2. -3. -2.]]\n",
      "obs\n",
      " [[  0.   1.   1.   1.   1.   1.   1.   1.   0.   1.]\n",
      " [-10.   0.   0.   0.   0.   0.   0.   0. -10.   0.]]\n",
      "Episode done: Total reward = -49.0, steps = 10\n"
     ]
    }
   ],
   "source": [
    "import numpy as np\n",
    "num_episodes = 0\n",
    "episode_reward = 0.0\n",
    "episode_steps = 0\n",
    "truncated_already = False\n",
    "actions = []\n",
    "rewards = []\n",
    "while num_episodes < 10:\n",
    "    # Compute an action (`a`).\n",
    "    a = algo.compute_single_action(\n",
    "        observation=obs,\n",
    "        explore=False,\n",
    "        policy_id=\"default_policy\",  # <- default value\n",
    "    )\n",
    "    # Send the computed action `a` to the env.\n",
    "    obs, reward, done, truncated, _ = env.step(a)\n",
    "    actions.append(a)\n",
    "    rewards.append(reward)\n",
    "    episode_reward += reward\n",
    "    episode_steps += 1\n",
    "\n",
    "    if done or truncated:\n",
    "        print(\"ind, act, rew\\n\",np.array(np.vstack([np.arange(1,11), actions, rewards])))\n",
    "        print(\"obs\\n\",obs.reshape(2,10))\n",
    "        print(f\"Episode done: Total reward = {episode_reward}, steps = {episode_steps}\")\n",
    "        obs, info = env.reset()\n",
    "        actions = []\n",
    "        rewards = []\n",
    "        num_episodes += 1\n",
    "        episode_steps = 0\n",
    "        episode_reward = 0.0\n",
    "        truncated_already = False"
   ]
  },
  {
   "cell_type": "code",
   "execution_count": 18,
   "metadata": {},
   "outputs": [
    {
     "name": "stdout",
     "output_type": "stream",
     "text": [
      "6 -9.0 \n",
      " [[  0.   0.   0.   0.   0.   1.   0.   0.   0.   0.]\n",
      " [  0.   0.   0. -10. -10.   0.   0.   0.   0.   0.]]\n",
      "7 -8.0 \n",
      " [[  0.   0.   0.   0.   0.   1.   1.   0.   0.   0.]\n",
      " [  0.   0.   0. -10. -10.   0.   0.   0.   0.   0.]]\n",
      "1 -7.0 \n",
      " [[  1.   0.   0.   0.   0.   1.   1.   0.   0.   0.]\n",
      " [  0.   0.   0. -10. -10.   0.   0.   0.   0.   0.]]\n",
      "9 -6.0 \n",
      " [[  1.   0.   0.   0.   0.   1.   1.   0.   1.   0.]\n",
      " [  0.   0.   0. -10. -10.   0.   0.   0.   0.   0.]]\n",
      "2 -5.0 \n",
      " [[  1.   1.   0.   0.   0.   1.   1.   0.   1.   0.]\n",
      " [  0.   0.   0. -10. -10.   0.   0.   0.   0.   0.]]\n",
      "10 -4.0 \n",
      " [[  1.   1.   0.   0.   0.   1.   1.   0.   1.   1.]\n",
      " [  0.   0.   0. -10. -10.   0.   0.   0.   0.   0.]]\n",
      "8 -3.0 \n",
      " [[  1.   1.   0.   0.   0.   1.   1.   1.   1.   1.]\n",
      " [  0.   0.   0. -10. -10.   0.   0.   0.   0.   0.]]\n",
      "3 -2.0 \n",
      " [[  1.   1.   1.   0.   0.   1.   1.   1.   1.   1.]\n",
      " [  0.   0.   0. -10. -10.   0.   0.   0.   0.   0.]]\n",
      "9 -3.0 \n",
      " [[  1.   1.   1.   0.   0.   1.   1.   1.   0.   1.]\n",
      " [  0.   0.   0. -10. -10.   0.   0.   0.   0.   0.]]\n",
      "9 -2.0 \n",
      " [[  1.   1.   1.   0.   0.   1.   1.   1.   1.   1.]\n",
      " [  0.   0.   0. -10. -10.   0.   0.   0.   0.   0.]]\n"
     ]
    }
   ],
   "source": [
    "obs, info = env.reset()\n",
    "from itertools import count\n",
    "for i in count():\n",
    "    a = algo.compute_single_action(\n",
    "        observation=obs,\n",
    "        explore=False,\n",
    "        policy_id=\"default_policy\",  # <- default value\n",
    "    )\n",
    "    # Send the computed action `a` to the env.\n",
    "    obs, reward, done, truncated, _ = env.step(a)\n",
    "    print(a, reward, \"\\n\",obs.reshape(2,-1))\n",
    "    if done or truncated:\n",
    "        break"
   ]
  },
  {
   "cell_type": "code",
   "execution_count": 19,
   "metadata": {},
   "outputs": [
    {
     "data": {
      "text/plain": [
       "(array([  0.,   0.,   0.,   0.,   0.,   0.,   0.,   0.,   0.,   0., -10.,\n",
       "          0.,   0.,   0.,   0.,   0., -10.,   0.,   0.,   0.],\n",
       "       dtype=float32),\n",
       " {})"
      ]
     },
     "execution_count": 19,
     "metadata": {},
     "output_type": "execute_result"
    }
   ],
   "source": [
    "env.reset()"
   ]
  },
  {
   "cell_type": "code",
   "execution_count": 27,
   "metadata": {},
   "outputs": [
    {
     "data": {
      "text/plain": [
       "(array([  1.,   0.,   0.,   0.,   0.,   0.,   0.,   0.,   0.,   0., -10.,\n",
       "          0.,   0.,   0.,   0.,   0., -10.,   0.,   0.,   0.],\n",
       "       dtype=float32),\n",
       " -19.0,\n",
       " False,\n",
       " False,\n",
       " {})"
      ]
     },
     "execution_count": 27,
     "metadata": {},
     "output_type": "execute_result"
    }
   ],
   "source": [
    "env.step(0)"
   ]
  },
  {
   "cell_type": "code",
   "execution_count": 70,
   "metadata": {},
   "outputs": [
    {
     "data": {
      "text/plain": [
       "(array([941., 870., 895., 943., 887., 910., 911., 871., 898., 913., 961.]),\n",
       " array([ 0.        ,  0.90909091,  1.81818182,  2.72727273,  3.63636364,\n",
       "         4.54545455,  5.45454545,  6.36363636,  7.27272727,  8.18181818,\n",
       "         9.09090909, 10.        ]),\n",
       " <BarContainer object of 11 artists>)"
      ]
     },
     "execution_count": 70,
     "metadata": {},
     "output_type": "execute_result"
    },
    {
     "data": {
      "image/png": "[encoded data removed]",
      "text/plain": [
       "<Figure size 640x480 with 1 Axes>"
      ]
     },
     "metadata": {},
     "output_type": "display_data"
    }
   ],
   "source": [
    "import matplotlib.pylab as plt\n",
    "plt.hist([env.action_space.sample() for _ in range(10000)], bins=env.action_space.n)"
   ]
  },
  {
   "cell_type": "code",
   "execution_count": 15,
   "metadata": {},
   "outputs": [],
   "source": [
    "# algo.stop()\n",
    "# ray.shutdown()"
   ]
  }
 ],
 "metadata": {
  "kernelspec": {
   "display_name": "rllib",
   "language": "python",
   "name": "python3"
  },
  "language_info": {
   "codemirror_mode": {
    "name": "ipython",
    "version": 3
   },
   "file_extension": ".py",
   "mimetype": "text/x-python",
   "name": "python",
   "nbconvert_exporter": "python",
   "pygments_lexer": "ipython3",
   "version": "3.8.15"
  },
  "orig_nbformat": 4,
  "vscode": {
   "interpreter": {
    "hash": "524f818cd743d7abf57cb48d668c781df3b45c3f425c53d80f3bb0fcd0df7a52"
   }
  }
 },
 "nbformat": 4,
 "nbformat_minor": 2
}
