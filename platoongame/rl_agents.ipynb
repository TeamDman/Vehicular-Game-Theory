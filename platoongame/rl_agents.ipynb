{
 "cells": [
  {
   "cell_type": "code",
   "execution_count": 1,
   "metadata": {},
   "outputs": [],
   "source": [
    "%load_ext autoreload\n",
    "%autoreload 2"
   ]
  },
  {
   "cell_type": "code",
   "execution_count": 40,
   "metadata": {},
   "outputs": [],
   "source": [
    "import vehicles\n",
    "import game\n",
    "import agents\n",
    "import evaluation\n",
    "import torch\n",
    "from dataclasses import astuple\n"
   ]
  },
  {
   "cell_type": "code",
   "execution_count": 41,
   "metadata": {},
   "outputs": [],
   "source": [
    "g = game.Game(\n",
    "    game.GameConfig(max_vehicles=10),\n",
    "    vehicles.JsonVehicleProvider(\"../subgame/python/solutions.json\")\n",
    ")"
   ]
  },
  {
   "cell_type": "code",
   "execution_count": 42,
   "metadata": {},
   "outputs": [
    {
     "data": {
      "text/plain": [
       "tensor([0.4100, 5.0000, 0.0000, 0.0000])"
      ]
     },
     "execution_count": 42,
     "metadata": {},
     "output_type": "execute_result"
    }
   ],
   "source": [
    "g.state.vehicles[0].vulnerabilities[0].as_tensor()"
   ]
  },
  {
   "cell_type": "code",
   "execution_count": 62,
   "metadata": {},
   "outputs": [
    {
     "name": "stdout",
     "output_type": "stream",
     "text": [
      "torch.Size([3, 10, 7, 4])\n",
      "torch.Size([3, 10, 2])\n"
     ]
    }
   ],
   "source": [
    "batch_size = 3\n",
    "vulns_quants = []\n",
    "vehicle_quants = []\n",
    "for _ in range(batch_size):\n",
    "    vulns_quant, vehicle_quant = g.state.as_tensors(g.config.max_vehicles, g.vehicle_provider.max_vulns)\n",
    "    vulns_quants.append(vulns_quant)\n",
    "    vehicle_quants.append(vehicle_quant)\n",
    "\n",
    "vulns_quant = torch.stack(vulns_quants)\n",
    "vehicle_quant = torch.stack(vehicle_quants)\n",
    "print(vulns_quant.shape)\n",
    "print(vehicle_quant.shape)\n",
    "del vulns_quants\n",
    "del vehicle_quants"
   ]
  },
  {
   "cell_type": "code",
   "execution_count": 81,
   "metadata": {},
   "outputs": [
    {
     "name": "stdout",
     "output_type": "stream",
     "text": [
      "torch.Size([10])\n",
      "tensor([0.4121, 0.3961, 0.5313, 0.4123, 0.6184, 0.7284, 0.7060, 0.4106, 0.4575,\n",
      "        0.6376], grad_fn=<SigmoidBackward0>)\n"
     ]
    },
    {
     "name": "stderr",
     "output_type": "stream",
     "text": [
      "c:\\Users\\TeamD\\.conda\\envs\\subgame\\lib\\site-packages\\torch\\nn\\functional.py:1806: UserWarning: nn.functional.sigmoid is deprecated. Use torch.sigmoid instead.\n",
      "  warnings.warn(\"nn.functional.sigmoid is deprecated. Use torch.sigmoid instead.\")\n"
     ]
    }
   ],
   "source": [
    "import reinforcement_learning\n",
    "agent = reinforcement_learning.AttackerDQN(g)\n",
    "y = agent(vulns_quant, vehicle_quant)\n",
    "print(y.shape)\n",
    "print(y)"
   ]
  },
  {
   "cell_type": "code",
   "execution_count": 57,
   "metadata": {},
   "outputs": [
    {
     "name": "stdout",
     "output_type": "stream",
     "text": [
      "torch.Size([144]) torch.Size([108])\n"
     ]
    }
   ],
   "source": []
  },
  {
   "cell_type": "code",
   "execution_count": 69,
   "metadata": {},
   "outputs": [
    {
     "name": "stdout",
     "output_type": "stream",
     "text": [
      "=================================================================\n",
      "Layer (type:depth-idx)                   Param #\n",
      "=================================================================\n",
      "├─Conv2d: 1-1                            808\n",
      "├─BatchNorm2d: 1-2                       16\n",
      "├─Conv1d: 1-3                            20\n",
      "├─BatchNorm1d: 1-4                       8\n",
      "=================================================================\n",
      "Total params: 852\n",
      "Trainable params: 852\n",
      "Non-trainable params: 0\n",
      "=================================================================\n"
     ]
    },
    {
     "data": {
      "text/plain": [
       "=================================================================\n",
       "Layer (type:depth-idx)                   Param #\n",
       "=================================================================\n",
       "├─Conv2d: 1-1                            808\n",
       "├─BatchNorm2d: 1-2                       16\n",
       "├─Conv1d: 1-3                            20\n",
       "├─BatchNorm1d: 1-4                       8\n",
       "=================================================================\n",
       "Total params: 852\n",
       "Trainable params: 852\n",
       "Non-trainable params: 0\n",
       "================================================================="
      ]
     },
     "execution_count": 69,
     "metadata": {},
     "output_type": "execute_result"
    }
   ],
   "source": [
    "from torchsummary import summary\n",
    "summary(agent)"
   ]
  }
 ],
 "metadata": {
  "kernelspec": {
   "display_name": "Python 3.9.12 ('subgame')",
   "language": "python",
   "name": "python3"
  },
  "language_info": {
   "codemirror_mode": {
    "name": "ipython",
    "version": 3
   },
   "file_extension": ".py",
   "mimetype": "text/x-python",
   "name": "python",
   "nbconvert_exporter": "python",
   "pygments_lexer": "ipython3",
   "version": "3.9.12"
  },
  "orig_nbformat": 4,
  "vscode": {
   "interpreter": {
    "hash": "09b31e4957d63d79e1e76c5537c345194b9f565583fac53cbbb105281d72baf4"
   }
  }
 },
 "nbformat": 4,
 "nbformat_minor": 2
}
