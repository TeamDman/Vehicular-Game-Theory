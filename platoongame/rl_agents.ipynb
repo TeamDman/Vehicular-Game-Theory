{
 "cells": [
  {
   "cell_type": "code",
   "execution_count": 1,
   "metadata": {},
   "outputs": [],
   "source": [
    "%load_ext autoreload\n",
    "%autoreload 2"
   ]
  },
  {
   "cell_type": "code",
   "execution_count": 19,
   "metadata": {},
   "outputs": [],
   "source": [
    "import vehicles\n",
    "import game\n",
    "import agents\n",
    "import evaluation\n",
    "import reinforcement_learning\n"
   ]
  },
  {
   "cell_type": "code",
   "execution_count": 21,
   "metadata": {},
   "outputs": [],
   "source": [
    "g = game.Game(\n",
    "    game.GameConfig(max_vehicles=10),\n",
    "    vehicles.JsonVehicleProvider(\"../subgame/python/solutions.json\")\n",
    ")"
   ]
  },
  {
   "cell_type": "code",
   "execution_count": 23,
   "metadata": {},
   "outputs": [
    {
     "name": "stdout",
     "output_type": "stream",
     "text": [
      "State(vehicles=frozenset({Vehicle(risk=13.93, in_platoon=False, compromises=frozenset(), known_compromises=frozenset(), defender_choices=frozenset({Vulnerability(id=2, attackerCost=2, defenderCost=2, attackerProb=0.95, defenderProb=0.91, severity=3), Vulnerability(id=6, attackerCost=1, defenderCost=3, attackerProb=0.76, defenderProb=0.87, severity=4), Vulnerability(id=1, attackerCost=3, defenderCost=5, attackerProb=0.83, defenderProb=0.94, severity=5)}), attacker_choices=frozenset({Vulnerability(id=0, attackerCost=1, defenderCost=4, attackerProb=0.42, defenderProb=0.88, severity=2), Vulnerability(id=3, attackerCost=3, defenderCost=1, attackerProb=0.6, defenderProb=0.88, severity=2), Vulnerability(id=4, attackerCost=3, defenderCost=4, attackerProb=0.3, defenderProb=0.94, severity=5), Vulnerability(id=2, attackerCost=2, defenderCost=2, attackerProb=0.95, defenderProb=0.91, severity=3), Vulnerability(id=6, attackerCost=1, defenderCost=3, attackerProb=0.76, defenderProb=0.87, severity=4)})), Vehicle(risk=23.27, in_platoon=False, compromises=frozenset(), known_compromises=frozenset(), defender_choices=frozenset({Vulnerability(id=0, attackerCost=3, defenderCost=1, attackerProb=0.48, defenderProb=0.83, severity=3), Vulnerability(id=7, attackerCost=5, defenderCost=5, attackerProb=0.54, defenderProb=0.85, severity=5), Vulnerability(id=2, attackerCost=4, defenderCost=2, attackerProb=0.46, defenderProb=0.86, severity=5), Vulnerability(id=4, attackerCost=4, defenderCost=1, attackerProb=0.63, defenderProb=0.96, severity=4)}), attacker_choices=frozenset({Vulnerability(id=5, attackerCost=3, defenderCost=4, attackerProb=0.54, defenderProb=0.81, severity=5), Vulnerability(id=1, attackerCost=1, defenderCost=4, attackerProb=0.31, defenderProb=0.95, severity=5), Vulnerability(id=7, attackerCost=5, defenderCost=5, attackerProb=0.54, defenderProb=0.85, severity=5)})), Vehicle(risk=4.54, in_platoon=False, compromises=frozenset(), known_compromises=frozenset(), defender_choices=frozenset({Vulnerability(id=7, attackerCost=4, defenderCost=3, attackerProb=0.65, defenderProb=0.86, severity=3), Vulnerability(id=6, attackerCost=1, defenderCost=2, attackerProb=0.24, defenderProb=0.85, severity=1), Vulnerability(id=4, attackerCost=3, defenderCost=5, attackerProb=0.82, defenderProb=0.84, severity=4)}), attacker_choices=frozenset({Vulnerability(id=5, attackerCost=1, defenderCost=3, attackerProb=0.48, defenderProb=0.91, severity=1), Vulnerability(id=6, attackerCost=1, defenderCost=2, attackerProb=0.24, defenderProb=0.85, severity=1), Vulnerability(id=4, attackerCost=3, defenderCost=5, attackerProb=0.82, defenderProb=0.84, severity=4), Vulnerability(id=3, attackerCost=4, defenderCost=5, attackerProb=0.48, defenderProb=0.9, severity=2)})), Vehicle(risk=8.6, in_platoon=False, compromises=frozenset(), known_compromises=frozenset(), defender_choices=frozenset({Vulnerability(id=0, attackerCost=4, defenderCost=3, attackerProb=0.69, defenderProb=0.84, severity=3), Vulnerability(id=6, attackerCost=5, defenderCost=3, attackerProb=0.62, defenderProb=0.92, severity=5), Vulnerability(id=5, attackerCost=2, defenderCost=2, attackerProb=0.53, defenderProb=0.92, severity=5), Vulnerability(id=2, attackerCost=1, defenderCost=2, attackerProb=0.81, defenderProb=0.87, severity=4)}), attacker_choices=frozenset({Vulnerability(id=3, attackerCost=4, defenderCost=4, attackerProb=0.12, defenderProb=0.85, severity=3), Vulnerability(id=4, attackerCost=1, defenderCost=3, attackerProb=0.12, defenderProb=0.96, severity=5), Vulnerability(id=7, attackerCost=4, defenderCost=1, attackerProb=0.71, defenderProb=0.84, severity=2), Vulnerability(id=2, attackerCost=1, defenderCost=2, attackerProb=0.81, defenderProb=0.87, severity=4)})), Vehicle(risk=15.08, in_platoon=False, compromises=frozenset(), known_compromises=frozenset(), defender_choices=frozenset({Vulnerability(id=1, attackerCost=3, defenderCost=1, attackerProb=0.91, defenderProb=0.84, severity=3), Vulnerability(id=6, attackerCost=3, defenderCost=4, attackerProb=0.32, defenderProb=0.83, severity=5), Vulnerability(id=7, attackerCost=1, defenderCost=5, attackerProb=0.61, defenderProb=0.86, severity=5)}), attacker_choices=frozenset({Vulnerability(id=7, attackerCost=1, defenderCost=5, attackerProb=0.61, defenderProb=0.86, severity=5), Vulnerability(id=2, attackerCost=1, defenderCost=1, attackerProb=0.26, defenderProb=0.93, severity=2), Vulnerability(id=4, attackerCost=3, defenderCost=4, attackerProb=0.49, defenderProb=0.87, severity=3), Vulnerability(id=0, attackerCost=4, defenderCost=3, attackerProb=0.3, defenderProb=0.84, severity=5)})), Vehicle(risk=13.3, in_platoon=False, compromises=frozenset(), known_compromises=frozenset(), defender_choices=frozenset({Vulnerability(id=7, attackerCost=2, defenderCost=3, attackerProb=0.44, defenderProb=0.89, severity=4), Vulnerability(id=3, attackerCost=2, defenderCost=1, attackerProb=0.95, defenderProb=0.87, severity=5), Vulnerability(id=6, attackerCost=4, defenderCost=4, attackerProb=0.49, defenderProb=0.85, severity=5)}), attacker_choices=frozenset({Vulnerability(id=4, attackerCost=4, defenderCost=5, attackerProb=0.22, defenderProb=0.87, severity=4), Vulnerability(id=7, attackerCost=2, defenderCost=3, attackerProb=0.44, defenderProb=0.89, severity=4), Vulnerability(id=2, attackerCost=2, defenderCost=3, attackerProb=0.37, defenderProb=0.89, severity=4), Vulnerability(id=3, attackerCost=2, defenderCost=1, attackerProb=0.95, defenderProb=0.87, severity=5)})), Vehicle(risk=4.72, in_platoon=False, compromises=frozenset(), known_compromises=frozenset(), defender_choices=frozenset({Vulnerability(id=7, attackerCost=2, defenderCost=4, attackerProb=0.96, defenderProb=0.95, severity=5), Vulnerability(id=4, attackerCost=5, defenderCost=3, attackerProb=0.79, defenderProb=0.97, severity=2), Vulnerability(id=2, attackerCost=3, defenderCost=3, attackerProb=0.21, defenderProb=0.97, severity=4)}), attacker_choices=frozenset({Vulnerability(id=7, attackerCost=2, defenderCost=4, attackerProb=0.96, defenderProb=0.95, severity=5), Vulnerability(id=1, attackerCost=5, defenderCost=4, attackerProb=0.17, defenderProb=0.87, severity=4), Vulnerability(id=0, attackerCost=3, defenderCost=1, attackerProb=0.2, defenderProb=0.83, severity=2)})), Vehicle(risk=11.28, in_platoon=False, compromises=frozenset(), known_compromises=frozenset(), defender_choices=frozenset({Vulnerability(id=2, attackerCost=1, defenderCost=2, attackerProb=0.34, defenderProb=0.88, severity=5), Vulnerability(id=7, attackerCost=3, defenderCost=5, attackerProb=0.96, defenderProb=0.95, severity=4), Vulnerability(id=5, attackerCost=4, defenderCost=1, attackerProb=0.69, defenderProb=0.97, severity=3)}), attacker_choices=frozenset({Vulnerability(id=2, attackerCost=1, defenderCost=2, attackerProb=0.34, defenderProb=0.88, severity=5), Vulnerability(id=6, attackerCost=4, defenderCost=5, attackerProb=0.92, defenderProb=0.97, severity=3), Vulnerability(id=0, attackerCost=4, defenderCost=4, attackerProb=0.22, defenderProb=0.97, severity=3)})), Vehicle(risk=5.9, in_platoon=False, compromises=frozenset(), known_compromises=frozenset(), defender_choices=frozenset({Vulnerability(id=4, attackerCost=2, defenderCost=5, attackerProb=0.36, defenderProb=0.81, severity=5), Vulnerability(id=0, attackerCost=1, defenderCost=5, attackerProb=0.54, defenderProb=0.84, severity=4)}), attacker_choices=frozenset({Vulnerability(id=2, attackerCost=4, defenderCost=1, attackerProb=0.26, defenderProb=0.96, severity=3), Vulnerability(id=4, attackerCost=2, defenderCost=5, attackerProb=0.36, defenderProb=0.81, severity=5), Vulnerability(id=0, attackerCost=1, defenderCost=5, attackerProb=0.54, defenderProb=0.84, severity=4), Vulnerability(id=6, attackerCost=2, defenderCost=2, attackerProb=0.47, defenderProb=0.93, severity=1)})), Vehicle(risk=6.47, in_platoon=False, compromises=frozenset(), known_compromises=frozenset(), defender_choices=frozenset({Vulnerability(id=6, attackerCost=2, defenderCost=1, attackerProb=0.87, defenderProb=0.9, severity=1), Vulnerability(id=3, attackerCost=1, defenderCost=3, attackerProb=0.58, defenderProb=0.9, severity=5), Vulnerability(id=7, attackerCost=5, defenderCost=5, attackerProb=0.8, defenderProb=0.87, severity=4)}), attacker_choices=frozenset({Vulnerability(id=5, attackerCost=2, defenderCost=5, attackerProb=0.19, defenderProb=0.81, severity=3), Vulnerability(id=0, attackerCost=4, defenderCost=3, attackerProb=0.18, defenderProb=0.89, severity=4), Vulnerability(id=1, attackerCost=3, defenderCost=2, attackerProb=0.43, defenderProb=0.94, severity=1), Vulnerability(id=3, attackerCost=1, defenderCost=3, attackerProb=0.58, defenderProb=0.9, severity=5)}))}), defender_utility=0, attacker_utility=0)\n"
     ]
    }
   ],
   "source": [
    "state = g.state\n",
    "import torch\n",
    "vulns = torch.zeros((g.config.max_vehicles, g.vehicle_provider.max_vuln_complexity, 7))\n",
    "vehicle_ids = sorted([v.id for v in g.state.vehicles])\n",
    "for vehicle in g.state.vehicles:\n",
    "    i = vehicle_ids.index(vehicle.id)\n",
    "    vuln_ids = set()\n",
    "    for vuln in vehicle.attacker_choice:\n",
    "        vuln_ids.add(vuln.id)\n",
    "    for vuln in vehicle.defender_choice:\n",
    "        vuln_ids.add(vuln.id)\n",
    "    for vehicle in vehicle.attacker_choice:\n",
    "        vulns[vehicle.id, ]\n",
    "        # vulns[i][v] = torch.zeros(g.vehicle_provider.max_vuln_complexity)"
   ]
  },
  {
   "cell_type": "code",
   "execution_count": null,
   "metadata": {},
   "outputs": [],
   "source": [
    "a = reinforcement_learning.AttackerDQN(g)"
   ]
  },
  {
   "cell_type": "code",
   "execution_count": null,
   "metadata": {},
   "outputs": [],
   "source": [
    "from torchsummary import summary\n",
    "summary(a)"
   ]
  }
 ],
 "metadata": {
  "kernelspec": {
   "display_name": "Python 3.9.12 ('subgame')",
   "language": "python",
   "name": "python3"
  },
  "language_info": {
   "codemirror_mode": {
    "name": "ipython",
    "version": 3
   },
   "file_extension": ".py",
   "mimetype": "text/x-python",
   "name": "python",
   "nbconvert_exporter": "python",
   "pygments_lexer": "ipython3",
   "version": "3.9.12"
  },
  "orig_nbformat": 4,
  "vscode": {
   "interpreter": {
    "hash": "09b31e4957d63d79e1e76c5537c345194b9f565583fac53cbbb105281d72baf4"
   }
  }
 },
 "nbformat": 4,
 "nbformat_minor": 2
}
