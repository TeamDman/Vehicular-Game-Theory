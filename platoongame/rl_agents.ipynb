{
 "cells": [
  {
   "cell_type": "code",
   "execution_count": 1,
   "metadata": {},
   "outputs": [],
   "source": [
    "%load_ext autoreload\n",
    "%autoreload 2"
   ]
  },
  {
   "cell_type": "code",
   "execution_count": 2,
   "metadata": {},
   "outputs": [],
   "source": [
    "import vehicles\n",
    "import game\n",
    "import agents\n",
    "import evaluation\n",
    "import torch"
   ]
  },
  {
   "cell_type": "code",
   "execution_count": 3,
   "metadata": {},
   "outputs": [],
   "source": [
    "engine = evaluation.Evaluator(\n",
    "    # attacker=agents.PassiveAgent(),\n",
    "    attacker=agents.BasicAttackerAgent(1),\n",
    "    defender=agents.BasicDefenderAgent(monitor_limit=1),\n",
    "    vehicles=vehicles.JsonVehicleProvider(\"../subgame/python/solutions.json\"),\n",
    "    game_config=game.GameConfig(\n",
    "        max_vehicles=30,\n",
    "        cycle_every=3,\n",
    "        cycle_num=5,\n",
    "        cycle_allow_platoon=False\n",
    "    ),\n",
    "    num_rounds=1000\n",
    ")"
   ]
  },
  {
   "cell_type": "code",
   "execution_count": 4,
   "metadata": {},
   "outputs": [
    {
     "data": {
      "text/plain": [
       "tensor([0.5700, 2.0000, 0.0000, 0.0000])"
      ]
     },
     "execution_count": 4,
     "metadata": {},
     "output_type": "execute_result"
    }
   ],
   "source": [
    "g.state.vehicles[0].vulnerabilities[0].as_tensor()"
   ]
  },
  {
   "cell_type": "code",
   "execution_count": 5,
   "metadata": {},
   "outputs": [
    {
     "name": "stdout",
     "output_type": "stream",
     "text": [
      "torch.Size([3, 10, 7, 4])\n",
      "torch.Size([3, 10, 2])\n"
     ]
    }
   ],
   "source": [
    "batch_size = 3\n",
    "vulns_quants = []\n",
    "vehicle_quants = []\n",
    "for _ in range(batch_size):\n",
    "    vulns_quant, vehicle_quant = g.state.as_tensors(g.config.max_vehicles, g.vehicle_provider.max_vulns)\n",
    "    vulns_quants.append(vulns_quant)\n",
    "    vehicle_quants.append(vehicle_quant)\n",
    "\n",
    "vulns_quant = torch.stack(vulns_quants)\n",
    "vehicle_quant = torch.stack(vehicle_quants)\n",
    "print(vulns_quant.shape)\n",
    "print(vehicle_quant.shape)\n",
    "del vulns_quants\n",
    "del vehicle_quants"
   ]
  },
  {
   "cell_type": "code",
   "execution_count": 10,
   "metadata": {},
   "outputs": [
    {
     "name": "stdout",
     "output_type": "stream",
     "text": [
      "torch.Size([10]) torch.Size([10])\n"
     ]
    }
   ],
   "source": [
    "import reinforcement_learning\n",
    "agent = reinforcement_learning.RLDefenderAgent(g)\n",
    "y = agent.policy_net(vulns_quant, vehicle_quant)\n",
    "print(y[0].shape, y[1].shape)\n",
    "# wrong output shape, shouldn't it be batchsize * 10 not just 10?\n",
    "# wrong output shape, shouldn't it be batchsize * 10 not just 10?\n",
    "# wrong output shape, shouldn't it be batchsize * 10 not just 10?\n",
    "# wrong output shape, shouldn't it be batchsize * 10 not just 10?\n",
    "# wrong output shape, shouldn't it be batchsize * 10 not just 10?\n",
    "# wrong output shape, shouldn't it be batchsize * 10 not just 10?\n",
    "# wrong output shape, shouldn't it be batchsize * 10 not just 10?"
   ]
  },
  {
   "cell_type": "code",
   "execution_count": 12,
   "metadata": {},
   "outputs": [
    {
     "name": "stdout",
     "output_type": "stream",
     "text": [
      "=================================================================\n",
      "Layer (type:depth-idx)                   Param #\n",
      "=================================================================\n",
      "├─Conv2d: 1-1                            808\n",
      "├─BatchNorm2d: 1-2                       16\n",
      "├─Conv1d: 1-3                            20\n",
      "├─BatchNorm1d: 1-4                       8\n",
      "├─Linear: 1-5                            2,530\n",
      "├─Linear: 1-6                            2,530\n",
      "=================================================================\n",
      "Total params: 5,912\n",
      "Trainable params: 5,912\n",
      "Non-trainable params: 0\n",
      "=================================================================\n"
     ]
    },
    {
     "data": {
      "text/plain": [
       "=================================================================\n",
       "Layer (type:depth-idx)                   Param #\n",
       "=================================================================\n",
       "├─Conv2d: 1-1                            808\n",
       "├─BatchNorm2d: 1-2                       16\n",
       "├─Conv1d: 1-3                            20\n",
       "├─BatchNorm1d: 1-4                       8\n",
       "├─Linear: 1-5                            2,530\n",
       "├─Linear: 1-6                            2,530\n",
       "=================================================================\n",
       "Total params: 5,912\n",
       "Trainable params: 5,912\n",
       "Non-trainable params: 0\n",
       "================================================================="
      ]
     },
     "execution_count": 12,
     "metadata": {},
     "output_type": "execute_result"
    }
   ],
   "source": [
    "from torchsummary import summary\n",
    "summary(agent.policy_net)"
   ]
  }
 ],
 "metadata": {
  "kernelspec": {
   "display_name": "Python 3.9.12 ('subgame')",
   "language": "python",
   "name": "python3"
  },
  "language_info": {
   "codemirror_mode": {
    "name": "ipython",
    "version": 3
   },
   "file_extension": ".py",
   "mimetype": "text/x-python",
   "name": "python",
   "nbconvert_exporter": "python",
   "pygments_lexer": "ipython3",
   "version": "3.9.12"
  },
  "orig_nbformat": 4,
  "vscode": {
   "interpreter": {
    "hash": "09b31e4957d63d79e1e76c5537c345194b9f565583fac53cbbb105281d72baf4"
   }
  }
 },
 "nbformat": 4,
 "nbformat_minor": 2
}
