{
 "cells": [
  {
   "cell_type": "code",
   "execution_count": 1,
   "metadata": {},
   "outputs": [],
   "source": [
    "import numpy as np\n",
    "\n",
    "np.set_printoptions(\n",
    "    suppress=True,\n",
    "    linewidth=180\n",
    ")"
   ]
  },
  {
   "cell_type": "code",
   "execution_count": 2,
   "metadata": {},
   "outputs": [],
   "source": [
    "def get_random_vehicles(num_vehicles, max_vulns):\n",
    "    import random\n",
    "    vehicles = [\n",
    "        {\n",
    "            \"id\": i,\n",
    "            \"vulns\":[\n",
    "                {\n",
    "                    \"prob\": round(random.uniform(0.1, 0.98),2),\n",
    "                    \"severity\": random.randint(1,5),\n",
    "                }\n",
    "                for i in range(random.randint(1,max_vulns))\n",
    "            ]\n",
    "        }\n",
    "        for i in range(num_vehicles)\n",
    "    ]\n",
    "    for v in vehicles:\n",
    "        for c in v[\"vulns\"]:\n",
    "            c[\"risk\"] = round(c[\"severity\"] ** 2 * c[\"prob\"] * 100)/100\n",
    "    return vehicles"
   ]
  },
  {
   "cell_type": "code",
   "execution_count": 3,
   "metadata": {},
   "outputs": [],
   "source": [
    "def powerset(s):\n",
    "    import itertools\n",
    "    return itertools.chain.from_iterable(itertools.combinations(s, r) for r in range(1, len(s)+1))"
   ]
  },
  {
   "cell_type": "code",
   "execution_count": null,
   "metadata": {},
   "outputs": [],
   "source": [
    "def get_defender_subgame_utility(vehicle_list, attack):\n",
    "    lookup = set([x[\"id\"] for x in vehicle_list])\n",
    "    bad = 0\n",
    "    for v in attack:\n",
    "        if v[\"id\"] in lookup:\n",
    "            for c in v[\"components\"]:\n",
    "                bad += c[\"prob\"] * c[\"severity\"] ** 2\n",
    "    return len(vehicle_list) - bad"
   ]
  },
  {
   "cell_type": "code",
   "execution_count": null,
   "metadata": {},
   "outputs": [],
   "source": [
    "def get_attacker_utility(platoon, attack):\n",
    "    lookup = set([x[\"id\"] for x in platoon])\n",
    "    util = 0\n",
    "    for v in attack:\n",
    "        if v[\"id\"] in lookup:\n",
    "            for c in v[\"components\"]:\n",
    "                util += c[\"prob\"] * c[\"severity\"] ** 2\n",
    "    return util"
   ]
  },
  {
   "cell_type": "code",
   "execution_count": null,
   "metadata": {},
   "outputs": [],
   "source": [
    "def generate_utility_matrices(board, attacker_selection_limit):\n",
    "    possible_platoons = list(powerset(board))\n",
    "    possible_attacks = [x for x in powerset(board) if len(x) <= attacker_selection_limit]\n",
    "    defender_utility_matrix = np.zeros((len(possible_attacks),len(possible_platoons)))    \n",
    "    attacker_utility_matrix = np.zeros((len(possible_platoons),len(possible_attacks)))\n",
    "\n",
    "    for i, platoon in enumerate(possible_platoons):\n",
    "        for j, attack in enumerate(possible_attacks):\n",
    "            defender_utility_matrix[j][i] = get_defender_utility(platoon, attack)\n",
    "            attacker_utility_matrix[i][j] = get_attacker_utility(platoon, attack)\n",
    "    \n",
    "    return defender_utility_matrix, \\\n",
    "        possible_platoons, \\\n",
    "        attacker_utility_matrix, \\\n",
    "        possible_attacks,"
   ]
  },
  {
   "cell_type": "code",
   "execution_count": null,
   "metadata": {},
   "outputs": [
    {
     "name": "stdout",
     "output_type": "stream",
     "text": [
      "[{'id': 0, 'components': [{'prob': 0.67, 'severity': 2, 'risk': 2.68}]}, {'id': 1, 'components': [{'prob': 0.91, 'severity': 5, 'risk': 22.75}]}, {'id': 2, 'components': [{'prob': 0.96, 'severity': 2, 'risk': 3.84}, {'prob': 0.49, 'severity': 1, 'risk': 0.49}]}, {'id': 3, 'components': [{'prob': 0.46, 'severity': 2, 'risk': 1.84}]}]\n"
     ]
    }
   ],
   "source": [
    "board = generate_board(4,2)\n",
    "print(board)"
   ]
  },
  {
   "cell_type": "code",
   "execution_count": null,
   "metadata": {},
   "outputs": [],
   "source": [
    "def solve(util):\n",
    "    import scipy.optimize\n",
    "    \n",
    "    # print(util.shape)\n",
    "\n",
    "    c = np.zeros(util.shape[1]+1)\n",
    "    c[0] = -1\n",
    "\n",
    "    A_ub = np.ones((util.shape[0], util.shape[1] +1))\n",
    "    A_ub[:,1:] = util*-1\n",
    "    b_ub = np.zeros(util.shape[0])\n",
    "\n",
    "    A_eq = np.ones((1, util.shape[1] + 1))\n",
    "    A_eq[0][0] = 0\n",
    "    b_eq = 1\n",
    "\n",
    "    lb = np.zeros(util.shape[1]+1)\n",
    "    lb[0] = -10000\n",
    "    ub = np.ones(util.shape[1]+1)\n",
    "    ub[0] = 10000\n",
    "    bounds = np.asarray([lb, ub]).transpose()\n",
    "\n",
    "    result = scipy.optimize.linprog(\n",
    "        c=c,\n",
    "        A_ub=A_ub,\n",
    "        b_ub=b_ub,\n",
    "        A_eq=A_eq,\n",
    "        b_eq=b_eq,\n",
    "        bounds=bounds,\n",
    "        # options = {\n",
    "        #     \"tol\": 0.001\n",
    "        #     # \"autoscale\": True\n",
    "        # }\n",
    "        # method=\"simplex\",\n",
    "        method=\"highs\",\n",
    "        # method=\"interior-point\",\n",
    "        # options={\"presolve\":False},\n",
    "        # callback = lambda x: zz.append(x.x)\n",
    "    )\n",
    "    if result.success:\n",
    "        print(result.x[0])\n",
    "        return result.x[1:]\n",
    "    else:\n",
    "        print(result)\n",
    "        raise Exception(\"Couldn't find solution\")"
   ]
  },
  {
   "cell_type": "code",
   "execution_count": null,
   "metadata": {},
   "outputs": [],
   "source": [
    "def_util, def_opt, atk_util, atk_opt = generate_utility_matrices(board, 1)"
   ]
  }
 ],
 "metadata": {
  "kernelspec": {
   "display_name": "Python 3.9.12 ('subgame')",
   "language": "python",
   "name": "python3"
  },
  "language_info": {
   "codemirror_mode": {
    "name": "ipython",
    "version": 3
   },
   "file_extension": ".py",
   "mimetype": "text/x-python",
   "name": "python",
   "nbconvert_exporter": "python",
   "pygments_lexer": "ipython3",
   "version": "3.9.12"
  },
  "orig_nbformat": 4,
  "vscode": {
   "interpreter": {
    "hash": "09b31e4957d63d79e1e76c5537c345194b9f565583fac53cbbb105281d72baf4"
   }
  }
 },
 "nbformat": 4,
 "nbformat_minor": 2
}
