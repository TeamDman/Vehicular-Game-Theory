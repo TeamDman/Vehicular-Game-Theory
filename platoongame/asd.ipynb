{
 "cells": [
  {
   "cell_type": "code",
   "execution_count": 18,
   "metadata": {},
   "outputs": [
    {
     "name": "stdout",
     "output_type": "stream",
     "text": [
      "The autoreload extension is already loaded. To reload it, use:\n",
      "  %reload_ext autoreload\n"
     ]
    }
   ],
   "source": [
    "%load_ext autoreload\n",
    "%autoreload 2"
   ]
  },
  {
   "cell_type": "code",
   "execution_count": 19,
   "metadata": {},
   "outputs": [
    {
     "name": "stdout",
     "output_type": "stream",
     "text": [
      "frozenset({1, 2, 3}) frozenset({1, 2, 3, 6})\n",
      "True\n"
     ]
    }
   ],
   "source": [
    "a = frozenset([1,2,3])\n",
    "b = frozenset(list(a) + [6])\n",
    "print(a,b)\n",
    "print(1 in a)"
   ]
  },
  {
   "cell_type": "code",
   "execution_count": 1,
   "metadata": {},
   "outputs": [
    {
     "name": "stdout",
     "output_type": "stream",
     "text": [
      "Vehicle(risk=5.78, in_platoon=False, compromises=frozenset(), known_compromises=frozenset(), defender_choices=frozenset({Vulnerability(id=5, attackerCost=1, defenderCost=1, attackerProb=0.9, defenderProb=0.85, severity=3), Vulnerability(id=4, attackerCost=2, defenderCost=5, attackerProb=0.69, defenderProb=0.85, severity=3), Vulnerability(id=2, attackerCost=4, defenderCost=4, attackerProb=0.2, defenderProb=0.97, severity=5)}), attacker_choices=frozenset({Vulnerability(id=3, attackerCost=5, defenderCost=1, attackerProb=0.15, defenderProb=0.85, severity=4), Vulnerability(id=5, attackerCost=1, defenderCost=1, attackerProb=0.9, defenderProb=0.85, severity=3), Vulnerability(id=0, attackerCost=4, defenderCost=3, attackerProb=0.54, defenderProb=0.85, severity=2)}))\n",
      "Vehicle(risk=5.78, in_platoon=False, compromises=frozenset(), known_compromises=frozenset(), defender_choices=frozenset({Vulnerability(id=5, attackerCost=1, defenderCost=1, attackerProb=0.9, defenderProb=0.85, severity=3), Vulnerability(id=4, attackerCost=2, defenderCost=5, attackerProb=0.69, defenderProb=0.85, severity=3), Vulnerability(id=2, attackerCost=4, defenderCost=4, attackerProb=0.2, defenderProb=0.97, severity=5)}), attacker_choices=frozenset({Vulnerability(id=3, attackerCost=5, defenderCost=1, attackerProb=0.15, defenderProb=0.85, severity=4), Vulnerability(id=5, attackerCost=1, defenderCost=1, attackerProb=0.9, defenderProb=0.85, severity=3), Vulnerability(id=0, attackerCost=4, defenderCost=3, attackerProb=0.54, defenderProb=0.85, severity=2)}))\n"
     ]
    }
   ],
   "source": [
    "import vehicles\n",
    "x = vehicles.JsonVehicleProvider(\"../subgame/python/solutions.json\")\n",
    "print(x.next())"
   ]
  },
  {
   "cell_type": "code",
   "execution_count": 6,
   "metadata": {},
   "outputs": [
    {
     "name": "stdout",
     "output_type": "stream",
     "text": [
      "15\n",
      "zee15\n"
     ]
    },
    {
     "data": {
      "text/plain": [
       "4"
      ]
     },
     "execution_count": 6,
     "metadata": {},
     "output_type": "execute_result"
    }
   ],
   "source": [
    "class Animal:\n",
    "    def __init__(self, wag) -> None:\n",
    "        self.wag = wag\n",
    "        print(wag)\n",
    "\n",
    "    def bark(self):\n",
    "        print(\"hi\")\n",
    "        return 3\n",
    "\n",
    "class Bean:\n",
    "    def __init__(self, wag) -> None:\n",
    "        self.wag = wag + 10\n",
    "        print(wag + 10)\n",
    "\n",
    "    def bark(self): \n",
    "        print(\"zee\" + str(self.wag))\n",
    "        return 4\n",
    "\n",
    "class zed(Bean, Animal):\n",
    "    pass\n",
    "\n",
    "zed(5).bark()"
   ]
  },
  {
   "cell_type": "code",
   "execution_count": 4,
   "metadata": {},
   "outputs": [
    {
     "name": "stdout",
     "output_type": "stream",
     "text": [
      "5\n",
      "[1, 2, 3, 4, 99]\n"
     ]
    }
   ],
   "source": [
    "a = [1,2,3,4,5]\n",
    "i = 4\n",
    "print(a[i])\n",
    "print(a[:i] + [99] + a[i+1:])"
   ]
  },
  {
   "cell_type": "code",
   "execution_count": 2,
   "metadata": {},
   "outputs": [
    {
     "data": {
      "text/plain": [
       "{3}"
      ]
     },
     "execution_count": 2,
     "metadata": {},
     "output_type": "execute_result"
    }
   ],
   "source": [
    "set([1,2,3]).intersection(set([3,4,5]))"
   ]
  },
  {
   "cell_type": "code",
   "execution_count": 1,
   "metadata": {},
   "outputs": [
    {
     "name": "stdout",
     "output_type": "stream",
     "text": [
      "356 ms ± 22.2 ms per loop (mean ± std. dev. of 7 runs, 1 loop each)\n"
     ]
    }
   ],
   "source": [
    "%timeit len([1 for x in range(10000000)])"
   ]
  },
  {
   "cell_type": "code",
   "execution_count": 2,
   "metadata": {},
   "outputs": [
    {
     "name": "stdout",
     "output_type": "stream",
     "text": [
      "464 ms ± 2.25 ms per loop (mean ± std. dev. of 7 runs, 1 loop each)\n"
     ]
    }
   ],
   "source": [
    "%timeit sum(1 for x in range(10000000))"
   ]
  },
  {
   "cell_type": "code",
   "execution_count": 1,
   "metadata": {},
   "outputs": [
    {
     "data": {
      "text/plain": [
       "array([1, 1, 1, 1, 1, 1, 1, 1, 1, 1, 1, 1, 1, 1, 1, 1, 1, 1, 1, 1, 1, 1,\n",
       "       1, 1, 1, 1, 1, 1, 1, 1, 1, 1, 1, 1, 1, 1, 1, 1, 1, 1, 1, 1, 1, 1,\n",
       "       1, 1, 1, 1, 1, 1, 1, 1, 1, 1, 1, 1, 1, 1, 1, 1, 1, 1, 1, 1, 1, 1,\n",
       "       1, 1, 1, 1, 1, 1, 1, 1, 1, 1, 1, 1, 1, 1, 1, 1, 1, 1, 1, 1, 1, 1,\n",
       "       1, 1, 1, 1, 1, 1, 1, 1, 1, 1, 1])"
      ]
     },
     "execution_count": 1,
     "metadata": {},
     "output_type": "execute_result"
    }
   ],
   "source": [
    "import numpy as np\n",
    "np.diff(list(range(100)))"
   ]
  },
  {
   "cell_type": "code",
   "execution_count": 2,
   "metadata": {},
   "outputs": [
    {
     "data": {
      "text/plain": [
       "[]"
      ]
     },
     "execution_count": 2,
     "metadata": {},
     "output_type": "execute_result"
    }
   ],
   "source": [
    "import random\n",
    "random.sample([1,2,3,4,5], 0)"
   ]
  }
 ],
 "metadata": {
  "kernelspec": {
   "display_name": "Python 3.9.12 ('subgame')",
   "language": "python",
   "name": "python3"
  },
  "language_info": {
   "codemirror_mode": {
    "name": "ipython",
    "version": 3
   },
   "file_extension": ".py",
   "mimetype": "text/x-python",
   "name": "python",
   "nbconvert_exporter": "python",
   "pygments_lexer": "ipython3",
   "version": "3.9.12"
  },
  "orig_nbformat": 4,
  "vscode": {
   "interpreter": {
    "hash": "09b31e4957d63d79e1e76c5537c345194b9f565583fac53cbbb105281d72baf4"
   }
  }
 },
 "nbformat": 4,
 "nbformat_minor": 2
}
