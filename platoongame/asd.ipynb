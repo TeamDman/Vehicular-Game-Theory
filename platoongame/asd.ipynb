{
 "cells": [
  {
   "cell_type": "code",
   "execution_count": 18,
   "metadata": {},
   "outputs": [
    {
     "name": "stdout",
     "output_type": "stream",
     "text": [
      "The autoreload extension is already loaded. To reload it, use:\n",
      "  %reload_ext autoreload\n"
     ]
    }
   ],
   "source": [
    "%load_ext autoreload\n",
    "%autoreload 2"
   ]
  },
  {
   "cell_type": "code",
   "execution_count": 19,
   "metadata": {},
   "outputs": [
    {
     "name": "stdout",
     "output_type": "stream",
     "text": [
      "frozenset({1, 2, 3}) frozenset({1, 2, 3, 6})\n",
      "True\n"
     ]
    }
   ],
   "source": [
    "a = frozenset([1,2,3])\n",
    "b = frozenset(list(a) + [6])\n",
    "print(a,b)\n",
    "print(1 in a)"
   ]
  },
  {
   "cell_type": "code",
   "execution_count": 1,
   "metadata": {},
   "outputs": [
    {
     "name": "stdout",
     "output_type": "stream",
     "text": [
      "Vehicle(risk=5.78, in_platoon=False, compromises=frozenset(), known_compromises=frozenset(), defender_choices=frozenset({Vulnerability(id=5, attackerCost=1, defenderCost=1, attackerProb=0.9, defenderProb=0.85, severity=3), Vulnerability(id=4, attackerCost=2, defenderCost=5, attackerProb=0.69, defenderProb=0.85, severity=3), Vulnerability(id=2, attackerCost=4, defenderCost=4, attackerProb=0.2, defenderProb=0.97, severity=5)}), attacker_choices=frozenset({Vulnerability(id=3, attackerCost=5, defenderCost=1, attackerProb=0.15, defenderProb=0.85, severity=4), Vulnerability(id=5, attackerCost=1, defenderCost=1, attackerProb=0.9, defenderProb=0.85, severity=3), Vulnerability(id=0, attackerCost=4, defenderCost=3, attackerProb=0.54, defenderProb=0.85, severity=2)}))\n",
      "Vehicle(risk=5.78, in_platoon=False, compromises=frozenset(), known_compromises=frozenset(), defender_choices=frozenset({Vulnerability(id=5, attackerCost=1, defenderCost=1, attackerProb=0.9, defenderProb=0.85, severity=3), Vulnerability(id=4, attackerCost=2, defenderCost=5, attackerProb=0.69, defenderProb=0.85, severity=3), Vulnerability(id=2, attackerCost=4, defenderCost=4, attackerProb=0.2, defenderProb=0.97, severity=5)}), attacker_choices=frozenset({Vulnerability(id=3, attackerCost=5, defenderCost=1, attackerProb=0.15, defenderProb=0.85, severity=4), Vulnerability(id=5, attackerCost=1, defenderCost=1, attackerProb=0.9, defenderProb=0.85, severity=3), Vulnerability(id=0, attackerCost=4, defenderCost=3, attackerProb=0.54, defenderProb=0.85, severity=2)}))\n"
     ]
    }
   ],
   "source": [
    "import vehicles\n",
    "x = vehicles.JsonVehicleProvider(\"../subgame/python/solutions.json\")\n",
    "print(x.next())"
   ]
  },
  {
   "cell_type": "code",
   "execution_count": 6,
   "metadata": {},
   "outputs": [
    {
     "name": "stdout",
     "output_type": "stream",
     "text": [
      "15\n",
      "zee15\n"
     ]
    },
    {
     "data": {
      "text/plain": [
       "4"
      ]
     },
     "execution_count": 6,
     "metadata": {},
     "output_type": "execute_result"
    }
   ],
   "source": [
    "class Animal:\n",
    "    def __init__(self, wag) -> None:\n",
    "        self.wag = wag\n",
    "        print(wag)\n",
    "\n",
    "    def bark(self):\n",
    "        print(\"hi\")\n",
    "        return 3\n",
    "\n",
    "class Bean:\n",
    "    def __init__(self, wag) -> None:\n",
    "        self.wag = wag + 10\n",
    "        print(wag + 10)\n",
    "\n",
    "    def bark(self): \n",
    "        print(\"zee\" + str(self.wag))\n",
    "        return 4\n",
    "\n",
    "class zed(Bean, Animal):\n",
    "    pass\n",
    "\n",
    "zed(5).bark()"
   ]
  },
  {
   "cell_type": "code",
   "execution_count": 4,
   "metadata": {},
   "outputs": [
    {
     "name": "stdout",
     "output_type": "stream",
     "text": [
      "5\n",
      "[1, 2, 3, 4, 99]\n"
     ]
    }
   ],
   "source": [
    "a = [1,2,3,4,5]\n",
    "i = 4\n",
    "print(a[i])\n",
    "print(a[:i] + [99] + a[i+1:])"
   ]
  },
  {
   "cell_type": "code",
   "execution_count": 2,
   "metadata": {},
   "outputs": [
    {
     "data": {
      "text/plain": [
       "{3}"
      ]
     },
     "execution_count": 2,
     "metadata": {},
     "output_type": "execute_result"
    }
   ],
   "source": [
    "set([1,2,3]).intersection(set([3,4,5]))"
   ]
  },
  {
   "cell_type": "code",
   "execution_count": 1,
   "metadata": {},
   "outputs": [
    {
     "name": "stdout",
     "output_type": "stream",
     "text": [
      "356 ms ± 22.2 ms per loop (mean ± std. dev. of 7 runs, 1 loop each)\n"
     ]
    }
   ],
   "source": [
    "%timeit len([1 for x in range(10000000)])"
   ]
  },
  {
   "cell_type": "code",
   "execution_count": 2,
   "metadata": {},
   "outputs": [
    {
     "name": "stdout",
     "output_type": "stream",
     "text": [
      "464 ms ± 2.25 ms per loop (mean ± std. dev. of 7 runs, 1 loop each)\n"
     ]
    }
   ],
   "source": [
    "%timeit sum(1 for x in range(10000000))"
   ]
  },
  {
   "cell_type": "code",
   "execution_count": 1,
   "metadata": {},
   "outputs": [
    {
     "data": {
      "text/plain": [
       "array([1, 1, 1, 1, 1, 1, 1, 1, 1, 1, 1, 1, 1, 1, 1, 1, 1, 1, 1, 1, 1, 1,\n",
       "       1, 1, 1, 1, 1, 1, 1, 1, 1, 1, 1, 1, 1, 1, 1, 1, 1, 1, 1, 1, 1, 1,\n",
       "       1, 1, 1, 1, 1, 1, 1, 1, 1, 1, 1, 1, 1, 1, 1, 1, 1, 1, 1, 1, 1, 1,\n",
       "       1, 1, 1, 1, 1, 1, 1, 1, 1, 1, 1, 1, 1, 1, 1, 1, 1, 1, 1, 1, 1, 1,\n",
       "       1, 1, 1, 1, 1, 1, 1, 1, 1, 1, 1])"
      ]
     },
     "execution_count": 1,
     "metadata": {},
     "output_type": "execute_result"
    }
   ],
   "source": [
    "import numpy as np\n",
    "np.diff(list(range(100)))"
   ]
  },
  {
   "cell_type": "code",
   "execution_count": 2,
   "metadata": {},
   "outputs": [
    {
     "data": {
      "text/plain": [
       "[]"
      ]
     },
     "execution_count": 2,
     "metadata": {},
     "output_type": "execute_result"
    }
   ],
   "source": [
    "import random\n",
    "random.sample([1,2,3,4,5], 0)"
   ]
  },
  {
   "cell_type": "code",
   "execution_count": 16,
   "metadata": {},
   "outputs": [
    {
     "name": "stdout",
     "output_type": "stream",
     "text": [
      "tensor([[1., 1., 1., 1., 1., 1., 1., 1., 1.],\n",
      "        [1., 1., 1., 1., 1., 1., 1., 1., 1.],\n",
      "        [1., 1., 1., 1., 1., 1., 1., 1., 1.]])\n",
      "tensor([[2., 2., 2., 2., 2., 2., 2., 2., 2., 2., 2., 2., 2., 2., 2., 2.],\n",
      "        [2., 2., 2., 2., 2., 2., 2., 2., 2., 2., 2., 2., 2., 2., 2., 2.],\n",
      "        [2., 2., 2., 2., 2., 2., 2., 2., 2., 2., 2., 2., 2., 2., 2., 2.]])\n",
      "tensor([[1., 1., 1., 1., 1., 1., 1., 1., 1., 2., 2., 2., 2., 2., 2., 2., 2., 2.,\n",
      "         2., 2., 2., 2., 2., 2., 2.],\n",
      "        [1., 1., 1., 1., 1., 1., 1., 1., 1., 2., 2., 2., 2., 2., 2., 2., 2., 2.,\n",
      "         2., 2., 2., 2., 2., 2., 2.],\n",
      "        [1., 1., 1., 1., 1., 1., 1., 1., 1., 2., 2., 2., 2., 2., 2., 2., 2., 2.,\n",
      "         2., 2., 2., 2., 2., 2., 2.]])\n"
     ]
    }
   ],
   "source": [
    "import torch\n",
    "a = torch.ones((3,3,3)).flatten(start_dim=1)\n",
    "b = (torch.ones((3,4,4)) * 2).flatten(start_dim=1)\n",
    "print(a)\n",
    "print(b)\n",
    "c = torch.cat((a,b), dim=1)\n",
    "print(c)"
   ]
  },
  {
   "cell_type": "code",
   "execution_count": 27,
   "metadata": {},
   "outputs": [
    {
     "name": "stdout",
     "output_type": "stream",
     "text": [
      "[('a', 'b')]\n",
      "(('a',), ('b',))\n",
      "\n",
      "[('a', 'b')]\n",
      "[('a',), ('b',)]\n",
      "\n",
      "[('a', 'b')]\n",
      "(['a'], ['b'])\n"
     ]
    }
   ],
   "source": [
    "a = [(\"a\",\"b\"),(\"a\",\"b\"),(\"a\",\"b\")]\n",
    "a = [(\"a\",\"b\")]\n",
    "\n",
    "print(a)\n",
    "a = tuple(zip(*a))\n",
    "print(a)\n",
    "print()\n",
    "\n",
    "a = [(\"a\",\"b\")]\n",
    "\n",
    "print(a)\n",
    "a = list(zip(*a))\n",
    "print(a)\n",
    "print()\n",
    "\n",
    "a = [(\"a\",\"b\")]\n",
    "print(a)\n",
    "a = tuple(map(list, zip(*a)))\n",
    "print(a)\n"
   ]
  },
  {
   "cell_type": "code",
   "execution_count": 1,
   "metadata": {},
   "outputs": [
    {
     "name": "stdout",
     "output_type": "stream",
     "text": [
      "got 23 and 545\n"
     ]
    }
   ],
   "source": [
    "def asd(a, b):\n",
    "    print(\"got\",a,\"and\",b)\n",
    "asd(*(23,545))"
   ]
  },
  {
   "cell_type": "code",
   "execution_count": 3,
   "metadata": {},
   "outputs": [
    {
     "name": "stdout",
     "output_type": "stream",
     "text": [
      "a=321 b=55 c=87 d=99\n"
     ]
    }
   ],
   "source": [
    "def dsa(a,b,c,d):\n",
    "    print(f\"a={a} b={b} c={c} d={d}\")\n",
    "dsa(*(321,55),*(87,99))"
   ]
  },
  {
   "cell_type": "code",
   "execution_count": 5,
   "metadata": {},
   "outputs": [],
   "source": [
    "from typing import List\n",
    "\n",
    "\n",
    "a: List[int] = []\n",
    "a=False"
   ]
  },
  {
   "cell_type": "code",
   "execution_count": 7,
   "metadata": {},
   "outputs": [
    {
     "name": "stdout",
     "output_type": "stream",
     "text": [
      "torch.Size([5, 3])\n",
      "torch.Size([3, 5, 3])\n"
     ]
    }
   ],
   "source": [
    "import torch\n",
    "\n",
    "a = torch.zeros((5,3))\n",
    "b = torch.stack([a,a,a])\n",
    "print(a.shape)\n",
    "print(b.shape)"
   ]
  },
  {
   "cell_type": "code",
   "execution_count": 9,
   "metadata": {},
   "outputs": [
    {
     "data": {
      "text/plain": [
       "[(1, 1, 1, 1, 1), (2, 2, 2, 2, 2)]"
      ]
     },
     "execution_count": 9,
     "metadata": {},
     "output_type": "execute_result"
    }
   ],
   "source": [
    "list(zip(*[(1,2) for _ in range(5)]))"
   ]
  },
  {
   "cell_type": "code",
   "execution_count": 16,
   "metadata": {},
   "outputs": [
    {
     "data": {
      "text/plain": [
       "(0, 1, 2, 3, 4)"
      ]
     },
     "execution_count": 16,
     "metadata": {},
     "output_type": "execute_result"
    }
   ],
   "source": [
    "tuple(v for v in range(5))"
   ]
  },
  {
   "cell_type": "code",
   "execution_count": 19,
   "metadata": {},
   "outputs": [
    {
     "ename": "TypeError",
     "evalue": "__init__() missing 1 required positional argument: 'vehicles'",
     "output_type": "error",
     "traceback": [
      "\u001b[1;31m---------------------------------------------------------------------------\u001b[0m",
      "\u001b[1;31mTypeError\u001b[0m                                 Traceback (most recent call last)",
      "\u001b[1;32m~\\AppData\\Local\\Temp/ipykernel_21080/2860354565.py\u001b[0m in \u001b[0;36m<module>\u001b[1;34m\u001b[0m\n\u001b[0;32m      1\u001b[0m \u001b[1;32mfrom\u001b[0m \u001b[0mgame\u001b[0m \u001b[1;32mimport\u001b[0m \u001b[0mStateTensors\u001b[0m\u001b[1;33m\u001b[0m\u001b[1;33m\u001b[0m\u001b[0m\n\u001b[1;32m----> 2\u001b[1;33m \u001b[0mStateTensors\u001b[0m\u001b[1;33m(\u001b[0m\u001b[0mtorch\u001b[0m\u001b[1;33m.\u001b[0m\u001b[0mzeros\u001b[0m\u001b[1;33m(\u001b[0m\u001b[1;33m(\u001b[0m\u001b[1;36m3\u001b[0m\u001b[1;33m,\u001b[0m\u001b[1;33m)\u001b[0m\u001b[1;33m)\u001b[0m \u001b[1;32mfor\u001b[0m \u001b[0m_\u001b[0m \u001b[1;32min\u001b[0m \u001b[0mrange\u001b[0m\u001b[1;33m(\u001b[0m\u001b[1;36m2\u001b[0m\u001b[1;33m)\u001b[0m\u001b[1;33m)\u001b[0m\u001b[1;33m\u001b[0m\u001b[1;33m\u001b[0m\u001b[0m\n\u001b[0m",
      "\u001b[1;31mTypeError\u001b[0m: __init__() missing 1 required positional argument: 'vehicles'"
     ]
    }
   ],
   "source": [
    "from game import StateTensors\n",
    "StateTensors(torch.zeros((3,)) for _ in range(2))"
   ]
  },
  {
   "cell_type": "code",
   "execution_count": 24,
   "metadata": {},
   "outputs": [
    {
     "data": {
      "text/plain": [
       "[(tensor([0., 0., 0., 0., 0.]),\n",
       "  tensor([0., 0., 0., 0., 0.]),\n",
       "  tensor([0., 0., 0., 0., 0.]),\n",
       "  tensor([0., 0., 0., 0., 0.]),\n",
       "  tensor([0., 0., 0., 0., 0.]),\n",
       "  tensor([0., 0., 0., 0., 0.]),\n",
       "  tensor([0., 0., 0., 0., 0.]),\n",
       "  tensor([0., 0., 0., 0., 0.])),\n",
       " (tensor([0., 0., 0., 0.]),\n",
       "  tensor([0., 0., 0., 0.]),\n",
       "  tensor([0., 0., 0., 0.]),\n",
       "  tensor([0., 0., 0., 0.]),\n",
       "  tensor([0., 0., 0., 0.]),\n",
       "  tensor([0., 0., 0., 0.]),\n",
       "  tensor([0., 0., 0., 0.]),\n",
       "  tensor([0., 0., 0., 0.]))]"
      ]
     },
     "execution_count": 24,
     "metadata": {},
     "output_type": "execute_result"
    }
   ],
   "source": [
    "a=StateTensors(torch.zeros(4), torch.zeros(5))\n",
    "b=[a,a,a,a,a,a,a,a]\n",
    "list(zip(*[(v.vehicles, v.vulnerabilities) for v in b]))"
   ]
  },
  {
   "cell_type": "code",
   "execution_count": 31,
   "metadata": {},
   "outputs": [
    {
     "data": {
      "text/plain": [
       "tensor([0, 1, 2, 3, 4])"
      ]
     },
     "execution_count": 31,
     "metadata": {},
     "output_type": "execute_result"
    }
   ],
   "source": [
    "import torch\n",
    "torch.as_tensor(list(x for x in range(5)))"
   ]
  },
  {
   "cell_type": "code",
   "execution_count": 35,
   "metadata": {},
   "outputs": [
    {
     "name": "stdout",
     "output_type": "stream",
     "text": [
      "tensor([ 1, -2, -2,  4])\n"
     ]
    }
   ],
   "source": [
    "a = torch.as_tensor([1,2,3,4])\n",
    "r = torch.as_tensor([3,4,5,6])\n",
    "b = [False,True,True,False]\n",
    "a[b] += -1 * r[b]\n",
    "print(a)"
   ]
  },
  {
   "cell_type": "code",
   "execution_count": 41,
   "metadata": {},
   "outputs": [
    {
     "name": "stdout",
     "output_type": "stream",
     "text": [
      "tensor([ 0,  1,  2, -1,  4, -1,  6, -1,  8,  9])\n"
     ]
    }
   ],
   "source": [
    "a = torch.as_tensor(list([i for i in range(10)]))\n",
    "b = frozenset([3,5,7])\n",
    "a[list(b)] = -1\n",
    "print(a)\n"
   ]
  },
  {
   "cell_type": "code",
   "execution_count": 42,
   "metadata": {},
   "outputs": [
    {
     "data": {
      "text/plain": [
       "True"
      ]
     },
     "execution_count": 42,
     "metadata": {},
     "output_type": "execute_result"
    }
   ],
   "source": [
    "a = [1,2,3,4,5]\n",
    "3 in a"
   ]
  },
  {
   "cell_type": "code",
   "execution_count": 43,
   "metadata": {},
   "outputs": [
    {
     "ename": "NameError",
     "evalue": "name 'replace' is not defined",
     "output_type": "error",
     "traceback": [
      "\u001b[1;31m---------------------------------------------------------------------------\u001b[0m",
      "\u001b[1;31mNameError\u001b[0m                                 Traceback (most recent call last)",
      "\u001b[1;32m~\\AppData\\Local\\Temp/ipykernel_21080/334272821.py\u001b[0m in \u001b[0;36m<module>\u001b[1;34m\u001b[0m\n\u001b[0;32m      1\u001b[0m \u001b[0ma\u001b[0m \u001b[1;33m=\u001b[0m \u001b[1;33m(\u001b[0m\u001b[1;36m4\u001b[0m\u001b[1;33m,\u001b[0m\u001b[1;36m5\u001b[0m\u001b[1;33m,\u001b[0m\u001b[1;36m6\u001b[0m\u001b[1;33m)\u001b[0m\u001b[1;33m\u001b[0m\u001b[1;33m\u001b[0m\u001b[0m\n\u001b[1;32m----> 2\u001b[1;33m \u001b[0mprint\u001b[0m\u001b[1;33m(\u001b[0m\u001b[0mreplace\u001b[0m\u001b[1;33m(\u001b[0m\u001b[0ma\u001b[0m\u001b[1;33m,\u001b[0m \u001b[1;36m2\u001b[0m\u001b[1;33m,\u001b[0m \u001b[1;36m5\u001b[0m\u001b[1;33m)\u001b[0m\u001b[1;33m)\u001b[0m\u001b[1;33m\u001b[0m\u001b[1;33m\u001b[0m\u001b[0m\n\u001b[0m",
      "\u001b[1;31mNameError\u001b[0m: name 'replace' is not defined"
     ]
    }
   ],
   "source": [
    "a = (4,5,6)\n",
    "print(replace(a, 2, 5))"
   ]
  },
  {
   "cell_type": "code",
   "execution_count": 47,
   "metadata": {},
   "outputs": [
    {
     "name": "stdout",
     "output_type": "stream",
     "text": [
      "tensor([[-2.0922,  0.1683,  0.5359,  0.2814, -0.2734, -1.2071, -0.1854, -2.1647,\n",
      "          0.5430, -0.0662, -0.2084, -1.1123,  1.0920,  0.8870,  1.2893,  0.0816,\n",
      "         -0.5979, -0.4983,  0.4677, -1.1966, -0.2003, -1.4302,  1.9543,  0.2031,\n",
      "          0.3300, -0.5353,  0.4217, -0.6558, -0.5075,  0.0821],\n",
      "        [ 2.3974, -0.3981,  1.1553,  0.2325, -0.6020,  1.2619, -0.3430,  1.5097,\n",
      "         -0.5900,  1.2804,  0.3886, -1.6676, -2.2727,  0.4238,  0.6324, -0.9350,\n",
      "          0.3174,  0.4497,  0.4562,  0.9700,  0.4833, -0.4236,  0.2571,  0.0699,\n",
      "         -0.4167,  0.1543, -1.1786,  1.8663, -0.8918, -1.2374]])\n",
      "tensor([[0., 1., 1., 1., 0., 0., 0., 0., 1., 0., 0., 0., 1., 1., 1., 1., 0., 0.,\n",
      "         1., 0., 0., 0., 1., 1., 1., 0., 1., 0., 0., 1.],\n",
      "        [1., 0., 1., 1., 0., 1., 0., 1., 0., 1., 1., 0., 0., 1., 1., 0., 1., 1.,\n",
      "         1., 1., 1., 0., 1., 1., 0., 1., 0., 1., 0., 0.]])\n"
     ]
    }
   ],
   "source": [
    "a = torch.randn((2,30))\n",
    "print(a)\n",
    "a = a.heaviside(torch.tensor(1.))\n",
    "print(a)\n"
   ]
  },
  {
   "cell_type": "code",
   "execution_count": 50,
   "metadata": {},
   "outputs": [
    {
     "data": {
      "text/plain": [
       "tensor([[0.2183, 0.8166, 0.4535, 0.7398]])"
      ]
     },
     "execution_count": 50,
     "metadata": {},
     "output_type": "execute_result"
    }
   ],
   "source": [
    "torch.rand(4).unsqueeze(dim=0)"
   ]
  },
  {
   "cell_type": "code",
   "execution_count": 51,
   "metadata": {},
   "outputs": [
    {
     "name": "stdout",
     "output_type": "stream",
     "text": [
      "tensor([0.8590, 0.9213, 0.7008, 0.5416])\n",
      "tensor(1)\n"
     ]
    }
   ],
   "source": [
    "a = torch.rand(4)\n",
    "print(a)\n",
    "print(a.argmax())\n"
   ]
  },
  {
   "cell_type": "code",
   "execution_count": 62,
   "metadata": {},
   "outputs": [
    {
     "name": "stdout",
     "output_type": "stream",
     "text": [
      "tensor([0, 0, 0, 1, 1, 0, 0, 0, 1])\n",
      "tensor([[3],\n",
      "        [4],\n",
      "        [8]])\n",
      "tensor([3, 4, 8])\n",
      "tensor([[3, 4, 8]])\n"
     ]
    }
   ],
   "source": [
    "a = torch.as_tensor([0,0,0,1,1,0,0,0,1])\n",
    "print(a)\n",
    "print(a.nonzero())\n",
    "print(a.nonzero().squeeze())\n",
    "print(a.nonzero().reshape((1,-1)))"
   ]
  },
  {
   "cell_type": "code",
   "execution_count": 63,
   "metadata": {},
   "outputs": [
    {
     "name": "stdout",
     "output_type": "stream",
     "text": [
      "tensor([[0, 0, 1, 1, 1, 0, 0],\n",
      "        [1, 1, 1, 0, 0, 0, 0]])\n",
      "tensor([2, 3, 4])\n",
      "tensor([[2, 3, 4]])\n"
     ]
    }
   ],
   "source": [
    "a = torch.as_tensor([\n",
    "    [0,0,1,1,1,0,0],\n",
    "    [1,1,1,0,0,0,0],\n",
    "])\n",
    "print(a)\n",
    "print(a[0].nonzero().squeeze())\n",
    "print(a[0].nonzero().reshape((1,-1)))"
   ]
  }
 ],
 "metadata": {
  "kernelspec": {
   "display_name": "Python 3.9.12 ('subgame')",
   "language": "python",
   "name": "python3"
  },
  "language_info": {
   "codemirror_mode": {
    "name": "ipython",
    "version": 3
   },
   "file_extension": ".py",
   "mimetype": "text/x-python",
   "name": "python",
   "nbconvert_exporter": "python",
   "pygments_lexer": "ipython3",
   "version": "3.9.12"
  },
  "orig_nbformat": 4,
  "vscode": {
   "interpreter": {
    "hash": "09b31e4957d63d79e1e76c5537c345194b9f565583fac53cbbb105281d72baf4"
   }
  }
 },
 "nbformat": 4,
 "nbformat_minor": 2
}
