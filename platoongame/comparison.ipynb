{
 "cells": [
  {
   "cell_type": "code",
   "execution_count": 1,
   "metadata": {},
   "outputs": [],
   "source": [
    "# https://github.com/ray-project/ray/blob/master/rllib/examples/sb2rllib_rllib_example.py\n",
    "import ray\n",
    "from ray import tune, air\n",
    "import ray.rllib.algorithms.ppo as ppo\n",
    "from IPython.display import display, clear_output\n",
    "from time import sleep\n",
    "from glob import glob\n",
    "from pathlib import Path\n",
    "from tqdm import tqdm\n",
    "from itertools import count\n",
    "import matplotlib.pyplot as plt"
   ]
  },
  {
   "cell_type": "code",
   "execution_count": 2,
   "metadata": {},
   "outputs": [
    {
     "name": "stdout",
     "output_type": "stream",
     "text": [
      "Usage stats collection is enabled by default for nightly wheels. To disable this, run the following command: `ray disable-usage-stats` before starting Ray. See https://docs.ray.io/en/master/cluster/usage-stats.html for more details.\n"
     ]
    },
    {
     "name": "stderr",
     "output_type": "stream",
     "text": [
      "2023-01-19 00:51:20,890\tINFO worker.py:1536 -- Started a local Ray instance. View the dashboard at \u001b[1m\u001b[32mhttp://127.0.0.1:8265 \u001b[39m\u001b[22m\n"
     ]
    },
    {
     "data": {
      "text/html": [
       "<div>\n",
       "    <div style=\"margin-left: 50px;display: flex;flex-direction: row;align-items: center\">\n",
       "        <h3 style=\"color: var(--jp-ui-font-color0)\">Ray</h3>\n",
       "        <svg version=\"1.1\" id=\"ray\" width=\"3em\" viewBox=\"0 0 144.5 144.6\" style=\"margin-left: 3em;margin-right: 3em\">\n",
       "            <g id=\"layer-1\">\n",
       "                <path fill=\"#00a2e9\" class=\"st0\" d=\"M97.3,77.2c-3.8-1.1-6.2,0.9-8.3,5.1c-3.5,6.8-9.9,9.9-17.4,9.6S58,88.1,54.8,81.2c-1.4-3-3-4-6.3-4.1\n",
       "                    c-5.6-0.1-9.9,0.1-13.1,6.4c-3.8,7.6-13.6,10.2-21.8,7.6C5.2,88.4-0.4,80.5,0,71.7c0.1-8.4,5.7-15.8,13.8-18.2\n",
       "                    c8.4-2.6,17.5,0.7,22.3,8c1.3,1.9,1.3,5.2,3.6,5.6c3.9,0.6,8,0.2,12,0.2c1.8,0,1.9-1.6,2.4-2.8c3.5-7.8,9.7-11.8,18-11.9\n",
       "                    c8.2-0.1,14.4,3.9,17.8,11.4c1.3,2.8,2.9,3.6,5.7,3.3c1-0.1,2,0.1,3,0c2.8-0.5,6.4,1.7,8.1-2.7s-2.3-5.5-4.1-7.5\n",
       "                    c-5.1-5.7-10.9-10.8-16.1-16.3C84,38,81.9,37.1,78,38.3C66.7,42,56.2,35.7,53,24.1C50.3,14,57.3,2.8,67.7,0.5\n",
       "                    C78.4-2,89,4.7,91.5,15.3c0.1,0.3,0.1,0.5,0.2,0.8c0.7,3.4,0.7,6.9-0.8,9.8c-1.7,3.2-0.8,5,1.5,7.2c6.7,6.5,13.3,13,19.8,19.7\n",
       "                    c1.8,1.8,3,2.1,5.5,1.2c9.1-3.4,17.9-0.6,23.4,7c4.8,6.9,4.6,16.1-0.4,22.9c-5.4,7.2-14.2,9.9-23.1,6.5c-2.3-0.9-3.5-0.6-5.1,1.1\n",
       "                    c-6.7,6.9-13.6,13.7-20.5,20.4c-1.8,1.8-2.5,3.2-1.4,5.9c3.5,8.7,0.3,18.6-7.7,23.6c-7.9,5-18.2,3.8-24.8-2.9\n",
       "                    c-6.4-6.4-7.4-16.2-2.5-24.3c4.9-7.8,14.5-11,23.1-7.8c3,1.1,4.7,0.5,6.9-1.7C91.7,98.4,98,92.3,104.2,86c1.6-1.6,4.1-2.7,2.6-6.2\n",
       "                    c-1.4-3.3-3.8-2.5-6.2-2.6C99.8,77.2,98.9,77.2,97.3,77.2z M72.1,29.7c5.5,0.1,9.9-4.3,10-9.8c0-0.1,0-0.2,0-0.3\n",
       "                    C81.8,14,77,9.8,71.5,10.2c-5,0.3-9,4.2-9.3,9.2c-0.2,5.5,4,10.1,9.5,10.3C71.8,29.7,72,29.7,72.1,29.7z M72.3,62.3\n",
       "                    c-5.4-0.1-9.9,4.2-10.1,9.7c0,0.2,0,0.3,0,0.5c0.2,5.4,4.5,9.7,9.9,10c5.1,0.1,9.9-4.7,10.1-9.8c0.2-5.5-4-10-9.5-10.3\n",
       "                    C72.6,62.3,72.4,62.3,72.3,62.3z M115,72.5c0.1,5.4,4.5,9.7,9.8,9.9c5.6-0.2,10-4.8,10-10.4c-0.2-5.4-4.6-9.7-10-9.7\n",
       "                    c-5.3-0.1-9.8,4.2-9.9,9.5C115,72.1,115,72.3,115,72.5z M19.5,62.3c-5.4,0.1-9.8,4.4-10,9.8c-0.1,5.1,5.2,10.4,10.2,10.3\n",
       "                    c5.6-0.2,10-4.9,9.8-10.5c-0.1-5.4-4.5-9.7-9.9-9.6C19.6,62.3,19.5,62.3,19.5,62.3z M71.8,134.6c5.9,0.2,10.3-3.9,10.4-9.6\n",
       "                    c0.5-5.5-3.6-10.4-9.1-10.8c-5.5-0.5-10.4,3.6-10.8,9.1c0,0.5,0,0.9,0,1.4c-0.2,5.3,4,9.8,9.3,10\n",
       "                    C71.6,134.6,71.7,134.6,71.8,134.6z\"/>\n",
       "            </g>\n",
       "        </svg>\n",
       "        <table>\n",
       "            <tr>\n",
       "                <td style=\"text-align: left\"><b>Python version:</b></td>\n",
       "                <td style=\"text-align: left\"><b>3.8.15</b></td>\n",
       "            </tr>\n",
       "            <tr>\n",
       "                <td style=\"text-align: left\"><b>Ray version:</b></td>\n",
       "                <td style=\"text-align: left\"><b> 3.0.0.dev0</b></td>\n",
       "            </tr>\n",
       "            <tr>\n",
       "    <td style=\"text-align: left\"><b>Dashboard:</b></td>\n",
       "    <td style=\"text-align: left\"><b><a href=\"http://127.0.0.1:8265\" target=\"_blank\">http://127.0.0.1:8265</a></b></td>\n",
       "</tr>\n",
       "\n",
       "        </table>\n",
       "    </div>\n",
       "</div>\n"
      ],
      "text/plain": [
       "RayContext(dashboard_url='127.0.0.1:8265', python_version='3.8.15', ray_version='3.0.0.dev0', ray_commit='3e18487d7427a3ffcea9fecd5c79ca3e81fb92d0', address_info={'node_ip_address': '127.0.0.1', 'raylet_ip_address': '127.0.0.1', 'redis_address': None, 'object_store_address': 'tcp://127.0.0.1:64206', 'raylet_socket_name': 'tcp://127.0.0.1:19198', 'webui_url': '127.0.0.1:8265', 'session_dir': 'C:\\\\Users\\\\TeamD\\\\AppData\\\\Local\\\\Temp\\\\ray\\\\session_2023-01-19_00-51-18_225803_5972', 'metrics_export_port': 52898, 'gcs_address': '127.0.0.1:51839', 'address': '127.0.0.1:51839', 'dashboard_agent_listen_port': 52365, 'node_id': '99c0d7abbe3dee5e57f40a8c71fce72ae42577c0a9d511d4c477f772'})"
      ]
     },
     "execution_count": 2,
     "metadata": {},
     "output_type": "execute_result"
    }
   ],
   "source": [
    "if ray.is_initialized():\n",
    "    ray.shutdown()\n",
    "ray.init(num_gpus=1, local_mode=False)"
   ]
  },
  {
   "cell_type": "code",
   "execution_count": 3,
   "metadata": {},
   "outputs": [
    {
     "name": "stdout",
     "output_type": "stream",
     "text": [
      "Platoon-v5 \n",
      "------------------\n",
      "reward_threshold None\n",
      "max_episode_steps None\n"
     ]
    }
   ],
   "source": [
    "# env config\n",
    "import gymnasium as gym\n",
    "import platoonenv\n",
    "\n",
    "env_name = \"Platoon-v5\"\n",
    "env_config=dict(\n",
    "    num_vehicles=10,\n",
    "    steps_before_truncation=200,\n",
    "    cycle_interval=1,\n",
    "    cycle_num=1,\n",
    "    attack_interval=1,\n",
    ")\n",
    "env = gym.make(\n",
    "    id=env_name,\n",
    "    render_mode=\"canvas\",\n",
    "    env_config=env_config,\n",
    ")\n",
    "\n",
    "print(env_name,\"\\n------------------\")\n",
    "print(\"reward_threshold\", env.spec.reward_threshold)\n",
    "print(\"max_episode_steps\", env.spec.max_episode_steps)"
   ]
  },
  {
   "cell_type": "code",
   "execution_count": 4,
   "metadata": {},
   "outputs": [
    {
     "name": "stderr",
     "output_type": "stream",
     "text": [
      "2023-01-19 00:51:24,438\tWARNING env.py:166 -- Your env reset() method appears to take 'seed' or 'return_info' arguments. Note that these are not yet supported in RLlib. Seeding will take place using 'env.seed()' and the info dict will not be returned from reset.\n"
     ]
    }
   ],
   "source": [
    "from ray.rllib.utils import check_env\n",
    "\n",
    "check_env(env)"
   ]
  },
  {
   "cell_type": "code",
   "execution_count": 5,
   "metadata": {},
   "outputs": [],
   "source": [
    "from ray.rllib.algorithms.ppo import PPOConfig\n",
    "from ray.rllib.algorithms.dqn import DQNConfig\n",
    "from ray.rllib.algorithms.random_agent import RandomAgentConfig\n",
    "\n",
    "ppo_config = (\n",
    "    PPOConfig()\n",
    "    .environment(env=env_name, env_config=env_config)\n",
    "    .framework(\"torch\")\n",
    "    .rollouts(num_rollout_workers=3)\n",
    "    .resources(num_gpus=1, num_cpus_for_local_worker=0.5)\n",
    ")\n",
    "\n",
    "ppo_config.horizon = env.spec.max_episode_steps\n",
    "ppo_config.create_env_on_local_worker=True\n",
    "\n",
    "dqn_config = (\n",
    "    DQNConfig()\n",
    "    .environment(env=env_name, env_config=env_config)\n",
    "    .framework(\"torch\")\n",
    "    .rollouts(num_rollout_workers=3)\n",
    "    .resources(num_gpus=0.5, num_cpus_for_local_worker=0.5)\n",
    ")\n",
    "dqn_config.horizon = env.spec.max_episode_steps\n",
    "dqn_config.create_env_on_local_worker=True\n",
    "\n",
    "random_config = (\n",
    "    RandomAgentConfig()\n",
    "    .environment(env=env_name, env_config=env_config)\n",
    "    .framework(\"torch\")\n",
    "    .rollouts(num_rollout_workers=3)\n",
    "    .resources(num_gpus=0.5, num_cpus_for_local_worker=0.5)\n",
    ")\n",
    "random_config.horizon = env.spec.max_episode_steps\n",
    "random_config.create_env_on_local_worker=True"
   ]
  },
  {
   "cell_type": "code",
   "execution_count": 6,
   "metadata": {},
   "outputs": [
    {
     "name": "stderr",
     "output_type": "stream",
     "text": [
      "\u001b[2m\u001b[36m(RolloutWorker pid=6632)\u001b[0m 2023-01-19 00:51:34,355\tINFO policy.py:1196 -- Policy (worker=2) running on CPU.\n",
      "\u001b[2m\u001b[36m(RolloutWorker pid=6632)\u001b[0m 2023-01-19 00:51:34,355\tINFO torch_policy_v2.py:110 -- Found 1 visible cuda devices.\n",
      "\u001b[2m\u001b[36m(RolloutWorker pid=12636)\u001b[0m 2023-01-19 00:51:34,401\tWARNING env.py:166 -- Your env reset() method appears to take 'seed' or 'return_info' arguments. Note that these are not yet supported in RLlib. Seeding will take place using 'env.seed()' and the info dict will not be returned from reset.\n",
      "\u001b[2m\u001b[36m(RolloutWorker pid=2604)\u001b[0m 2023-01-19 00:51:34,492\tINFO policy.py:1196 -- Policy (worker=3) running on CPU.\n",
      "\u001b[2m\u001b[36m(RolloutWorker pid=2604)\u001b[0m 2023-01-19 00:51:34,493\tINFO torch_policy_v2.py:110 -- Found 1 visible cuda devices.\n",
      "\u001b[2m\u001b[36m(RolloutWorker pid=12636)\u001b[0m 2023-01-19 00:51:34,443\tINFO policy.py:1196 -- Policy (worker=1) running on CPU.\n",
      "\u001b[2m\u001b[36m(RolloutWorker pid=12636)\u001b[0m 2023-01-19 00:51:34,443\tINFO torch_policy_v2.py:110 -- Found 1 visible cuda devices.\n",
      "2023-01-19 00:51:34,549\tINFO policy.py:1196 -- Policy (worker=local) running on 1 GPUs.\n",
      "2023-01-19 00:51:34,550\tINFO torch_policy_v2.py:110 -- Found 1 visible cuda devices.\n",
      "2023-01-19 00:51:36,498\tINFO rollout_worker.py:2037 -- Built policy map: <PolicyMap lru-caching-capacity=100 policy-IDs=['default_policy']>\n",
      "2023-01-19 00:51:36,498\tINFO rollout_worker.py:2038 -- Built preprocessor map: {'default_policy': <ray.rllib.models.preprocessors.NoPreprocessor object at 0x00000149FCD8CF70>}\n",
      "2023-01-19 00:51:36,499\tINFO rollout_worker.py:757 -- Built filter map: defaultdict(<class 'ray.rllib.utils.filter.NoFilter'>, {'default_policy': <ray.rllib.utils.filter.NoFilter object at 0x00000149FCD8CE80>})\n",
      "2023-01-19 00:51:36,506\tINFO trainable.py:172 -- Trainable.setup took 11.862 seconds. If your trainable is slow to initialize, consider setting reuse_actors=True to reduce actor creation overheads.\n"
     ]
    }
   ],
   "source": [
    "ppo_algo = ppo_config.build()"
   ]
  },
  {
   "cell_type": "code",
   "execution_count": 7,
   "metadata": {},
   "outputs": [
    {
     "name": "stdout",
     "output_type": "stream",
     "text": [
      "======== Autoscaler status: 2023-01-19 00:51:35.106117 ========\n",
      "Node status\n",
      "---------------------------------------------------------------\n",
      "Healthy:\n",
      " 1 node_99c0d7abbe3dee5e57f40a8c71fce72ae42577c0a9d511d4c477f772\n",
      "Pending:\n",
      " (no pending nodes)\n",
      "Recent failures:\n",
      " (no failures)\n",
      "\n",
      "Resources\n",
      "---------------------------------------------------------------\n",
      "Usage:\n",
      " 3.0/12.0 CPU\n",
      " 0.0/1.0 GPU\n",
      " 0.0/1.0 accelerator_type:G\n",
      " 0.00/10.949 GiB memory\n",
      " 0.00/5.475 GiB object_store_memory\n",
      "\n",
      "Demands:\n",
      " (no resource demands)\n"
     ]
    }
   ],
   "source": [
    "!ray status"
   ]
  },
  {
   "cell_type": "code",
   "execution_count": 8,
   "metadata": {},
   "outputs": [
    {
     "name": "stderr",
     "output_type": "stream",
     "text": [
      "\u001b[2m\u001b[36m(RolloutWorker pid=9268)\u001b[0m 2023-01-19 00:51:49,161\tWARNING env.py:166 -- Your env reset() method appears to take 'seed' or 'return_info' arguments. Note that these are not yet supported in RLlib. Seeding will take place using 'env.seed()' and the info dict will not be returned from reset.\n",
      "2023-01-19 00:51:49,296\tINFO policy.py:1196 -- Policy (worker=local) running on 0.5 GPUs.\n",
      "2023-01-19 00:51:49,297\tINFO torch_policy.py:184 -- Found 1 visible cuda devices.\n",
      "\u001b[2m\u001b[36m(RolloutWorker pid=9268)\u001b[0m 2023-01-19 00:51:49,221\tINFO policy.py:1196 -- Policy (worker=1) running on CPU.\n",
      "\u001b[2m\u001b[36m(RolloutWorker pid=9268)\u001b[0m 2023-01-19 00:51:49,221\tINFO torch_policy.py:184 -- Found 1 visible cuda devices.\n",
      "\u001b[2m\u001b[36m(RolloutWorker pid=14748)\u001b[0m 2023-01-19 00:51:49,223\tINFO policy.py:1196 -- Policy (worker=2) running on CPU.\n",
      "\u001b[2m\u001b[36m(RolloutWorker pid=14748)\u001b[0m 2023-01-19 00:51:49,223\tINFO torch_policy.py:184 -- Found 1 visible cuda devices.\n",
      "2023-01-19 00:51:49,328\tINFO rollout_worker.py:2037 -- Built policy map: <PolicyMap lru-caching-capacity=100 policy-IDs=['default_policy']>\n",
      "\u001b[2m\u001b[36m(RolloutWorker pid=10848)\u001b[0m 2023-01-19 00:51:49,266\tINFO policy.py:1196 -- Policy (worker=3) running on CPU.\n",
      "\u001b[2m\u001b[36m(RolloutWorker pid=10848)\u001b[0m 2023-01-19 00:51:49,266\tINFO torch_policy.py:184 -- Found 1 visible cuda devices.\n",
      "2023-01-19 00:51:49,330\tINFO rollout_worker.py:2038 -- Built preprocessor map: {'default_policy': <ray.rllib.models.preprocessors.NoPreprocessor object at 0x000001499696B400>}\n",
      "2023-01-19 00:51:49,331\tINFO rollout_worker.py:757 -- Built filter map: defaultdict(<class 'ray.rllib.utils.filter.NoFilter'>, {'default_policy': <ray.rllib.utils.filter.NoFilter object at 0x000001499696B520>})\n"
     ]
    }
   ],
   "source": [
    "dqn_algo = dqn_config.build()"
   ]
  },
  {
   "cell_type": "code",
   "execution_count": 9,
   "metadata": {},
   "outputs": [
    {
     "name": "stdout",
     "output_type": "stream",
     "text": [
      "======== Autoscaler status: 2023-01-19 00:51:50.133925 ========\n",
      "Node status\n",
      "---------------------------------------------------------------\n",
      "Healthy:\n",
      " 1 node_99c0d7abbe3dee5e57f40a8c71fce72ae42577c0a9d511d4c477f772\n",
      "Pending:\n",
      " (no pending nodes)\n",
      "Recent failures:\n",
      " (no failures)\n",
      "\n",
      "Resources\n",
      "---------------------------------------------------------------\n",
      "Usage:\n",
      " 6.0/12.0 CPU\n",
      " 0.0/1.0 GPU\n",
      " 0.0/1.0 accelerator_type:G\n",
      " 0.00/10.949 GiB memory\n",
      " 0.00/5.475 GiB object_store_memory\n",
      "\n",
      "Demands:\n",
      " (no resource demands)\n"
     ]
    }
   ],
   "source": [
    "!ray status"
   ]
  },
  {
   "cell_type": "code",
   "execution_count": 10,
   "metadata": {},
   "outputs": [],
   "source": [
    "random_algo = random_config.build()"
   ]
  },
  {
   "cell_type": "code",
   "execution_count": 11,
   "metadata": {},
   "outputs": [
    {
     "name": "stdout",
     "output_type": "stream",
     "text": [
      "======== Autoscaler status: 2023-01-19 00:51:55.151873 ========\n",
      "Node status\n",
      "---------------------------------------------------------------\n",
      "Healthy:\n",
      " 1 node_99c0d7abbe3dee5e57f40a8c71fce72ae42577c0a9d511d4c477f772\n",
      "Pending:\n",
      " (no pending nodes)\n",
      "Recent failures:\n",
      " (no failures)\n",
      "\n",
      "Resources\n",
      "---------------------------------------------------------------\n",
      "Usage:\n",
      " 6.0/12.0 CPU\n",
      " 0.0/1.0 GPU\n",
      " 0.0/1.0 accelerator_type:G\n",
      " 0.00/10.949 GiB memory\n",
      " 0.00/5.475 GiB object_store_memory\n",
      "\n",
      "Demands:\n",
      " (no resource demands)\n"
     ]
    }
   ],
   "source": [
    "!ray status"
   ]
  },
  {
   "cell_type": "code",
   "execution_count": 12,
   "metadata": {},
   "outputs": [],
   "source": [
    "checkpoints = sorted(glob(str(Path(\"saved_models\",\"**\",\"checkpoint_*\"))))"
   ]
  },
  {
   "cell_type": "code",
   "execution_count": 13,
   "metadata": {},
   "outputs": [],
   "source": [
    "import ipywidgets as widgets"
   ]
  },
  {
   "cell_type": "code",
   "execution_count": 14,
   "metadata": {},
   "outputs": [
    {
     "name": "stdout",
     "output_type": "stream",
     "text": [
      "saved_models\\Platoon-v5-PPO-10vehicles\n"
     ]
    },
    {
     "data": {
      "application/vnd.jupyter.widget-view+json": {
       "model_id": "0ed9c163bed042c59ba0db3153444edb",
       "version_major": 2,
       "version_minor": 0
      },
      "text/plain": [
       "Dropdown(description='PPO:', index=52, layout=Layout(width='initial'), options=('saved_models\\\\Platoon-v0-curi…"
      ]
     },
     "metadata": {},
     "output_type": "display_data"
    }
   ],
   "source": [
    "ppo_save_dir = Path(\"saved_models\",f\"{env_name}-{str(ppo_algo)}-{env_config['num_vehicles']}vehicles\")\n",
    "ppo_save_dir.mkdir(parents=True, exist_ok=True)\n",
    "print(ppo_save_dir)\n",
    "\n",
    "ppo_checkpoint_path = sorted(glob(str(ppo_save_dir / \"*\")))[-1] # grab latest\n",
    "\n",
    "w = widgets.Dropdown(\n",
    "    layout={'width': 'initial'},\n",
    "    options=checkpoints,\n",
    "    value=ppo_checkpoint_path,\n",
    "    description='PPO:'\n",
    ")\n",
    "\n",
    "def on_change(change):\n",
    "    global ppo_checkpoint_path\n",
    "    if change['type'] == 'change' and change['name'] == 'value':\n",
    "        print(\"changed to %s\" % change['new'])\n",
    "        ppo_checkpoint_path = change['new']\n",
    "\n",
    "w.observe(on_change)\n",
    "display(w)"
   ]
  },
  {
   "cell_type": "code",
   "execution_count": 15,
   "metadata": {},
   "outputs": [
    {
     "name": "stdout",
     "output_type": "stream",
     "text": [
      "saved_models\\Platoon-v5-DQN-10vehicles\n"
     ]
    },
    {
     "data": {
      "application/vnd.jupyter.widget-view+json": {
       "model_id": "e88a2ce8e4bc48f0a924821b19b9028c",
       "version_major": 2,
       "version_minor": 0
      },
      "text/plain": [
       "Dropdown(description='DQN:', index=44, layout=Layout(width='initial'), options=('saved_models\\\\Platoon-v0-curi…"
      ]
     },
     "metadata": {},
     "output_type": "display_data"
    }
   ],
   "source": [
    "dqn_save_dir = Path(\"saved_models\",f\"{env_name}-{str(dqn_algo)}-{env_config['num_vehicles']}vehicles\")\n",
    "dqn_save_dir.mkdir(parents=True, exist_ok=True)\n",
    "print(dqn_save_dir)\n",
    "\n",
    "dqn_checkpoint_path = sorted(glob(str(dqn_save_dir / \"*\")))[-1] # grab latest\n",
    "\n",
    "w = widgets.Dropdown(\n",
    "    layout={'width': 'initial'},\n",
    "    options=checkpoints,\n",
    "    value=dqn_checkpoint_path,\n",
    "    description='DQN:'\n",
    ")\n",
    "\n",
    "def on_change(change):\n",
    "    global dqn_checkpoint_path\n",
    "    if change['type'] == 'change' and change['name'] == 'value':\n",
    "        print(\"changed to %s\" % change['new'])\n",
    "        dqn_checkpoint_path = change['new']\n",
    "\n",
    "w.observe(on_change)\n",
    "display(w)"
   ]
  },
  {
   "cell_type": "code",
   "execution_count": 16,
   "metadata": {},
   "outputs": [
    {
     "name": "stderr",
     "output_type": "stream",
     "text": [
      "2023-01-19 00:51:55,921\tINFO trainable.py:790 -- Restored on 127.0.0.1 from checkpoint: saved_models\\Platoon-v5-PPO-10vehicles\\checkpoint_001044\n",
      "2023-01-19 00:51:55,922\tINFO trainable.py:799 -- Current state after restoring: {'_iteration': 1044, '_timesteps_total': None, '_time_total': 20095.526886463165, '_episodes_total': 20760}\n"
     ]
    },
    {
     "name": "stdout",
     "output_type": "stream",
     "text": [
      "PPO restoring from checkpoint: saved_models\\Platoon-v5-PPO-10vehicles\\checkpoint_001044\n"
     ]
    }
   ],
   "source": [
    "print(f\"PPO restoring from checkpoint: {ppo_checkpoint_path}\")\n",
    "ppo_algo.restore(ppo_checkpoint_path)"
   ]
  },
  {
   "cell_type": "code",
   "execution_count": 17,
   "metadata": {},
   "outputs": [
    {
     "data": {
      "text/plain": [
       "{'experiment_id': 'e36f74bd41624b5a826ea1a9d59b9d4a',\n",
       " 'iteration': 1044,\n",
       " 'timesteps_total': None,\n",
       " 'time_total': 20095.526886463165,\n",
       " 'episodes_total': 20760,\n",
       " 'ray_version': '3.0.0.dev0'}"
      ]
     },
     "execution_count": 17,
     "metadata": {},
     "output_type": "execute_result"
    }
   ],
   "source": [
    "{k:v for k,v in ppo_algo.get_state().items() if k != \"last_result\"}"
   ]
  },
  {
   "cell_type": "code",
   "execution_count": 18,
   "metadata": {},
   "outputs": [
    {
     "name": "stdout",
     "output_type": "stream",
     "text": [
      "DQN restoring from checkpoint: saved_models\\Platoon-v5-DQN-10vehicles\\checkpoint_001000\n"
     ]
    },
    {
     "name": "stderr",
     "output_type": "stream",
     "text": [
      "2023-01-19 00:51:56,048\tINFO trainable.py:790 -- Restored on 127.0.0.1 from checkpoint: saved_models\\Platoon-v5-DQN-10vehicles\\checkpoint_001000\n",
      "2023-01-19 00:51:56,048\tINFO trainable.py:799 -- Current state after restoring: {'_iteration': 1000, '_timesteps_total': None, '_time_total': 5725.466508626938, '_episodes_total': 4970}\n"
     ]
    }
   ],
   "source": [
    "print(f\"DQN restoring from checkpoint: {dqn_checkpoint_path}\")\n",
    "dqn_algo.restore(dqn_checkpoint_path)"
   ]
  },
  {
   "cell_type": "code",
   "execution_count": 19,
   "metadata": {},
   "outputs": [
    {
     "data": {
      "text/plain": [
       "{'experiment_id': '65684c93838d45b7a0e60afff48233e7',\n",
       " 'iteration': 1000,\n",
       " 'timesteps_total': None,\n",
       " 'time_total': 5725.466508626938,\n",
       " 'episodes_total': 4970,\n",
       " 'ray_version': '3.0.0.dev0'}"
      ]
     },
     "execution_count": 19,
     "metadata": {},
     "output_type": "execute_result"
    }
   ],
   "source": [
    "{k:v for k,v in dqn_algo.get_state().items() if k != \"last_result\"}"
   ]
  },
  {
   "cell_type": "code",
   "execution_count": 20,
   "metadata": {},
   "outputs": [],
   "source": [
    "import numpy as np"
   ]
  },
  {
   "cell_type": "code",
   "execution_count": 21,
   "metadata": {},
   "outputs": [],
   "source": [
    "%matplotlib ipympl"
   ]
  },
  {
   "cell_type": "code",
   "execution_count": 35,
   "metadata": {},
   "outputs": [],
   "source": [
    "env = gym.make(\n",
    "    id=env_name,\n",
    "    render_mode=\"canvas\",\n",
    "    env_config={\n",
    "        **env_config,\n",
    "        \"steps_before_truncation\": 200\n",
    "    },\n",
    ")\n",
    "num_episodes = 100"
   ]
  },
  {
   "cell_type": "code",
   "execution_count": 36,
   "metadata": {},
   "outputs": [],
   "source": [
    "policies = {\n",
    "    \"ppo\": lambda obs: ppo_algo.compute_single_action(obs, explore=True),\n",
    "    \"dqn\": lambda obs: dqn_algo.compute_single_action(obs, explore=True),\n",
    "    \"random\": lambda obs: env.action_space.sample(),\n",
    "}"
   ]
  },
  {
   "cell_type": "code",
   "execution_count": 53,
   "metadata": {},
   "outputs": [],
   "source": [
    "results = {}"
   ]
  },
  {
   "cell_type": "code",
   "execution_count": 54,
   "metadata": {},
   "outputs": [
    {
     "name": "stderr",
     "output_type": "stream",
     "text": [
      "ppo:   0%|          | 251/60000 [00:00<03:52, 256.88it/s]"
     ]
    },
    {
     "name": "stdout",
     "output_type": "stream",
     "text": [
      "trained ended after step 200 with reward -2.10 (spec: None)\n"
     ]
    },
    {
     "name": "stderr",
     "output_type": "stream",
     "text": [
      "ppo:   1%|          | 450/60000 [00:01<03:27, 287.64it/s]"
     ]
    },
    {
     "name": "stdout",
     "output_type": "stream",
     "text": [
      "trained ended after step 200 with reward -3.99 (spec: None)\n"
     ]
    },
    {
     "name": "stderr",
     "output_type": "stream",
     "text": [
      "ppo:   1%|          | 678/60000 [00:02<02:40, 368.79it/s]"
     ]
    },
    {
     "name": "stdout",
     "output_type": "stream",
     "text": [
      "trained ended after step 200 with reward -6.07 (spec: None)\n"
     ]
    },
    {
     "name": "stderr",
     "output_type": "stream",
     "text": [
      "ppo:   1%|▏         | 873/60000 [00:02<02:47, 352.56it/s]"
     ]
    },
    {
     "name": "stdout",
     "output_type": "stream",
     "text": [
      "trained ended after step 200 with reward -8.13 (spec: None)\n"
     ]
    },
    {
     "name": "stderr",
     "output_type": "stream",
     "text": [
      "ppo:   2%|▏         | 1066/60000 [00:03<03:12, 305.44it/s]"
     ]
    },
    {
     "name": "stdout",
     "output_type": "stream",
     "text": [
      "trained ended after step 200 with reward -10.20 (spec: None)\n"
     ]
    },
    {
     "name": "stderr",
     "output_type": "stream",
     "text": [
      "ppo:   2%|▏         | 1252/60000 [00:03<02:45, 355.75it/s]"
     ]
    },
    {
     "name": "stdout",
     "output_type": "stream",
     "text": [
      "trained ended after step 200 with reward -12.10 (spec: None)\n"
     ]
    },
    {
     "name": "stderr",
     "output_type": "stream",
     "text": [
      "ppo:   2%|▏         | 1478/60000 [00:04<02:44, 356.23it/s]"
     ]
    },
    {
     "name": "stdout",
     "output_type": "stream",
     "text": [
      "trained ended after step 200 with reward -14.10 (spec: None)\n"
     ]
    },
    {
     "name": "stderr",
     "output_type": "stream",
     "text": [
      "ppo:   3%|▎         | 1646/60000 [00:05<03:13, 301.59it/s]"
     ]
    },
    {
     "name": "stdout",
     "output_type": "stream",
     "text": [
      "trained ended after step 200 with reward -16.15 (spec: None)\n"
     ]
    },
    {
     "name": "stderr",
     "output_type": "stream",
     "text": [
      "ppo:   3%|▎         | 1865/60000 [00:05<02:59, 323.53it/s]"
     ]
    },
    {
     "name": "stdout",
     "output_type": "stream",
     "text": [
      "trained ended after step 200 with reward -18.23 (spec: None)\n"
     ]
    },
    {
     "name": "stderr",
     "output_type": "stream",
     "text": [
      "ppo:   3%|▎         | 2042/60000 [00:06<03:23, 284.52it/s]"
     ]
    },
    {
     "name": "stdout",
     "output_type": "stream",
     "text": [
      "trained ended after step 200 with reward -20.16 (spec: None)\n"
     ]
    },
    {
     "name": "stderr",
     "output_type": "stream",
     "text": [
      "ppo:   4%|▎         | 2219/60000 [00:07<02:51, 336.51it/s]"
     ]
    },
    {
     "name": "stdout",
     "output_type": "stream",
     "text": [
      "trained ended after step 200 with reward -22.17 (spec: None)\n"
     ]
    },
    {
     "name": "stderr",
     "output_type": "stream",
     "text": [
      "ppo:   4%|▍         | 2460/60000 [00:07<02:54, 330.54it/s]"
     ]
    },
    {
     "name": "stdout",
     "output_type": "stream",
     "text": [
      "trained ended after step 200 with reward -24.35 (spec: None)\n"
     ]
    },
    {
     "name": "stderr",
     "output_type": "stream",
     "text": [
      "ppo:   4%|▍         | 2652/60000 [00:08<03:17, 290.96it/s]"
     ]
    },
    {
     "name": "stdout",
     "output_type": "stream",
     "text": [
      "trained ended after step 200 with reward -26.26 (spec: None)\n"
     ]
    },
    {
     "name": "stderr",
     "output_type": "stream",
     "text": [
      "ppo:   5%|▍         | 2881/60000 [00:09<03:05, 307.35it/s]"
     ]
    },
    {
     "name": "stdout",
     "output_type": "stream",
     "text": [
      "trained ended after step 200 with reward -28.44 (spec: None)\n"
     ]
    },
    {
     "name": "stderr",
     "output_type": "stream",
     "text": [
      "ppo:   5%|▌         | 3052/60000 [00:09<02:58, 318.68it/s]"
     ]
    },
    {
     "name": "stdout",
     "output_type": "stream",
     "text": [
      "trained ended after step 200 with reward -30.47 (spec: None)\n"
     ]
    },
    {
     "name": "stderr",
     "output_type": "stream",
     "text": [
      "ppo:   5%|▌         | 3287/60000 [00:10<02:46, 341.13it/s]"
     ]
    },
    {
     "name": "stdout",
     "output_type": "stream",
     "text": [
      "trained ended after step 200 with reward -32.55 (spec: None)\n"
     ]
    },
    {
     "name": "stderr",
     "output_type": "stream",
     "text": [
      "ppo:   6%|▌         | 3455/60000 [00:11<02:24, 392.44it/s]"
     ]
    },
    {
     "name": "stdout",
     "output_type": "stream",
     "text": [
      "trained ended after step 200 with reward -34.73 (spec: None)\n"
     ]
    },
    {
     "name": "stderr",
     "output_type": "stream",
     "text": [
      "ppo:   6%|▌         | 3653/60000 [00:11<02:31, 372.68it/s]"
     ]
    },
    {
     "name": "stdout",
     "output_type": "stream",
     "text": [
      "trained ended after step 200 with reward -36.83 (spec: None)\n"
     ]
    },
    {
     "name": "stderr",
     "output_type": "stream",
     "text": [
      "ppo:   6%|▋         | 3873/60000 [00:12<02:49, 331.12it/s]"
     ]
    },
    {
     "name": "stdout",
     "output_type": "stream",
     "text": [
      "trained ended after step 200 with reward -38.92 (spec: None)\n"
     ]
    },
    {
     "name": "stderr",
     "output_type": "stream",
     "text": [
      "ppo:   7%|▋         | 4052/60000 [00:12<03:20, 278.40it/s]"
     ]
    },
    {
     "name": "stdout",
     "output_type": "stream",
     "text": [
      "trained ended after step 200 with reward -40.85 (spec: None)\n"
     ]
    },
    {
     "name": "stderr",
     "output_type": "stream",
     "text": [
      "ppo:   7%|▋         | 4287/60000 [00:13<02:53, 321.60it/s]"
     ]
    },
    {
     "name": "stdout",
     "output_type": "stream",
     "text": [
      "trained ended after step 200 with reward -42.76 (spec: None)\n"
     ]
    },
    {
     "name": "stderr",
     "output_type": "stream",
     "text": [
      "ppo:   7%|▋         | 4478/60000 [00:14<02:33, 362.26it/s]"
     ]
    },
    {
     "name": "stdout",
     "output_type": "stream",
     "text": [
      "trained ended after step 200 with reward -45.03 (spec: None)\n"
     ]
    },
    {
     "name": "stderr",
     "output_type": "stream",
     "text": [
      "ppo:   8%|▊         | 4673/60000 [00:14<02:47, 329.77it/s]"
     ]
    },
    {
     "name": "stdout",
     "output_type": "stream",
     "text": [
      "trained ended after step 200 with reward -47.02 (spec: None)\n"
     ]
    },
    {
     "name": "stderr",
     "output_type": "stream",
     "text": [
      "ppo:   8%|▊         | 4864/60000 [00:15<03:01, 303.57it/s]"
     ]
    },
    {
     "name": "stdout",
     "output_type": "stream",
     "text": [
      "trained ended after step 200 with reward -48.98 (spec: None)\n"
     ]
    },
    {
     "name": "stderr",
     "output_type": "stream",
     "text": [
      "ppo:   8%|▊         | 5048/60000 [00:15<02:36, 350.14it/s]"
     ]
    },
    {
     "name": "stdout",
     "output_type": "stream",
     "text": [
      "trained ended after step 200 with reward -50.84 (spec: None)\n"
     ]
    },
    {
     "name": "stderr",
     "output_type": "stream",
     "text": [
      "ppo:   9%|▉         | 5252/60000 [00:16<02:55, 312.27it/s]"
     ]
    },
    {
     "name": "stdout",
     "output_type": "stream",
     "text": [
      "trained ended after step 200 with reward -52.78 (spec: None)\n"
     ]
    },
    {
     "name": "stderr",
     "output_type": "stream",
     "text": [
      "ppo:   9%|▉         | 5497/60000 [00:17<02:38, 343.54it/s]"
     ]
    },
    {
     "name": "stdout",
     "output_type": "stream",
     "text": [
      "trained ended after step 200 with reward -54.93 (spec: None)\n"
     ]
    },
    {
     "name": "stderr",
     "output_type": "stream",
     "text": [
      "ppo:   9%|▉         | 5682/60000 [00:18<02:40, 338.13it/s]"
     ]
    },
    {
     "name": "stdout",
     "output_type": "stream",
     "text": [
      "trained ended after step 200 with reward -56.84 (spec: None)\n"
     ]
    },
    {
     "name": "stderr",
     "output_type": "stream",
     "text": [
      "ppo:  10%|▉         | 5917/60000 [00:18<02:40, 336.30it/s]"
     ]
    },
    {
     "name": "stdout",
     "output_type": "stream",
     "text": [
      "trained ended after step 200 with reward -58.80 (spec: None)\n"
     ]
    },
    {
     "name": "stderr",
     "output_type": "stream",
     "text": [
      "ppo:  10%|█         | 6034/60000 [00:19<02:27, 365.86it/s]"
     ]
    },
    {
     "name": "stdout",
     "output_type": "stream",
     "text": [
      "trained ended after step 200 with reward -60.88 (spec: None)\n"
     ]
    },
    {
     "name": "stderr",
     "output_type": "stream",
     "text": [
      "ppo:  10%|█         | 6299/60000 [00:19<02:31, 354.47it/s]"
     ]
    },
    {
     "name": "stdout",
     "output_type": "stream",
     "text": [
      "trained ended after step 200 with reward -62.84 (spec: None)\n"
     ]
    },
    {
     "name": "stderr",
     "output_type": "stream",
     "text": [
      "ppo:  11%|█         | 6481/60000 [00:20<02:43, 327.11it/s]"
     ]
    },
    {
     "name": "stdout",
     "output_type": "stream",
     "text": [
      "trained ended after step 200 with reward -64.95 (spec: None)\n"
     ]
    },
    {
     "name": "stderr",
     "output_type": "stream",
     "text": [
      "ppo:  11%|█         | 6692/60000 [00:21<02:56, 302.40it/s]"
     ]
    },
    {
     "name": "stdout",
     "output_type": "stream",
     "text": [
      "trained ended after step 200 with reward -67.00 (spec: None)\n"
     ]
    },
    {
     "name": "stderr",
     "output_type": "stream",
     "text": [
      "ppo:  12%|█▏        | 6906/60000 [00:21<02:33, 346.75it/s]"
     ]
    },
    {
     "name": "stdout",
     "output_type": "stream",
     "text": [
      "trained ended after step 200 with reward -68.98 (spec: None)\n"
     ]
    },
    {
     "name": "stderr",
     "output_type": "stream",
     "text": [
      "ppo:  12%|█▏        | 7078/60000 [00:22<03:10, 278.02it/s]"
     ]
    },
    {
     "name": "stdout",
     "output_type": "stream",
     "text": [
      "trained ended after step 200 with reward -71.03 (spec: None)\n"
     ]
    },
    {
     "name": "stderr",
     "output_type": "stream",
     "text": [
      "ppo:  12%|█▏        | 7270/60000 [00:23<02:49, 310.98it/s]"
     ]
    },
    {
     "name": "stdout",
     "output_type": "stream",
     "text": [
      "trained ended after step 200 with reward -73.24 (spec: None)\n"
     ]
    },
    {
     "name": "stderr",
     "output_type": "stream",
     "text": [
      "ppo:  13%|█▎        | 7506/60000 [00:23<02:38, 331.95it/s]"
     ]
    },
    {
     "name": "stdout",
     "output_type": "stream",
     "text": [
      "trained ended after step 200 with reward -75.23 (spec: None)\n"
     ]
    },
    {
     "name": "stderr",
     "output_type": "stream",
     "text": [
      "ppo:  13%|█▎        | 7687/60000 [00:24<02:42, 322.35it/s]"
     ]
    },
    {
     "name": "stdout",
     "output_type": "stream",
     "text": [
      "trained ended after step 200 with reward -77.25 (spec: None)\n"
     ]
    },
    {
     "name": "stderr",
     "output_type": "stream",
     "text": [
      "ppo:  13%|█▎        | 7897/60000 [00:25<02:46, 312.34it/s]"
     ]
    },
    {
     "name": "stdout",
     "output_type": "stream",
     "text": [
      "trained ended after step 200 with reward -79.25 (spec: None)\n"
     ]
    },
    {
     "name": "stderr",
     "output_type": "stream",
     "text": [
      "ppo:  14%|█▎        | 8102/60000 [00:26<02:41, 321.96it/s]"
     ]
    },
    {
     "name": "stdout",
     "output_type": "stream",
     "text": [
      "trained ended after step 200 with reward -81.31 (spec: None)\n"
     ]
    },
    {
     "name": "stderr",
     "output_type": "stream",
     "text": [
      "ppo:  14%|█▍        | 8283/60000 [00:26<02:37, 329.21it/s]"
     ]
    },
    {
     "name": "stdout",
     "output_type": "stream",
     "text": [
      "trained ended after step 200 with reward -83.39 (spec: None)\n"
     ]
    },
    {
     "name": "stderr",
     "output_type": "stream",
     "text": [
      "ppo:  14%|█▍        | 8493/60000 [00:27<02:30, 343.21it/s]"
     ]
    },
    {
     "name": "stdout",
     "output_type": "stream",
     "text": [
      "trained ended after step 200 with reward -85.55 (spec: None)\n"
     ]
    },
    {
     "name": "stderr",
     "output_type": "stream",
     "text": [
      "ppo:  15%|█▍        | 8715/60000 [00:27<02:24, 355.79it/s]"
     ]
    },
    {
     "name": "stdout",
     "output_type": "stream",
     "text": [
      "trained ended after step 200 with reward -87.52 (spec: None)\n"
     ]
    },
    {
     "name": "stderr",
     "output_type": "stream",
     "text": [
      "ppo:  15%|█▍        | 8908/60000 [00:28<02:32, 334.86it/s]"
     ]
    },
    {
     "name": "stdout",
     "output_type": "stream",
     "text": [
      "trained ended after step 200 with reward -89.50 (spec: None)\n"
     ]
    },
    {
     "name": "stderr",
     "output_type": "stream",
     "text": [
      "ppo:  15%|█▌        | 9092/60000 [00:29<02:59, 283.03it/s]"
     ]
    },
    {
     "name": "stdout",
     "output_type": "stream",
     "text": [
      "trained ended after step 200 with reward -91.45 (spec: None)\n"
     ]
    },
    {
     "name": "stderr",
     "output_type": "stream",
     "text": [
      "ppo:  16%|█▌        | 9307/60000 [00:29<02:29, 339.72it/s]"
     ]
    },
    {
     "name": "stdout",
     "output_type": "stream",
     "text": [
      "trained ended after step 200 with reward -93.58 (spec: None)\n"
     ]
    },
    {
     "name": "stderr",
     "output_type": "stream",
     "text": [
      "ppo:  16%|█▌        | 9492/60000 [00:30<02:22, 353.46it/s]"
     ]
    },
    {
     "name": "stdout",
     "output_type": "stream",
     "text": [
      "trained ended after step 200 with reward -95.63 (spec: None)\n"
     ]
    },
    {
     "name": "stderr",
     "output_type": "stream",
     "text": [
      "ppo:  16%|█▌        | 9683/60000 [00:30<02:25, 346.46it/s]"
     ]
    },
    {
     "name": "stdout",
     "output_type": "stream",
     "text": [
      "trained ended after step 200 with reward -97.69 (spec: None)\n"
     ]
    },
    {
     "name": "stderr",
     "output_type": "stream",
     "text": [
      "ppo:  17%|█▋        | 9911/60000 [00:31<02:32, 328.88it/s]"
     ]
    },
    {
     "name": "stdout",
     "output_type": "stream",
     "text": [
      "trained ended after step 200 with reward -99.58 (spec: None)\n"
     ]
    },
    {
     "name": "stderr",
     "output_type": "stream",
     "text": [
      "ppo:  17%|█▋        | 10093/60000 [00:32<02:45, 301.46it/s]"
     ]
    },
    {
     "name": "stdout",
     "output_type": "stream",
     "text": [
      "trained ended after step 200 with reward -101.45 (spec: None)\n"
     ]
    },
    {
     "name": "stderr",
     "output_type": "stream",
     "text": [
      "ppo:  17%|█▋        | 10312/60000 [00:32<02:18, 357.85it/s]"
     ]
    },
    {
     "name": "stdout",
     "output_type": "stream",
     "text": [
      "trained ended after step 200 with reward -103.35 (spec: None)\n"
     ]
    },
    {
     "name": "stderr",
     "output_type": "stream",
     "text": [
      "ppo:  17%|█▋        | 10493/60000 [00:33<02:35, 317.72it/s]"
     ]
    },
    {
     "name": "stdout",
     "output_type": "stream",
     "text": [
      "trained ended after step 200 with reward -105.23 (spec: None)\n"
     ]
    },
    {
     "name": "stderr",
     "output_type": "stream",
     "text": [
      "ppo:  18%|█▊        | 10695/60000 [00:34<02:43, 301.54it/s]"
     ]
    },
    {
     "name": "stdout",
     "output_type": "stream",
     "text": [
      "trained ended after step 200 with reward -107.21 (spec: None)\n"
     ]
    },
    {
     "name": "stderr",
     "output_type": "stream",
     "text": [
      "ppo:  18%|█▊        | 10880/60000 [00:34<03:07, 261.86it/s]"
     ]
    },
    {
     "name": "stdout",
     "output_type": "stream",
     "text": [
      "trained ended after step 200 with reward -109.18 (spec: None)\n"
     ]
    },
    {
     "name": "stderr",
     "output_type": "stream",
     "text": [
      "ppo:  18%|█▊        | 11067/60000 [00:35<02:41, 303.29it/s]"
     ]
    },
    {
     "name": "stdout",
     "output_type": "stream",
     "text": [
      "trained ended after step 200 with reward -111.27 (spec: None)\n"
     ]
    },
    {
     "name": "stderr",
     "output_type": "stream",
     "text": [
      "ppo:  19%|█▉        | 11298/60000 [00:35<02:13, 366.11it/s]"
     ]
    },
    {
     "name": "stdout",
     "output_type": "stream",
     "text": [
      "trained ended after step 200 with reward -113.34 (spec: None)\n"
     ]
    },
    {
     "name": "stderr",
     "output_type": "stream",
     "text": [
      "ppo:  19%|█▉        | 11512/60000 [00:36<02:25, 332.48it/s]"
     ]
    },
    {
     "name": "stdout",
     "output_type": "stream",
     "text": [
      "trained ended after step 200 with reward -115.46 (spec: None)\n"
     ]
    },
    {
     "name": "stderr",
     "output_type": "stream",
     "text": [
      "ppo:  19%|█▉        | 11693/60000 [00:37<02:27, 327.17it/s]"
     ]
    },
    {
     "name": "stdout",
     "output_type": "stream",
     "text": [
      "trained ended after step 200 with reward -117.48 (spec: None)\n"
     ]
    },
    {
     "name": "stderr",
     "output_type": "stream",
     "text": [
      "ppo:  20%|█▉        | 11895/60000 [00:37<02:19, 345.27it/s]"
     ]
    },
    {
     "name": "stdout",
     "output_type": "stream",
     "text": [
      "trained ended after step 200 with reward -119.58 (spec: None)\n"
     ]
    },
    {
     "name": "stderr",
     "output_type": "stream",
     "text": [
      "ppo:  20%|██        | 12120/60000 [00:38<02:11, 363.16it/s]"
     ]
    },
    {
     "name": "stdout",
     "output_type": "stream",
     "text": [
      "trained ended after step 200 with reward -121.71 (spec: None)\n"
     ]
    },
    {
     "name": "stderr",
     "output_type": "stream",
     "text": [
      "ppo:  20%|██        | 12298/60000 [00:39<02:25, 328.06it/s]"
     ]
    },
    {
     "name": "stdout",
     "output_type": "stream",
     "text": [
      "trained ended after step 200 with reward -123.67 (spec: None)\n"
     ]
    },
    {
     "name": "stderr",
     "output_type": "stream",
     "text": [
      "ppo:  21%|██        | 12515/60000 [00:39<02:27, 321.33it/s]"
     ]
    },
    {
     "name": "stdout",
     "output_type": "stream",
     "text": [
      "trained ended after step 200 with reward -125.65 (spec: None)\n"
     ]
    },
    {
     "name": "stderr",
     "output_type": "stream",
     "text": [
      "ppo:  21%|██        | 12726/60000 [00:40<02:31, 311.47it/s]"
     ]
    },
    {
     "name": "stdout",
     "output_type": "stream",
     "text": [
      "trained ended after step 200 with reward -127.73 (spec: None)\n"
     ]
    },
    {
     "name": "stderr",
     "output_type": "stream",
     "text": [
      "ppo:  22%|██▏       | 12902/60000 [00:41<02:52, 272.42it/s]"
     ]
    },
    {
     "name": "stdout",
     "output_type": "stream",
     "text": [
      "trained ended after step 200 with reward -129.82 (spec: None)\n"
     ]
    },
    {
     "name": "stderr",
     "output_type": "stream",
     "text": [
      "ppo:  22%|██▏       | 13103/60000 [00:41<02:36, 299.67it/s]"
     ]
    },
    {
     "name": "stdout",
     "output_type": "stream",
     "text": [
      "trained ended after step 200 with reward -131.89 (spec: None)\n"
     ]
    },
    {
     "name": "stderr",
     "output_type": "stream",
     "text": [
      "ppo:  22%|██▏       | 13311/60000 [00:42<02:20, 332.72it/s]"
     ]
    },
    {
     "name": "stdout",
     "output_type": "stream",
     "text": [
      "trained ended after step 200 with reward -133.94 (spec: None)\n"
     ]
    },
    {
     "name": "stderr",
     "output_type": "stream",
     "text": [
      "ppo:  23%|██▎       | 13519/60000 [00:43<02:20, 331.83it/s]"
     ]
    },
    {
     "name": "stdout",
     "output_type": "stream",
     "text": [
      "trained ended after step 200 with reward -135.87 (spec: None)\n"
     ]
    },
    {
     "name": "stderr",
     "output_type": "stream",
     "text": [
      "ppo:  23%|██▎       | 13727/60000 [00:43<02:25, 318.24it/s]"
     ]
    },
    {
     "name": "stdout",
     "output_type": "stream",
     "text": [
      "trained ended after step 200 with reward -137.87 (spec: None)\n"
     ]
    },
    {
     "name": "stderr",
     "output_type": "stream",
     "text": [
      "ppo:  23%|██▎       | 13922/60000 [00:44<02:58, 257.76it/s]"
     ]
    },
    {
     "name": "stdout",
     "output_type": "stream",
     "text": [
      "trained ended after step 200 with reward -140.00 (spec: None)\n"
     ]
    },
    {
     "name": "stderr",
     "output_type": "stream",
     "text": [
      "ppo:  23%|██▎       | 14089/60000 [00:45<02:52, 265.64it/s]"
     ]
    },
    {
     "name": "stdout",
     "output_type": "stream",
     "text": [
      "trained ended after step 200 with reward -141.96 (spec: None)\n"
     ]
    },
    {
     "name": "stderr",
     "output_type": "stream",
     "text": [
      "ppo:  24%|██▍       | 14313/60000 [00:45<02:06, 361.45it/s]"
     ]
    },
    {
     "name": "stdout",
     "output_type": "stream",
     "text": [
      "trained ended after step 200 with reward -143.94 (spec: None)\n"
     ]
    },
    {
     "name": "stderr",
     "output_type": "stream",
     "text": [
      "ppo:  24%|██▍       | 14548/60000 [00:46<02:02, 370.92it/s]"
     ]
    },
    {
     "name": "stdout",
     "output_type": "stream",
     "text": [
      "trained ended after step 200 with reward -145.80 (spec: None)\n"
     ]
    },
    {
     "name": "stderr",
     "output_type": "stream",
     "text": [
      "ppo:  25%|██▍       | 14728/60000 [00:46<02:27, 307.66it/s]"
     ]
    },
    {
     "name": "stdout",
     "output_type": "stream",
     "text": [
      "trained ended after step 200 with reward -147.75 (spec: None)\n"
     ]
    },
    {
     "name": "stderr",
     "output_type": "stream",
     "text": [
      "ppo:  25%|██▍       | 14908/60000 [00:47<02:51, 263.53it/s]"
     ]
    },
    {
     "name": "stdout",
     "output_type": "stream",
     "text": [
      "trained ended after step 200 with reward -149.74 (spec: None)\n"
     ]
    },
    {
     "name": "stderr",
     "output_type": "stream",
     "text": [
      "ppo:  25%|██▌       | 15102/60000 [00:48<02:20, 320.35it/s]"
     ]
    },
    {
     "name": "stdout",
     "output_type": "stream",
     "text": [
      "trained ended after step 200 with reward -151.79 (spec: None)\n"
     ]
    },
    {
     "name": "stderr",
     "output_type": "stream",
     "text": [
      "ppo:  26%|██▌       | 15335/60000 [00:48<02:01, 368.63it/s]"
     ]
    },
    {
     "name": "stdout",
     "output_type": "stream",
     "text": [
      "trained ended after step 200 with reward -153.79 (spec: None)\n"
     ]
    },
    {
     "name": "stderr",
     "output_type": "stream",
     "text": [
      "ppo:  26%|██▌       | 15516/60000 [00:49<02:17, 324.69it/s]"
     ]
    },
    {
     "name": "stdout",
     "output_type": "stream",
     "text": [
      "trained ended after step 200 with reward -155.78 (spec: None)\n"
     ]
    },
    {
     "name": "stderr",
     "output_type": "stream",
     "text": [
      "ppo:  26%|██▌       | 15734/60000 [00:50<02:19, 317.66it/s]"
     ]
    },
    {
     "name": "stdout",
     "output_type": "stream",
     "text": [
      "trained ended after step 200 with reward -157.72 (spec: None)\n"
     ]
    },
    {
     "name": "stderr",
     "output_type": "stream",
     "text": [
      "ppo:  27%|██▋       | 15906/60000 [00:50<02:52, 256.01it/s]"
     ]
    },
    {
     "name": "stdout",
     "output_type": "stream",
     "text": [
      "trained ended after step 200 with reward -159.73 (spec: None)\n"
     ]
    },
    {
     "name": "stderr",
     "output_type": "stream",
     "text": [
      "ppo:  27%|██▋       | 16140/60000 [00:51<02:01, 359.54it/s]"
     ]
    },
    {
     "name": "stdout",
     "output_type": "stream",
     "text": [
      "trained ended after step 200 with reward -161.76 (spec: None)\n"
     ]
    },
    {
     "name": "stderr",
     "output_type": "stream",
     "text": [
      "ppo:  27%|██▋       | 16341/60000 [00:51<01:58, 367.36it/s]"
     ]
    },
    {
     "name": "stdout",
     "output_type": "stream",
     "text": [
      "trained ended after step 200 with reward -163.71 (spec: None)\n"
     ]
    },
    {
     "name": "stderr",
     "output_type": "stream",
     "text": [
      "ppo:  28%|██▊       | 16539/60000 [00:52<02:05, 346.85it/s]"
     ]
    },
    {
     "name": "stdout",
     "output_type": "stream",
     "text": [
      "trained ended after step 200 with reward -165.76 (spec: None)\n"
     ]
    },
    {
     "name": "stderr",
     "output_type": "stream",
     "text": [
      "ppo:  28%|██▊       | 16732/60000 [00:53<01:59, 362.75it/s]"
     ]
    },
    {
     "name": "stdout",
     "output_type": "stream",
     "text": [
      "trained ended after step 200 with reward -167.84 (spec: None)\n"
     ]
    },
    {
     "name": "stderr",
     "output_type": "stream",
     "text": [
      "ppo:  28%|██▊       | 16941/60000 [00:53<02:15, 316.79it/s]"
     ]
    },
    {
     "name": "stdout",
     "output_type": "stream",
     "text": [
      "trained ended after step 200 with reward -169.85 (spec: None)\n"
     ]
    },
    {
     "name": "stderr",
     "output_type": "stream",
     "text": [
      "ppo:  29%|██▊       | 17143/60000 [00:54<02:19, 307.19it/s]"
     ]
    },
    {
     "name": "stdout",
     "output_type": "stream",
     "text": [
      "trained ended after step 200 with reward -171.84 (spec: None)\n"
     ]
    },
    {
     "name": "stderr",
     "output_type": "stream",
     "text": [
      "ppo:  29%|██▉       | 17327/60000 [00:55<02:21, 301.66it/s]"
     ]
    },
    {
     "name": "stdout",
     "output_type": "stream",
     "text": [
      "trained ended after step 200 with reward -173.65 (spec: None)\n"
     ]
    },
    {
     "name": "stderr",
     "output_type": "stream",
     "text": [
      "ppo:  29%|██▉       | 17520/60000 [00:55<01:58, 359.86it/s]"
     ]
    },
    {
     "name": "stdout",
     "output_type": "stream",
     "text": [
      "trained ended after step 200 with reward -175.56 (spec: None)\n"
     ]
    },
    {
     "name": "stderr",
     "output_type": "stream",
     "text": [
      "ppo:  30%|██▉       | 17757/60000 [00:56<01:55, 366.41it/s]"
     ]
    },
    {
     "name": "stdout",
     "output_type": "stream",
     "text": [
      "trained ended after step 200 with reward -177.59 (spec: None)\n"
     ]
    },
    {
     "name": "stderr",
     "output_type": "stream",
     "text": [
      "ppo:  30%|██▉       | 17942/60000 [00:57<02:15, 310.73it/s]"
     ]
    },
    {
     "name": "stdout",
     "output_type": "stream",
     "text": [
      "trained ended after step 200 with reward -179.59 (spec: None)\n"
     ]
    },
    {
     "name": "stderr",
     "output_type": "stream",
     "text": [
      "ppo:  30%|███       | 18143/60000 [00:57<02:27, 282.88it/s]"
     ]
    },
    {
     "name": "stdout",
     "output_type": "stream",
     "text": [
      "trained ended after step 200 with reward -181.66 (spec: None)\n"
     ]
    },
    {
     "name": "stderr",
     "output_type": "stream",
     "text": [
      "ppo:  31%|███       | 18334/60000 [00:58<01:56, 358.97it/s]"
     ]
    },
    {
     "name": "stdout",
     "output_type": "stream",
     "text": [
      "trained ended after step 200 with reward -183.78 (spec: None)\n"
     ]
    },
    {
     "name": "stderr",
     "output_type": "stream",
     "text": [
      "ppo:  31%|███       | 18562/60000 [00:59<01:56, 355.87it/s]"
     ]
    },
    {
     "name": "stdout",
     "output_type": "stream",
     "text": [
      "trained ended after step 200 with reward -185.77 (spec: None)\n"
     ]
    },
    {
     "name": "stderr",
     "output_type": "stream",
     "text": [
      "ppo:  31%|███▏      | 18756/60000 [00:59<02:02, 335.69it/s]"
     ]
    },
    {
     "name": "stdout",
     "output_type": "stream",
     "text": [
      "trained ended after step 200 with reward -187.70 (spec: None)\n"
     ]
    },
    {
     "name": "stderr",
     "output_type": "stream",
     "text": [
      "ppo:  32%|███▏      | 18910/60000 [01:00<02:40, 255.47it/s]"
     ]
    },
    {
     "name": "stdout",
     "output_type": "stream",
     "text": [
      "trained ended after step 200 with reward -189.74 (spec: None)\n"
     ]
    },
    {
     "name": "stderr",
     "output_type": "stream",
     "text": [
      "ppo:  32%|███▏      | 19128/60000 [01:00<02:03, 332.00it/s]"
     ]
    },
    {
     "name": "stdout",
     "output_type": "stream",
     "text": [
      "trained ended after step 200 with reward -191.88 (spec: None)\n"
     ]
    },
    {
     "name": "stderr",
     "output_type": "stream",
     "text": [
      "ppo:  32%|███▏      | 19365/60000 [01:01<02:07, 318.38it/s]"
     ]
    },
    {
     "name": "stdout",
     "output_type": "stream",
     "text": [
      "trained ended after step 200 with reward -194.03 (spec: None)\n"
     ]
    },
    {
     "name": "stderr",
     "output_type": "stream",
     "text": [
      "ppo:  33%|███▎      | 19562/60000 [01:02<02:14, 301.01it/s]"
     ]
    },
    {
     "name": "stdout",
     "output_type": "stream",
     "text": [
      "trained ended after step 200 with reward -196.30 (spec: None)\n"
     ]
    },
    {
     "name": "stderr",
     "output_type": "stream",
     "text": [
      "ppo:  33%|███▎      | 19729/60000 [01:03<02:34, 260.33it/s]"
     ]
    },
    {
     "name": "stdout",
     "output_type": "stream",
     "text": [
      "trained ended after step 200 with reward -198.20 (spec: None)\n"
     ]
    },
    {
     "name": "stderr",
     "output_type": "stream",
     "text": [
      "ppo:  33%|███▎      | 19899/60000 [01:03<02:06, 316.75it/s]"
     ]
    },
    {
     "name": "stdout",
     "output_type": "stream",
     "text": [
      "trained ended after step 200 with reward -200.19 (spec: None)\n"
     ]
    },
    {
     "name": "stderr",
     "output_type": "stream",
     "text": [
      "dqn:  34%|███▎      | 20143/60000 [01:04<02:01, 326.97it/s]"
     ]
    },
    {
     "name": "stdout",
     "output_type": "stream",
     "text": [
      "trained ended after step 200 with reward -202.32 (spec: None)\n"
     ]
    },
    {
     "name": "stderr",
     "output_type": "stream",
     "text": [
      "dqn:  34%|███▍      | 20345/60000 [01:05<02:08, 307.88it/s]"
     ]
    },
    {
     "name": "stdout",
     "output_type": "stream",
     "text": [
      "trained ended after step 200 with reward -1.96 (spec: None)\n"
     ]
    },
    {
     "name": "stderr",
     "output_type": "stream",
     "text": [
      "dqn:  34%|███▍      | 20574/60000 [01:06<02:17, 287.07it/s]"
     ]
    },
    {
     "name": "stdout",
     "output_type": "stream",
     "text": [
      "trained ended after step 200 with reward -3.91 (spec: None)\n"
     ]
    },
    {
     "name": "stderr",
     "output_type": "stream",
     "text": [
      "dqn:  35%|███▍      | 20755/60000 [01:06<02:49, 231.01it/s]"
     ]
    },
    {
     "name": "stdout",
     "output_type": "stream",
     "text": [
      "trained ended after step 200 with reward -5.88 (spec: None)\n"
     ]
    },
    {
     "name": "stderr",
     "output_type": "stream",
     "text": [
      "dqn:  35%|███▍      | 20925/60000 [01:07<02:04, 314.40it/s]"
     ]
    },
    {
     "name": "stdout",
     "output_type": "stream",
     "text": [
      "trained ended after step 200 with reward -7.91 (spec: None)\n"
     ]
    },
    {
     "name": "stderr",
     "output_type": "stream",
     "text": [
      "dqn:  35%|███▌      | 21161/60000 [01:08<02:01, 320.16it/s]"
     ]
    },
    {
     "name": "stdout",
     "output_type": "stream",
     "text": [
      "trained ended after step 200 with reward -9.93 (spec: None)\n"
     ]
    },
    {
     "name": "stderr",
     "output_type": "stream",
     "text": [
      "dqn:  36%|███▌      | 21356/60000 [01:08<02:14, 287.52it/s]"
     ]
    },
    {
     "name": "stdout",
     "output_type": "stream",
     "text": [
      "trained ended after step 200 with reward -11.89 (spec: None)\n"
     ]
    },
    {
     "name": "stderr",
     "output_type": "stream",
     "text": [
      "dqn:  36%|███▌      | 21543/60000 [01:09<02:42, 236.89it/s]"
     ]
    },
    {
     "name": "stdout",
     "output_type": "stream",
     "text": [
      "trained ended after step 200 with reward -13.92 (spec: None)\n"
     ]
    },
    {
     "name": "stderr",
     "output_type": "stream",
     "text": [
      "dqn:  36%|███▌      | 21748/60000 [01:10<02:43, 233.82it/s]"
     ]
    },
    {
     "name": "stdout",
     "output_type": "stream",
     "text": [
      "trained ended after step 200 with reward -15.97 (spec: None)\n"
     ]
    },
    {
     "name": "stderr",
     "output_type": "stream",
     "text": [
      "dqn:  37%|███▋      | 21940/60000 [01:11<02:10, 291.12it/s]"
     ]
    },
    {
     "name": "stdout",
     "output_type": "stream",
     "text": [
      "trained ended after step 200 with reward -18.15 (spec: None)\n"
     ]
    },
    {
     "name": "stderr",
     "output_type": "stream",
     "text": [
      "dqn:  37%|███▋      | 22163/60000 [01:11<02:01, 311.77it/s]"
     ]
    },
    {
     "name": "stdout",
     "output_type": "stream",
     "text": [
      "trained ended after step 200 with reward -20.21 (spec: None)\n"
     ]
    },
    {
     "name": "stderr",
     "output_type": "stream",
     "text": [
      "dqn:  37%|███▋      | 22373/60000 [01:12<01:57, 321.55it/s]"
     ]
    },
    {
     "name": "stdout",
     "output_type": "stream",
     "text": [
      "trained ended after step 200 with reward -22.29 (spec: None)\n"
     ]
    },
    {
     "name": "stderr",
     "output_type": "stream",
     "text": [
      "dqn:  38%|███▊      | 22575/60000 [01:13<02:20, 266.60it/s]"
     ]
    },
    {
     "name": "stdout",
     "output_type": "stream",
     "text": [
      "trained ended after step 200 with reward -24.32 (spec: None)\n"
     ]
    },
    {
     "name": "stderr",
     "output_type": "stream",
     "text": [
      "dqn:  38%|███▊      | 22716/60000 [01:13<01:54, 324.92it/s]"
     ]
    },
    {
     "name": "stdout",
     "output_type": "stream",
     "text": [
      "trained ended after step 200 with reward -26.37 (spec: None)\n"
     ]
    },
    {
     "name": "stderr",
     "output_type": "stream",
     "text": [
      "dqn:  38%|███▊      | 22952/60000 [01:14<01:57, 316.23it/s]"
     ]
    },
    {
     "name": "stdout",
     "output_type": "stream",
     "text": [
      "trained ended after step 200 with reward -28.72 (spec: None)\n"
     ]
    },
    {
     "name": "stderr",
     "output_type": "stream",
     "text": [
      "dqn:  39%|███▊      | 23175/60000 [01:15<02:02, 300.57it/s]"
     ]
    },
    {
     "name": "stdout",
     "output_type": "stream",
     "text": [
      "trained ended after step 200 with reward -30.70 (spec: None)\n"
     ]
    },
    {
     "name": "stderr",
     "output_type": "stream",
     "text": [
      "dqn:  39%|███▉      | 23364/60000 [01:16<02:10, 280.50it/s]"
     ]
    },
    {
     "name": "stdout",
     "output_type": "stream",
     "text": [
      "trained ended after step 200 with reward -32.73 (spec: None)\n"
     ]
    },
    {
     "name": "stderr",
     "output_type": "stream",
     "text": [
      "dqn:  39%|███▉      | 23532/60000 [01:16<01:57, 311.00it/s]"
     ]
    },
    {
     "name": "stdout",
     "output_type": "stream",
     "text": [
      "trained ended after step 200 with reward -34.83 (spec: None)\n"
     ]
    },
    {
     "name": "stderr",
     "output_type": "stream",
     "text": [
      "dqn:  40%|███▉      | 23764/60000 [01:17<01:55, 312.67it/s]"
     ]
    },
    {
     "name": "stdout",
     "output_type": "stream",
     "text": [
      "trained ended after step 200 with reward -36.82 (spec: None)\n"
     ]
    },
    {
     "name": "stderr",
     "output_type": "stream",
     "text": [
      "dqn:  40%|███▉      | 23970/60000 [01:18<01:54, 315.85it/s]"
     ]
    },
    {
     "name": "stdout",
     "output_type": "stream",
     "text": [
      "trained ended after step 200 with reward -38.94 (spec: None)\n"
     ]
    },
    {
     "name": "stderr",
     "output_type": "stream",
     "text": [
      "dqn:  40%|████      | 24158/60000 [01:18<02:13, 268.02it/s]"
     ]
    },
    {
     "name": "stdout",
     "output_type": "stream",
     "text": [
      "trained ended after step 200 with reward -41.06 (spec: None)\n"
     ]
    },
    {
     "name": "stderr",
     "output_type": "stream",
     "text": [
      "dqn:  41%|████      | 24364/60000 [01:19<02:28, 240.31it/s]"
     ]
    },
    {
     "name": "stdout",
     "output_type": "stream",
     "text": [
      "trained ended after step 200 with reward -43.16 (spec: None)\n"
     ]
    },
    {
     "name": "stderr",
     "output_type": "stream",
     "text": [
      "dqn:  41%|████      | 24550/60000 [01:20<03:03, 193.38it/s]"
     ]
    },
    {
     "name": "stdout",
     "output_type": "stream",
     "text": [
      "trained ended after step 200 with reward -45.27 (spec: None)\n"
     ]
    },
    {
     "name": "stderr",
     "output_type": "stream",
     "text": [
      "dqn:  41%|████      | 24731/60000 [01:21<02:05, 281.52it/s]"
     ]
    },
    {
     "name": "stdout",
     "output_type": "stream",
     "text": [
      "trained ended after step 200 with reward -47.36 (spec: None)\n"
     ]
    },
    {
     "name": "stderr",
     "output_type": "stream",
     "text": [
      "dqn:  42%|████▏     | 24973/60000 [01:22<02:00, 290.53it/s]"
     ]
    },
    {
     "name": "stdout",
     "output_type": "stream",
     "text": [
      "trained ended after step 200 with reward -49.44 (spec: None)\n"
     ]
    },
    {
     "name": "stderr",
     "output_type": "stream",
     "text": [
      "dqn:  42%|████▏     | 25177/60000 [01:22<02:06, 274.76it/s]"
     ]
    },
    {
     "name": "stdout",
     "output_type": "stream",
     "text": [
      "trained ended after step 200 with reward -51.36 (spec: None)\n"
     ]
    },
    {
     "name": "stderr",
     "output_type": "stream",
     "text": [
      "dqn:  42%|████▏     | 25366/60000 [01:23<02:00, 287.93it/s]"
     ]
    },
    {
     "name": "stdout",
     "output_type": "stream",
     "text": [
      "trained ended after step 200 with reward -53.68 (spec: None)\n"
     ]
    },
    {
     "name": "stderr",
     "output_type": "stream",
     "text": [
      "dqn:  43%|████▎     | 25577/60000 [01:24<01:57, 291.85it/s]"
     ]
    },
    {
     "name": "stdout",
     "output_type": "stream",
     "text": [
      "trained ended after step 200 with reward -55.83 (spec: None)\n"
     ]
    },
    {
     "name": "stderr",
     "output_type": "stream",
     "text": [
      "dqn:  43%|████▎     | 25777/60000 [01:24<01:59, 287.42it/s]"
     ]
    },
    {
     "name": "stdout",
     "output_type": "stream",
     "text": [
      "trained ended after step 200 with reward -58.13 (spec: None)\n"
     ]
    },
    {
     "name": "stderr",
     "output_type": "stream",
     "text": [
      "dqn:  43%|████▎     | 25963/60000 [01:25<02:02, 278.26it/s]"
     ]
    },
    {
     "name": "stdout",
     "output_type": "stream",
     "text": [
      "trained ended after step 200 with reward -60.09 (spec: None)\n"
     ]
    },
    {
     "name": "stderr",
     "output_type": "stream",
     "text": [
      "dqn:  44%|████▎     | 26192/60000 [01:26<01:48, 312.62it/s]"
     ]
    },
    {
     "name": "stdout",
     "output_type": "stream",
     "text": [
      "trained ended after step 200 with reward -62.04 (spec: None)\n"
     ]
    },
    {
     "name": "stderr",
     "output_type": "stream",
     "text": [
      "dqn:  44%|████▍     | 26388/60000 [01:27<01:48, 310.79it/s]"
     ]
    },
    {
     "name": "stdout",
     "output_type": "stream",
     "text": [
      "trained ended after step 200 with reward -64.15 (spec: None)\n"
     ]
    },
    {
     "name": "stderr",
     "output_type": "stream",
     "text": [
      "dqn:  44%|████▍     | 26578/60000 [01:27<01:55, 289.84it/s]"
     ]
    },
    {
     "name": "stdout",
     "output_type": "stream",
     "text": [
      "trained ended after step 200 with reward -66.12 (spec: None)\n"
     ]
    },
    {
     "name": "stderr",
     "output_type": "stream",
     "text": [
      "dqn:  45%|████▍     | 26758/60000 [01:28<02:12, 251.17it/s]"
     ]
    },
    {
     "name": "stdout",
     "output_type": "stream",
     "text": [
      "trained ended after step 200 with reward -68.12 (spec: None)\n"
     ]
    },
    {
     "name": "stderr",
     "output_type": "stream",
     "text": [
      "dqn:  45%|████▍     | 26996/60000 [01:29<01:59, 275.24it/s]"
     ]
    },
    {
     "name": "stdout",
     "output_type": "stream",
     "text": [
      "trained ended after step 200 with reward -70.10 (spec: None)\n"
     ]
    },
    {
     "name": "stderr",
     "output_type": "stream",
     "text": [
      "dqn:  45%|████▌     | 27158/60000 [01:29<02:04, 264.29it/s]"
     ]
    },
    {
     "name": "stdout",
     "output_type": "stream",
     "text": [
      "trained ended after step 200 with reward -72.25 (spec: None)\n"
     ]
    },
    {
     "name": "stderr",
     "output_type": "stream",
     "text": [
      "dqn:  46%|████▌     | 27361/60000 [01:30<01:48, 302.06it/s]"
     ]
    },
    {
     "name": "stdout",
     "output_type": "stream",
     "text": [
      "trained ended after step 200 with reward -74.31 (spec: None)\n"
     ]
    },
    {
     "name": "stderr",
     "output_type": "stream",
     "text": [
      "dqn:  46%|████▌     | 27568/60000 [01:31<01:52, 288.54it/s]"
     ]
    },
    {
     "name": "stdout",
     "output_type": "stream",
     "text": [
      "trained ended after step 200 with reward -76.44 (spec: None)\n"
     ]
    },
    {
     "name": "stderr",
     "output_type": "stream",
     "text": [
      "dqn:  46%|████▋     | 27773/60000 [01:32<02:10, 247.38it/s]"
     ]
    },
    {
     "name": "stdout",
     "output_type": "stream",
     "text": [
      "trained ended after step 200 with reward -78.47 (spec: None)\n"
     ]
    },
    {
     "name": "stderr",
     "output_type": "stream",
     "text": [
      "dqn:  47%|████▋     | 27983/60000 [01:32<01:58, 270.98it/s]"
     ]
    },
    {
     "name": "stdout",
     "output_type": "stream",
     "text": [
      "trained ended after step 200 with reward -80.57 (spec: None)\n"
     ]
    },
    {
     "name": "stderr",
     "output_type": "stream",
     "text": [
      "dqn:  47%|████▋     | 28183/60000 [01:33<01:54, 279.06it/s]"
     ]
    },
    {
     "name": "stdout",
     "output_type": "stream",
     "text": [
      "trained ended after step 200 with reward -82.57 (spec: None)\n"
     ]
    },
    {
     "name": "stderr",
     "output_type": "stream",
     "text": [
      "dqn:  47%|████▋     | 28387/60000 [01:34<01:37, 324.21it/s]"
     ]
    },
    {
     "name": "stdout",
     "output_type": "stream",
     "text": [
      "trained ended after step 200 with reward -84.53 (spec: None)\n"
     ]
    },
    {
     "name": "stderr",
     "output_type": "stream",
     "text": [
      "dqn:  48%|████▊     | 28584/60000 [01:34<01:43, 304.18it/s]"
     ]
    },
    {
     "name": "stdout",
     "output_type": "stream",
     "text": [
      "trained ended after step 200 with reward -86.52 (spec: None)\n"
     ]
    },
    {
     "name": "stderr",
     "output_type": "stream",
     "text": [
      "dqn:  48%|████▊     | 28778/60000 [01:35<01:49, 284.91it/s]"
     ]
    },
    {
     "name": "stdout",
     "output_type": "stream",
     "text": [
      "trained ended after step 200 with reward -88.61 (spec: None)\n"
     ]
    },
    {
     "name": "stderr",
     "output_type": "stream",
     "text": [
      "dqn:  48%|████▊     | 28968/60000 [01:36<02:19, 222.32it/s]"
     ]
    },
    {
     "name": "stdout",
     "output_type": "stream",
     "text": [
      "trained ended after step 200 with reward -90.62 (spec: None)\n"
     ]
    },
    {
     "name": "stderr",
     "output_type": "stream",
     "text": [
      "dqn:  49%|████▊     | 29184/60000 [01:37<01:47, 287.53it/s]"
     ]
    },
    {
     "name": "stdout",
     "output_type": "stream",
     "text": [
      "trained ended after step 200 with reward -92.72 (spec: None)\n"
     ]
    },
    {
     "name": "stderr",
     "output_type": "stream",
     "text": [
      "dqn:  49%|████▉     | 29374/60000 [01:37<01:45, 290.03it/s]"
     ]
    },
    {
     "name": "stdout",
     "output_type": "stream",
     "text": [
      "trained ended after step 200 with reward -94.83 (spec: None)\n"
     ]
    },
    {
     "name": "stderr",
     "output_type": "stream",
     "text": [
      "dqn:  49%|████▉     | 29580/60000 [01:38<01:58, 257.36it/s]"
     ]
    },
    {
     "name": "stdout",
     "output_type": "stream",
     "text": [
      "trained ended after step 200 with reward -96.91 (spec: None)\n"
     ]
    },
    {
     "name": "stderr",
     "output_type": "stream",
     "text": [
      "dqn:  50%|████▉     | 29784/60000 [01:39<01:44, 290.23it/s]"
     ]
    },
    {
     "name": "stdout",
     "output_type": "stream",
     "text": [
      "trained ended after step 200 with reward -99.00 (spec: None)\n"
     ]
    },
    {
     "name": "stderr",
     "output_type": "stream",
     "text": [
      "dqn:  50%|████▉     | 29975/60000 [01:39<01:35, 313.12it/s]"
     ]
    },
    {
     "name": "stdout",
     "output_type": "stream",
     "text": [
      "trained ended after step 200 with reward -101.06 (spec: None)\n"
     ]
    },
    {
     "name": "stderr",
     "output_type": "stream",
     "text": [
      "dqn:  50%|█████     | 30201/60000 [01:40<01:36, 307.30it/s]"
     ]
    },
    {
     "name": "stdout",
     "output_type": "stream",
     "text": [
      "trained ended after step 200 with reward -103.12 (spec: None)\n"
     ]
    },
    {
     "name": "stderr",
     "output_type": "stream",
     "text": [
      "dqn:  51%|█████     | 30401/60000 [01:41<01:55, 256.81it/s]"
     ]
    },
    {
     "name": "stdout",
     "output_type": "stream",
     "text": [
      "trained ended after step 200 with reward -105.19 (spec: None)\n"
     ]
    },
    {
     "name": "stderr",
     "output_type": "stream",
     "text": [
      "dqn:  51%|█████     | 30610/60000 [01:42<01:42, 286.83it/s]"
     ]
    },
    {
     "name": "stdout",
     "output_type": "stream",
     "text": [
      "trained ended after step 200 with reward -107.48 (spec: None)\n"
     ]
    },
    {
     "name": "stderr",
     "output_type": "stream",
     "text": [
      "dqn:  51%|█████▏    | 30799/60000 [01:43<01:36, 304.16it/s]"
     ]
    },
    {
     "name": "stdout",
     "output_type": "stream",
     "text": [
      "trained ended after step 200 with reward -109.47 (spec: None)\n"
     ]
    },
    {
     "name": "stderr",
     "output_type": "stream",
     "text": [
      "dqn:  52%|█████▏    | 31002/60000 [01:43<01:34, 306.80it/s]"
     ]
    },
    {
     "name": "stdout",
     "output_type": "stream",
     "text": [
      "trained ended after step 200 with reward -111.59 (spec: None)\n"
     ]
    },
    {
     "name": "stderr",
     "output_type": "stream",
     "text": [
      "dqn:  52%|█████▏    | 31175/60000 [01:44<01:45, 273.51it/s]"
     ]
    },
    {
     "name": "stdout",
     "output_type": "stream",
     "text": [
      "trained ended after step 200 with reward -113.68 (spec: None)\n"
     ]
    },
    {
     "name": "stderr",
     "output_type": "stream",
     "text": [
      "dqn:  52%|█████▏    | 31407/60000 [01:45<01:28, 321.57it/s]"
     ]
    },
    {
     "name": "stdout",
     "output_type": "stream",
     "text": [
      "trained ended after step 200 with reward -115.59 (spec: None)\n"
     ]
    },
    {
     "name": "stderr",
     "output_type": "stream",
     "text": [
      "dqn:  53%|█████▎    | 31593/60000 [01:45<01:42, 277.38it/s]"
     ]
    },
    {
     "name": "stdout",
     "output_type": "stream",
     "text": [
      "trained ended after step 200 with reward -117.58 (spec: None)\n"
     ]
    },
    {
     "name": "stderr",
     "output_type": "stream",
     "text": [
      "dqn:  53%|█████▎    | 31792/60000 [01:46<01:52, 250.04it/s]"
     ]
    },
    {
     "name": "stdout",
     "output_type": "stream",
     "text": [
      "trained ended after step 200 with reward -119.65 (spec: None)\n"
     ]
    },
    {
     "name": "stderr",
     "output_type": "stream",
     "text": [
      "dqn:  53%|█████▎    | 31978/60000 [01:47<01:38, 285.19it/s]"
     ]
    },
    {
     "name": "stdout",
     "output_type": "stream",
     "text": [
      "trained ended after step 200 with reward -121.61 (spec: None)\n"
     ]
    },
    {
     "name": "stderr",
     "output_type": "stream",
     "text": [
      "dqn:  54%|█████▎    | 32192/60000 [01:48<01:32, 301.25it/s]"
     ]
    },
    {
     "name": "stdout",
     "output_type": "stream",
     "text": [
      "trained ended after step 200 with reward -123.65 (spec: None)\n"
     ]
    },
    {
     "name": "stderr",
     "output_type": "stream",
     "text": [
      "dqn:  54%|█████▍    | 32394/60000 [01:48<01:52, 245.94it/s]"
     ]
    },
    {
     "name": "stdout",
     "output_type": "stream",
     "text": [
      "trained ended after step 200 with reward -125.82 (spec: None)\n"
     ]
    },
    {
     "name": "stderr",
     "output_type": "stream",
     "text": [
      "dqn:  54%|█████▍    | 32583/60000 [01:49<01:31, 299.86it/s]"
     ]
    },
    {
     "name": "stdout",
     "output_type": "stream",
     "text": [
      "trained ended after step 200 with reward -127.69 (spec: None)\n"
     ]
    },
    {
     "name": "stderr",
     "output_type": "stream",
     "text": [
      "dqn:  55%|█████▍    | 32805/60000 [01:50<01:28, 308.97it/s]"
     ]
    },
    {
     "name": "stdout",
     "output_type": "stream",
     "text": [
      "trained ended after step 200 with reward -129.68 (spec: None)\n"
     ]
    },
    {
     "name": "stderr",
     "output_type": "stream",
     "text": [
      "dqn:  55%|█████▌    | 33024/60000 [01:51<01:35, 281.60it/s]"
     ]
    },
    {
     "name": "stdout",
     "output_type": "stream",
     "text": [
      "trained ended after step 200 with reward -131.80 (spec: None)\n"
     ]
    },
    {
     "name": "stderr",
     "output_type": "stream",
     "text": [
      "dqn:  55%|█████▌    | 33210/60000 [01:51<01:35, 279.50it/s]"
     ]
    },
    {
     "name": "stdout",
     "output_type": "stream",
     "text": [
      "trained ended after step 200 with reward -133.86 (spec: None)\n"
     ]
    },
    {
     "name": "stderr",
     "output_type": "stream",
     "text": [
      "dqn:  56%|█████▌    | 33404/60000 [01:52<01:31, 291.81it/s]"
     ]
    },
    {
     "name": "stdout",
     "output_type": "stream",
     "text": [
      "trained ended after step 200 with reward -135.90 (spec: None)\n"
     ]
    },
    {
     "name": "stderr",
     "output_type": "stream",
     "text": [
      "dqn:  56%|█████▌    | 33619/60000 [01:53<01:26, 305.27it/s]"
     ]
    },
    {
     "name": "stdout",
     "output_type": "stream",
     "text": [
      "trained ended after step 200 with reward -137.84 (spec: None)\n"
     ]
    },
    {
     "name": "stderr",
     "output_type": "stream",
     "text": [
      "dqn:  56%|█████▋    | 33821/60000 [01:53<01:28, 297.39it/s]"
     ]
    },
    {
     "name": "stdout",
     "output_type": "stream",
     "text": [
      "trained ended after step 200 with reward -140.05 (spec: None)\n"
     ]
    },
    {
     "name": "stderr",
     "output_type": "stream",
     "text": [
      "dqn:  57%|█████▋    | 34024/60000 [01:54<01:26, 299.48it/s]"
     ]
    },
    {
     "name": "stdout",
     "output_type": "stream",
     "text": [
      "trained ended after step 200 with reward -141.95 (spec: None)\n"
     ]
    },
    {
     "name": "stderr",
     "output_type": "stream",
     "text": [
      "dqn:  57%|█████▋    | 34230/60000 [01:55<01:20, 322.03it/s]"
     ]
    },
    {
     "name": "stdout",
     "output_type": "stream",
     "text": [
      "trained ended after step 200 with reward -143.92 (spec: None)\n"
     ]
    },
    {
     "name": "stderr",
     "output_type": "stream",
     "text": [
      "dqn:  57%|█████▋    | 34415/60000 [01:55<01:29, 284.65it/s]"
     ]
    },
    {
     "name": "stdout",
     "output_type": "stream",
     "text": [
      "trained ended after step 200 with reward -145.85 (spec: None)\n"
     ]
    },
    {
     "name": "stderr",
     "output_type": "stream",
     "text": [
      "dqn:  58%|█████▊    | 34620/60000 [01:56<01:34, 269.66it/s]"
     ]
    },
    {
     "name": "stdout",
     "output_type": "stream",
     "text": [
      "trained ended after step 200 with reward -147.85 (spec: None)\n"
     ]
    },
    {
     "name": "stderr",
     "output_type": "stream",
     "text": [
      "dqn:  58%|█████▊    | 34802/60000 [01:57<01:31, 275.34it/s]"
     ]
    },
    {
     "name": "stdout",
     "output_type": "stream",
     "text": [
      "trained ended after step 200 with reward -149.84 (spec: None)\n"
     ]
    },
    {
     "name": "stderr",
     "output_type": "stream",
     "text": [
      "dqn:  58%|█████▊    | 35021/60000 [01:58<01:35, 261.15it/s]"
     ]
    },
    {
     "name": "stdout",
     "output_type": "stream",
     "text": [
      "trained ended after step 200 with reward -152.02 (spec: None)\n"
     ]
    },
    {
     "name": "stderr",
     "output_type": "stream",
     "text": [
      "dqn:  59%|█████▊    | 35208/60000 [01:58<01:31, 270.21it/s]"
     ]
    },
    {
     "name": "stdout",
     "output_type": "stream",
     "text": [
      "trained ended after step 200 with reward -153.99 (spec: None)\n"
     ]
    },
    {
     "name": "stderr",
     "output_type": "stream",
     "text": [
      "dqn:  59%|█████▉    | 35399/60000 [01:59<01:38, 249.45it/s]"
     ]
    },
    {
     "name": "stdout",
     "output_type": "stream",
     "text": [
      "trained ended after step 200 with reward -156.05 (spec: None)\n"
     ]
    },
    {
     "name": "stderr",
     "output_type": "stream",
     "text": [
      "dqn:  59%|█████▉    | 35616/60000 [02:00<01:39, 245.11it/s]"
     ]
    },
    {
     "name": "stdout",
     "output_type": "stream",
     "text": [
      "trained ended after step 200 with reward -158.08 (spec: None)\n"
     ]
    },
    {
     "name": "stderr",
     "output_type": "stream",
     "text": [
      "dqn:  60%|█████▉    | 35831/60000 [02:01<01:18, 309.31it/s]"
     ]
    },
    {
     "name": "stdout",
     "output_type": "stream",
     "text": [
      "trained ended after step 200 with reward -160.09 (spec: None)\n"
     ]
    },
    {
     "name": "stderr",
     "output_type": "stream",
     "text": [
      "dqn:  60%|██████    | 36034/60000 [02:01<01:11, 335.69it/s]"
     ]
    },
    {
     "name": "stdout",
     "output_type": "stream",
     "text": [
      "trained ended after step 200 with reward -162.09 (spec: None)\n"
     ]
    },
    {
     "name": "stderr",
     "output_type": "stream",
     "text": [
      "dqn:  60%|██████    | 36237/60000 [02:02<01:13, 325.46it/s]"
     ]
    },
    {
     "name": "stdout",
     "output_type": "stream",
     "text": [
      "trained ended after step 200 with reward -164.08 (spec: None)\n"
     ]
    },
    {
     "name": "stderr",
     "output_type": "stream",
     "text": [
      "dqn:  61%|██████    | 36433/60000 [02:03<01:23, 281.97it/s]"
     ]
    },
    {
     "name": "stdout",
     "output_type": "stream",
     "text": [
      "trained ended after step 200 with reward -166.12 (spec: None)\n"
     ]
    },
    {
     "name": "stderr",
     "output_type": "stream",
     "text": [
      "dqn:  61%|██████    | 36624/60000 [02:03<01:21, 286.15it/s]"
     ]
    },
    {
     "name": "stdout",
     "output_type": "stream",
     "text": [
      "trained ended after step 200 with reward -168.15 (spec: None)\n"
     ]
    },
    {
     "name": "stderr",
     "output_type": "stream",
     "text": [
      "dqn:  61%|██████▏   | 36841/60000 [02:04<01:24, 273.52it/s]"
     ]
    },
    {
     "name": "stdout",
     "output_type": "stream",
     "text": [
      "trained ended after step 200 with reward -170.25 (spec: None)\n"
     ]
    },
    {
     "name": "stderr",
     "output_type": "stream",
     "text": [
      "dqn:  62%|██████▏   | 37007/60000 [02:05<01:18, 292.68it/s]"
     ]
    },
    {
     "name": "stdout",
     "output_type": "stream",
     "text": [
      "trained ended after step 200 with reward -172.32 (spec: None)\n"
     ]
    },
    {
     "name": "stderr",
     "output_type": "stream",
     "text": [
      "dqn:  62%|██████▏   | 37235/60000 [02:05<01:10, 321.41it/s]"
     ]
    },
    {
     "name": "stdout",
     "output_type": "stream",
     "text": [
      "trained ended after step 200 with reward -174.46 (spec: None)\n"
     ]
    },
    {
     "name": "stderr",
     "output_type": "stream",
     "text": [
      "dqn:  62%|██████▏   | 37423/60000 [02:06<01:16, 295.18it/s]"
     ]
    },
    {
     "name": "stdout",
     "output_type": "stream",
     "text": [
      "trained ended after step 200 with reward -176.39 (spec: None)\n"
     ]
    },
    {
     "name": "stderr",
     "output_type": "stream",
     "text": [
      "dqn:  63%|██████▎   | 37642/60000 [02:07<01:14, 298.43it/s]"
     ]
    },
    {
     "name": "stdout",
     "output_type": "stream",
     "text": [
      "trained ended after step 200 with reward -178.28 (spec: None)\n"
     ]
    },
    {
     "name": "stderr",
     "output_type": "stream",
     "text": [
      "dqn:  63%|██████▎   | 37844/60000 [02:08<01:24, 261.75it/s]"
     ]
    },
    {
     "name": "stdout",
     "output_type": "stream",
     "text": [
      "trained ended after step 200 with reward -180.27 (spec: None)\n"
     ]
    },
    {
     "name": "stderr",
     "output_type": "stream",
     "text": [
      "dqn:  63%|██████▎   | 38036/60000 [02:08<01:12, 302.61it/s]"
     ]
    },
    {
     "name": "stdout",
     "output_type": "stream",
     "text": [
      "trained ended after step 200 with reward -182.39 (spec: None)\n"
     ]
    },
    {
     "name": "stderr",
     "output_type": "stream",
     "text": [
      "dqn:  64%|██████▍   | 38258/60000 [02:09<01:17, 279.57it/s]"
     ]
    },
    {
     "name": "stdout",
     "output_type": "stream",
     "text": [
      "trained ended after step 200 with reward -184.49 (spec: None)\n"
     ]
    },
    {
     "name": "stderr",
     "output_type": "stream",
     "text": [
      "dqn:  64%|██████▍   | 38420/60000 [02:10<01:12, 297.70it/s]"
     ]
    },
    {
     "name": "stdout",
     "output_type": "stream",
     "text": [
      "trained ended after step 200 with reward -186.65 (spec: None)\n"
     ]
    },
    {
     "name": "stderr",
     "output_type": "stream",
     "text": [
      "dqn:  64%|██████▍   | 38642/60000 [02:10<01:23, 257.18it/s]"
     ]
    },
    {
     "name": "stdout",
     "output_type": "stream",
     "text": [
      "trained ended after step 200 with reward -188.80 (spec: None)\n"
     ]
    },
    {
     "name": "stderr",
     "output_type": "stream",
     "text": [
      "dqn:  65%|██████▍   | 38839/60000 [02:11<01:18, 268.33it/s]"
     ]
    },
    {
     "name": "stdout",
     "output_type": "stream",
     "text": [
      "trained ended after step 200 with reward -190.90 (spec: None)\n"
     ]
    },
    {
     "name": "stderr",
     "output_type": "stream",
     "text": [
      "dqn:  65%|██████▌   | 39036/60000 [02:12<01:05, 320.64it/s]"
     ]
    },
    {
     "name": "stdout",
     "output_type": "stream",
     "text": [
      "trained ended after step 200 with reward -193.04 (spec: None)\n"
     ]
    },
    {
     "name": "stderr",
     "output_type": "stream",
     "text": [
      "dqn:  65%|██████▌   | 39234/60000 [02:12<01:05, 315.29it/s]"
     ]
    },
    {
     "name": "stdout",
     "output_type": "stream",
     "text": [
      "trained ended after step 200 with reward -195.18 (spec: None)\n"
     ]
    },
    {
     "name": "stderr",
     "output_type": "stream",
     "text": [
      "dqn:  66%|██████▌   | 39438/60000 [02:13<01:04, 317.59it/s]"
     ]
    },
    {
     "name": "stdout",
     "output_type": "stream",
     "text": [
      "trained ended after step 200 with reward -197.14 (spec: None)\n"
     ]
    },
    {
     "name": "stderr",
     "output_type": "stream",
     "text": [
      "dqn:  66%|██████▌   | 39637/60000 [02:14<01:14, 271.78it/s]"
     ]
    },
    {
     "name": "stdout",
     "output_type": "stream",
     "text": [
      "trained ended after step 200 with reward -199.08 (spec: None)\n"
     ]
    },
    {
     "name": "stderr",
     "output_type": "stream",
     "text": [
      "dqn:  66%|██████▋   | 39835/60000 [02:14<01:13, 272.95it/s]"
     ]
    },
    {
     "name": "stdout",
     "output_type": "stream",
     "text": [
      "trained ended after step 200 with reward -201.15 (spec: None)\n"
     ]
    },
    {
     "name": "stderr",
     "output_type": "stream",
     "text": [
      "dqn:  67%|██████▋   | 40061/60000 [02:15<01:12, 274.61it/s]"
     ]
    },
    {
     "name": "stdout",
     "output_type": "stream",
     "text": [
      "trained ended after step 200 with reward -203.15 (spec: None)\n"
     ]
    },
    {
     "name": "stderr",
     "output_type": "stream",
     "text": [
      "random:  69%|██████▉   | 41281/60000 [02:16<00:06, 2949.95it/s]"
     ]
    },
    {
     "name": "stdout",
     "output_type": "stream",
     "text": [
      "trained ended after step 200 with reward -205.26 (spec: None)\n",
      "trained ended after step 200 with reward -2.24 (spec: None)\n",
      "trained ended after step 200 with reward -4.36 (spec: None)\n",
      "trained ended after step 200 with reward -6.31 (spec: None)\n",
      "trained ended after step 200 with reward -8.62 (spec: None)\n",
      "trained ended after step 200 with reward -10.68 (spec: None)\n",
      "trained ended after step 200 with reward -12.57 (spec: None)\n",
      "trained ended after step 200 with reward -14.68 (spec: None)\n"
     ]
    },
    {
     "name": "stderr",
     "output_type": "stream",
     "text": [
      "random:  71%|███████   | 42544/60000 [02:16<00:03, 4619.31it/s]"
     ]
    },
    {
     "name": "stdout",
     "output_type": "stream",
     "text": [
      "trained ended after step 200 with reward -16.78 (spec: None)\n",
      "trained ended after step 200 with reward -19.24 (spec: None)\n",
      "trained ended after step 200 with reward -21.31 (spec: None)\n",
      "trained ended after step 200 with reward -23.64 (spec: None)\n",
      "trained ended after step 200 with reward -25.75 (spec: None)\n",
      "trained ended after step 200 with reward -27.94 (spec: None)\n",
      "trained ended after step 200 with reward -30.29 (spec: None)\n"
     ]
    },
    {
     "name": "stderr",
     "output_type": "stream",
     "text": [
      "random:  74%|███████▍  | 44564/60000 [02:16<00:02, 6028.65it/s]"
     ]
    },
    {
     "name": "stdout",
     "output_type": "stream",
     "text": [
      "trained ended after step 200 with reward -32.58 (spec: None)\n",
      "trained ended after step 200 with reward -34.64 (spec: None)\n",
      "trained ended after step 200 with reward -37.17 (spec: None)\n",
      "trained ended after step 200 with reward -39.61 (spec: None)\n",
      "trained ended after step 200 with reward -41.83 (spec: None)\n",
      "trained ended after step 200 with reward -44.16 (spec: None)\n",
      "trained ended after step 200 with reward -46.57 (spec: None)\n"
     ]
    },
    {
     "name": "stderr",
     "output_type": "stream",
     "text": [
      "random:  76%|███████▋  | 45895/60000 [02:17<00:02, 6319.69it/s]"
     ]
    },
    {
     "name": "stdout",
     "output_type": "stream",
     "text": [
      "trained ended after step 200 with reward -48.63 (spec: None)\n",
      "trained ended after step 200 with reward -50.85 (spec: None)\n",
      "trained ended after step 200 with reward -52.87 (spec: None)\n",
      "trained ended after step 200 with reward -54.68 (spec: None)\n",
      "trained ended after step 200 with reward -56.97 (spec: None)\n",
      "trained ended after step 200 with reward -59.16 (spec: None)\n",
      "trained ended after step 200 with reward -61.50 (spec: None)\n"
     ]
    },
    {
     "name": "stderr",
     "output_type": "stream",
     "text": [
      "random:  79%|███████▊  | 47198/60000 [02:17<00:02, 6390.18it/s]"
     ]
    },
    {
     "name": "stdout",
     "output_type": "stream",
     "text": [
      "trained ended after step 200 with reward -63.60 (spec: None)\n",
      "trained ended after step 200 with reward -65.96 (spec: None)\n",
      "trained ended after step 200 with reward -68.08 (spec: None)\n",
      "trained ended after step 200 with reward -70.41 (spec: None)\n",
      "trained ended after step 200 with reward -72.44 (spec: None)\n",
      "trained ended after step 200 with reward -74.42 (spec: None)\n"
     ]
    },
    {
     "name": "stderr",
     "output_type": "stream",
     "text": [
      "random:  81%|████████  | 48549/60000 [02:17<00:01, 6569.31it/s]"
     ]
    },
    {
     "name": "stdout",
     "output_type": "stream",
     "text": [
      "trained ended after step 200 with reward -76.60 (spec: None)\n",
      "trained ended after step 200 with reward -78.84 (spec: None)\n",
      "trained ended after step 200 with reward -81.12 (spec: None)\n",
      "trained ended after step 200 with reward -83.28 (spec: None)\n",
      "trained ended after step 200 with reward -85.18 (spec: None)\n",
      "trained ended after step 200 with reward -87.41 (spec: None)\n",
      "trained ended after step 200 with reward -89.85 (spec: None)\n"
     ]
    },
    {
     "name": "stderr",
     "output_type": "stream",
     "text": [
      "random:  83%|████████▎ | 49870/60000 [02:17<00:01, 6574.93it/s]"
     ]
    },
    {
     "name": "stdout",
     "output_type": "stream",
     "text": [
      "trained ended after step 200 with reward -92.22 (spec: None)\n",
      "trained ended after step 200 with reward -94.22 (spec: None)\n",
      "trained ended after step 200 with reward -96.25 (spec: None)\n",
      "trained ended after step 200 with reward -98.15 (spec: None)\n",
      "trained ended after step 200 with reward -100.63 (spec: None)\n",
      "trained ended after step 200 with reward -102.67 (spec: None)\n",
      "trained ended after step 200 with reward -105.08 (spec: None)\n"
     ]
    },
    {
     "name": "stderr",
     "output_type": "stream",
     "text": [
      "random:  85%|████████▌ | 51221/60000 [02:17<00:01, 6648.78it/s]"
     ]
    },
    {
     "name": "stdout",
     "output_type": "stream",
     "text": [
      "trained ended after step 200 with reward -107.16 (spec: None)\n",
      "trained ended after step 200 with reward -109.30 (spec: None)\n",
      "trained ended after step 200 with reward -111.34 (spec: None)\n",
      "trained ended after step 200 with reward -113.48 (spec: None)\n",
      "trained ended after step 200 with reward -115.62 (spec: None)\n",
      "trained ended after step 200 with reward -117.64 (spec: None)\n",
      "trained ended after step 200 with reward -119.70 (spec: None)\n",
      "trained ended after step 200 with reward -121.83 (spec: None)\n"
     ]
    },
    {
     "name": "stderr",
     "output_type": "stream",
     "text": [
      "random:  88%|████████▊ | 52579/60000 [02:18<00:01, 6630.26it/s]"
     ]
    },
    {
     "name": "stdout",
     "output_type": "stream",
     "text": [
      "trained ended after step 200 with reward -124.22 (spec: None)\n",
      "trained ended after step 200 with reward -126.36 (spec: None)\n",
      "trained ended after step 200 with reward -128.30 (spec: None)\n",
      "trained ended after step 200 with reward -130.48 (spec: None)\n",
      "trained ended after step 200 with reward -132.78 (spec: None)\n",
      "trained ended after step 200 with reward -134.76 (spec: None)\n",
      "trained ended after step 200 with reward -136.85 (spec: None)\n"
     ]
    },
    {
     "name": "stderr",
     "output_type": "stream",
     "text": [
      "random:  90%|████████▉ | 53929/60000 [02:18<00:00, 6656.59it/s]"
     ]
    },
    {
     "name": "stdout",
     "output_type": "stream",
     "text": [
      "trained ended after step 200 with reward -139.40 (spec: None)\n",
      "trained ended after step 200 with reward -141.42 (spec: None)\n",
      "trained ended after step 200 with reward -143.70 (spec: None)\n",
      "trained ended after step 200 with reward -145.61 (spec: None)\n",
      "trained ended after step 200 with reward -147.57 (spec: None)\n",
      "trained ended after step 200 with reward -149.78 (spec: None)\n",
      "trained ended after step 200 with reward -151.84 (spec: None)\n"
     ]
    },
    {
     "name": "stderr",
     "output_type": "stream",
     "text": [
      "random:  92%|█████████▏| 55246/60000 [02:18<00:00, 6481.09it/s]"
     ]
    },
    {
     "name": "stdout",
     "output_type": "stream",
     "text": [
      "trained ended after step 200 with reward -153.83 (spec: None)\n",
      "trained ended after step 200 with reward -156.01 (spec: None)\n",
      "trained ended after step 200 with reward -158.37 (spec: None)\n",
      "trained ended after step 200 with reward -160.64 (spec: None)\n",
      "trained ended after step 200 with reward -162.71 (spec: None)\n",
      "trained ended after step 200 with reward -165.01 (spec: None)\n",
      "trained ended after step 200 with reward -167.18 (spec: None)\n",
      "trained ended after step 200 with reward -169.26 (spec: None)\n"
     ]
    },
    {
     "name": "stderr",
     "output_type": "stream",
     "text": [
      "random:  95%|█████████▌| 57213/60000 [02:18<00:00, 6333.71it/s]"
     ]
    },
    {
     "name": "stdout",
     "output_type": "stream",
     "text": [
      "trained ended after step 200 with reward -171.48 (spec: None)\n",
      "trained ended after step 200 with reward -173.59 (spec: None)\n",
      "trained ended after step 200 with reward -175.88 (spec: None)\n",
      "trained ended after step 200 with reward -177.94 (spec: None)\n",
      "trained ended after step 200 with reward -180.03 (spec: None)\n",
      "trained ended after step 200 with reward -182.06 (spec: None)\n"
     ]
    },
    {
     "name": "stderr",
     "output_type": "stream",
     "text": [
      "random:  96%|█████████▋| 57848/60000 [02:18<00:00, 6158.83it/s]"
     ]
    },
    {
     "name": "stdout",
     "output_type": "stream",
     "text": [
      "trained ended after step 200 with reward -184.16 (spec: None)\n",
      "trained ended after step 200 with reward -186.28 (spec: None)\n",
      "trained ended after step 200 with reward -188.47 (spec: None)\n",
      "trained ended after step 200 with reward -190.80 (spec: None)\n",
      "trained ended after step 200 with reward -193.00 (spec: None)\n",
      "trained ended after step 200 with reward -195.23 (spec: None)\n",
      "trained ended after step 200 with reward -197.48 (spec: None)\n"
     ]
    },
    {
     "name": "stderr",
     "output_type": "stream",
     "text": [
      "random: 100%|█████████▉| 59873/60000 [02:19<00:00, 6498.55it/s]"
     ]
    },
    {
     "name": "stdout",
     "output_type": "stream",
     "text": [
      "trained ended after step 200 with reward -199.89 (spec: None)\n",
      "trained ended after step 200 with reward -202.09 (spec: None)\n",
      "trained ended after step 200 with reward -204.36 (spec: None)\n",
      "trained ended after step 200 with reward -206.54 (spec: None)\n",
      "trained ended after step 200 with reward -208.69 (spec: None)\n",
      "trained ended after step 200 with reward -211.00 (spec: None)\n",
      "trained ended after step 200 with reward -213.07 (spec: None)\n",
      "trained ended after step 200 with reward -215.04 (spec: None)\n"
     ]
    },
    {
     "name": "stderr",
     "output_type": "stream",
     "text": [
      "random: : 60300it [02:19, 432.97it/s]                          "
     ]
    },
    {
     "name": "stdout",
     "output_type": "stream",
     "text": [
      "trained ended after step 200 with reward -217.25 (spec: None)\n"
     ]
    },
    {
     "name": "stderr",
     "output_type": "stream",
     "text": [
      "\n"
     ]
    }
   ],
   "source": [
    "with tqdm(total=env_config[\"steps_before_truncation\"]*len(policies)*num_episodes) as pbar:\n",
    "    for policy_name, policy in policies.items():\n",
    "        pbar.set_description(policy_name)\n",
    "        actions = []\n",
    "        rewards = []\n",
    "        observations = []\n",
    "        for episode in range(num_episodes):\n",
    "            obs, info = env.reset(seed=episode)\n",
    "            observations.append((obs,info))\n",
    "            for episode_step in count():\n",
    "                pbar.update()\n",
    "                action = policy(obs=obs)\n",
    "                next_obs, reward, terminated, truncated, info = env.step(action)\n",
    "                actions.append(action)\n",
    "                rewards.append(float(reward))\n",
    "                observations.append((next_obs,info))\n",
    "                if terminated or truncated:\n",
    "                    print(f\"trained ended after step {episode_step} with reward {sum(rewards):.2f} (spec: {env.spec.reward_threshold})\")\n",
    "                    break\n",
    "                obs = next_obs\n",
    "        results[policy_name] = {\n",
    "            \"actions\": actions,\n",
    "            \"rewards\": rewards,\n",
    "            \"observations\": observations,\n",
    "        }\n"
   ]
  },
  {
   "cell_type": "code",
   "execution_count": 55,
   "metadata": {},
   "outputs": [
    {
     "data": {
      "application/vnd.jupyter.widget-view+json": {
       "model_id": "1db5d00bb11b458dac58e4beb203511f",
       "version_major": 2,
       "version_minor": 0
      },
      "image/png": "[encoded data removed]",
      "text/html": [
       "\n",
       "            <div style=\"display: inline-block;\">\n",
       "                <div class=\"jupyter-widgets widget-label\" style=\"text-align: center;\">\n",
       "                    Figure\n",
       "                </div>\n",
       "                <img src='data:image/png;base64,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' width=640.0/>\n",
       "            </div>\n",
       "        "
      ],
      "text/plain": [
       "Canvas(toolbar=Toolbar(toolitems=[('Home', 'Reset original view', 'home', 'home'), ('Back', 'Back to previous …"
      ]
     },
     "metadata": {},
     "output_type": "display_data"
    },
    {
     "data": {
      "application/vnd.jupyter.widget-view+json": {
       "model_id": "a966e8eb077a44f49880990a290c1f84",
       "version_major": 2,
       "version_minor": 0
      },
      "image/png": "[encoded data removed]",
      "text/html": [
       "\n",
       "            <div style=\"display: inline-block;\">\n",
       "                <div class=\"jupyter-widgets widget-label\" style=\"text-align: center;\">\n",
       "                    Figure\n",
       "                </div>\n",
       "                <img src='data:image/png;base64,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' width=640.0/>\n",
       "            </div>\n",
       "        "
      ],
      "text/plain": [
       "Canvas(toolbar=Toolbar(toolitems=[('Home', 'Reset original view', 'home', 'home'), ('Back', 'Back to previous …"
      ]
     },
     "metadata": {},
     "output_type": "display_data"
    },
    {
     "data": {
      "application/vnd.jupyter.widget-view+json": {
       "model_id": "b58139cb5a1443bea1ffaac6fdde91cd",
       "version_major": 2,
       "version_minor": 0
      },
      "image/png": "[encoded data removed]",
      "text/html": [
       "\n",
       "            <div style=\"display: inline-block;\">\n",
       "                <div class=\"jupyter-widgets widget-label\" style=\"text-align: center;\">\n",
       "                    Figure\n",
       "                </div>\n",
       "                <img src='data:image/png;base64,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' width=640.0/>\n",
       "            </div>\n",
       "        "
      ],
      "text/plain": [
       "Canvas(toolbar=Toolbar(toolitems=[('Home', 'Reset original view', 'home', 'home'), ('Back', 'Back to previous …"
      ]
     },
     "metadata": {},
     "output_type": "display_data"
    }
   ],
   "source": [
    "from keras.utils.np_utils import to_categorical\n",
    "for policy_name, stats in results.items():\n",
    "    plt.figure()\n",
    "    plt.title(policy_name)\n",
    "    plt.imshow(to_categorical(stats[\"actions\"], num_classes=env.action_space.n), interpolation=\"nearest\", aspect=\"auto\")\n",
    "    plt.show()"
   ]
  },
  {
   "cell_type": "code",
   "execution_count": 56,
   "metadata": {},
   "outputs": [
    {
     "data": {
      "application/vnd.jupyter.widget-view+json": {
       "model_id": "01279ef3f5584f3593931ad32b577fd6",
       "version_major": 2,
       "version_minor": 0
      },
      "image/png": "[encoded data removed]",
      "text/html": [
       "\n",
       "            <div style=\"display: inline-block;\">\n",
       "                <div class=\"jupyter-widgets widget-label\" style=\"text-align: center;\">\n",
       "                    Figure\n",
       "                </div>\n",
       "                <img src='data:image/png;base64,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' width=640.0/>\n",
       "            </div>\n",
       "        "
      ],
      "text/plain": [
       "Canvas(toolbar=Toolbar(toolitems=[('Home', 'Reset original view', 'home', 'home'), ('Back', 'Back to previous …"
      ]
     },
     "metadata": {},
     "output_type": "display_data"
    }
   ],
   "source": [
    "fig, axs = plt.subplots(2)\n",
    "plt.subplots_adjust(\n",
    "    left=0.1,\n",
    "    bottom=0.1,\n",
    "    right=0.9,\n",
    "    top=0.88,\n",
    "    # wspace=0.4,\n",
    "    hspace=0.4,\n",
    ")\n",
    "fig.suptitle(\"Rewards\")\n",
    "\n",
    "axs[0].set_title(\"stepwise\")\n",
    "for policy_name, stats in results.items():\n",
    "    axs[0].plot(stats[\"rewards\"], label=policy_name, alpha=0.75)\n",
    "axs[0].legend()\n",
    "\n",
    "\n",
    "axs[1].set_title(\"cumulative\")\n",
    "for policy_name, stats in results.items():\n",
    "    axs[1].plot(np.cumsum(stats[\"rewards\"]), label=policy_name, alpha=0.75)\n",
    "axs[1].legend()\n",
    "\n",
    "plt.show()"
   ]
  },
  {
   "cell_type": "code",
   "execution_count": 57,
   "metadata": {},
   "outputs": [
    {
     "data": {
      "application/vnd.jupyter.widget-view+json": {
       "model_id": "34e3a460758f426f91bb0f90ed8fefa1",
       "version_major": 2,
       "version_minor": 0
      },
      "image/png": "[encoded data removed]",
      "text/html": [
       "\n",
       "            <div style=\"display: inline-block;\">\n",
       "                <div class=\"jupyter-widgets widget-label\" style=\"text-align: center;\">\n",
       "                    Figure\n",
       "                </div>\n",
       "                <img src='data:image/png;base64,iVBORw0KGgoAAAANSUhEUgAAAoAAAAHgCAYAAAA10dzkAAAAOXRFWHRTb2Z0d2FyZQBNYXRwbG90bGliIHZlcnNpb24zLjYuMiwgaHR0cHM6Ly9tYXRwbG90bGliLm9yZy8o6BhiAAAACXBIWXMAAA9hAAAPYQGoP6dpAACc9klEQVR4nOzdd3hcxbn48e+uellJq7Ja9V5tuchVNsa4YmN6v5Q4pFwIhBAgIXF+yYUUrhNaCoSEUHMJIXQD7hj3bstFttV7L6uyq1525/eH4w3C3ZK1Ku/neeaBPWd2z3vWI82rOWfmaACFEEIIIYQYM7SODkAIIYQQQgwtSQCFEEIIIcYYSQCFEEIIIcYYSQCFEEIIIcYYSQCFEEIIIcYYSQCFEEIIIcYYSQCFEEIIIcYYSQCFEEIIIcYYSQCFEEIIIcYYSQCFEEIIIcYYSQCFEEIIIcYYSQCFEEIIIcYYSQCFEEIIIcYYSQCFEEIIIcYYSQCFEEIIIcYYSQCFEEIIIcYYSQCFEEIIIcYYSQCFEEIIIcYYSQCFEEIIIcYYSQCFEEIIIcYYSQCFEEIIIcYYSQCFEEIIIcYYSQCFEEIIIcYYSQCFEEIIIcYYSQCFEEIIIcYYSQCFEEIIIcYYSQCFEEIIIcYYSQCFEEIIIcYYSQCFEEIIIcYYSQCFEEIIIcYYSQCFEEIIIcYYSQCFEEIIIcYYSQCFEEIIIcYYSQCFEEIIIcYYSQCFGCbefPNNSkpKBvUzly9fjlKKqKioQf3cwVRSUsKbb77p6DDE10RFRaGUYvny5Y4ORQhxGUgCKEaV2NhY/vrXv1JUVERnZydms5mdO3fygx/8AHd3d0eHd9msWLGCG264wdFhDKmQkBCefPJJJk6c6OhQxoylS5fy5JNPOjqMQTGazkWIS6WkSBkN5ZprrlHt7e2qqalJ/eEPf1Df+c531IMPPqj++c9/qu7ubvXKK684PMZzlTfffFOVlJRc0ntbW1vVm2++edp2rVar3NzcHH5u5yolJSVnjP18ZcqUKUoppZYvX+7wcxitxc3NTWm1WvvrF198USmlHB7XYJTRdC5SpFxKcUaIUSA6Opp//etflJWVMX/+fGpra+37Xn75ZeLi4li2bJkDI3QMm81Gd3e3o8MQI4iTkxNarZbe3l5pO5fA09OTjo4OR4chxAVxeBYqRcpAy8svv6yUUiojI+O8daOios46cqSUUk8++aT99ZNPPqmUUiohIUG9/fbbqqWlRdXX16tf/epXClDh4eFq1apVymw2q5qaGvXYY4/1+7zly5crpZSKiorqt33u3LlKKaXmzp1r33amEcDHH39c7dq1S5lMJtXR0aEOHjyobrnlltNi/rpTI2pfP/7nn3+uioqKzvi97N69Wx04cKDftrvvvlsdPHhQdXR0qMbGRvXuu++q8PDw837Hp763pKQk9d577ymz2axMJpP6wx/+cNqI5NdHAPV6vXr22WdVVlaWam1tVWazWa1du1ZNmDDhtO/v6776b3rrrbfaY29oaFBvv/22Cg0NPS3WefPmqe3bt6u2tjbV3NysVq1apZKTk894PnFxcerNN99Uzc3NqqWlRb3xxhvKw8PjvN9HfHy8+vDDD1VNTY3q7OxUFRUV6t1331U+Pj6X9H1Pnz5drVmzRjU1Nam2tjZ19OhR9YMf/MC+f8uWLWrLli2nve/rbezUz8Ljjz+uHnnkEVVYWKj6+vrUxIkTT/s5efPNN8/4nZ/6N1y1atVpx3Nzc1MtLS3qr3/96zm/H6WUevHFF9Vdd92lcnNzVWdnpzp48KCaM2fOaXUnTZqk1q5dq8xms2ptbVWbNm1SM2bM6FfH2dlZ/c///I/Kz89XnZ2dymQyqR07dqiFCxee91zO9LN5tt8bb775pmptbVWxsbFqzZo1ymKxqE8++UQBSqPRqEceeUQdP35cdXZ2qtraWvXXv/5V+fn5XfLvOSlSBrPICKAYFa677jqKiorYs2fPZfn89957j5ycHH7605+ybNkyfvGLX9DU1MT999/P5s2b+clPfsLdd9/N888/z4EDB9ixY8egHPeRRx7hs88+45133sHV1ZU777yTDz/8kGXLlrF27VoA7rnnHl577TX279/P3/72NwCKiorOeh5vv/02U6dO5eDBg/btkZGRZGRk8KMf/ci+7Wc/+xm//vWvef/993nttdcICgri4YcfZvv27UyePBmz2Xze+N9//31KS0tZsWIFM2fO5JFHHkGv159zYkFsbCw33ngjH3zwASUlJQQHB3P//fezbds2UlNTqampIScnh1/84hf8+te/5pVXXrF/37t37wZOTn5566232L9/PytWrCA4OJhHHnmE2bNn94t9wYIFrFu3juLiYp566ik8PDx4+OGH2bVrF+np6ZSVlZ12PiUlJaxYsYL09HS++93vUl9fz09/+tOzno+LiwsbNmzAzc2NF198kdraWsLCwrj22mvx8/PDYrFc1Pe9cOFCVq9eTU1NDX/84x+pra0lJSWFa6+9lj/96U/n/Tc5k/vuuw93d3f+9re/0d3dTVNTE1pt/1vEX3nlFUJDQ1m8eDH33HNPv33/+Mc/eOKJJ9Dr9TQ3N9u3X3fddfj6+vKPf/zjvDHMnTuXO+64gz/96U90d3fz4IMPsn79eqZPn86JEycASE1NZceOHVgsFp555hl6e3u5//772bp1K3PnzmX//v0APPXUU6xYscL+c+Hj48PUqVNJT09n06ZN5zyXi+Xs7MyGDRvYuXMnP/rRj+yjf6+88grf/OY3efPNN/nTn/5ETEwM3//+95k8eTKzZ8+mr69vQMcVYjA4PAuVImUgRafTKaWU/S/v85VLGQH86giGVqtV5eXlymq1qieeeMK+3dfXV7W3t/cbzRroCKC7u3u/187OziorK0tt2rSp3/az3QP49ePrdDrV2dmpnn322X71fvSjHymr1aoiIiIUoCIjI1Vvb69asWJFv3rjxo1TPT09p23/ejn1vX19VOill15SSimVlpZm3/b1EUBXV1el0WhO+zfr7OxUP//5z+3bznYPoLOzs6qtrVVZWVn9RhuvueYapZRSTz31lH3boUOHVG1trdLr9fZtaWlpqq+vT7311lunnc9rr73W71gfffSRamhoOOd3MXHiRKWUOm3k9qvlQr9vrVarioqKVElJifL19T3r513sCGBLS4sKDAw878/J2e6bS0hIUEopdf/99/fbvmrVKlVcXHzen8lT0tPT7dsiIiJUR0eH+uijj+zbPv74Y9XV1aViYmLs24xGozKbzWrr1q32bYcPH1aff/75OY95tnO52BFApZT63//93351Z8+erZRS6r/+67/6bV+8ePEZt0uR4ogis4DFiOfj4wNAa2vrZTvGa6+9Zv9/m83GwYMH0Wq1vP766/btZrOZvLw8YmNjB+24XV1d9v/38/PD19eXHTt2kJ6efkmf19rayrp167j99tv7bb/jjjvYu3cvFRUVANx8881otVref/99AgIC7KW2tpaCggLmzZt3Qcf785//3O/1iy++CMA111xz1vf09PRwsl8GrVaLv78/bW1t5OXlXdB5T506leDgYF5++eV+97CtXbuWnJwc+72gRqORyZMn89Zbb/UbtTp27BhffPHFGWP861//2u/1jh07CAwMRKfTnTWeUyN3V199NR4eHmesc6Hf9+TJk4mNjeUPf/jDBY3AXqiPPvoIk8l0ye8vKChg79693H333fZter2epUuX8s4771zQZ+zevZtDhw7ZX1dUVPDpp59y9dVXo9Vq0Wq1LF68mFWrVvVbLqm2tpZ//vOfXHHFFfZ/h5aWFsaNG0d8fPwln9PF+Mtf/tLv9W233UZLSwtffPFFv3/PzMxMWltbL/jnR4jLSRJAMeKduoR2rk54oMrLy/u9NpvNdHZ20tjYeNp2vV4/aMddtmwZe/bsobOzk+bmZkwmEw8++CC+vr6X/Jnvvfee/ZIvnLzkOnXqVN577z17nYSEBLRaLYWFhZhMpn4lNTUVg8FwQccqKCjo97qoqAir1Up0dPRZ36PRaPjhD39Ifn4+3d3dNDY2YjKZmDhx4gWd96k1D/Py8k7bl5uba99/rno5OTkEBQXh6enZb/vX28GpxPFc/+alpaU8//zzfPe738VkMrF+/XoefPBB+x8ucOHfd1xcHADHjx8/95dwkQZj/cn/+7//Y/bs2URGRgInkyBXV1fefvvtC3r/19sKQH5+Pl5eXgQFBREUFISXl9dZ/72cnJyIiIgA4H/+53/w8/OjoKCArKwsnnnmGdLS0gZwdmfX29tLZWVlv20JCQn4+fnR0NBw2r+nTqe74J8fIS4nuQdQjHitra1UVVUxfvz4C6p/anTp675+z9NXWa3WC9oGJxOY8x3LycnpXCECcMUVV/DZZ5+xfft2HnzwQWpqaujt7eW+++7rN9JysT7//HPa29u5/fbb2bNnD7fffjtWq5UPPvjAXker1WKz2Vi6dOkZz7Otre2Sjn227+Orfvazn/Gb3/yG119/3X6vpc1m4w9/+MM5/42GwoX8m5/Jj370I9566y1uuOEGFi9ezJ/+9Cf7fZFVVVWD/n0rpc4Y09naXWdn50V9/pn861//4ve//z133303K1eu5J577uHAgQPk5+cP+LMv1o4dO4iLi7N/39/5znd49NFHeeCBB/qN2p/Jxf7Mdnd3n/YerVZLXV3dWX9OGxoaLuAshLi8JAEUo8Lq1au5//77mTlzJnv37j1n3VOjNn5+fv22X46nZXz1WF+dUHAhx7rlllvo6uri6quvpqenx779vvvuO63uhSRWp3R0dLB69Wpuu+02HnvsMe644w527NhBTU2NvU5RURFarZaSkpIzjsxcqISEBEpLS+2v4+PjcXJy6rft62699VY2b97Md77znX7b/fz8+l2mPNs5n/qek5KS2LJlS799SUlJ9v1frfd1ycnJNDQ0DOpyHsePH+f48eM8/fTTZGRksHv3bh544AF+8YtfXPD3fWpyz/jx4/nyyy/PWq+5ufmMtyIMtI2fq501NzezZs0a7r77bt555x1mz57ND3/4wwv+7ISEhNO2JSYm0t7ebk+Y2tvbz/rvZbVa7bcwnIrnrbfe4q233sLLy4vt27fz1FNP2RPAs53LYPx+KCoqYuHChezatavfbRxCDCdyCViMCs888wxtbW289tprZ7y8Ehsbyw9+8APg5IhhQ0MDV155Zb86Dz744KDHdarD/uqxtFot//3f/33e91qtVpRS/UYeoqKiuPHGG0+r297eflqHdS7vvfceYWFhfOc732HSpEn9Lv8CfPzxx/T19Z31SQn+/v4XdJyHHnqo3+uHH34YgHXr1p31PVar9bTRq1tvvZXw8PB+29rb24HTO+qDBw9SV1fHAw88gKurq337kiVLSE1NZc2aNcDJe8cOHz7M8uXL+11aHjduHIsXL7bPsh4onU532ujRsWPHsFqtuLm5ARf+fR86dIji4mJ++MMfnvNyeFFREcnJyQQGBtq3TZgwgdmzZw/oXE5952c79ttvv824ceN49tlnsVqt/Otf/7rgz541axaTJ0+2vw4PD+eGG25g48aN2Gw2bDYbGzdu5IYbbuiXjBkMBu666y527txpvw/46+2zvb2dwsJC+/d9rnMpKyujr69vQL8f3n//fZydnfnFL35x2j4nJ6cB3cIhxGCREUAxKhQXF3PXXXfZl2v5v//7P44fP46rqyuzZs3itttu46233rLXf+2111ixYgWvvvoqBw8e5MorryQxMXHQ48rOzmbPnj2sXLkSf39/mpqauPPOO3F2Pv+P3po1a3j88cdZv349//znPzEYDDz00EMUFhae9vizzMxMFi5cyKOPPkp1dTUlJSX2JTHOZO3atVgsFp577jn6+vr46KOP+u0vLi7m5z//Ob/97W+Jjo5m1apVtLa2EhMTw0033cTf/vY3nn/++fOeQ0xMDJ9++inr168nIyODe++9l3feeYesrKyzvmf16tU8+eSTvPHGG+zevZu0tDTuvvvu05a2KSoqorm5mQceeIDW1lba29vZt28fpaWl/OQnP+Gtt95i27ZtvPvuu/ZlYEpKSvj9739v/4wf//jHrFu3jj179vD666/bl4Exm8089dRT5z2/CzF//nxeeuklPvjgA/Lz83F2dubee+/FarXav/cL/b6VUnzve9/j888/58iRI7z55pvU1NSQnJzMuHHjWLJkCQBvvPEGjz32GBs2bOD111/HYDDwwAMPcOLEiX73Hl6szMxMAP70pz+xYcMGrFZrvz8e1qxZg8lk4vbbb2ft2rUXdanz2LFjbNiwod8yMEC/pPjnP/85ixYtYufOnbz88sv09fVx//334+bmxhNPPGGvl52dzdatW8nMzKSpqYmpU6dy66238tJLL533XCwWCx988AEPP/wwSimKioq49tprL+q+ve3bt/PXv/6Vn/3sZ0yaNImNGzfS29tLQkICt912G4888shpP3NCOILDpyJLkTJYJT4+Xr3yyiuquLhYdXV1KbPZrHbs2KEeeugh5erqaq/n7u6uXn31VdXc3KzMZrP617/+pQIDA8+6DExAQEC/45xaAPbrx9+yZYs6duxYv20xMTFq48aNqrOzU9XU1Kjf/OY3asGCBRe0DMx9992n8vLyVGdnp8rOzlbLly+3x/TVeomJiWrr1q2qvb1dKXX2haC/Wt5++22llFIbN2486/d50003qe3bt6vW1lbV2tqqsrOz1YsvvqgSEhLO+e9wKsbk5GT1/vvvK7PZrBobG9Wf/vSn8y4E7erqqp599llVVVWl2tvb1Y4dO9SMGTPOuLTJddddp44fP656enpOW6LjtttuU5mZmfaFgM+2EPT8+fPVjh07VHt7u2ppaVGffvrpWReC/no7ONf3e6pER0er1157TRUUFKiOjg5lMpnUl19+qebPn3/J3/esWbPUhg0b7IshHzlyRD300EP96tx1112qsLBQdXV1qUOHDqlFixadcyHor8dypmVPtFqt+uMf/6jq6uqU1Wo94zIqp5b6ufPOOy/451ap/ywEfaq9Z2ZmnrYUC5xcCHrdunXKYrGotrY29eWXX6qZM2f2q/Ozn/1M7d27VzU1Nan29naVnZ2tVqxYoZydnS/oXAICAtQHH3yg2traVGNjo/rLX/6iUlNTz7gMzJl+D5wq3/nOd9SBAwdUe3u7MpvN6ujRo+q3v/2tMhqNF/V7TYqUy1QcHoAUKVJGWTlbwiRl9JcXXnhBmc3mC3pCyqlyKgF0dOxSpIylIvcACiGEGBRubm7cc889fPTRR4Mys1gIcfnIPYBCCCEGJCgoiIULF3LrrbcSEBDAH//4R0eHJIQ4D0kAhRBCDEhqair//Oc/qaur4wc/+AFHjx51dEhCiPPQcPJasBBCCCGEGCPkHkAhhBBCiDFGEkAhhBBCiDFGEkAhhBBCiDFGJoEMUGhoqP3xQ0IIIYQYGXQ6HdXV1Y4Ow2EkARyA0NBQqqqqHB2GEEIIIS5BWFjYmE0CJQEcgFMjf2FhYTIKKIQQQowQOp2OqqqqMd13SwI4CFpbW8d0IxJCCCHEyCKTQIQQQgghxhhJAIUQQgghxhhJAIUQQgghxhi5B1AIIYQYAI1Gg5+fHzqdDo1G4+hwxjylFK2trbS0tKCUPO32bCQBFEIIIS5RUFAQ3/3ud0lOTnZ0KOJrcnNzefXVV2loaHB0KMOSBpD0+BLpdDosFgs+Pj4yC1gIIcYYZ2dnXn75Zdra2nj//fepr6/HarU6Oqwxz8nJCYPBwO233463tzcPPvggfX19/epI/y0jgEIIIcQlCQkJwd3dneeee478/HxHhyO+ori4mKamJn7+859jNBqprKx0dEjDjkwCEUIIIS6BVnuyC+3u7nZwJOJMTv27ODk5OTiS4UkSQCGEEEKIMWbMJ4APPvggJSUldHZ2snfvXqZNm+bokIQQQgghLqsxnQDefvvtvPDCC/zyl78kPT2do0ePsmHDBoKCghwdmhBCCCHEZTOmE8DHHnuMV199lbfeeoucnBweeOABOjo6+Na3vuXo0IQQQgghLpsxmwC6uLgwZcoUNm3aZN+mlGLTpk1kZGSc8T2urq7odLp+5XKYu2AWL77xF5Z/53bi4kJkYVEhhBCDasuWLbz44ou8+OKLtLS00NDQwK9+9Sv7/pKSEn7+85/zz3/+k7a2NiorK3nwwQf7fUZERASrVq2itbUVs9nMe++9h8FgGOpTEZdozCaAgYGBODs7U1dX1297XV0dRqPxjO9ZsWIFFovFXqqqqi5LbPOWLCMiJIybbrmHXz7zFE+/8BDXXjed6dMTiYsLwc/PS5JCIYQYppycnYe8XIrly5fT19fH9OnTeeSRR3jsscf4zne+Y9//4x//mKNHjzJ58mR++9vf8sc//pGFCxcCJ59+8umnn+Lv78/cuXNZtGgRsbGxvPfee4PyHYrLT9YBvAgrV67khRdesL/W6XSXJQn85xtv0HnnXSQlp+HnbSQpSU9YfDRdbRa62zvosLTS1d5JQ20jtbXNnDhRTkWFifb2rkGPRQghxIVzcnZmwXeXD/lxv3z171i/ttjx+VRUVPDoo48CkJ+fT1paGo8++iivvfYaALt27eJ3v/sdAAUFBcyePZtHH32UTZs2sWDBAtLS0oiJibGvsfeNb3yD7Oxspk6dysGDBwfx7MTlMGYTQJPJRF9fH8HBwf22BwcHU1tbe8b39PT00NPTc9ljy88p4ndP/pqY+GSWXHsrieMScHbR02btwMvLj+CgIJyctIR3dtHa2MSUGSl0d3TS1NhKeXkDRUU1FBfX0tEha1MJIYQ4s7179/Z7vWfPHh5//HH7+oZ79uw5bf8Pf/hDAFJSUqioqOi3wHJOTg7Nzc2kpKRIAjgCjNkEsLe3l8zMTBYsWMCnn34KnBzSXrBgAS+99JKDozuppDCX99/+G4sW3oC3jw+uXp6U1ZdhoRN/gx4/H3cigr0JCvcnyAX8TI0EGvyYNCkGgJqaZgoLqykqqqWiwoTNZnPwGQkhxOhm7evjy1f/7pDjCnExxmwCCPDCCy/w97//nYMHD7J//35++MMf4uXlxZtvvuno0OwaG+tZu+5D5sxeSGBgMIFOPvTWmNn1xWe4BfoQHBeDX3AwHp5uBOo9CPYLwVvThabTQkiInpAQPXPmjKOnp4/S0nqKimooKqqlsdHi6FMTQohRaaQkYzNmzOj3eubMmRQUFNgHC2bOnHna/pycHODkaF9ERATh4eH2UcCUlBT0ej3Z2dlDEL0YqDGdAL7//vsEBQXxq1/9CqPRyJEjR1iyZAn19fWODq0fi6WZNes+IDFxPNOnziEkJIJlIRHk5R/nyKYd9Nn6CE2KJzw1mRp/PQAebm54YcOprZFgP1e8vNxJTAwlMTEUALO5g9zcSgoKqqmqaqSr6/Jf2hZCCDF8REZG8vzzz/PKK6+Qnp7Oww8/zOOPP27fP3v2bH784x+zatUqFi1axG233cayZcsA2LRpE8eOHeOdd97hhz/8Ic7Ozrz88sts3bqVzMxMR52SuAhjOgEE+POf/8yf//xnR4dxQfLzj1NbW8XUKbOICI8hKXE8iQnjOHR4D8ePHaL8WDaBkeHETZ2MMgTRqXEBFyMVDZ30FdTj0deG0d+DqCgDvr6ezJiRyIwZiQA0NrZSVdVIY2Mrzc1tFBfXyqQSIYQYxf7v//4PDw8P9u/fj9Vq5Y9//CN/+9vf7Puff/55pk6dypNPPonFYuGxxx5j48aN9v033HADL774Itu3b8dms7F+/XoefvhhR5yKuARjPgEcaSyWZjZvWUN4WDSTJk4nIMDAlPSTCeGhw3uoK6/EVF6Ju7cX0ZMnEJoYj6unB66eUQBkV1azac8+fJz6SEkJJzw8kIAAnb18VXV1E0ePllBWVk9dXYsDzlYIIcTl0tvby6OPPnra+n6nWCwW7rjjjrO+v6KightvvPEyRScuN0kAR6jKqlIqq0pJSkxjxvQrMRhCWHL1zVTXVLB7z2ba21rJ3bGHvF37CIgIIyQhjpD4WALCQwkID6XDbKGovoHszDq6mnNxp5vgIB98fT0JDQ0gJERPaKg/oaH+wMkRwoMHCzh6tJTOTpldLIQQQoxkkgCOcHn5x6iprWRc6iTi41IIDYngumvv5NCh3eQXnEDZbJjKKjCVVVC4P5PI8amEj0vG09cHT18f++fYrFbqikrIO1FK4/rDuLk6MWFCNPHxoUREnBwlvPrqdBYtmkxWVimHDxdRU9NMb+/IuNlZCCGEEP8hCeAoYLE0s2fvFo6fOMS8udeg1weQMXMeen0A+w/sQCkFQKellbzd+yg8cIiA8FA8fXzw8NERGBWBh86bkMR4QhLj6e3qojI7j9zSCg4eKkGjbEycGEN6ehwhIXomTYph0qQYbDaFyWShstLEnj25mEwys1gIIUaCefPmnXN/TEzMEEUiHEUSwFGktdXM2vUfkpoykUkTZ5CcNAFPT2+2bF3br561t5f6kjL7a81ODUHRkehDQzDEROGh8yYmfSIx6ROxWa2UHT1Odm4+Bw8WEB4eyOzZKYSG+uPj44nB4IvB4MukSbGUlzdgNrdTXt5Abm6lLEQthBBCDFOSAI4yfX29ZB07iNnczNwrlxAZEUv65AwOHd5z1vcopagvKaO+pIz83fsIjoshNDkBb3897l5e9mSwpbae6rwCPlq1n77ubnx9vTAYfJk5M4nYWCPR0ScfAj5xYgzXXjuNsrIGsrPLyc2tpLW1c6i+AiGEEEKchySAo1RZeREHDu5g+rQrSRs/BWNwGIeP7KWmtvKc71NKUVtYTG1hMQDG+FhCk+IJiAjHz2jAz2ggeU4G9cWlVOXkU1hUQ0FBNUFBvoSE6NHrvUlMDCM01J/oaAPR0QauuWYq2dkV7N2bR01NE3191qH4CoQQQghxFpIAjmI5uVn09PYwc8ZVBAUZWbzoRpqaTezdt5WGhjM/7/jrTiWDrh4ehCbGE5IUjy7AH2N8LMb4WHq7u6kvLqXs2AmyskoB2LbtOL6+XqSkhJOaGklERCCpqRGkpkZgtdqorm6irKyeoqJaqqsb6emRiSRCCCHEUJIEcJQrKsqlrq6a1JRJJCaMw18fyNKrb+HY8UwKCrNpa7uwiRs9nZ2UHj1G6dFj6AIDCE9Jwhgfg4u7O2EpSYSlJNHZ2kZzdQ0VJ3Iw1zWwd28ee/fmERLizxVXpBIZGYS3tzsREYFERARyxRWpANTWNpOdXUFOToVMJBFCCCGGgCSAY0Bbm4X9B7ZzNGs/s2bOIzIyjglpU5mQNpWysiKOZu2nuaXxgj+v1dRIzo7d5O7cgz7USMT4VIL+PZPYIymB0KQEWhubaKqqoTI7l5qaJj74YCcAfn5eREUZSEgIJTw8EF9fT4xGPUajnvnzJ1Bfb+bTT/dSXd10ub4OIYQQYsyTBHAM6e7uYsu2dcTFJhEfl0JwcBhRUXFERcVRXVPB5i1rsFov/HKsUoqmqhqaqmpwcnbGzxhMSGIcxvhYdAH+6AL8iZowjpaaOiqyc2mqqqalpZ2WlhKOHi0BwNPTjaSkcJKTw4mPD8Fg8OW++xayffsJSkvraWgwy3OKhRBiCGzZsoUjR47w6KOPOjoUMQQkARyDiorzKCrOQ+8XwMQJ04mKiiM0JIJZGfPYtXszNtvFT9Kw9vXRWFlFY2UVebv3ERARTkhCHIGR4fiFBOMXEgxAS209BXsP0Fxz8h7Ejo5uDh8u4vDhIry83LnhhhkkJIQyf/4EAGw2xYYNhzhwoMC+nqEQQgghBkYSwDGsuaWRrdvXEREew/x5y4iNSSLEGMGx4wfJyz9xSYkgQG9XN7UFRdQWFOHm5Ul4ajKG6Ch0gf74GQ1Mu3EZHWYzVTn5VOUW0NN5comY9vYu3ntvBzNnJhMdbSA42A+dzoOlS6cwf/4ETpwo58SJcqqqGunu7h3Mr0IIIYQYU7SODkA4XkVlCVu2raW3twcPD0+mT7uSm264m4AAw4A/u7u9g6IDh9jzwSfseOd9KrPzsPb24enrS8LMacxd/l9Mu3EZYcmJOLu5YbXa2LUrm3fe2coLL6xi69ZjdHb24ObmQnp6HPfeO48nnriFb31rEbNnp6LXew/CNyCEEGOLp6cnf//732ltbaW6uprHHnus3/6goCA+++wzOjo6KC4u5q677qKkpIRHHnnEXkcpxbe//W0+/vhj2tvbyc/P57rrrhvqUxGXSEYABQDl5cV8UPMmcbHJTJo4A29vH+ZfdQ1btq3DZKoblGN0WlrJ3raTvF17McbHEj4uGV9DEPoQI/oQI0mzZ1J6JIvK7Dz7qOC2bcfZtu04sbFGZsxIwmDwxc/Pyz6TeOHCiVRXN1FaWk9OTgW1tc2yzqAQwqFcXIa+a73Y57I/++yzzJ07lxtuuIH6+nr+93//l/T0dI4cOQLAW2+9RWhoKPPmzaO3t5c//elPGAynDwo8+eSTPPHEE/z4xz/m4Ycf5p133iEqKorm5ubBOC1xGUkCKOx6e3vJzTtGWXkx1yy5BW9vH5YtvY2c3CyOHc+ks7N9UI5j7eujKjefqtx8PH19CI6NJiwlEU9fX+KnTyEmfSLVuQUUHTxsTwSLi2spLj5536CfnxdxcSGkpEQQGxtMaKg/oaH+zJqVjNVqo6Skjrq6FszmdvLzqzGbByduIYQ4HxcXZ372s9uG/Lj/+78fXHAS6OXlxbe//W3uueceNm/eDMDy5cuprDz5oICEhASuueYapk2bxsGDBwH49re/TW5u7mmf9dZbb/Gvf/0LgJ/97Gc88sgjTJ8+nQ0bNgzGaYnLSBJAcZrOznZWr32fGdOuJCYmkZTkCURFxbFl69pBGw08pcNsoeRwFqVHjxOaGE/E+BR8ggKJGJ9C+LhkWmrrqM4toKW2jvYWMwAtLe1kZhaSmVmIt7cHMTHBJCaGEhcXgoeHK/HxIcTHhwCwdKmiocFCdnY5xcV1VFU1YrPZBvUchBBiJImLi8PNzY19+/bZtzU3N5OXlwdASkoKvb29ZGZm2vfn5eWdcVQvKyvL/v8dHR2YzeYzjhSK4UcSQHFG3d1dbN+5kaKSPGZMuxKdzpcli29m67Z1VFaVDvrxlM1mHxUMCA8jblo6fkaD/fIwgMXUSN7OvbTU1tlnBLe1dXLsWCnHjp2MKSjIl5iYYPR6b0JC9ERFGTAYfDEY0rjqqjS6unrJy6tk7948amvlEoUQYnD19vbxv//7gUOO6wi9vf0n5Cml0GplesFIIAmgOKeqqjLWmD5gzhWLCQuNZP68Zezdt5X8ghOX7ZinlpPx9PXBGB9LUFQEuqBAfAIDmHbjMrra26nKzqMqN5+utv6XdxsazDQ0mO2vvb09iI0NJjk5nKgoA56ebkycGENKSgTvvrudqqpGh/3iFEKMTsP9d0pRURE9PT3MmDGDiooKAPz8/EhMTGTbtm3k5ubi4uLClClT7JeAExMT0ev1jgxbDDJJAMV5dXd3sXnLamZlzCcuNpmZM67Cau2jqDjvsh63w2yhOPMIxZlHcPXwIDFjGoaYaNy9vIiblk7UxDSyt+2ktrD4rJ/R1tZJVlYpWVmlaDSaf08cmURERCDLl89HKUVdXQt79uRy4kQ5VqtcHhZCjG7t7e28/vrrPPvsszQ2NlJfX8/TTz9tvz0mPz+fdevW8corr/C9732Pvr4+/vCHP9DR0eHgyMVgkgRQXBCbzcbOXZtQShEfl8IVsxdhNIZz4OBOenq6L/vxezo7Ob55O1rnXYQmJhCWnIBvsIEJi+aROvcK2hqbKD+efc5kUClFeXkD7767nSVL0klMDMPd3QWjUc9NN2Vw7bXTKS9vwGxup66uhfLyBhobW4f9X/NCCHGxfvzjH+Pt7c3nn39Oa2srzz//PL6+vvb99913H6+99hrbtm2jrq6On//85/z61792YMRisEkCKC7K7j2baW9vY+KEacTHpRAaGsnevVupqCwZkuPb+qxUZudSlZNHwsypRKaNw9nVxf60kci0cRxZ/wU9nV1n/YzOzm4++WQPAD4+nlxxRSopKRF4e7sTF2fsV1cpRWFhDZmZRdTVNdPSIjOKhRAjX3t7O9/4xjf4xje+Yd/23HPP2f+/rq7utDX9vp4AajSa0z5XLhOPHJIAiouilOLI0X1UVZcxe9YCfH30zJ+3jKLiXPbs3XpRzxIeaBz5ew5QsC8TLz9fDLHRxEyegJ/RwPSbrqVgXyb1xaXnfXycxdLB2rUHWbv2IAaDH+HhAeh0HkREBBEWFoC7uwsJCaEkJIQC0N3dS2NjK9u3nyAvr3IoTlUIIYQYdJIAikvS0FDL56vfY9LE6YxLnUxcbDJ6fSBbtq6lrc0yZHEom422pmbampqpLyll2vXX4Onry8TF87FZrbSaGqnOL6IqJw+b9dwLRNfXt1Bf39Jvm8Hgx9Sp8URFGQgI0OHm5kJoqD933jmH2tpmysoaaGy0UFnZSH19i9xDKIQQYkSQBFBcMqu1j8xDu6msLOWquUvx1wdy3bI7WL/hY5pbGoc8nrbGZna/9wkR41Psl4Z9gw34BhuITZ9IyeGjVObkYbuIJ4XU17ewdu3JWXBarZagIB8mT45jypQ4jEY9RuN/LndYrTZMJgv19Wbq61vIz68+LaEUQoiRKiYmxtEhiEEkCaAYsLr6alaveY95V11DQICBhQuuY+OmTzGbh36dve6ODgr3Z1J04BDuOh1B0RFET0zD3duL5CsyiJk8kYayCsz19dQUFF1UMmiz2aira2H9+ky2bz9OXFwIoaH+BAf7ERzsh6enm/3/IYr58ydQUFDDmjUHsFhk9pwQQojhQxJAMSjaO9rYuOlTrlt2J97eOq5bdieZh3aRk5t1/jdfBkopOi0WyrNOUHkil9CkBGKnTMLd24vw1CTCU5OInTIZU3kldUXFmOsasPZd+P2LHR3d/RagBvD19fr3otN+REYGkZgY+u8nlFzHzp3ZHDxYSFtb52U4WyGEEOLiSAIoBk1PTzdfbPqU2bMWYDCEMH3albi6unE064BD47JZ/z1zODcfQ0wUugB/IsYl46HzJmJcMhHjkkEp2ppbMNc3YCqroK649KKPYza3Yza3U1BQza5dEBzsx7XXTic8PIC5c8dzxRWpZGWVkpdXRX5+1XknqAghhBCXiySAYlBZWltYv/FjJk+aSdr4KUyaOIOY6AQ2b12HxeLYR68pm426ohLqikooyzpOQHgYgZHh+IeH4u7lhbe/Hm9/PWHJiTTX1FK4L5PmmtpLPl5dXQuvv76R1NRIZs1KJiwsgMmTY5k8OZaysnq2bj1OTU0T3d295/8wIYQQYhBJAigGnVKKQ4f30NnVQfrkDHx9/blmyS1kHTtIbl6WfbV5R+rt6qa2sNi+cLSbpyc+hkD8Q0OIGJ+CPsTItBuXYWkwkb/3AE2V1Zd8rOzscrKzy4mICGL8+EgmTowhKsrA8uXzATCZLKxde5CSkrpBOTchhBDifOSJzeKyyck5yqpP36G11YybmzvTpl7BNUtuRafzPf+bh1h3RwcNpeXk7d7Hjnfep+JELjabDZ+gQKZcu4TEjOn4Bgfh7Op6yceoqGhg3bpMXn11I8ePl9knhgQG+nD33Vdx1VVpeHt7DNYpCSGEEGclI4Dismpvb2XVZ/8kPi6Z9PRZBAQYuPH6uzl8ZB/HT2Q6Orwz6m7vIGf7LooOHCL5ipkY42OJnpRG9KQ0ALra2mmpraOlrp7u9g4aysovajZxY6OFjz7aDYCnpxvXXz+DpKQw+32CtbXNVFSYKCmpo66uBbNZnj4ihBi53nzzTfz8/LjpppscHYr4CkkAxWVns1nJLzhBZVUpc/79DOEp6Rn4+PiyZ++WYTsZoqezk2ObttJQVk54ajIePjrcvbxw9/bCGB+LMT4WAGtfH83VNZjKK2muqaPVdOFrIHZ0dPPeezuYMCGaKVPiiYgIJCwsgLCwAGbOTAKgtbWT8vIGamqaaW3toKmpjcpK02U5ZyGEEGODJIBiyHR0tLPhi1UkJo5n5vS5JMSn4uHuyY5dX9DT0+3o8M5IKUVNfhE1+UUAOLm44GsIJCA8DA8fHb7BBjx03gRGRhAYGQFAY2U19cWlNNfW0tZ4/okvSimOHi3h6NES9HpvQkP9SUgIJTjYj6AgX3Q6D8aNi2TcuEj7e1pa2jl0qIgjR4ppbZWlZYQQA+Pi4kJvr0xIG0vkHkAx5PLzj7Nt+3psNhvh4dFcs+QWIiNjHR3WBbH29tJUVUPBvoNkfbGFHf94jz0frKJg7wEaK6oACAgPJeXKWcy6/Wbmf/teJi9dRHhqEi7ubuf9/ObmNk6cKGfVqr288sp6Vq78gL//fTObNh3l+PEyiotr6e7uxc/Pi/nzJ/CDH1zHf/3XXKZNSyAoaPjdWymEGJ62bNnCiy++yO9//3saGhrYsGEDjz76KFlZWbS1tVFeXs6f//xnvLy87O9Zvnw5zc3NLF68mOzsbFpbW1m3bh1Go9FeR6vV8vzzz9Pc3IzJZOJ3v/sdGo2m37FdXV354x//SF1dHZ2dnezYsYOpU6fa98+dOxelFIsXL+bQoUN0dHTw5ZdfEhQUxJIlS8jOzsZsNvPOO+/g4SH3TV8qGQEUDlFWXsTa9R+yaMH1+Pr6M2/uNeTkZrH/wHZHh3bRWk2NtJoaKTmchS7An6CYKPTGYPyMwTi7uhIUHUlQdCSpV87GVFFJ/t4DFzQyCCcfL1daWkdp6X9mCDs7OzF+fBRTp8YTFhZgX3AawGLpoKammbKyekpL62loMNN3EfcnCiEGztnZZciP2dd38aN3y5cv5y9/+QuzZ88GYOnSpfzgBz+gpKSE2NhYXn75ZZ555hkeeugh+3s8PT350Y9+xL333ovNZuMf//gHzz33HPfccw8Ajz/+ON/85jf51re+RU5ODo8//jg33XQTmzdvtn/GM888wy233MLy5cspKyvjiSeeYMOGDcTHx9Pc/J/fjU899RTf//736ejo4P333+f999+nu7ubu+66C29vbz755BMefvhhnnnmmUv92sY0SQCFwzQ21rPqs3dITZlE2vgppCRPoLe3h8NH9jo6tEvW2thEa2MTABqNBl1gAEFRERhiotEF+hMYGUFARDj1JWWUHM7CUt9w0cfo67Ny5EgxR44UYzTqSUoKIzw8kJiYYHx8PPHx8SQpKQwAm01RUlJHdnY51dVN1Nebh8UyPEKMVs7OLtz9X/cP+XHfefeVi04CCwoK+MlPfmJ/nZ+fb///srIyfv7zn/PXv/61XwLo6urKAw88QHHxySW0XnrpJf7nf/7Hvv+HP/whK1eu5JNPPgHggQce4Oqrr7bv9/T05Hvf+x7f/OY3Wb9+PQDf/e53WbRoEd/+9rd57rnn7HV//vOfs3v3yQlzr7/+Or/97W+JjY2lpKQEgA8//JB58+ZJAniJJAEUDtXV1cmhw3tob29j5oy5TEibiq+Pnr37t9LVNbLvbVNKYWkwYWkwUXTwMF5+viRmTCcoOpLg2GiCY6NprqmlpaaOuuJSLA0XP7GjtraZ2tqTfzG7ublgMPgRERFIXJyR4GA/vLzciYszEhd38hJNb6+VsrJ6amqaaGlpp7Kykfr6lsE8bSHECJGZ2X8lhgULFrBixQqSk5Px8fHB2dkZDw8PPDw86Ow8+fu4vb3dnvwB1NTUYDAYAPDx8SE0NJR9+/bZ91utVg4ePGi/DBwXF4erqyu7du2y1+nr62P//v2kpKT0iycr6z+PEq2rq6O9vd2e/J3aNn369IF+DWOWJIBiWMjLP4ZGA9OnXUlUVBw+Pn6sXvveqBqtam8xc3jdF+gC/ImZMgljbDT6ECP6ECMx6RPp6ejEVFGJqaKKxopKersubmJMd3cvFRUNVFQ0sHt3DgB6vTdpadFERxswGvV4eLgSHx9CfHyI/X1FRbVs23acioqLH40UQvTX19fLO+++4pDjXqz29v8sMRUVFcXq1av5y1/+wv/7f/+PpqYmrrjiCt544w1cXV3tCeDXJ4oopdBqL890gq8eSyk1pMceCyQBFMNGbt4xGpsaWDj/OvT6AG68/m4OHNxJRWXJ+d88grQ2NpG1cTMFPjoCwsMIiAgjMCIcV08PQpMSCE1KwNrXh6m8ktqCokt6LvEpzc1tbN9+nO3/vrXSYPAjKioIg8EPvd6bmJhg+whhaWk9eXmVmEwWysoa6O3tG5wTFmKMuZRkzNGmTJmCVqvl8ccfty/Ndfvtt1/UZ1gsFqqrq5kxYwY7duwAwMnJiSlTpnDo0CEAioqK6O7uZvbs2ZSXlwPg7OzMtGnT+MMf/jB4JyTOSxJAMaw0NNSye89mrpxzNTqdL/PnLePQ4T0cOz48F40eiE5LK5XZuVRm56LRatGHGgmKjCAgIgxvf739MrGpopKWmjoqs3Pp6ewa0DHr61v6XfL18/NizpxxTJwYQ3S0gejok5dyurt72b07l+zsckwmy4COKYQY/goLC3F1deXhhx/m888/Z/bs2TzwwAMX/Tl//OMf+elPf0pBQQG5ubk89thj+Pn52fd3dHTwl7/8hWeffZampibKy8t54okn8PT05PXXXx/EMxLnIwmgGHbKyov44KM3mTF9LtFR8aRPzsDPz59duzdjs43OGa3KZqOpstr+zGHf4CCM8XFEpaUSGBFOYEQ4sVMnU5NXQO6ufVgHab2ulpZ2Pv98P7t25TBhQjSBgT6EhQXg5+fFvHlpXHnlOHbvzqGkpI7q6ia6u0feyIYQ4vyysrJ49NFH+clPfsLKlSvZvn07K1as4O23376oz3n++ecJCQnh73//OzabjTfeeINPPvkEX9//LFP105/+FK1Wy9tvv41Op+PgwYNcffXVtLS0DPJZiXPRAMPzMQwjgE6nw2Kx4OPjQ2trq6PDGZVSkicwbeocNBoNJSX5bN+50dEhDSnvAD1BUZEYYqLwNQQB0NXeTkttPZa6BmqLiulqG/xHxaWnxzFpUiwREYH9tptMFkpK6igrq6egoJqeHrlMLMauqKgofv3rX/OLX/yCsrIyR4cjvuZc/z7Sf8sIoBjmcnKzaGtrZd5V1xATk4ivr579B3ZQV1/t6NCGRFtjM22NzZQcOop/WAjj5889+Si6uBiMcTEkzppOV1s7TVXVNFZWYyqvuOjJI2dy6FARhw4VMX58FElJYYSFBaDXexMY6ENgoA/TpiXQ09NHZaWJyspGamqaKCqqlfsGhRBihJAEUAx7FZUl7N23lRnT5+LvH8TVi2/i0OG9ZOccGbWXhM+kqaqGne9+QGBEOF56PwIjw9GHGHH39rJPHrHZbNQVlZC/ez/dHR0DPubx42UcP37yL2cPDzciI4OIiQkmPj6EgAAdsbFGYmNPLjFjsXSwadNRiopq6OgYno/2E0IIcZIkgGJEyC84QXlFsf2+wCnpGSQmpLJx06e0tY2dSQq2Piv1JWVQUkbJoaM4u7riawjCPzyU4NgoPH19CUmIwxgfS0NpOcWHjl7SYtNn0tnZTV5eJXl5lQCEhPgTFhZAaKg/sbFGfH09ufnmDGw2RVZWKQ0NZg4fLqazU5JBIYQYbiQBFCNGV1cn27avpz55Amnjp6LT+XL1opvYvHUNzc0Xv4jyaNDX00NjZRWNlVUU7D2Af3goCTOm4msIwhAThSEmiqKDhyk6cGjQj11T00RNzcmnnjg7OzFnzjjGjYskIEDHpEkxAFx55Tiqq5soLT25+HR1dRPt7QObySyEEGLgJAEUI05ObhalZUUsvfpmdDpfFs6/lk8+fWdErr012Joqq9lX+Rleej9i0ycSkhhP3NTJhKck0VRdQ1Vuvn2m8WDq67OyZUsWW7ZkkZAQSmRkEKmpkfj7n1xrMCYm2F7XYumgtraFkpJa8vOraWoamzdgCyGEI0kCKEakzs521q7/kGVLb8fbW8eU9Az27d/u6LCGjfbmFo59uY2WugaSZs/AzcuTkIQ4QhLi6GprpzzrBOUnsrH1Df49lAUF1RQUVLNlyzGMRj/CwgIICwsgJMQfg8HX/rzixMRQFi+eTFlZA4WFNVRWmqivN8slYzFinFow2dlZutLh6NS/y6l/J9GftFoxYnV1dbL/wHbmz1tGctIE+vr6OJp1QEYCv6LieDa1hUV4++sxxsUSkhiHu7cXibOmEzctHUtDA6bySsqyTmCzDm4yaLPZqK4+edn3wIEC4OREkoAAHVFRBvtTSL66ALXNpqisNJGdXcH+/fnyi1sMa42NjQAkJydTVFTk4GjE1yUnJwNgMo3NW4TOR9YBHABZR2h4GJc6malTZgPQ3t7Kxi8+xdLa4tighimtsxMhCXHETpmMh87bvr3T0kr+3gPUl5ShhvD5y3q9NwkJocTGGgkK8sXf/ysxdfZQU9PE3r15VFSY6OrqGbK4hLhQ3/rWt5g7dy7vv/8+ubm59PXJUkiO5uzsTHJyMrfffjvbtm3jjTfeOK2O9N+SAA6INKDhIzoqnqlTZuPlpaOtzcL6jZ/Q3i7/JueiCwzAzxhMbPpE3Lw8Aejt7iZ7684BPX94IPR6b1JTI5k9OwUPD9d++7q6eikqquHAgQLKyxtkdFAMCxqNhvvuu4+rrrrK0aGIr9m6dStvvvnmGX9XSP8tCeCASAMaXtzdPVm29Fa8vX3o7u5izboPaG01OzqsYc/JxYWYyROIGJ+Ci5sbSinKs05QW1RMa2PTZblP8Hw0Gg2hof5MnZpASko4bm4u/fb39lqpr2/h+PEyCgtr5HnFwuE8PT0JDAxEo9E4OpQxTymFyWSi4xxroUr/LQnggEgDGn68vHTMn7cMf33gycvBmz7DYml2dFgjgkajYdy8OYQmJdi32axWqnLyqS0spqWufkgvD3+Vk5OWsLAAZs5MIibGiLt7/4SwocFMXl6Vff1BIYQ4F+m/JQEcEGlAw5O7uydLr74ZHx8/uru72Lp9PbW1lY4Oa8QwxEQRkhiPf6gRF3d3+/beri5KDh+jsbKKVlOjw+JzctKi13uTmBhGdLSB2FgjTk5a+/7c3ErWrDlIW1unw2IUQgxv0n+D9vxVBkdUVBSvvfYaxcXFdHR0UFhYyFNPPYWLS/+/5NPS0ti+fTudnZ2Ul5fz4x//+LTPuvXWW8nJyaGzs5OsrCyWLl16Wp1f/vKXVFdX09HRwRdffEF8fHy//Xq9nn/84x+YzWaam5t57bXX8PLyGtyTFg7R1dXB2vUf0tTUgJubO4sX3kBEeIyjwxox6kvKOLrhS7a8+Q6Zn6+ntrCYvp4eXNzdScyYRsZtNzLtxmUkXzGTkMR4nN3chjQ+q9WGyWRh9+4c/vnPbTz33Cd8+OEu8vKqsNkUycnhPPTQMpYtm8bs2akkJobh6Tm0MQohxHA3ZCOAV199NXfccQfvvvsuhYWFjB8/nldffZW3337bnuTpdDry8/PZtGkTK1euJC0tjTfeeIMf/vCHvPrqqwBkZGSwfft2VqxYwerVq7nrrrv4yU9+Qnp6OidOnADgiSeeYMWKFSxfvpySkhJ+/etfk5aWRmpqKt3dJ9cYW7t2LSEhIdx///24uLjw5ptvcuDAAe6+++4LPif5C2J4c3Z2YVbGfGKiE7BarRw5uo8T2Ydl8sAl0Gi1xKRPxD80BP9QI3z1PielaG1spq25GXN9A/XFpXS1tTskToPBjxtumEFoqH+/7UopDh0q4vDhYqqrm6QNCDHGSf/t4EvAP/rRj/je975HXFwcAA888ABPP/00RqOR3t6Ta7mtXLmSG2+8kZSUFAD+9a9/4eXlxXXXXWf/nD179nDkyBG+973vAVBdXc3zzz/P888/D4CPjw91dXV885vf5L333iM5OZmcnBymTp1KZmYmcDJBXbt2LeHh4dTU1FxQ/NKAhj+tVsuC+dcRGhIBQFFxLgcO7qS7Wx5Hdql0gQH4BRvw9PMlIDwUb399v/3W3r5/LylTSnf72W/Cvlw0Gg1paVEEBvrg5+dNcLAfBoOvfb/Z3MGePbnk51fR3Nw25PEJIRxP+m8HLwTt6+tLU1OT/fWp0b1TyR/Ahg0b+OlPf4qfnx8tLS1kZGTwwgsv9PucDRs2cOONNwIQExNDSEgImzZtsu+3WCzs27ePjIwM3nvvPTIyMmhubrYnfwCbNm3CZrMxY8YMVq1adXlOWAw5m83Gl5s/J238FCZNnEFcbDKREbFs3baO6poKR4c3IrWaGvvdA+jm6Yk+1IiHjw5jXCy6QH9S5mSQMieD7vYOagoKKT+WPWSjgkopsrJK+22LijIwY0YiMTFGfH09WbIknSVL0qmoMFFSUkdpaR1lZQ3YHDTJRQghhprDEsC4uDgefvhhfvSjH9m3GY1GSkpK+tWrq6uz72tpacFoNNq3fbWO0Wi01/vq+85Wp76+vt9+q9VKU1OTvc6ZuLq64vaV+510Ot0FnatwLJvNxtGsA9TX1zBjxlx8ffQsWngD+/ZvIzfvmKPDG/G6OzqoLSwGoPTIMeKnT8EQHYmnny9uXp5ET5pAaFIiFcezaSivxFLfMOQxlpXVU1ZWj4uLM3PmpBIVZSA8PJCIiJPlyivH2ReeLiysoaCgWpaWEUKMagNOAFeuXMlPf/rTc9ZJTk4mLy/P/jo0NJT169fzwQcf8Nprrw00hCGzYsUKnnrqKUeHIS5RTW0ln69+j4yZVxEXm8yM6XOJjIhl1+4vae+QS4GDQdlsFOw9QMHeA2i0WoJjo0nMmI67txdx09KJm5aOub6BpqoaLPUNNJRVDPoj6M6lt7ePzZuzANDpPEhNjcRo1JOQEIKXlzuxsUZiY40sXjyZ+nozFRUNVFY2UlXVSHNzG30OWBNRCCEuhwEngM8//zxvvfXWOesUFxfb/z8kJIQtW7awe/du/vu//7tfvdraWoKDg/ttO/W6trb2nHW+uv/r2069PnLkiL2OwWDo9xlOTk74+/v3e8/XrVy5st/lZ51OR1VV1dlPXAw7VmsfO3dtoq2tlbTxUwgJieDGG+/h0OE95OUdk0uAg0jZbNQWFlNfWkZIQhwBEeEYY6PxNQThawgCwNrXR9nR4xTuzzzPpw2+1tZO9u07+YepRqMhPDyQyMggUlLCCQnxx2DwxWDwZcqU/6wgUFJSx6ZNR6iubjrbxwohxIgwpJNAQkND2bJlC5mZmdxzzz2ndbanJoEEBwfbn6f49NNPc/PNN/ebBOLp6cn1119vf9+uXbvIysrqNwnkueeesydrOp2O+vr60yaBTJkyhUOHDgGwaNEi1q9fL5NAxhA/P39mZcwnKPDkZf/KylK+3LLawVGNbp6+PviHheATFERgZDju3ieXXrKYGqk8kUNVboHDFpv+Kk9PN2JigjEa9UREBBIaGoCLixNw8h7Do0dL2bz5KK2tstagECOR9N9DmACGhoaydetWysrKWL58OdavXPY5db+ej48PeXl5bNy4kd/97neMHz+eN954g0cffbTfMjDbtm3jpz/9KWvWrOHOO+/kZz/72WnLwPz0pz/ttwzMhAkTTlsGJjg4mAceeMC+DMzBgwdlGZgxKDFxPNOnzsHJyYljxzM5dHiPo0MaM2KnTCJ+Wrp9WZnO1jZKjxyjobTMYUvJnI2fnxeLFk0mNfXkjHKLpYPs7Arq6lpobm6jrq6Frq4eB0cphLgQ0n8PYQK4fPnys14q/uqzE9PS0vjzn//MtGnTMJlMvPjiizzzzDP96t9666385je/ITo6moKCAp544gnWrVvXr84vf/lL/vu//xs/Pz927tzJgw8+SEFBgX2/Xq/npZde4rrrrsNms/HRRx/xgx/8gPb2C+90pAGNHnGxSVwxexFKKdZv+Jj6hgsbBRYD567zJjg2mphJE3D19LBvN9fVYyqvpKGsAkuDyYER9peaGsnixZPx9fU8bV9bWxcFBdVUVJjo6OimqqpRnkgixDAk/bc8Cm5ApAGNLnOuWERsTBLt7a1s+GIVra3yTNmhpHV2IjwlCWN8HH7BQf0Wm+7r6aGuuJTK7FzMdUM/i/jrXF2dSU4OJywsgIAAHwICdPj5nf4kIaUU2dkV7Nhxgvp6syxALcQwIf23JIADIg1odHFxceHaa+7Ax8cPpRQlpfns27+dnp5uR4c25rh5ehIYFU5gZASBkeE4Of9nvlpbUzPNNXVU5+UPi2TwFFdXZ8LCAkhLi8bb2x2dzgOj8T+LZNtsisZGCzk5lRw8WCD3DwrhQNJ/SwI4INKARh8PDy/mzV1KUNDJiSE9Pd3s2PkFlVWljg1sDNM6OeETFEh4ahLG+Fi0Tk72facePVdbVEKnZfj9DBoMfsyfP4HYWKN9EgmcHBnMz68mK6uUnJwKGRkUYohJ/y0J4IBIAxq9goKMZMyYh14fAEBxSR4HM3fT2Tm8JiaMNc6urgRGRRAYEYYxIQ6tVgucTKiqcvIpPZJFh3n4LeCs0WjQ6TyIiAhkzpxxBAf72ff19Vmpq2uhqamNpqZWLJYOWlraqalpprNTRp+FuByk/5YEcECkAY1uWq2W6VPnkJSUBkBnZwebNn9OU9Pwuew4lrl6uGOMj8UQE41/WMjJjUpRW1yKpa6BupLSYTkqqNFoCA31Jzk5nClT4vHwcD1rXbO5g5qaJmpqmikpqaOiQtqeEINB+m9JAAdEGtDYYDSGMztjPt7ePthsNvbs3UJhUY6jwxJfERwbTfi4FALCQ/ttt5gaqc0voiI7F+tXnjE+nPj76wgO9kOv98bf3xudzpOAAB0BAac/atJi6aCsrIHCwmry86tl2RkhLpH035IADog0oLHD1dWNK+dcTVhoJABZxw5y+MheB0clvs4nKJDg2Gj8jAb0IUb7TOLe7m6qcwuoOJEzLC8Rn4mrqzNGo56QEH+iooJITAzDyUlr36+Uorm5ncZGC6Wl9VRVNcpahEJcIOm/JQEcEGlAY0/65JmkjZ8KQFFxLrv3bJbHxw1Trh4eBMdGEzVxHJ6+vvbtjZXVlB45RlNl1YiafOHi4kx4eADR0cGkpIQTFOR7xnqtrZ3U1DSTlVVCTU0zTU3yu0mIr5P+WxLAAZEGNDalJE9g2tQ5aDQaTKY6tu3YQFvbyBhVGos0Gg0BkeFEjEshKDLcPirY1d5OfUkZ9SVlNFVWOzjKi+fl5U5goA+hof5ERAQSEuJ/xrUIDxwoYNOmI/T09DkgSiGGJ+m/JQEcEGlAY1dUZBxXzF6Is7MLSimqq8vJOnZQniAyzLnrvIlNn4QxPgZn1/9Mvujr6aG9uYXujk4aSssxlVfS3dHhwEgvjaurM0FBvqSkRBAfH2KfbdzXZ+XYsTKKi2tpbe2kurqJ3l5JCMXYJf23JIADIg1obPPz82fqlCvs9wUC5ORmkXXsAF1dssjvcKZ1ciIw8uRC08b4WJxdXU6r01JTR0tdHR3mVtqbWzA3NGDrs57h04avSZNimTt3/Gkjg6cWpW5qaqO+voX8/GpMJovcPyjGDOm/JQEcEGlAAsBH58ekidOJiUkETt6c39hYT37BCQoKsx0cnTgfjVaLt94PDx8dPkGBGGKi8Nb79XsUHYDNZsNcW0djZTWNlVW0mpqwWUdGQhgREcTkybHo9d7o9d5nfI6xUorCwho+/XQf7e1dDohSiKEj/bckgAMiDUh8VVhYFJMmTCcwMNi+rag4l527NjkwKnEpPH198A8LxTtAj6ePDu8Af9y9Tr+/rrerC4upiebqGkwVVbQ1joyk0MfHk8BAH/z9dcTFGQkN9cfH52RS2NdnpaqqkeLiOoqLa6mubpKJTmLUkf5bEsABkQYkzsTL05ukpDTSxk8BZMmY0cLDx4fAiDACwkPxDw/tdw/hKTarlbriUqpy8miuqUONoMQpKMiX22+/gsBAn37bbTZFc3MbpaV15OVVUV9vxmyWJ+KIkU36b0kAB0QakDiXuLhkrpi1EICq6nL27NlMe0ebg6MSg8XZ1RVPXx98DUEYYqPRBfjj6uFu39/X00tTZRUNZRXUFBSNiJFBjUZDYKAPERGBxMYaiY01nvFJJe3tXezdm8f+/fkyu1iMSNJ/SwI4INKAxPmkjZ/CpIkz0Gq19Fn72Lx5NTW1lY4OS1wmfsEGwlKTMERH4uL+n2TQZrPR2mCirriMmoJCuttHzgxjnc4Do1FPamokoaH+BATo7AtS9/T0YTa309raSUODhcZGC2VlDdTXtzg2aCHOQ/pvSQAHRBqQuBA+PnrmXnk1/vpAbDYbm778TJLAUU6j0aALCiTo3+sPunp6/GenUjRWVlOWdRxT+chrB1qtltTUCObOHX/a5eJTzOYOCgqq2bTpCN3dw/MRfGJsk/5bEsABkQYkLpSzswtXzV1KWGgkvb097Nm7ldKyghH1JApxaTRaLZ4+OgIiwwlJiMPXEGTfZ66rpzq/iMrs3BF1v+ApQUG+eHm5o9d7Exjog8HgS3S0AWdnJwBaWto5dKgIi6WDlpZ2qqoa6RthS+mI0Un6b0kAB0QakLgYWq0TSxbfRFCQEYAGUy1fbPqU3l4ZIRlLPHx0RE+aQFhKIlrtyUuppvIKSg5l0VxT6+DoBs7V1ZnYWCOLF09Gr/fut89qtVFV1UhNTTNtbZ20tLRTWWmipUUmlYihJf23JIADIg1IXCyt1om08VOYOGEaGo2GhoZavtyymu5uWXdtrHH18CA8NYm4aelo/r3mYMWJXIozD4+oewTPxtXVmQkTYoiICMTT043gYD90Oo8z1u3rs9LS0k5Dg5nq6ib78jNCXC7Sf0sCOCDSgMSlCggwsHjhDbi6utHe3sqmzZ/T0iId3ljkHxZCxPhUgmOj7dvM9Q3UFZVSk184Ih9JdzZ6vTdRUQYCA33w9nYnIODks4y1Ws1pdXt7rZSXN5CfX0V5eQMNDWas1pF3mVwMT9J/SwI4INKAxED4+fkzb+41+Pj40dZmYdPmzzGbmx0dlnAQY3wsMZMnogvQ93sKSVd7Oy01dTRVVdNQWjGqEkI4OanEx8cDf38dwcF+hIcHkpAQiouLU796vb1WSkvraGxspbW1E4ulg/LyBiyW0fV9iKEh/bckgAMiDUgMlLu7J9ctux1PT2/6+npZu/4jmptNjg5LOJCbpyfBcdH/mTDytUfSmcoryN9zgLam0fvHglarxd/fm+TkcKKiDISHB+LufvrzmgFqa5vJyamkurqRwsKaIY5UjFTSf0sCOCDSgMRgcHf35Kq5Swg2hNLX18vxE4c5dvygPH5L4OTsjI8hEP/QEIJiovAJDLDvazU1UXEim8rsPAdGOHSMRj3h4YH4+Xnh7e2OweBHcLBfv8vHZWX1HDpURHZ2hcw2Fuck/bckgAMiDUgMFjc3d5ZefTO+vv4ANDTUsnnrGrq6Oh0cmRhOvPx8SZgxFUNMlH1k0FReQfb23XS1jr2nzLi7u5KWFkVERBApKeH25WcAWls7MZkstLZ2Ul7ewNGjJZIUCjvpvyUBHBBpQGIwaTQaoqLimTVzHi4urrS0NLFuw0f09HQ7OjQxzLi4uxExLoX4aemg0WDt7aP06DGaa2pprqoZk+tL+vl5kZ4ex5Qp8Xh6up22/9QzjSsqTFRUNFBV1YjJZJGJJWOU9N+SAA6INCBxOfj46Ll68Y14enjR1NTAF19+TleX3OguTucdoCdlziz0IUb7NnN9A9V5hTRVVtHeYnZgdI7j6emGv78Ovd4bvd6bKVPi8PHxPK1eX5+VvXvz2LHjhDzTeIyR/lsSwAGRBiQuFz8/f5Ysvhk3N3fa2ix8sekzLK0tjg5LDFPGhDiMsdEERkfaF5cG6DCbqSsqpfjQUaxjfMFxHx9PgoJ8iYwMIjraQFCQLx4ersDJ0cGysnry8qqoqWmiocFCZ6eMvI9m0n9LAjgg0oDE5eSj82PRwhvw9tbR3d3F9h0bqK6pcHRYYhhz13kTEh9LUFQkvkaDfYFpa18flgYTdUUlmMor6TBbHBzp8JCSEsHixZPx8/M6bV99vZny8gYqK01UVzfR0DA2R1NHK+m/JQEcEGlA4nJzd/dk4fxrCQgwoJTiyy2rqaoqc3RYYgRwdnUlKDqCuKnpePr69NvX2dpGbWExldm5dFrkd5de701SUhhxcSEEBOhOe4QdQHd3L/X1ZiorTXR29lBUVCNPKxnBpP+WBHBApAGJoeDi4sK8udcQEhIBQHFJHrt2b8ZmkxmN4sJ4B+gJCA/DGBfTf21BpajOL6Rg78FRt8D0QHh4uBEVFURERBDh4QEYjXpcXZ1Pq9fR0U1NTTMVFQ1kZ1fQ2NgqyzeNENJ/SwI4INKAxFDRap2YNnU2yUkTgJNJ4I6dXzg4KjESubi7oQ8xEjE+lYDwUACUUpjrGmisrKIqN39MLilzLk5OWvz9dUREBBIQ4IPB4EtcnNF+if0Um01RXd1ETU0TNTXNFBZW09oqSzkNR9J/SwI4INKAxFCLiU7kyjmLASgsymHP3q0yEigumY8hiORZM/ALCbZvs/b1UVtYTHVuAc01tQ6MbnhzdnbCYPAlJMSfxMQw4uKMODlp+9VRSlFT00x5eQNlZfUUFFTLsjPDhPTfkgAOiDQg4QhxccnMzliARqOhtdXMrt1fUldf7eiwxAjm5eeLX0gwYclJ+BkN9u0WUyO5O/Zgrm9AyaXN8/Lz8yIiIoiQED1RUQZCQ/377e/u7uXEiXL7wtTCcaT/lgRwQKQBCUcJC4tidsYCPDxOrm22e89mCgqzHRyVGA38w0IITUogODYGJ5eT973ZbDbMtXXUFBRRnV+ITZ6ocUG8vT2IjjYQHW0gJSWi3wLVLS3t5OZWUlPThMXSSVlZ/ZhcwNtRpP+WBHBApAEJR3JxcWX6tDnEx6WglGL7zo2UlhY4OiwxSrh6uJM0awaG2GicnP8zAaK3q4uagiIayippqqySpOUiJCeHEx0dzOTJsadNKqmra2HVqr3U1jY7KLqxRfpvSQAHRBqQGA4yZs4jMWEcSin27N0iI4Fi0Hn5+RIYFUFk2jg8dP9ZIqWtqZnK7FxaauuxNJgcGOHI4uLiTEJCKDExwQQE6AgN9cfNzQWApqY2ysrqMZksmEwWGhtbaWpqlUR7kEn/LQnggEgDEsOBRqPhitkLiY1JAk5ODtm1+0sHRyVGI41GQ1B0JAER4YQkxOLs6mrf12E2Y6qowlReSUtNHX09PQ6MdGTx9fXixhtnEhkZhFarOW1/b6+VtrZOGhos1Ne3YLF0UFvbQmOjhY4OeWLJpZD+WxLAAZEGJIYLjUbDhLSpTJwwHY1GQ3bOUTIP7ZI1ycRl4+zmRnhKEv5hRvShIf0uE9tsNhorqmisrKK5qoa2pmYZwboAbm4uxMeHEBjoQ2CgDwEBJ//r4uJ01vd0dHRTVdVISUkdeXlVNDVJX3QhpP+WBHBApAGJ4SYuLpkrZi0EwGxpZtfuL2lokKU8xOXl7OqKf1gIgZER+IeFnPbkEZSirbmFoxu+pL1FHql2MTQaDX5+Xnh7exAeHoCPjyf+/jqCg/3w8fE4bS1Ck8lCQUE1hw8Xy+PrzkH6b0kAB0QakBiO4uNSmJI+C3d3DwDy8o6x78B2GYERQ0YXGEBAeBgB4aH4hQTbRwetvX1U5xdSV1RMS129zCYeICcnLcHBfkRGBpGYGEZkZFC/tQg7OropK6vn+PFyCgqq6e3tc2C0w4v035IADog0IDFcubq6MW3KFcTFJdvXC8zJPUp+QTZWq3QCYuhoNBq8/P1IX3Y17l5e/fZ1WlqpKy6lOr+AtkaZ/TpQbm4uxMWFMHVq/BmTwWPHyigoqKa0tG7ML0gt/bckgAMiDUgMd5GRsczOWICr68n1x5qbG9m2Yz1ms3S2Ymg5OTujDwshOCYKQ0wULu7u/fZ3WlqpLynDVFFFY0Wlg6IcPZyctP9+SkkoaWnR+Pn9J/nu6emjpKSOgwcLqKlppr29y4GROob035IADog0IDESODu7EBebzKSJ03F396C7p5sNGz6muaXR0aGJMczZzY2A8FBCE+MJiAxHq/3PaFVrYxM1+UXUFZfQaZHfrQOl1WpJSAglISGExMQwdDqPfvtrapo5cqSYwsKaMTOJRPpvSQAHRBqQGEk8PLyYf9U1BAYGY7Vaycs/xuEj++jr63V0aGKMc3J2JiAijKDoSIzxsf0Xnu7uprmqBktjE40VlVjqTXI/6wCFhPiTnh5HQkLoaRNJmpraqK5upKqqkbq6FqqqGunpGX23jUj/LQnggEgDEiONm5s7V865mtCQCAD7vYG5ecekUxXDgou7G8GxMYQkxuFnDD5tlmtPRycF+w7SWFVNV2ubg6IcPTw83Jg0KYb4+BCiogz97hsEUEpRV9dCZmYRx4+X0dU1OtZ3lP5bEsABkQYkRqqI8Bhmz1qAm9vJ+7BKSvLZtWezTBARw4rWyQmfoED8w0Px9tcTFBlhfz4xnLxvsGB/JrUFRQ6McvRwc3MhPDyQsLAAjEY/QkL8+9072NtrZf36TI4cKRnxa4xK/y0J4IBIAxIjmYuLKynJE5g8aSYAnZ0dZB07QH7BiRH/y12MTlonJ6ImjscYF4uXv5/9vsHeri6aa+qoLSymoawCa6/c1jBYdDoPxo+PYvLkWIKCfIGTM4oLCqrJzq4gP7/KwRFeGum/JQEcEGlAYjSIjUli8qSZeHvrADCZ6vhyy2q6ujodHJkQZ+fk7EzUxPHETJ7Yb1RQKUVLTS15ew5gqW9wYISji0ajYfbsFKZPT+w3iaS5uY38/GrKyuopL28YMTOKpf+WBHBApAGJ0UKr1ZIQP47Jk2fi5upGa6uZ9Rs/pqOj3dGhCXFOWmcnfAICMMRGY0yI7bfWYH1JGbVFJTSUlGHtk9sbBoNGoyE62sC4cZGkp8eddo9mcXEtWVmltLV1YbF00NnZQ1vb8PtjUvpvSQAHRBqQGG18ffUsnH893t46uSQsRiQPHx/ipk4iNCnBvs3a20dNQRFVuXmY62RUcLC4ubkQExNMTEwwkZFBBAf7nZYQwslLxqWl9WRllVJR0UBHR7cDou1P+m9JAAdEGpAYjbw8vVm08Hp8ff0BaGuzsHPXJurqqx0cmRAXThcYQEhCLIaYKDx9fe3b25qaKTpwiMaqGvq6HZ+IjCZ+fl5kZCQTEOCDTueBTueBm5sLWm3/pLC6uomtW49RUOC43ynSf0sCOCDSgMRo5eTkTHxcChMnTMPDwxOr1cr2nRsoLy92dGhCXDT/8FDCU5IIiorsd7+gzWqltrCYsqwTtDU1o2Ske9BptVrCwwNIS4smKirIPpEEID+/msLCaoqL62hstAxpXNJ/SwI4INKAxGjn4uLC3DlLCAuLAuDI0X0czTrg4KiEuDTObm5ETRhHxLgUXD3cT9vfYbZQW1iMqayC1qZmmU18Geh0Hlx55XimTo3vt91i6aCuroWammb278+/7JNJpP+WBHBApAGJsUCj0TB92hySkyYAJxeP3r5jA6bGegdHJsSl0zo54RMYQOTE8QRFRfR7+sgpLbX1VOXmUZWT74AIRzeDwY+EhFBiY0/eP+js7GTf19nZw86d2VRUmKisvDxPfpH+WxLAAZEGJMaSpMQ0pk6djbOTM729PRw8tJv8/OOODkuIQeHq4Y5/eBjG2Gh8gw24eXna97W3mCnYe4D6kjIHRjh6OTs7ER4eSECAjilT4gkJ0dv3dXb2sGtXDrt2ZQ/qMaX/Bu35qww+V1dXDh8+jFKKiRMn9tuXlpbG9u3b6ezspLy8nB//+Menvf/WW28lJyeHzs5OsrKyWLp06Wl1fvnLX1JdXU1HRwdffPEF8fH9h5v1ej3/+Mc/MJvNNDc389prr+H1leUDhBD95eUf46OP/059fQ0uLq5kzLiKWRnz7YvxCjGS9XR2UVtQxJENX7Lt/95l+9v/ojjzCNa+Prz8fJm0ZCHzv30vM265nvDUZDTS7gdNX5+V0tI6MjMLefXVDaxefYDCwhq6u3vx8HCVVQguIzXU5Q9/+INas2aNUkqpiRMn2rfrdDpVU1Oj3n77bZWamqruuOMO1d7err773e/a62RkZKje3l71ox/9SCUnJ6tf/epXqru7W40bN85e54knnlDNzc3q+uuvV2lpaWrVqlWqqKhIubm52eusXbtWHT58WE2fPl3Nnj1b5efnq3feeeeizkOn0ymllNLpdEP+HUqR4qii1WrVxAnT1DfueUgtv/f7atnS25ReH+jwuKRIuRzFycVFJcyYqhZ8d7la/L1v28vsO29R4anJysnFxeExjtbi5KRVISH+SqfzGPTPlv4bxVAfcMmSJSo7O1ulpKSclgA+8MADqrGxUbl85Qdq5cqVKicnx/76X//6l/r888/7feaePXvUX/7yF/vr6upq9fjjj9tf+/j4qM7OTnXHHXcoQCUnJyullJoyZYq9ztVXX62sVqsKCQmRBiRFygWUsLAodecd31XL7/2+uvfuB9WM6Vcqd3dPh8clRcrlKFpnJ+UdoFdRE8er+d/+hj0RXHj/fWr6TdeplDmzVGBUhNJotQ6PVcr5i/TfqCEdwzYYDLz66qvce++9dHR0nLY/IyOD7du30/uVmVcbNmwgOTkZPz8/e51Nmzb1e9+GDRvIyMgAICYmhpCQkH51LBYL+/bts9fJyMigubmZzMxMe51NmzZhs9mYMWPGoJ2vEKNZVVUZn3/+LuXlRWi1WpKTJnD7rfdx5RWLcXZ2cXR4QgwqW5+VtsZmyo4eZ+c/3yd/9346zGa0Wi1+RgMR41NIv2Yx8+67h9S5V6APMeLkIj8HYvg6fdrTZfTWW2/x17/+lczMTKKiok7bbzQaKSkp6betrq7Ovq+lpQWj0Wjf9tU6RqPRXu+r7ztbnfr6/jMYrVYrTU1N9jpn4urqipubm/21Tqc75/kKMdq1d7SxZds6QozhTJs6B70+gJiYRHz9/Nm5axPNzSZHhyjEoOvp7KL06DFKjx7Dy88XXVAgemMwxvgYXNzdCU9NIjw1yf4EksaKSll4Wgw7Ax4BXLlyJUqpc5akpCQefvhhdDodK1euHIy4HWLFihVYLBZ7qaqqcnRIQgwLNbWVfLb6Xdas+4Curk789YFct+wOQozhjg5NiMuqvcVMbUEROTt2s+XNdzjw6Roayiro6ezCycWZ8NQkJl69gPn33U3KnFlnXG5GCEcYcEt8/vnneeutt85Zp7i4mPnz55ORkUH31/4COnjwIO+88w7f/OY3qa2tJTg4uN/+U69ra2vt/z1Tna/u//q2U6+PHDlir2MwGPp9hpOTE/7+/v3e83UrV67khRdesL/W6XSSBArxFSZTHZ+v+RezMhYQFhrJ3LlLWb/hI1pamhwdmhBDorm6lubqk/1IQEQ4gZHhBEaE4aX3I2J8CuHjkmmpraOuqIS6olK6z3A7lBBDZUhuNoyIiFDjxo2zl0WLFimllLr55ptVWFiYgv9MAnF2dra/7+mnnz5tEshnn33W77N37dp12iSQxx57rN/NnmeaBJKenm6vs2jRIpkEIkXKIBUnJ2e1bOltavm931d33/WASkpMc3hMUqQ4sgRGhqs5d9/ebybx4ge+pSInjFNaJyeHxzfWivTfKBx14KioqNNmAfv4+Kiamhr197//XaWmpqrbb79dtbW1nbYMTE9Pj3rsscdUUlKSevLJJ8+4DExTU5O67rrr1Pjx49Unn3xyxmVgMjMz1bRp09SsWbNUXl6eLAMjRcogFldXN3sSuPze76tpU69weExSpDi6ePj4qMgJ49TM2260J4ILvrtcTbx6gQpLTlROXxkAkXL5ivTfKBx14DMlgIBKS0tT27dvV52dnaqiokI98cQTp7331ltvVbm5uaqrq0sdO3ZMLV269LQ6v/zlL1VNTY3q7OxUX3zxhUpISOi3X6/Xq3feeUdZLBbV0tKiXn/9deXl5SUNSIqUQSwajUaNHzfFngRee83tytPz4n7OpEgZrSVh5jQ1/9v39hsVXPCd5Sp92WIVO3Wy8g0OcniMo7VI/42SR8ENgDxKRogLExeXzMzpc3F2dsFiaeHLzauxtLY4OiwhhgWfoEAMMVGEJifg/rUnUvV0dtFSW0dTdQ21BUX0dHY5KMrRRfpveRbwgEgDEuLCeXv7sHTJLXh6eNHb28PefdsoLslzdFhCDBsajQZdUCC+hiACwkLwDw/D2fU/awnabDYs9SYsDQ2YKqpobWiUSSSXSPpvSQAHRBqQEBfHw8OLq65cgsEQAkDmoT0cP5F5nncJMTZpnZzwCQxAH2okOC4Gn6DA/hWUoqm6loJ9BzDXNTgmyBFK+m9JAAdEGpAQF0+j0TB50gzSxk8FIDcvi337tzs4KiGGv1OLTgeEh+JrCMLbX2/f19rYRGNFFRZTIx1mCx1miyw8fQ7Sfw/xk0CEEEIpxaHDe/Hw8CI+LoXkpAm0t7dx/MQhR4cmxLDW3mK2LzwN4K7zJn5aOqGJ8egC/NEF+P+nslI0VtXQWF5JVV4+vV2SDIr+ZARwAOQvCCEGZvy4dKakzwLg2PFMjhzdh81mc3BUQowsrh7u+IeH4R8agrfeDw8fHW5envb9fT09lGWdoCzrhIwK/pv035IADog0ICEGbvKkmUxIO3k52GxuYuv29fLkECEGyMvPl8CoCEKTEuwjg309vVTnF1Cw9yDW3l4HR+hY0n9LAjgg0oCEGByJieOZPHEG7u4eWK1W9uzdTFGxzBAWYqA0Gg3BcTHETZ2Ml94PAGtfH+VZJ6grKaOtsQmb1erYIB1A+m9JAAdEGpAQg8fNzZ0r51xNaEgEAHl5xziQuQurtc/BkQkx8mk0GgKjIki+IgMPnbd9u7WvD1N5JVW5+TRWVKHGyC0Y0n9LAjgg0oCEGFwajYYJadOYOGEaGo2G7u4utu/YQHVNhaNDE2LUCI6NJiw1Cd+gQFzc3e3bO8xmGsoqMZVX0lhR6cAILz/pvyUBHBBpQEJcHhERscyYNgcvLx1Wq5XNW1ZLEijEZeAbHERIYjyhifE4u7r+Z4dSdLa2UVNQRGVOHl2tbY4L8jKQ/lsSwAGRBiTE5aPVOrF40Q0EG0IBqKou58SJQ9TUju6RCSEcwcXdjcDICPyMwYQmxePk/JVV4v69pEzh/oOjZsFp6b8lARwQaUBCXF5ubu6kT84gPi4FrVYLQIOplrKyIkrLCmlvl587IQabRqvF1d0dv5BgwlOTCQgPte/rtLRSnVdwckmZnh4HRjkw0n9LAjgg0oCEGBo+Oj9SUyaSkDDOnggClJcXsXf/djo72x0YnRCjm4ePjripkzEmxNl//nq7u6nJL6QyJ4+2xmYHR3jxpP+WBHBApAEJMbQ8PLyIiU4gIiIGY3AYAO3trew7sIOKimIHRyfE6Obk7ExQdGS/JWUAWk1N1OQXUltcMmLuFZT+WxLAAZEGJITj6P0CmHfVNeh0viil2LJ1LRWVJY4OS4hRT6PREBQdiTEhDmNsNGg0wMnHPJYfyyZ/z/5hv5yM9N+SAA6INCAhHMvZ2YXZsxYQHRUPwPYdGykpzXdwVEKMHe7eXgRFR2GMj0EfYgTA0mCiKief+tIyuts7HBzhmUn/LQnggEgDEsLxNBoNV125hMjIOHp7e1j12Tt0dMg9gUIMNUNMFOPnX2lfTkYphamsgtIjx2iuqXVwdP1J/y0J4IBIAxJieNBoNFyz5FYCA4Npbm5k7foP6esb2886FcIR3Dw9CU1OICgqEj+j4eRGpSg5nEXRwcPD5rFz0n9LAjgg0oCEGD78/Py5ZsmtuLi4YjY3sXPXJkyN9Y4OS4gxy9tfT8zkCYQknrxFo725haqcfMz1DXR3dNBpaUUpx6Qg0n9LAjgg0oCEGF4CA4OZd9U1eHp4AZCbl0XmoT0yGiiEAwXHRpNy5WxcPdz7bbf29dFYUUVzTS1VuQX0dXcPWUzSf0sCOCDSgIQYftzdPZk+bQ4x0QkAtLVZOJi5i7LyIgdHJsTY5eLuRlhSIv7hIXj6+uLm5Xna00ZMFZXk7NhLp8Vy2eOR/lsSwAGRBiTE8BUaEsGVVy7BzdUNgBPZhzmYucvBUQkhTvEJCiQgPJTQpAT7uoJKKWryiyg5dIT2FvNlO7b035IADog0ICGGN3d3D1KSJ5I2fgoajYaCwmz27d+O1drn6NCEEF+hC/AnIWMagRHhJzcoRVVuPqVHjl2WRFD6b0kAB0QakBAjw7jUyUydMhuAlpYmNnzxCV1dnQ6OSgjxdT6GIOKmTCIoOtK+rfx4Nrk79gzqcaT/Bu35qwghxMh2IvswX3z5GV1dnfj5+bNowfV4eXo7OiwhxNdY6hs4vO4L9n+yGlN5BTabDUu9ydFhjUoyAjgA8heEECOLj4+epVffjLu7B1arlbz8Y2QdO0h3d5ejQxNCnIGTiwsohbVvcG/bkP5bRgCFEGOIxdLM+o0fU1tXhZOTE6kpk7jpxnuJCI9xdGhCiDOw9vYOevInTpIRwAGQvyCEGLlCQyOZmj4bvT4AgPLyIvbu305npzxGTojRTvpvSQAHRBqQECObVuvElPRZpCRPQKPR0NvbQ+ahPeTlH3N0aEKIy0j6b7kELIQYw2w2KwcO7uDz1f+iwVSLi4srM2fMZcG8a3F2dnF0eEIIcdlIAiiEGPOaWxpZt/4j9u3fRp+1j/DwaJYuuYXYmCRHhyaEEJeFXAIeABlCFmL0CTaEMn/eMlz//QSRjo428gtOkHXsoMMeXC+EGFzSf8sIoBBC9FNXX83qte9z7Hgmvb09eHp6M2niDK6auxStVn5lCiFGBxkBHAD5C0KI0c3JyZmY6ARmzrgKJycn2tos7Nu/ncqqUkeHJoQYAOm/ZQRQCCHOymrto7Aoh81b19DX14u3tw/z5y0jMWGco0MTQogBkQRQCCHOo7q6nPc/fJPCohw0Gg0ZM+cxc8ZV6HS+jg5NCCEuibOjAxBCiJGgt7eHXbu/pK+vl+SkCSQljicpcTw5uVlkHtqN1SpPKxBCjBwyAiiEEBdh3/7tbPhiFbV1VQCkJE9g/rxlODnJ39NCiJFDJoEMgNxEKsTYFhYWxVVzl+Ls5ExTs4mCghNUVJbS3i6/D4QYzqT/lgRwQKQBCSGCDaHMu+oa3NzcAVBKUVFZQmbmbiytLY4NTghxRtJ/SwI4INKAhBAAnp5exMelEBYahcEQAkB3dxdfbllNQ0Otg6MTQnyd9N+SAA6INCAhxNcFBgYzc/pcAgIMWK1Wso4dIDvnKH19vY4OTQjxb9J/yyQQIYQYVCZTHes3fkJ1TQVOTk5MnjSTJYtvwsdH7+jQhBDCThJAIYQYZH19vXy5+XN27vqC7u4uAgIMXHftHYwfNwWt1snR4QkhhFwCHggZQhZCnI9O58usmfMwGsMBaGuzcPjIPsrKi2TtQCEcRPpvSQAHRBqQEOJCaDQakpMnMH5cOp4eXgB0dXVyIvsIx09kOjg6IcYe6b8lARwQaUBCiIvh7OzC+HHpJMSn4OnpDUB5eRE7d2+it1cmiQgxVKT/lnsAhRBiyPT19XLk6D4++uT/2LN3CzabjcjIOOZftQyNRuPo8IQQY4gkgEIIMcRsNhv5BSfYuOlTbDYbRmM4N91wD3q/AEeHJoQYIyQBFEIIB6mrq2L33s1093Sj0/ly5Zyr0Wrl17IQ4vKT3zRCCOFARUW5rPr0H3R3d+Hn58+EtGmODkkIMQZIAiiEEA7W1dXJvv3bAZg4YRozZ1wl6wUKIS4rSQCFEGIYKCnNJzcvC4CkxPFce83tGIJCHByVEGK0kgRQCCGGiX37t7N5yxq6e7rR6wO4evFNJCaOlxnCQohBJwmgEEIMIxWVJaz69B+Ulxeh1WrJmHEV1yy5Fb0+0NGhCSFGkSFPAK+55hr27t1LR0cHTU1NfPLJJ/32R0REsHr1atrb26mrq+OZZ57Byan/vTBz584lMzOTrq4uCgoKWL58+WnHefDBBykpKaGzs5O9e/cybVr/G6vd3Nx46aWXMJlMtLa28uGHH2IwGAb/hIUQ4iJ1dXWyZds6Mg/tpq+vl8DAYK6/9k4yZs6TewOFEINGDVW5+eabVWNjo7r//vtVQkKCSklJUbfddpt9v1arVVlZWWrjxo1q4sSJasmSJaq+vl49/fTT9jrR0dGqra1NPffccyo5OVk99NBDqre3Vy1evNhe5/bbb1ddXV3qm9/8pkpJSVGvvPKKampqUkFBQfY6L7/8siorK1Pz5s1T6enpavfu3Wrnzp0XdT46nU4ppZROpxuy71CKFCljq/j5+at5c5eq5fd+Xy2/9/tq0cIbVLAh1OFxSZEykov03yiG6kBOTk6qoqJCfetb3zprnSVLlqi+vj5lMBjs2+6//37V0tKiXFxcFKB++9vfqmPHjvV737vvvqvWrVtnf71371714osv2l9rNBpVWVmpfvKTnyhA+fj4qO7ubnXLLbfY6yQlJSmllJoxY4Y0IClSpAy7Eh4Wrb5xz0P2RPC6ZXcoHx+9w+OSImUkFum/UUN2CTg9PZ3w8HBsNhuHDh2iurqatWvXMm7cOHudjIwMjh07Rn19vX3bhg0b8PX1tdfLyMhg06ZN/T57w4YNZGRkAODi4sKUKVP61VFKsWnTJnudKVOm4Orq2q9OXl4eZWVl9jpCCDGcVFaVsm7DRxQW5dBn7cPfP4gbr7+LiROmOzo0IcQINGQJYGxsLABPPfUUv/nNb7j22mtpbm5m69at6PV6AIxGI3V1df3ed+q10Wg8Zx1fX1/c3d0JDAzE2dn5jHW++hnd3d2Yzeaz1jkTV1dXdDpdvyKEEEOloaGWXbu/ZNWqf1BVVYZGo2HSxOlce83txMUmyWxhIcQFG3ACuHLlSpRS5yxJSUn2xxs9/fTTfPzxxxw6dIj77rsPpRS33XbbgE9kKKxYsQKLxWIvVVVVjg5JCDEGtXe0sWnz5+w/uAObzUZAgIErZi/iumV3EhR09j9ihRDiFOeBfsDzzz/PW2+9dc46xcXFhIScXNA0Ozvbvr2np4fi4mIiIyMBqK2tZfr0/pczgoOD7ftO/ffUtq/WMZvNdHV1YTKZ6OvrO2Odr36Gm5sbvr6+/UYBv1rnTFauXMkLL7xgf63T6SQJFEI4TE7OUcrLi4mPSyE1ZeLJtQMX3cSRo/vIzjmKzWZ1dIhCiGFqwCOAJpOJvLy8c5be3l77si1JSUn29zo7OxMdHU1ZWRkAe/bsIS0tjaCgIHudRYsWYTab7Ynjnj17WLBgQb8YFi1axJ49ewDsx/pqHY1Gw4IFC+x1MjMz6enp6VcnMTGRqKgoe50z6enpobW1tV8RQghHam9v5WjWfj5e9TblFcU4OTkxJX0Wy5beipent6PDE0IMY0M24+T3v/+9qqioUIsWLVKJiYnq1VdfVbW1tcrPz+/kjJR/LwOzfv16NWHCBLV48WJVV1d3xmVgfve736mkpCT1ve9974zLwHR2dqpvfOMbKjk5Wf31r39VTU1N/WYXv/zyy6q0tFRdddVVKj09Xe3atUvt2rVLZhFJkSJlRJf4uBR15x3fVcvv/b66847vqoiIWIfHJEXKcCvSf6MYyoM5OzurZ599VtXW1iqz2aw2btyoUlNT+9WJjIxUa9asUe3t7aq+vl49++yzysnJqV+duXPnqkOHDqmuri5VWFioli9fftqxHnroIVVaWqq6urrU3r171fTp0/vtd3NzUy+99JJqbGxUbW1t6qOPPlLBwcHSgKRIkTLii07nq5Ytvc2+ZMz0aVcqDw8vh8clRcpwKdJ/ozT//h9xCXQ6HRaLBR8fH7kcLIQYVrRaLQvmX0doSAQAra1mVq99n56ebgdHJoTjSf8tzwIWQohRyWaz8eXm1eza/SXt7a3odL7Mm7sUZ2cXR4cmhBgGJAEUQohRymazUliUw5ebV9PX14vRGM6tt3yT9MkzcXGRRFCIsUwSQCGEGOWaWxrZsm0dHR1tuLm6kTZ+KosX3ihJoBBjmNwDOAByD4EQYiTRaDRERyUwY/qVuLm5Y7G0cODgTiqrSh0dmhBDSvpvGQEUQogxQylFSWk+Gzd9SmdnBz4+fiyYfy0L51+Hj4/e0eEJIYaQJIBCCDHGNDU18Mmn/+D4iUMopQgLi2Lp1Tfj5SXPNxdirJAEUAghxqDe3h4yD+3m8zXvYbG04O7uwfXX3omPzs/RoQkhhoAkgEIIMYY1N5vYum0dHZ3tuLq6MXvWAlkqRogxQBJAIYQY45pbGtn4xSr6+noxGEJYvPAGXFxcHR2WEOIykgRQCCEEZnMzG75YRXdPN0FBRubPW4abm7ujwxJCXCaSAAohhADAZKrji02fYrVaMQaHcf11/4VeH+josIQQl4EkgEIIIewaG+v54svPsFha8PTwYunVNzN50kxcXd0cHZoQYhDJQtADIAtJCiFGKxcXVxYtvJ6gQCNwctZwQWE2J7IP09HR7uDohBgY6b8lARwQaUBCiNEuKjKOiROmo9cHANBn7WP//u0UFGY7ODIhLp3035IADog0ICHEWBEeFs3kyTPx//c9gdU1FWzfsYHu7i4HRybExZP+W+4BFEIIcQEqq0pZveY9TmQfBiA0JIKrrlwi9wYKMUJJAiiEEOKCKKU4mLmLNWvfx2azYTSGc+vNy5k4YTpOTs6ODk8IcREkARRCCHFRTI31bN66hpaWJlxcXJk0cfq/F4+WJ4gIMVLIPYADIPcQCCHGuuioeDJmzsPV1Q2zpZmcnCyKS/Lo7e1xdGhCnJX03zICKIQQYgBKywrZ8MUqOjs78PXRM3PGXG675ZsEG0IdHZoQ4hwkARRCCDEgTU0NrPrsHQ5m7qK11YyLiyvzrroGQ1CIo0MTQpyFXAIeABlCFkKI/pycnLlmyS34+wcBUF5eRGFRLhWVJQ6OTIj/kP5bRgCFEEIMIqu1j42bPqWoOBeAyMg45s9bxoJ51+Lp6eXg6IQQp8gI4ADIXxBCCHF2en0g8XEppCRPQKPR0Nvbw45dm6ioKHZ0aGKMk/5bRgCFEEJcJs3NJg4c3MGnn/+TBlPtyXsD5y4lJWUiWq10P0I4kvwECiGEuKzM5mbWrf+IisoSNBoN06fOYdk1t+PsLOsGCuEokgAKIYS47JRSbN22jv0HttPd042/PpC08VMcHZYQY5Y8u0cIIcSQsNls5ORm0dPTzRWzFzEhbSohIeGUlOSTX5CN1drn6BCFGDNkBFAIIcSQKirOI/PQHpRSBAUamT7tSq5edCNarZOjQxNizJBZwAMgs4iEEOLSeXl6ExkVx6QJ03F1daOp2cT2HRswm5sdHZoY5aT/lhFAIYQQDtLe0UZOzlG2bFtnvy/whuvu4so5V+Pq6ubo8IQY1SQBFEII4VC1tZV8+tk/7bOEY6ITuPmmb6D3C3B0aEKMWpIACiGEcLjOznY2b1nDhi9W0d3TjZurG4sW3kBEeIyjQxNiVJIEUAghxLBRW1vJx5/8H83NjXh4eDJ/3jLSJ2eg0WgcHZoQo4okgEIIIYaVnp5u1q7/kOycIwCkjZ/C0iW34O3t49jAhBhFJAEUQggx7PT19XLg4E6279hIb28PQYFGliy+icDAYEeHJsSoIAmgEEKIYaukNJ/P17yH2dKMl5eOZUtvIy4u2dFhCTHiSQIohBBiWGttNbN+wydUVZUBcMWshUxImyr3BQoxAJIACiGEGPa6ujrYtPlzexI4edJM5sxehFYr3ZgQl0J+coQQQowYW7atsz9GLiYmkRnT5zo6JCFGJEkAhRBCjBhWax/HT2SyZds6lFIkJoxj5vS5eHh4OTo0IUYUSQCFEEKMOBUVxRw5ug+ApKQ0brrhbqKjExwclRAjhySAQgghRqSsYwfZvGUNJlMdLi6uzJ1zNakpkxwdlhAjgiSAQgghRqyKyhLWrv+QgsJsAKZNvYKFC67H01MuCQtxLpIACiGEGNGUUuzes5nMQ7ux2WyEhUZy/XV3MS51sqNDE2LYkgRQCCHEqHD8xCE+W/0uZnMTbq5uTJ0ym4Xzr8PV1c3RoQkx7EgCKIQQYtQwm5v59PN32bNvK1arlbCwKK5bdid+fv6ODk2IYUUSQCGEEKOKUor8/OOs2/ARbW0WvL1PPkIuMXG8o0MTYtiQBFAIIcSo1NhYz+q171NbW4mzswsZM64iODjM0WEJMSxIAiiEEGLU6u7uYsMXqygqzgXgilkLcHFxcXBUQjieJIBCCCFGvX37t9HW1oq3tw83Xn83ERGxjg5JCIeSBFAIIcSo19vby5Zta+nobMfT05v5V13DwgXX4+Li6ujQhHAISQCFEEKMCU1NDXyy6h+cyD58coZwaCTLlt6Ku7uno0MTYshJAiiEEGLM6Ovr5WDmLtZt+IiOjjZ8ff1ZMG+Z3BcoxhxJAIUQQow5jY31fPHlZ/RZ+wgMDOb6a/+LuLhkNBqNo0MTYkgMaQKYkJDAqlWraGhowGw2s2PHDq666qp+dSIiIli9ejXt7e3U1dXxzDPP4OTk1K/O3LlzyczMpKuri4KCApYvX37asR588EFKSkro7Oxk7969TJs2rd9+Nzc3XnrpJUwmE62trXz44YcYDIZBP2chhBDDU0tLExs2fExPTzfe3j5cMWshS6++hWBDqKNDE2JIqKEqeXl5avXq1SotLU3Fx8erl156SbW1tang4GAFKK1Wq7KystTGjRvVxIkT1ZIlS1R9fb16+umn7Z8RHR2t2tra1HPPPaeSk5PVQw89pHp7e9XixYvtdW6//XbV1dWlvvnNb6qUlBT1yiuvqKamJhUUFGSv8/LLL6uysjI1b948lZ6ernbv3q127tx5Ueej0+mUUkrpdLoh+w6lSJEiRcrgFjc3dzV+3BR193/dr5bf+321/N7vq7TxUxwel5TLV6T/RjFUBwoICFBKKXXFFVfYt3l7eyullFqwYIEC1JIlS1RfX58yGAz2Ovfff79qaWlRLi4uClC//e1v1bFjx/p99rvvvqvWrVtnf71371714osv2l9rNBpVWVmpfvKTnyhA+fj4qO7ubnXLLbfY6yQlJSmllJoxY4Y0IClSpEgZg8XL01tdMXuhWn7v99U37nlIBQUZHR6TlMtTpP9GDdkl4MbGRnJzc/nGN76Bp6cnTk5O3H///dTV1ZGZmQlARkYGx44do76+3v6+DRs24Ovry7hx4+x1Nm3a1O+zN2zYQEZGBgAuLi5MmTKlXx2lFJs2bbLXmTJlCq6urv3q5OXlUVZWZq8jhBBibGnvaGPnrk2UlOSj0WhYevUtTJt6hSwVI0Yl56E82MKFC1m1ahWtra3YbDbq6+tZsmQJLS0tABiNRurq6vq959Rro9F4zjq+vr64u7uj1+txdnY+Y53k5GT7Z3R3d2M2m0+rc+o4Z+Lq6oqbm5v9tU6nu4izF0IIMRLs3b8NFxdXwsOjSU2ZRGxMEocO76GgMNvRoQkxaAY8Arhy5UqUUucsSUlJAPz5z3+mvr6eOXPmMH36dFatWsXnn39+zqRrOFmxYgUWi8VeqqqqHB2SEEKIQdbT082XW1azafPnmC3NuLt7MCtjPosX3kBoaKSjwxNiUAx4BPD555/nrbfeOmed4uJi5s+fz7XXXoter6e1tRWAhx56iEWLFrF8+XJ+97vfUVtby/Tp0/u9Nzg4GIDa2lr7f09t+2ods9lMV1cXJpOJvr6+M9b56me4ubnh6+vbbxTwq3XOZOXKlbzwwgv21zqdTpJAIYQYpaqqyqipqSAleSLpkzMICYkgJCSCisoSDmbuxmJpdnSIQlyyASeAJpMJk8l03nqenidXWrfZbP2222w2tNqTA5F79uzh//2//0dQUBANDQ0ALFq0CLPZTHZ2tr3ONddc0+8zFi1axJ49e4CTj/vJzMxkwYIFfPrppwBoNBoWLFjASy+9BEBmZiY9PT0sWLCAjz/+GIDExESioqLsn3MmPT099PT0nPdchRBCjA42m40T2YeprasiMWEcCfGpRITHYAwO49DhPeTmHXN0iEJcsiGZbRIQEKAaGhrUhx9+qCZMmKASEhLUM888o7q7u9WECRNOzkj59zIw69evVxMmTFCLFy9WdXV1Z1wG5ne/+51KSkpS3/ve9864DEzn/2/v3qOirPM/gL+HAYakATEFQQHvkAoYpIipIBcvee2n0u/Xlrj167TmntOere2ypz1u7Sk1d7OzmuXZWutsZrul8lMRUBJTCbyACd7wBqQIg1zk5gwMw+f3R/HkBKIm8Mww79c5nxM8z2fm+Xz9zsz308w8D0ajLFmyRIKDg+XDDz+U6upqq7OLN2zYIMXFxRITEyPh4eGSlZUlWVlZPIuIwWAwGLcML6/+MnPGfymXi0mIny9ubvepXhfj7oLrNwQ9ebCIiAhJS0uTyspKqa2tlW+//VZmzpxplRMQECApKSnS2NgoFRUVsmbNGtFqtVY50dHRkpeXJyaTSS5cuCBJSUntjrV8+XIpLi4Wk8kkOTk5MmHCBKv9Op1O1q9fL1VVVdLQ0CBbt25VrkfIBxCDwWAwbhUajUZGPzhOnnximSQ99VtZvOjX0r//3a0fDHWD6zdE8+MP9Avo9XrU1dXBw8ND+V4jERE5Bq++D2BazKPQ6z1hsVhw5OgBnDt/Su2y6A5w/ebfAiYiIvpFaq5XYWfKF7h8pQharRZRE6chIX4+nJ1d1C6N6LbYABIREf1CZrMZ+zJTcCw3CxaLBX6+/pgUFQsXFzaBZNvYABIREd2jU6ePI/Ob3QCAoUNGYsH8J+E7cLDKVRHdGhtAIiKiLlBaWoJD32agoaEOfe5zR0L8fIwdEwGNRqN2aUTtsAEkIiLqIhcvnkXyjs9x/sJpaDQaRIRHITZmNrTaHv3Lq0S3xQaQiIioC1ksLfg2ex+yczLRYmnB4MFDMHfO4/Dy6q92aUQKNoBERETd4Nz5U8j4eieMxhvw9PDC7FmLMf7hyfD09FK7NCLwOoD3gNcRIiKi23Fz64OY6Jnw8fYD8MOfl8svOIqTp47DYmlRuTrHxPWbDeA94QOIiIjuhEajweDBQzE6OBQDfzw7uKGhDsdys1Dy/UWVq3M8XL/ZAN4TPoCIiOhujRwxGuPCJqBPn/sBAIaKq9izNxmtra0qV+Y4uH7zO4BEREQ96vyF00jesRkn8o+ixdICH28/TIt+FDqdm9qlkQNhA0hERNTDzGYzvjtxGAcOpKO1tRWDBw/Bfy14CqNGjlG7NHIQbACJiIhUcvlKEVJSv0RNTRVcXXWImjgNUydPh5tbH7VLo16ODSAREZGKqquvYWfKFzj+XQ5EBEOHjsKCeU8oZw0TdQc2gERERCoTEeQXHMPuH98N1OncEB8/D4MGBapdGvVSbACJiIhsRGVVBVJSv0R5+RU4a50RHzsXk6Ji+feEqcuxASQiIrIhFksL9u3fjcLCAogIRo4YjSmPJMDJiUs2dR0+moiIiGyM2dyMnCPf4OChvcr3AuNi58LN7T61S6Negg0gERGRjSoqPod9mSlosbTAz9cfCx9bAj+/ALXLol6ADSAREZENu1JajPQ921FfXwtnZxdMnTIDffv2U7sssnNsAImIiGxcZaUByTs+R2WlATpXHeY8+jgejngELi4uapdGdooNIBERkR1obbXg68xdKL36PbRaLcaMfgjz5jwBD31ftUsjO8QGkIiIyE6YTEZkfL0D+zJT0NBQj/vv12PyI/G8TAzdNTaAREREdubylSKkpW9FS4sZAwYMRPhDUWwC6a6wASQiIrJDjTcakHPkGwDA2DHhSIibB1dXncpVkb1gA0hERGSnLl48iyNHD6DF0gJfX3/MnrUYAwcOVrsssgNsAImIiOzYmbP52L37SzQ21sPDoy+mx89HRPgkXjSaOsUGkIiIyM7VXK/CzpR/o7jkAjQaDcaOCceC+U9i5IjRapdGNooNIBERUS/Q1GTCNwfS8M3BdNTUVEHnqsOkqFgEB4WoXRrZIDaAREREvUhx8XnsTPkCJ0/lAQAejpiMgIBhKldFtoYNIBERUS8jIsjN+xZXyy5Dq9ViWvSjmDplBtzd9WqXRjaCDSAREVEvtf+bVJw+cwIigqFDRmL+3P/B8GFBapdFNoANIBERUS9lNjfj6LGDSEvfhmuV5XBxccUjk+Lh78+PhB0dG0AiIqJeruJaGVLTtuL8hdPQaDSInjIDEyNjoNd7ql0aqYQNIBERkQMQEWTnZOLylSJotVoEjRqLubMfh59fgNqlkQrYABIRETkIEUHm/t3I2LcT16798JFw3LQ58B7gq3Zp1MPYABIRETkQEUFpaQnS9mzD95cvwcnJCbHTZvPjYAfDBpCIiMgBtba24uChvaiqqoBO54a4abOh1TqrXRb1EDaAREREDqqlxYyvM1Nww9gIT89+mD1rMYYEjlC7LOoBbACJiIgcmNHYiAMH98BiscDL6wFET52JWTMWom/ffmqXRt2IDSAREZGDMxhKsT35XziRfxQtlhZ4e/ti5oyF6P+At9qlUTdhA0hERERovNGA704cRnLyZ7hWWQ6dqw7TExYgMGC42qVRN2ADSERERIrGGw3Ym/F/KDeUwsXFFTHRsxAzdRZcXFzULo26EBtAIiIismI2m5Hx9U4UnDyG1tZWBAYOx4L5T/J6gb0IG0AiIiJqx2JpQd7xHOzZm4yGhjr0uc8dsbFzeHJIL8EGkIiIiG7JUHEVyTs+V74XOPvRRDw0biKcnNhC2DPOHhEREXXKYmnBvszdKC+/AmetM0JDHkZC/Hw4O/N7gfaKDSARERHdlsl0A+l7k3Hw0F60tJgx0GcQEuLmQadzU7s0+gXYABIREdEdu1RUiPS9yWhuboK3ty8SFz2N8If4kbC94WwRERHRXamsNCBtz3bU1lbDyckJIWMfRuy0OXBz66N2aXSH2AASERHRXaupqUTyjs/xzcF0tLa2YpBfAObP/R/4ePupXRrdATaARERE9IsVF5/H7rSvUFNTBTe3+xAfPw8+PoPULotugw0gERER3ZOqqgqkpH6J0tISOGudER87B0GjQqDVOqtdGt0CG0AiIiK6ZxZLC/bt342ysstwdnbBxMhoLJj3K/j5BahdGnWADSARERF1idZWC/Z+vQNHjh2EyWTE/ffrkRA3D1ETp6ldGv1MlzWAf/zjH5GVlYXGxkbU1NR0mOPv749du3ahsbERBoMB77zzDrRarVVOdHQ0cnNzYTKZcP78eSQlJbW7n+effx5FRUUwGo3IycnB+PHjrfbrdDqsX78elZWVqK+vx1dffQVvb++7roWIiIjujojgzJkTSN6xGafPnICIYNTIMRg+LEjt0ugmXdYAurq64ssvv8QHH3zQ8YGcnJCSkgJXV1dMmjQJSUlJWLp0Kd58800lZ8iQIUhJSUFmZibGjRuH9957Dx999BGmT5+u5CQmJuLdd9/FG2+8gfDwcJw4cQLp6ekYMGCAkrN27VrMnTsXixcvRnR0NPz8/LBt27a7qoWIiIh+uaYmE44eO4jj3+UAACZGxmDokFHQaDQqV0ZtpCsjKSlJampq2m2fOXOmtLS0iLe3t7Ltueeek+vXr4uLi4sAkFWrVklBQYHV7bZs2SKpqanK7zk5ObJu3Trld41GI1euXJFXXnlFAIiHh4c0NTXJwoULlZygoCAREYmMjLzjWu4k9Hq9iIjo9fou/TdkMBgMBqO3hEajkUdnLZKkp34rSU/9VhY+tkT8/AJUrYnrN6THvgMYFRWFgoICVFRUKNvS09Ph6emJMWPGKDkZGRlWt0tPT0dUVBQAwMXFBREREVY5IoKMjAwlJyIiAq6urlY5hYWFKCkpUXLupBYiIiK6dyKCvRn/h+9OHEFTkwn33++B+Ni5GDH8QbVLc2g9dn72wIEDYTAYrLa1/T5w4MBOczw9PeHm5gYvLy84Ozt3mBMcHKzcR1NTE2pra9vl3O44N9fSEVdXV+h0OuV3vV7f+aCJiIgIZrMZJ/KP4PSZ44icEI3hw4LxyKQ4+PoOxsVLhSgruwwRUbtMh9LpO4ArV66EiHQaQUGO86XO1157DXV1dUqUlpaqXRIREZHdMJvNOJSVgYKTuQCAYUODkBA3D4/NfxK+AwerXJ1j6fQdwL/97W/45JNPOr2DS5cu3dGBysvLMWHCBKttPj4+yr62/7ZtuzmntrYWJpMJlZWVaGlp6TDn5vvQ6XTw9PS0ehfw5zm3q6UjK1euxLvvvqv8rtfr2QQSERHdpbzj2bh8pQjDhwVjSOAI6PWemJ6wAOcvnMbRY4dgNjerXWKv1+k7gJWVlSgsLOw0zGbzHR0oOzsbISEhVmfrJiQkoLa2FqdPn1Zy4uLirG6XkJCA7OxsAD/8n0Nubq5VjkajQVxcnJKTm5uL5uZmq5xRo0YhMDBQybmTWjrS3NyM+vp6qyAiIqK7d+1aOXIO78fW7Z+i8NxJAMDIEaMxa8ZCuLndp3J1jqFLzibx9/eXsLAw+dOf/iR1dXUSFhYmYWFh4u7u/sPZJk5Okp+fL2lpaRIaGirTp08Xg8Egb731lnIfQ4YMkYaGBlm9erUEBQXJsmXLxGw2y/Tp05WcxMREMRqNsmTJEgkODpYPP/xQqqurrc7o3bBhgxQXF0tMTIyEh4dLVlaWZGVl/XTmyx3UcifBs4gYDAaDweia8PH2k8RFT0vSU7+VuXP+W/r1G9Btx+L6DUFX3dGmTZukI9HR0UpOQECApKSkSGNjo1RUVMiaNWtEq9Va3U90dLTk5eWJyWSSCxcuSFJSUrtjLV++XIqLi8VkMklOTo5MmDDBar9Op5P169dLVVWVNDQ0yNatW8XHx8cq505q4QOIwWAwGIyeCw8PL/nvxP9VLhmTED+/Wy4Zw/UbovnxB/oF9Ho96urq4OHhwY+DiYiIuoCXV39EPBQFP78AaDQaFJzMRd7x7C49BtfvHrwMDBEREdHt1NRUImPfTtx/vwdGjRyDCxfPql1Sr8QGkIiIiGxOQ0Ndl7/zRz/psb8EQkRERES2gQ0gERERkYNhA0hERETkYNgAEhERETkYNoBEREREDoYNIBEREZGDYQNIRERE5GDYABIRERE5GDaARERERA6GDSARERGRg2EDSERERORg2AASERERORg2gEREREQOxlntAnoDvV6vdglERER0h7huswG8J20PoNLSUpUrISIiorul1+tRX1+vdhmq0AAQtYuwZ35+ft3y4NHr9SgtLcWgQYN63YOzN48N4PjsHcdnv3rz2ACOrzuOd/Xq1W4/jq3iO4D3qLsfPPX19b3yiQ707rEBHJ+94/jsV28eG8DxdeVxHBlPAiEiIiJyMGwAiYiIiBwMG0Ab1dTUhD//+c9oampSu5Qu15vHBnB89o7js1+9eWwAx0ddiyeBEBERETkYvgNIRERE5GDYABIRERE5GDaARERERA6GDSARERGRg2EDaIOef/55FBUVwWg0IicnB+PHj1e7pHZeffVVHDlyBHV1dTAYDNi+fTtGjRpllZOZmQkRsYoPPvjAKsff3x+7du1CY2MjDAYD3nnnHWi1Wquc6Oho5ObmwmQy4fz580hKSur28a1YsaJd7WfOnFH263Q6rF+/HpWVlaivr8dXX30Fb29vuxgbABQVFbUbn4hg/fr1AOxr7qZMmYIdO3agtLQUIoL58+e3y3njjTdw9epV3LhxA3v37sWIESOs9nt5eeGzzz5DbW0tampq8NFHH8Hd3d0qJyQkBAcOHIDRaMT333+PP/zhD+2Os2jRIpw5cwZGoxH5+fmYNWtWt47P2dkZq1atQn5+PhoaGlBaWopPP/0Uvr6+VvfR0Xy/8sorNj8+ANi0aVO72lNTU61y7HX+AHT4PBQRvPTSS0qOrc7fnawDPflaaQ9rp60Rhu1EYmKimEwmWbp0qTz44IOyceNGqa6ulgEDBqhe282RmpoqSUlJMnr0aAkNDZVdu3ZJcXGx9OnTR8nJzMyUjRs3io+PjxJ6vV7Z7+TkJPn5+bJnzx4JCwuTmTNnSkVFhbz11ltKzpAhQ6ShoUH++te/SnBwsCxfvlzMZrNMnz69W8e3YsUKKSgosKr9gQceUPZv2LBBSkpKZNq0aRIeHi7ffvutHDp0yC7GBkD69+9vNba4uDgREYmOjra7uZs5c6b85S9/kQULFoiIyPz58632v/zyy1JTUyPz5s2TkJAQSU5OlosXL4pOp1Nydu/eLcePH5cJEybII488IufOnZPNmzcr+/V6vZSVlcm//vUvGT16tDz++OPS2Ngozz77rJITFRUlZrNZXnrpJQkODpY333xTmpqaZMyYMd02Pg8PD9mzZ48sXrxYRo0aJZGRkZKTkyNHjx61uo+ioiJ5/fXXrebz5ueqrY4PgGzatEl2795tVXvfvn2tcux1/gBYjcvHx0eWLl0qFotFhg4davPzdyfrQE+9VtrL2mljoXoBjJsiJydH1q1bp/yu0WjkypUr8sorr6heW2fRv39/ERGZMmWKsi0zM1PWrl17y9vMnDlTWlpaxNvbW9n23HPPyfXr18XFxUUAyKpVq6SgoMDqdlu2bJHU1NRuHc+KFSvk+PHjHe7z8PCQpqYmWbhwobItKChIREQiIyNtfmwdxdq1a+X8+fN2P3cdLbBXr16VF1980Wr+jEajPP744wJAgoODRUQkIiJCyZkxY4ZYLBbx9fUVAPKb3/xGqqqqlLEBkJUrV8qZM2eU37/44gvZuXOn1bGzs7Plgw8+6Nbx/TwefvhhERHx9/dXthUVFckLL7xwy9vY8vg2bdok27dvv+Vtetv8bd++XTIyMqy22cv8/Xwd6MnXSntdO9UMfgRsQ1xcXBAREYGMjAxlm4ggIyMDUVFRKlZ2e56engCA6upqq+2/+tWvcO3aNRQUFODtt9/Gfffdp+yLiopCQUEBKioqlG3p6enw9PTEmDFjlJyb/z3acnri32PkyJEoLS3FxYsX8dlnn8Hf3x8AEBERAVdXV6u6CgsLUVJSotRl62O7mYuLC5588kn885//tNpuz3PXZujQofD19bWqo66uDocPH7aaq5qaGuTm5io5GRkZaG1tRWRkpJJz4MABmM1mJSc9PR3BwcHo27evkqP2eIEfnoutra24fv261fZXX30VlZWVyMvLw0svvWT1EZutjy8mJgYGgwFnz57Fhg0b0K9fP6vae8v8eXt7Y/bs2fj444/b7bOH+fv5OtBTr5X2vHaqyVntAugn/fv3h7OzMwwGg9V2g8GA4OBglaq6PY1Gg/feew+HDh3CqVOnlO2ff/45SkpKcPXqVYSGhmL16tUICgrCwoULAQADBw7scKxt+zrL8fT0hJubG0wmU7eM6fDhw1i6dCkKCwvh6+uLFStW4ODBgxg7diwGDhyIpqYm1NbWtqvrdnXbwth+bsGCBejbty8++eQTZZs9z93N2mrpqI6b67x58QEAi8WC6upqq5yioqJ299G27/r167ccb9t99ASdTofVq1djy5YtVn/o/u9//zvy8vJQXV2NSZMmYeXKlfD19cWLL76ojMFWx5eWloZt27ahqKgIw4cPx9tvv43U1FRERUWhtbW1V81fUlIS6uvrsW3bNqvt9jB/Ha0DPfVa6eXlZZdrp9rYANI9e//99zF27FhMnjzZavs//vEP5eeTJ0+irKwM+/btw7Bhw3Dp0qWeLvOupKWlKT8XFBTg8OHDKCkpQWJiIoxGo4qVdb1nnnkGqampKCsrU7bZ89w5KmdnZ/znP/+BRqPBsmXLrPatXbtW+bmgoADNzc3YuHEjXnvtNTQ3N/d0qXfl3//+t/LzyZMnkZ+fj0uXLiEmJgb79u1TsbKu9/TTT2Pz5s3t/hSaPczfrdYBsl38CNiGVFZWoqWlBT4+PlbbfXx8UF5erlJVnVu3bh3mzJmDadOmobS0tNPcw4cPA4ByBmZ5eXmHY23b11lObW1tj71DBgC1tbU4d+4cRowYgfLycuh0OuXjjpvrul3dbfs6y+nJsQUEBCA+Ph4fffRRp3n2OndttXT2nCovL293VqJWq0W/fv26ZD574rnb1vwFBgYiISHB6t2/jhw+fBguLi4YMmQIANsf382Kiopw7do1q8eivc8fAEyePBnBwcG3fS4Ctjd/t1oHeuq10h7XTlvABtCGmM1m5ObmIi4uTtmm0WgQFxeH7OxsFSvr2Lp16/DYY48hNjYWxcXFt80fN24cACjvNGVnZyMkJAQDBgxQchISElBbW4vTp08rOTf/e7Tl9PS/h7u7O4YPH46ysjLk5uaiubnZqq5Ro0YhMDBQqctexvbrX/8aFRUVSElJ6TTPXueuqKgIZWVlVnXo9XpERkZazZWXlxfCw8OVnNjYWDg5OSmNb3Z2NqZOnQpn558+NElISMDZs2eV79qpNd625m/kyJGIj49v9z3cjowbNw4Wi0X56NSWx/dzgwYNwgMPPGD1WLTn+WvzzDPP4NixY8jPz79tri3NX2frQE+9Vtrb2mlLVD8ThfFTJCYmitFolCVLlkhwcLB8+OGHUl1dbXWGlC3E+++/LzU1NTJ16lSrSxO4ubkJABk2bJi8/vrrEh4eLoGBgTJ37ly5cOGC7N+/X7mPttP/09LSJDQ0VKZPny4Gg6HD0/9Xr14tQUFBsmzZsh65VMqaNWtk6tSpEhgYKFFRUbJnzx6pqKiQ/v37C/DDpQ2Ki4slJiZGwsPDJSsrS7KysuxibG2h0WikuLhYVq5cabXd3ubO3d1dwsLCJCwsTEREfve730lYWJhyFuzLL78s1dXVMnfuXBk7dqxs3769w8vA5Obmyvjx42XSpElSWFhodRkRDw8PKSsrk08//VRGjx4tiYmJ0tDQ0O4yG83NzfL73/9egoKCZMWKFV1yGZHOxufs7CzJycny/fffS2hoqNVzse0MyokTJ8oLL7wgoaGhMnToUHniiSfEYDDIJ598YvPjc3d3l3feeUciIyMlMDBQYmNj5dixY1JYWCiurq52P39tOXq9XhoaGuS5555rd3tbnr/brQNAz71W2svaaWOhegGMn8Xy5culuLhYTCaT5OTkyIQJE1Sv6edxK0lJSQJABg8eLPv375fKykoxGo1y7tw5Wb16tdW15ABIQECApKSkSGNjo1RUVMiaNWtEq9Va5URHR0teXp6YTCa5cOGCcozujC1btkhpaamYTCa5fPmybNmyRYYNG6bs1+l0sn79eqmqqpKGhgbZunWr+Pj42MXY2iIhIUFEREaOHGm13d7mLjo6usPH4qZNm5ScN954Q8rKysRoNMrevXvbjdnLy0s2b94sdXV1cv36dfn444/F3d3dKickJEQOHDggRqNRLl++LC+//HK7WhYtWiRnz54Vk8kkBQUFMmvWrG4dX2Bg4C2fi23XdHzooYckOztbampq5MaNG3Lq1Cl59dVXrRooWx2fm5ubpKWlicFgkKamJikqKpKNGze2W9Ttdf7acp599llpbGwUDw+Pdre35fm7lZuf5z35WmkPa6cthebHH4iIiIjIQfA7gEREREQOhg0gERERkYNhA0hERETkYNgAEhERETkYNoBEREREDoYNIBEREZGDYQNIRERE5GDYABIRERE5GDaARERERA6GDSARERGRg2EDSERERORg2AASERERORg2gEREREQOhg0gERERkYNhA0hERETkYNgAEhERETkYNoBEREREDoYNIBEREZGDYQNIRERE5GDYABIRERE5GDaARERERA6GDSARERGRg2EDSERERORg2AASERERORg2gEREREQOhg0gERERkYNhA0hERETkYNgAEhERETkYNoBEREREDoYNIBEREZGDYQNIRERE5GD+H4s1uLZlebk5AAAAAElFTkSuQmCC' width=640.0/>\n",
       "            </div>\n",
       "        "
      ],
      "text/plain": [
       "Canvas(toolbar=Toolbar(toolitems=[('Home', 'Reset original view', 'home', 'home'), ('Back', 'Back to previous …"
      ]
     },
     "metadata": {},
     "output_type": "display_data"
    }
   ],
   "source": [
    "num_vehicles = env.num_vehicles\n",
    "def measure(obs, info):\n",
    "    membership = obs[:num_vehicles]\n",
    "    values = obs[num_vehicles:num_vehicles*2]\n",
    "    probs = obs[num_vehicles*2:num_vehicles*3]\n",
    "    try:\n",
    "        probs = info[\"probs\"]\n",
    "    except KeyError:\n",
    "        pass\n",
    "\n",
    "    # membership = info[\"state\"]\n",
    "    # values = info[\"values\"]\n",
    "    \n",
    "    return np.sum(membership * values * probs)\n",
    "    \n",
    "plt.figure()\n",
    "plt.title(\"Cumulative platoon security posture\")\n",
    "for policy_name, stats in results.items():\n",
    "    plt.plot(np.cumsum([measure(*x) for x in stats[\"observations\"]]), label=policy_name, alpha=0.5)\n",
    "plt.legend()\n",
    "plt.show()"
   ]
  },
  {
   "cell_type": "code",
   "execution_count": 58,
   "metadata": {},
   "outputs": [
    {
     "data": {
      "application/vnd.jupyter.widget-view+json": {
       "model_id": "ee2e7fb2bd314a759f22ab472a939aa8",
       "version_major": 2,
       "version_minor": 0
      },
      "image/png": "[encoded data removed]",
      "text/html": [
       "\n",
       "            <div style=\"display: inline-block;\">\n",
       "                <div class=\"jupyter-widgets widget-label\" style=\"text-align: center;\">\n",
       "                    Figure\n",
       "                </div>\n",
       "                <img src='data:image/png;base64,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' width=640.0/>\n",
       "            </div>\n",
       "        "
      ],
      "text/plain": [
       "Canvas(toolbar=Toolbar(toolitems=[('Home', 'Reset original view', 'home', 'home'), ('Back', 'Back to previous …"
      ]
     },
     "metadata": {},
     "output_type": "display_data"
    }
   ],
   "source": [
    "num_vehicles = env.num_vehicles\n",
    "def measure(obs, info):\n",
    "    membership = obs[:num_vehicles]\n",
    "    \n",
    "    return np.sum(membership)\n",
    "\n",
    "plt.figure()\n",
    "plt.title(\"Cumulative platoon membership\")\n",
    "for policy_name, stats in results.items():\n",
    "    plt.plot(np.cumsum([measure(*x) for x in stats[\"observations\"]]), label=policy_name, alpha=0.5)\n",
    "plt.legend()\n",
    "plt.show()"
   ]
  },
  {
   "cell_type": "code",
   "execution_count": 59,
   "metadata": {},
   "outputs": [
    {
     "data": {
      "application/vnd.jupyter.widget-view+json": {
       "model_id": "520064e4604a4f0aa682bbe5734e54c5",
       "version_major": 2,
       "version_minor": 0
      },
      "image/png": "[encoded data removed]",
      "text/html": [
       "\n",
       "            <div style=\"display: inline-block;\">\n",
       "                <div class=\"jupyter-widgets widget-label\" style=\"text-align: center;\">\n",
       "                    Figure\n",
       "                </div>\n",
       "                <img src='data:image/png;base64,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' width=640.0/>\n",
       "            </div>\n",
       "        "
      ],
      "text/plain": [
       "Canvas(toolbar=Toolbar(toolitems=[('Home', 'Reset original view', 'home', 'home'), ('Back', 'Back to previous …"
      ]
     },
     "metadata": {},
     "output_type": "display_data"
    }
   ],
   "source": [
    "num_vehicles = env.num_vehicles\n",
    "def measure(obs, info):\n",
    "    membership = obs[:num_vehicles]\n",
    "    values = obs[num_vehicles:num_vehicles*2]\n",
    "    probs = obs[num_vehicles*2:num_vehicles*3]\n",
    "\n",
    "    return np.sum(membership * (probs == 1))\n",
    "\n",
    "plt.figure()\n",
    "plt.title(\"Cumulative platoon compromises\")\n",
    "for policy_name, stats in results.items():\n",
    "    plt.plot(np.cumsum([measure(*x) for x in stats[\"observations\"]]), label=policy_name, alpha=0.5)\n",
    "plt.legend()\n",
    "plt.show()"
   ]
  },
  {
   "cell_type": "code",
   "execution_count": 60,
   "metadata": {},
   "outputs": [
    {
     "name": "stdout",
     "output_type": "stream",
     "text": [
      "ppo: -202.32 (-0.00%)\n",
      "dqn: -205.26 (-1.45%)\n",
      "random: -217.25 (-7.38%)\n"
     ]
    }
   ],
   "source": [
    "totals = [sum(stats[\"rewards\"]) for stats in results.values()]\n",
    "best = max(totals)\n",
    "for (policy_name, stats), total in zip(results.items(), totals):\n",
    "    steps = env_config[\"steps_before_truncation\"]\n",
    "    pct = (best-total)/best*100\n",
    "    print(f\"{policy_name}: {total:.2f} ({pct:.2f}%)\")"
   ]
  }
 ],
 "metadata": {
  "kernelspec": {
   "display_name": "rllib",
   "language": "python",
   "name": "python3"
  },
  "language_info": {
   "codemirror_mode": {
    "name": "ipython",
    "version": 3
   },
   "file_extension": ".py",
   "mimetype": "text/x-python",
   "name": "python",
   "nbconvert_exporter": "python",
   "pygments_lexer": "ipython3",
   "version": "3.8.15 (default, Nov 24 2022, 14:38:14) [MSC v.1916 64 bit (AMD64)]"
  },
  "orig_nbformat": 4,
  "vscode": {
   "interpreter": {
    "hash": "524f818cd743d7abf57cb48d668c781df3b45c3f425c53d80f3bb0fcd0df7a52"
   }
  }
 },
 "nbformat": 4,
 "nbformat_minor": 2
}
