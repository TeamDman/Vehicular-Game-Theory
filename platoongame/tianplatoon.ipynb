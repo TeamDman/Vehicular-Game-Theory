{
 "cells": [
  {
   "cell_type": "code",
   "execution_count": 1,
   "metadata": {},
   "outputs": [],
   "source": [
    "import gym\n",
    "import gym.wrappers\n",
    "import tianshou as ts\n",
    "import torch\n",
    "import numpy as np\n",
    "import platoonenv\n",
    "from typing import Union\n",
    "from pprint import pprint"
   ]
  },
  {
   "cell_type": "code",
   "execution_count": 2,
   "metadata": {},
   "outputs": [],
   "source": [
    "# envName = \"CartPole-v0\"\n",
    "# envName = \"MountainCar-v0\"\n",
    "# envName = \"Acrobot-v1\"\n",
    "envName = \"Platoon-v0\"\n",
    "params=platoonenv.PlatoonEnvParams(\n",
    "    num_vehicles=10,\n",
    "    num_vulns=4,\n",
    "    num_attack=1,\n",
    "    attack_interval=600\n",
    ")\n",
    "def make_env(render_mode: Union[str, None] = None):\n",
    "    if envName == \"Platoon-v0\":\n",
    "        env = gym.make(envName, render_mode=render_mode, params=params)\n",
    "        # env = gym.wrappers.TimeLimit(env, max_episode_steps=100)\n",
    "        env = gym.wrappers.TimeLimit(env, max_episode_steps=10)\n",
    "    else:\n",
    "        env = gym.make(envName, render_mode=render_mode)\n",
    "    return env\n",
    "env = make_env(render_mode=\"human\")"
   ]
  },
  {
   "cell_type": "code",
   "execution_count": 3,
   "metadata": {},
   "outputs": [
    {
     "name": "stdout",
     "output_type": "stream",
     "text": [
      "(10,)\n",
      "11\n"
     ]
    }
   ],
   "source": [
    "obs_shape = env.observation_space.shape or env.observation_space.n\n",
    "action_shape = env.action_space.shape or env.action_space.n\n",
    "print(obs_shape)\n",
    "print(action_shape)"
   ]
  },
  {
   "cell_type": "code",
   "execution_count": 4,
   "metadata": {},
   "outputs": [
    {
     "name": "stdout",
     "output_type": "stream",
     "text": [
      "done after 9 steps with -70 reward\n",
      "done after 9 steps with -72 reward\n",
      "done after 9 steps with -76 reward\n",
      "done after 9 steps with -53 reward\n",
      "done after 9 steps with -67 reward\n",
      "4 episodes done\n"
     ]
    }
   ],
   "source": [
    "from itertools import count\n",
    "from time import sleep\n",
    "for i in range(5):\n",
    "    env.reset()\n",
    "    reward = 0\n",
    "    for j in count():\n",
    "        env.render()\n",
    "        # sleep(1)\n",
    "        obs, rew, done, trunc, info = env.step(env.action_space.sample())\n",
    "        reward += rew\n",
    "        if trunc or done:\n",
    "            env.reset()\n",
    "            print(f\"done after {j} steps with {reward} reward\")\n",
    "            break\n",
    "print(i, \"episodes done\")"
   ]
  },
  {
   "cell_type": "code",
   "execution_count": 5,
   "metadata": {},
   "outputs": [
    {
     "name": "stdout",
     "output_type": "stream",
     "text": [
      "action 0 reward -9 obs [1. 0. 0. 0. 0. 0. 0. 0. 0. 0.]\n",
      "action 1 reward -8 obs [1. 1. 0. 0. 0. 0. 0. 0. 0. 0.]\n",
      "action 2 reward -7 obs [1. 1. 1. 0. 0. 0. 0. 0. 0. 0.]\n",
      "action 3 reward -6 obs [1. 1. 1. 1. 0. 0. 0. 0. 0. 0.]\n",
      "action 4 reward -5 obs [1. 1. 1. 1. 1. 0. 0. 0. 0. 0.]\n",
      "action 5 reward -4 obs [1. 1. 1. 1. 1. 1. 0. 0. 0. 0.]\n",
      "action 6 reward -3 obs [1. 1. 1. 1. 1. 1. 1. 0. 0. 0.]\n",
      "action 7 reward -2 obs [1. 1. 1. 1. 1. 1. 1. 1. 0. 0.]\n",
      "action 8 reward -1 obs [1. 1. 1. 1. 1. 1. 1. 1. 1. 0.]\n",
      "action 9 reward 0 obs [1. 1. 1. 1. 1. 1. 1. 1. 1. 1.]\n",
      "action 10 reward 0 obs [1. 1. 1. 1. 1. 1. 1. 1. 1. 1.]\n",
      "Total reward was -45\n"
     ]
    }
   ],
   "source": [
    "env.reset()\n",
    "reward = 0\n",
    "for i in range(env.action_space.n):\n",
    "    obs, rew, done, trunc, info = env.step(i)\n",
    "    reward += rew\n",
    "    print(f\"action {i} reward {rew} obs {obs}\")\n",
    "print(f\"Total reward was {reward}\")\n",
    "env.render()"
   ]
  },
  {
   "cell_type": "code",
   "execution_count": 6,
   "metadata": {},
   "outputs": [
    {
     "data": {
      "text/plain": [
       "(array([8776., 9064., 9077., 9047., 9023., 9138., 9082., 9079., 9333.,\n",
       "        9324., 9057.]),\n",
       " array([ 0.        ,  0.90909091,  1.81818182,  2.72727273,  3.63636364,\n",
       "         4.54545455,  5.45454545,  6.36363636,  7.27272727,  8.18181818,\n",
       "         9.09090909, 10.        ]),\n",
       " <BarContainer object of 11 artists>)"
      ]
     },
     "execution_count": 6,
     "metadata": {},
     "output_type": "execute_result"
    },
    {
     "data": {
      "image/png": "[encoded data removed]",
      "text/plain": [
       "<Figure size 432x288 with 1 Axes>"
      ]
     },
     "metadata": {
      "needs_background": "light"
     },
     "output_type": "display_data"
    }
   ],
   "source": [
    "import matplotlib.pyplot as plt\n",
    "plt.hist([env.action_space.sample() for _ in range(100000)], bins=env.action_space.n)"
   ]
  },
  {
   "cell_type": "code",
   "execution_count": 7,
   "metadata": {},
   "outputs": [],
   "source": [
    "train_envs = ts.env.DummyVectorEnv([lambda: make_env() for _ in range(10)])\n",
    "test_envs = ts.env.DummyVectorEnv([lambda: make_env() for _ in range(100)])"
   ]
  },
  {
   "cell_type": "code",
   "execution_count": 8,
   "metadata": {},
   "outputs": [],
   "source": [
    "seed=15\n",
    "np.random.seed(seed)\n",
    "torch.manual_seed(seed)\n",
    "train_envs.seed(seed)\n",
    "test_envs.seed(seed)\n",
    "pass"
   ]
  },
  {
   "cell_type": "code",
   "execution_count": 9,
   "metadata": {},
   "outputs": [],
   "source": [
    "from tianshou.utils.net.common import Net\n",
    "from tianshou.utils.net.discrete import Actor, Critic\n",
    "# hidden_sizes=(128,128,128,128)\n",
    "hidden_sizes=(12,12,12)\n",
    "net = Net(obs_shape, hidden_sizes=hidden_sizes)\n",
    "actor = Actor(net, action_shape, softmax_output=True)\n",
    "actor_optim = torch.optim.Adam(actor.parameters(), lr=1e-4)\n",
    "net_c1 = Net(obs_shape, hidden_sizes=hidden_sizes)\n",
    "critic1 = Critic(net_c1, last_size=action_shape)\n",
    "critic1_optim = torch.optim.Adam(critic1.parameters(), lr=1e-3)\n",
    "net_c2 = Net(obs_shape, hidden_sizes=hidden_sizes)\n",
    "critic2 = Critic(net_c2, last_size=action_shape)\n",
    "critic2_optim = torch.optim.Adam(critic2.parameters(), lr=1e-3)"
   ]
  },
  {
   "cell_type": "code",
   "execution_count": 10,
   "metadata": {},
   "outputs": [],
   "source": [
    "# policy = ts.policy.DQNPolicy(net, optim, discount_factor=0.9, estimation_step=3, target_update_freq=320)\n",
    "alpha = 0.05\n",
    "alpha_lr = 3e-4\n",
    "# auto_alpha = True\n",
    "auto_alpha = False\n",
    "if auto_alpha:\n",
    "    target_entropy = 0.98 * np.log(np.prod(action_shape))\n",
    "    log_alpha = torch.zeros(1, requires_grad=True)\n",
    "    alpha_optim = torch.optim.Adam([log_alpha], lr=alpha_lr)\n",
    "    alpha = (target_entropy, log_alpha, alpha_optim)"
   ]
  },
  {
   "cell_type": "code",
   "execution_count": 11,
   "metadata": {},
   "outputs": [],
   "source": [
    "from tianshou.exploration import OUNoise\n",
    "policy = ts.policy.DiscreteSACPolicy(\n",
    "    actor, actor_optim,\n",
    "    critic1, critic1_optim,\n",
    "    critic2, critic2_optim,\n",
    "    0.005, # tau\n",
    "    0.95, # gamma\n",
    "    alpha,\n",
    "    estimation_step = 3,\n",
    "    reward_normalization = False,\n",
    "    # exploration_noise=OUNoise(0.0, 1.2),\n",
    ")"
   ]
  },
  {
   "cell_type": "code",
   "execution_count": 12,
   "metadata": {},
   "outputs": [],
   "source": [
    "from tianshou.data import VectorReplayBuffer\n",
    "train_collector = ts.data.Collector(policy, train_envs, VectorReplayBuffer(20000, 10), exploration_noise=True)\n",
    "test_collector = ts.data.Collector(policy, test_envs, exploration_noise=True)"
   ]
  },
  {
   "cell_type": "code",
   "execution_count": 13,
   "metadata": {},
   "outputs": [],
   "source": [
    "# train_collector.collect(n_step=5000, random=True)"
   ]
  },
  {
   "cell_type": "code",
   "execution_count": 14,
   "metadata": {},
   "outputs": [
    {
     "name": "stdout",
     "output_type": "stream",
     "text": [
      "Threshold: -45\n"
     ]
    }
   ],
   "source": [
    "threshold = env.spec.reward_threshold or -45\n",
    "print(\"Threshold:\", threshold)"
   ]
  },
  {
   "cell_type": "code",
   "execution_count": 15,
   "metadata": {},
   "outputs": [],
   "source": [
    "from tianshou.utils import TensorboardLogger\n",
    "from torch.utils.tensorboard import SummaryWriter\n",
    "import os\n",
    "log_path = os.path.join(\"log\", envName, 'tianplatoon.ipynb')\n",
    "writer = SummaryWriter(log_path)\n",
    "logger = TensorboardLogger(writer)"
   ]
  },
  {
   "cell_type": "code",
   "execution_count": 16,
   "metadata": {},
   "outputs": [
    {
     "name": "stderr",
     "output_type": "stream",
     "text": [
      "Epoch #1: 10001it [00:13, 716.85it/s, env_step=10000, len=10, loss/actor=49.250, loss/critic1=25.248, loss/critic2=25.324, n/ep=10, n/st=10, rew=-67.60]                           \n"
     ]
    },
    {
     "name": "stdout",
     "output_type": "stream",
     "text": [
      "Epoch #1: test_reward: -95.000000 ± 0.000000, best_reward: -95.000000 ± 0.000000 in #0\n"
     ]
    },
    {
     "name": "stderr",
     "output_type": "stream",
     "text": [
      "Epoch #2: 10001it [00:13, 750.47it/s, env_step=20000, len=10, loss/actor=76.047, loss/critic1=39.253, loss/critic2=38.494, n/ep=10, n/st=10, rew=-69.50]                           \n"
     ]
    },
    {
     "name": "stdout",
     "output_type": "stream",
     "text": [
      "Epoch #2: test_reward: -95.000000 ± 0.000000, best_reward: -95.000000 ± 0.000000 in #0\n"
     ]
    },
    {
     "name": "stderr",
     "output_type": "stream",
     "text": [
      "Epoch #3: 10001it [00:13, 748.53it/s, env_step=30000, len=10, loss/actor=91.264, loss/critic1=36.724, loss/critic2=36.343, n/ep=10, n/st=10, rew=-70.00]                           \n"
     ]
    },
    {
     "name": "stdout",
     "output_type": "stream",
     "text": [
      "Epoch #3: test_reward: -95.000000 ± 0.000000, best_reward: -95.000000 ± 0.000000 in #0\n"
     ]
    },
    {
     "name": "stderr",
     "output_type": "stream",
     "text": [
      "Epoch #4: 10001it [00:13, 737.99it/s, env_step=40000, len=10, loss/actor=100.690, loss/critic1=34.103, loss/critic2=35.206, n/ep=10, n/st=10, rew=-73.70]                           \n"
     ]
    },
    {
     "name": "stdout",
     "output_type": "stream",
     "text": [
      "Epoch #4: test_reward: -95.000000 ± 0.000000, best_reward: -95.000000 ± 0.000000 in #0\n"
     ]
    },
    {
     "name": "stderr",
     "output_type": "stream",
     "text": [
      "Epoch #5: 10001it [00:13, 740.16it/s, env_step=50000, len=10, loss/actor=106.947, loss/critic1=30.655, loss/critic2=31.969, n/ep=10, n/st=10, rew=-73.30]                           \n"
     ]
    },
    {
     "name": "stdout",
     "output_type": "stream",
     "text": [
      "Epoch #5: test_reward: -95.000000 ± 0.000000, best_reward: -95.000000 ± 0.000000 in #0\n"
     ]
    },
    {
     "name": "stderr",
     "output_type": "stream",
     "text": [
      "Epoch #6: 10001it [00:13, 745.99it/s, env_step=60000, len=10, loss/actor=110.876, loss/critic1=27.723, loss/critic2=28.899, n/ep=10, n/st=10, rew=-76.10]                           \n"
     ]
    },
    {
     "name": "stdout",
     "output_type": "stream",
     "text": [
      "Epoch #6: test_reward: -95.000000 ± 0.000000, best_reward: -95.000000 ± 0.000000 in #0\n"
     ]
    },
    {
     "name": "stderr",
     "output_type": "stream",
     "text": [
      "Epoch #7: 10001it [00:13, 748.32it/s, env_step=70000, len=10, loss/actor=113.195, loss/critic1=26.907, loss/critic2=28.295, n/ep=10, n/st=10, rew=-70.90]                           \n"
     ]
    },
    {
     "name": "stdout",
     "output_type": "stream",
     "text": [
      "Epoch #7: test_reward: -95.000000 ± 0.000000, best_reward: -95.000000 ± 0.000000 in #0\n"
     ]
    },
    {
     "name": "stderr",
     "output_type": "stream",
     "text": [
      "Epoch #8: 10001it [00:13, 742.48it/s, env_step=80000, len=10, loss/actor=113.795, loss/critic1=28.200, loss/critic2=29.213, n/ep=10, n/st=10, rew=-67.90]                           \n"
     ]
    },
    {
     "name": "stdout",
     "output_type": "stream",
     "text": [
      "Epoch #8: test_reward: -85.000000 ± 0.000000, best_reward: -85.000000 ± 0.000000 in #8\n"
     ]
    },
    {
     "name": "stderr",
     "output_type": "stream",
     "text": [
      "Epoch #9: 10001it [00:13, 741.83it/s, env_step=90000, len=10, loss/actor=112.747, loss/critic1=29.746, loss/critic2=30.747, n/ep=10, n/st=10, rew=-69.20]                           \n"
     ]
    },
    {
     "name": "stdout",
     "output_type": "stream",
     "text": [
      "Epoch #9: test_reward: -77.000000 ± 0.000000, best_reward: -77.000000 ± 0.000000 in #9\n"
     ]
    },
    {
     "name": "stderr",
     "output_type": "stream",
     "text": [
      "Epoch #10: 10001it [00:13, 737.37it/s, env_step=100000, len=10, loss/actor=110.868, loss/critic1=29.487, loss/critic2=30.207, n/ep=10, n/st=10, rew=-70.40]                           \n"
     ]
    },
    {
     "name": "stdout",
     "output_type": "stream",
     "text": [
      "Epoch #10: test_reward: -77.000000 ± 0.000000, best_reward: -77.000000 ± 0.000000 in #9\n"
     ]
    },
    {
     "name": "stderr",
     "output_type": "stream",
     "text": [
      "Epoch #11: 10001it [00:13, 739.43it/s, env_step=110000, len=10, loss/actor=109.723, loss/critic1=27.483, loss/critic2=27.978, n/ep=10, n/st=10, rew=-63.10]                           \n"
     ]
    },
    {
     "name": "stdout",
     "output_type": "stream",
     "text": [
      "Epoch #11: test_reward: -85.000000 ± 0.000000, best_reward: -77.000000 ± 0.000000 in #9\n"
     ]
    },
    {
     "name": "stderr",
     "output_type": "stream",
     "text": [
      "Epoch #12: 10001it [00:13, 739.06it/s, env_step=120000, len=10, loss/actor=109.765, loss/critic1=25.563, loss/critic2=26.151, n/ep=10, n/st=10, rew=-66.00]                           \n"
     ]
    },
    {
     "name": "stdout",
     "output_type": "stream",
     "text": [
      "Epoch #12: test_reward: -85.000000 ± 0.000000, best_reward: -77.000000 ± 0.000000 in #9\n"
     ]
    },
    {
     "name": "stderr",
     "output_type": "stream",
     "text": [
      "Epoch #13: 10001it [00:13, 731.05it/s, env_step=130000, len=10, loss/actor=110.032, loss/critic1=25.175, loss/critic2=26.202, n/ep=10, n/st=10, rew=-67.60]                           \n"
     ]
    },
    {
     "name": "stdout",
     "output_type": "stream",
     "text": [
      "Epoch #13: test_reward: -77.000000 ± 0.000000, best_reward: -77.000000 ± 0.000000 in #9\n"
     ]
    },
    {
     "name": "stderr",
     "output_type": "stream",
     "text": [
      "Epoch #14: 10001it [00:15, 658.54it/s, env_step=140000, len=10, loss/actor=110.122, loss/critic1=25.747, loss/critic2=26.692, n/ep=10, n/st=10, rew=-70.00]                           \n"
     ]
    },
    {
     "name": "stdout",
     "output_type": "stream",
     "text": [
      "Epoch #14: test_reward: -77.000000 ± 0.000000, best_reward: -77.000000 ± 0.000000 in #9\n"
     ]
    },
    {
     "name": "stderr",
     "output_type": "stream",
     "text": [
      "Epoch #15: 10001it [00:15, 648.77it/s, env_step=150000, len=10, loss/actor=110.604, loss/critic1=26.222, loss/critic2=27.014, n/ep=10, n/st=10, rew=-70.10]                           \n"
     ]
    },
    {
     "name": "stdout",
     "output_type": "stream",
     "text": [
      "Epoch #15: test_reward: -77.000000 ± 0.000000, best_reward: -77.000000 ± 0.000000 in #9\n"
     ]
    },
    {
     "name": "stderr",
     "output_type": "stream",
     "text": [
      "Epoch #16: 10001it [00:13, 720.69it/s, env_step=160000, len=10, loss/actor=110.469, loss/critic1=27.120, loss/critic2=27.653, n/ep=10, n/st=10, rew=-68.10]                           \n"
     ]
    },
    {
     "name": "stdout",
     "output_type": "stream",
     "text": [
      "Epoch #16: test_reward: -85.000000 ± 0.000000, best_reward: -77.000000 ± 0.000000 in #9\n"
     ]
    },
    {
     "name": "stderr",
     "output_type": "stream",
     "text": [
      "Epoch #17: 10001it [00:14, 697.42it/s, env_step=170000, len=10, loss/actor=110.418, loss/critic1=26.047, loss/critic2=26.490, n/ep=10, n/st=10, rew=-66.40]                           \n"
     ]
    },
    {
     "name": "stdout",
     "output_type": "stream",
     "text": [
      "Epoch #17: test_reward: -69.000000 ± 0.000000, best_reward: -69.000000 ± 0.000000 in #17\n"
     ]
    },
    {
     "name": "stderr",
     "output_type": "stream",
     "text": [
      "Epoch #18: 10001it [00:14, 713.98it/s, env_step=180000, len=10, loss/actor=110.628, loss/critic1=25.426, loss/critic2=25.702, n/ep=10, n/st=10, rew=-70.90]                           \n"
     ]
    },
    {
     "name": "stdout",
     "output_type": "stream",
     "text": [
      "Epoch #18: test_reward: -69.000000 ± 0.000000, best_reward: -69.000000 ± 0.000000 in #17\n"
     ]
    },
    {
     "name": "stderr",
     "output_type": "stream",
     "text": [
      "Epoch #19: 10001it [00:14, 710.04it/s, env_step=190000, len=10, loss/actor=110.579, loss/critic1=24.743, loss/critic2=25.367, n/ep=10, n/st=10, rew=-69.40]                           \n"
     ]
    },
    {
     "name": "stdout",
     "output_type": "stream",
     "text": [
      "Epoch #19: test_reward: -69.000000 ± 0.000000, best_reward: -69.000000 ± 0.000000 in #17\n"
     ]
    },
    {
     "name": "stderr",
     "output_type": "stream",
     "text": [
      "Epoch #20: 10001it [00:13, 715.43it/s, env_step=200000, len=10, loss/actor=110.818, loss/critic1=25.164, loss/critic2=25.904, n/ep=10, n/st=10, rew=-70.90]                           \n"
     ]
    },
    {
     "name": "stdout",
     "output_type": "stream",
     "text": [
      "Epoch #20: test_reward: -69.000000 ± 0.000000, best_reward: -69.000000 ± 0.000000 in #17\n"
     ]
    },
    {
     "name": "stderr",
     "output_type": "stream",
     "text": [
      "Epoch #21: 10001it [00:14, 708.66it/s, env_step=210000, len=10, loss/actor=111.042, loss/critic1=25.369, loss/critic2=26.351, n/ep=10, n/st=10, rew=-66.50]                           \n"
     ]
    },
    {
     "name": "stdout",
     "output_type": "stream",
     "text": [
      "Epoch #21: test_reward: -69.000000 ± 0.000000, best_reward: -69.000000 ± 0.000000 in #17\n"
     ]
    },
    {
     "name": "stderr",
     "output_type": "stream",
     "text": [
      "Epoch #22: 10001it [00:13, 721.45it/s, env_step=220000, len=10, loss/actor=110.703, loss/critic1=24.673, loss/critic2=25.247, n/ep=10, n/st=10, rew=-70.50]                           \n"
     ]
    },
    {
     "name": "stdout",
     "output_type": "stream",
     "text": [
      "Epoch #22: test_reward: -69.000000 ± 0.000000, best_reward: -69.000000 ± 0.000000 in #17\n"
     ]
    },
    {
     "name": "stderr",
     "output_type": "stream",
     "text": [
      "Epoch #23: 10001it [00:13, 729.66it/s, env_step=230000, len=10, loss/actor=110.653, loss/critic1=25.146, loss/critic2=26.075, n/ep=10, n/st=10, rew=-64.40]                           \n"
     ]
    },
    {
     "name": "stdout",
     "output_type": "stream",
     "text": [
      "Epoch #23: test_reward: -69.000000 ± 0.000000, best_reward: -69.000000 ± 0.000000 in #17\n"
     ]
    },
    {
     "name": "stderr",
     "output_type": "stream",
     "text": [
      "Epoch #24: 10001it [00:13, 715.66it/s, env_step=240000, len=10, loss/actor=110.799, loss/critic1=25.028, loss/critic2=26.129, n/ep=10, n/st=10, rew=-61.50]                           \n"
     ]
    },
    {
     "name": "stdout",
     "output_type": "stream",
     "text": [
      "Epoch #24: test_reward: -69.000000 ± 0.000000, best_reward: -69.000000 ± 0.000000 in #17\n"
     ]
    },
    {
     "name": "stderr",
     "output_type": "stream",
     "text": [
      "Epoch #25: 10001it [00:13, 732.52it/s, env_step=250000, len=10, loss/actor=110.589, loss/critic1=24.772, loss/critic2=25.663, n/ep=10, n/st=10, rew=-65.30]                           \n"
     ]
    },
    {
     "name": "stdout",
     "output_type": "stream",
     "text": [
      "Epoch #25: test_reward: -69.000000 ± 0.000000, best_reward: -69.000000 ± 0.000000 in #17\n"
     ]
    },
    {
     "name": "stderr",
     "output_type": "stream",
     "text": [
      "Epoch #26: 10001it [00:13, 727.18it/s, env_step=260000, len=10, loss/actor=110.372, loss/critic1=23.645, loss/critic2=24.701, n/ep=10, n/st=10, rew=-67.10]                           \n"
     ]
    },
    {
     "name": "stdout",
     "output_type": "stream",
     "text": [
      "Epoch #26: test_reward: -69.000000 ± 0.000000, best_reward: -69.000000 ± 0.000000 in #17\n"
     ]
    },
    {
     "name": "stderr",
     "output_type": "stream",
     "text": [
      "Epoch #27: 10001it [00:13, 728.29it/s, env_step=270000, len=10, loss/actor=110.510, loss/critic1=23.248, loss/critic2=24.334, n/ep=10, n/st=10, rew=-65.60]                           \n"
     ]
    },
    {
     "name": "stdout",
     "output_type": "stream",
     "text": [
      "Epoch #27: test_reward: -69.000000 ± 0.000000, best_reward: -69.000000 ± 0.000000 in #17\n"
     ]
    },
    {
     "name": "stderr",
     "output_type": "stream",
     "text": [
      "Epoch #28: 10001it [00:13, 728.05it/s, env_step=280000, len=10, loss/actor=110.803, loss/critic1=23.035, loss/critic2=24.325, n/ep=10, n/st=10, rew=-64.40]                           \n"
     ]
    },
    {
     "name": "stdout",
     "output_type": "stream",
     "text": [
      "Epoch #28: test_reward: -69.000000 ± 0.000000, best_reward: -69.000000 ± 0.000000 in #17\n"
     ]
    },
    {
     "name": "stderr",
     "output_type": "stream",
     "text": [
      "Epoch #29: 10001it [00:13, 742.95it/s, env_step=290000, len=10, loss/actor=110.584, loss/critic1=23.441, loss/critic2=24.520, n/ep=10, n/st=10, rew=-66.30]                           \n"
     ]
    },
    {
     "name": "stdout",
     "output_type": "stream",
     "text": [
      "Epoch #29: test_reward: -69.000000 ± 0.000000, best_reward: -69.000000 ± 0.000000 in #17\n"
     ]
    },
    {
     "name": "stderr",
     "output_type": "stream",
     "text": [
      "Epoch #30: 10001it [00:13, 739.34it/s, env_step=300000, len=10, loss/actor=109.946, loss/critic1=24.557, loss/critic2=25.861, n/ep=10, n/st=10, rew=-69.60]                           \n"
     ]
    },
    {
     "name": "stdout",
     "output_type": "stream",
     "text": [
      "Epoch #30: test_reward: -69.000000 ± 0.000000, best_reward: -69.000000 ± 0.000000 in #17\n"
     ]
    },
    {
     "name": "stderr",
     "output_type": "stream",
     "text": [
      "Epoch #31: 10001it [00:13, 743.59it/s, env_step=310000, len=10, loss/actor=109.297, loss/critic1=23.920, loss/critic2=25.288, n/ep=10, n/st=10, rew=-68.30]                           \n"
     ]
    },
    {
     "name": "stdout",
     "output_type": "stream",
     "text": [
      "Epoch #31: test_reward: -69.000000 ± 0.000000, best_reward: -69.000000 ± 0.000000 in #17\n"
     ]
    },
    {
     "name": "stderr",
     "output_type": "stream",
     "text": [
      "Epoch #32: 10001it [00:13, 730.84it/s, env_step=320000, len=10, loss/actor=109.126, loss/critic1=23.601, loss/critic2=25.115, n/ep=10, n/st=10, rew=-68.90]                           \n"
     ]
    },
    {
     "name": "stdout",
     "output_type": "stream",
     "text": [
      "Epoch #32: test_reward: -69.000000 ± 0.000000, best_reward: -69.000000 ± 0.000000 in #17\n"
     ]
    },
    {
     "name": "stderr",
     "output_type": "stream",
     "text": [
      "Epoch #33: 10001it [00:14, 709.28it/s, env_step=330000, len=10, loss/actor=109.393, loss/critic1=23.359, loss/critic2=25.102, n/ep=10, n/st=10, rew=-66.50]                           \n"
     ]
    },
    {
     "name": "stdout",
     "output_type": "stream",
     "text": [
      "Epoch #33: test_reward: -67.000000 ± 0.000000, best_reward: -67.000000 ± 0.000000 in #33\n"
     ]
    },
    {
     "name": "stderr",
     "output_type": "stream",
     "text": [
      "Epoch #34: 10001it [00:14, 709.80it/s, env_step=340000, len=10, loss/actor=109.290, loss/critic1=23.525, loss/critic2=25.226, n/ep=10, n/st=10, rew=-67.00]                           \n"
     ]
    },
    {
     "name": "stdout",
     "output_type": "stream",
     "text": [
      "Epoch #34: test_reward: -63.000000 ± 0.000000, best_reward: -63.000000 ± 0.000000 in #34\n"
     ]
    },
    {
     "name": "stderr",
     "output_type": "stream",
     "text": [
      "Epoch #35: 10001it [00:14, 705.65it/s, env_step=350000, len=10, loss/actor=108.289, loss/critic1=23.876, loss/critic2=25.890, n/ep=10, n/st=10, rew=-71.10]                           \n"
     ]
    },
    {
     "name": "stdout",
     "output_type": "stream",
     "text": [
      "Epoch #35: test_reward: -63.000000 ± 0.000000, best_reward: -63.000000 ± 0.000000 in #34\n"
     ]
    },
    {
     "name": "stderr",
     "output_type": "stream",
     "text": [
      "Epoch #36: 10001it [00:14, 676.63it/s, env_step=360000, len=10, loss/actor=108.105, loss/critic1=23.612, loss/critic2=25.353, n/ep=10, n/st=10, rew=-69.50]                           \n"
     ]
    },
    {
     "name": "stdout",
     "output_type": "stream",
     "text": [
      "Epoch #36: test_reward: -63.000000 ± 0.000000, best_reward: -63.000000 ± 0.000000 in #34\n"
     ]
    },
    {
     "name": "stderr",
     "output_type": "stream",
     "text": [
      "Epoch #37: 10001it [00:14, 683.81it/s, env_step=370000, len=10, loss/actor=108.104, loss/critic1=22.788, loss/critic2=24.141, n/ep=10, n/st=10, rew=-65.30]                           \n"
     ]
    },
    {
     "name": "stdout",
     "output_type": "stream",
     "text": [
      "Epoch #37: test_reward: -63.000000 ± 0.000000, best_reward: -63.000000 ± 0.000000 in #34\n"
     ]
    },
    {
     "name": "stderr",
     "output_type": "stream",
     "text": [
      "Epoch #38: 10001it [00:14, 711.46it/s, env_step=380000, len=10, loss/actor=107.873, loss/critic1=22.964, loss/critic2=24.228, n/ep=10, n/st=10, rew=-67.60]                           \n"
     ]
    },
    {
     "name": "stdout",
     "output_type": "stream",
     "text": [
      "Epoch #38: test_reward: -63.000000 ± 0.000000, best_reward: -63.000000 ± 0.000000 in #34\n"
     ]
    },
    {
     "name": "stderr",
     "output_type": "stream",
     "text": [
      "Epoch #39: 10001it [00:13, 725.09it/s, env_step=390000, len=10, loss/actor=107.409, loss/critic1=24.118, loss/critic2=25.606, n/ep=10, n/st=10, rew=-69.10]                           \n"
     ]
    },
    {
     "name": "stdout",
     "output_type": "stream",
     "text": [
      "Epoch #39: test_reward: -63.000000 ± 0.000000, best_reward: -63.000000 ± 0.000000 in #34\n"
     ]
    },
    {
     "name": "stderr",
     "output_type": "stream",
     "text": [
      "Epoch #40: 10001it [00:13, 715.49it/s, env_step=400000, len=10, loss/actor=106.913, loss/critic1=24.348, loss/critic2=26.328, n/ep=10, n/st=10, rew=-70.90]                           \n"
     ]
    },
    {
     "name": "stdout",
     "output_type": "stream",
     "text": [
      "Epoch #40: test_reward: -63.000000 ± 0.000000, best_reward: -63.000000 ± 0.000000 in #34\n"
     ]
    },
    {
     "name": "stderr",
     "output_type": "stream",
     "text": [
      "Epoch #41: 10001it [00:14, 711.37it/s, env_step=410000, len=10, loss/actor=106.869, loss/critic1=23.242, loss/critic2=25.129, n/ep=10, n/st=10, rew=-69.70]                           \n"
     ]
    },
    {
     "name": "stdout",
     "output_type": "stream",
     "text": [
      "Epoch #41: test_reward: -63.000000 ± 0.000000, best_reward: -63.000000 ± 0.000000 in #34\n"
     ]
    },
    {
     "name": "stderr",
     "output_type": "stream",
     "text": [
      "Epoch #42: 10001it [00:13, 717.49it/s, env_step=420000, len=10, loss/actor=106.516, loss/critic1=22.528, loss/critic2=24.272, n/ep=10, n/st=10, rew=-63.50]                           \n"
     ]
    },
    {
     "name": "stdout",
     "output_type": "stream",
     "text": [
      "Epoch #42: test_reward: -63.000000 ± 0.000000, best_reward: -63.000000 ± 0.000000 in #34\n"
     ]
    },
    {
     "name": "stderr",
     "output_type": "stream",
     "text": [
      "Epoch #43: 10001it [00:13, 720.83it/s, env_step=430000, len=10, loss/actor=106.247, loss/critic1=22.904, loss/critic2=24.979, n/ep=10, n/st=10, rew=-69.20]                           \n"
     ]
    },
    {
     "name": "stdout",
     "output_type": "stream",
     "text": [
      "Epoch #43: test_reward: -63.000000 ± 0.000000, best_reward: -63.000000 ± 0.000000 in #34\n"
     ]
    },
    {
     "name": "stderr",
     "output_type": "stream",
     "text": [
      "Epoch #44: 10001it [00:13, 724.29it/s, env_step=440000, len=10, loss/actor=106.308, loss/critic1=21.962, loss/critic2=24.296, n/ep=10, n/st=10, rew=-67.40]                           \n"
     ]
    },
    {
     "name": "stdout",
     "output_type": "stream",
     "text": [
      "Epoch #44: test_reward: -63.000000 ± 0.000000, best_reward: -63.000000 ± 0.000000 in #34\n"
     ]
    },
    {
     "name": "stderr",
     "output_type": "stream",
     "text": [
      "Epoch #45: 10001it [00:14, 713.19it/s, env_step=450000, len=10, loss/actor=106.784, loss/critic1=21.948, loss/critic2=24.114, n/ep=10, n/st=10, rew=-67.40]                           \n"
     ]
    },
    {
     "name": "stdout",
     "output_type": "stream",
     "text": [
      "Epoch #45: test_reward: -63.000000 ± 0.000000, best_reward: -63.000000 ± 0.000000 in #34\n"
     ]
    },
    {
     "name": "stderr",
     "output_type": "stream",
     "text": [
      "Epoch #46: 10001it [00:13, 728.47it/s, env_step=460000, len=10, loss/actor=106.889, loss/critic1=22.078, loss/critic2=23.907, n/ep=10, n/st=10, rew=-71.20]                           \n"
     ]
    },
    {
     "name": "stdout",
     "output_type": "stream",
     "text": [
      "Epoch #46: test_reward: -63.000000 ± 0.000000, best_reward: -63.000000 ± 0.000000 in #34\n"
     ]
    },
    {
     "name": "stderr",
     "output_type": "stream",
     "text": [
      "Epoch #47: 10001it [00:13, 724.86it/s, env_step=470000, len=10, loss/actor=106.939, loss/critic1=22.464, loss/critic2=24.596, n/ep=10, n/st=10, rew=-74.70]                           \n"
     ]
    },
    {
     "name": "stdout",
     "output_type": "stream",
     "text": [
      "Epoch #47: test_reward: -63.000000 ± 0.000000, best_reward: -63.000000 ± 0.000000 in #34\n"
     ]
    },
    {
     "name": "stderr",
     "output_type": "stream",
     "text": [
      "Epoch #48: 10001it [00:13, 716.01it/s, env_step=480000, len=10, loss/actor=107.054, loss/critic1=22.621, loss/critic2=25.202, n/ep=10, n/st=10, rew=-67.40]                           \n"
     ]
    },
    {
     "name": "stdout",
     "output_type": "stream",
     "text": [
      "Epoch #48: test_reward: -63.000000 ± 0.000000, best_reward: -63.000000 ± 0.000000 in #34\n"
     ]
    },
    {
     "name": "stderr",
     "output_type": "stream",
     "text": [
      "Epoch #49: 10001it [00:13, 724.96it/s, env_step=490000, len=10, loss/actor=106.594, loss/critic1=22.643, loss/critic2=25.252, n/ep=10, n/st=10, rew=-68.60]                           \n"
     ]
    },
    {
     "name": "stdout",
     "output_type": "stream",
     "text": [
      "Epoch #49: test_reward: -63.000000 ± 0.000000, best_reward: -63.000000 ± 0.000000 in #34\n"
     ]
    },
    {
     "name": "stderr",
     "output_type": "stream",
     "text": [
      "Epoch #50: 10001it [00:13, 722.35it/s, env_step=500000, len=10, loss/actor=106.499, loss/critic1=22.331, loss/critic2=24.953, n/ep=10, n/st=10, rew=-70.30]                           \n"
     ]
    },
    {
     "name": "stdout",
     "output_type": "stream",
     "text": [
      "Epoch #50: test_reward: -63.000000 ± 0.000000, best_reward: -63.000000 ± 0.000000 in #34\n"
     ]
    },
    {
     "name": "stderr",
     "output_type": "stream",
     "text": [
      "Epoch #51: 10001it [00:13, 719.97it/s, env_step=510000, len=10, loss/actor=106.654, loss/critic1=22.059, loss/critic2=24.201, n/ep=10, n/st=10, rew=-66.30]                           \n"
     ]
    },
    {
     "name": "stdout",
     "output_type": "stream",
     "text": [
      "Epoch #51: test_reward: -63.000000 ± 0.000000, best_reward: -63.000000 ± 0.000000 in #34\n"
     ]
    },
    {
     "name": "stderr",
     "output_type": "stream",
     "text": [
      "Epoch #52: 10001it [00:13, 717.48it/s, env_step=520000, len=10, loss/actor=106.603, loss/critic1=21.530, loss/critic2=23.337, n/ep=10, n/st=10, rew=-66.20]                           \n"
     ]
    },
    {
     "name": "stdout",
     "output_type": "stream",
     "text": [
      "Epoch #52: test_reward: -63.000000 ± 0.000000, best_reward: -63.000000 ± 0.000000 in #34\n"
     ]
    },
    {
     "name": "stderr",
     "output_type": "stream",
     "text": [
      "Epoch #53: 10001it [00:13, 719.39it/s, env_step=530000, len=10, loss/actor=106.556, loss/critic1=21.004, loss/critic2=22.936, n/ep=10, n/st=10, rew=-63.80]                           \n"
     ]
    },
    {
     "name": "stdout",
     "output_type": "stream",
     "text": [
      "Epoch #53: test_reward: -63.000000 ± 0.000000, best_reward: -63.000000 ± 0.000000 in #34\n"
     ]
    },
    {
     "name": "stderr",
     "output_type": "stream",
     "text": [
      "Epoch #54: 10001it [00:14, 708.22it/s, env_step=540000, len=10, loss/actor=106.605, loss/critic1=21.715, loss/critic2=23.919, n/ep=10, n/st=10, rew=-61.20]                           \n"
     ]
    },
    {
     "name": "stdout",
     "output_type": "stream",
     "text": [
      "Epoch #54: test_reward: -63.000000 ± 0.000000, best_reward: -63.000000 ± 0.000000 in #34\n"
     ]
    },
    {
     "name": "stderr",
     "output_type": "stream",
     "text": [
      "Epoch #55: 10001it [00:14, 710.82it/s, env_step=550000, len=10, loss/actor=106.665, loss/critic1=22.610, loss/critic2=25.333, n/ep=10, n/st=10, rew=-70.10]                           \n"
     ]
    },
    {
     "name": "stdout",
     "output_type": "stream",
     "text": [
      "Epoch #55: test_reward: -63.000000 ± 0.000000, best_reward: -63.000000 ± 0.000000 in #34\n"
     ]
    },
    {
     "name": "stderr",
     "output_type": "stream",
     "text": [
      "Epoch #56: 10001it [00:14, 708.63it/s, env_step=560000, len=10, loss/actor=106.806, loss/critic1=22.016, loss/critic2=24.506, n/ep=10, n/st=10, rew=-67.30]                           \n"
     ]
    },
    {
     "name": "stdout",
     "output_type": "stream",
     "text": [
      "Epoch #56: test_reward: -63.000000 ± 0.000000, best_reward: -63.000000 ± 0.000000 in #34\n"
     ]
    },
    {
     "name": "stderr",
     "output_type": "stream",
     "text": [
      "Epoch #57: 10001it [00:14, 704.17it/s, env_step=570000, len=10, loss/actor=107.067, loss/critic1=21.586, loss/critic2=23.996, n/ep=10, n/st=10, rew=-71.30]                           \n"
     ]
    },
    {
     "name": "stdout",
     "output_type": "stream",
     "text": [
      "Epoch #57: test_reward: -63.000000 ± 0.000000, best_reward: -63.000000 ± 0.000000 in #34\n"
     ]
    },
    {
     "name": "stderr",
     "output_type": "stream",
     "text": [
      "Epoch #58: 10001it [00:14, 714.21it/s, env_step=580000, len=10, loss/actor=107.068, loss/critic1=22.080, loss/critic2=24.510, n/ep=10, n/st=10, rew=-67.20]                           \n"
     ]
    },
    {
     "name": "stdout",
     "output_type": "stream",
     "text": [
      "Epoch #58: test_reward: -63.000000 ± 0.000000, best_reward: -63.000000 ± 0.000000 in #34\n"
     ]
    },
    {
     "name": "stderr",
     "output_type": "stream",
     "text": [
      "Epoch #59: 10001it [00:15, 656.97it/s, env_step=590000, len=10, loss/actor=106.951, loss/critic1=22.641, loss/critic2=24.672, n/ep=10, n/st=10, rew=-66.30]                           \n"
     ]
    },
    {
     "name": "stdout",
     "output_type": "stream",
     "text": [
      "Epoch #59: test_reward: -63.000000 ± 0.000000, best_reward: -63.000000 ± 0.000000 in #34\n"
     ]
    },
    {
     "name": "stderr",
     "output_type": "stream",
     "text": [
      "Epoch #60: 10001it [00:14, 701.26it/s, env_step=600000, len=10, loss/actor=106.635, loss/critic1=22.587, loss/critic2=24.734, n/ep=10, n/st=10, rew=-67.50]                           \n"
     ]
    },
    {
     "name": "stdout",
     "output_type": "stream",
     "text": [
      "Epoch #60: test_reward: -63.000000 ± 0.000000, best_reward: -63.000000 ± 0.000000 in #34\n"
     ]
    },
    {
     "name": "stderr",
     "output_type": "stream",
     "text": [
      "Epoch #61: 10001it [00:14, 709.97it/s, env_step=610000, len=10, loss/actor=106.291, loss/critic1=22.114, loss/critic2=24.670, n/ep=10, n/st=10, rew=-68.00]                           \n"
     ]
    },
    {
     "name": "stdout",
     "output_type": "stream",
     "text": [
      "Epoch #61: test_reward: -63.000000 ± 0.000000, best_reward: -63.000000 ± 0.000000 in #34\n"
     ]
    },
    {
     "name": "stderr",
     "output_type": "stream",
     "text": [
      "Epoch #62: 10001it [00:14, 704.05it/s, env_step=620000, len=10, loss/actor=106.216, loss/critic1=21.888, loss/critic2=25.031, n/ep=10, n/st=10, rew=-70.40]                           \n"
     ]
    },
    {
     "name": "stdout",
     "output_type": "stream",
     "text": [
      "Epoch #62: test_reward: -63.000000 ± 0.000000, best_reward: -63.000000 ± 0.000000 in #34\n"
     ]
    },
    {
     "name": "stderr",
     "output_type": "stream",
     "text": [
      "Epoch #63: 10001it [00:13, 715.42it/s, env_step=630000, len=10, loss/actor=106.332, loss/critic1=21.275, loss/critic2=24.069, n/ep=10, n/st=10, rew=-67.90]                           \n"
     ]
    },
    {
     "name": "stdout",
     "output_type": "stream",
     "text": [
      "Epoch #63: test_reward: -63.000000 ± 0.000000, best_reward: -63.000000 ± 0.000000 in #34\n"
     ]
    },
    {
     "name": "stderr",
     "output_type": "stream",
     "text": [
      "Epoch #64: 10001it [00:13, 719.69it/s, env_step=640000, len=10, loss/actor=106.406, loss/critic1=21.706, loss/critic2=24.714, n/ep=10, n/st=10, rew=-63.80]                           \n"
     ]
    },
    {
     "name": "stdout",
     "output_type": "stream",
     "text": [
      "Epoch #64: test_reward: -63.000000 ± 0.000000, best_reward: -63.000000 ± 0.000000 in #34\n"
     ]
    },
    {
     "name": "stderr",
     "output_type": "stream",
     "text": [
      "Epoch #65: 10001it [00:14, 704.59it/s, env_step=650000, len=10, loss/actor=106.590, loss/critic1=21.687, loss/critic2=25.433, n/ep=10, n/st=10, rew=-67.10]                           \n"
     ]
    },
    {
     "name": "stdout",
     "output_type": "stream",
     "text": [
      "Epoch #65: test_reward: -63.000000 ± 0.000000, best_reward: -63.000000 ± 0.000000 in #34\n"
     ]
    },
    {
     "name": "stderr",
     "output_type": "stream",
     "text": [
      "Epoch #66: 10001it [00:13, 714.91it/s, env_step=660000, len=10, loss/actor=106.557, loss/critic1=21.512, loss/critic2=24.909, n/ep=10, n/st=10, rew=-71.60]                           \n"
     ]
    },
    {
     "name": "stdout",
     "output_type": "stream",
     "text": [
      "Epoch #66: test_reward: -63.000000 ± 0.000000, best_reward: -63.000000 ± 0.000000 in #34\n"
     ]
    },
    {
     "name": "stderr",
     "output_type": "stream",
     "text": [
      "Epoch #67: 10001it [00:13, 721.35it/s, env_step=670000, len=10, loss/actor=106.448, loss/critic1=20.971, loss/critic2=24.052, n/ep=10, n/st=10, rew=-64.10]                           \n"
     ]
    },
    {
     "name": "stdout",
     "output_type": "stream",
     "text": [
      "Epoch #67: test_reward: -63.000000 ± 0.000000, best_reward: -63.000000 ± 0.000000 in #34\n"
     ]
    },
    {
     "name": "stderr",
     "output_type": "stream",
     "text": [
      "Epoch #68: 10001it [00:13, 720.83it/s, env_step=680000, len=10, loss/actor=106.325, loss/critic1=20.436, loss/critic2=23.455, n/ep=10, n/st=10, rew=-63.00]                           \n"
     ]
    },
    {
     "name": "stdout",
     "output_type": "stream",
     "text": [
      "Epoch #68: test_reward: -63.000000 ± 0.000000, best_reward: -63.000000 ± 0.000000 in #34\n"
     ]
    },
    {
     "name": "stderr",
     "output_type": "stream",
     "text": [
      "Epoch #69: 10001it [00:14, 706.43it/s, env_step=690000, len=10, loss/actor=106.288, loss/critic1=20.600, loss/critic2=23.675, n/ep=10, n/st=10, rew=-69.90]                           \n"
     ]
    },
    {
     "name": "stdout",
     "output_type": "stream",
     "text": [
      "Epoch #69: test_reward: -63.000000 ± 0.000000, best_reward: -63.000000 ± 0.000000 in #34\n"
     ]
    },
    {
     "name": "stderr",
     "output_type": "stream",
     "text": [
      "Epoch #70: 10001it [00:14, 702.49it/s, env_step=700000, len=10, loss/actor=106.223, loss/critic1=21.192, loss/critic2=24.487, n/ep=10, n/st=10, rew=-64.60]                           \n"
     ]
    },
    {
     "name": "stdout",
     "output_type": "stream",
     "text": [
      "Epoch #70: test_reward: -63.000000 ± 0.000000, best_reward: -63.000000 ± 0.000000 in #34\n"
     ]
    },
    {
     "name": "stderr",
     "output_type": "stream",
     "text": [
      "Epoch #71: 10001it [00:14, 705.39it/s, env_step=710000, len=10, loss/actor=106.640, loss/critic1=20.785, loss/critic2=24.411, n/ep=10, n/st=10, rew=-65.80]                           \n"
     ]
    },
    {
     "name": "stdout",
     "output_type": "stream",
     "text": [
      "Epoch #71: test_reward: -63.000000 ± 0.000000, best_reward: -63.000000 ± 0.000000 in #34\n"
     ]
    },
    {
     "name": "stderr",
     "output_type": "stream",
     "text": [
      "Epoch #72: 10001it [00:13, 720.31it/s, env_step=720000, len=10, loss/actor=107.163, loss/critic1=20.755, loss/critic2=24.186, n/ep=10, n/st=10, rew=-67.30]                           \n"
     ]
    },
    {
     "name": "stdout",
     "output_type": "stream",
     "text": [
      "Epoch #72: test_reward: -63.000000 ± 0.000000, best_reward: -63.000000 ± 0.000000 in #34\n"
     ]
    },
    {
     "name": "stderr",
     "output_type": "stream",
     "text": [
      "Epoch #73: 10001it [00:14, 707.55it/s, env_step=730000, len=10, loss/actor=107.490, loss/critic1=20.802, loss/critic2=23.784, n/ep=10, n/st=10, rew=-65.50]                           \n"
     ]
    },
    {
     "name": "stdout",
     "output_type": "stream",
     "text": [
      "Epoch #73: test_reward: -63.000000 ± 0.000000, best_reward: -63.000000 ± 0.000000 in #34\n"
     ]
    },
    {
     "name": "stderr",
     "output_type": "stream",
     "text": [
      "Epoch #74: 10001it [00:14, 713.61it/s, env_step=740000, len=10, loss/actor=107.474, loss/critic1=21.338, loss/critic2=24.410, n/ep=10, n/st=10, rew=-64.30]                           \n"
     ]
    },
    {
     "name": "stdout",
     "output_type": "stream",
     "text": [
      "Epoch #74: test_reward: -63.000000 ± 0.000000, best_reward: -63.000000 ± 0.000000 in #34\n"
     ]
    },
    {
     "name": "stderr",
     "output_type": "stream",
     "text": [
      "Epoch #75: 10001it [00:14, 701.80it/s, env_step=750000, len=10, loss/actor=106.917, loss/critic1=21.756, loss/critic2=25.150, n/ep=10, n/st=10, rew=-65.10]                           \n"
     ]
    },
    {
     "name": "stdout",
     "output_type": "stream",
     "text": [
      "Epoch #75: test_reward: -63.000000 ± 0.000000, best_reward: -63.000000 ± 0.000000 in #34\n"
     ]
    },
    {
     "name": "stderr",
     "output_type": "stream",
     "text": [
      "Epoch #76: 10001it [00:14, 708.78it/s, env_step=760000, len=10, loss/actor=106.503, loss/critic1=21.593, loss/critic2=25.035, n/ep=10, n/st=10, rew=-68.60]                           \n"
     ]
    },
    {
     "name": "stdout",
     "output_type": "stream",
     "text": [
      "Epoch #76: test_reward: -63.000000 ± 0.000000, best_reward: -63.000000 ± 0.000000 in #34\n"
     ]
    },
    {
     "name": "stderr",
     "output_type": "stream",
     "text": [
      "Epoch #77: 10001it [00:14, 703.10it/s, env_step=770000, len=10, loss/actor=106.317, loss/critic1=21.410, loss/critic2=24.878, n/ep=10, n/st=10, rew=-70.90]                           \n"
     ]
    },
    {
     "name": "stdout",
     "output_type": "stream",
     "text": [
      "Epoch #77: test_reward: -63.000000 ± 0.000000, best_reward: -63.000000 ± 0.000000 in #34\n"
     ]
    },
    {
     "name": "stderr",
     "output_type": "stream",
     "text": [
      "Epoch #78: 10001it [00:14, 701.35it/s, env_step=780000, len=10, loss/actor=106.478, loss/critic1=21.382, loss/critic2=24.861, n/ep=10, n/st=10, rew=-67.70]                           \n"
     ]
    },
    {
     "name": "stdout",
     "output_type": "stream",
     "text": [
      "Epoch #78: test_reward: -63.000000 ± 0.000000, best_reward: -63.000000 ± 0.000000 in #34\n"
     ]
    },
    {
     "name": "stderr",
     "output_type": "stream",
     "text": [
      "Epoch #79: 10001it [00:14, 700.29it/s, env_step=790000, len=10, loss/actor=106.741, loss/critic1=21.492, loss/critic2=24.812, n/ep=10, n/st=10, rew=-64.20]                           \n"
     ]
    },
    {
     "name": "stdout",
     "output_type": "stream",
     "text": [
      "Epoch #79: test_reward: -63.000000 ± 0.000000, best_reward: -63.000000 ± 0.000000 in #34\n"
     ]
    },
    {
     "name": "stderr",
     "output_type": "stream",
     "text": [
      "Epoch #80: 10001it [00:14, 707.80it/s, env_step=800000, len=10, loss/actor=106.867, loss/critic1=20.737, loss/critic2=23.754, n/ep=10, n/st=10, rew=-67.10]                           \n"
     ]
    },
    {
     "name": "stdout",
     "output_type": "stream",
     "text": [
      "Epoch #80: test_reward: -63.000000 ± 0.000000, best_reward: -63.000000 ± 0.000000 in #34\n"
     ]
    },
    {
     "name": "stderr",
     "output_type": "stream",
     "text": [
      "Epoch #81: 10001it [00:15, 632.81it/s, env_step=810000, len=10, loss/actor=106.787, loss/critic1=21.055, loss/critic2=24.525, n/ep=10, n/st=10, rew=-64.50]                           \n"
     ]
    },
    {
     "name": "stdout",
     "output_type": "stream",
     "text": [
      "Epoch #81: test_reward: -63.000000 ± 0.000000, best_reward: -63.000000 ± 0.000000 in #34\n"
     ]
    },
    {
     "name": "stderr",
     "output_type": "stream",
     "text": [
      "Epoch #82: 10001it [00:14, 705.25it/s, env_step=820000, len=10, loss/actor=106.854, loss/critic1=21.344, loss/critic2=24.711, n/ep=10, n/st=10, rew=-68.70]                           \n"
     ]
    },
    {
     "name": "stdout",
     "output_type": "stream",
     "text": [
      "Epoch #82: test_reward: -63.000000 ± 0.000000, best_reward: -63.000000 ± 0.000000 in #34\n"
     ]
    },
    {
     "name": "stderr",
     "output_type": "stream",
     "text": [
      "Epoch #83: 10001it [00:14, 712.39it/s, env_step=830000, len=10, loss/actor=106.833, loss/critic1=20.526, loss/critic2=23.738, n/ep=10, n/st=10, rew=-71.60]                           \n"
     ]
    },
    {
     "name": "stdout",
     "output_type": "stream",
     "text": [
      "Epoch #83: test_reward: -63.000000 ± 0.000000, best_reward: -63.000000 ± 0.000000 in #34\n"
     ]
    },
    {
     "name": "stderr",
     "output_type": "stream",
     "text": [
      "Epoch #84: 10001it [00:14, 707.52it/s, env_step=840000, len=10, loss/actor=106.440, loss/critic1=20.798, loss/critic2=24.006, n/ep=10, n/st=10, rew=-67.10]                           \n"
     ]
    },
    {
     "name": "stdout",
     "output_type": "stream",
     "text": [
      "Epoch #84: test_reward: -63.000000 ± 0.000000, best_reward: -63.000000 ± 0.000000 in #34\n"
     ]
    },
    {
     "name": "stderr",
     "output_type": "stream",
     "text": [
      "Epoch #85: 10001it [00:13, 715.69it/s, env_step=850000, len=10, loss/actor=106.129, loss/critic1=21.451, loss/critic2=24.423, n/ep=10, n/st=10, rew=-66.80]                           \n"
     ]
    },
    {
     "name": "stdout",
     "output_type": "stream",
     "text": [
      "Epoch #85: test_reward: -63.000000 ± 0.000000, best_reward: -63.000000 ± 0.000000 in #34\n"
     ]
    },
    {
     "name": "stderr",
     "output_type": "stream",
     "text": [
      "Epoch #86: 10001it [00:14, 712.60it/s, env_step=860000, len=10, loss/actor=105.489, loss/critic1=21.086, loss/critic2=23.862, n/ep=10, n/st=10, rew=-63.80]                           \n"
     ]
    },
    {
     "name": "stdout",
     "output_type": "stream",
     "text": [
      "Epoch #86: test_reward: -63.000000 ± 0.000000, best_reward: -63.000000 ± 0.000000 in #34\n"
     ]
    },
    {
     "name": "stderr",
     "output_type": "stream",
     "text": [
      "Epoch #87: 10001it [00:13, 719.69it/s, env_step=870000, len=10, loss/actor=105.118, loss/critic1=20.834, loss/critic2=23.123, n/ep=10, n/st=10, rew=-62.30]                           \n"
     ]
    },
    {
     "name": "stdout",
     "output_type": "stream",
     "text": [
      "Epoch #87: test_reward: -63.000000 ± 0.000000, best_reward: -63.000000 ± 0.000000 in #34\n"
     ]
    },
    {
     "name": "stderr",
     "output_type": "stream",
     "text": [
      "Epoch #88: 10001it [00:14, 706.11it/s, env_step=880000, len=10, loss/actor=104.938, loss/critic1=21.332, loss/critic2=23.484, n/ep=10, n/st=10, rew=-70.00]                           \n"
     ]
    },
    {
     "name": "stdout",
     "output_type": "stream",
     "text": [
      "Epoch #88: test_reward: -63.000000 ± 0.000000, best_reward: -63.000000 ± 0.000000 in #34\n"
     ]
    },
    {
     "name": "stderr",
     "output_type": "stream",
     "text": [
      "Epoch #89: 10001it [00:13, 717.44it/s, env_step=890000, len=10, loss/actor=104.934, loss/critic1=21.477, loss/critic2=23.688, n/ep=10, n/st=10, rew=-69.50]                           \n"
     ]
    },
    {
     "name": "stdout",
     "output_type": "stream",
     "text": [
      "Epoch #89: test_reward: -63.000000 ± 0.000000, best_reward: -63.000000 ± 0.000000 in #34\n"
     ]
    },
    {
     "name": "stderr",
     "output_type": "stream",
     "text": [
      "Epoch #90: 10001it [00:13, 724.27it/s, env_step=900000, len=10, loss/actor=104.445, loss/critic1=21.154, loss/critic2=23.544, n/ep=10, n/st=10, rew=-70.20]                           \n"
     ]
    },
    {
     "name": "stdout",
     "output_type": "stream",
     "text": [
      "Epoch #90: test_reward: -63.000000 ± 0.000000, best_reward: -63.000000 ± 0.000000 in #34\n"
     ]
    },
    {
     "name": "stderr",
     "output_type": "stream",
     "text": [
      "Epoch #91: 10001it [00:13, 725.00it/s, env_step=910000, len=10, loss/actor=104.283, loss/critic1=21.245, loss/critic2=23.542, n/ep=10, n/st=10, rew=-66.80]                           \n"
     ]
    },
    {
     "name": "stdout",
     "output_type": "stream",
     "text": [
      "Epoch #91: test_reward: -63.000000 ± 0.000000, best_reward: -63.000000 ± 0.000000 in #34\n"
     ]
    },
    {
     "name": "stderr",
     "output_type": "stream",
     "text": [
      "Epoch #92: 10001it [00:14, 710.03it/s, env_step=920000, len=10, loss/actor=104.239, loss/critic1=21.743, loss/critic2=24.184, n/ep=10, n/st=10, rew=-63.20]                           \n"
     ]
    },
    {
     "name": "stdout",
     "output_type": "stream",
     "text": [
      "Epoch #92: test_reward: -63.000000 ± 0.000000, best_reward: -63.000000 ± 0.000000 in #34\n"
     ]
    },
    {
     "name": "stderr",
     "output_type": "stream",
     "text": [
      "Epoch #93: 10001it [00:14, 699.44it/s, env_step=930000, len=10, loss/actor=104.139, loss/critic1=21.815, loss/critic2=24.530, n/ep=10, n/st=10, rew=-70.00]                           \n"
     ]
    },
    {
     "name": "stdout",
     "output_type": "stream",
     "text": [
      "Epoch #93: test_reward: -63.000000 ± 0.000000, best_reward: -63.000000 ± 0.000000 in #34\n"
     ]
    },
    {
     "name": "stderr",
     "output_type": "stream",
     "text": [
      "Epoch #94: 10001it [00:13, 721.56it/s, env_step=940000, len=10, loss/actor=103.974, loss/critic1=21.945, loss/critic2=24.627, n/ep=10, n/st=10, rew=-68.20]                           \n"
     ]
    },
    {
     "name": "stdout",
     "output_type": "stream",
     "text": [
      "Epoch #94: test_reward: -63.000000 ± 0.000000, best_reward: -63.000000 ± 0.000000 in #34\n"
     ]
    },
    {
     "name": "stderr",
     "output_type": "stream",
     "text": [
      "Epoch #95: 10001it [00:13, 718.66it/s, env_step=950000, len=10, loss/actor=104.117, loss/critic1=21.863, loss/critic2=24.261, n/ep=10, n/st=10, rew=-66.90]                           \n"
     ]
    },
    {
     "name": "stdout",
     "output_type": "stream",
     "text": [
      "Epoch #95: test_reward: -63.000000 ± 0.000000, best_reward: -63.000000 ± 0.000000 in #34\n"
     ]
    },
    {
     "name": "stderr",
     "output_type": "stream",
     "text": [
      "Epoch #96: 10001it [00:13, 730.36it/s, env_step=960000, len=10, loss/actor=104.124, loss/critic1=22.186, loss/critic2=24.854, n/ep=10, n/st=10, rew=-64.60]                           \n"
     ]
    },
    {
     "name": "stdout",
     "output_type": "stream",
     "text": [
      "Epoch #96: test_reward: -63.000000 ± 0.000000, best_reward: -63.000000 ± 0.000000 in #34\n"
     ]
    },
    {
     "name": "stderr",
     "output_type": "stream",
     "text": [
      "Epoch #97: 10001it [00:13, 731.28it/s, env_step=970000, len=10, loss/actor=103.694, loss/critic1=22.999, loss/critic2=25.681, n/ep=10, n/st=10, rew=-68.00]                           \n"
     ]
    },
    {
     "name": "stdout",
     "output_type": "stream",
     "text": [
      "Epoch #97: test_reward: -63.000000 ± 0.000000, best_reward: -63.000000 ± 0.000000 in #34\n"
     ]
    },
    {
     "name": "stderr",
     "output_type": "stream",
     "text": [
      "Epoch #98: 10001it [00:13, 722.69it/s, env_step=980000, len=10, loss/actor=103.548, loss/critic1=22.266, loss/critic2=24.681, n/ep=10, n/st=10, rew=-69.20]                           \n"
     ]
    },
    {
     "name": "stdout",
     "output_type": "stream",
     "text": [
      "Epoch #98: test_reward: -63.000000 ± 0.000000, best_reward: -63.000000 ± 0.000000 in #34\n"
     ]
    },
    {
     "name": "stderr",
     "output_type": "stream",
     "text": [
      "Epoch #99: 10001it [00:13, 724.00it/s, env_step=990000, len=10, loss/actor=103.291, loss/critic1=21.188, loss/critic2=23.426, n/ep=10, n/st=10, rew=-69.10]                           \n"
     ]
    },
    {
     "name": "stdout",
     "output_type": "stream",
     "text": [
      "Epoch #99: test_reward: -63.000000 ± 0.000000, best_reward: -63.000000 ± 0.000000 in #34\n"
     ]
    },
    {
     "name": "stderr",
     "output_type": "stream",
     "text": [
      "Epoch #100: 10001it [00:13, 718.48it/s, env_step=1000000, len=10, loss/actor=103.355, loss/critic1=21.068, loss/critic2=23.294, n/ep=10, n/st=10, rew=-69.90]                           \n"
     ]
    },
    {
     "name": "stdout",
     "output_type": "stream",
     "text": [
      "Epoch #100: test_reward: -63.000000 ± 0.000000, best_reward: -63.000000 ± 0.000000 in #34\n",
      "Finished training! Use 1425.46s\n"
     ]
    }
   ],
   "source": [
    "result = ts.trainer.offpolicy_trainer(\n",
    "    policy,\n",
    "    train_collector,\n",
    "    test_collector,\n",
    "    max_epoch=100,\n",
    "    step_per_epoch=10000,\n",
    "    step_per_collect=10,\n",
    "    # update_per_step=1,\n",
    "    update_per_step=0.1,\n",
    "    test_in_train=False,\n",
    "    episode_per_test=100,\n",
    "    batch_size=640,\n",
    "    stop_fn=lambda mean_rewards: mean_rewards >= threshold,\n",
    "    logger=logger\n",
    ")\n",
    "print(f\"Finished training! Use {result['duration']}\")"
   ]
  },
  {
   "cell_type": "code",
   "execution_count": 17,
   "metadata": {},
   "outputs": [
    {
     "data": {
      "text/plain": [
       "{'duration': '1425.46s',\n",
       " 'train_time/model': '1082.17s',\n",
       " 'test_step': 101000,\n",
       " 'test_episode': 10100,\n",
       " 'test_time': '22.15s',\n",
       " 'test_speed': '4559.27 step/s',\n",
       " 'best_reward': -63.0,\n",
       " 'best_result': '-63.00 ± 0.00',\n",
       " 'train_step': 1000000,\n",
       " 'train_episode': 100000,\n",
       " 'train_time/collector': '321.14s',\n",
       " 'train_speed': '712.60 step/s'}"
      ]
     },
     "execution_count": 17,
     "metadata": {},
     "output_type": "execute_result"
    }
   ],
   "source": [
    "result"
   ]
  },
  {
   "cell_type": "code",
   "execution_count": 18,
   "metadata": {},
   "outputs": [
    {
     "data": {
      "text/plain": [
       "{'n/ep': 10,\n",
       " 'n/st': 100,\n",
       " 'rews': array([-63., -63., -63., -63., -63., -63., -63., -63., -63., -63.]),\n",
       " 'lens': array([10, 10, 10, 10, 10, 10, 10, 10, 10, 10]),\n",
       " 'idxs': array([0, 0, 0, 0, 0, 0, 0, 0, 0, 0]),\n",
       " 'rew': -63.0,\n",
       " 'len': 10.0,\n",
       " 'rew_std': 0.0,\n",
       " 'len_std': 0.0}"
      ]
     },
     "execution_count": 18,
     "metadata": {},
     "output_type": "execute_result"
    }
   ],
   "source": [
    "policy.eval()\n",
    "# policy.set_eps(0.05)\n",
    "collector = ts.data.Collector(policy, ts.env.DummyVectorEnv([lambda: make_env(\"human\")]), exploration_noise=False)\n",
    "collector.collect(n_episode=10, render=1 / 60)"
   ]
  }
 ],
 "metadata": {
  "kernelspec": {
   "display_name": "Python 3.9.12 ('subgame')",
   "language": "python",
   "name": "python3"
  },
  "language_info": {
   "codemirror_mode": {
    "name": "ipython",
    "version": 3
   },
   "file_extension": ".py",
   "mimetype": "text/x-python",
   "name": "python",
   "nbconvert_exporter": "python",
   "pygments_lexer": "ipython3",
   "version": "3.9.12 (main, Apr  4 2022, 05:22:27) [MSC v.1916 64 bit (AMD64)]"
  },
  "orig_nbformat": 4,
  "vscode": {
   "interpreter": {
    "hash": "09b31e4957d63d79e1e76c5537c345194b9f565583fac53cbbb105281d72baf4"
   }
  }
 },
 "nbformat": 4,
 "nbformat_minor": 2
}
