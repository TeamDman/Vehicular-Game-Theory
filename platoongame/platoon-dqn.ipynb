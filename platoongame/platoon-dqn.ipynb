{
 "cells": [
  {
   "cell_type": "markdown",
   "metadata": {},
   "source": [
    "See also: [pytorch cartpole DQN](https://pytorch.org/tutorials/intermediate/reinforcement_q_learning.html)"
   ]
  },
  {
   "cell_type": "code",
   "execution_count": 1,
   "metadata": {},
   "outputs": [],
   "source": [
    "import gym\n",
    "import torch\n",
    "import torch.nn as nn\n",
    "import torch.nn.functional as F\n",
    "from torch import Tensor\n",
    "import numpy as np\n",
    "import random\n",
    "import matplotlib.pyplot as plt\n",
    "from collections import deque\n",
    "from tqdm import tqdm\n",
    "from dataclasses import dataclass\n",
    "from itertools import count\n",
    "import random\n",
    "import math\n",
    "from typing import List, Tuple, Dict, Any, Optional, Callable, Union"
   ]
  },
  {
   "cell_type": "code",
   "execution_count": 2,
   "metadata": {},
   "outputs": [],
   "source": [
    "import platoonenv\n",
    "from gym.wrappers import TimeLimit # type: ignore\n",
    "# envName = \"CartPole-v0\"\n",
    "# envName = \"MountainCar-v0\"\n",
    "# envName = \"Acrobot-v1\"\n",
    "envName = \"Platoon-v0\"\n",
    "params=platoonenv.PlatoonEnvParams(\n",
    "    num_vehicles=10,\n",
    "    num_vulns=4,\n",
    "    num_attack=1,\n",
    "    attack_interval=600\n",
    ")\n",
    "def make_env(render_mode: Union[str, None] = None) -> gym.Env[np.ndarray, int]:\n",
    "    if envName == \"Platoon-v0\":\n",
    "        env = gym.make(envName, render_mode=render_mode, params=params)\n",
    "        # env = gym.wrappers.TimeLimit(env, max_episode_steps=100)\n",
    "        env = TimeLimit(env, max_episode_steps=10)\n",
    "    else:\n",
    "        env = gym.make(envName, render_mode=render_mode)\n",
    "    return env\n",
    "env = make_env(render_mode=\"human\")"
   ]
  },
  {
   "cell_type": "code",
   "execution_count": 3,
   "metadata": {},
   "outputs": [
    {
     "name": "stdout",
     "output_type": "stream",
     "text": [
      "Box(0.0, 1.0, (10,), float32)\n",
      "(array([0., 0., 0., 0., 0., 0., 0., 0., 0., 0.], dtype=float32), {})\n"
     ]
    }
   ],
   "source": [
    "print(env.observation_space)\n",
    "print(env.reset())"
   ]
  },
  {
   "cell_type": "code",
   "execution_count": 4,
   "metadata": {},
   "outputs": [
    {
     "name": "stdout",
     "output_type": "stream",
     "text": [
      "Discrete(11)\n",
      "11\n"
     ]
    }
   ],
   "source": [
    "print(env.action_space)\n",
    "print(env.action_space.n)"
   ]
  },
  {
   "cell_type": "code",
   "execution_count": 5,
   "metadata": {},
   "outputs": [
    {
     "name": "stdout",
     "output_type": "stream",
     "text": [
      "-45\n"
     ]
    }
   ],
   "source": [
    "print(env.spec.reward_threshold)"
   ]
  },
  {
   "cell_type": "code",
   "execution_count": 6,
   "metadata": {},
   "outputs": [],
   "source": [
    "class DQN(nn.Module):\n",
    "    def __init__(self, obs_shape: Tuple[int,...], num_actions: int):\n",
    "        super().__init__()\n",
    "        torch.ones\n",
    "        self.fc1 = nn.Linear(math.prod(obs_shape),16)\n",
    "        self.bn1 = nn.BatchNorm1d(16)\n",
    "        self.fc2 = nn.Linear(16,32)\n",
    "        self.bn2 = nn.BatchNorm1d(32)\n",
    "        self.fc3 = nn.Linear(32,127)\n",
    "        self.bn3 = nn.BatchNorm1d(127)\n",
    "        self.out = nn.Linear(127, num_actions)\n",
    "\n",
    "    def forward(self, x: Tensor) -> Tensor:\n",
    "        x = F.relu(self.bn1(self.fc1(x.flatten(start_dim=1))))\n",
    "        x = F.relu(self.bn2(self.fc2(x)))\n",
    "        x = F.relu(self.bn3(self.fc3(x)))\n",
    "        x = self.out(x)\n",
    "        return x"
   ]
  },
  {
   "cell_type": "code",
   "execution_count": 7,
   "metadata": {},
   "outputs": [],
   "source": [
    "# instantiate models\n",
    "assert env.observation_space.shape is not None\n",
    "assert env.action_space.n is not None # type: ignore\n",
    "policy = DQN(env.observation_space.shape, env.action_space.n) # type: ignore\n",
    "policy_target = DQN(env.observation_space.shape, env.action_space.n) # type: ignore\n",
    "policy_target.eval()\n",
    "pass"
   ]
  },
  {
   "cell_type": "code",
   "execution_count": 8,
   "metadata": {},
   "outputs": [],
   "source": [
    "# weight update functions\n",
    "# from https://github.com/ghliu/pytorch-ddpg/blob/master/util.py#L26\n",
    "def soft_update(target, source, tau):\n",
    "        for target_param, param in zip(target.parameters(), source.parameters()):\n",
    "            ## shouldn't be necessary since we use target networks to calculate loss\n",
    "            # if isinstance(target_param, torch.nn.parameter.UninitializedParameter):\n",
    "            #     # target model uninitialize, hard update\n",
    "            #     target_param.data.copy_(param.data)\n",
    "            # else:\n",
    "            target_param.data.copy_(target_param.data * (1.0 - tau) + param.data * tau)\n",
    "\n",
    "def hard_update(target, source):\n",
    "    target.load_state_dict(source.state_dict())\n",
    "    # for target_param, param in zip(target.parameters(), source.parameters()):\n",
    "    #         target_param.data.copy_(param.data)"
   ]
  },
  {
   "cell_type": "code",
   "execution_count": 9,
   "metadata": {},
   "outputs": [],
   "source": [
    "hard_update(policy_target, policy)"
   ]
  },
  {
   "cell_type": "code",
   "execution_count": 10,
   "metadata": {},
   "outputs": [],
   "source": [
    "@dataclass\n",
    "class Transition:\n",
    "    observation: Tensor\n",
    "    action: int\n",
    "    reward: float\n",
    "    next_state: Tensor\n",
    "    finished: bool\n",
    "\n",
    "@dataclass\n",
    "class TransitionBatch:\n",
    "    observations: Tensor\n",
    "    actions: Tensor\n",
    "    rewards: Tensor\n",
    "    next_states: Tensor\n",
    "    finished: Tensor"
   ]
  },
  {
   "cell_type": "code",
   "execution_count": 11,
   "metadata": {},
   "outputs": [],
   "source": [
    "MEMORY_SIZE = 10000 \n",
    "memory = deque[Transition](maxlen=MEMORY_SIZE)"
   ]
  },
  {
   "cell_type": "code",
   "execution_count": 12,
   "metadata": {},
   "outputs": [],
   "source": [
    "def sample_memory(batch_size: int) -> TransitionBatch:\n",
    "    samples = random.sample(memory, batch_size)\n",
    "    return TransitionBatch(\n",
    "        observations=torch.stack([s.observation for s in samples]),\n",
    "        actions=torch.as_tensor([s.action for s in samples], dtype=torch.int64),\n",
    "        rewards=torch.as_tensor([s.reward for s in samples], dtype=torch.float32),\n",
    "        next_states=torch.stack([s.next_state for s in samples]),\n",
    "        finished=torch.as_tensor([s.finished for s in samples], dtype=torch.bool),\n",
    "    )"
   ]
  },
  {
   "cell_type": "code",
   "execution_count": 13,
   "metadata": {},
   "outputs": [],
   "source": [
    "def get_epsilon(steps_done: int) -> float:\n",
    "    EPSILON_START = 0.9\n",
    "    EPSILON_END = 0.05\n",
    "    EPSILON_DECAY = 200\n",
    "    return EPSILON_END + (EPSILON_START - EPSILON_END) * math.exp(-1. * steps_done / EPSILON_DECAY)"
   ]
  },
  {
   "cell_type": "code",
   "execution_count": 14,
   "metadata": {},
   "outputs": [
    {
     "data": {
      "image/png": "[encoded data removed]",
      "text/plain": [
       "<Figure size 432x288 with 1 Axes>"
      ]
     },
     "metadata": {
      "needs_background": "dark"
     },
     "output_type": "display_data"
    }
   ],
   "source": [
    "# plot epsilon\n",
    "# %matplotlib ipympl\n",
    "%matplotlib inline\n",
    "plt.figure()\n",
    "plt.style.use('dark_background')\n",
    "plt.title(\"epsilon\")\n",
    "plt.plot([get_epsilon(i) for i in range(1000)])\n",
    "plt.show()"
   ]
  },
  {
   "cell_type": "code",
   "execution_count": 15,
   "metadata": {},
   "outputs": [],
   "source": [
    "def get_action(obs: Tensor, epsilon: float) -> int:\n",
    "    if random.random() < epsilon:\n",
    "        return env.action_space.sample()\n",
    "    state_batch = obs.unsqueeze(0)\n",
    "    policy.eval()\n",
    "    with torch.no_grad():\n",
    "        q_values = policy(state_batch)\n",
    "    return int(q_values.argmax(dim=1).squeeze()) # return action with highest q-value"
   ]
  },
  {
   "cell_type": "code",
   "execution_count": 16,
   "metadata": {},
   "outputs": [],
   "source": [
    "def test(render=False) -> Tuple[bool, float]:\n",
    "    if render:\n",
    "        env = make_env(render_mode=\"human\")\n",
    "    else:\n",
    "        env = make_env()\n",
    "    assert env.spec.reward_threshold is not None\n",
    "    obs, info = env.reset(seed=random.randint(0,100000))\n",
    "    obs = torch.as_tensor(obs, dtype=torch.float32)\n",
    "    episode_reward = 0\n",
    "    for i in count():\n",
    "        action = get_action(obs, 0)\n",
    "        obs, reward, done, trunc, info = env.step(action)\n",
    "        obs = torch.as_tensor(obs, dtype=torch.float32)\n",
    "        episode_reward += reward\n",
    "        if render:\n",
    "            env.render()\n",
    "        if done or trunc:\n",
    "            break\n",
    "    return episode_reward >= env.spec.reward_threshold, episode_reward"
   ]
  },
  {
   "cell_type": "code",
   "execution_count": 17,
   "metadata": {},
   "outputs": [],
   "source": [
    "assert not test()[0] # untrained model should probably not be able to solve the environment"
   ]
  },
  {
   "cell_type": "code",
   "execution_count": 18,
   "metadata": {},
   "outputs": [],
   "source": [
    "# metrics\n",
    "loss_history = []\n",
    "learning_rate_history = []\n",
    "reward_history = []\n",
    "duration_history = []\n",
    "action_history = []\n",
    "terminal_history = []\n",
    "last_episode_reward = 0\n",
    "last_test_reward = 0"
   ]
  },
  {
   "cell_type": "code",
   "execution_count": 19,
   "metadata": {},
   "outputs": [
    {
     "name": "stderr",
     "output_type": "stream",
     "text": [
      "warmup:   0%|          | 0/500 [00:00<?, ?it/s]"
     ]
    },
    {
     "name": "stdout",
     "output_type": "stream",
     "text": [
      "test reward: -95.000 (last: 0.000)\n"
     ]
    },
    {
     "name": "stderr",
     "output_type": "stream",
     "text": [
      "policy: 17.204, reward: -4.000 (last: -61.000), epsilon: 0.110, lr: 0.0010, steps: 531:  12%|#1        | 58/500 [00:04<00:29, 14.89it/s] "
     ]
    },
    {
     "name": "stdout",
     "output_type": "stream",
     "text": [
      "test reward: -57.000 (last: -95.000)\n"
     ]
    },
    {
     "name": "stderr",
     "output_type": "stream",
     "text": [
      "policy: 10.922, reward: -4.000 (last: -59.000), epsilon: 0.055, lr: 0.0010, steps: 1035:  23%|##2       | 114/500 [00:08<00:29, 13.24it/s]"
     ]
    },
    {
     "name": "stdout",
     "output_type": "stream",
     "text": [
      "test reward: -57.000 (last: -57.000)\n"
     ]
    },
    {
     "name": "stderr",
     "output_type": "stream",
     "text": [
      "policy: 15.043, reward: -9.000 (last: -53.000), epsilon: 0.050, lr: 0.0010, steps: 1530:  34%|###4      | 170/500 [00:12<00:21, 15.04it/s]"
     ]
    },
    {
     "name": "stdout",
     "output_type": "stream",
     "text": [
      "test reward: -49.000 (last: -57.000)\n"
     ]
    },
    {
     "name": "stderr",
     "output_type": "stream",
     "text": [
      "policy: 7.550, reward: -4.000 (last: -49.000), epsilon: 0.050, lr: 0.0009, steps: 2034:  45%|####5     | 225/500 [00:16<00:21, 12.70it/s]  "
     ]
    },
    {
     "name": "stdout",
     "output_type": "stream",
     "text": [
      "test reward: -49.000 (last: -49.000)\n"
     ]
    },
    {
     "name": "stderr",
     "output_type": "stream",
     "text": [
      "policy: 10.442, reward: -7.000 (last: -49.000), epsilon: 0.050, lr: 0.0009, steps: 2522:  56%|#####6    | 280/500 [00:20<00:14, 15.63it/s]"
     ]
    },
    {
     "name": "stdout",
     "output_type": "stream",
     "text": [
      "test reward: -51.000 (last: -49.000)\n"
     ]
    },
    {
     "name": "stderr",
     "output_type": "stream",
     "text": [
      "policy: 11.367, reward: -9.000 (last: -47.000), epsilon: 0.050, lr: 0.0009, steps: 3033:  67%|######7   | 337/500 [00:24<00:11, 14.66it/s]"
     ]
    },
    {
     "name": "stdout",
     "output_type": "stream",
     "text": [
      "test reward: -49.000 (last: -51.000)\n"
     ]
    },
    {
     "name": "stderr",
     "output_type": "stream",
     "text": [
      "policy: 13.408, reward: -6.000 (last: -47.000), epsilon: 0.050, lr: 0.0009, steps: 3513:  78%|#######8  | 390/500 [00:28<00:06, 16.22it/s]"
     ]
    },
    {
     "name": "stdout",
     "output_type": "stream",
     "text": [
      "test reward: -47.000 (last: -49.000)\n"
     ]
    },
    {
     "name": "stderr",
     "output_type": "stream",
     "text": [
      "policy: 6.958, reward: -9.000 (last: -49.000), epsilon: 0.050, lr: 0.0008, steps: 4032:  90%|########9 | 448/500 [00:33<00:03, 15.09it/s]  "
     ]
    },
    {
     "name": "stdout",
     "output_type": "stream",
     "text": [
      "test reward: -47.000 (last: -47.000)\n"
     ]
    },
    {
     "name": "stderr",
     "output_type": "stream",
     "text": [
      "policy: 10.001, reward: -2.000 (last: -47.000), epsilon: 0.050, lr: 0.0008, steps: 4500: 100%|##########| 500/500 [00:36<00:00, 13.54it/s]\n"
     ]
    },
    {
     "name": "stdout",
     "output_type": "stream",
     "text": [
      "end test reward: -47.000 (last: -47.000)\n"
     ]
    }
   ],
   "source": [
    "# train loop\n",
    "\n",
    "LEARNING_RATE = 0.001 \n",
    "LEARNING_RATE_GAMMA = 0.9 \n",
    "LEARNING_RATE_UPDATE_INTERVAL = 2000 \n",
    "\n",
    "optimizer = torch.optim.Adam(policy.parameters(), lr=LEARNING_RATE)\n",
    "# optimizer = torch.optim.RMSprop(policy.parameters(), lr=LEARNING_RATE)\n",
    "scheduler = torch.optim.lr_scheduler.StepLR(\n",
    "    optimizer,\n",
    "    step_size=LEARNING_RATE_UPDATE_INTERVAL,\n",
    "    gamma=LEARNING_RATE_GAMMA,\n",
    ")\n",
    "steps_done = 0\n",
    "TRAIN_EPISODES = 500\n",
    "solved = False\n",
    "with tqdm(total=TRAIN_EPISODES, dynamic_ncols=True, ascii=True) as pbar:\n",
    "    for episode in range(TRAIN_EPISODES):\n",
    "        if solved: break\n",
    "        state = torch.as_tensor(env.reset()[0], dtype=torch.float32)\n",
    "        episode_reward = 0\n",
    "        for episode_step in count():\n",
    "            epsilon = get_epsilon(steps_done)\n",
    "            #region exploration\n",
    "            action = get_action(state, epsilon)\n",
    "            action_history.append(action)\n",
    "            next_state, reward, done, trunc, info = env.step(action)\n",
    "            episode_reward += reward\n",
    "            reward_history.append(reward)\n",
    "            terminal_history.append(done)\n",
    "            if done or trunc:\n",
    "                duration_history.append(episode_step)\n",
    "                next_state = torch.zeros(state.shape)\n",
    "            else:\n",
    "                next_state = torch.as_tensor(next_state, dtype=torch.float32)                \n",
    "            memory.append(Transition(\n",
    "                observation=state,\n",
    "                action=action,\n",
    "                reward=reward,\n",
    "                next_state=next_state,\n",
    "                finished=done or trunc,\n",
    "            ))\n",
    "            state = next_state\n",
    "\n",
    "            PREVIEW_EPISODE_INTERVAL = 10\n",
    "            if episode % PREVIEW_EPISODE_INTERVAL == 0:\n",
    "                env.render()\n",
    "            #endregion exploration\n",
    "\n",
    "            #region training\n",
    "            BATCH_SIZE = 128\n",
    "            if len(memory) < BATCH_SIZE:\n",
    "                pbar.set_description(f\"warmup\")\n",
    "            else:\n",
    "                policy.train()\n",
    "                batch = sample_memory(BATCH_SIZE)\n",
    "\n",
    "                # calculate q values for the actions that were taken\n",
    "                q_pred = policy(batch.observations).gather(1, batch.actions.unsqueeze(1))\n",
    "\n",
    "                # calculate q values for next state\n",
    "                q_next = torch.zeros(BATCH_SIZE)\n",
    "                non_final = ~batch.finished\n",
    "                q_next[non_final] = policy_target(batch.next_states[non_final]).max(dim=1).values.detach()\n",
    "\n",
    "                # calculate expected q values\n",
    "                REWARD_GAMMA = 0.99\n",
    "                q_expected = ((q_next * REWARD_GAMMA) + batch.rewards).unsqueeze(1)\n",
    "\n",
    "                # calculate loss\n",
    "                # criterion = torch.nn.SmoothL1Loss()\n",
    "                # criterion = torch.nn.MSELoss()\n",
    "                policy_loss = F.mse_loss(q_pred, q_expected)\n",
    "                loss_history.append(policy_loss.item())\n",
    "\n",
    "                # apply weight update\n",
    "                optimizer.zero_grad()\n",
    "                policy_loss.backward()\n",
    "                for param in policy.parameters():\n",
    "                    assert param.grad is not None\n",
    "                    param.grad.data.clamp_(-1, 1) \n",
    "                optimizer.step()\n",
    "                \n",
    "                # update learning rate\n",
    "                learning_rate_history.append(scheduler.get_last_lr())\n",
    "                scheduler.step()\n",
    "\n",
    "                ## update target network\n",
    "                \n",
    "                SOFT_UPDATE_TAU = 0.001  \n",
    "                # soft_update(policy_target, policy, SOFT_UPDATE_TAU)\n",
    "                POLICY_TARGET_UPDATE_INTERVAL = 10 \n",
    "                if steps_done % POLICY_TARGET_UPDATE_INTERVAL == 0:\n",
    "                    hard_update(policy_target, policy)\n",
    "\n",
    "                pbar.set_description(f\"policy: {policy_loss.item():.3f}, reward: {reward:.3f} (last: {last_episode_reward:.3f}), epsilon: {epsilon:.3f}, lr: {scheduler.get_last_lr()[0]:.4f}, steps: {steps_done}\")\n",
    "            #endregion training\n",
    "\n",
    "            if done or trunc: break\n",
    "\n",
    "            #region testing\n",
    "            TEST_INTERVAL = 500\n",
    "            if steps_done % TEST_INTERVAL == 0:\n",
    "                passed, test_reward = test()\n",
    "                print(f\"test reward: {test_reward:.3f} (last: {last_test_reward:.3f})\")\n",
    "                last_test_reward = test_reward\n",
    "                if passed:\n",
    "                    print(\"solved!\")\n",
    "                    solved=True\n",
    "                    break\n",
    "            #endregion testing\n",
    "            \n",
    "            steps_done += 1\n",
    "\n",
    "\n",
    "        last_episode_reward = episode_reward\n",
    "        pbar.update()\n",
    "passed, test_reward = test()\n",
    "print(f\"end test reward: {test_reward:.3f} (last: {last_test_reward:.3f})\")"
   ]
  },
  {
   "cell_type": "code",
   "execution_count": 20,
   "metadata": {},
   "outputs": [
    {
     "data": {
      "image/png": "[encoded data removed]",
      "text/plain": [
       "<Figure size 432x288 with 1 Axes>"
      ]
     },
     "metadata": {},
     "output_type": "display_data"
    }
   ],
   "source": [
    "# plot durations\n",
    "plt.figure()\n",
    "plt.plot(duration_history)\n",
    "plt.title(\"Episode durations\")\n",
    "plt.show()"
   ]
  },
  {
   "cell_type": "code",
   "execution_count": 21,
   "metadata": {},
   "outputs": [
    {
     "data": {
      "image/png": "[encoded data removed]",
      "text/plain": [
       "<Figure size 432x288 with 2 Axes>"
      ]
     },
     "metadata": {},
     "output_type": "display_data"
    }
   ],
   "source": [
    "# plot loss\n",
    "fig, axs = plt.subplots(2)\n",
    "fig.suptitle(\"Loss\")\n",
    "axs[0].plot(loss_history)\n",
    "axs[1].plot(range(len(loss_history))[-300:], loss_history[-300:])\n",
    "plt.show()"
   ]
  },
  {
   "cell_type": "code",
   "execution_count": 22,
   "metadata": {},
   "outputs": [
    {
     "data": {
      "text/plain": [
       "<Figure size 432x288 with 0 Axes>"
      ]
     },
     "metadata": {},
     "output_type": "display_data"
    },
    {
     "data": {
      "application/vnd.jupyter.widget-view+json": {
       "model_id": "e77d9bec644b446d973c4a9bf190e1f9",
       "version_major": 2,
       "version_minor": 0
      },
      "text/plain": [
       "interactive(children=(IntSlider(value=4900, description='i', max=4999), IntSlider(value=100, description='wind…"
      ]
     },
     "metadata": {},
     "output_type": "display_data"
    }
   ],
   "source": [
    "# investigate actions\n",
    "import ipywidgets as widgets\n",
    "plt.figure()\n",
    "@widgets.interact(i=(0, len(action_history)-1), window_size=(1, len(action_history)-1))\n",
    "def preview_actions(i=len(action_history)-100, window_size=100):\n",
    "    x = torch.zeros((len(action_history), env.action_space.n + 1))\n",
    "    x[range(len(action_history)), action_history] = 1\n",
    "    x[:, 2] = torch.as_tensor(terminal_history, dtype=torch.bool)\n",
    "    plt.imshow(x[i:i+window_size], aspect=\"auto\")\n",
    "    plt.show()\n",
    "    del x"
   ]
  },
  {
   "cell_type": "code",
   "execution_count": 23,
   "metadata": {},
   "outputs": [
    {
     "name": "stdout",
     "output_type": "stream",
     "text": [
      "success=False, reward=-47\n",
      "success=False, reward=-47\n",
      "success=False, reward=-47\n",
      "success=False, reward=-47\n",
      "success=False, reward=-47\n",
      "success=False, reward=-47\n",
      "success=False, reward=-47\n",
      "success=False, reward=-47\n",
      "success=False, reward=-47\n",
      "success=False, reward=-47\n",
      "success=False, reward=-47\n",
      "success=False, reward=-47\n",
      "success=False, reward=-47\n",
      "success=False, reward=-47\n",
      "success=False, reward=-47\n",
      "success=False, reward=-47\n",
      "success=False, reward=-47\n",
      "success=False, reward=-47\n",
      "success=False, reward=-47\n",
      "success=False, reward=-47\n",
      "success=False, reward=-47\n",
      "success=False, reward=-47\n",
      "success=False, reward=-47\n",
      "success=False, reward=-47\n",
      "success=False, reward=-47\n"
     ]
    }
   ],
   "source": [
    "# preview\n",
    "epsilon = 0\n",
    "for episode in range(25):\n",
    "    success, reward = test(render=True)\n",
    "    print(f\"success={success}, reward={reward}\")"
   ]
  }
 ],
 "metadata": {
  "kernelspec": {
   "display_name": "tianshou",
   "language": "python",
   "name": "python3"
  },
  "language_info": {
   "codemirror_mode": {
    "name": "ipython",
    "version": 3
   },
   "file_extension": ".py",
   "mimetype": "text/x-python",
   "name": "python",
   "nbconvert_exporter": "python",
   "pygments_lexer": "ipython3",
   "version": "3.9.15"
  },
  "orig_nbformat": 4,
  "vscode": {
   "interpreter": {
    "hash": "71d9f79eb180b017341f284521d8f1f73000b55d56576dd42cfa51175f09c3a6"
   }
  }
 },
 "nbformat": 4,
 "nbformat_minor": 2
}
