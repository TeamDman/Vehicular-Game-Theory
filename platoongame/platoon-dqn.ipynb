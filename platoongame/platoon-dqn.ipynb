{
 "cells": [
  {
   "cell_type": "markdown",
   "metadata": {},
   "source": [
    "See also: [pytorch cartpole DQN](https://pytorch.org/tutorials/intermediate/reinforcement_q_learning.html)"
   ]
  },
  {
   "cell_type": "code",
   "execution_count": 1,
   "metadata": {},
   "outputs": [],
   "source": [
    "import gym\n",
    "import torch\n",
    "import torch.nn as nn\n",
    "import torch.nn.functional as F\n",
    "from torch import Tensor\n",
    "import numpy as np\n",
    "import random\n",
    "import matplotlib.pyplot as plt\n",
    "from collections import deque\n",
    "from tqdm import tqdm\n",
    "from dataclasses import dataclass\n",
    "from itertools import count\n",
    "import random\n",
    "import math\n",
    "from typing import List, Tuple, Dict, Any, Optional, Callable, Union"
   ]
  },
  {
   "cell_type": "code",
   "execution_count": 2,
   "metadata": {},
   "outputs": [
    {
     "name": "stderr",
     "output_type": "stream",
     "text": [
      "c:\\Users\\TeamD\\.conda\\envs\\subgame\\lib\\site-packages\\gym\\envs\\registration.py:555: UserWarning: \u001b[33mWARN: The environment Platoon-v1 is out of date. You should consider upgrading to version `v2`.\u001b[0m\n",
      "  logger.warn(\n",
      "c:\\Users\\TeamD\\.conda\\envs\\subgame\\lib\\site-packages\\gym\\utils\\passive_env_checker.py:20: UserWarning: \u001b[33mWARN: It seems a Box observation space is an image but the `dtype` is not `np.uint8`, actual type: float32. If the Box observation space is not an image, we recommend flattening the observation to have only a 1D vector.\u001b[0m\n",
      "  logger.warn(\n",
      "c:\\Users\\TeamD\\.conda\\envs\\subgame\\lib\\site-packages\\gym\\utils\\passive_env_checker.py:25: UserWarning: \u001b[33mWARN: It seems a Box observation space is an image but the upper and lower bounds are not in [0, 255]. Generally, CNN policies assume observations are within that range, so you may encounter an issue if the observation values are not.\u001b[0m\n",
      "  logger.warn(\n"
     ]
    }
   ],
   "source": [
    "# make env\n",
    "import platoonenv\n",
    "from gym.wrappers import TimeLimit # type: ignore\n",
    "\n",
    "# envName = \"CartPole-v0\"\n",
    "# envName = \"MountainCar-v0\"\n",
    "# envName = \"Acrobot-v1\"\n",
    "\n",
    "# envName = \"Platoon-v0\"\n",
    "envName = \"Platoon-v1\"\n",
    "# envName = \"Platoon-v2\"\n",
    "\n",
    "def make_env(render_mode: Union[str, None] = None) -> gym.Env[np.ndarray, int]:\n",
    "    env = gym.make(envName, render_mode=render_mode)\n",
    "    return env\n",
    "\n",
    "env = make_env(render_mode=\"human\")"
   ]
  },
  {
   "cell_type": "code",
   "execution_count": 3,
   "metadata": {},
   "outputs": [
    {
     "name": "stdout",
     "output_type": "stream",
     "text": [
      "Box(0.0, [[[1. 1. 5. 1.]]\n",
      "\n",
      " [[1. 1. 5. 1.]]\n",
      "\n",
      " [[1. 1. 5. 1.]]\n",
      "\n",
      " [[1. 1. 5. 1.]]\n",
      "\n",
      " [[1. 1. 5. 1.]]\n",
      "\n",
      " [[1. 1. 5. 1.]]\n",
      "\n",
      " [[1. 1. 5. 1.]]\n",
      "\n",
      " [[1. 1. 5. 1.]]\n",
      "\n",
      " [[1. 1. 5. 1.]]\n",
      "\n",
      " [[1. 1. 5. 1.]]], (10, 1, 4), float32)\n"
     ]
    }
   ],
   "source": [
    "print(env.observation_space)"
   ]
  },
  {
   "cell_type": "code",
   "execution_count": 4,
   "metadata": {},
   "outputs": [
    {
     "name": "stdout",
     "output_type": "stream",
     "text": [
      "(array([[[0.        , 0.06613522, 1.        , 0.        ]],\n",
      "\n",
      "       [[0.        , 0.02669241, 1.        , 0.        ]],\n",
      "\n",
      "       [[0.        , 0.00616773, 1.        , 0.        ]],\n",
      "\n",
      "       [[0.        , 0.06213173, 1.        , 0.        ]],\n",
      "\n",
      "       [[0.        , 0.        , 1.        , 0.        ]],\n",
      "\n",
      "       [[0.        , 0.        , 1.        , 0.        ]],\n",
      "\n",
      "       [[0.        , 0.        , 1.        , 0.        ]],\n",
      "\n",
      "       [[0.        , 0.03816839, 1.        , 0.        ]],\n",
      "\n",
      "       [[0.        , 0.        , 1.        , 0.        ]],\n",
      "\n",
      "       [[0.        , 0.        , 1.        , 0.        ]]], dtype=float32), {})\n"
     ]
    }
   ],
   "source": [
    "print(env.reset(seed=1))"
   ]
  },
  {
   "cell_type": "code",
   "execution_count": 5,
   "metadata": {},
   "outputs": [],
   "source": [
    "a = env.reset(seed=1)[0]\n",
    "b = env.reset(seed=1)[0]\n",
    "c = env.reset(seed=2)[0]\n",
    "assert np.array_equal(a.flatten(),b.flatten()), \"env should respect reset seed\"\n",
    "assert envName == \"Platoon-v0\" or not np.array_equal(b,c), \"env should respect reset seed\""
   ]
  },
  {
   "cell_type": "code",
   "execution_count": 6,
   "metadata": {},
   "outputs": [
    {
     "name": "stdout",
     "output_type": "stream",
     "text": [
      "Discrete(11)\n",
      "11\n"
     ]
    }
   ],
   "source": [
    "print(env.action_space)\n",
    "print(env.action_space.n)"
   ]
  },
  {
   "cell_type": "code",
   "execution_count": 7,
   "metadata": {},
   "outputs": [
    {
     "name": "stdout",
     "output_type": "stream",
     "text": [
      "-45\n"
     ]
    }
   ],
   "source": [
    "print(env.spec.reward_threshold)"
   ]
  },
  {
   "cell_type": "code",
   "execution_count": 8,
   "metadata": {},
   "outputs": [],
   "source": [
    "class DQN(nn.Module):\n",
    "    def __init__(self, obs_shape: Tuple[int,...], hidden_shapes: Tuple[int,...], num_actions: int):\n",
    "        super().__init__()\n",
    "        assert len(hidden_shapes) > 0\n",
    "        net = []\n",
    "        obs_shape_flat = math.prod(obs_shape)\n",
    "        shapes = (obs_shape_flat, ) + hidden_shapes\n",
    "        for i in range(1, len(shapes)):\n",
    "            net.append(nn.Linear(shapes[i-1], shapes[i]))\n",
    "            net.append(nn.BatchNorm1d(shapes[i]))\n",
    "            net.append(nn.ReLU())\n",
    "        self.final = nn.Linear(hidden_shapes[-1] + obs_shape_flat, num_actions)\n",
    "        self.net = nn.Sequential(*net)\n",
    "\n",
    "    def forward(self, x: Tensor) -> Tensor:\n",
    "        x = x.flatten(start_dim=1)\n",
    "        temp = x\n",
    "        x = self.net(x)\n",
    "        x = self.final(torch.cat((x, temp), dim=1))\n",
    "        return x"
   ]
  },
  {
   "cell_type": "code",
   "execution_count": 9,
   "metadata": {},
   "outputs": [
    {
     "name": "stdout",
     "output_type": "stream",
     "text": [
      "DQN(\n",
      "  (final): Linear(in_features=296, out_features=11, bias=True)\n",
      "  (net): Sequential(\n",
      "    (0): Linear(in_features=40, out_features=256, bias=True)\n",
      "    (1): BatchNorm1d(256, eps=1e-05, momentum=0.1, affine=True, track_running_stats=True)\n",
      "    (2): ReLU()\n",
      "    (3): Linear(in_features=256, out_features=256, bias=True)\n",
      "    (4): BatchNorm1d(256, eps=1e-05, momentum=0.1, affine=True, track_running_stats=True)\n",
      "    (5): ReLU()\n",
      "    (6): Linear(in_features=256, out_features=256, bias=True)\n",
      "    (7): BatchNorm1d(256, eps=1e-05, momentum=0.1, affine=True, track_running_stats=True)\n",
      "    (8): ReLU()\n",
      "    (9): Linear(in_features=256, out_features=256, bias=True)\n",
      "    (10): BatchNorm1d(256, eps=1e-05, momentum=0.1, affine=True, track_running_stats=True)\n",
      "    (11): ReLU()\n",
      "    (12): Linear(in_features=256, out_features=256, bias=True)\n",
      "    (13): BatchNorm1d(256, eps=1e-05, momentum=0.1, affine=True, track_running_stats=True)\n",
      "    (14): ReLU()\n",
      "    (15): Linear(in_features=256, out_features=256, bias=True)\n",
      "    (16): BatchNorm1d(256, eps=1e-05, momentum=0.1, affine=True, track_running_stats=True)\n",
      "    (17): ReLU()\n",
      "  )\n",
      ")\n"
     ]
    }
   ],
   "source": [
    "# instantiate models\n",
    "assert env.observation_space.shape is not None\n",
    "assert env.action_space.n is not None # type: ignore\n",
    "# HIDDEN_SHAPES = (128,128,128,128)\n",
    "HIDDEN_SHAPES = (256,256,256,256,256,256)\n",
    "# HIDDEN_SHAPES = (512,512,512,512)\n",
    "policy = DQN(\n",
    "    obs_shape = env.observation_space.shape,\n",
    "    hidden_shapes = HIDDEN_SHAPES,\n",
    "    num_actions = env.action_space.n, # type: ignore\n",
    ")\n",
    "policy_target = DQN(\n",
    "    obs_shape = env.observation_space.shape,\n",
    "    hidden_shapes = HIDDEN_SHAPES,\n",
    "    num_actions = env.action_space.n, # type: ignore\n",
    ")\n",
    "policy_target.eval()\n",
    "print(policy)"
   ]
  },
  {
   "cell_type": "code",
   "execution_count": 10,
   "metadata": {},
   "outputs": [],
   "source": [
    "# weight update functions\n",
    "# from https://github.com/ghliu/pytorch-ddpg/blob/master/util.py#L26\n",
    "def soft_update(target, source, tau):\n",
    "        for target_param, param in zip(target.parameters(), source.parameters()):\n",
    "            ## shouldn't be necessary since we use target networks to calculate loss\n",
    "            # if isinstance(target_param, torch.nn.parameter.UninitializedParameter):\n",
    "            #     # target model uninitialized, hard update\n",
    "            #     target_param.data.copy_(param.data)\n",
    "            # else:\n",
    "            target_param.data.copy_(target_param.data * (1.0 - tau) + param.data * tau)\n",
    "\n",
    "def hard_update(target, source):\n",
    "    target.load_state_dict(source.state_dict())\n",
    "    # for target_param, param in zip(target.parameters(), source.parameters()):\n",
    "    #         target_param.data.copy_(param.data)"
   ]
  },
  {
   "cell_type": "code",
   "execution_count": 11,
   "metadata": {},
   "outputs": [],
   "source": [
    "hard_update(policy_target, policy)"
   ]
  },
  {
   "cell_type": "code",
   "execution_count": 12,
   "metadata": {},
   "outputs": [],
   "source": [
    "@dataclass\n",
    "class Transition:\n",
    "    observation: Tensor\n",
    "    action: int\n",
    "    reward: float\n",
    "    next_observation: Tensor\n",
    "    finished: bool\n",
    "\n",
    "@dataclass\n",
    "class TransitionBatch:\n",
    "    observations: Tensor\n",
    "    actions: Tensor\n",
    "    rewards: Tensor\n",
    "    next_observations: Tensor\n",
    "    finished: Tensor\n",
    "    indices: Tensor\n",
    "    priorities: Tensor\n",
    "    weights: Tensor"
   ]
  },
  {
   "cell_type": "code",
   "execution_count": 13,
   "metadata": {},
   "outputs": [],
   "source": [
    "class PrioritizedReplayBuffer:\n",
    "    def __init__(\n",
    "        self,\n",
    "        capacity: int,\n",
    "        alpha: float,\n",
    "        beta: float,\n",
    "        epsilon: float,\n",
    "    ):\n",
    "        self.capacity = capacity\n",
    "        self.alpha = alpha\n",
    "        self.beta = beta\n",
    "        self.epsilon = epsilon\n",
    "        from sumtree import SumTree\n",
    "        self.tree = SumTree(capacity)\n",
    "        self.transitions: List[Union[None, Transition]] = [None for _ in range(capacity)]\n",
    "        self.current_index = 0\n",
    "        self.len = 0\n",
    "    \n",
    "    def append(self, transition: Transition):\n",
    "        # from the paper: New transitions arrive without a known TD-error,\n",
    "        # so we put them at maximal priority in order to guarantee that \n",
    "        # all experience is seen at least once.\n",
    "        priority = 1000 + self.epsilon\n",
    "        self.tree.update(self.current_index, priority) # type: ignore\n",
    "        self.transitions[self.current_index] = transition\n",
    "        self.current_index = (self.current_index + 1) % self.capacity\n",
    "        self.len = min(self.len + 1, self.capacity)\n",
    "\n",
    "    def update(self, indices: List[int], priorities: List[float]):\n",
    "        # from the paper: The TD-error is updated after each minibatch \n",
    "        # update, and the priorities are updated accordingly.\n",
    "        for i, p in zip(indices, priorities):\n",
    "            self.tree.update(i, (p + self.epsilon) ** self.alpha) # type: ignore\n",
    "\n",
    "    def sample(self, batch_size: int) -> TransitionBatch:\n",
    "        # from the paper:\n",
    "        # The ‘sum-tree’ data structure used here is very similar in spirit to the \n",
    "        # array representation of a binary heap. This provides a efficient way of\n",
    "        # calculating the cumulative sum of priorities, allowing O(logN) \n",
    "        # updates and sampling. To sample a minibatch of size k, the \n",
    "        # range [0; ptotal] is divided equally into k ranges. Next, a \n",
    "        # value is uniformly sampled from each range. Finally the transitions \n",
    "        # that correspond to each of these sampled values are retrieved from \n",
    "        # the tree. Overhead is similar to rank-based prioritization.\n",
    "        indices = []\n",
    "        priorities = []\n",
    "        transitions = []\n",
    "        # split the tree into batch_size+1 segments\n",
    "        space = torch.linspace(0, self.tree.total, batch_size+1).tolist()\n",
    "        # treat the segments as ranges\n",
    "        ranges = torch.as_tensor(list(zip(space[:-1], space[1:])))\n",
    "        # sample a random number in each range\n",
    "        rand = torch.rand(batch_size)\n",
    "        cumsums = (ranges[:,0] + (ranges[:,1]-ranges[:,0])*rand).tolist()\n",
    "        # get the transition corresponding to each random number\n",
    "        for x in cumsums:\n",
    "            index, priority = self.tree.get(x)\n",
    "            trans = self.transitions[index]\n",
    "            if trans is None:\n",
    "                index, priority, trans = indices[0], priorities[0], transitions[0]\n",
    "            indices.append(index)\n",
    "            priorities.append(priority)\n",
    "            # use assert to silence python type warnings\n",
    "            transitions.append(trans)\n",
    "\n",
    "        # from the paper:\n",
    "        # P(i) = p_i^alpha / sum_k{p_k^alpha}\n",
    "        # where p_i = |TD-error| + epsilon\n",
    "        priorities = torch.as_tensor(priorities, dtype=torch.float32)\n",
    "        probabilities = priorities / (self.tree.total)\n",
    "        # Computes the importance sampling (IS) weights for each transition in the batch based on the priorities.\n",
    "        weights = (self.capacity * probabilities) ** (-self.beta)\n",
    "        weights /= weights.max()\n",
    "\n",
    "        return TransitionBatch(\n",
    "            observations=torch.stack([x.observation for x in transitions]),\n",
    "            actions=torch.as_tensor([x.action for x in transitions], dtype=torch.int64),\n",
    "            rewards=torch.as_tensor([x.reward for x in transitions], dtype=torch.float32),\n",
    "            next_observations=torch.stack([x.next_observation for x in transitions]),\n",
    "            finished=torch.as_tensor([x.finished for x in transitions], dtype=torch.bool),\n",
    "            indices=torch.as_tensor(indices, dtype=torch.int64),\n",
    "            priorities=torch.as_tensor(priorities, dtype=torch.float32),\n",
    "            weights=weights,\n",
    "        )\n",
    "\n",
    "    def __len__(self) -> int:\n",
    "        return self.len"
   ]
  },
  {
   "cell_type": "code",
   "execution_count": 14,
   "metadata": {},
   "outputs": [],
   "source": [
    "class DequeReplayBuffer:\n",
    "    def __init__(self, capacity: int) -> None:\n",
    "        self.capacity = capacity\n",
    "        self.buffer = deque(maxlen=capacity)\n",
    "    \n",
    "    def append(self, transition: Transition):\n",
    "        self.buffer.append(transition)\n",
    "    \n",
    "    def sample(self, batch_size: int) -> TransitionBatch:\n",
    "        transitions = random.sample(self.buffer, batch_size)\n",
    "        return TransitionBatch(\n",
    "            observations=torch.stack([x.observation for x in transitions]),\n",
    "            actions=torch.as_tensor([x.action for x in transitions], dtype=torch.int64),\n",
    "            rewards=torch.as_tensor([x.reward for x in transitions], dtype=torch.float32),\n",
    "            next_observations=torch.stack([x.next_observation for x in transitions]),\n",
    "            finished=torch.as_tensor([x.finished for x in transitions], dtype=torch.bool),\n",
    "            indices=None,\n",
    "            priorities=None,\n",
    "            weights=None,\n",
    "        )\n",
    "\n",
    "    def __len__(self) -> int:\n",
    "        return len(self.buffer)\n"
   ]
  },
  {
   "cell_type": "code",
   "execution_count": 15,
   "metadata": {},
   "outputs": [],
   "source": [
    "# MEMORY_SIZE = 10000\n",
    "MEMORY_SIZE = 10_000_000\n",
    "# MEMORY_TYPE = \"prioritized\"\n",
    "MEMORY_TYPE = \"deque\"\n",
    "if MEMORY_TYPE == \"prioritized\":\n",
    "    memory = PrioritizedReplayBuffer(\n",
    "        capacity=MEMORY_SIZE,\n",
    "        alpha=0.6,\n",
    "        beta=0.4,\n",
    "        epsilon=0.01,\n",
    "    )\n",
    "elif MEMORY_TYPE == \"deque\":\n",
    "    memory = DequeReplayBuffer(MEMORY_SIZE)\n",
    "else:\n",
    "    raise Exception(\"bad type\")"
   ]
  },
  {
   "cell_type": "code",
   "execution_count": 16,
   "metadata": {},
   "outputs": [],
   "source": [
    "def get_exploration_epsilon(steps_done: int) -> float:\n",
    "    EPSILON_START = 0.9\n",
    "    EPSILON_END = 0.05\n",
    "    EPSILON_DECAY = 10000\n",
    "    return EPSILON_END + (EPSILON_START - EPSILON_END) * math.exp(-1. * steps_done / EPSILON_DECAY)"
   ]
  },
  {
   "cell_type": "code",
   "execution_count": 17,
   "metadata": {},
   "outputs": [
    {
     "data": {
      "image/png": "[encoded data removed]",
      "text/plain": [
       "<Figure size 432x288 with 1 Axes>"
      ]
     },
     "metadata": {
      "needs_background": "dark"
     },
     "output_type": "display_data"
    }
   ],
   "source": [
    "# plot epsilon\n",
    "# %matplotlib ipympl\n",
    "%matplotlib inline\n",
    "plt.figure()\n",
    "plt.style.use('dark_background')\n",
    "plt.title(\"exploration epsilon\")\n",
    "plt.plot([get_exploration_epsilon(i) for i in range(1000000) if get_exploration_epsilon(i) >= 0.1])\n",
    "plt.show()"
   ]
  },
  {
   "cell_type": "code",
   "execution_count": 18,
   "metadata": {},
   "outputs": [],
   "source": [
    "def get_action(obs: Tensor, epsilon: float) -> int:\n",
    "    if random.random() < epsilon:\n",
    "        return env.action_space.sample()\n",
    "    state_batch = obs.unsqueeze(0)\n",
    "    policy.eval()\n",
    "    with torch.no_grad():\n",
    "        q_values = policy(state_batch)\n",
    "    return int(q_values.argmax(dim=1).squeeze()) # return action with highest q-value"
   ]
  },
  {
   "cell_type": "code",
   "execution_count": 19,
   "metadata": {},
   "outputs": [],
   "source": [
    "def test(render=False, seed:int=42) -> Tuple[bool, float]:\n",
    "    if render:\n",
    "        env = make_env(render_mode=\"human\")\n",
    "    else:\n",
    "        env = make_env()\n",
    "    assert env.spec.reward_threshold is not None\n",
    "    obs, info = env.reset(seed=seed)\n",
    "    obs = torch.as_tensor(obs, dtype=torch.float32)\n",
    "    episode_reward = 0\n",
    "    for i in count():\n",
    "        action = get_action(obs, 0)\n",
    "        obs, reward, done, trunc, info = env.step(action)\n",
    "        obs = torch.as_tensor(obs, dtype=torch.float32)\n",
    "        episode_reward += reward\n",
    "        if render:\n",
    "            env.render()\n",
    "        if done or trunc:\n",
    "            break\n",
    "    return episode_reward >= env.spec.reward_threshold, episode_reward"
   ]
  },
  {
   "cell_type": "code",
   "execution_count": 20,
   "metadata": {},
   "outputs": [
    {
     "name": "stderr",
     "output_type": "stream",
     "text": [
      "c:\\Users\\TeamD\\.conda\\envs\\subgame\\lib\\site-packages\\gym\\envs\\registration.py:555: UserWarning: \u001b[33mWARN: The environment Platoon-v1 is out of date. You should consider upgrading to version `v2`.\u001b[0m\n",
      "  logger.warn(\n",
      "c:\\Users\\TeamD\\.conda\\envs\\subgame\\lib\\site-packages\\gym\\utils\\passive_env_checker.py:20: UserWarning: \u001b[33mWARN: It seems a Box observation space is an image but the `dtype` is not `np.uint8`, actual type: float32. If the Box observation space is not an image, we recommend flattening the observation to have only a 1D vector.\u001b[0m\n",
      "  logger.warn(\n",
      "c:\\Users\\TeamD\\.conda\\envs\\subgame\\lib\\site-packages\\gym\\utils\\passive_env_checker.py:25: UserWarning: \u001b[33mWARN: It seems a Box observation space is an image but the upper and lower bounds are not in [0, 255]. Generally, CNN policies assume observations are within that range, so you may encounter an issue if the observation values are not.\u001b[0m\n",
      "  logger.warn(\n"
     ]
    }
   ],
   "source": [
    "assert not test()[0], \"untrained model should probably not be able to solve the environment\"\n",
    "assert np.array_equal(test()[1], test()[1]), \"tests should be performed with the same seed\""
   ]
  },
  {
   "cell_type": "code",
   "execution_count": 21,
   "metadata": {},
   "outputs": [],
   "source": [
    "# step metrics\n",
    "loss_history: List[float] = []\n",
    "learning_rate_history: List[float] = []\n",
    "reward_history: List[float] = []\n",
    "duration_history: List[int] = []\n",
    "action_history: List[int] = []\n",
    "terminal_history: List[bool] = []\n",
    "# other metrics\n",
    "test_reward_history: List[Tuple[int, float, float]] = []\n",
    "last_episode_reward = 0"
   ]
  },
  {
   "cell_type": "code",
   "execution_count": 22,
   "metadata": {},
   "outputs": [],
   "source": [
    "optimizer = torch.optim.Adam(policy.parameters(), lr=0.001)\n",
    "# optimizer = torch.optim.Adam(policy.parameters(), lr=0.001)\n",
    "# optimizer = torch.optim.RMSprop(policy.parameters(), lr=LEARNING_RATE)"
   ]
  },
  {
   "cell_type": "code",
   "execution_count": 23,
   "metadata": {},
   "outputs": [],
   "source": [
    "scheduler = torch.optim.lr_scheduler.ReduceLROnPlateau(\n",
    "    optimizer,\n",
    "    # mode=\"max\",\n",
    "    mode=\"min\",\n",
    "    factor=0.9,\n",
    "    patience=5000,\n",
    "    cooldown=5000,\n",
    "    min_lr=0.00001,\n",
    "    verbose=True,\n",
    ")"
   ]
  },
  {
   "cell_type": "code",
   "execution_count": 24,
   "metadata": {},
   "outputs": [],
   "source": [
    "# %load_ext scalene\n",
    "# use %%scalene to profile a cell\n"
   ]
  },
  {
   "cell_type": "code",
   "execution_count": 25,
   "metadata": {},
   "outputs": [],
   "source": [
    "steps_done = 0"
   ]
  },
  {
   "cell_type": "code",
   "execution_count": 29,
   "metadata": {},
   "outputs": [
    {
     "name": "stderr",
     "output_type": "stream",
     "text": [
      "policy: 00029.307, reward: -09.000 (last episode: -94.000), epsilon: 0.127, lr: 0.0009000, steps: 23950:   0%|          | 3/200000 [00:20<360:04:59,  6.48s/it]"
     ]
    },
    {
     "name": "stdout",
     "output_type": "stream",
     "text": [
      "test reward: -104.000 ± 0.000 (best: -46.000 ± 0.000, goal: -45)\n"
     ]
    },
    {
     "name": "stderr",
     "output_type": "stream",
     "text": [
      "policy: 00031.286, reward: -07.000 (last episode: -104.000), epsilon: 0.127, lr: 0.0009000, steps: 24000:   0%|          | 7/200000 [00:49<355:41:45,  6.40s/it]"
     ]
    },
    {
     "name": "stdout",
     "output_type": "stream",
     "text": [
      "test reward: -84.000 ± 0.000 (best: -46.000 ± 0.000, goal: -45)\n"
     ]
    },
    {
     "name": "stderr",
     "output_type": "stream",
     "text": [
      "policy: 00030.211, reward: -08.000 (last episode: -84.000), epsilon: 0.127, lr: 0.0009000, steps: 24050:   0%|          | 12/200000 [01:18<356:57:32,  6.43s/it]"
     ]
    },
    {
     "name": "stdout",
     "output_type": "stream",
     "text": [
      "test reward: -110.000 ± 0.000 (best: -46.000 ± 0.000, goal: -45)\n"
     ]
    },
    {
     "name": "stderr",
     "output_type": "stream",
     "text": [
      "policy: 00028.866, reward: -08.000 (last episode: -75.000), epsilon: 0.126, lr: 0.0009000, steps: 24100:   0%|          | 16/200000 [01:47<357:18:59,  6.43s/it]"
     ]
    },
    {
     "name": "stdout",
     "output_type": "stream",
     "text": [
      "test reward: -84.000 ± 0.000 (best: -46.000 ± 0.000, goal: -45)\n"
     ]
    },
    {
     "name": "stderr",
     "output_type": "stream",
     "text": [
      "policy: 00029.853, reward: -07.000 (last episode: -84.000), epsilon: 0.126, lr: 0.0009000, steps: 24150:   0%|          | 21/200000 [02:16<356:26:03,  6.42s/it]"
     ]
    },
    {
     "name": "stdout",
     "output_type": "stream",
     "text": [
      "test reward: -86.000 ± 0.000 (best: -46.000 ± 0.000, goal: -45)\n"
     ]
    },
    {
     "name": "stderr",
     "output_type": "stream",
     "text": [
      "policy: 00030.943, reward: -07.000 (last episode: -104.000), epsilon: 0.126, lr: 0.0009000, steps: 24200:   0%|          | 25/200000 [02:46<361:42:08,  6.51s/it]"
     ]
    },
    {
     "name": "stdout",
     "output_type": "stream",
     "text": [
      "test reward: -94.000 ± 0.000 (best: -46.000 ± 0.000, goal: -45)\n"
     ]
    },
    {
     "name": "stderr",
     "output_type": "stream",
     "text": [
      "policy: 00027.849, reward: -06.000 (last episode: -84.000), epsilon: 0.000, lr: 0.0009000, steps: 24250:   0%|          | 30/200000 [03:16<360:40:00,  6.49s/it] "
     ]
    },
    {
     "name": "stdout",
     "output_type": "stream",
     "text": [
      "test reward: -94.000 ± 0.000 (best: -46.000 ± 0.000, goal: -45)\n"
     ]
    },
    {
     "name": "stderr",
     "output_type": "stream",
     "text": [
      "policy: 00029.668, reward: -06.000 (last episode: -76.000), epsilon: 0.125, lr: 0.0009000, steps: 24300:   0%|          | 34/200000 [03:45<360:59:22,  6.50s/it]"
     ]
    },
    {
     "name": "stdout",
     "output_type": "stream",
     "text": [
      "test reward: -94.000 ± 0.000 (best: -46.000 ± 0.000, goal: -45)\n"
     ]
    },
    {
     "name": "stderr",
     "output_type": "stream",
     "text": [
      "policy: 00029.447, reward: -05.000 (last episode: -88.000), epsilon: 0.124, lr: 0.0009000, steps: 24350:   0%|          | 39/200000 [04:14<357:50:48,  6.44s/it]"
     ]
    },
    {
     "name": "stdout",
     "output_type": "stream",
     "text": [
      "test reward: -86.000 ± 0.000 (best: -46.000 ± 0.000, goal: -45)\n"
     ]
    },
    {
     "name": "stderr",
     "output_type": "stream",
     "text": [
      "policy: 00029.490, reward: -06.000 (last episode: -84.000), epsilon: 0.124, lr: 0.0009000, steps: 24400:   0%|          | 44/200000 [04:44<359:05:55,  6.47s/it]"
     ]
    },
    {
     "name": "stdout",
     "output_type": "stream",
     "text": [
      "test reward: -86.000 ± 0.000 (best: -46.000 ± 0.000, goal: -45)\n"
     ]
    },
    {
     "name": "stderr",
     "output_type": "stream",
     "text": [
      "policy: 00031.080, reward: -08.000 (last episode: -78.000), epsilon: 0.124, lr: 0.0009000, steps: 24450:   0%|          | 48/200000 [05:13<358:27:24,  6.45s/it]"
     ]
    },
    {
     "name": "stdout",
     "output_type": "stream",
     "text": [
      "test reward: -94.000 ± 0.000 (best: -46.000 ± 0.000, goal: -45)\n"
     ]
    },
    {
     "name": "stderr",
     "output_type": "stream",
     "text": [
      "policy: 00031.952, reward: -09.000 (last episode: -86.000), epsilon: 0.123, lr: 0.0009000, steps: 24500:   0%|          | 53/200000 [05:43<364:32:05,  6.56s/it] "
     ]
    },
    {
     "name": "stdout",
     "output_type": "stream",
     "text": [
      "test reward: -84.000 ± 0.000 (best: -46.000 ± 0.000, goal: -45)\n"
     ]
    },
    {
     "name": "stderr",
     "output_type": "stream",
     "text": [
      "policy: 00030.763, reward: -07.000 (last episode: -84.000), epsilon: 0.123, lr: 0.0009000, steps: 24550:   0%|          | 57/200000 [06:15<380:26:55,  6.85s/it]"
     ]
    },
    {
     "name": "stdout",
     "output_type": "stream",
     "text": [
      "test reward: -84.000 ± 0.000 (best: -46.000 ± 0.000, goal: -45)\n"
     ]
    },
    {
     "name": "stderr",
     "output_type": "stream",
     "text": [
      "policy: 00029.740, reward: -08.000 (last episode: -78.000), epsilon: 0.123, lr: 0.0009000, steps: 24600:   0%|          | 62/200000 [06:47<385:04:16,  6.93s/it]"
     ]
    },
    {
     "name": "stdout",
     "output_type": "stream",
     "text": [
      "test reward: -86.000 ± 0.000 (best: -46.000 ± 0.000, goal: -45)\n"
     ]
    },
    {
     "name": "stderr",
     "output_type": "stream",
     "text": [
      "policy: 00029.711, reward: -08.000 (last episode: -79.000), epsilon: 0.122, lr: 0.0009000, steps: 24650:   0%|          | 66/200000 [07:16<366:24:49,  6.60s/it]"
     ]
    },
    {
     "name": "stdout",
     "output_type": "stream",
     "text": [
      "test reward: -94.000 ± 0.000 (best: -46.000 ± 0.000, goal: -45)\n"
     ]
    },
    {
     "name": "stderr",
     "output_type": "stream",
     "text": [
      "policy: 00028.155, reward: -07.000 (last episode: -86.000), epsilon: 0.122, lr: 0.0009000, steps: 24700:   0%|          | 71/200000 [07:45<358:14:24,  6.45s/it]"
     ]
    },
    {
     "name": "stdout",
     "output_type": "stream",
     "text": [
      "test reward: -94.000 ± 0.000 (best: -46.000 ± 0.000, goal: -45)\n"
     ]
    },
    {
     "name": "stderr",
     "output_type": "stream",
     "text": [
      "policy: 00029.993, reward: -07.000 (last episode: -70.000), epsilon: 0.122, lr: 0.0009000, steps: 24750:   0%|          | 75/200000 [08:15<357:54:31,  6.44s/it]"
     ]
    },
    {
     "name": "stdout",
     "output_type": "stream",
     "text": [
      "test reward: -99.000 ± 0.000 (best: -46.000 ± 0.000, goal: -45)\n"
     ]
    },
    {
     "name": "stderr",
     "output_type": "stream",
     "text": [
      "policy: 00028.713, reward: -06.000 (last episode: -90.000), epsilon: 0.000, lr: 0.0009000, steps: 24800:   0%|          | 80/200000 [08:44<362:53:21,  6.53s/it]"
     ]
    },
    {
     "name": "stdout",
     "output_type": "stream",
     "text": [
      "test reward: -99.000 ± 0.000 (best: -46.000 ± 0.000, goal: -45)\n"
     ]
    },
    {
     "name": "stderr",
     "output_type": "stream",
     "text": [
      "policy: 00030.053, reward: -04.000 (last episode: -64.000), epsilon: 0.121, lr: 0.0009000, steps: 24850:   0%|          | 84/200000 [09:14<358:34:55,  6.46s/it]"
     ]
    },
    {
     "name": "stdout",
     "output_type": "stream",
     "text": [
      "test reward: -86.000 ± 0.000 (best: -46.000 ± 0.000, goal: -45)\n"
     ]
    },
    {
     "name": "stderr",
     "output_type": "stream",
     "text": [
      "policy: 00028.272, reward: -05.000 (last episode: -68.000), epsilon: 0.120, lr: 0.0009000, steps: 24900:   0%|          | 89/200000 [09:43<356:19:15,  6.42s/it]"
     ]
    },
    {
     "name": "stdout",
     "output_type": "stream",
     "text": [
      "test reward: -99.000 ± 0.000 (best: -46.000 ± 0.000, goal: -45)\n"
     ]
    },
    {
     "name": "stderr",
     "output_type": "stream",
     "text": [
      "policy: 00025.249, reward: -04.000 (last episode: -82.000), epsilon: 0.120, lr: 0.0009000, steps: 24950:   0%|          | 94/200000 [10:13<365:51:11,  6.59s/it]"
     ]
    },
    {
     "name": "stdout",
     "output_type": "stream",
     "text": [
      "test reward: -99.000 ± 0.000 (best: -46.000 ± 0.000, goal: -45)\n"
     ]
    },
    {
     "name": "stderr",
     "output_type": "stream",
     "text": [
      "policy: 00026.959, reward: -08.000 (last episode: -100.000), epsilon: 0.120, lr: 0.0009000, steps: 25000:   0%|          | 98/200000 [10:43<370:06:37,  6.67s/it]"
     ]
    },
    {
     "name": "stdout",
     "output_type": "stream",
     "text": [
      "test reward: -94.000 ± 0.000 (best: -46.000 ± 0.000, goal: -45)\n"
     ]
    },
    {
     "name": "stderr",
     "output_type": "stream",
     "text": [
      "policy: 00026.666, reward: -09.000 (last episode: -66.000), epsilon: 0.119, lr: 0.0009000, steps: 25050:   0%|          | 103/200000 [11:13<367:46:21,  6.62s/it]"
     ]
    },
    {
     "name": "stdout",
     "output_type": "stream",
     "text": [
      "test reward: -94.000 ± 0.000 (best: -46.000 ± 0.000, goal: -45)\n"
     ]
    },
    {
     "name": "stderr",
     "output_type": "stream",
     "text": [
      "policy: 00030.982, reward: -09.000 (last episode: -71.000), epsilon: 0.119, lr: 0.0009000, steps: 25100:   0%|          | 107/200000 [11:43<365:13:05,  6.58s/it]"
     ]
    },
    {
     "name": "stdout",
     "output_type": "stream",
     "text": [
      "test reward: -94.000 ± 0.000 (best: -46.000 ± 0.000, goal: -45)\n"
     ]
    },
    {
     "name": "stderr",
     "output_type": "stream",
     "text": [
      "policy: 00028.785, reward: -08.000 (last episode: -86.000), epsilon: 0.119, lr: 0.0009000, steps: 25150:   0%|          | 112/200000 [12:13<370:23:25,  6.67s/it]"
     ]
    },
    {
     "name": "stdout",
     "output_type": "stream",
     "text": [
      "test reward: -104.000 ± 0.000 (best: -46.000 ± 0.000, goal: -45)\n"
     ]
    },
    {
     "name": "stderr",
     "output_type": "stream",
     "text": [
      "policy: 00031.686, reward: -06.000 (last episode: -76.000), epsilon: 0.118, lr: 0.0009000, steps: 25200:   0%|          | 116/200000 [12:43<369:49:29,  6.66s/it]"
     ]
    },
    {
     "name": "stdout",
     "output_type": "stream",
     "text": [
      "test reward: -104.000 ± 0.000 (best: -46.000 ± 0.000, goal: -45)\n"
     ]
    },
    {
     "name": "stderr",
     "output_type": "stream",
     "text": [
      "policy: 00029.855, reward: -09.000 (last episode: -94.000), epsilon: 0.118, lr: 0.0009000, steps: 25250:   0%|          | 121/200000 [13:14<371:03:42,  6.68s/it]"
     ]
    },
    {
     "name": "stdout",
     "output_type": "stream",
     "text": [
      "test reward: -94.000 ± 0.000 (best: -46.000 ± 0.000, goal: -45)\n"
     ]
    },
    {
     "name": "stderr",
     "output_type": "stream",
     "text": [
      "policy: 00028.415, reward: -07.000 (last episode: -81.000), epsilon: 0.118, lr: 0.0009000, steps: 25300:   0%|          | 125/200000 [13:44<370:16:08,  6.67s/it]"
     ]
    },
    {
     "name": "stdout",
     "output_type": "stream",
     "text": [
      "test reward: -94.000 ± 0.000 (best: -46.000 ± 0.000, goal: -45)\n"
     ]
    },
    {
     "name": "stderr",
     "output_type": "stream",
     "text": [
      "policy: 00029.843, reward: -06.000 (last episode: -81.000), epsilon: 0.000, lr: 0.0009000, steps: 25350:   0%|          | 130/200000 [14:14<368:38:25,  6.64s/it]"
     ]
    },
    {
     "name": "stdout",
     "output_type": "stream",
     "text": [
      "test reward: -94.000 ± 0.000 (best: -46.000 ± 0.000, goal: -45)\n"
     ]
    },
    {
     "name": "stderr",
     "output_type": "stream",
     "text": [
      "policy: 00031.249, reward: -06.000 (last episode: -72.000), epsilon: 0.117, lr: 0.0009000, steps: 25376:   0%|          | 132/200000 [14:30<366:09:24,  6.60s/it]\n"
     ]
    },
    {
     "ename": "KeyboardInterrupt",
     "evalue": "",
     "output_type": "error",
     "traceback": [
      "\u001b[1;31m---------------------------------------------------------------------------\u001b[0m",
      "\u001b[1;31mKeyboardInterrupt\u001b[0m                         Traceback (most recent call last)",
      "\u001b[1;32m~\\AppData\\Local\\Temp/ipykernel_5752/1895749942.py\u001b[0m in \u001b[0;36m<module>\u001b[1;34m\u001b[0m\n\u001b[0;32m     54\u001b[0m             \u001b[1;32melse\u001b[0m\u001b[1;33m:\u001b[0m\u001b[1;33m\u001b[0m\u001b[1;33m\u001b[0m\u001b[0m\n\u001b[0;32m     55\u001b[0m                 \u001b[0mpolicy\u001b[0m\u001b[1;33m.\u001b[0m\u001b[0mtrain\u001b[0m\u001b[1;33m(\u001b[0m\u001b[1;33m)\u001b[0m\u001b[1;33m\u001b[0m\u001b[1;33m\u001b[0m\u001b[0m\n\u001b[1;32m---> 56\u001b[1;33m                 \u001b[0mbatch\u001b[0m \u001b[1;33m=\u001b[0m \u001b[0mmemory\u001b[0m\u001b[1;33m.\u001b[0m\u001b[0msample\u001b[0m\u001b[1;33m(\u001b[0m\u001b[0mBATCH_SIZE\u001b[0m\u001b[1;33m)\u001b[0m\u001b[1;33m\u001b[0m\u001b[1;33m\u001b[0m\u001b[0m\n\u001b[0m\u001b[0;32m     57\u001b[0m \u001b[1;33m\u001b[0m\u001b[0m\n\u001b[0;32m     58\u001b[0m                 \u001b[1;31m# calculate q values for the actions that were taken\u001b[0m\u001b[1;33m\u001b[0m\u001b[1;33m\u001b[0m\u001b[0m\n",
      "\u001b[1;32m~\\AppData\\Local\\Temp/ipykernel_5752/2058689995.py\u001b[0m in \u001b[0;36msample\u001b[1;34m(self, batch_size)\u001b[0m\n\u001b[0;32m     10\u001b[0m         \u001b[0mtransitions\u001b[0m \u001b[1;33m=\u001b[0m \u001b[0mrandom\u001b[0m\u001b[1;33m.\u001b[0m\u001b[0msample\u001b[0m\u001b[1;33m(\u001b[0m\u001b[0mself\u001b[0m\u001b[1;33m.\u001b[0m\u001b[0mbuffer\u001b[0m\u001b[1;33m,\u001b[0m \u001b[0mbatch_size\u001b[0m\u001b[1;33m)\u001b[0m\u001b[1;33m\u001b[0m\u001b[1;33m\u001b[0m\u001b[0m\n\u001b[0;32m     11\u001b[0m         return TransitionBatch(\n\u001b[1;32m---> 12\u001b[1;33m             \u001b[0mobservations\u001b[0m\u001b[1;33m=\u001b[0m\u001b[0mtorch\u001b[0m\u001b[1;33m.\u001b[0m\u001b[0mstack\u001b[0m\u001b[1;33m(\u001b[0m\u001b[1;33m[\u001b[0m\u001b[0mx\u001b[0m\u001b[1;33m.\u001b[0m\u001b[0mobservation\u001b[0m \u001b[1;32mfor\u001b[0m \u001b[0mx\u001b[0m \u001b[1;32min\u001b[0m \u001b[0mtransitions\u001b[0m\u001b[1;33m]\u001b[0m\u001b[1;33m)\u001b[0m\u001b[1;33m,\u001b[0m\u001b[1;33m\u001b[0m\u001b[1;33m\u001b[0m\u001b[0m\n\u001b[0m\u001b[0;32m     13\u001b[0m             \u001b[0mactions\u001b[0m\u001b[1;33m=\u001b[0m\u001b[0mtorch\u001b[0m\u001b[1;33m.\u001b[0m\u001b[0mas_tensor\u001b[0m\u001b[1;33m(\u001b[0m\u001b[1;33m[\u001b[0m\u001b[0mx\u001b[0m\u001b[1;33m.\u001b[0m\u001b[0maction\u001b[0m \u001b[1;32mfor\u001b[0m \u001b[0mx\u001b[0m \u001b[1;32min\u001b[0m \u001b[0mtransitions\u001b[0m\u001b[1;33m]\u001b[0m\u001b[1;33m,\u001b[0m \u001b[0mdtype\u001b[0m\u001b[1;33m=\u001b[0m\u001b[0mtorch\u001b[0m\u001b[1;33m.\u001b[0m\u001b[0mint64\u001b[0m\u001b[1;33m)\u001b[0m\u001b[1;33m,\u001b[0m\u001b[1;33m\u001b[0m\u001b[1;33m\u001b[0m\u001b[0m\n\u001b[0;32m     14\u001b[0m             \u001b[0mrewards\u001b[0m\u001b[1;33m=\u001b[0m\u001b[0mtorch\u001b[0m\u001b[1;33m.\u001b[0m\u001b[0mas_tensor\u001b[0m\u001b[1;33m(\u001b[0m\u001b[1;33m[\u001b[0m\u001b[0mx\u001b[0m\u001b[1;33m.\u001b[0m\u001b[0mreward\u001b[0m \u001b[1;32mfor\u001b[0m \u001b[0mx\u001b[0m \u001b[1;32min\u001b[0m \u001b[0mtransitions\u001b[0m\u001b[1;33m]\u001b[0m\u001b[1;33m,\u001b[0m \u001b[0mdtype\u001b[0m\u001b[1;33m=\u001b[0m\u001b[0mtorch\u001b[0m\u001b[1;33m.\u001b[0m\u001b[0mfloat32\u001b[0m\u001b[1;33m)\u001b[0m\u001b[1;33m,\u001b[0m\u001b[1;33m\u001b[0m\u001b[1;33m\u001b[0m\u001b[0m\n",
      "\u001b[1;31mKeyboardInterrupt\u001b[0m: "
     ]
    }
   ],
   "source": [
    "# train loop\n",
    "TRAIN_EPISODES = 200000\n",
    "PREVIEW_EPISODE_INTERVAL = 10 # 30\n",
    "BATCH_SIZE = 12800\n",
    "REWARD_GAMMA = 0.99\n",
    "TEST_INTERVAL = 50\n",
    "SOFT_UPDATE_TAU = 0.001  \n",
    "POLICY_TARGET_UPDATE_INTERVAL = 50\n",
    "\n",
    "\n",
    "# TRAIN_EPISODES = 100000\n",
    "solved = False\n",
    "\n",
    "with tqdm(total=TRAIN_EPISODES, dynamic_ncols=True, ascii=True) as pbar:\n",
    "    for episode in range(TRAIN_EPISODES):\n",
    "        if solved: break\n",
    "        \n",
    "        warmup = len(memory) < BATCH_SIZE+4\n",
    "        should_preview = not warmup and episode % PREVIEW_EPISODE_INTERVAL == 0\n",
    "        \n",
    "        obs = torch.as_tensor(env.reset(seed=random.randint(0,100000))[0], dtype=torch.float32)\n",
    "\n",
    "        episode_reward = 0\n",
    "\n",
    "        for episode_step in count():\n",
    "            epsilon = 1 if warmup else 0 if should_preview else get_exploration_epsilon(steps_done)\n",
    "            #region exploration\n",
    "            action = get_action(obs, epsilon)\n",
    "            action_history.append(action)\n",
    "            next_obs, reward, done, trunc, info = env.step(action)\n",
    "            episode_reward += reward\n",
    "            reward_history.append(reward)\n",
    "            terminal_history.append(done)\n",
    "            if done or trunc:\n",
    "                duration_history.append(episode_step)\n",
    "                next_obs = torch.zeros(obs.shape)\n",
    "            else:\n",
    "                next_obs = torch.as_tensor(next_obs, dtype=torch.float32)                \n",
    "            memory.append(Transition(\n",
    "                observation=obs,\n",
    "                action=action,\n",
    "                reward=reward,\n",
    "                next_observation=next_obs,\n",
    "                finished=done or trunc,\n",
    "            ))\n",
    "            obs = next_obs\n",
    "            if should_preview:\n",
    "                env.render()\n",
    "            #endregion exploration\n",
    "\n",
    "            #region training\n",
    "            if warmup:\n",
    "                pbar.set_description(f\"warmup\")\n",
    "            else:\n",
    "                policy.train()\n",
    "                batch = memory.sample(BATCH_SIZE)\n",
    "\n",
    "                # calculate q values for the actions that were taken\n",
    "                q_pred = policy(batch.observations).gather(1, batch.actions.unsqueeze(1))\n",
    "\n",
    "                # calculate q values for next state\n",
    "                q_next = torch.zeros(BATCH_SIZE)\n",
    "                non_final = ~batch.finished\n",
    "                q_next[non_final] = policy_target(batch.next_observations[non_final]).max(dim=1).values.detach()\n",
    "\n",
    "                # calculate expected q values\n",
    "                q_expected = ((q_next * REWARD_GAMMA) + batch.rewards).unsqueeze(1)\n",
    "\n",
    "                # calculate loss\n",
    "                # criterion = torch.nn.SmoothL1Loss()\n",
    "                # criterion = torch.nn.MSELoss()\n",
    "                policy_loss = F.mse_loss(q_pred, q_expected)\n",
    "\n",
    "                if isinstance(memory, PrioritizedReplayBuffer):\n",
    "                    td_error = (q_expected - q_pred).abs().detach().flatten().tolist()\n",
    "                    indices = batch.indices.tolist()\n",
    "                    # update replay buffer priorities\n",
    "                    memory.update(indices, td_error)\n",
    "                    # scale loss by weights\n",
    "                    policy_loss = (batch.weights * policy_loss).mean()\n",
    "\n",
    "\n",
    "                loss_history.append(policy_loss.item())\n",
    "\n",
    "                # apply weight update\n",
    "                optimizer.zero_grad()\n",
    "                policy_loss.backward()\n",
    "                # for param in policy.parameters():\n",
    "                #     assert param.grad is not None\n",
    "                #     param.grad.data.clamp_(-1, 1) \n",
    "                optimizer.step()\n",
    "                \n",
    "                # update learning rate\n",
    "                lr = optimizer.param_groups[0][\"lr\"]\n",
    "                learning_rate_history.append(lr)\n",
    "                scheduler.step(policy_loss)\n",
    "\n",
    "                ## update target network\n",
    "                \n",
    "                # soft_update(policy_target, policy, SOFT_UPDATE_TAU)\n",
    "                if steps_done % POLICY_TARGET_UPDATE_INTERVAL == 0:\n",
    "                    hard_update(policy_target, policy)\n",
    "\n",
    "                #region testing\n",
    "                if steps_done % TEST_INTERVAL == 0:\n",
    "                    tests = list(zip(*[test() for _ in range(5)]))\n",
    "                    test_passes: List[bool] = tests[0] # type: ignore :P\n",
    "                    test_rewards: List[float] = tests[1] # type: ignore :P\n",
    "                    passed = all(test_passes)\n",
    "                    test_reward_mean = np.mean(test_rewards).item()\n",
    "                    test_reward_variance = max(max(test_rewards) - test_reward_mean, test_reward_mean - min(test_rewards))\n",
    "\n",
    "                    test_reward_history.append((steps_done, test_reward_mean, test_reward_variance))\n",
    "\n",
    "                    best = max(test_reward_history, key=lambda x: x[1] - x[2])\n",
    "\n",
    "                    test_reward = f\"{test_reward_mean:.3f} \\u00b1 {test_reward_variance:.3f}\"\n",
    "                    best_reward = f\"{best[1]:.3f} \\u00b1 {best[2]:.3f}\"\n",
    "                    print(f\"test reward: {test_reward} (best: {best_reward}, goal: {env.spec.reward_threshold})\")\n",
    "                    last_test_reward = test_reward\n",
    "                    if passed:\n",
    "                        print(\"solved!\")\n",
    "                        solved=True\n",
    "                        break\n",
    "                #endregion testing\n",
    "\n",
    "                pbar.set_description(f\"policy: {policy_loss.item():09.3f}, reward: {reward:+07.3f} (last episode: {last_episode_reward:.3f}), epsilon: {epsilon:.3f}, lr: {lr:.7f}, steps: {steps_done}\")\n",
    "            #endregion training\n",
    "\n",
    "            steps_done += 1\n",
    "\n",
    "            if done or trunc: break\n",
    "\n",
    "        last_episode_reward = episode_reward\n",
    "        pbar.update()"
   ]
  },
  {
   "cell_type": "code",
   "execution_count": null,
   "metadata": {},
   "outputs": [
    {
     "name": "stdout",
     "output_type": "stream",
     "text": [
      "None\n",
      "None\n"
     ]
    }
   ],
   "source": [
    "batch = memory.sample(10)\n",
    "# print(batch.actions)\n",
    "# print(batch.rewards)\n",
    "# print(batch.indices)\n",
    "print(batch.priorities)\n",
    "print(batch.weights)"
   ]
  },
  {
   "cell_type": "code",
   "execution_count": null,
   "metadata": {},
   "outputs": [
    {
     "data": {
      "image/png": "[encoded data removed]",
      "text/plain": [
       "<Figure size 432x288 with 1 Axes>"
      ]
     },
     "metadata": {},
     "output_type": "display_data"
    }
   ],
   "source": [
    "# plot rewards\n",
    "plt.figure()\n",
    "plt.plot([x[1]-x[2] for x in test_reward_history])\n",
    "plt.title(\"Test rewards\")\n",
    "plt.show()"
   ]
  },
  {
   "cell_type": "code",
   "execution_count": null,
   "metadata": {},
   "outputs": [
    {
     "data": {
      "image/png": "[encoded data removed]",
      "text/plain": [
       "<Figure size 432x288 with 1 Axes>"
      ]
     },
     "metadata": {},
     "output_type": "display_data"
    }
   ],
   "source": [
    "# plot durations\n",
    "plt.figure()\n",
    "plt.plot(duration_history)\n",
    "plt.title(\"Episode durations\")\n",
    "plt.show()"
   ]
  },
  {
   "cell_type": "code",
   "execution_count": null,
   "metadata": {},
   "outputs": [
    {
     "data": {
      "image/png": "[encoded data removed]",
      "text/plain": [
       "<Figure size 432x288 with 3 Axes>"
      ]
     },
     "metadata": {},
     "output_type": "display_data"
    }
   ],
   "source": [
    "# plot loss\n",
    "fig, axs = plt.subplots(3)\n",
    "plt.subplots_adjust(\n",
    "    left=0.1,\n",
    "    bottom=0.1,\n",
    "    right=0.9,\n",
    "    top=0.9,\n",
    "    # wspace=0.4,\n",
    "    hspace=0.4,\n",
    ")\n",
    "fig.suptitle(\"Loss\")\n",
    "axs[0].plot(loss_history)\n",
    "axs[1].plot(range(len(loss_history))[-300:], loss_history[-300:])\n",
    "axs[2].hist(np.log10(loss_history))\n",
    "plt.show()"
   ]
  },
  {
   "cell_type": "code",
   "execution_count": null,
   "metadata": {},
   "outputs": [
    {
     "data": {
      "text/plain": [
       "<Figure size 432x288 with 0 Axes>"
      ]
     },
     "metadata": {},
     "output_type": "display_data"
    },
    {
     "data": {
      "application/vnd.jupyter.widget-view+json": {
       "model_id": "3e3c07940eec41eb8818ed88c25fed4e",
       "version_major": 2,
       "version_minor": 0
      },
      "text/plain": [
       "interactive(children=(IntSlider(value=32226, description='i', max=32325), IntSlider(value=72, description='win…"
      ]
     },
     "metadata": {},
     "output_type": "display_data"
    }
   ],
   "source": [
    "# investigate actions\n",
    "import ipywidgets as widgets\n",
    "plt.figure()\n",
    "# @widgets.interact(i=(0, len(action_history)-1), window_size=(1, len(action_history)-1))\n",
    "@widgets.interact(i=(0, len(action_history)-1), window_size=(1, 1000))\n",
    "def preview_actions(i=len(action_history)-100, window_size=72):\n",
    "    x = torch.zeros((len(action_history), env.action_space.n + 1))\n",
    "    x[range(len(action_history)), action_history] = 1\n",
    "    x[:, 2] = torch.as_tensor(terminal_history, dtype=torch.bool)\n",
    "    plt.imshow(x[i:i+window_size], aspect=\"auto\")\n",
    "    plt.show()\n",
    "    del x"
   ]
  },
  {
   "cell_type": "code",
   "execution_count": null,
   "metadata": {},
   "outputs": [
    {
     "name": "stdout",
     "output_type": "stream",
     "text": [
      "success=False, reward=-157\n",
      "success=False, reward=-157\n",
      "success=False, reward=-157\n",
      "success=False, reward=-157\n",
      "success=False, reward=-157\n"
     ]
    }
   ],
   "source": [
    "# preview\n",
    "epsilon = 0\n",
    "for episode in range(5):\n",
    "    success, reward = test(render=True)\n",
    "    print(f\"success={success}, reward={reward}\")"
   ]
  },
  {
   "attachments": {},
   "cell_type": "markdown",
   "metadata": {},
   "source": [
    "- security metrics\n",
    "    - investigate paper: \"Deep Reinforcement Learning-Based Defense Strategy Selection\"\n",
    "- why DQN over other algorithms; does it reflect our real world scenario\n",
    "- plan: results early-mid january"
   ]
  }
 ],
 "metadata": {
  "kernelspec": {
   "display_name": "subgame",
   "language": "python",
   "name": "python3"
  },
  "language_info": {
   "codemirror_mode": {
    "name": "ipython",
    "version": 3
   },
   "file_extension": ".py",
   "mimetype": "text/x-python",
   "name": "python",
   "nbconvert_exporter": "python",
   "pygments_lexer": "ipython3",
   "version": "3.9.12"
  },
  "orig_nbformat": 4,
  "vscode": {
   "interpreter": {
    "hash": "09b31e4957d63d79e1e76c5537c345194b9f565583fac53cbbb105281d72baf4"
   }
  }
 },
 "nbformat": 4,
 "nbformat_minor": 2
}
