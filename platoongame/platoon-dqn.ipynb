{
 "cells": [
  {
   "cell_type": "markdown",
   "metadata": {},
   "source": [
    "See also: [pytorch cartpole DQN](https://pytorch.org/tutorials/intermediate/reinforcement_q_learning.html)"
   ]
  },
  {
   "cell_type": "code",
   "execution_count": 1,
   "metadata": {},
   "outputs": [],
   "source": [
    "import gym\n",
    "import torch\n",
    "import torch.nn as nn\n",
    "import torch.nn.functional as F\n",
    "from torch import Tensor\n",
    "import numpy as np\n",
    "import random\n",
    "import matplotlib.pyplot as plt\n",
    "from collections import deque\n",
    "from tqdm import tqdm\n",
    "from dataclasses import dataclass\n",
    "from itertools import count\n",
    "import random\n",
    "import math\n",
    "from typing import List, Tuple, Dict, Any, Optional, Callable, Union"
   ]
  },
  {
   "cell_type": "code",
   "execution_count": 2,
   "metadata": {},
   "outputs": [
    {
     "name": "stderr",
     "output_type": "stream",
     "text": [
      "c:\\Users\\TeamD\\.conda\\envs\\tianshou\\lib\\site-packages\\gym\\envs\\registration.py:555: UserWarning: \u001b[33mWARN: The environment Platoon-v0 is out of date. You should consider upgrading to version `v1`.\u001b[0m\n",
      "  logger.warn(\n"
     ]
    }
   ],
   "source": [
    "# make env\n",
    "import platoonenv\n",
    "from gym.wrappers import TimeLimit # type: ignore\n",
    "\n",
    "# envName = \"CartPole-v0\"\n",
    "# envName = \"MountainCar-v0\"\n",
    "# envName = \"Acrobot-v1\"\n",
    "\n",
    "envName = \"Platoon-v0\"\n",
    "# envName = \"Platoon-v1\"\n",
    "\n",
    "def make_env(render_mode: Union[str, None] = None) -> gym.Env[np.ndarray, int]:\n",
    "    env = gym.make(envName, render_mode=render_mode)\n",
    "    return env\n",
    "\n",
    "env = make_env(render_mode=\"human\")"
   ]
  },
  {
   "cell_type": "code",
   "execution_count": 3,
   "metadata": {},
   "outputs": [
    {
     "name": "stdout",
     "output_type": "stream",
     "text": [
      "Box(0.0, 1.0, (10,), float32)\n",
      "(array([0., 0., 0., 0., 0., 0., 0., 0., 0., 0.], dtype=float32), {})\n"
     ]
    }
   ],
   "source": [
    "print(env.observation_space)\n",
    "print(env.reset())"
   ]
  },
  {
   "cell_type": "code",
   "execution_count": 4,
   "metadata": {},
   "outputs": [
    {
     "name": "stdout",
     "output_type": "stream",
     "text": [
      "Discrete(11)\n",
      "11\n"
     ]
    }
   ],
   "source": [
    "print(env.action_space)\n",
    "print(env.action_space.n)"
   ]
  },
  {
   "cell_type": "code",
   "execution_count": 5,
   "metadata": {},
   "outputs": [
    {
     "name": "stdout",
     "output_type": "stream",
     "text": [
      "-45\n"
     ]
    }
   ],
   "source": [
    "print(env.spec.reward_threshold)"
   ]
  },
  {
   "cell_type": "code",
   "execution_count": 6,
   "metadata": {},
   "outputs": [],
   "source": [
    "class DQN(nn.Module):\n",
    "    def __init__(self, obs_shape: Tuple[int,...], hidden_shapes: Tuple[int,...], num_actions: int):\n",
    "        super().__init__()\n",
    "        assert len(hidden_shapes) > 0\n",
    "        net = []\n",
    "        shapes = (math.prod(obs_shape), ) + hidden_shapes\n",
    "        for i in range(1, len(shapes)):\n",
    "            net.append(nn.Linear(shapes[i-1], shapes[i]))\n",
    "            net.append(nn.BatchNorm1d(shapes[i]))\n",
    "            net.append(nn.ReLU())\n",
    "        net.append(nn.Linear(hidden_shapes[-1], num_actions))\n",
    "        self.net = nn.Sequential(*net)\n",
    "\n",
    "    def forward(self, x: Tensor) -> Tensor:\n",
    "        x = x.flatten(start_dim=1)\n",
    "        x = self.net(x)\n",
    "        return x"
   ]
  },
  {
   "cell_type": "code",
   "execution_count": 7,
   "metadata": {},
   "outputs": [
    {
     "name": "stdout",
     "output_type": "stream",
     "text": [
      "DQN(\n",
      "  (net): Sequential(\n",
      "    (0): Linear(in_features=10, out_features=128, bias=True)\n",
      "    (1): BatchNorm1d(128, eps=1e-05, momentum=0.1, affine=True, track_running_stats=True)\n",
      "    (2): ReLU()\n",
      "    (3): Linear(in_features=128, out_features=128, bias=True)\n",
      "    (4): BatchNorm1d(128, eps=1e-05, momentum=0.1, affine=True, track_running_stats=True)\n",
      "    (5): ReLU()\n",
      "    (6): Linear(in_features=128, out_features=128, bias=True)\n",
      "    (7): BatchNorm1d(128, eps=1e-05, momentum=0.1, affine=True, track_running_stats=True)\n",
      "    (8): ReLU()\n",
      "    (9): Linear(in_features=128, out_features=128, bias=True)\n",
      "    (10): BatchNorm1d(128, eps=1e-05, momentum=0.1, affine=True, track_running_stats=True)\n",
      "    (11): ReLU()\n",
      "    (12): Linear(in_features=128, out_features=11, bias=True)\n",
      "  )\n",
      ")\n"
     ]
    }
   ],
   "source": [
    "# instantiate models\n",
    "assert env.observation_space.shape is not None\n",
    "assert env.action_space.n is not None # type: ignore\n",
    "policy = DQN(\n",
    "    obs_shape = env.observation_space.shape,\n",
    "    hidden_shapes = (128,128,128,128),\n",
    "    num_actions = env.action_space.n, # type: ignore\n",
    ")\n",
    "policy_target = DQN(\n",
    "    obs_shape = env.observation_space.shape,\n",
    "    hidden_shapes = (128,128,128,128),\n",
    "    num_actions = env.action_space.n, # type: ignore\n",
    ")\n",
    "policy_target.eval()\n",
    "print(policy)"
   ]
  },
  {
   "cell_type": "code",
   "execution_count": 8,
   "metadata": {},
   "outputs": [],
   "source": [
    "# weight update functions\n",
    "# from https://github.com/ghliu/pytorch-ddpg/blob/master/util.py#L26\n",
    "def soft_update(target, source, tau):\n",
    "        for target_param, param in zip(target.parameters(), source.parameters()):\n",
    "            ## shouldn't be necessary since we use target networks to calculate loss\n",
    "            # if isinstance(target_param, torch.nn.parameter.UninitializedParameter):\n",
    "            #     # target model uninitialized, hard update\n",
    "            #     target_param.data.copy_(param.data)\n",
    "            # else:\n",
    "            target_param.data.copy_(target_param.data * (1.0 - tau) + param.data * tau)\n",
    "\n",
    "def hard_update(target, source):\n",
    "    target.load_state_dict(source.state_dict())\n",
    "    # for target_param, param in zip(target.parameters(), source.parameters()):\n",
    "    #         target_param.data.copy_(param.data)"
   ]
  },
  {
   "cell_type": "code",
   "execution_count": 9,
   "metadata": {},
   "outputs": [],
   "source": [
    "hard_update(policy_target, policy)"
   ]
  },
  {
   "cell_type": "code",
   "execution_count": 10,
   "metadata": {},
   "outputs": [],
   "source": [
    "@dataclass\n",
    "class Transition:\n",
    "    observation: Tensor\n",
    "    action: int\n",
    "    reward: float\n",
    "    next_state: Tensor\n",
    "    finished: bool\n",
    "\n",
    "@dataclass\n",
    "class TransitionBatch:\n",
    "    observations: Tensor\n",
    "    actions: Tensor\n",
    "    rewards: Tensor\n",
    "    next_states: Tensor\n",
    "    finished: Tensor"
   ]
  },
  {
   "cell_type": "code",
   "execution_count": 11,
   "metadata": {},
   "outputs": [],
   "source": [
    "MEMORY_SIZE = 10000 \n",
    "memory = deque[Transition](maxlen=MEMORY_SIZE)"
   ]
  },
  {
   "cell_type": "code",
   "execution_count": 12,
   "metadata": {},
   "outputs": [],
   "source": [
    "def sample_memory(batch_size: int) -> TransitionBatch:\n",
    "    samples = random.sample(memory, batch_size)\n",
    "    return TransitionBatch(\n",
    "        observations=torch.stack([s.observation for s in samples]),\n",
    "        actions=torch.as_tensor([s.action for s in samples], dtype=torch.int64),\n",
    "        rewards=torch.as_tensor([s.reward for s in samples], dtype=torch.float32),\n",
    "        next_states=torch.stack([s.next_state for s in samples]),\n",
    "        finished=torch.as_tensor([s.finished for s in samples], dtype=torch.bool),\n",
    "    )"
   ]
  },
  {
   "cell_type": "code",
   "execution_count": 13,
   "metadata": {},
   "outputs": [],
   "source": [
    "def get_epsilon(steps_done: int) -> float:\n",
    "    EPSILON_START = 0.9\n",
    "    EPSILON_END = 0.05\n",
    "    EPSILON_DECAY = 10000\n",
    "    return EPSILON_END + (EPSILON_START - EPSILON_END) * math.exp(-1. * steps_done / EPSILON_DECAY)"
   ]
  },
  {
   "cell_type": "code",
   "execution_count": 14,
   "metadata": {},
   "outputs": [
    {
     "data": {
      "image/png": "[encoded data removed]",
      "text/plain": [
       "<Figure size 432x288 with 1 Axes>"
      ]
     },
     "metadata": {
      "needs_background": "dark"
     },
     "output_type": "display_data"
    }
   ],
   "source": [
    "# plot epsilon\n",
    "# %matplotlib ipympl\n",
    "%matplotlib inline\n",
    "plt.figure()\n",
    "plt.style.use('dark_background')\n",
    "plt.title(\"epsilon\")\n",
    "plt.plot([get_epsilon(i) for i in range(1000000) if get_epsilon(i) >= 0.1])\n",
    "plt.show()"
   ]
  },
  {
   "cell_type": "code",
   "execution_count": 15,
   "metadata": {},
   "outputs": [],
   "source": [
    "def get_action(obs: Tensor, epsilon: float) -> int:\n",
    "    if random.random() < epsilon:\n",
    "        return env.action_space.sample()\n",
    "    state_batch = obs.unsqueeze(0)\n",
    "    policy.eval()\n",
    "    with torch.no_grad():\n",
    "        q_values = policy(state_batch)\n",
    "    return int(q_values.argmax(dim=1).squeeze()) # return action with highest q-value"
   ]
  },
  {
   "cell_type": "code",
   "execution_count": 16,
   "metadata": {},
   "outputs": [],
   "source": [
    "def test(render=False) -> Tuple[bool, float]:\n",
    "    if render:\n",
    "        env = make_env(render_mode=\"human\")\n",
    "    else:\n",
    "        env = make_env()\n",
    "    assert env.spec.reward_threshold is not None\n",
    "    obs, info = env.reset(seed=random.randint(0,100000))\n",
    "    obs = torch.as_tensor(obs, dtype=torch.float32)\n",
    "    episode_reward = 0\n",
    "    for i in count():\n",
    "        action = get_action(obs, 0)\n",
    "        obs, reward, done, trunc, info = env.step(action)\n",
    "        obs = torch.as_tensor(obs, dtype=torch.float32)\n",
    "        episode_reward += reward\n",
    "        if render:\n",
    "            env.render()\n",
    "        if done or trunc:\n",
    "            break\n",
    "    return episode_reward >= env.spec.reward_threshold, episode_reward"
   ]
  },
  {
   "cell_type": "code",
   "execution_count": 17,
   "metadata": {},
   "outputs": [
    {
     "name": "stderr",
     "output_type": "stream",
     "text": [
      "c:\\Users\\TeamD\\.conda\\envs\\tianshou\\lib\\site-packages\\gym\\envs\\registration.py:555: UserWarning: \u001b[33mWARN: The environment Platoon-v0 is out of date. You should consider upgrading to version `v1`.\u001b[0m\n",
      "  logger.warn(\n"
     ]
    }
   ],
   "source": [
    "assert not test()[0] # untrained model should probably not be able to solve the environment"
   ]
  },
  {
   "cell_type": "code",
   "execution_count": 18,
   "metadata": {},
   "outputs": [],
   "source": [
    "# step metrics\n",
    "loss_history: List[float] = []\n",
    "learning_rate_history: List[float] = []\n",
    "reward_history: List[float] = []\n",
    "duration_history: List[int] = []\n",
    "action_history: List[int] = []\n",
    "terminal_history: List[bool] = []\n",
    "# other metrics\n",
    "test_reward_history: List[Tuple[int, float, float]] = []\n",
    "last_episode_reward = 0\n",
    "last_test_reward = \"\""
   ]
  },
  {
   "cell_type": "code",
   "execution_count": 19,
   "metadata": {},
   "outputs": [],
   "source": [
    "# train loop\n",
    "optimizer = torch.optim.Adam(policy.parameters(), lr=0.001)\n",
    "# optimizer = torch.optim.RMSprop(policy.parameters(), lr=LEARNING_RATE)\n",
    "scheduler = torch.optim.lr_scheduler.ReduceLROnPlateau(\n",
    "    optimizer,\n",
    "    # mode=\"max\",\n",
    "    mode=\"min\",\n",
    "    factor=0.9,\n",
    "    patience=500,\n",
    "    cooldown=500,\n",
    "    min_lr=0.00001,\n",
    "    verbose=True,\n",
    ")\n",
    "steps_done = 0"
   ]
  },
  {
   "cell_type": "code",
   "execution_count": 20,
   "metadata": {},
   "outputs": [
    {
     "name": "stderr",
     "output_type": "stream",
     "text": [
      "policy: 00002.046, reward: -02.000 (last episode: -72.000), epsilon: 0.857, lr: 0.0010000, steps: 525:   5%|4         | 47/1000 [00:04<01:32, 10.30it/s]"
     ]
    },
    {
     "name": "stdout",
     "output_type": "stream",
     "text": [
      "test reward: -72.000 ± 0.0 (last: , best: 0, goal: -45)\n"
     ]
    },
    {
     "name": "stderr",
     "output_type": "stream",
     "text": [
      "policy: 00003.262, reward: -06.000 (last episode: -78.000), epsilon: 0.817, lr: 0.0010000, steps: 1027:   9%|9         | 93/1000 [00:09<01:41,  8.94it/s]"
     ]
    },
    {
     "name": "stdout",
     "output_type": "stream",
     "text": [
      "test reward: -64.000 ± 0.0 (last: -72.000 ± 0.0, best: -72.0, goal: -45)\n"
     ]
    },
    {
     "name": "stderr",
     "output_type": "stream",
     "text": [
      "policy: 00004.706, reward: -06.000 (last episode: -94.000), epsilon: 0.806, lr: 0.0009000, steps: 1173:  11%|#         | 106/1000 [00:10<01:28, 10.07it/s]"
     ]
    },
    {
     "name": "stdout",
     "output_type": "stream",
     "text": [
      "Epoch 01021: reducing learning rate of group 0 to 9.0000e-04.\n"
     ]
    },
    {
     "name": "stderr",
     "output_type": "stream",
     "text": [
      "policy: 00003.600, reward: -06.000 (last episode: -82.000), epsilon: 0.780, lr: 0.0009000, steps: 1526:  14%|#3        | 138/1000 [00:13<01:23, 10.37it/s]"
     ]
    },
    {
     "name": "stdout",
     "output_type": "stream",
     "text": [
      "test reward: -46.000 ± 0.0 (last: -64.000 ± 0.0, best: -64.0, goal: -45)\n"
     ]
    },
    {
     "name": "stderr",
     "output_type": "stream",
     "text": [
      "policy: 00005.750, reward: -06.000 (last episode: -52.000), epsilon: 0.744, lr: 0.0009000, steps: 2027:  18%|#8        | 184/1000 [00:18<01:29,  9.10it/s]"
     ]
    },
    {
     "name": "stdout",
     "output_type": "stream",
     "text": [
      "test reward: -68.000 ± 0.0 (last: -46.000 ± 0.0, best: -46.0, goal: -45)\n"
     ]
    },
    {
     "name": "stderr",
     "output_type": "stream",
     "text": [
      "policy: 00002.612, reward: -08.000 (last episode: -71.000), epsilon: 0.734, lr: 0.0008100, steps: 2174:  20%|#9        | 197/1000 [00:20<01:20,  9.95it/s]"
     ]
    },
    {
     "name": "stdout",
     "output_type": "stream",
     "text": [
      "Epoch 02022: reducing learning rate of group 0 to 8.1000e-04.\n"
     ]
    },
    {
     "name": "stderr",
     "output_type": "stream",
     "text": [
      "policy: 00003.232, reward: -05.000 (last episode: -70.000), epsilon: 0.710, lr: 0.0008100, steps: 2527:  23%|##2       | 229/1000 [00:23<01:14, 10.32it/s]"
     ]
    },
    {
     "name": "stdout",
     "output_type": "stream",
     "text": [
      "test reward: -62.000 ± 0.0 (last: -68.000 ± 0.0, best: -46.0, goal: -45)\n"
     ]
    },
    {
     "name": "stderr",
     "output_type": "stream",
     "text": [
      "policy: 00009.201, reward: -03.000 (last episode: -85.000), epsilon: 0.678, lr: 0.0008100, steps: 3024:  27%|##7       | 274/1000 [00:28<01:32,  7.84it/s]"
     ]
    },
    {
     "name": "stdout",
     "output_type": "stream",
     "text": [
      "test reward: -76.000 ± 0.0 (last: -62.000 ± 0.0, best: -46.0, goal: -45)\n"
     ]
    },
    {
     "name": "stderr",
     "output_type": "stream",
     "text": [
      "policy: 00003.575, reward: -07.000 (last episode: -67.000), epsilon: 0.669, lr: 0.0007290, steps: 3174:  29%|##8       | 288/1000 [00:29<01:09, 10.25it/s]"
     ]
    },
    {
     "name": "stdout",
     "output_type": "stream",
     "text": [
      "Epoch 03023: reducing learning rate of group 0 to 7.2900e-04.\n"
     ]
    },
    {
     "name": "stderr",
     "output_type": "stream",
     "text": [
      "policy: 00002.262, reward: -09.000 (last episode: -75.000), epsilon: 0.648, lr: 0.0007290, steps: 3521:  32%|###2      | 320/1000 [00:33<01:03, 10.67it/s]"
     ]
    },
    {
     "name": "stdout",
     "output_type": "stream",
     "text": [
      "test reward: -46.000 ± 0.0 (last: -76.000 ± 0.0, best: -46.0, goal: -45)\n"
     ]
    },
    {
     "name": "stderr",
     "output_type": "stream",
     "text": [
      "policy: 00006.537, reward: -04.000 (last episode: -73.000), epsilon: 0.621, lr: 0.0007290, steps: 3977:  36%|###6      | 361/1000 [00:37<01:22,  7.72it/s]"
     ]
    }
   ],
   "source": [
    "TRAIN_EPISODES = 1000\n",
    "solved = False\n",
    "with tqdm(total=TRAIN_EPISODES, dynamic_ncols=True, ascii=True) as pbar:\n",
    "    for episode in range(TRAIN_EPISODES):\n",
    "        if solved: break\n",
    "        state = torch.as_tensor(env.reset()[0], dtype=torch.float32)\n",
    "        episode_reward = 0\n",
    "        for episode_step in count():\n",
    "            epsilon = get_epsilon(steps_done)\n",
    "            #region exploration\n",
    "            action = get_action(state, epsilon)\n",
    "            action_history.append(action)\n",
    "            next_state, reward, done, trunc, info = env.step(action)\n",
    "            episode_reward += reward\n",
    "            reward_history.append(reward)\n",
    "            terminal_history.append(done)\n",
    "            if done or trunc:\n",
    "                duration_history.append(episode_step)\n",
    "                next_state = torch.zeros(state.shape)\n",
    "            else:\n",
    "                next_state = torch.as_tensor(next_state, dtype=torch.float32)                \n",
    "            memory.append(Transition(\n",
    "                observation=state,\n",
    "                action=action,\n",
    "                reward=reward,\n",
    "                next_state=next_state,\n",
    "                finished=done or trunc,\n",
    "            ))\n",
    "            state = next_state\n",
    "\n",
    "            PREVIEW_EPISODE_INTERVAL = 10\n",
    "            if episode % PREVIEW_EPISODE_INTERVAL == 0:\n",
    "                env.render()\n",
    "            #endregion exploration\n",
    "\n",
    "            #region training\n",
    "            BATCH_SIZE = 128\n",
    "            if len(memory) < BATCH_SIZE:\n",
    "                pbar.set_description(f\"warmup\")\n",
    "            else:\n",
    "                policy.train()\n",
    "                batch = sample_memory(BATCH_SIZE)\n",
    "\n",
    "                # calculate q values for the actions that were taken\n",
    "                q_pred = policy(batch.observations).gather(1, batch.actions.unsqueeze(1))\n",
    "\n",
    "                # calculate q values for next state\n",
    "                q_next = torch.zeros(BATCH_SIZE)\n",
    "                non_final = ~batch.finished\n",
    "                q_next[non_final] = policy_target(batch.next_states[non_final]).max(dim=1).values.detach()\n",
    "\n",
    "                # calculate expected q values\n",
    "                REWARD_GAMMA = 0.99\n",
    "                q_expected = ((q_next * REWARD_GAMMA) + batch.rewards).unsqueeze(1)\n",
    "\n",
    "                # calculate loss\n",
    "                # criterion = torch.nn.SmoothL1Loss()\n",
    "                # criterion = torch.nn.MSELoss()\n",
    "                policy_loss = F.mse_loss(q_pred, q_expected)\n",
    "                loss_history.append(policy_loss.item())\n",
    "\n",
    "                # apply weight update\n",
    "                optimizer.zero_grad()\n",
    "                policy_loss.backward()\n",
    "                for param in policy.parameters():\n",
    "                    assert param.grad is not None\n",
    "                    param.grad.data.clamp_(-1, 1) \n",
    "                optimizer.step()\n",
    "                \n",
    "                # update learning rate\n",
    "                lr = optimizer.param_groups[0][\"lr\"]\n",
    "                learning_rate_history.append(lr)\n",
    "                scheduler.step(policy_loss)\n",
    "\n",
    "                ## update target network\n",
    "                \n",
    "                SOFT_UPDATE_TAU = 0.001  \n",
    "                # soft_update(policy_target, policy, SOFT_UPDATE_TAU)\n",
    "                POLICY_TARGET_UPDATE_INTERVAL = 10 \n",
    "                if steps_done % POLICY_TARGET_UPDATE_INTERVAL == 0:\n",
    "                    hard_update(policy_target, policy)\n",
    "\n",
    "                #region testing\n",
    "                TEST_INTERVAL = 500\n",
    "                if steps_done % TEST_INTERVAL == 0:\n",
    "                    tests = list(zip(*[test() for _ in range(5)]))\n",
    "                    test_passes: List[bool] = tests[0] # type: ignore :P\n",
    "                    test_rewards: List[float] = tests[1] # type: ignore :P\n",
    "                    passed = all(test_passes)\n",
    "                    test_reward_mean = np.mean(test_rewards).item()\n",
    "                    test_reward_variance = max(max(test_rewards) - test_reward_mean, test_reward_mean - min(test_rewards))\n",
    "                    best = 0 if len(test_reward_history) == 0 else max(x[1] + x[2] for x in test_reward_history)\n",
    "                    test_reward = f\"{test_reward_mean:.3f} ± {test_reward_variance}\"\n",
    "                    print(f\"test reward: {test_reward} (last: {last_test_reward}, best: {best}, goal: {env.spec.reward_threshold})\")\n",
    "                    last_test_reward = test_reward\n",
    "                    test_reward_history.append((steps_done, test_reward_mean, test_reward_variance))\n",
    "                    if passed:\n",
    "                        print(\"solved!\")\n",
    "                        solved=True\n",
    "                        break\n",
    "                #endregion testing\n",
    "\n",
    "                pbar.set_description(f\"policy: {policy_loss.item():09.3f}, reward: {reward:+07.3f} (last episode: {last_episode_reward:.3f}), epsilon: {epsilon:.3f}, lr: {lr:.7f}, steps: {steps_done}\")\n",
    "            #endregion training\n",
    "\n",
    "            steps_done += 1\n",
    "\n",
    "            if done or trunc: break\n",
    "\n",
    "        last_episode_reward = episode_reward\n",
    "        pbar.update()"
   ]
  },
  {
   "cell_type": "code",
   "execution_count": null,
   "metadata": {},
   "outputs": [
    {
     "data": {
      "image/png": "[encoded data removed]",
      "text/plain": [
       "<Figure size 432x288 with 1 Axes>"
      ]
     },
     "metadata": {},
     "output_type": "display_data"
    }
   ],
   "source": [
    "# plot rewards\n",
    "plt.figure()\n",
    "plt.plot([x[1] for x in test_reward_history])\n",
    "plt.title(\"Test rewards\")\n",
    "plt.show()"
   ]
  },
  {
   "cell_type": "code",
   "execution_count": null,
   "metadata": {},
   "outputs": [
    {
     "data": {
      "image/png": "[encoded data removed]",
      "text/plain": [
       "<Figure size 432x288 with 1 Axes>"
      ]
     },
     "metadata": {},
     "output_type": "display_data"
    }
   ],
   "source": [
    "# plot durations\n",
    "plt.figure()\n",
    "plt.plot(duration_history)\n",
    "plt.title(\"Episode durations\")\n",
    "plt.show()"
   ]
  },
  {
   "cell_type": "code",
   "execution_count": null,
   "metadata": {},
   "outputs": [
    {
     "data": {
      "image/png": "[encoded data removed]",
      "text/plain": [
       "<Figure size 432x288 with 3 Axes>"
      ]
     },
     "metadata": {},
     "output_type": "display_data"
    }
   ],
   "source": [
    "# plot loss\n",
    "fig, axs = plt.subplots(3)\n",
    "plt.subplots_adjust(\n",
    "    left=0.1,\n",
    "    bottom=0.1,\n",
    "    right=0.9,\n",
    "    top=0.9,\n",
    "    # wspace=0.4,\n",
    "    hspace=0.4,\n",
    ")\n",
    "fig.suptitle(\"Loss\")\n",
    "axs[0].plot(loss_history)\n",
    "axs[1].plot(range(len(loss_history))[-300:], loss_history[-300:])\n",
    "axs[2].hist(np.log10(loss_history))\n",
    "plt.show()"
   ]
  },
  {
   "cell_type": "code",
   "execution_count": null,
   "metadata": {},
   "outputs": [
    {
     "data": {
      "text/plain": [
       "<Figure size 432x288 with 0 Axes>"
      ]
     },
     "metadata": {},
     "output_type": "display_data"
    },
    {
     "data": {
      "application/vnd.jupyter.widget-view+json": {
       "model_id": "66e770caf3a34f3d8403764294ee7eb1",
       "version_major": 2,
       "version_minor": 0
      },
      "text/plain": [
       "interactive(children=(IntSlider(value=10401, description='i', max=10500), IntSlider(value=100, description='wi…"
      ]
     },
     "metadata": {},
     "output_type": "display_data"
    }
   ],
   "source": [
    "# investigate actions\n",
    "import ipywidgets as widgets\n",
    "plt.figure()\n",
    "@widgets.interact(i=(0, len(action_history)-1), window_size=(1, len(action_history)-1))\n",
    "def preview_actions(i=len(action_history)-100, window_size=100):\n",
    "    x = torch.zeros((len(action_history), env.action_space.n + 1))\n",
    "    x[range(len(action_history)), action_history] = 1\n",
    "    x[:, 2] = torch.as_tensor(terminal_history, dtype=torch.bool)\n",
    "    plt.imshow(x[i:i+window_size], aspect=\"auto\")\n",
    "    plt.show()\n",
    "    del x"
   ]
  },
  {
   "cell_type": "code",
   "execution_count": null,
   "metadata": {},
   "outputs": [
    {
     "name": "stdout",
     "output_type": "stream",
     "text": [
      "success=True, reward=-45\n",
      "success=True, reward=-45\n",
      "success=True, reward=-45\n",
      "success=True, reward=-45\n",
      "success=True, reward=-45\n",
      "success=True, reward=-45\n",
      "success=True, reward=-45\n",
      "success=True, reward=-45\n",
      "success=True, reward=-45\n",
      "success=True, reward=-45\n",
      "success=True, reward=-45\n",
      "success=True, reward=-45\n",
      "success=True, reward=-45\n",
      "success=True, reward=-45\n",
      "success=True, reward=-45\n",
      "success=True, reward=-45\n",
      "success=True, reward=-45\n",
      "success=True, reward=-45\n",
      "success=True, reward=-45\n",
      "success=True, reward=-45\n",
      "success=True, reward=-45\n",
      "success=True, reward=-45\n",
      "success=True, reward=-45\n",
      "success=True, reward=-45\n",
      "success=True, reward=-45\n"
     ]
    }
   ],
   "source": [
    "# preview\n",
    "epsilon = 0\n",
    "for episode in range(25):\n",
    "    success, reward = test(render=True)\n",
    "    print(f\"success={success}, reward={reward}\")"
   ]
  }
 ],
 "metadata": {
  "kernelspec": {
   "display_name": "tianshou",
   "language": "python",
   "name": "python3"
  },
  "language_info": {
   "codemirror_mode": {
    "name": "ipython",
    "version": 3
   },
   "file_extension": ".py",
   "mimetype": "text/x-python",
   "name": "python",
   "nbconvert_exporter": "python",
   "pygments_lexer": "ipython3",
   "version": "3.9.15"
  },
  "orig_nbformat": 4,
  "vscode": {
   "interpreter": {
    "hash": "71d9f79eb180b017341f284521d8f1f73000b55d56576dd42cfa51175f09c3a6"
   }
  }
 },
 "nbformat": 4,
 "nbformat_minor": 2
}
