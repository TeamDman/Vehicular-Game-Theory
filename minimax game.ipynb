{
 "cells": [
  {
   "attachments": {},
   "cell_type": "markdown",
   "metadata": {},
   "source": [
    "# Minimax Game\n",
    "\n",
    "There is a vehicle with many vulnerabilities in it.  \n",
    "Each vulnerability has:\n",
    "- a cost to attack\n",
    "- a cost to defend\n",
    "- a probability of successfully attacking\n",
    "- a probability of successfully defending\n",
    "- a severity if an attack is successful\n",
    "\n",
    "Two players\n",
    "- defender\n",
    "- attacker\n",
    "\n",
    "It's a simultaneous-play one-shot game; each player picks an action at the same then the game is over.\n",
    "\n",
    "The actions in this game are simply selection of vulnerabilities to attack or defend.\n",
    "The players have a budget which constrains the actions they can take."
   ]
  },
  {
   "cell_type": "code",
   "execution_count": 4,
   "metadata": {},
   "outputs": [],
   "source": [
    "# lets try and stay type-safe :P\n",
    "from typing import *\n",
    "import random\n",
    "from dataclasses import dataclass, field"
   ]
  },
  {
   "cell_type": "code",
   "execution_count": 25,
   "metadata": {},
   "outputs": [],
   "source": [
    "@dataclass(frozen=True)\n",
    "class Vulnerability: # this could probably be a dataclass\n",
    "    id: int\n",
    "    attackerCost: int = field(default_factory=lambda: random.randint(1,5))\n",
    "    defenderCost: int = field(default_factory=lambda: random.randint(1,5))\n",
    "    attackerProb: float = field(default_factory=lambda: round(random.uniform(0.05,0.98),2))\n",
    "    defenderProb: float = field(default_factory=lambda: round(random.uniform(0.05,0.98),2))\n",
    "    severity: int = field(default_factory=lambda: random.randint(1,5))\n",
    "    "
   ]
  },
  {
   "cell_type": "code",
   "execution_count": 26,
   "metadata": {},
   "outputs": [
    {
     "data": {
      "text/plain": [
       "Vulnerability(id=123, attackerCost=4, defenderCost=5, attackerProb=0.82, defenderProb=0.25, severity=5)"
      ]
     },
     "execution_count": 26,
     "metadata": {},
     "output_type": "execute_result"
    }
   ],
   "source": [
    "Vulnerability(123)"
   ]
  },
  {
   "cell_type": "code",
   "execution_count": 31,
   "metadata": {},
   "outputs": [],
   "source": [
    "@dataclass(frozen=True)\n",
    "class Vehicle:\n",
    "    vulns: List[Vulnerability] = field(default_factory=list)\n",
    "    \n",
    "    @staticmethod\n",
    "    def get_random_vehicle(num_vulns: int) -> Vehicle:\n",
    "        return Vehicle(vulns=[Vulnerability(x) for x in range(num_vulns)])"
   ]
  },
  {
   "cell_type": "code",
   "execution_count": 32,
   "metadata": {},
   "outputs": [
    {
     "data": {
      "text/plain": [
       "Vehicle(vulns=[Vulnerability(id=0, attackerCost=3, defenderCost=2, attackerProb=0.87, defenderProb=0.74, severity=5), Vulnerability(id=1, attackerCost=2, defenderCost=1, attackerProb=0.43, defenderProb=0.25, severity=5), Vulnerability(id=2, attackerCost=1, defenderCost=2, attackerProb=0.46, defenderProb=0.65, severity=5), Vulnerability(id=3, attackerCost=1, defenderCost=4, attackerProb=0.31, defenderProb=0.09, severity=5)])"
      ]
     },
     "execution_count": 32,
     "metadata": {},
     "output_type": "execute_result"
    }
   ],
   "source": [
    "Vehicle.get_random_vehicle(4)"
   ]
  },
  {
   "attachments": {},
   "cell_type": "markdown",
   "metadata": {},
   "source": [
    "helper function for powerset; gets all subsets of a list"
   ]
  },
  {
   "cell_type": "code",
   "execution_count": 33,
   "metadata": {},
   "outputs": [],
   "source": [
    "T = TypeVar(\"T\")\n",
    "def powerset(s: List[T]) -> List[List[T]]:\n",
    "    import itertools\n",
    "    return itertools.chain.from_iterable(itertools.combinations(s, r) for r in range(1, len(s)+1))"
   ]
  },
  {
   "cell_type": "code",
   "execution_count": 36,
   "metadata": {},
   "outputs": [
    {
     "data": {
      "text/plain": [
       "[(0,),\n",
       " (1,),\n",
       " (2,),\n",
       " (3,),\n",
       " (0, 1),\n",
       " (0, 2),\n",
       " (0, 3),\n",
       " (1, 2),\n",
       " (1, 3),\n",
       " (2, 3),\n",
       " (0, 1, 2),\n",
       " (0, 1, 3),\n",
       " (0, 2, 3),\n",
       " (1, 2, 3),\n",
       " (0, 1, 2, 3)]"
      ]
     },
     "execution_count": 36,
     "metadata": {},
     "output_type": "execute_result"
    }
   ],
   "source": [
    "list(powerset(range(4)))"
   ]
  },
  {
   "attachments": {},
   "cell_type": "markdown",
   "metadata": {},
   "source": [
    "Utility is calculated according to \n",
    "\n",
    "$$\n",
    "\n",
    "                    \\begin{equation}\n",
    "                        U^a(a^a, a^d) := \n",
    "                        \\sum_{v_k \\in a^a}\n",
    "                        \\begin{cases}\n",
    "                        (1-p^d_k)*p^a_k*s_k^2 & v_k \\in a^d \\\\\n",
    "                        p^a_k*s_k^2 & v_k \\notin a^d \\\\\n",
    "                        \\end{cases}\n",
    "                    \\end{equation}\n",
    "$$"
   ]
  },
  {
   "cell_type": "code",
   "execution_count": 37,
   "metadata": {},
   "outputs": [],
   "source": [
    "def get_attacker_utility(\n",
    "    defending: List[Vulnerability],\n",
    "    attacking: List[Vulnerability]\n",
    ") -> float:\n",
    "    defendingLookup = set([x.id for x in defending])\n",
    "    rtn = 0\n",
    "    for v in attacking:\n",
    "        if v.id in defendingLookup:\n",
    "            rtn += (v.severity ** 2) * v.attackerProb * (1-v.defenderProb)\n",
    "        else:\n",
    "            rtn += (v.severity ** 2) * v.attackerProb\n",
    "    return rtn"
   ]
  },
  {
   "attachments": {},
   "cell_type": "markdown",
   "metadata": {},
   "source": [
    "Solution container class, calculates the probability of a compromise occurring for each severity 1-5"
   ]
  },
  {
   "cell_type": "code",
   "execution_count": 38,
   "metadata": {},
   "outputs": [],
   "source": [
    "class SubgameSolution:\n",
    "    defender_util: int\n",
    "    severity_chances: List[float]\n",
    "    dchoice: List[Vehicle]\n",
    "    achoice: List[Vehicle]\n",
    "    def __init__(self, dchoice: List[Vulnerability], achoice: List[Vulnerability]) -> None:\n",
    "        self.dchoice = dchoice\n",
    "        self.achoice = achoice\n",
    "        self.defender_util = round(-get_attacker_utility(dchoice, achoice),2)\n",
    "        # Start off as the chance that it is not compromised\n",
    "        self.severity_chances = {\n",
    "            1:1,\n",
    "            2:1,\n",
    "            3:1,\n",
    "            4:1,\n",
    "            5:1\n",
    "        }\n",
    "        defendingLookup = set([x.id for x in dchoice])\n",
    "        for vuln in achoice:\n",
    "            # Decrease the chance it is not compromised by the chance the attacks fail\n",
    "            if vuln.id in defendingLookup:\n",
    "                self.severity_chances[vuln.severity] *= 1-(vuln.attackerProb * (1-vuln.defenderProb))\n",
    "            else:\n",
    "                self.severity_chances[vuln.severity] *= 1-(vuln.attackerProb)\n",
    "\n",
    "        # Convert to the chance that a compromise with the given severity is _successful_\n",
    "        for k in self.severity_chances.keys():\n",
    "            self.severity_chances[k] = round(1 - self.severity_chances[k],2)"
   ]
  },
  {
   "attachments": {},
   "cell_type": "markdown",
   "metadata": {},
   "source": [
    "Solver function, takes a game and returns the optimal solution.\n",
    "\n",
    "Expected attacker utility: \n",
    "$$\n",
    "\n",
    "                    \\begin{equation}\n",
    "                        U^a_{expected} := \\max_{a^a \\in \\mathcal{A}^a} \\min_{a^d \\in \\mathcal{A}^d} U^a(a^a, a^d)\n",
    "                    \\end{equation}\n",
    "$$"
   ]
  },
  {
   "cell_type": "code",
   "execution_count": 110,
   "metadata": {},
   "outputs": [],
   "source": [
    "def get_optimal_actions(\n",
    "    vehicle: Vehicle,\n",
    "    attacker_budget: int,\n",
    "    defender_budget: int,\n",
    ") -> SubgameSolution:\n",
    "    action_space = list(powerset(vehicle.vulns))\n",
    "\n",
    "    # track best possible defender action seen so far\n",
    "    best_defender_util = -1e100\n",
    "    best_defender_subset = None\n",
    "    best_attacker_subset = None\n",
    "\n",
    "    # For each possible defender action\n",
    "    for dchoice in action_space:\n",
    "        # If the defender's budget is exceeded, action isn't legal\n",
    "        if sum([x.defenderCost for x in dchoice]) > defender_budget: continue\n",
    "\n",
    "        # track best possible attacker response seen so far\n",
    "        temp_best_attacker_util = 0\n",
    "        temp_best_attacker_subset = None\n",
    "        # For each possible attacker action\n",
    "        for achoice in action_space:\n",
    "            # If the attacker's budget is exceeded, action isn't legal\n",
    "            if sum([x.attackerCost for x in achoice]) > attacker_budget: continue\n",
    "\n",
    "            # get the utility for the chosen actions\n",
    "            attacker_util = get_attacker_utility(dchoice, achoice)\n",
    "            # if it's better for the attacker, update the best attacker response\n",
    "            if attacker_util > temp_best_attacker_util:\n",
    "                temp_best_attacker_util = attacker_util\n",
    "                temp_best_attacker_subset = achoice\n",
    "\n",
    "        # Defender utility is negative of attacker util; zero-sum game\n",
    "        defender_util = -1 * temp_best_attacker_util\n",
    "        # if it's better for the defender, update the best defender action\n",
    "        if defender_util > best_defender_util:\n",
    "            best_defender_util = defender_util\n",
    "            best_defender_subset = dchoice\n",
    "            best_attacker_subset = temp_best_attacker_subset\n",
    "    return SubgameSolution(best_defender_subset, best_attacker_subset)"
   ]
  },
  {
   "cell_type": "code",
   "execution_count": 111,
   "metadata": {},
   "outputs": [],
   "source": [
    "vehicle = Vehicle.get_random_vehicle(8)"
   ]
  },
  {
   "cell_type": "code",
   "execution_count": 112,
   "metadata": {},
   "outputs": [
    {
     "data": {
      "text/plain": [
       "[Vulnerability(id=0, attackerCost=5, defenderCost=3, attackerProb=0.2, defenderProb=0.19, severity=3),\n",
       " Vulnerability(id=1, attackerCost=4, defenderCost=5, attackerProb=0.32, defenderProb=0.08, severity=5),\n",
       " Vulnerability(id=2, attackerCost=2, defenderCost=1, attackerProb=0.82, defenderProb=0.64, severity=3),\n",
       " Vulnerability(id=3, attackerCost=2, defenderCost=3, attackerProb=0.55, defenderProb=0.16, severity=1),\n",
       " Vulnerability(id=4, attackerCost=1, defenderCost=4, attackerProb=0.96, defenderProb=0.39, severity=4),\n",
       " Vulnerability(id=5, attackerCost=1, defenderCost=4, attackerProb=0.47, defenderProb=0.74, severity=4),\n",
       " Vulnerability(id=6, attackerCost=3, defenderCost=4, attackerProb=0.33, defenderProb=0.81, severity=2),\n",
       " Vulnerability(id=7, attackerCost=1, defenderCost=5, attackerProb=0.38, defenderProb=0.34, severity=2)]"
      ]
     },
     "execution_count": 112,
     "metadata": {},
     "output_type": "execute_result"
    }
   ],
   "source": [
    "vehicle.vulns"
   ]
  },
  {
   "cell_type": "code",
   "execution_count": 114,
   "metadata": {},
   "outputs": [
    {
     "data": {
      "text/plain": [
       "21.4068"
      ]
     },
     "execution_count": 114,
     "metadata": {},
     "output_type": "execute_result"
    }
   ],
   "source": [
    "action_space = list(powerset(vehicle.vulns))\n",
    "# preview utility for some arbitrary actions\n",
    "get_attacker_utility(action_space[15], action_space[222])"
   ]
  },
  {
   "cell_type": "code",
   "execution_count": 118,
   "metadata": {},
   "outputs": [
    {
     "name": "stdout",
     "output_type": "stream",
     "text": [
      "defender utility: -23.5\n",
      "compromise probability for each severity: {1: 0, 2: 0.38, 3: 0.3, 4: 0.64, 5: 0.32}\n",
      "\n",
      "Vulnerabilities and actions taken:\n",
      "Vulnerability(id=0, attackerCost=5, defenderCost=3, attackerProb=0.2, defenderProb=0.19, severity=3)\t\t\n",
      "Vulnerability(id=1, attackerCost=4, defenderCost=5, attackerProb=0.32, defenderProb=0.08, severity=5)\t\tA\n",
      "Vulnerability(id=2, attackerCost=2, defenderCost=1, attackerProb=0.82, defenderProb=0.64, severity=3)\tD\tA\n",
      "Vulnerability(id=3, attackerCost=2, defenderCost=3, attackerProb=0.55, defenderProb=0.16, severity=1)\t\t\n",
      "Vulnerability(id=4, attackerCost=1, defenderCost=4, attackerProb=0.96, defenderProb=0.39, severity=4)\tD\tA\n",
      "Vulnerability(id=5, attackerCost=1, defenderCost=4, attackerProb=0.47, defenderProb=0.74, severity=4)\tD\tA\n",
      "Vulnerability(id=6, attackerCost=3, defenderCost=4, attackerProb=0.33, defenderProb=0.81, severity=2)\t\t\n",
      "Vulnerability(id=7, attackerCost=1, defenderCost=5, attackerProb=0.38, defenderProb=0.34, severity=2)\t\tA\n"
     ]
    }
   ],
   "source": [
    "solution = get_optimal_actions(vehicle, attacker_budget=10, defender_budget=10)\n",
    "print(\"defender utility:\", solution.defender_util)\n",
    "print(\"compromise probability for each severity:\", solution.severity_chances)\n",
    "print(\"\\nVulnerabilities and actions taken:\")\n",
    "for v in vehicle.vulns:\n",
    "    print(v, end=\"\\t\")\n",
    "    if v in solution.dchoice:\n",
    "        print(\"D\", end=\"\\t\")\n",
    "    else:\n",
    "        print(\"\\t\", end=\"\")\n",
    "    if v in solution.achoice:\n",
    "        print(\"A\", end=\"\")\n",
    "    print()"
   ]
  },
  {
   "attachments": {
    "image.png": {
     "image/png": "[encoded data removed]"
    }
   },
   "cell_type": "markdown",
   "metadata": {},
   "source": [
    "Format as a LaTeX table, should look something like this when rendered (tho the numbers will be different):\n",
    "\n",
    "![image.png](attachment:image.png)"
   ]
  },
  {
   "cell_type": "code",
   "execution_count": 86,
   "metadata": {},
   "outputs": [
    {
     "name": "stdout",
     "output_type": "stream",
     "text": [
      "\n",
      "\\begin{table}\n",
      "    \\centering\n",
      "    \\begin{tabular}{|p{8mm}|p{8mm}|p{8mm}|p{8mm}|p{8mm}|p{8mm}|p{4mm}|p{4mm}|}\n",
      "        \\hline\n",
      "        $i$ & $p^a_i$ & $p^d_i$ & $c^a_i$ & $c^d_i$ & $s_i$ & $*^a$ & $*^d$ \\\\\n",
      "        \\hline\n",
      "        1 & 0.96 & 0.58 & 4 & 5 & 5 & \\cellcolor{red!50} & \\cellcolor{blue!50}\\\\\n",
      "\t\\hline\n",
      "\t2 & 0.71 & 0.84 & 2 & 1 & 5 & & \\cellcolor{blue!50}\\\\\n",
      "\t\\hline\n",
      "\t3 & 0.78 & 0.82 & 4 & 3 & 1 & & \\\\\n",
      "\t\\hline\n",
      "\t4 & 0.81 & 0.46 & 4 & 1 & 4 & & \\cellcolor{blue!50}\\\\\n",
      "\t\\hline\n",
      "\t5 & 0.2 & 0.24 & 5 & 2 & 2 & & \\\\\n",
      "\t\\hline\n",
      "\t6 & 0.82 & 0.81 & 1 & 3 & 1 & & \\\\\n",
      "\t\\hline\n",
      "\t7 & 0.82 & 0.53 & 5 & 3 & 5 & \\cellcolor{red!50} & \\cellcolor{blue!50}\\\\\n",
      "\t\\hline\n",
      "\t8 & 0.42 & 0.81 & 1 & 3 & 4 & \\cellcolor{red!50} & \\\\\n",
      "\t\\hline\n",
      "    \\end{tabular}\n",
      "    \\caption{Example set of vulnerabilities in the minimax game with parameters $\\zeta^a=\\zeta^d=10$, $n$=8. The coloured cells represent inclusion in the optimal strategy, with red representing the attacker's optimal strategy and blue representing the defender's optimal strategy.}\n",
      "    \\label{tab:vulnexample}\n",
      "\\end{table}\n",
      "\n"
     ]
    }
   ],
   "source": [
    "# format for LaTeX table\n",
    "# this will render properly with used in a full LaTeX document, the but lightweight stuff used with Jupyter doesn't like it :(\n",
    "template = r\"\"\"\n",
    "\\begin{table}\n",
    "    \\centering\n",
    "    \\begin{tabular}{|p{8mm}|p{8mm}|p{8mm}|p{8mm}|p{8mm}|p{8mm}|p{4mm}|p{4mm}|}\n",
    "        \\hline\n",
    "        $i$ & $p^a_i$ & $p^d_i$ & $c^a_i$ & $c^d_i$ & $s_i$ & $*^a$ & $*^d$ \\\\\n",
    "        \\hline\n",
    "        %BODY%\n",
    "    \\end{tabular}\n",
    "    \\caption{Example set of vulnerabilities in the minimax game with parameters $\\zeta^a=\\zeta^d=10$, $n$=8. The coloured cells represent inclusion in the optimal strategy, with red representing the attacker's optimal strategy and blue representing the defender's optimal strategy.}\n",
    "    \\label{tab:vulnexample}\n",
    "\\end{table}\n",
    "\"\"\"\n",
    "body = \"\"\n",
    "for v in vehicle.vulns:\n",
    "    body += f\"{v.id+1} & {v.attackerProb} & {v.defenderProb} & {v.attackerCost} & {v.defenderCost} & {v.severity} & \"\n",
    "    if v in solution.achoice:\n",
    "        body += r\"\\cellcolor{red!50} & \"\n",
    "    else:\n",
    "        body += \"& \"\n",
    "    if v in solution.dchoice:\n",
    "        body += r\"\\cellcolor{blue!50}\"\n",
    "    body += \"\\\\\\\\\\n\\t\\\\hline\\n\\t\"\n",
    "table = template.replace(\"%BODY%\", body.rstrip())\n",
    "print(table)"
   ]
  },
  {
   "attachments": {},
   "cell_type": "markdown",
   "metadata": {},
   "source": [
    "# Lets explore the solution space"
   ]
  },
  {
   "cell_type": "code",
   "execution_count": 87,
   "metadata": {},
   "outputs": [],
   "source": [
    "solutions: List[SubgameSolution] = []"
   ]
  },
  {
   "attachments": {},
   "cell_type": "markdown",
   "metadata": {},
   "source": [
    "sample 1000 random games and find the solutions"
   ]
  },
  {
   "cell_type": "code",
   "execution_count": 88,
   "metadata": {},
   "outputs": [
    {
     "data": {
      "application/vnd.jupyter.widget-view+json": {
       "model_id": "8839b8e2c4df404fbaee869bee40a567",
       "version_major": 2,
       "version_minor": 0
      },
      "text/plain": [
       "  0%|          | 0/1000 [00:00<?, ?it/s]"
      ]
     },
     "metadata": {},
     "output_type": "display_data"
    }
   ],
   "source": [
    "from tqdm.notebook import tqdm\n",
    "from IPython.display import clear_output\n",
    "\n",
    "for i in tqdm(range(1000 - len(solutions))): # idempotent\n",
    "    s = get_optimal_actions(Vehicle.get_random_vehicle(8), 10, 10)\n",
    "    solutions.append(s)"
   ]
  },
  {
   "cell_type": "code",
   "execution_count": 96,
   "metadata": {},
   "outputs": [
    {
     "name": "stdout",
     "output_type": "stream",
     "text": [
      "The best and worst games for the defender\n",
      "defender util=-2.51 {1: 0.92, 2: 0.25, 3: 0, 4: 0, 5: 0}\n",
      "defender util=-61.21 {1: 0, 2: 0, 3: 0, 4: 0.43, 5: 0.98}\n"
     ]
    }
   ],
   "source": [
    "solutions = sorted(solutions, key=lambda x: x.defender_util, reverse=True)\n",
    "print(\"The best and worst games for the defender\")\n",
    "for s in [solutions[0], solutions[-1]]:\n",
    "    print(f\"defender util={s.defender_util}\", s.severity_chances)"
   ]
  },
  {
   "cell_type": "code",
   "execution_count": 106,
   "metadata": {},
   "outputs": [
    {
     "data": {
      "image/png": "[encoded data removed]",
      "text/plain": [
       "<Figure size 700x500 with 1 Axes>"
      ]
     },
     "metadata": {},
     "output_type": "display_data"
    }
   ],
   "source": [
    "import numpy as np\n",
    "import matplotlib.pyplot as plt\n",
    "%matplotlib inline\n",
    "plt.rcParams.update({\"figure.figsize\":(7,5), \"figure.dpi\":100})\n",
    "\n",
    "bins = np.linspace(0,1,10)\n",
    "\n",
    "plt.hist([[s.severity_chances[i] for s in solutions] for i in range(1,6)], bins, alpha=0.2, label=[f\"Severity {i}\" for i in range(1,6)])\n",
    "# plt.hist(human, bins, alpha=0.5, label=\"human\")\n",
    "# plt.hist(ai, bins, alpha=0.5, label=\"ai\")\n",
    "plt.xticks(np.arange(0,1,0.1))\n",
    "plt.legend(loc=\"upper right\")\n",
    "plt.title(f\"Sampled probabilities of successful attack\")\n",
    "plt.xlabel(\"Probability\")\n",
    "plt.ylabel(\"Count\")\n",
    "plt.show()\n",
    "# plt.gca().set(title=\"Freq histogram\", ylabel=\"Freq\")"
   ]
  },
  {
   "cell_type": "code",
   "execution_count": 101,
   "metadata": {},
   "outputs": [
    {
     "data": {
      "image/png": "[encoded data removed]",
      "text/plain": [
       "<Figure size 700x500 with 1 Axes>"
      ]
     },
     "metadata": {},
     "output_type": "display_data"
    }
   ],
   "source": [
    "plt.hist([s.defender_util for s in solutions], bins=50)\n",
    "plt.title(\"Sampled optimal defender utilities\")\n",
    "plt.show()"
   ]
  },
  {
   "attachments": {},
   "cell_type": "markdown",
   "metadata": {},
   "source": [
    "Write to JSON for use in other stuff"
   ]
  },
  {
   "cell_type": "code",
   "execution_count": 109,
   "metadata": {},
   "outputs": [],
   "source": [
    "import json\n",
    "with open(\"minimax-game-solutions.json\",\"w\") as f:\n",
    "    json.dump(solutions, f, default=vars, indent=4)"
   ]
  }
 ],
 "metadata": {
  "kernelspec": {
   "display_name": "Python 3.9.12 ('subgame')",
   "language": "python",
   "name": "python3"
  },
  "language_info": {
   "codemirror_mode": {
    "name": "ipython",
    "version": 3
   },
   "file_extension": ".py",
   "mimetype": "text/x-python",
   "name": "python",
   "nbconvert_exporter": "python",
   "pygments_lexer": "ipython3",
   "version": "3.8.15"
  },
  "orig_nbformat": 4,
  "vscode": {
   "interpreter": {
    "hash": "09b31e4957d63d79e1e76c5537c345194b9f565583fac53cbbb105281d72baf4"
   }
  }
 },
 "nbformat": 4,
 "nbformat_minor": 2
}
