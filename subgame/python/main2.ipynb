{
 "cells": [
  {
   "cell_type": "code",
   "execution_count": 2,
   "metadata": {},
   "outputs": [],
   "source": [
    "import numpy as np\n",
    "\n",
    "np.set_printoptions(\n",
    "    suppress=True,\n",
    "    linewidth=180\n",
    ")"
   ]
  },
  {
   "cell_type": "code",
   "execution_count": 3,
   "metadata": {},
   "outputs": [],
   "source": [
    "from typing import List, Optional\n",
    "import random\n",
    "\n",
    "class Vulnerability:\n",
    "    id: int\n",
    "    attackerCost: int\n",
    "    defenderCost: int\n",
    "    attackerProb: float\n",
    "    defenderProb: float\n",
    "    severity: int\n",
    "    def __init__(\n",
    "        self,\n",
    "        id: int,\n",
    "        acost: Optional[int] = None,\n",
    "        dcost: Optional[int] = None,\n",
    "        aprob: Optional[float] = None,\n",
    "        dprob: Optional[float] = None,\n",
    "        sev: Optional[int] = None\n",
    "    ) -> None:\n",
    "        self.id = id\n",
    "        if acost is None: acost = random.randint(1,5)\n",
    "        if dcost is None: dcost = random.randint(1,5)\n",
    "        if aprob is None: aprob = round(random.uniform(0.05,0.98),2)\n",
    "        if dprob is None: dprob = round(random.uniform(0.05,0.98),2)\n",
    "        if sev is None: sev = random.randint(1,5)\n",
    "        self.attackerCost = acost\n",
    "        self.defenderCost = dcost\n",
    "        self.attackerProb = aprob\n",
    "        self.defenderProb = dprob\n",
    "        self.severity = sev\n",
    "    def __str__(self) -> str:\n",
    "        return f\"Action(id={self.id}, acost={self.attackerCost}, dcost={self.defenderCost}, aprob={self.attackerProb}, dprob={self.defenderProb}, sev={self.severity})\"\n",
    "    def __repr__(self) -> str:\n",
    "        return self.__str__()\n",
    "\n",
    "class Vehicle:\n",
    "    vulns: List[Vulnerability]\n",
    "    def __init__(self, num_vulns: int) -> None:\n",
    "        self.vulns = [Vulnerability(x) for x in range(num_vulns)]\n",
    "    def __str__(self) -> str:\n",
    "        return f\"Vehicle(num_vulns={len(self.vulns)})\"\n",
    "    def __repr__(self) -> str:\n",
    "        return self.__str__()\n"
   ]
  },
  {
   "cell_type": "code",
   "execution_count": 4,
   "metadata": {},
   "outputs": [],
   "source": [
    "from typing import TypeVar\n",
    "\n",
    "\n",
    "T = TypeVar(\"T\")\n",
    "def powerset(s: List[T]) -> List[List[T]]:\n",
    "    import itertools\n",
    "    return itertools.chain.from_iterable(itertools.combinations(s, r) for r in range(1, len(s)+1))"
   ]
  },
  {
   "cell_type": "code",
   "execution_count": 38,
   "metadata": {},
   "outputs": [],
   "source": [
    "def get_attacker_utility(\n",
    "    defending: List[Vulnerability],\n",
    "    attacking: List[Vulnerability]\n",
    ") -> float:\n",
    "    defendingLookup = set([x.id for x in defending])\n",
    "    rtn = 0\n",
    "    for v in attacking:\n",
    "        if v.id in defendingLookup:\n",
    "            rtn += (v.severity ** 2) * v.attackerProb * (1-v.defenderProb)\n",
    "        else:\n",
    "            rtn += (v.severity ** 2) * v.attackerProb\n",
    "    return rtn\n"
   ]
  },
  {
   "cell_type": "code",
   "execution_count": 6,
   "metadata": {},
   "outputs": [],
   "source": [
    "class SubgameSolution:\n",
    "    defender_util: int\n",
    "    severity_chances: List[float]\n",
    "    dchoice: List[Vehicle]\n",
    "    achoice: List[Vehicle]\n",
    "    def __init__(self, dchoice: List[Vulnerability], achoice: List[Vulnerability]) -> None:\n",
    "        self.dchoice = dchoice\n",
    "        self.achoice = achoice\n",
    "        self.defender_util = round(-get_attacker_utility(dchoice, achoice),2)\n",
    "        # Start off as the chance that it is not compromised\n",
    "        self.severity_chances = {\n",
    "            1:1,\n",
    "            2:1,\n",
    "            3:1,\n",
    "            4:1,\n",
    "            5:1\n",
    "        }\n",
    "        defendingLookup = set([x.id for x in dchoice])\n",
    "        for vuln in achoice:\n",
    "            # Decrease the chance it is not compromised by the chance the attacks fail\n",
    "            if vuln.id in defendingLookup:\n",
    "                self.severity_chances[vuln.severity] *= 1-(vuln.attackerProb * (1-vuln.defenderProb))\n",
    "            else:\n",
    "                self.severity_chances[vuln.severity] *= 1-(vuln.attackerProb)\n",
    "\n",
    "        # Convert to the chance that a compromise with the given severity is _successful_\n",
    "        for k in self.severity_chances.keys():\n",
    "            self.severity_chances[k] = round(1 - self.severity_chances[k],2)\n",
    "    # def to_json(self):\n",
    "    #     import json\n",
    "    #     return json.dumps(self, default=lambda o: o.__dict__, sort_keys=True, indent=4)"
   ]
  },
  {
   "cell_type": "code",
   "execution_count": 7,
   "metadata": {},
   "outputs": [],
   "source": [
    "from typing import Tuple\n",
    "\n",
    "def get_optimal_actions(\n",
    "    vehicle: Vehicle,\n",
    "    attacker_cost_available: int,\n",
    "    defender_cost_available: int,\n",
    ") -> SubgameSolution:\n",
    "    subsets = list(powerset(vehicle.vulns))\n",
    "\n",
    "    best_defender_util = -1e100\n",
    "    best_defender_subset = None\n",
    "    best_attacker_subset = None\n",
    "    for dchoice in subsets:\n",
    "        if sum([x.defenderCost for x in dchoice]) > defender_cost_available: continue\n",
    "        temp_best_attacker_util = 0\n",
    "        temp_best_attacker_subset = None\n",
    "        for achoice in subsets:\n",
    "            if sum([x.attackerCost for x in achoice]) > attacker_cost_available: continue\n",
    "            attacker_util = get_attacker_utility(dchoice, achoice)\n",
    "            if attacker_util > temp_best_attacker_util:\n",
    "                temp_best_attacker_util = attacker_util\n",
    "                temp_best_attacker_subset = achoice\n",
    "        if temp_best_attacker_util * -1 > best_defender_util:\n",
    "            # Defender util is negative attacker util\n",
    "            # Defender wants to minimize best attacker utility\n",
    "            best_defender_util = -1 * temp_best_attacker_util\n",
    "            best_defender_subset = dchoice\n",
    "            best_attacker_subset = temp_best_attacker_subset\n",
    "    return SubgameSolution(best_defender_subset, best_attacker_subset)"
   ]
  },
  {
   "cell_type": "code",
   "execution_count": 8,
   "metadata": {},
   "outputs": [
    {
     "name": "stdout",
     "output_type": "stream",
     "text": [
      "255\n",
      "65025\n"
     ]
    }
   ],
   "source": [
    "i = 0\n",
    "for _ in powerset(range(8)):\n",
    "    i += 1\n",
    "print(i)\n",
    "print(i*i)"
   ]
  },
  {
   "cell_type": "code",
   "execution_count": 9,
   "metadata": {},
   "outputs": [],
   "source": [
    "x = Vehicle(8)"
   ]
  },
  {
   "cell_type": "code",
   "execution_count": 10,
   "metadata": {},
   "outputs": [
    {
     "data": {
      "text/plain": [
       "[Action(id=0, acost=3, dcost=2, aprob=0.71, dprob=0.46, sev=4),\n",
       " Action(id=1, acost=5, dcost=3, aprob=0.43, dprob=0.34, sev=3),\n",
       " Action(id=2, acost=4, dcost=2, aprob=0.58, dprob=0.8, sev=5),\n",
       " Action(id=3, acost=4, dcost=3, aprob=0.75, dprob=0.65, sev=2),\n",
       " Action(id=4, acost=1, dcost=5, aprob=0.85, dprob=0.88, sev=4),\n",
       " Action(id=5, acost=3, dcost=5, aprob=0.15, dprob=0.1, sev=5),\n",
       " Action(id=6, acost=5, dcost=4, aprob=0.58, dprob=0.15, sev=3),\n",
       " Action(id=7, acost=1, dcost=3, aprob=0.26, dprob=0.82, sev=5)]"
      ]
     },
     "execution_count": 10,
     "metadata": {},
     "output_type": "execute_result"
    }
   ],
   "source": [
    "x.vulns"
   ]
  },
  {
   "cell_type": "code",
   "execution_count": 39,
   "metadata": {},
   "outputs": [
    {
     "data": {
      "text/plain": [
       "30.0642"
      ]
     },
     "execution_count": 39,
     "metadata": {},
     "output_type": "execute_result"
    }
   ],
   "source": [
    "z = list(powerset(x.vulns))\n",
    "get_attacker_utility(z[15], z[222])"
   ]
  },
  {
   "cell_type": "code",
   "execution_count": 40,
   "metadata": {},
   "outputs": [
    {
     "name": "stdout",
     "output_type": "stream",
     "text": [
      "-19.38\n",
      "{1: 0, 2: 0, 3: 0.58, 4: 0.74, 5: 0.05}\n",
      "Action(id=0, acost=3, dcost=2, aprob=0.71, dprob=0.46, sev=4)\t\tA\n",
      "Action(id=1, acost=5, dcost=3, aprob=0.43, dprob=0.34, sev=3)\t\t\n",
      "Action(id=2, acost=4, dcost=2, aprob=0.58, dprob=0.8, sev=5)\tD\t\n",
      "Action(id=3, acost=4, dcost=3, aprob=0.75, dprob=0.65, sev=2)\t\t\n",
      "Action(id=4, acost=1, dcost=5, aprob=0.85, dprob=0.88, sev=4)\tD\tA\n",
      "Action(id=5, acost=3, dcost=5, aprob=0.15, dprob=0.1, sev=5)\t\t\n",
      "Action(id=6, acost=5, dcost=4, aprob=0.58, dprob=0.15, sev=3)\t\tA\n",
      "Action(id=7, acost=1, dcost=3, aprob=0.26, dprob=0.82, sev=5)\tD\tA\n"
     ]
    }
   ],
   "source": [
    "soln = get_optimal_actions(x, 10, 10)\n",
    "print(soln.defender_util)\n",
    "print(soln.severity_chances)\n",
    "for v in x.vulns:\n",
    "    print(v, end=\"\\t\")\n",
    "    if v in soln.dchoice:\n",
    "        print(\"D\", end=\"\\t\")\n",
    "    else:\n",
    "        print(\"\\t\", end=\"\")\n",
    "    if v in soln.achoice:\n",
    "        print(\"A\", end=\"\")\n",
    "    print()"
   ]
  },
  {
   "cell_type": "code",
   "execution_count": 43,
   "metadata": {},
   "outputs": [
    {
     "data": {
      "text/plain": [
       "19.382"
      ]
     },
     "execution_count": 43,
     "metadata": {},
     "output_type": "execute_result"
    }
   ],
   "source": [
    ".71*4**2 + .85*(1-.88)*4**2 + .58*3**2 + .26*(1-.82)*5**2"
   ]
  },
  {
   "cell_type": "code",
   "execution_count": 35,
   "metadata": {},
   "outputs": [
    {
     "name": "stdout",
     "output_type": "stream",
     "text": [
      "-19.38\n",
      "{1: 0, 2: 0, 3: 0.58, 4: 0.74, 5: 0.05}\n",
      "1 & 0.71 & 0.46 & 3 & 2 & 4 & \\cellcolor{red!50} &  \\\\\n",
      "\\hline\n",
      "2 & 0.43 & 0.34 & 5 & 3 & 3 & &  \\\\\n",
      "\\hline\n",
      "3 & 0.58 & 0.8 & 4 & 2 & 5 & &  \\cellcolor{blue!50}\\\\\n",
      "\\hline\n",
      "4 & 0.75 & 0.65 & 4 & 3 & 2 & &  \\\\\n",
      "\\hline\n",
      "5 & 0.85 & 0.88 & 1 & 5 & 4 & \\cellcolor{red!50} &  \\cellcolor{blue!50}\\\\\n",
      "\\hline\n",
      "6 & 0.15 & 0.1 & 3 & 5 & 5 & &  \\\\\n",
      "\\hline\n",
      "7 & 0.58 & 0.15 & 5 & 4 & 3 & \\cellcolor{red!50} &  \\\\\n",
      "\\hline\n",
      "8 & 0.26 & 0.82 & 1 & 3 & 5 & \\cellcolor{red!50} &  \\cellcolor{blue!50}\\\\\n",
      "\\hline\n"
     ]
    }
   ],
   "source": [
    "soln = get_optimal_actions(x, 10, 10)\n",
    "print(soln.defender_util)\n",
    "print(soln.severity_chances)\n",
    "for v in x.vulns:\n",
    "    print(f\"{v.id+1} & {v.attackerProb} & {v.defenderProb} & {v.attackerCost} & {v.defenderCost} & {v.severity} &\", end=\" \")\n",
    "    if v in soln.achoice:\n",
    "        print(r\"\\cellcolor{red!50} & \", end=\" \")\n",
    "    else:\n",
    "        print(\"& \", end=\" \")\n",
    "    if v in soln.dchoice:\n",
    "        print(r\"\\cellcolor{blue!50}\", end=\"\")\n",
    "    print(\"\\\\\\\\\\n\\\\hline\")"
   ]
  },
  {
   "cell_type": "code",
   "execution_count": 57,
   "metadata": {},
   "outputs": [],
   "source": [
    "solutions: List[SubgameSolution] = []"
   ]
  },
  {
   "cell_type": "code",
   "execution_count": 58,
   "metadata": {},
   "outputs": [
    {
     "data": {
      "application/vnd.jupyter.widget-view+json": {
       "model_id": "cb104685a22741498ae6c6c8c6f6b252",
       "version_major": 2,
       "version_minor": 0
      },
      "text/plain": [
       "  0%|          | 0/1000 [00:00<?, ?it/s]"
      ]
     },
     "metadata": {},
     "output_type": "display_data"
    },
    {
     "ename": "KeyboardInterrupt",
     "evalue": "",
     "output_type": "error",
     "traceback": [
      "\u001b[1;31m---------------------------------------------------------------------------\u001b[0m",
      "\u001b[1;31mKeyboardInterrupt\u001b[0m                         Traceback (most recent call last)",
      "\u001b[1;32m~\\AppData\\Local\\Temp/ipykernel_11708/2246566404.py\u001b[0m in \u001b[0;36m<module>\u001b[1;34m\u001b[0m\n\u001b[0;32m      3\u001b[0m \u001b[1;33m\u001b[0m\u001b[0m\n\u001b[0;32m      4\u001b[0m \u001b[1;32mfor\u001b[0m \u001b[0mi\u001b[0m \u001b[1;32min\u001b[0m \u001b[0mtqdm\u001b[0m\u001b[1;33m(\u001b[0m\u001b[0mrange\u001b[0m\u001b[1;33m(\u001b[0m\u001b[1;36m1000\u001b[0m \u001b[1;33m-\u001b[0m \u001b[0mlen\u001b[0m\u001b[1;33m(\u001b[0m\u001b[0msolutions\u001b[0m\u001b[1;33m)\u001b[0m\u001b[1;33m)\u001b[0m\u001b[1;33m)\u001b[0m\u001b[1;33m:\u001b[0m\u001b[1;33m\u001b[0m\u001b[1;33m\u001b[0m\u001b[0m\n\u001b[1;32m----> 5\u001b[1;33m     \u001b[0ms\u001b[0m \u001b[1;33m=\u001b[0m \u001b[0mget_optimal_actions\u001b[0m\u001b[1;33m(\u001b[0m\u001b[0mVehicle\u001b[0m\u001b[1;33m(\u001b[0m\u001b[1;36m8\u001b[0m\u001b[1;33m)\u001b[0m\u001b[1;33m,\u001b[0m \u001b[1;36m10\u001b[0m\u001b[1;33m,\u001b[0m \u001b[1;36m10\u001b[0m\u001b[1;33m)\u001b[0m\u001b[1;33m\u001b[0m\u001b[1;33m\u001b[0m\u001b[0m\n\u001b[0m\u001b[0;32m      6\u001b[0m     \u001b[0msolutions\u001b[0m\u001b[1;33m.\u001b[0m\u001b[0mappend\u001b[0m\u001b[1;33m(\u001b[0m\u001b[0ms\u001b[0m\u001b[1;33m)\u001b[0m\u001b[1;33m\u001b[0m\u001b[1;33m\u001b[0m\u001b[0m\n",
      "\u001b[1;32m~\\AppData\\Local\\Temp/ipykernel_11708/470406896.py\u001b[0m in \u001b[0;36mget_optimal_actions\u001b[1;34m(vehicle, attacker_cost_available, defender_cost_available)\u001b[0m\n\u001b[0;32m     17\u001b[0m         \u001b[1;32mfor\u001b[0m \u001b[0machoice\u001b[0m \u001b[1;32min\u001b[0m \u001b[0msubsets\u001b[0m\u001b[1;33m:\u001b[0m\u001b[1;33m\u001b[0m\u001b[1;33m\u001b[0m\u001b[0m\n\u001b[0;32m     18\u001b[0m             \u001b[1;32mif\u001b[0m \u001b[0msum\u001b[0m\u001b[1;33m(\u001b[0m\u001b[1;33m[\u001b[0m\u001b[0mx\u001b[0m\u001b[1;33m.\u001b[0m\u001b[0mattackerCost\u001b[0m \u001b[1;32mfor\u001b[0m \u001b[0mx\u001b[0m \u001b[1;32min\u001b[0m \u001b[0machoice\u001b[0m\u001b[1;33m]\u001b[0m\u001b[1;33m)\u001b[0m \u001b[1;33m>\u001b[0m \u001b[0mattacker_cost_available\u001b[0m\u001b[1;33m:\u001b[0m \u001b[1;32mcontinue\u001b[0m\u001b[1;33m\u001b[0m\u001b[1;33m\u001b[0m\u001b[0m\n\u001b[1;32m---> 19\u001b[1;33m             \u001b[0mattacker_util\u001b[0m \u001b[1;33m=\u001b[0m \u001b[0mget_attacker_utility\u001b[0m\u001b[1;33m(\u001b[0m\u001b[0mdchoice\u001b[0m\u001b[1;33m,\u001b[0m \u001b[0machoice\u001b[0m\u001b[1;33m)\u001b[0m\u001b[1;33m\u001b[0m\u001b[1;33m\u001b[0m\u001b[0m\n\u001b[0m\u001b[0;32m     20\u001b[0m             \u001b[1;32mif\u001b[0m \u001b[0mattacker_util\u001b[0m \u001b[1;33m>\u001b[0m \u001b[0mtemp_best_attacker_util\u001b[0m\u001b[1;33m:\u001b[0m\u001b[1;33m\u001b[0m\u001b[1;33m\u001b[0m\u001b[0m\n\u001b[0;32m     21\u001b[0m                 \u001b[0mtemp_best_attacker_util\u001b[0m \u001b[1;33m=\u001b[0m \u001b[0mattacker_util\u001b[0m\u001b[1;33m\u001b[0m\u001b[1;33m\u001b[0m\u001b[0m\n",
      "\u001b[1;32m~\\AppData\\Local\\Temp/ipykernel_11708/1780866090.py\u001b[0m in \u001b[0;36mget_attacker_utility\u001b[1;34m(defending, attacking)\u001b[0m\n\u001b[0;32m      9\u001b[0m             \u001b[0mrtn\u001b[0m \u001b[1;33m+=\u001b[0m \u001b[0mv\u001b[0m\u001b[1;33m.\u001b[0m\u001b[0mseverity\u001b[0m \u001b[1;33m**\u001b[0m \u001b[1;36m2\u001b[0m \u001b[1;33m*\u001b[0m \u001b[0mv\u001b[0m\u001b[1;33m.\u001b[0m\u001b[0mattackerProb\u001b[0m \u001b[1;33m*\u001b[0m \u001b[1;33m(\u001b[0m\u001b[1;36m1\u001b[0m\u001b[1;33m-\u001b[0m\u001b[0mv\u001b[0m\u001b[1;33m.\u001b[0m\u001b[0mdefenderProb\u001b[0m\u001b[1;33m)\u001b[0m\u001b[1;33m\u001b[0m\u001b[1;33m\u001b[0m\u001b[0m\n\u001b[0;32m     10\u001b[0m         \u001b[1;32melse\u001b[0m\u001b[1;33m:\u001b[0m\u001b[1;33m\u001b[0m\u001b[1;33m\u001b[0m\u001b[0m\n\u001b[1;32m---> 11\u001b[1;33m             \u001b[0mrtn\u001b[0m \u001b[1;33m+=\u001b[0m \u001b[0mv\u001b[0m\u001b[1;33m.\u001b[0m\u001b[0mseverity\u001b[0m \u001b[1;33m**\u001b[0m \u001b[1;36m2\u001b[0m \u001b[1;33m*\u001b[0m \u001b[0mv\u001b[0m\u001b[1;33m.\u001b[0m\u001b[0mattackerProb\u001b[0m\u001b[1;33m\u001b[0m\u001b[1;33m\u001b[0m\u001b[0m\n\u001b[0m\u001b[0;32m     12\u001b[0m     \u001b[1;32mreturn\u001b[0m \u001b[0mrtn\u001b[0m\u001b[1;33m\u001b[0m\u001b[1;33m\u001b[0m\u001b[0m\n",
      "\u001b[1;31mKeyboardInterrupt\u001b[0m: "
     ]
    }
   ],
   "source": [
    "from tqdm.notebook import tqdm\n",
    "from IPython.display import clear_output\n",
    "\n",
    "for i in tqdm(range(1000 - len(solutions))):\n",
    "    s = get_optimal_actions(Vehicle(8), 10, 10)\n",
    "    solutions.append(s)"
   ]
  },
  {
   "cell_type": "code",
   "execution_count": null,
   "metadata": {},
   "outputs": [
    {
     "name": "stdout",
     "output_type": "stream",
     "text": [
      "-46.6 {1: 0.62, 2: 0, 3: 0.44, 4: 0, 5: 0.94}\n",
      "-1.47 {1: 0.45, 2: 0, 3: 0, 4: 0.04, 5: 0.01}\n"
     ]
    }
   ],
   "source": [
    "solutions = sorted(solutions, key=lambda x: x.defender_util)\n",
    "for s in [solutions[0], solutions[-1]]:\n",
    "    print(s.defender_util, s.severity_chances)"
   ]
  },
  {
   "cell_type": "code",
   "execution_count": null,
   "metadata": {},
   "outputs": [
    {
     "data": {
      "image/png": "[encoded data removed]",
      "text/plain": [
       "<Figure size 700x500 with 1 Axes>"
      ]
     },
     "metadata": {
      "needs_background": "dark"
     },
     "output_type": "display_data"
    }
   ],
   "source": [
    "import matplotlib.pyplot as plt\n",
    "%matplotlib inline\n",
    "plt.rcParams.update({\"figure.figsize\":(7,5), \"figure.dpi\":100})\n",
    "\n",
    "bins = np.linspace(0,1,10)\n",
    "\n",
    "plt.hist([[s.severity_chances[i] for s in solutions] for i in range(1,6)], bins, alpha=0.2, label=[f\"Severity {i}\" for i in range(1,6)])\n",
    "# plt.hist(human, bins, alpha=0.5, label=\"human\")\n",
    "# plt.hist(ai, bins, alpha=0.5, label=\"ai\")\n",
    "plt.xticks(np.arange(0,1,0.1))\n",
    "plt.legend(loc=\"upper right\")\n",
    "plt.title(f\"{len(solutions)} samples of <probability of successful attack> at each severity\")\n",
    "plt.show()\n",
    "# plt.gca().set(title=\"Freq histogram\", ylabel=\"Freq\")"
   ]
  },
  {
   "cell_type": "code",
   "execution_count": null,
   "metadata": {},
   "outputs": [
    {
     "data": {
      "image/png": "[encoded data removed]",
      "text/plain": [
       "<Figure size 700x500 with 1 Axes>"
      ]
     },
     "metadata": {
      "needs_background": "dark"
     },
     "output_type": "display_data"
    }
   ],
   "source": [
    "plt.hist([s.defender_util for s in solutions], bins=50)\n",
    "plt.title(\"Sample of defender utility\")\n",
    "plt.show()"
   ]
  },
  {
   "cell_type": "code",
   "execution_count": null,
   "metadata": {},
   "outputs": [],
   "source": [
    "import json\n",
    "# def _default(self, obj):\n",
    "#     return getattr(obj, \"to_json\", _default.default)(obj)\n",
    "# _default.default = json.JSONEncoder().default\n",
    "# json.JSONEncoder.default = _default\n",
    "with open(\"solutions.json\",\"w\") as f:\n",
    "    json.dump(solutions, f, default=vars)"
   ]
  }
 ],
 "metadata": {
  "kernelspec": {
   "display_name": "Python 3.9.12 ('subgame')",
   "language": "python",
   "name": "python3"
  },
  "language_info": {
   "codemirror_mode": {
    "name": "ipython",
    "version": 3
   },
   "file_extension": ".py",
   "mimetype": "text/x-python",
   "name": "python",
   "nbconvert_exporter": "python",
   "pygments_lexer": "ipython3",
   "version": "3.9.12"
  },
  "orig_nbformat": 4,
  "vscode": {
   "interpreter": {
    "hash": "09b31e4957d63d79e1e76c5537c345194b9f565583fac53cbbb105281d72baf4"
   }
  }
 },
 "nbformat": 4,
 "nbformat_minor": 2
}
