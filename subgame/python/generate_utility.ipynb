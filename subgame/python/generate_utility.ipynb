{
 "cells": [
  {
   "cell_type": "code",
   "execution_count": 1,
   "metadata": {},
   "outputs": [
    {
     "name": "stdout",
     "output_type": "stream",
     "text": [
      "[{'attack': {'comp': 0, 'vuln': 0}, 'attackerCost': 4, 'defenderCost': 4, 'attackerProb': 0.79, 'defenderProb': 0.69, 'severity': 3, 'risk': 8.82}, {'attack': {'comp': 0, 'vuln': 1}, 'attackerCost': 1, 'defenderCost': 3, 'attackerProb': 0.82, 'defenderProb': 0.97, 'severity': 4, 'risk': 1.18}, {'attack': {'comp': 0, 'vuln': 2}, 'attackerCost': 5, 'defenderCost': 5, 'attackerProb': 0.5, 'defenderProb': 0.77, 'severity': 4, 'risk': 1.84}, {'attack': {'comp': 0, 'vuln': 2}, 'attackerCost': 5, 'defenderCost': 5, 'attackerProb': 0.6, 'defenderProb': 0.77, 'severity': 3, 'risk': 1.84}]\n"
     ]
    }
   ],
   "source": [
    "import json\n",
    "with open(\"./board.json\", \"r\") as f:\n",
    "    board = json.load(f)\n",
    "print(board)"
   ]
  },
  {
   "cell_type": "code",
   "execution_count": 2,
   "metadata": {},
   "outputs": [],
   "source": [
    "import itertools\n",
    "def powerset(s):\n",
    "    return itertools.chain.from_iterable(itertools.combinations(s, r) for r in range(1, len(s)+1))"
   ]
  },
  {
   "cell_type": "code",
   "execution_count": 8,
   "metadata": {},
   "outputs": [],
   "source": [
    "def get_id(move):\n",
    "    return f\"{move['attack']['comp']},{move['attack']['vuln']}\"\n",
    "\n",
    "def get_utility(attackerMoves, defenderMoves):\n",
    "    defenderLabels = [get_id(m) for m in defenderMoves]\n",
    "    return sum([\n",
    "        move[\"severity\"]**2 * move[\"attackerProb\"]\n",
    "        if get_id(move) not in defenderLabels else\n",
    "        move[\"severity\"]**2 * move[\"attackerProb\"] * (1-move[\"defenderProb\"])\n",
    "        for move in attackerMoves\n",
    "    ])"
   ]
  },
  {
   "cell_type": "code",
   "execution_count": 21,
   "metadata": {},
   "outputs": [],
   "source": [
    "import numpy as np\n",
    "all_move_sets = list(powerset(board))\n",
    "utility_matrix = np.zeros((len(all_move_sets),len(all_move_sets)))\n",
    "for i, attacker_choice in enumerate(all_move_sets):\n",
    "    for j, defender_choice in enumerate(all_move_sets):\n",
    "        utility_matrix[i][j] = get_utility(attacker_choice, defender_choice)"
   ]
  },
  {
   "cell_type": "code",
   "execution_count": 25,
   "metadata": {},
   "outputs": [],
   "source": [
    "import scipy.io\n",
    "scipy.io.savemat(\"../matlab/utility.mat\", {\n",
    "    \"utility\": utility_matrix,\n",
    "})"
   ]
  }
 ],
 "metadata": {
  "interpreter": {
   "hash": "ec7e34fbe3840ac2ca8ac929f69c3033a6174f02ffb302e6fd8fb9bdd6e80c7f"
  },
  "kernelspec": {
   "display_name": "Python 3.9.12 ('base')",
   "language": "python",
   "name": "python3"
  },
  "language_info": {
   "codemirror_mode": {
    "name": "ipython",
    "version": 3
   },
   "file_extension": ".py",
   "mimetype": "text/x-python",
   "name": "python",
   "nbconvert_exporter": "python",
   "pygments_lexer": "ipython3",
   "version": "3.9.12"
  },
  "orig_nbformat": 4
 },
 "nbformat": 4,
 "nbformat_minor": 2
}
