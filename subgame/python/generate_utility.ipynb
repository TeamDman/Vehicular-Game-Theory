{
 "cells": [
  {
   "cell_type": "code",
   "execution_count": 22,
   "metadata": {},
   "outputs": [
    {
     "name": "stdout",
     "output_type": "stream",
     "text": [
      "[{'id': 0, 'attackerCost': 1, 'defenderCost': 2, 'attackerProb': 0.54, 'defenderProb': 0.59, 'severity': 4, 'risk': 7.08}, {'id': 1, 'attackerCost': 1, 'defenderCost': 2, 'attackerProb': 0.73, 'defenderProb': 0.9, 'severity': 4, 'risk': 2.34}, {'id': 2, 'attackerCost': 1, 'defenderCost': 4, 'attackerProb': 0.61, 'defenderProb': 0.84, 'severity': 3, 'risk': 3.51}, {'id': 3, 'attackerCost': 3, 'defenderCost': 1, 'attackerProb': 0.75, 'defenderProb': 0.88, 'severity': 4, 'risk': 0.48}, {'id': 4, 'attackerCost': 1, 'defenderCost': 4, 'attackerProb': 0.52, 'defenderProb': 0.77, 'severity': 2, 'risk': 1.91}, {'id': 5, 'attackerCost': 4, 'defenderCost': 4, 'attackerProb': 0.87, 'defenderProb': 0.53, 'severity': 2, 'risk': 1.64}, {'id': 6, 'attackerCost': 3, 'defenderCost': 4, 'attackerProb': 0.79, 'defenderProb': 0.96, 'severity': 2, 'risk': 0.17}, {'id': 7, 'attackerCost': 5, 'defenderCost': 2, 'attackerProb': 0.9, 'defenderProb': 0.72, 'severity': 1, 'risk': 0.1}, {'id': 8, 'attackerCost': 1, 'defenderCost': 2, 'attackerProb': 0.97, 'defenderProb': 0.6, 'severity': 2, 'risk': 3.1}, {'id': 9, 'attackerCost': 2, 'defenderCost': 4, 'attackerProb': 0.72, 'defenderProb': 0.92, 'severity': 1, 'risk': 0.12}]\n"
     ]
    }
   ],
   "source": [
    "import json\n",
    "with open(\"./board.json\", \"r\") as f:\n",
    "    board = json.load(f)\n",
    "print(board)"
   ]
  },
  {
   "cell_type": "code",
   "execution_count": 23,
   "metadata": {},
   "outputs": [],
   "source": [
    "import itertools\n",
    "def powerset(s):\n",
    "    return itertools.chain.from_iterable(itertools.combinations(s, r) for r in range(1, len(s)+1))"
   ]
  },
  {
   "cell_type": "code",
   "execution_count": 24,
   "metadata": {},
   "outputs": [],
   "source": [
    "def get_utility(attackerMoves, defenderMoves):\n",
    "    defenderLabels = set([m[\"id\"] for m in defenderMoves])\n",
    "    return sum([\n",
    "        move[\"severity\"]**2 * move[\"attackerProb\"]\n",
    "        if move[\"id\"] not in defenderLabels else\n",
    "        move[\"severity\"]**2 * move[\"attackerProb\"] * (1-move[\"defenderProb\"])\n",
    "        for move in attackerMoves\n",
    "    ])"
   ]
  },
  {
   "cell_type": "code",
   "execution_count": 25,
   "metadata": {},
   "outputs": [],
   "source": [
    "def validate_cost(moves, cost_func, max_cost):\n",
    "    return sum([cost_func(m) for m in moves]) <= max_cost"
   ]
  },
  {
   "cell_type": "code",
   "execution_count": 26,
   "metadata": {},
   "outputs": [
    {
     "name": "stdout",
     "output_type": "stream",
     "text": [
      "Found 1023 move combinations (1,046,529 for both)\n"
     ]
    }
   ],
   "source": [
    "import numpy as np\n",
    "all_move_sets = list(powerset(board))\n",
    "attacker_utility_matrix = np.zeros((len(all_move_sets),len(all_move_sets)))\n",
    "defender_utility_matrix = np.zeros((len(all_move_sets),len(all_move_sets)))\n",
    "print(f\"Found {len(all_move_sets)} move combinations ({len(all_move_sets) ** 2:,} for both)\")"
   ]
  },
  {
   "cell_type": "code",
   "execution_count": 27,
   "metadata": {},
   "outputs": [],
   "source": [
    "attacker_cost_known_to_defender = False\n",
    "attacker_cost_available=10\n",
    "defender_cost_available=10\n",
    "for i, attacker_choice in enumerate(all_move_sets):\n",
    "    for j, defender_choice in enumerate(all_move_sets):\n",
    "        # if the attacker moveset is invalid\n",
    "        if not validate_cost(attacker_choice, lambda x: x[\"attackerCost\"], attacker_cost_available):\n",
    "            # terrible attacker utility\n",
    "            attacker_utility_matrix[i][j] = -999\n",
    "            # if the defender moveset is also invalid\n",
    "            if not validate_cost(defender_choice, lambda x: x[\"defenderCost\"], defender_cost_available):\n",
    "                # terrible defender utility\n",
    "                defender_utility_matrix[i][j] = -999\n",
    "            else:\n",
    "                # utility is dependent on whether the defender knows the attacker max cost or not\n",
    "                defender_utility_matrix[i][j] = -999 if attacker_cost_known_to_defender else -get_utility(attacker_choice, defender_choice)\n",
    "        else:\n",
    "            # normal attacker utility otherwise\n",
    "            attacker_utility_matrix[i][j] = get_utility(attacker_choice, defender_choice)\n",
    "            # if defender moveset is invalid\n",
    "            if not validate_cost(defender_choice, lambda x: x[\"defenderCost\"], defender_cost_available):\n",
    "                # terrible defender utility\n",
    "                defender_utility_matrix[i][j] = -999\n",
    "            else:\n",
    "                # normal defender utility otherwise\n",
    "                defender_utility_matrix[i][j] = -get_utility(attacker_choice, defender_choice)"
   ]
  },
  {
   "cell_type": "code",
   "execution_count": 28,
   "metadata": {},
   "outputs": [],
   "source": [
    "import scipy.io\n",
    "scipy.io.savemat(\"../matlab/utility.mat\", {\n",
    "    \"attacker_utility\": attacker_utility_matrix.transpose(),\n",
    "    \"defender_utility\": defender_utility_matrix,\n",
    "})"
   ]
  },
  {
   "cell_type": "code",
   "execution_count": null,
   "metadata": {},
   "outputs": [],
   "source": []
  }
 ],
 "metadata": {
  "interpreter": {
   "hash": "09b31e4957d63d79e1e76c5537c345194b9f565583fac53cbbb105281d72baf4"
  },
  "kernelspec": {
   "display_name": "Python 3.9.12 ('subgame')",
   "language": "python",
   "name": "python3"
  },
  "language_info": {
   "codemirror_mode": {
    "name": "ipython",
    "version": 3
   },
   "file_extension": ".py",
   "mimetype": "text/x-python",
   "name": "python",
   "nbconvert_exporter": "python",
   "pygments_lexer": "ipython3",
   "version": "3.9.12"
  },
  "orig_nbformat": 4
 },
 "nbformat": 4,
 "nbformat_minor": 2
}
