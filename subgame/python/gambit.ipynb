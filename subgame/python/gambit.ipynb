{
 "cells": [
  {
   "cell_type": "code",
   "execution_count": 128,
   "metadata": {},
   "outputs": [
    {
     "name": "stdout",
     "output_type": "stream",
     "text": [
      "Loaded 5 actions.\n"
     ]
    }
   ],
   "source": [
    "import json\n",
    "with open(\"board.json\", \"r\") as f:\n",
    "    board = json.load(f)\n",
    "print(f\"Loaded {len(board)} actions.\")"
   ]
  },
  {
   "cell_type": "code",
   "execution_count": 129,
   "metadata": {},
   "outputs": [],
   "source": [
    "def buildTree(board, getCost, costRemaining):\n",
    "    return [\n",
    "        {\n",
    "            \"move\": move,\n",
    "            \"costRemaining\": costRemaining - getCost(move),\n",
    "            \"nextMoves\": buildTree([x for x in board if x != move], getCost, costRemaining - getCost(move)),\n",
    "        }\n",
    "        for move in board\n",
    "        if getCost(move) <= costRemaining\n",
    "    ]"
   ]
  },
  {
   "cell_type": "code",
   "execution_count": 130,
   "metadata": {},
   "outputs": [],
   "source": [
    "attackerTree = buildTree(board, lambda x: x[\"attackerCost\"], 10)\n",
    "defenderTree = buildTree(board, lambda x: x[\"defenderCost\"], 10)"
   ]
  },
  {
   "cell_type": "code",
   "execution_count": 131,
   "metadata": {},
   "outputs": [],
   "source": [
    "import pygambit"
   ]
  },
  {
   "cell_type": "code",
   "execution_count": 132,
   "metadata": {},
   "outputs": [],
   "source": [
    "game = pygambit.Game.new_tree()\n",
    "game.title=\"subgame\"\n",
    "attacker = game.players.add(\"Attacker\")\n",
    "defender = game.players.add(\"Defender\")"
   ]
  },
  {
   "cell_type": "code",
   "execution_count": 133,
   "metadata": {},
   "outputs": [],
   "source": [
    "def labelFor(treeMove):\n",
    "    return f\"{treeMove['attack']['comp']},{treeMove['attack']['vuln']}\"\n",
    "\n",
    "def valueFor(treeMove):\n",
    "    return treeMove[\"severity\"]**2 * treeMove[\"attackerProb\"]"
   ]
  },
  {
   "cell_type": "code",
   "execution_count": 134,
   "metadata": {},
   "outputs": [],
   "source": [
    "def addMoves(parent, nextMoves, player, totalValue):\n",
    "    if len(nextMoves) == 0:\n",
    "        outcome = game.outcomes.add(\"value\")\n",
    "        outcome[attacker.number] = int(totalValue)\n",
    "        outcome[defender.number] = 0\n",
    "        parent.outcome = outcome\n",
    "    else:\n",
    "        gameMove = parent.append_move(player, len(nextMoves))\n",
    "        for i, treeMove in enumerate(nextMoves):\n",
    "            gameMove.actions[i].label = labelFor(treeMove[\"move\"])\n",
    "            addMoves(parent.children[i], treeMove[\"nextMoves\"], player, totalValue + valueFor(treeMove[\"move\"]))"
   ]
  },
  {
   "cell_type": "code",
   "execution_count": 135,
   "metadata": {},
   "outputs": [
    {
     "name": "stderr",
     "output_type": "stream",
     "text": [
      "C:\\Users\\TeamD\\AppData\\Local\\Temp\\ipykernel_21808\\1094354861.py:3: UserWarning: Another outcome with an identical label exists\n",
      "  outcome = game.outcomes.add(\"value\")\n"
     ]
    }
   ],
   "source": [
    "addMoves(game.root, attackerTree, attacker,0)"
   ]
  },
  {
   "cell_type": "code",
   "execution_count": 136,
   "metadata": {},
   "outputs": [],
   "source": [
    "with open(\"beans.efg\",\"w\") as f:\n",
    "    f.write(game.write())"
   ]
  },
  {
   "cell_type": "code",
   "execution_count": 143,
   "metadata": {},
   "outputs": [
    {
     "data": {
      "text/plain": [
       "[<Action [0] '0,0' at infoset 'b''' for player 'b'Attacker'' in game 'b'subgame''>, <Action [1] '0,1' at infoset 'b''' for player 'b'Attacker'' in game 'b'subgame''>, <Action [2] '0,2' at infoset 'b''' for player 'b'Attacker'' in game 'b'subgame''>, <Action [3] '0,3' at infoset 'b''' for player 'b'Attacker'' in game 'b'subgame''>, <Action [4] '1,0' at infoset 'b''' for player 'b'Attacker'' in game 'b'subgame''>]"
      ]
     },
     "execution_count": 143,
     "metadata": {},
     "output_type": "execute_result"
    }
   ],
   "source": []
  }
 ],
 "metadata": {
  "interpreter": {
   "hash": "09b31e4957d63d79e1e76c5537c345194b9f565583fac53cbbb105281d72baf4"
  },
  "kernelspec": {
   "display_name": "Python 3.9.12 ('subgame')",
   "language": "python",
   "name": "python3"
  },
  "language_info": {
   "codemirror_mode": {
    "name": "ipython",
    "version": 3
   },
   "file_extension": ".py",
   "mimetype": "text/x-python",
   "name": "python",
   "nbconvert_exporter": "python",
   "pygments_lexer": "ipython3",
   "version": "3.9.12"
  },
  "orig_nbformat": 4
 },
 "nbformat": 4,
 "nbformat_minor": 2
}
