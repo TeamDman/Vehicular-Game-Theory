{
 "cells": [
  {
   "cell_type": "code",
   "execution_count": 254,
   "metadata": {},
   "outputs": [
    {
     "name": "stdout",
     "output_type": "stream",
     "text": [
      "Loaded 3 actions.\n"
     ]
    }
   ],
   "source": [
    "import json\n",
    "with open(\"board.json\", \"r\") as f:\n",
    "    board = json.load(f)\n",
    "print(f\"Loaded {len(board)} actions.\")"
   ]
  },
  {
   "cell_type": "code",
   "execution_count": 255,
   "metadata": {},
   "outputs": [],
   "source": [
    "def buildTree(board, getCost, costRemaining):\n",
    "    return [\n",
    "        {\n",
    "            \"move\": move,\n",
    "            \"costRemaining\": costRemaining - getCost(move),\n",
    "            \"nextMoves\": buildTree([x for x in board if x != move], getCost, costRemaining - getCost(move)),\n",
    "        }\n",
    "        for move in board\n",
    "        if getCost(move) <= costRemaining\n",
    "    ]"
   ]
  },
  {
   "cell_type": "code",
   "execution_count": 256,
   "metadata": {},
   "outputs": [],
   "source": [
    "attackerTree = buildTree(board, lambda x: x[\"attackerCost\"], 10)\n",
    "defenderTree = buildTree(board, lambda x: x[\"defenderCost\"], 10)"
   ]
  },
  {
   "cell_type": "code",
   "execution_count": 257,
   "metadata": {},
   "outputs": [],
   "source": [
    "import pygambit"
   ]
  },
  {
   "cell_type": "code",
   "execution_count": 258,
   "metadata": {},
   "outputs": [],
   "source": [
    "game = pygambit.Game.new_tree()\n",
    "game.title=\"subgame\"\n",
    "attacker = game.players.add(\"Attacker\")\n",
    "defender = game.players.add(\"Defender\")"
   ]
  },
  {
   "cell_type": "code",
   "execution_count": 259,
   "metadata": {},
   "outputs": [],
   "source": [
    "def labelFor(treeMove):\n",
    "    return f\"{treeMove['attack']['comp']},{treeMove['attack']['vuln']}\"\n",
    "\n",
    "def valueFor(attackerMoves, defenderMoves):\n",
    "    defenderLabels = [labelFor(m) for m in defenderMoves]\n",
    "    return sum([\n",
    "        move[\"severity\"]**2 * move[\"attackerProb\"]\n",
    "        if labelFor(move) not in defenderLabels else\n",
    "        move[\"severity\"]**2 * move[\"attackerProb\"] * (1-move[\"defenderProb\"])\n",
    "        \n",
    "        for move in attackerMoves\n",
    "    ])"
   ]
  },
  {
   "cell_type": "code",
   "execution_count": 260,
   "metadata": {},
   "outputs": [],
   "source": [
    "def addMoves(parent, nextMoves, player, taken, out):\n",
    "    if len(nextMoves) == 0:\n",
    "        # outcome = game.outcomes.add(\"value\")\n",
    "        # outcome[attacker.number] = int(totalValue)\n",
    "        # outcome[defender.number] = 0\n",
    "        # parent.outcome = outcome\n",
    "        out.append({\n",
    "            \"node\": parent,\n",
    "            \"taken\": taken,\n",
    "        })\n",
    "    else:\n",
    "        gameMove = parent.append_move(player, len(nextMoves))\n",
    "        for i, treeMove in enumerate(nextMoves):\n",
    "            gameMove.actions[i].label = labelFor(treeMove[\"move\"])\n",
    "            addMoves(parent.children[i], treeMove[\"nextMoves\"], player, taken + [treeMove[\"move\"]], out)"
   ]
  },
  {
   "cell_type": "code",
   "execution_count": 261,
   "metadata": {},
   "outputs": [
    {
     "name": "stderr",
     "output_type": "stream",
     "text": [
      "C:\\Users\\TeamD\\AppData\\Local\\Temp\\ipykernel_21808\\3719867411.py:8: UserWarning: Another outcome with an identical label exists\n",
      "  outcome = game.outcomes.add(\"value\")\n"
     ]
    }
   ],
   "source": [
    "out = []\n",
    "addMoves(game.root, attackerTree, attacker, [], out)\n",
    "for end in out:\n",
    "    out2 = []\n",
    "    addMoves(end[\"node\"], defenderTree, defender, [], out2)\n",
    "    for final in out2:\n",
    "        value = valueFor(end[\"taken\"], final[\"taken\"])\n",
    "        outcome = game.outcomes.add(\"value\")\n",
    "        outcome[attacker.number] = int(value*10)\n",
    "        outcome[defender.number] = -int(value*10)\n",
    "        final[\"node\"].outcome = outcome"
   ]
  },
  {
   "cell_type": "code",
   "execution_count": 262,
   "metadata": {},
   "outputs": [],
   "source": [
    "with open(\"beans.efg\",\"w\") as f:\n",
    "    f.write(game.write())"
   ]
  },
  {
   "cell_type": "code",
   "execution_count": 234,
   "metadata": {},
   "outputs": [
    {
     "data": {
      "text/plain": [
       "[{'attack': {'comp': 0, 'vuln': 0},\n",
       "  'attackerCost': 4,\n",
       "  'defenderCost': 4,\n",
       "  'attackerProb': 0.79,\n",
       "  'defenderProb': 0.69,\n",
       "  'severity': 3,\n",
       "  'risk': 8.82},\n",
       " {'attack': {'comp': 0, 'vuln': 1},\n",
       "  'attackerCost': 4,\n",
       "  'defenderCost': 4,\n",
       "  'attackerProb': 0.82,\n",
       "  'defenderProb': 0.97,\n",
       "  'severity': 4,\n",
       "  'risk': 1.18}]"
      ]
     },
     "execution_count": 234,
     "metadata": {},
     "output_type": "execute_result"
    }
   ],
   "source": [
    "out[0][\"taken\"]"
   ]
  }
 ],
 "metadata": {
  "interpreter": {
   "hash": "09b31e4957d63d79e1e76c5537c345194b9f565583fac53cbbb105281d72baf4"
  },
  "kernelspec": {
   "display_name": "Python 3.9.12 ('subgame')",
   "language": "python",
   "name": "python3"
  },
  "language_info": {
   "codemirror_mode": {
    "name": "ipython",
    "version": 3
   },
   "file_extension": ".py",
   "mimetype": "text/x-python",
   "name": "python",
   "nbconvert_exporter": "python",
   "pygments_lexer": "ipython3",
   "version": "3.9.12"
  },
  "orig_nbformat": 4
 },
 "nbformat": 4,
 "nbformat_minor": 2
}
