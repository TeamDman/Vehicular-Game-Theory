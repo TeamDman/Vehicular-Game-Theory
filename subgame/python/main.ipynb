{
 "cells": [
  {
   "cell_type": "code",
   "execution_count": 1,
   "metadata": {},
   "outputs": [],
   "source": [
    "import numpy as np\n",
    "\n",
    "np.set_printoptions(\n",
    "    suppress=True,\n",
    "    linewidth=180\n",
    ")"
   ]
  },
  {
   "cell_type": "markdown",
   "metadata": {},
   "source": [
    "# Board generation"
   ]
  },
  {
   "cell_type": "code",
   "execution_count": 2,
   "metadata": {},
   "outputs": [],
   "source": [
    "def generate_board(num_actions):\n",
    "    import random\n",
    "    actions = [\n",
    "        {\n",
    "            \"id\": i,\n",
    "            \"attackerCost\": random.randint(1, 5),\n",
    "            \"defenderCost\": random.randint(1, 5),\n",
    "            \"attackerProb\": round(random.uniform(0.5, 0.98),2),\n",
    "            \"defenderProb\": round(random.uniform(0.5, 0.98),2),\n",
    "            \"severity\": random.randint(1,5),\n",
    "        }\n",
    "        for i in range(num_actions)\n",
    "    ]\n",
    "    for v in actions:\n",
    "        v[\"risk\"] = round(v[\"severity\"] ** 2 * v[\"attackerProb\"] * (1-v[\"defenderProb\"]) * (v[\"defenderCost\"] / v[\"attackerCost\"]),2)\n",
    "    return actions"
   ]
  },
  {
   "cell_type": "markdown",
   "metadata": {},
   "source": [
    "# Utility matrix generation"
   ]
  },
  {
   "cell_type": "code",
   "execution_count": 3,
   "metadata": {},
   "outputs": [],
   "source": [
    "def powerset(s):\n",
    "    import itertools\n",
    "    return itertools.chain.from_iterable(itertools.combinations(s, r) for r in range(1, len(s)+1))"
   ]
  },
  {
   "cell_type": "code",
   "execution_count": 4,
   "metadata": {},
   "outputs": [],
   "source": [
    "def get_utility(attackerMoves, defenderMoves):\n",
    "    defenderLabels = set([m[\"id\"] for m in defenderMoves])\n",
    "    return sum([\n",
    "        move[\"severity\"]**2 * move[\"attackerProb\"]\n",
    "        if move[\"id\"] not in defenderLabels else\n",
    "        move[\"severity\"]**2 * move[\"attackerProb\"] * (1-move[\"defenderProb\"])\n",
    "        for move in attackerMoves\n",
    "    ])"
   ]
  },
  {
   "cell_type": "code",
   "execution_count": 5,
   "metadata": {},
   "outputs": [],
   "source": [
    "def validate_cost(moves, cost_func, max_cost):\n",
    "    return sum([cost_func(m) for m in moves]) <= max_cost"
   ]
  },
  {
   "cell_type": "code",
   "execution_count": 6,
   "metadata": {},
   "outputs": [],
   "source": [
    "def generate_utility_matrices(\n",
    "    board,\n",
    "    attacker_cost_available,\n",
    "    defender_cost_available,\n",
    "    defender_knows_attacker_cost\n",
    "):\n",
    "    all_move_sets = list(powerset(board))\n",
    "    attacker_utility_matrix = np.zeros((len(all_move_sets),len(all_move_sets)))\n",
    "    defender_utility_matrix = np.zeros((len(all_move_sets),len(all_move_sets)))\n",
    "    print(f\"Found {len(all_move_sets)} move combinations ({len(all_move_sets) ** 2:,} for both)\")\n",
    "\n",
    "    for i, attacker_choice in enumerate(all_move_sets):\n",
    "        for j, defender_choice in enumerate(all_move_sets):\n",
    "            # if the attacker moveset is invalid\n",
    "            if not validate_cost(attacker_choice, lambda x: x[\"attackerCost\"], attacker_cost_available):\n",
    "                # terrible attacker utility\n",
    "                attacker_utility_matrix[i][j] = -999\n",
    "                # if the defender moveset is also invalid\n",
    "                if not validate_cost(defender_choice, lambda x: x[\"defenderCost\"], defender_cost_available):\n",
    "                    # terrible defender utility\n",
    "                    defender_utility_matrix[i][j] = -999\n",
    "                else:\n",
    "                    # utility is dependent on whether the defender knows the attacker max cost or not\n",
    "                    defender_utility_matrix[i][j] = -999 if defender_knows_attacker_cost else -get_utility(attacker_choice, defender_choice)\n",
    "            else:\n",
    "                # normal attacker utility otherwise\n",
    "                attacker_utility_matrix[i][j] = get_utility(attacker_choice, defender_choice)\n",
    "                # if defender moveset is invalid\n",
    "                if not validate_cost(defender_choice, lambda x: x[\"defenderCost\"], defender_cost_available):\n",
    "                    # terrible defender utility\n",
    "                    defender_utility_matrix[i][j] = -999\n",
    "                else:\n",
    "                    # normal defender utility otherwise\n",
    "                    defender_utility_matrix[i][j] = -get_utility(attacker_choice, defender_choice)\n",
    "    return attacker_utility_matrix.transpose(), defender_utility_matrix"
   ]
  },
  {
   "cell_type": "markdown",
   "metadata": {},
   "source": [
    "# Optimization problem solver"
   ]
  },
  {
   "cell_type": "code",
   "execution_count": 7,
   "metadata": {},
   "outputs": [],
   "source": [
    "def get_optimized_solution(utility_matrix):\n",
    "    import scipy.optimize\n",
    "    num_options = len(utility_matrix)\n",
    "\n",
    "    c = np.zeros(num_options+1)\n",
    "    c[0] = -1\n",
    "\n",
    "    A_ub = np.ones((num_options, num_options+1))\n",
    "    A_ub[:,1:] = utility_matrix*-1\n",
    "    b_ub = np.zeros(num_options)\n",
    "\n",
    "    A_eq = np.ones((1, num_options+1))\n",
    "    A_eq[0][0] = 0\n",
    "    b_eq = 1\n",
    "\n",
    "    lb = np.zeros(num_options+1)\n",
    "    lb[0] = -10000\n",
    "    ub = np.ones(num_options+1)\n",
    "    ub[0] = 10000\n",
    "    bounds = np.asarray([lb, ub]).transpose()\n",
    "\n",
    "    result = scipy.optimize.linprog(\n",
    "        c=c,\n",
    "        A_ub=A_ub,\n",
    "        b_ub=b_ub,\n",
    "        A_eq=A_eq,\n",
    "        b_eq=b_eq,\n",
    "        bounds=bounds,\n",
    "        # options = {\n",
    "        #     \"tol\": 0.001\n",
    "        #     # \"autoscale\": True\n",
    "        # }\n",
    "        # method=\"simplex\",\n",
    "        method=\"highs\",\n",
    "        # method=\"interior-point\",\n",
    "        # options={\"presolve\":False},\n",
    "        # callback = lambda x: zz.append(x.x)\n",
    "    )\n",
    "    if result.success:\n",
    "        return result.x[1:]\n",
    "    else:\n",
    "        print(result)\n",
    "        raise Exception(\"Couldn't find solution\")"
   ]
  },
  {
   "cell_type": "code",
   "execution_count": 8,
   "metadata": {},
   "outputs": [],
   "source": [
    "def get_average_solution(utility_matrix):\n",
    "    return np.ones(len(utility_matrix)) / len(utility_matrix)"
   ]
  },
  {
   "cell_type": "markdown",
   "metadata": {},
   "source": [
    "# Investigation"
   ]
  },
  {
   "cell_type": "code",
   "execution_count": 9,
   "metadata": {},
   "outputs": [
    {
     "name": "stderr",
     "output_type": "stream",
     "text": [
      "Enabling notebook extension jupyter-js-widgets/extension...\n",
      "      - Validating: ok\n"
     ]
    }
   ],
   "source": [
    "!jupyter nbextension enable --py widgetsnbextension"
   ]
  },
  {
   "cell_type": "code",
   "execution_count": 10,
   "metadata": {},
   "outputs": [
    {
     "data": {
      "application/vnd.jupyter.widget-view+json": {
       "model_id": "6cad58b3d91d4c89a742136c1a9912d3",
       "version_major": 2,
       "version_minor": 0
      },
      "text/plain": [
       "  0%|          | 0/10 [00:00<?, ?it/s]"
      ]
     },
     "metadata": {},
     "output_type": "display_data"
    },
    {
     "name": "stdout",
     "output_type": "stream",
     "text": [
      "Found 1 move combinations (1 for both)\n",
      "Found 3 move combinations (9 for both)\n",
      "Found 7 move combinations (49 for both)\n",
      "Found 15 move combinations (225 for both)\n",
      "Found 31 move combinations (961 for both)\n",
      "Found 63 move combinations (3,969 for both)\n",
      "Found 127 move combinations (16,129 for both)\n",
      "Found 255 move combinations (65,025 for both)\n",
      "Found 511 move combinations (261,121 for both)\n",
      "Found 1023 move combinations (1,046,529 for both)\n"
     ]
    }
   ],
   "source": [
    "from tqdm.notebook import tqdm\n",
    "\n",
    "x = []\n",
    "y_attacker_best = []\n",
    "y_attacker_average = []\n",
    "y_defender_best = []\n",
    "y_defender_average = []\n",
    "for i in tqdm(range(1,11)):\n",
    "    x.append(i)\n",
    "    board = generate_board(i)\n",
    "    attacker_utility, defender_utility = generate_utility_matrices(\n",
    "        board=board,\n",
    "        attacker_cost_available=10,\n",
    "        defender_cost_available=10,\n",
    "        defender_knows_attacker_cost=False\n",
    "    )\n",
    "    \n",
    "    attacker_optimal = get_optimized_solution(attacker_utility)\n",
    "    attacker_optimal_value = sum(attacker_utility @ attacker_optimal)\n",
    "    attacker_average_value = sum(attacker_utility @ get_average_solution(attacker_utility))\n",
    "\n",
    "    defender_optimal = get_optimized_solution(defender_utility)\n",
    "    defender_optimal_value = sum(defender_utility @ defender_optimal)\n",
    "    defender_average_value = sum(defender_utility @ get_average_solution(defender_utility))\n",
    "\n",
    "    y_attacker_best.append(attacker_optimal_value)\n",
    "    y_attacker_average.append(attacker_average_value)\n",
    "    \n",
    "    y_defender_best.append(defender_optimal_value)\n",
    "    y_defender_average.append(defender_average_value)"
   ]
  },
  {
   "cell_type": "code",
   "execution_count": 38,
   "metadata": {},
   "outputs": [
    {
     "data": {
      "text/plain": [
       "<matplotlib.legend.Legend at 0x21b557a3640>"
      ]
     },
     "execution_count": 38,
     "metadata": {},
     "output_type": "execute_result"
    },
    {
     "data": {
      "image/png": "[encoded data removed]",
      "text/plain": [
       "<Figure size 432x288 with 1 Axes>"
      ]
     },
     "metadata": {
      "needs_background": "light"
     },
     "output_type": "display_data"
    }
   ],
   "source": [
    "import matplotlib.pyplot as plt\n",
    "\n",
    "fig = plt.figure()\n",
    "\n",
    "ax = fig.add_subplot(1,1,1)\n",
    "ax.set_title(\"Attacker utility\")\n",
    "ax.set_yscale(\"symlog\")\n",
    "# ax.yaxis.set_major_locator(plt.LogLocator(base=10, numticks=5))\n",
    "# ax.yaxis.set_major_locator(plt.MaxNLocator(100))\n",
    "line, = ax.plot(x, y_attacker_best, label=\"attacker_best\")\n",
    "line, = ax.plot(x, y_attacker_average, label=\"attacker_average\")\n",
    "ax.legend()\n"
   ]
  },
  {
   "cell_type": "code",
   "execution_count": null,
   "metadata": {},
   "outputs": [],
   "source": [
    "fig = plt.figure()\n",
    "\n",
    "ax = fig.add_subplot(1,1,1)\n",
    "ax.set_title(\"Defender utility\")\n",
    "ax.set_yscale(\"symlog\")\n",
    "# ax.yaxis.set_major_locator(plt.LogLocator(base=10, numticks=5))\n",
    "# ax.yaxis.set_major_locator(plt.MaxNLocator(100))\n",
    "line, = ax.plot(x, y_defender_best, label=\"defender_best\")\n",
    "line, = ax.plot(x, y_defender_average, label=\"defender_average\")\n",
    "ax.legend()"
   ]
  },
  {
   "cell_type": "code",
   "execution_count": 11,
   "metadata": {},
   "outputs": [],
   "source": [
    "import scipy.io\n",
    "scipy.io.savemat(\"../matlab/utility.mat\", {\n",
    "    \"attacker_utility\": attacker_utility,\n",
    "    \"defender_utility\": defender_utility,\n",
    "})"
   ]
  }
 ],
 "metadata": {
  "interpreter": {
   "hash": "09b31e4957d63d79e1e76c5537c345194b9f565583fac53cbbb105281d72baf4"
  },
  "kernelspec": {
   "display_name": "Python 3.9.12 ('subgame')",
   "language": "python",
   "name": "python3"
  },
  "language_info": {
   "codemirror_mode": {
    "name": "ipython",
    "version": 3
   },
   "file_extension": ".py",
   "mimetype": "text/x-python",
   "name": "python",
   "nbconvert_exporter": "python",
   "pygments_lexer": "ipython3",
   "version": "3.9.12"
  },
  "orig_nbformat": 4
 },
 "nbformat": 4,
 "nbformat_minor": 2
}
