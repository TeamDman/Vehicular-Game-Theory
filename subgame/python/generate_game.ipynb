{
 "cells": [
  {
   "cell_type": "code",
   "execution_count": 3,
   "metadata": {},
   "outputs": [],
   "source": [
    "import random\n",
    "vulnerabilities=[4,3,1,2,4]\n",
    "numActions = 7\n",
    "actions = [\n",
    "    {\n",
    "        \"id\": i,\n",
    "        \"attackerCost\": random.randint(1, 5),\n",
    "        \"defenderCost\": random.randint(1, 5),\n",
    "        \"attackerProb\": round(random.uniform(0.5, 0.98),2),\n",
    "        \"defenderProb\": round(random.uniform(0.5, 0.98),2),\n",
    "        \"severity\": random.randint(1,5),\n",
    "    }\n",
    "    for i in range(numActions)\n",
    "]\n",
    "for v in actions:\n",
    "    v[\"risk\"] = round(v[\"severity\"] ** 2 * v[\"attackerProb\"] * (1-v[\"defenderProb\"]) * (v[\"defenderCost\"] / v[\"attackerCost\"]),2)"
   ]
  },
  {
   "cell_type": "code",
   "execution_count": 4,
   "metadata": {},
   "outputs": [],
   "source": [
    "import json\n",
    "with open(\"board.json\", \"w\") as f:\n",
    "    json.dump(actions, f, indent=4)"
   ]
  }
 ],
 "metadata": {
  "interpreter": {
   "hash": "09b31e4957d63d79e1e76c5537c345194b9f565583fac53cbbb105281d72baf4"
  },
  "kernelspec": {
   "display_name": "Python 3.9.12 ('subgame')",
   "language": "python",
   "name": "python3"
  },
  "language_info": {
   "codemirror_mode": {
    "name": "ipython",
    "version": 3
   },
   "file_extension": ".py",
   "mimetype": "text/x-python",
   "name": "python",
   "nbconvert_exporter": "python",
   "pygments_lexer": "ipython3",
   "version": "3.9.12"
  },
  "orig_nbformat": 4
 },
 "nbformat": 4,
 "nbformat_minor": 2
}
