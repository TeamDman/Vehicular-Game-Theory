{
 "cells": [
  {
   "cell_type": "code",
   "execution_count": 7,
   "metadata": {},
   "outputs": [],
   "source": [
    "import random\n",
    "vulnerabilities=[4,3,1,2,4]\n",
    "numComponents=len(vulnerabilities)\n",
    "numVulnerabilities=max(vulnerabilities)\n",
    "actions = [\n",
    "    {\n",
    "        \"attack\": {\n",
    "            \"comp\": comp,\n",
    "            \"vuln\": vuln,\n",
    "        },\n",
    "        \"costAttack\": random.uniform(0.5, 0.98), # should be whole number?\n",
    "        \"costDefend\": random.uniform(0.5, 0.98), # should be whole number?\n",
    "        \"probAttack\": random.uniform(0.5, 0.98),\n",
    "        \"probDefend\": random.uniform(0.5, 0.98),\n",
    "        \"severity\": random.randint(1,5),\n",
    "    }\n",
    "    for comp in range(0, numComponents)\n",
    "    for vuln in range(0, vulnerabilities[comp])\n",
    "]\n",
    "for v in actions:\n",
    "    v[\"risk\"] = v[\"severity\"] ** 2 * v[\"probAttack\"] * (1-v[\"probDefend\"]) * (v[\"costDefend\"] / v[\"costAttack\"])"
   ]
  },
  {
   "cell_type": "code",
   "execution_count": 8,
   "metadata": {},
   "outputs": [],
   "source": [
    "import json\n",
    "with open(\"board.json\", \"w\") as f:\n",
    "    json.dump(actions, f, indent=4)"
   ]
  }
 ],
 "metadata": {
  "interpreter": {
   "hash": "09b31e4957d63d79e1e76c5537c345194b9f565583fac53cbbb105281d72baf4"
  },
  "kernelspec": {
   "display_name": "Python 3.9.12 ('subgame')",
   "language": "python",
   "name": "python3"
  },
  "language_info": {
   "codemirror_mode": {
    "name": "ipython",
    "version": 3
   },
   "file_extension": ".py",
   "mimetype": "text/x-python",
   "name": "python",
   "nbconvert_exporter": "python",
   "pygments_lexer": "ipython3",
   "version": "3.9.12"
  },
  "orig_nbformat": 4
 },
 "nbformat": 4,
 "nbformat_minor": 2
}
