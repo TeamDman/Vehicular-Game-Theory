{
 "cells": [
  {
   "cell_type": "code",
   "execution_count": 1,
   "metadata": {},
   "outputs": [],
   "source": [
    "import random\n",
    "vulnerabilities=[4,3,1,2,4]\n",
    "numComponents=len(vulnerabilities)\n",
    "numVulnerabilities=max(vulnerabilities)\n",
    "actions = [\n",
    "    {\n",
    "        \"attack\": {\n",
    "            \"comp\": comp,\n",
    "            \"vuln\": vuln,\n",
    "        },\n",
    "        \"attackerCost\": random.randint(1, 5),\n",
    "        \"defenderCost\": random.randint(1, 5),\n",
    "        \"attackerProb\": round(random.uniform(0.5, 0.98),2),\n",
    "        \"defenderProb\": round(random.uniform(0.5, 0.98),2),\n",
    "        \"severity\": random.randint(1,5),\n",
    "    }\n",
    "    for comp in range(0, numComponents)\n",
    "    for vuln in range(0, vulnerabilities[comp])\n",
    "]\n",
    "for v in actions:\n",
    "    v[\"risk\"] = round(v[\"severity\"] ** 2 * v[\"attackerProb\"] * (1-v[\"defenderProb\"]) * (v[\"defenderCost\"] / v[\"attackerCost\"]),2)"
   ]
  },
  {
   "cell_type": "code",
   "execution_count": 9,
   "metadata": {},
   "outputs": [],
   "source": [
    "import json\n",
    "with open(\"board.json\", \"w\") as f:\n",
    "    json.dump(actions, f, indent=4)"
   ]
  }
 ],
 "metadata": {
  "interpreter": {
   "hash": "ec7e34fbe3840ac2ca8ac929f69c3033a6174f02ffb302e6fd8fb9bdd6e80c7f"
  },
  "kernelspec": {
   "display_name": "Python 3.9.12 ('base')",
   "language": "python",
   "name": "python3"
  },
  "language_info": {
   "codemirror_mode": {
    "name": "ipython",
    "version": 3
   },
   "file_extension": ".py",
   "mimetype": "text/x-python",
   "name": "python",
   "nbconvert_exporter": "python",
   "pygments_lexer": "ipython3",
   "version": "3.9.12"
  },
  "orig_nbformat": 4
 },
 "nbformat": 4,
 "nbformat_minor": 2
}
