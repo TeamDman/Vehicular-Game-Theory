{
 "cells": [
  {
   "cell_type": "markdown",
   "metadata": {},
   "source": [
    "# Load data"
   ]
  },
  {
   "cell_type": "code",
   "execution_count": 37,
   "metadata": {},
   "outputs": [],
   "source": [
    "import scipy.io\n",
    "saved  = scipy.io.loadmat(\"../matlab/utility.mat\")\n",
    "attacker_utility = saved[\"attacker_utility\"]\n",
    "defender_utility = saved[\"defender_utility\"]"
   ]
  },
  {
   "cell_type": "markdown",
   "metadata": {},
   "source": [
    "# Configure numpy display options"
   ]
  },
  {
   "cell_type": "code",
   "execution_count": 38,
   "metadata": {},
   "outputs": [],
   "source": [
    "import numpy as np\n",
    "import scipy.optimize\n",
    "\n",
    "np.set_printoptions(\n",
    "    suppress=True,\n",
    "    linewidth=180\n",
    ")\n",
    "\n",
    "num_options = len(attacker_utility)"
   ]
  },
  {
   "cell_type": "markdown",
   "metadata": {},
   "source": [
    "# Setup solver for defender"
   ]
  },
  {
   "cell_type": "code",
   "execution_count": 39,
   "metadata": {},
   "outputs": [
    {
     "name": "stdout",
     "output_type": "stream",
     "text": [
      "[-1.  0.  0.  0.  0.  0.  0.  0.  0.  0.  0.  0.  0.  0.  0.  0.]\n"
     ]
    }
   ],
   "source": [
    "c = np.zeros(num_options+1)\n",
    "c[0] = -1\n",
    "print(c)"
   ]
  },
  {
   "cell_type": "code",
   "execution_count": 40,
   "metadata": {},
   "outputs": [
    {
     "name": "stdout",
     "output_type": "stream",
     "text": [
      "[[  1.       2.2041   7.11     7.11     7.11     2.2041   2.2041   2.2041   7.11     7.11     7.11   999.     999.     999.     999.     999.    ]\n",
      " [  1.      13.12     0.3936  13.12    13.12     0.3936  13.12    13.12     0.3936   0.3936  13.12   999.     999.     999.     999.     999.    ]\n",
      " [  1.       8.       8.       1.84     8.       8.       1.84     8.       1.84     8.       1.84   999.     999.     999.     999.     999.    ]\n",
      " [  1.       5.4      5.4      5.4      1.242    5.4      5.4      1.242    5.4      1.242    1.242  999.     999.     999.     999.     999.    ]\n",
      " [  1.      15.3241   7.5036  20.23    20.23     2.5977  15.3241  15.3241   7.5036   7.5036  20.23   999.     999.     999.     999.     999.    ]\n",
      " [  1.      10.2041  15.11     8.95    15.11    10.2041   4.0441  10.2041   8.95    15.11     8.95   999.     999.     999.     999.     999.    ]\n",
      " [  1.       7.6041  12.51    12.51     8.352    7.6041   7.6041   3.4461  12.51     8.352    8.352  999.     999.     999.     999.     999.    ]\n",
      " [  1.      21.12     8.3936  14.96    21.12     8.3936  14.96    21.12     2.2336   8.3936  14.96   999.     999.     999.     999.     999.    ]\n",
      " [  1.      18.52     5.7936  18.52    14.362    5.7936  18.52    14.362    5.7936   1.6356  14.362  999.     999.     999.     999.     999.    ]\n",
      " [  1.      13.4     13.4      7.24     9.242   13.4      7.24     9.242    7.24     9.242    3.082  999.     999.     999.     999.     999.    ]\n",
      " [  1.      23.3241  15.5036  22.07    28.23    10.5977  17.1641  23.3241   9.3436  15.5036  22.07   999.     999.     999.     999.     999.    ]\n",
      " [  1.      20.7241  12.9036  25.63    21.472    7.9977  20.7241  16.5661  12.9036   8.7456  21.472  999.     999.     999.     999.     999.    ]\n",
      " [  1.      15.6041  20.51    14.35    16.352   15.6041   9.4441  11.4461  14.35    16.352   10.192  999.     999.     999.     999.     999.    ]\n",
      " [  1.      26.52    13.7936  20.36    22.362   13.7936  20.36    22.362    7.6336   9.6356  16.202  999.     999.     999.     999.     999.    ]\n",
      " [  1.      28.7241  20.9036  27.47    29.472   15.9977  22.5641  24.5661  14.7436  16.7456  23.312  999.     999.     999.     999.     999.    ]]\n"
     ]
    }
   ],
   "source": [
    "A_ub = np.ones((num_options, num_options+1))\n",
    "A_ub[:,1:] = defender_utility*-1\n",
    "print(A_ub)"
   ]
  },
  {
   "cell_type": "code",
   "execution_count": 41,
   "metadata": {},
   "outputs": [
    {
     "name": "stdout",
     "output_type": "stream",
     "text": [
      "999.0\n",
      "0.39360000000000034\n"
     ]
    }
   ],
   "source": [
    "print(max(A_ub.flatten()))\n",
    "print(min(A_ub.flatten()))"
   ]
  },
  {
   "cell_type": "code",
   "execution_count": 42,
   "metadata": {},
   "outputs": [
    {
     "name": "stdout",
     "output_type": "stream",
     "text": [
      "[0. 0. 0. 0. 0. 0. 0. 0. 0. 0. 0. 0. 0. 0. 0.]\n"
     ]
    }
   ],
   "source": [
    "# b = np.zeros((num_options,1))\n",
    "b_ub = np.zeros(num_options)\n",
    "print(b_ub)"
   ]
  },
  {
   "cell_type": "code",
   "execution_count": 43,
   "metadata": {},
   "outputs": [
    {
     "name": "stdout",
     "output_type": "stream",
     "text": [
      "[[0. 1. 1. 1. 1. 1. 1. 1. 1. 1. 1. 1. 1. 1. 1. 1.]]\n"
     ]
    }
   ],
   "source": [
    "A_eq = np.ones((1, num_options+1))\n",
    "A_eq[0][0] = 0\n",
    "print(A_eq)"
   ]
  },
  {
   "cell_type": "code",
   "execution_count": 44,
   "metadata": {},
   "outputs": [
    {
     "name": "stdout",
     "output_type": "stream",
     "text": [
      "1\n"
     ]
    }
   ],
   "source": [
    "b_eq = 1\n",
    "print(b_eq)"
   ]
  },
  {
   "cell_type": "code",
   "execution_count": 45,
   "metadata": {},
   "outputs": [
    {
     "name": "stdout",
     "output_type": "stream",
     "text": [
      "[[-10000.  10000.]\n",
      " [     0.      1.]\n",
      " [     0.      1.]\n",
      " [     0.      1.]\n",
      " [     0.      1.]\n",
      " [     0.      1.]\n",
      " [     0.      1.]\n",
      " [     0.      1.]\n",
      " [     0.      1.]\n",
      " [     0.      1.]\n",
      " [     0.      1.]\n",
      " [     0.      1.]\n",
      " [     0.      1.]\n",
      " [     0.      1.]\n",
      " [     0.      1.]\n",
      " [     0.      1.]]\n"
     ]
    }
   ],
   "source": [
    "lb = np.zeros(num_options+1)\n",
    "lb[0] = -10000\n",
    "\n",
    "ub = np.ones(num_options+1)\n",
    "ub[0] = 10000\n",
    "\n",
    "bounds = np.asarray([lb, ub]).transpose()\n",
    "print(bounds)"
   ]
  },
  {
   "cell_type": "markdown",
   "metadata": {},
   "source": [
    "# Solve for defender"
   ]
  },
  {
   "cell_type": "code",
   "execution_count": 46,
   "metadata": {},
   "outputs": [
    {
     "name": "stdout",
     "output_type": "stream",
     "text": [
      "[-14.7436   0.       0.       0.       0.       0.       0.       0.       1.       0.       0.       0.       0.       0.       0.       0.    ]\n"
     ]
    }
   ],
   "source": [
    "# zz = []\n",
    "result = scipy.optimize.linprog(\n",
    "    c=c,\n",
    "    A_ub=A_ub,\n",
    "    b_ub=b_ub,\n",
    "    A_eq=A_eq,\n",
    "    b_eq=b_eq,\n",
    "    bounds=bounds,\n",
    "    method=\"simplex\",\n",
    "    # method=\"highs\",\n",
    "    # options={\"presolve\":False},\n",
    "    # callback = lambda x: zz.append(x.x)\n",
    ")\n",
    "if result.success:\n",
    "    print(result.x)\n",
    "else:\n",
    "    print(result)\n",
    "# todo: trim result to not include bad states? idk\n",
    "# todo: don't evaluate for bad states, cut from matrix I guess\n",
    "# this has -999 for first item because there are no states where defender doesn't have -999 in a row since the attacker can't make certain attacks"
   ]
  },
  {
   "cell_type": "markdown",
   "metadata": {},
   "source": [
    "# Evaluate defender results"
   ]
  },
  {
   "cell_type": "code",
   "execution_count": 47,
   "metadata": {},
   "outputs": [
    {
     "name": "stdout",
     "output_type": "stream",
     "text": [
      "[ -7.11    -0.3936  -1.84    -5.4     -7.5036  -8.95   -12.51    -2.2336  -5.7936  -7.24    -9.3436 -12.9036 -14.35    -7.6336 -14.7436] -117.94880000000097\n"
     ]
    }
   ],
   "source": [
    "# actual = defender_utility @ result.x[1:]\n",
    "actual = defender_utility @ result.x[1:]\n",
    "print(actual, sum(actual))"
   ]
  },
  {
   "cell_type": "code",
   "execution_count": 48,
   "metadata": {},
   "outputs": [
    {
     "name": "stdout",
     "output_type": "stream",
     "text": [
      "[ -7.11    -0.3936  -8.      -5.4     -7.5036 -15.11   -12.51    -8.3936  -5.7936 -13.4    -15.5036 -12.9036 -20.51   -13.7936 -20.9036] -167.2288\n"
     ]
    }
   ],
   "source": [
    "guess = defender_utility @ [0,1,0,0,0,0,0,0,0,0,0,0,0,0,0]\n",
    "print(guess, sum(guess))"
   ]
  },
  {
   "cell_type": "markdown",
   "metadata": {},
   "source": [
    "# Setup solver for attacker"
   ]
  },
  {
   "cell_type": "code",
   "execution_count": 49,
   "metadata": {},
   "outputs": [
    {
     "name": "stdout",
     "output_type": "stream",
     "text": [
      "[[  1.      -2.2041 -13.12    -8.      -5.4    -15.3241 -10.2041  -7.6041 -21.12   -18.52   -13.4    -23.3241 -20.7241 999.     999.     999.    ]\n",
      " [  1.      -7.11    -0.3936  -8.      -5.4     -7.5036 -15.11   -12.51    -8.3936  -5.7936 -13.4    -15.5036 -12.9036 999.     999.     999.    ]\n",
      " [  1.      -7.11   -13.12    -1.84    -5.4    -20.23    -8.95   -12.51   -14.96   -18.52    -7.24   -22.07   -25.63   999.     999.     999.    ]\n",
      " [  1.      -7.11   -13.12    -8.      -1.242  -20.23   -15.11    -8.352  -21.12   -14.362   -9.242  -28.23   -21.472  999.     999.     999.    ]\n",
      " [  1.      -2.2041  -0.3936  -8.      -5.4     -2.5977 -10.2041  -7.6041  -8.3936  -5.7936 -13.4    -10.5977  -7.9977 999.     999.     999.    ]\n",
      " [  1.      -2.2041 -13.12    -1.84    -5.4    -15.3241  -4.0441  -7.6041 -14.96   -18.52    -7.24   -17.1641 -20.7241 999.     999.     999.    ]\n",
      " [  1.      -2.2041 -13.12    -8.      -1.242  -15.3241 -10.2041  -3.4461 -21.12   -14.362   -9.242  -23.3241 -16.5661 999.     999.     999.    ]\n",
      " [  1.      -7.11    -0.3936  -1.84    -5.4     -7.5036  -8.95   -12.51    -2.2336  -5.7936  -7.24    -9.3436 -12.9036 999.     999.     999.    ]\n",
      " [  1.      -7.11    -0.3936  -8.      -1.242   -7.5036 -15.11    -8.352   -8.3936  -1.6356  -9.242  -15.5036  -8.7456 999.     999.     999.    ]\n",
      " [  1.      -7.11   -13.12    -1.84    -1.242  -20.23    -8.95    -8.352  -14.96   -14.362   -3.082  -22.07   -21.472  999.     999.     999.    ]\n",
      " [  1.      -2.2041  -0.3936  -1.84    -5.4     -2.5977  -4.0441  -7.6041  -2.2336  -5.7936  -7.24    -4.4377  -7.9977 999.     999.     999.    ]\n",
      " [  1.      -2.2041  -0.3936  -8.      -1.242   -2.5977 -10.2041  -3.4461  -8.3936  -1.6356  -9.242  -10.5977  -3.8397 999.     999.     999.    ]\n",
      " [  1.      -2.2041 -13.12    -1.84    -1.242  -15.3241  -4.0441  -3.4461 -14.96   -14.362   -3.082  -17.1641 -16.5661 999.     999.     999.    ]\n",
      " [  1.      -7.11    -0.3936  -1.84    -1.242   -7.5036  -8.95    -8.352   -2.2336  -1.6356  -3.082   -9.3436  -8.7456 999.     999.     999.    ]\n",
      " [  1.      -2.2041  -0.3936  -1.84    -1.242   -2.5977  -4.0441  -3.4461  -2.2336  -1.6356  -3.082   -4.4377  -3.8397 999.     999.     999.    ]]\n"
     ]
    }
   ],
   "source": [
    "A_ub = np.ones((num_options, num_options+1))\n",
    "A_ub[:,1:] = attacker_utility.transpose()*-1\n",
    "print(A_ub)"
   ]
  },
  {
   "cell_type": "markdown",
   "metadata": {},
   "source": [
    "# Solve for attacker"
   ]
  },
  {
   "cell_type": "code",
   "execution_count": 50,
   "metadata": {},
   "outputs": [
    {
     "name": "stdout",
     "output_type": "stream",
     "text": [
      "[4.4377 0.     0.     0.     0.     0.     0.     0.     0.     0.     0.     1.     0.     0.     0.     0.    ]\n"
     ]
    }
   ],
   "source": [
    "# zz = []\n",
    "result = scipy.optimize.linprog(\n",
    "    c=c,\n",
    "    A_ub=A_ub,\n",
    "    b_ub=b_ub,\n",
    "    A_eq=A_eq,\n",
    "    b_eq=b_eq,\n",
    "    bounds=bounds,\n",
    "    method=\"simplex\",\n",
    "    # method=\"highs\",\n",
    "    # options={\"presolve\":False},\n",
    "    # callback = lambda x: zz.append(x.x)\n",
    ")\n",
    "if result.success:\n",
    "    print(result.x)\n",
    "else:\n",
    "    print(result)\n",
    "# todo: trim result to not include bad states? idk\n",
    "# todo: don't evaluate for bad states, cut from matrix I guess\n",
    "# this has -999 for first item because there are no states where defender doesn't have -999 in a row since the attacker can't make certain attacks"
   ]
  },
  {
   "cell_type": "markdown",
   "metadata": {},
   "source": [
    "# Evaluate attacker results"
   ]
  },
  {
   "cell_type": "code",
   "execution_count": 51,
   "metadata": {},
   "outputs": [
    {
     "name": "stdout",
     "output_type": "stream",
     "text": [
      "[23.3241 15.5036 22.07   28.23   10.5977 17.1641 23.3241  9.3436 15.5036 22.07    4.4377 10.5977 17.1641  9.3436  4.4377] 233.11159999999964\n"
     ]
    }
   ],
   "source": [
    "# actual = defender_utility @ result.x[1:]\n",
    "actual = attacker_utility.transpose() @ result.x[1:]\n",
    "print(actual, sum(actual))"
   ]
  },
  {
   "cell_type": "code",
   "execution_count": 52,
   "metadata": {},
   "outputs": [
    {
     "name": "stdout",
     "output_type": "stream",
     "text": [
      "[13.12    0.3936 13.12   13.12    0.3936 13.12   13.12    0.3936  0.3936 13.12    0.3936  0.3936 13.12    0.3936  0.3936] 94.98880000000004\n"
     ]
    }
   ],
   "source": [
    "guess = attacker_utility.transpose() @ [0,1,0,0,0,0,0,0,0,0,0,0,0,0,0]\n",
    "print(guess, sum(guess))"
   ]
  }
 ],
 "metadata": {
  "interpreter": {
   "hash": "09b31e4957d63d79e1e76c5537c345194b9f565583fac53cbbb105281d72baf4"
  },
  "kernelspec": {
   "display_name": "Python 3.9.12 ('subgame')",
   "language": "python",
   "name": "python3"
  },
  "language_info": {
   "codemirror_mode": {
    "name": "ipython",
    "version": 3
   },
   "file_extension": ".py",
   "mimetype": "text/x-python",
   "name": "python",
   "nbconvert_exporter": "python",
   "pygments_lexer": "ipython3",
   "version": "3.9.12"
  },
  "orig_nbformat": 4
 },
 "nbformat": 4,
 "nbformat_minor": 2
}
