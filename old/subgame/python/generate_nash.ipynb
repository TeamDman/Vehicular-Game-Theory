{
 "cells": [
  {
   "cell_type": "markdown",
   "metadata": {},
   "source": [
    "# Load data"
   ]
  },
  {
   "cell_type": "code",
   "execution_count": 102,
   "metadata": {},
   "outputs": [],
   "source": [
    "import scipy.io\n",
    "saved  = scipy.io.loadmat(\"../matlab/utility.mat\")\n",
    "attacker_utility = saved[\"attacker_utility\"]\n",
    "defender_utility = saved[\"defender_utility\"]"
   ]
  },
  {
   "cell_type": "markdown",
   "metadata": {},
   "source": [
    "# Configure numpy display options"
   ]
  },
  {
   "cell_type": "code",
   "execution_count": 103,
   "metadata": {},
   "outputs": [],
   "source": [
    "import numpy as np\n",
    "import scipy.optimize\n",
    "\n",
    "np.set_printoptions(\n",
    "    suppress=True,\n",
    "    linewidth=180\n",
    ")\n",
    "\n",
    "num_options = len(attacker_utility)"
   ]
  },
  {
   "cell_type": "markdown",
   "metadata": {},
   "source": [
    "# Setup solver for defender"
   ]
  },
  {
   "cell_type": "code",
   "execution_count": 104,
   "metadata": {},
   "outputs": [
    {
     "name": "stdout",
     "output_type": "stream",
     "text": [
      "[-1.  0.  0. ...  0.  0.  0.]\n"
     ]
    }
   ],
   "source": [
    "c = np.zeros(num_options+1)\n",
    "c[0] = -1\n",
    "print(c)"
   ]
  },
  {
   "cell_type": "code",
   "execution_count": 105,
   "metadata": {},
   "outputs": [
    {
     "name": "stdout",
     "output_type": "stream",
     "text": [
      "[[  1.       3.5424   8.64   ... 999.     999.     999.    ]\n",
      " [  1.      11.68     1.168  ... 999.     999.     999.    ]\n",
      " [  1.       5.49     5.49   ... 999.     999.     999.    ]\n",
      " ...\n",
      " [  1.      35.2524  40.35   ... 999.     999.     999.    ]\n",
      " [  1.      43.39    32.878  ... 999.     999.     999.    ]\n",
      " [  1.      46.9324  41.518  ... 999.     999.     999.    ]]\n"
     ]
    }
   ],
   "source": [
    "A_ub = np.ones((num_options, num_options+1))\n",
    "A_ub[:,1:] = defender_utility*-1\n",
    "print(A_ub)"
   ]
  },
  {
   "cell_type": "code",
   "execution_count": 106,
   "metadata": {},
   "outputs": [
    {
     "name": "stdout",
     "output_type": "stream",
     "text": [
      "999.0\n",
      "0.05759999999999997\n"
     ]
    }
   ],
   "source": [
    "print(max(A_ub.flatten()))\n",
    "print(min(A_ub.flatten()))"
   ]
  },
  {
   "cell_type": "code",
   "execution_count": 107,
   "metadata": {},
   "outputs": [
    {
     "name": "stdout",
     "output_type": "stream",
     "text": [
      "[0. 0. 0. ... 0. 0. 0.]\n"
     ]
    }
   ],
   "source": [
    "# b = np.zeros((num_options,1))\n",
    "b_ub = np.zeros(num_options)\n",
    "print(b_ub)"
   ]
  },
  {
   "cell_type": "code",
   "execution_count": 108,
   "metadata": {},
   "outputs": [
    {
     "name": "stdout",
     "output_type": "stream",
     "text": [
      "[[0. 1. 1. ... 1. 1. 1.]]\n"
     ]
    }
   ],
   "source": [
    "A_eq = np.ones((1, num_options+1))\n",
    "A_eq[0][0] = 0\n",
    "print(A_eq)"
   ]
  },
  {
   "cell_type": "code",
   "execution_count": 109,
   "metadata": {},
   "outputs": [
    {
     "name": "stdout",
     "output_type": "stream",
     "text": [
      "1\n"
     ]
    }
   ],
   "source": [
    "b_eq = 1\n",
    "print(b_eq)"
   ]
  },
  {
   "cell_type": "code",
   "execution_count": 110,
   "metadata": {},
   "outputs": [
    {
     "name": "stdout",
     "output_type": "stream",
     "text": [
      "[[-10000.  10000.]\n",
      " [     0.      1.]\n",
      " [     0.      1.]\n",
      " ...\n",
      " [     0.      1.]\n",
      " [     0.      1.]\n",
      " [     0.      1.]]\n"
     ]
    }
   ],
   "source": [
    "lb = np.zeros(num_options+1)\n",
    "lb[0] = -10000\n",
    "\n",
    "ub = np.ones(num_options+1)\n",
    "ub[0] = 10000\n",
    "\n",
    "bounds = np.asarray([lb, ub]).transpose()\n",
    "print(bounds)"
   ]
  },
  {
   "cell_type": "markdown",
   "metadata": {},
   "source": [
    "# Solve for defender"
   ]
  },
  {
   "cell_type": "code",
   "execution_count": 111,
   "metadata": {},
   "outputs": [
    {
     "name": "stdout",
     "output_type": "stream",
     "text": [
      "[-21.2488   0.       0.     ...   0.       0.       0.    ]\n"
     ]
    }
   ],
   "source": [
    "# zz = []\n",
    "result = scipy.optimize.linprog(\n",
    "    c=c,\n",
    "    A_ub=A_ub,\n",
    "    b_ub=b_ub,\n",
    "    A_eq=A_eq,\n",
    "    b_eq=b_eq,\n",
    "    bounds=bounds,\n",
    "    method=\"highs\",\n",
    "    # method=\"highs\",\n",
    "    # options={\"presolve\":False},\n",
    "    # callback = lambda x: zz.append(x.x)\n",
    ")\n",
    "if result.success:\n",
    "    print(result.x)\n",
    "else:\n",
    "    print(result)\n",
    "# todo: trim result to not include bad states? idk\n",
    "# todo: don't evaluate for bad states, cut from matrix I guess\n",
    "# this has -999 for first item because there are no states where defender doesn't have -999 in a row since the attacker can't make certain attacks"
   ]
  },
  {
   "cell_type": "markdown",
   "metadata": {},
   "source": [
    "# Evaluate defender results"
   ]
  },
  {
   "cell_type": "code",
   "execution_count": 112,
   "metadata": {},
   "outputs": [],
   "source": [
    "example = np.asarray([\n",
    "    [1,2,3,4],\n",
    "    [5,6,7,8],\n",
    "    [9,10,11,12],\n",
    "    [13,14,15,16],\n",
    "])"
   ]
  },
  {
   "cell_type": "code",
   "execution_count": 113,
   "metadata": {},
   "outputs": [
    {
     "name": "stdout",
     "output_type": "stream",
     "text": [
      "[[ 1  4  9 16]\n",
      " [ 5 12 21 32]\n",
      " [ 9 20 33 48]\n",
      " [13 28 45 64]]\n"
     ]
    }
   ],
   "source": [
    "soln = np.asarray([1,2,3,4])\n",
    "print(example * soln)\n",
    "# mul = np.broadcast_to(soln, (len(soln),) + soln.shape)\n",
    "# print(mul, mul.sum(axis=0))"
   ]
  },
  {
   "cell_type": "code",
   "execution_count": 126,
   "metadata": {},
   "outputs": [
    {
     "name": "stdout",
     "output_type": "stream",
     "text": [
      "[4 9 6]\n",
      "9\n"
     ]
    }
   ],
   "source": [
    "temp = np.asarray([[1,9,3],[4,5,6]])\n",
    "print(temp.max(axis=0))\n",
    "print(temp.max())"
   ]
  },
  {
   "cell_type": "code",
   "execution_count": 127,
   "metadata": {},
   "outputs": [
    {
     "name": "stdout",
     "output_type": "stream",
     "text": [
      "min -21.2488 max -0.0\n"
     ]
    }
   ],
   "source": [
    "soln = result.x[1:]\n",
    "temp = (defender_utility * soln)\n",
    "print(\"min\", temp.min(), \"max\", temp.max())\n",
    "\n",
    "\n",
    "# # multiply each option by the probability that the other person takes the option\n",
    "# # then find the best one of those\n",
    "# actual = (defender_utility * soln).sum(axis=0)\n",
    "# #  @ result.x[1:]\n",
    "# print(actual, min(actual))\n",
    "\n",
    "# import scipy.io\n",
    "# scipy.io.savemat(\"../matlab/temp.mat\", {\n",
    "#     \"temp\": actual,\n",
    "# })"
   ]
  },
  {
   "cell_type": "code",
   "execution_count": 48,
   "metadata": {},
   "outputs": [
    {
     "name": "stdout",
     "output_type": "stream",
     "text": [
      "[ -7.11    -0.3936  -8.      -5.4     -7.5036 -15.11   -12.51    -8.3936  -5.7936 -13.4    -15.5036 -12.9036 -20.51   -13.7936 -20.9036] -167.2288\n"
     ]
    }
   ],
   "source": [
    "guess = defender_utility @ [0,1,0,0,0,0,0,0,0,0,0,0,0,0,0]\n",
    "print(guess, sum(guess))"
   ]
  },
  {
   "cell_type": "markdown",
   "metadata": {},
   "source": [
    "# Setup solver for attacker"
   ]
  },
  {
   "cell_type": "code",
   "execution_count": 49,
   "metadata": {},
   "outputs": [
    {
     "name": "stdout",
     "output_type": "stream",
     "text": [
      "[[  1.      -2.2041 -13.12    -8.      -5.4    -15.3241 -10.2041  -7.6041 -21.12   -18.52   -13.4    -23.3241 -20.7241 999.     999.     999.    ]\n",
      " [  1.      -7.11    -0.3936  -8.      -5.4     -7.5036 -15.11   -12.51    -8.3936  -5.7936 -13.4    -15.5036 -12.9036 999.     999.     999.    ]\n",
      " [  1.      -7.11   -13.12    -1.84    -5.4    -20.23    -8.95   -12.51   -14.96   -18.52    -7.24   -22.07   -25.63   999.     999.     999.    ]\n",
      " [  1.      -7.11   -13.12    -8.      -1.242  -20.23   -15.11    -8.352  -21.12   -14.362   -9.242  -28.23   -21.472  999.     999.     999.    ]\n",
      " [  1.      -2.2041  -0.3936  -8.      -5.4     -2.5977 -10.2041  -7.6041  -8.3936  -5.7936 -13.4    -10.5977  -7.9977 999.     999.     999.    ]\n",
      " [  1.      -2.2041 -13.12    -1.84    -5.4    -15.3241  -4.0441  -7.6041 -14.96   -18.52    -7.24   -17.1641 -20.7241 999.     999.     999.    ]\n",
      " [  1.      -2.2041 -13.12    -8.      -1.242  -15.3241 -10.2041  -3.4461 -21.12   -14.362   -9.242  -23.3241 -16.5661 999.     999.     999.    ]\n",
      " [  1.      -7.11    -0.3936  -1.84    -5.4     -7.5036  -8.95   -12.51    -2.2336  -5.7936  -7.24    -9.3436 -12.9036 999.     999.     999.    ]\n",
      " [  1.      -7.11    -0.3936  -8.      -1.242   -7.5036 -15.11    -8.352   -8.3936  -1.6356  -9.242  -15.5036  -8.7456 999.     999.     999.    ]\n",
      " [  1.      -7.11   -13.12    -1.84    -1.242  -20.23    -8.95    -8.352  -14.96   -14.362   -3.082  -22.07   -21.472  999.     999.     999.    ]\n",
      " [  1.      -2.2041  -0.3936  -1.84    -5.4     -2.5977  -4.0441  -7.6041  -2.2336  -5.7936  -7.24    -4.4377  -7.9977 999.     999.     999.    ]\n",
      " [  1.      -2.2041  -0.3936  -8.      -1.242   -2.5977 -10.2041  -3.4461  -8.3936  -1.6356  -9.242  -10.5977  -3.8397 999.     999.     999.    ]\n",
      " [  1.      -2.2041 -13.12    -1.84    -1.242  -15.3241  -4.0441  -3.4461 -14.96   -14.362   -3.082  -17.1641 -16.5661 999.     999.     999.    ]\n",
      " [  1.      -7.11    -0.3936  -1.84    -1.242   -7.5036  -8.95    -8.352   -2.2336  -1.6356  -3.082   -9.3436  -8.7456 999.     999.     999.    ]\n",
      " [  1.      -2.2041  -0.3936  -1.84    -1.242   -2.5977  -4.0441  -3.4461  -2.2336  -1.6356  -3.082   -4.4377  -3.8397 999.     999.     999.    ]]\n"
     ]
    }
   ],
   "source": [
    "A_ub = np.ones((num_options, num_options+1))\n",
    "A_ub[:,1:] = attacker_utility.transpose()*-1\n",
    "print(A_ub)"
   ]
  },
  {
   "cell_type": "markdown",
   "metadata": {},
   "source": [
    "# Solve for attacker"
   ]
  },
  {
   "cell_type": "code",
   "execution_count": 50,
   "metadata": {},
   "outputs": [
    {
     "name": "stdout",
     "output_type": "stream",
     "text": [
      "[4.4377 0.     0.     0.     0.     0.     0.     0.     0.     0.     0.     1.     0.     0.     0.     0.    ]\n"
     ]
    }
   ],
   "source": [
    "# zz = []\n",
    "result = scipy.optimize.linprog(\n",
    "    c=c,\n",
    "    A_ub=A_ub,\n",
    "    b_ub=b_ub,\n",
    "    A_eq=A_eq,\n",
    "    b_eq=b_eq,\n",
    "    bounds=bounds,\n",
    "    method=\"simplex\",\n",
    "    # method=\"highs\",\n",
    "    # options={\"presolve\":False},\n",
    "    # callback = lambda x: zz.append(x.x)\n",
    ")\n",
    "if result.success:\n",
    "    print(result.x)\n",
    "else:\n",
    "    print(result)\n",
    "# todo: trim result to not include bad states? idk\n",
    "# todo: don't evaluate for bad states, cut from matrix I guess\n",
    "# this has -999 for first item because there are no states where defender doesn't have -999 in a row since the attacker can't make certain attacks"
   ]
  },
  {
   "cell_type": "markdown",
   "metadata": {},
   "source": [
    "# Evaluate attacker results"
   ]
  },
  {
   "cell_type": "code",
   "execution_count": 129,
   "metadata": {},
   "outputs": [],
   "source": [
    "# actual = defender_utility @ result.x[1:]\n",
    "# todo: investigate\n",
    "# actual = (defender_utility * np.broadcast_to(soln, (len(soln),) + soln.shape).transpose()).sum(axis=0)\n",
    "# print(actual, max(actual))"
   ]
  },
  {
   "cell_type": "code",
   "execution_count": 130,
   "metadata": {},
   "outputs": [
    {
     "ename": "ValueError",
     "evalue": "matmul: Input operand 1 has a mismatch in its core dimension 0, with gufunc signature (n?,k),(k,m?)->(n?,m?) (size 15 is different from 1023)",
     "output_type": "error",
     "traceback": [
      "\u001b[1;31m---------------------------------------------------------------------------\u001b[0m",
      "\u001b[1;31mValueError\u001b[0m                                Traceback (most recent call last)",
      "\u001b[1;32md:\\Repos\\School\\Vehicular-Game-Theory\\subgame\\python\\generate_nash.ipynb Cell 27'\u001b[0m in \u001b[0;36m<cell line: 1>\u001b[1;34m()\u001b[0m\n\u001b[1;32m----> <a href='vscode-notebook-cell:/d%3A/Repos/School/Vehicular-Game-Theory/subgame/python/generate_nash.ipynb#ch0000023?line=0'>1</a>\u001b[0m guess \u001b[39m=\u001b[39m attacker_utility\u001b[39m.\u001b[39;49mtranspose() \u001b[39m@\u001b[39;49m [\u001b[39m0\u001b[39;49m,\u001b[39m1\u001b[39;49m,\u001b[39m0\u001b[39;49m,\u001b[39m0\u001b[39;49m,\u001b[39m0\u001b[39;49m,\u001b[39m0\u001b[39;49m,\u001b[39m0\u001b[39;49m,\u001b[39m0\u001b[39;49m,\u001b[39m0\u001b[39;49m,\u001b[39m0\u001b[39;49m,\u001b[39m0\u001b[39;49m,\u001b[39m0\u001b[39;49m,\u001b[39m0\u001b[39;49m,\u001b[39m0\u001b[39;49m,\u001b[39m0\u001b[39;49m]\n\u001b[0;32m      <a href='vscode-notebook-cell:/d%3A/Repos/School/Vehicular-Game-Theory/subgame/python/generate_nash.ipynb#ch0000023?line=1'>2</a>\u001b[0m \u001b[39mprint\u001b[39m(guess, \u001b[39msum\u001b[39m(guess))\n",
      "\u001b[1;31mValueError\u001b[0m: matmul: Input operand 1 has a mismatch in its core dimension 0, with gufunc signature (n?,k),(k,m?)->(n?,m?) (size 15 is different from 1023)"
     ]
    }
   ],
   "source": [
    "guess = attacker_utility.transpose() @ [0,1,0,0,0,0,0,0,0,0,0,0,0,0,0]\n",
    "print(guess, sum(guess))"
   ]
  }
 ],
 "metadata": {
  "interpreter": {
   "hash": "09b31e4957d63d79e1e76c5537c345194b9f565583fac53cbbb105281d72baf4"
  },
  "kernelspec": {
   "display_name": "Python 3.9.12 ('subgame')",
   "language": "python",
   "name": "python3"
  },
  "language_info": {
   "codemirror_mode": {
    "name": "ipython",
    "version": 3
   },
   "file_extension": ".py",
   "mimetype": "text/x-python",
   "name": "python",
   "nbconvert_exporter": "python",
   "pygments_lexer": "ipython3",
   "version": "3.9.12"
  },
  "orig_nbformat": 4
 },
 "nbformat": 4,
 "nbformat_minor": 2
}
