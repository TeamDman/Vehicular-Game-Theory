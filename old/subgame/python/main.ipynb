{
 "cells": [
  {
   "cell_type": "code",
   "execution_count": 1,
   "metadata": {},
   "outputs": [],
   "source": [
    "import numpy as np\n",
    "\n",
    "np.set_printoptions(\n",
    "    suppress=True,\n",
    "    linewidth=180\n",
    ")"
   ]
  },
  {
   "cell_type": "markdown",
   "metadata": {},
   "source": [
    "# Board generation"
   ]
  },
  {
   "cell_type": "code",
   "execution_count": 2,
   "metadata": {},
   "outputs": [],
   "source": [
    "def generate_board(num_actions):\n",
    "    import random\n",
    "    actions = [\n",
    "        {\n",
    "            \"id\": i,\n",
    "            \"attackerCost\": random.randint(1, 5),\n",
    "            \"defenderCost\": random.randint(1, 5),\n",
    "            \"attackerProb\": round(random.uniform(0.5, 0.98),2),\n",
    "            \"defenderProb\": round(random.uniform(0.5, 0.98),2),\n",
    "            \"severity\": random.randint(1,5),\n",
    "        }\n",
    "        for i in range(num_actions)\n",
    "    ]\n",
    "    for v in actions:\n",
    "        v[\"risk\"] = round(v[\"severity\"] ** 2 * v[\"attackerProb\"] * (1-v[\"defenderProb\"]) * (v[\"defenderCost\"] / v[\"attackerCost\"]),2)\n",
    "    return actions"
   ]
  },
  {
   "cell_type": "markdown",
   "metadata": {},
   "source": [
    "# Utility matrix generation"
   ]
  },
  {
   "cell_type": "code",
   "execution_count": 3,
   "metadata": {},
   "outputs": [],
   "source": [
    "def powerset(s):\n",
    "    import itertools\n",
    "    return itertools.chain.from_iterable(itertools.combinations(s, r) for r in range(1, len(s)+1))"
   ]
  },
  {
   "cell_type": "code",
   "execution_count": 4,
   "metadata": {},
   "outputs": [],
   "source": [
    "def get_utility(attackerTurn, defenderTurn):\n",
    "    defenderLabels = set([m[\"id\"] for m in defenderTurn])\n",
    "    return sum([\n",
    "        action[\"severity\"]**2 * action[\"attackerProb\"]\n",
    "        if action[\"id\"] not in defenderLabels else\n",
    "        action[\"severity\"]**2 * action[\"attackerProb\"] * (1-action[\"defenderProb\"])\n",
    "        for action in attackerTurn\n",
    "    ])"
   ]
  },
  {
   "cell_type": "code",
   "execution_count": 5,
   "metadata": {},
   "outputs": [],
   "source": [
    "def validate_cost(turn, cost_func, max_cost):\n",
    "    return sum([cost_func(m) for m in turn]) <= max_cost"
   ]
  },
  {
   "cell_type": "code",
   "execution_count": 6,
   "metadata": {},
   "outputs": [],
   "source": [
    "def generate_utility_matrices(\n",
    "    board,\n",
    "    attacker_cost_available,\n",
    "    defender_cost_available,\n",
    "    defender_knows_attacker_cost\n",
    "):\n",
    "    turns = list(powerset(board))\n",
    "    attacker_utility_matrix = np.zeros((len(turns),len(turns)))\n",
    "    defender_utility_matrix = np.zeros((len(turns),len(turns)))\n",
    "\n",
    "    for i, attacker_choice in enumerate(turns):\n",
    "        for j, defender_choice in enumerate(turns):\n",
    "            # if the attacker turn is invalid\n",
    "            if not validate_cost(attacker_choice, lambda x: x[\"attackerCost\"], attacker_cost_available):\n",
    "                # terrible attacker utility\n",
    "                attacker_utility_matrix[i][j] = -999\n",
    "                # if the defender turn is also invalid\n",
    "                if not validate_cost(defender_choice, lambda x: x[\"defenderCost\"], defender_cost_available):\n",
    "                    # terrible defender utility\n",
    "                    defender_utility_matrix[i][j] = -999\n",
    "                else:\n",
    "                    # utility is dependent on whether the defender knows the attacker max cost or not\n",
    "                    defender_utility_matrix[i][j] = -999 if defender_knows_attacker_cost else -get_utility(attacker_choice, defender_choice)\n",
    "            else:\n",
    "                # normal attacker utility otherwise\n",
    "                attacker_utility_matrix[i][j] = get_utility(attacker_choice, defender_choice)\n",
    "                # if defender turn is invalid\n",
    "                if not validate_cost(defender_choice, lambda x: x[\"defenderCost\"], defender_cost_available):\n",
    "                    # terrible defender utility\n",
    "                    defender_utility_matrix[i][j] = -999\n",
    "                else:\n",
    "                    # normal defender utility otherwise\n",
    "                    defender_utility_matrix[i][j] = -get_utility(attacker_choice, defender_choice)\n",
    "    # return attacker_utility_matrix.transpose(), defender_utility_matrix\n",
    "    return turns, attacker_utility_matrix.transpose(), defender_utility_matrix"
   ]
  },
  {
   "cell_type": "markdown",
   "metadata": {},
   "source": [
    "# Optimization problem solver"
   ]
  },
  {
   "cell_type": "code",
   "execution_count": 7,
   "metadata": {},
   "outputs": [],
   "source": [
    "def get_optimized_solution(util):\n",
    "    import scipy.optimize\n",
    "    \n",
    "    # print(util.shape)\n",
    "\n",
    "    c = np.zeros(util.shape[1]+1)\n",
    "    c[0] = -1\n",
    "\n",
    "    A_ub = np.ones((util.shape[0], util.shape[1] +1))\n",
    "    A_ub[:,1:] = util*-1\n",
    "    b_ub = np.zeros(util.shape[0])\n",
    "\n",
    "    A_eq = np.ones((1, util.shape[1] + 1))\n",
    "    A_eq[0][0] = 0\n",
    "    b_eq = 1\n",
    "\n",
    "    lb = np.zeros(util.shape[1]+1)\n",
    "    lb[0] = -10000\n",
    "    ub = np.ones(util.shape[1]+1)\n",
    "    ub[0] = 10000\n",
    "    bounds = np.asarray([lb, ub]).transpose()\n",
    "\n",
    "    result = scipy.optimize.linprog(\n",
    "        c=c,\n",
    "        A_ub=A_ub,\n",
    "        b_ub=b_ub,\n",
    "        A_eq=A_eq,\n",
    "        b_eq=b_eq,\n",
    "        bounds=bounds,\n",
    "        # options = {\n",
    "        #     \"tol\": 0.001\n",
    "        #     # \"autoscale\": True\n",
    "        # }\n",
    "        # method=\"simplex\",\n",
    "        method=\"highs\",\n",
    "        # method=\"interior-point\",\n",
    "        # options={\"presolve\":False},\n",
    "        # callback = lambda x: zz.append(x.x)\n",
    "    )\n",
    "    if result.success:\n",
    "        return result.x[1:]\n",
    "    else:\n",
    "        print(result)\n",
    "        raise Exception(\"Couldn't find solution\")\n",
    "\n",
    "# get_optimized_solution(attacker_utility)"
   ]
  },
  {
   "cell_type": "code",
   "execution_count": 8,
   "metadata": {},
   "outputs": [],
   "source": [
    "def get_average_solution(utility_matrix):\n",
    "    x = utility_matrix.shape[1]\n",
    "    return np.ones(x) / x"
   ]
  },
  {
   "cell_type": "code",
   "execution_count": 9,
   "metadata": {},
   "outputs": [],
   "source": [
    "def get_risk(action):\n",
    "    return action[\"severity\"]**2 * action[\"attackerProb\"] * (1-action[\"defenderProb\"]) * (action[\"defenderCost\"] / action[\"attackerCost\"])\n",
    "\n",
    "def get_knapsack_solution(turns):\n",
    "    risks = [sum([get_risk(x) for x in turn]) for turn in turns]\n",
    "    best = None\n",
    "    \n",
    "    for i, (risk, turn) in enumerate(zip(risks, turns)):\n",
    "        if best is None or risk > risks[best]:\n",
    "            best = i\n",
    "\n",
    "    rtn = np.zeros(len(turns))\n",
    "    rtn[best] = 1\n",
    "    return rtn\n",
    "\n",
    "# def get_knapsack_solution(board, costFunc):\n",
    "#     from ortools.algorithms import pywrapknapsack_solver\n",
    "#     y_defender_strat = []\n",
    "#     values = [x[\"severity\"]**2 * x[\"attackerProb\"] * (1-x[\"defenderProb\"]) * (x[\"defenderCost\"] / x[\"attackerCost\"]) for x in board]\n",
    "#     values = [int(x*1000) for x in values]\n",
    "\n",
    "#     weights = [x[\"defenderCost\"] for x in board]\n",
    "\n",
    "#     solver = pywrapknapsack_solver.KnapsackSolver(pywrapknapsack_solver.KnapsackSolver.KNAPSACK_MULTIDIMENSION_BRANCH_AND_BOUND_SOLVER, \"mySolver\")\n",
    "#     solver.Init(values, [weights], [10])\n",
    "#     y = solver.Solve()\n",
    "#     print(values)\n",
    "#     used = [x for x in range(len(values)) if solver.BestSolutionContains(x)]\n",
    "#     print(used)\n",
    "#     print ([x for i, x in enumerate(weights) if i in used])"
   ]
  },
  {
   "cell_type": "markdown",
   "metadata": {},
   "source": [
    "# Investigation"
   ]
  },
  {
   "cell_type": "code",
   "execution_count": 10,
   "metadata": {},
   "outputs": [
    {
     "name": "stderr",
     "output_type": "stream",
     "text": [
      "Enabling notebook extension jupyter-js-widgets/extension...\n",
      "      - Validating: ok\n"
     ]
    }
   ],
   "source": [
    "!jupyter nbextension enable --py widgetsnbextension"
   ]
  },
  {
   "cell_type": "code",
   "execution_count": 20,
   "metadata": {},
   "outputs": [
    {
     "name": "stdout",
     "output_type": "stream",
     "text": [
      "11 - found 2047 turns (4,190,209 for both)\n",
      "11 - found 2047 turns (4,190,209 for both)\n",
      "11 - found 2047 turns (4,190,209 for both)\n"
     ]
    }
   ],
   "source": [
    "from tqdm.notebook import tqdm\n",
    "\n",
    "x = []\n",
    "y_attacker_best = []\n",
    "y_attacker_average = []\n",
    "y_attacker_riskbased = []\n",
    "y_defender_best = []\n",
    "y_defender_average = []\n",
    "y_defender_riskbased = []\n",
    "# for i in tqdm(range(2,13)):\n",
    "for i in [11]*10:\n",
    "    print(i, end=\"\")\n",
    "    x.append(i)\n",
    "    board = generate_board(i)\n",
    "    all_turns, attacker_utility, defender_utility = generate_utility_matrices(\n",
    "        board=board,\n",
    "        attacker_cost_available=10,\n",
    "        defender_cost_available=10,\n",
    "        defender_knows_attacker_cost=False\n",
    "    )\n",
    "    print(f\" - found {len(all_turns)} turns ({len(all_turns) ** 2:,} for both)\")\n",
    "\n",
    "    \n",
    "    # import scipy.io\n",
    "    # scipy.io.savemat(\"../matlab/utility.mat\", {\n",
    "    #     \"attacker_utility\": attacker_utility,\n",
    "    #     \"defender_utility\": defender_utility,\n",
    "    # })\n",
    "    # break\n",
    "\n",
    "    ##########\n",
    "    # attacker\n",
    "    ##########\n",
    "    i_ignore = np.argwhere(np.all(attacker_utility[..., :] == -999, axis = 0))\n",
    "    utility = np.delete(attacker_utility, i_ignore, axis=1)\n",
    "    turns = np.delete(all_turns, i_ignore)\n",
    "    weights = get_optimized_solution(utility)\n",
    "    values = (utility * weights)\n",
    "    y_attacker_best.append(values.sum() / values.shape[1])\n",
    "\n",
    "    values = (utility * get_average_solution(utility))\n",
    "    y_attacker_average.append(values.sum() / values.shape[1])\n",
    "\n",
    "    values = (utility * get_knapsack_solution(turns))\n",
    "    y_attacker_riskbased.append(values.sum() / values.shape[1])\n",
    "\n",
    "    ##########\n",
    "    # defender\n",
    "    ##########\n",
    "    i_ignore = np.argwhere(np.all(defender_utility[..., :] == -999, axis = 0))\n",
    "    utility = np.delete(defender_utility, i_ignore, axis=1)\n",
    "    turns = np.delete(all_turns, i_ignore)\n",
    "    weights = get_optimized_solution(utility)\n",
    "    values = (utility * weights)\n",
    "    y_defender_best.append(values.sum() / values.shape[1])\n",
    "\n",
    "    values = (utility * get_average_solution(utility))\n",
    "    y_defender_average.append(values.sum() / values.shape[1])\n",
    "    \n",
    "    values = (utility * get_knapsack_solution(turns))\n",
    "    y_defender_riskbased.append(values.sum() / values.shape[1])"
   ]
  },
  {
   "cell_type": "code",
   "execution_count": 12,
   "metadata": {},
   "outputs": [
    {
     "data": {
      "text/plain": [
       "<matplotlib.legend.Legend at 0x1e8aad4d9d0>"
      ]
     },
     "execution_count": 12,
     "metadata": {},
     "output_type": "execute_result"
    },
    {
     "data": {
      "image/png": "[encoded data removed]",
      "text/plain": [
       "<Figure size 432x288 with 1 Axes>"
      ]
     },
     "metadata": {
      "needs_background": "light"
     },
     "output_type": "display_data"
    }
   ],
   "source": [
    "import matplotlib.pyplot as plt\n",
    "\n",
    "fig = plt.figure()\n",
    "\n",
    "ax = fig.add_subplot(1,1,1)\n",
    "ax.set_title(\"Attacker average utility\")\n",
    "ax.set_xlabel(\"Number of actions\")\n",
    "# ax.set_yscale(\"symlog\")\n",
    "# ax.yaxis.set_major_locator(plt.LogLocator(base=10, numticks=5))\n",
    "# ax.yaxis.set_major_locator(plt.MaxNLocator(100))\n",
    "line, = ax.plot(x, y_attacker_best, label=\"attacker_best\")\n",
    "line, = ax.plot(x, y_attacker_average, label=\"attacker_random\")\n",
    "line, = ax.plot(x, y_attacker_riskbased, label=\"attacker_riskbased\")\n",
    "ax.legend()\n"
   ]
  },
  {
   "cell_type": "code",
   "execution_count": 13,
   "metadata": {},
   "outputs": [
    {
     "data": {
      "text/plain": [
       "<matplotlib.legend.Legend at 0x1e8aae409d0>"
      ]
     },
     "execution_count": 13,
     "metadata": {},
     "output_type": "execute_result"
    },
    {
     "data": {
      "image/png": "[encoded data removed]",
      "text/plain": [
       "<Figure size 432x288 with 1 Axes>"
      ]
     },
     "metadata": {
      "needs_background": "light"
     },
     "output_type": "display_data"
    }
   ],
   "source": [
    "fig = plt.figure()\n",
    "\n",
    "ax = fig.add_subplot(1,1,1)\n",
    "ax.set_title(\"Defender average utility\")\n",
    "ax.set_xlabel(\"Number of actions\")\n",
    "# ax.set_yscale(\"symlog\")\n",
    "# ax.yaxis.set_major_locator(plt.LogLocator(base=10, numticks=5))\n",
    "# ax.yaxis.set_major_locator(plt.MaxNLocator(100))\n",
    "line, = ax.plot(x, y_defender_best, label=\"defender_best\")\n",
    "line, = ax.plot(x, y_defender_average, label=\"defender_random\")\n",
    "line, = ax.plot(x, y_defender_riskbased, label=\"defender_riskbased\")\n",
    "ax.legend()"
   ]
  },
  {
   "cell_type": "code",
   "execution_count": 14,
   "metadata": {},
   "outputs": [
    {
     "data": {
      "text/plain": [
       "[-6.519999999999999,\n",
       " -0.9278000000000001,\n",
       " -3.845816888888889,\n",
       " -12.81139479708637,\n",
       " -40.61568531855956,\n",
       " -24.12903238815375,\n",
       " -75.30163722448981,\n",
       " -41.64851573069044,\n",
       " -59.990291395072,\n",
       " -195.1544174059707,\n",
       " -269.5041300092336]"
      ]
     },
     "execution_count": 14,
     "metadata": {},
     "output_type": "execute_result"
    }
   ],
   "source": [
    "y_defender_average"
   ]
  }
 ],
 "metadata": {
  "interpreter": {
   "hash": "09b31e4957d63d79e1e76c5537c345194b9f565583fac53cbbb105281d72baf4"
  },
  "kernelspec": {
   "display_name": "Python 3.9.12 ('subgame')",
   "language": "python",
   "name": "python3"
  },
  "language_info": {
   "codemirror_mode": {
    "name": "ipython",
    "version": 3
   },
   "file_extension": ".py",
   "mimetype": "text/x-python",
   "name": "python",
   "nbconvert_exporter": "python",
   "pygments_lexer": "ipython3",
   "version": "3.9.12"
  },
  "orig_nbformat": 4
 },
 "nbformat": 4,
 "nbformat_minor": 2
}
