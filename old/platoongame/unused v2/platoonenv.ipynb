{
 "cells": [
  {
   "cell_type": "code",
   "execution_count": 1,
   "metadata": {},
   "outputs": [],
   "source": [
    "import platoonenv"
   ]
  },
  {
   "attachments": {},
   "cell_type": "markdown",
   "metadata": {},
   "source": [
    "# InOutEnv"
   ]
  },
  {
   "cell_type": "code",
   "execution_count": 3,
   "metadata": {},
   "outputs": [],
   "source": [
    "env = platoonenv.InOutEnv()"
   ]
  },
  {
   "cell_type": "code",
   "execution_count": 4,
   "metadata": {},
   "outputs": [
    {
     "name": "stdout",
     "output_type": "stream",
     "text": [
      "(array([0., 0., 0., 0., 0., 0., 0., 0., 0., 0.], dtype=float32), {})\n"
     ]
    }
   ],
   "source": [
    "obs = env.reset()\n",
    "print(obs)"
   ]
  },
  {
   "cell_type": "code",
   "execution_count": 5,
   "metadata": {},
   "outputs": [
    {
     "data": {
      "text/plain": [
       "(array([0., 0., 0., 0., 0., 0., 0., 0., 0., 0.], dtype=float32),\n",
       " -10.0,\n",
       " False,\n",
       " False,\n",
       " {})"
      ]
     },
     "execution_count": 5,
     "metadata": {},
     "output_type": "execute_result"
    }
   ],
   "source": [
    "env.step(0)"
   ]
  },
  {
   "cell_type": "code",
   "execution_count": 6,
   "metadata": {},
   "outputs": [
    {
     "data": {
      "text/plain": [
       "(array([1., 0., 0., 0., 0., 0., 0., 0., 0., 0.], dtype=float32),\n",
       " -9.0,\n",
       " False,\n",
       " False,\n",
       " {})"
      ]
     },
     "execution_count": 6,
     "metadata": {},
     "output_type": "execute_result"
    }
   ],
   "source": [
    "env.step(1)"
   ]
  },
  {
   "cell_type": "code",
   "execution_count": 7,
   "metadata": {},
   "outputs": [
    {
     "data": {
      "text/plain": [
       "(array([1., 1., 0., 0., 0., 0., 0., 0., 0., 0.], dtype=float32),\n",
       " -8.0,\n",
       " False,\n",
       " False,\n",
       " {})"
      ]
     },
     "execution_count": 7,
     "metadata": {},
     "output_type": "execute_result"
    }
   ],
   "source": [
    "env.step(2)"
   ]
  },
  {
   "cell_type": "code",
   "execution_count": 8,
   "metadata": {},
   "outputs": [
    {
     "data": {
      "text/plain": [
       "[(array([1., 1., 1., 0., 0., 0., 0., 0., 0., 0.], dtype=float32),\n",
       "  -7.0,\n",
       "  False,\n",
       "  False,\n",
       "  {}),\n",
       " (array([1., 1., 1., 1., 0., 0., 0., 0., 0., 0.], dtype=float32),\n",
       "  -6.0,\n",
       "  False,\n",
       "  False,\n",
       "  {}),\n",
       " (array([1., 1., 1., 1., 1., 0., 0., 0., 0., 0.], dtype=float32),\n",
       "  -5.0,\n",
       "  False,\n",
       "  False,\n",
       "  {}),\n",
       " (array([1., 1., 1., 1., 1., 1., 0., 0., 0., 0.], dtype=float32),\n",
       "  -4.0,\n",
       "  False,\n",
       "  False,\n",
       "  {}),\n",
       " (array([1., 1., 1., 1., 1., 1., 1., 0., 0., 0.], dtype=float32),\n",
       "  -3.0,\n",
       "  False,\n",
       "  False,\n",
       "  {}),\n",
       " (array([1., 1., 1., 1., 1., 1., 1., 1., 0., 0.], dtype=float32),\n",
       "  -2.0,\n",
       "  False,\n",
       "  False,\n",
       "  {}),\n",
       " (array([1., 1., 1., 1., 1., 1., 1., 1., 1., 0.], dtype=float32),\n",
       "  -1.0,\n",
       "  False,\n",
       "  False,\n",
       "  {}),\n",
       " (array([1., 1., 1., 1., 1., 1., 1., 1., 1., 1.], dtype=float32),\n",
       "  -0.0,\n",
       "  False,\n",
       "  False,\n",
       "  {})]"
      ]
     },
     "execution_count": 8,
     "metadata": {},
     "output_type": "execute_result"
    }
   ],
   "source": [
    "[env.step(i) for i in range(3,11)]"
   ]
  },
  {
   "cell_type": "code",
   "execution_count": 9,
   "metadata": {},
   "outputs": [
    {
     "data": {
      "text/plain": [
       "(array([1., 1., 1., 1., 1., 1., 1., 1., 1., 1.], dtype=float32),\n",
       " -0.0,\n",
       " False,\n",
       " False,\n",
       " {})"
      ]
     },
     "execution_count": 9,
     "metadata": {},
     "output_type": "execute_result"
    }
   ],
   "source": [
    "env.step(0)"
   ]
  },
  {
   "cell_type": "code",
   "execution_count": 21,
   "metadata": {},
   "outputs": [
    {
     "data": {
      "text/plain": [
       "-45.0"
      ]
     },
     "execution_count": 21,
     "metadata": {},
     "output_type": "execute_result"
    }
   ],
   "source": [
    "env.reset()\n",
    "sum([env.step(i)[1] for i in list(range(1,11)) + [0,0,0]])"
   ]
  }
 ],
 "metadata": {
  "kernelspec": {
   "display_name": "rllib",
   "language": "python",
   "name": "python3"
  },
  "language_info": {
   "codemirror_mode": {
    "name": "ipython",
    "version": 3
   },
   "file_extension": ".py",
   "mimetype": "text/x-python",
   "name": "python",
   "nbconvert_exporter": "python",
   "pygments_lexer": "ipython3",
   "version": "3.8.15 (default, Nov 24 2022, 14:38:14) [MSC v.1916 64 bit (AMD64)]"
  },
  "orig_nbformat": 4,
  "vscode": {
   "interpreter": {
    "hash": "524f818cd743d7abf57cb48d668c781df3b45c3f425c53d80f3bb0fcd0df7a52"
   }
  }
 },
 "nbformat": 4,
 "nbformat_minor": 2
}
