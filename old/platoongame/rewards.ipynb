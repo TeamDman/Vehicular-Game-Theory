{
 "cells": [
  {
   "cell_type": "code",
   "execution_count": 1,
   "metadata": {},
   "outputs": [
    {
     "name": "stdout",
     "output_type": "stream",
     "text": [
      "Platoon-v6 \n",
      "------------------\n",
      "reward_threshold None\n",
      "max_episode_steps None\n"
     ]
    }
   ],
   "source": [
    "# env config\n",
    "import gymnasium as gym\n",
    "import platoonenv\n",
    "\n",
    "env_name = \"Platoon-v6\"\n",
    "env_config=dict(\n",
    "    num_vehicles=10,\n",
    "    steps_before_truncation=200,\n",
    "    cycle_interval=2,\n",
    "    attack_interval=1,\n",
    "    cycle_num=1,\n",
    ")\n",
    "env = gym.make(\n",
    "    id=env_name,\n",
    "    render_mode=\"canvas\",\n",
    "    env_config=env_config,\n",
    ")\n",
    "\n",
    "print(env_name,\"\\n------------------\")\n",
    "print(\"reward_threshold\", env.spec.reward_threshold)\n",
    "print(\"max_episode_steps\", env.spec.max_episode_steps)"
   ]
  },
  {
   "cell_type": "code",
   "execution_count": 2,
   "metadata": {},
   "outputs": [],
   "source": [
    "obs, info = env.reset()"
   ]
  },
  {
   "cell_type": "code",
   "execution_count": 3,
   "metadata": {},
   "outputs": [
    {
     "data": {
      "text/plain": [
       "(array([[0., 1., 1., 1.],\n",
       "        [0., 2., 0., 1.],\n",
       "        [1., 1., 0., 1.],\n",
       "        [1., 1., 1., 2.],\n",
       "        [0., 0., 1., 1.],\n",
       "        [1., 0., 0., 1.],\n",
       "        [1., 1., 0., 1.],\n",
       "        [0., 0., 1., 1.],\n",
       "        [0., 0., 1., 0.],\n",
       "        [1., 1., 0., 0.]], dtype=float32),\n",
       " array([[0.        , 0.7895544 , 0.23194028, 0.9567188 ],\n",
       "        [0.        , 0.5286752 , 0.        , 0.4419493 ],\n",
       "        [0.31305972, 0.68128777, 0.        , 0.6748563 ],\n",
       "        [0.7879307 , 0.58099407, 0.5893243 , 0.9255205 ],\n",
       "        [0.        , 0.        , 0.99215204, 0.94174916],\n",
       "        [0.7566605 , 0.        , 0.        , 0.30093968],\n",
       "        [0.3869295 , 0.5047701 , 0.        , 0.7460579 ],\n",
       "        [0.        , 0.        , 0.32757336, 0.5588772 ],\n",
       "        [0.        , 0.        , 0.04122703, 0.        ],\n",
       "        [0.77553153, 0.0482937 , 0.        , 0.        ]], dtype=float32))"
      ]
     },
     "execution_count": 3,
     "metadata": {},
     "output_type": "execute_result"
    }
   ],
   "source": [
    "info[\"severities\"], info[\"probs\"]"
   ]
  },
  {
   "cell_type": "code",
   "execution_count": 5,
   "metadata": {},
   "outputs": [
    {
     "name": "stdout",
     "output_type": "stream",
     "text": [
      "[[0.         0.7895544  0.23194028 0.9567188 ]\n",
      " [0.         1.0573504  0.         0.4419493 ]\n",
      " [0.31305972 0.68128777 0.         0.6748563 ]\n",
      " [0.7879307  0.58099407 0.5893243  1.851041  ]\n",
      " [0.         0.         0.99215204 0.94174916]\n",
      " [0.7566605  0.         0.         0.30093968]\n",
      " [0.3869295  0.5047701  0.         0.7460579 ]\n",
      " [0.         0.         0.32757336 0.5588772 ]\n",
      " [0.         0.         0.04122703 0.        ]\n",
      " [0.77553153 0.0482937  0.         0.        ]]\n",
      "[1.9782135  1.4992998  1.6692038  3.80929    1.9339012  1.0576003\n",
      " 1.6377575  0.8864506  0.04122703 0.82382524]\n"
     ]
    }
   ],
   "source": [
    "risk = (info[\"severities\"] * info[\"probs\"])\n",
    "print(risk)\n",
    "print(risk.sum(axis=1))"
   ]
  },
  {
   "cell_type": "code",
   "execution_count": 9,
   "metadata": {},
   "outputs": [
    {
     "data": {
      "text/plain": [
       "array([], shape=(0, 4), dtype=float32)"
      ]
     },
     "execution_count": 9,
     "metadata": {},
     "output_type": "execute_result"
    }
   ],
   "source": [
    "risk[info[\"members\"] == 1]"
   ]
  }
 ],
 "metadata": {
  "kernelspec": {
   "display_name": "rllib",
   "language": "python",
   "name": "python3"
  },
  "language_info": {
   "codemirror_mode": {
    "name": "ipython",
    "version": 3
   },
   "file_extension": ".py",
   "mimetype": "text/x-python",
   "name": "python",
   "nbconvert_exporter": "python",
   "pygments_lexer": "ipython3",
   "version": "3.8.15"
  },
  "orig_nbformat": 4,
  "vscode": {
   "interpreter": {
    "hash": "524f818cd743d7abf57cb48d668c781df3b45c3f425c53d80f3bb0fcd0df7a52"
   }
  }
 },
 "nbformat": 4,
 "nbformat_minor": 2
}
