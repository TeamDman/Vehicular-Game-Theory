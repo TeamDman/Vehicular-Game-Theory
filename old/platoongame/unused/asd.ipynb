{
 "cells": [
  {
   "cell_type": "code",
   "execution_count": 18,
   "metadata": {},
   "outputs": [
    {
     "name": "stdout",
     "output_type": "stream",
     "text": [
      "The autoreload extension is already loaded. To reload it, use:\n",
      "  %reload_ext autoreload\n"
     ]
    }
   ],
   "source": [
    "%load_ext autoreload\n",
    "%autoreload 2"
   ]
  },
  {
   "cell_type": "code",
   "execution_count": 19,
   "metadata": {},
   "outputs": [
    {
     "name": "stdout",
     "output_type": "stream",
     "text": [
      "frozenset({1, 2, 3}) frozenset({1, 2, 3, 6})\n",
      "True\n"
     ]
    }
   ],
   "source": [
    "a = frozenset([1,2,3])\n",
    "b = frozenset(list(a) + [6])\n",
    "print(a,b)\n",
    "print(1 in a)"
   ]
  },
  {
   "cell_type": "code",
   "execution_count": 1,
   "metadata": {},
   "outputs": [
    {
     "name": "stdout",
     "output_type": "stream",
     "text": [
      "Vehicle(risk=5.78, in_platoon=False, compromises=frozenset(), known_compromises=frozenset(), defender_choices=frozenset({Vulnerability(id=5, attackerCost=1, defenderCost=1, attackerProb=0.9, defenderProb=0.85, severity=3), Vulnerability(id=4, attackerCost=2, defenderCost=5, attackerProb=0.69, defenderProb=0.85, severity=3), Vulnerability(id=2, attackerCost=4, defenderCost=4, attackerProb=0.2, defenderProb=0.97, severity=5)}), attacker_choices=frozenset({Vulnerability(id=3, attackerCost=5, defenderCost=1, attackerProb=0.15, defenderProb=0.85, severity=4), Vulnerability(id=5, attackerCost=1, defenderCost=1, attackerProb=0.9, defenderProb=0.85, severity=3), Vulnerability(id=0, attackerCost=4, defenderCost=3, attackerProb=0.54, defenderProb=0.85, severity=2)}))\n",
      "Vehicle(risk=5.78, in_platoon=False, compromises=frozenset(), known_compromises=frozenset(), defender_choices=frozenset({Vulnerability(id=5, attackerCost=1, defenderCost=1, attackerProb=0.9, defenderProb=0.85, severity=3), Vulnerability(id=4, attackerCost=2, defenderCost=5, attackerProb=0.69, defenderProb=0.85, severity=3), Vulnerability(id=2, attackerCost=4, defenderCost=4, attackerProb=0.2, defenderProb=0.97, severity=5)}), attacker_choices=frozenset({Vulnerability(id=3, attackerCost=5, defenderCost=1, attackerProb=0.15, defenderProb=0.85, severity=4), Vulnerability(id=5, attackerCost=1, defenderCost=1, attackerProb=0.9, defenderProb=0.85, severity=3), Vulnerability(id=0, attackerCost=4, defenderCost=3, attackerProb=0.54, defenderProb=0.85, severity=2)}))\n"
     ]
    }
   ],
   "source": [
    "import vehicles\n",
    "x = vehicles.JsonVehicleProvider(\"../subgame/python/solutions.json\")\n",
    "print(x.next())"
   ]
  },
  {
   "cell_type": "code",
   "execution_count": 6,
   "metadata": {},
   "outputs": [
    {
     "name": "stdout",
     "output_type": "stream",
     "text": [
      "15\n",
      "zee15\n"
     ]
    },
    {
     "data": {
      "text/plain": [
       "4"
      ]
     },
     "execution_count": 6,
     "metadata": {},
     "output_type": "execute_result"
    }
   ],
   "source": [
    "class Animal:\n",
    "    def __init__(self, wag) -> None:\n",
    "        self.wag = wag\n",
    "        print(wag)\n",
    "\n",
    "    def bark(self):\n",
    "        print(\"hi\")\n",
    "        return 3\n",
    "\n",
    "class Bean:\n",
    "    def __init__(self, wag) -> None:\n",
    "        self.wag = wag + 10\n",
    "        print(wag + 10)\n",
    "\n",
    "    def bark(self): \n",
    "        print(\"zee\" + str(self.wag))\n",
    "        return 4\n",
    "\n",
    "class zed(Bean, Animal):\n",
    "    pass\n",
    "\n",
    "zed(5).bark()"
   ]
  },
  {
   "cell_type": "code",
   "execution_count": 4,
   "metadata": {},
   "outputs": [
    {
     "name": "stdout",
     "output_type": "stream",
     "text": [
      "5\n",
      "[1, 2, 3, 4, 99]\n"
     ]
    }
   ],
   "source": [
    "a = [1,2,3,4,5]\n",
    "i = 4\n",
    "print(a[i])\n",
    "print(a[:i] + [99] + a[i+1:])"
   ]
  },
  {
   "cell_type": "code",
   "execution_count": 2,
   "metadata": {},
   "outputs": [
    {
     "data": {
      "text/plain": [
       "{3}"
      ]
     },
     "execution_count": 2,
     "metadata": {},
     "output_type": "execute_result"
    }
   ],
   "source": [
    "set([1,2,3]).intersection(set([3,4,5]))"
   ]
  },
  {
   "cell_type": "code",
   "execution_count": 1,
   "metadata": {},
   "outputs": [
    {
     "name": "stdout",
     "output_type": "stream",
     "text": [
      "356 ms ± 22.2 ms per loop (mean ± std. dev. of 7 runs, 1 loop each)\n"
     ]
    }
   ],
   "source": [
    "%timeit len([1 for x in range(10000000)])"
   ]
  },
  {
   "cell_type": "code",
   "execution_count": 2,
   "metadata": {},
   "outputs": [
    {
     "name": "stdout",
     "output_type": "stream",
     "text": [
      "464 ms ± 2.25 ms per loop (mean ± std. dev. of 7 runs, 1 loop each)\n"
     ]
    }
   ],
   "source": [
    "%timeit sum(1 for x in range(10000000))"
   ]
  },
  {
   "cell_type": "code",
   "execution_count": 1,
   "metadata": {},
   "outputs": [
    {
     "data": {
      "text/plain": [
       "array([1, 1, 1, 1, 1, 1, 1, 1, 1, 1, 1, 1, 1, 1, 1, 1, 1, 1, 1, 1, 1, 1,\n",
       "       1, 1, 1, 1, 1, 1, 1, 1, 1, 1, 1, 1, 1, 1, 1, 1, 1, 1, 1, 1, 1, 1,\n",
       "       1, 1, 1, 1, 1, 1, 1, 1, 1, 1, 1, 1, 1, 1, 1, 1, 1, 1, 1, 1, 1, 1,\n",
       "       1, 1, 1, 1, 1, 1, 1, 1, 1, 1, 1, 1, 1, 1, 1, 1, 1, 1, 1, 1, 1, 1,\n",
       "       1, 1, 1, 1, 1, 1, 1, 1, 1, 1, 1])"
      ]
     },
     "execution_count": 1,
     "metadata": {},
     "output_type": "execute_result"
    }
   ],
   "source": [
    "import numpy as np\n",
    "np.diff(list(range(100)))"
   ]
  },
  {
   "cell_type": "code",
   "execution_count": 2,
   "metadata": {},
   "outputs": [
    {
     "data": {
      "text/plain": [
       "[]"
      ]
     },
     "execution_count": 2,
     "metadata": {},
     "output_type": "execute_result"
    }
   ],
   "source": [
    "import random\n",
    "random.sample([1,2,3,4,5], 0)"
   ]
  },
  {
   "cell_type": "code",
   "execution_count": 16,
   "metadata": {},
   "outputs": [
    {
     "name": "stdout",
     "output_type": "stream",
     "text": [
      "tensor([[1., 1., 1., 1., 1., 1., 1., 1., 1.],\n",
      "        [1., 1., 1., 1., 1., 1., 1., 1., 1.],\n",
      "        [1., 1., 1., 1., 1., 1., 1., 1., 1.]])\n",
      "tensor([[2., 2., 2., 2., 2., 2., 2., 2., 2., 2., 2., 2., 2., 2., 2., 2.],\n",
      "        [2., 2., 2., 2., 2., 2., 2., 2., 2., 2., 2., 2., 2., 2., 2., 2.],\n",
      "        [2., 2., 2., 2., 2., 2., 2., 2., 2., 2., 2., 2., 2., 2., 2., 2.]])\n",
      "tensor([[1., 1., 1., 1., 1., 1., 1., 1., 1., 2., 2., 2., 2., 2., 2., 2., 2., 2.,\n",
      "         2., 2., 2., 2., 2., 2., 2.],\n",
      "        [1., 1., 1., 1., 1., 1., 1., 1., 1., 2., 2., 2., 2., 2., 2., 2., 2., 2.,\n",
      "         2., 2., 2., 2., 2., 2., 2.],\n",
      "        [1., 1., 1., 1., 1., 1., 1., 1., 1., 2., 2., 2., 2., 2., 2., 2., 2., 2.,\n",
      "         2., 2., 2., 2., 2., 2., 2.]])\n"
     ]
    }
   ],
   "source": [
    "import torch\n",
    "a = torch.ones((3,3,3)).flatten(start_dim=1)\n",
    "b = (torch.ones((3,4,4)) * 2).flatten(start_dim=1)\n",
    "print(a)\n",
    "print(b)\n",
    "c = torch.cat((a,b), dim=1)\n",
    "print(c)"
   ]
  },
  {
   "cell_type": "code",
   "execution_count": 27,
   "metadata": {},
   "outputs": [
    {
     "name": "stdout",
     "output_type": "stream",
     "text": [
      "[('a', 'b')]\n",
      "(('a',), ('b',))\n",
      "\n",
      "[('a', 'b')]\n",
      "[('a',), ('b',)]\n",
      "\n",
      "[('a', 'b')]\n",
      "(['a'], ['b'])\n"
     ]
    }
   ],
   "source": [
    "a = [(\"a\",\"b\"),(\"a\",\"b\"),(\"a\",\"b\")]\n",
    "a = [(\"a\",\"b\")]\n",
    "\n",
    "print(a)\n",
    "a = tuple(zip(*a))\n",
    "print(a)\n",
    "print()\n",
    "\n",
    "a = [(\"a\",\"b\")]\n",
    "\n",
    "print(a)\n",
    "a = list(zip(*a))\n",
    "print(a)\n",
    "print()\n",
    "\n",
    "a = [(\"a\",\"b\")]\n",
    "print(a)\n",
    "a = tuple(map(list, zip(*a)))\n",
    "print(a)\n"
   ]
  },
  {
   "cell_type": "code",
   "execution_count": 1,
   "metadata": {},
   "outputs": [
    {
     "name": "stdout",
     "output_type": "stream",
     "text": [
      "got 23 and 545\n"
     ]
    }
   ],
   "source": [
    "def asd(a, b):\n",
    "    print(\"got\",a,\"and\",b)\n",
    "asd(*(23,545))"
   ]
  },
  {
   "cell_type": "code",
   "execution_count": 3,
   "metadata": {},
   "outputs": [
    {
     "name": "stdout",
     "output_type": "stream",
     "text": [
      "a=321 b=55 c=87 d=99\n"
     ]
    }
   ],
   "source": [
    "def dsa(a,b,c,d):\n",
    "    print(f\"a={a} b={b} c={c} d={d}\")\n",
    "dsa(*(321,55),*(87,99))"
   ]
  },
  {
   "cell_type": "code",
   "execution_count": 5,
   "metadata": {},
   "outputs": [],
   "source": [
    "from typing import List\n",
    "\n",
    "\n",
    "a: List[int] = []\n",
    "a=False"
   ]
  },
  {
   "cell_type": "code",
   "execution_count": 7,
   "metadata": {},
   "outputs": [
    {
     "name": "stdout",
     "output_type": "stream",
     "text": [
      "torch.Size([5, 3])\n",
      "torch.Size([3, 5, 3])\n"
     ]
    }
   ],
   "source": [
    "import torch\n",
    "\n",
    "a = torch.zeros((5,3))\n",
    "b = torch.stack([a,a,a])\n",
    "print(a.shape)\n",
    "print(b.shape)"
   ]
  },
  {
   "cell_type": "code",
   "execution_count": 9,
   "metadata": {},
   "outputs": [
    {
     "data": {
      "text/plain": [
       "[(1, 1, 1, 1, 1), (2, 2, 2, 2, 2)]"
      ]
     },
     "execution_count": 9,
     "metadata": {},
     "output_type": "execute_result"
    }
   ],
   "source": [
    "list(zip(*[(1,2) for _ in range(5)]))"
   ]
  },
  {
   "cell_type": "code",
   "execution_count": 16,
   "metadata": {},
   "outputs": [
    {
     "data": {
      "text/plain": [
       "(0, 1, 2, 3, 4)"
      ]
     },
     "execution_count": 16,
     "metadata": {},
     "output_type": "execute_result"
    }
   ],
   "source": [
    "tuple(v for v in range(5))"
   ]
  },
  {
   "cell_type": "code",
   "execution_count": 19,
   "metadata": {},
   "outputs": [
    {
     "ename": "TypeError",
     "evalue": "__init__() missing 1 required positional argument: 'vehicles'",
     "output_type": "error",
     "traceback": [
      "\u001b[1;31m---------------------------------------------------------------------------\u001b[0m",
      "\u001b[1;31mTypeError\u001b[0m                                 Traceback (most recent call last)",
      "\u001b[1;32m~\\AppData\\Local\\Temp/ipykernel_21080/2860354565.py\u001b[0m in \u001b[0;36m<module>\u001b[1;34m\u001b[0m\n\u001b[0;32m      1\u001b[0m \u001b[1;32mfrom\u001b[0m \u001b[0mgame\u001b[0m \u001b[1;32mimport\u001b[0m \u001b[0mStateTensors\u001b[0m\u001b[1;33m\u001b[0m\u001b[1;33m\u001b[0m\u001b[0m\n\u001b[1;32m----> 2\u001b[1;33m \u001b[0mStateTensors\u001b[0m\u001b[1;33m(\u001b[0m\u001b[0mtorch\u001b[0m\u001b[1;33m.\u001b[0m\u001b[0mzeros\u001b[0m\u001b[1;33m(\u001b[0m\u001b[1;33m(\u001b[0m\u001b[1;36m3\u001b[0m\u001b[1;33m,\u001b[0m\u001b[1;33m)\u001b[0m\u001b[1;33m)\u001b[0m \u001b[1;32mfor\u001b[0m \u001b[0m_\u001b[0m \u001b[1;32min\u001b[0m \u001b[0mrange\u001b[0m\u001b[1;33m(\u001b[0m\u001b[1;36m2\u001b[0m\u001b[1;33m)\u001b[0m\u001b[1;33m)\u001b[0m\u001b[1;33m\u001b[0m\u001b[1;33m\u001b[0m\u001b[0m\n\u001b[0m",
      "\u001b[1;31mTypeError\u001b[0m: __init__() missing 1 required positional argument: 'vehicles'"
     ]
    }
   ],
   "source": [
    "from game import StateTensors\n",
    "StateTensors(torch.zeros((3,)) for _ in range(2))"
   ]
  },
  {
   "cell_type": "code",
   "execution_count": 24,
   "metadata": {},
   "outputs": [
    {
     "data": {
      "text/plain": [
       "[(tensor([0., 0., 0., 0., 0.]),\n",
       "  tensor([0., 0., 0., 0., 0.]),\n",
       "  tensor([0., 0., 0., 0., 0.]),\n",
       "  tensor([0., 0., 0., 0., 0.]),\n",
       "  tensor([0., 0., 0., 0., 0.]),\n",
       "  tensor([0., 0., 0., 0., 0.]),\n",
       "  tensor([0., 0., 0., 0., 0.]),\n",
       "  tensor([0., 0., 0., 0., 0.])),\n",
       " (tensor([0., 0., 0., 0.]),\n",
       "  tensor([0., 0., 0., 0.]),\n",
       "  tensor([0., 0., 0., 0.]),\n",
       "  tensor([0., 0., 0., 0.]),\n",
       "  tensor([0., 0., 0., 0.]),\n",
       "  tensor([0., 0., 0., 0.]),\n",
       "  tensor([0., 0., 0., 0.]),\n",
       "  tensor([0., 0., 0., 0.]))]"
      ]
     },
     "execution_count": 24,
     "metadata": {},
     "output_type": "execute_result"
    }
   ],
   "source": [
    "a=StateTensors(torch.zeros(4), torch.zeros(5))\n",
    "b=[a,a,a,a,a,a,a,a]\n",
    "list(zip(*[(v.vehicles, v.vulnerabilities) for v in b]))"
   ]
  },
  {
   "cell_type": "code",
   "execution_count": 31,
   "metadata": {},
   "outputs": [
    {
     "data": {
      "text/plain": [
       "tensor([0, 1, 2, 3, 4])"
      ]
     },
     "execution_count": 31,
     "metadata": {},
     "output_type": "execute_result"
    }
   ],
   "source": [
    "import torch\n",
    "torch.as_tensor(list(x for x in range(5)))"
   ]
  },
  {
   "cell_type": "code",
   "execution_count": 35,
   "metadata": {},
   "outputs": [
    {
     "name": "stdout",
     "output_type": "stream",
     "text": [
      "tensor([ 1, -2, -2,  4])\n"
     ]
    }
   ],
   "source": [
    "a = torch.as_tensor([1,2,3,4])\n",
    "r = torch.as_tensor([3,4,5,6])\n",
    "b = [False,True,True,False]\n",
    "a[b] += -1 * r[b]\n",
    "print(a)"
   ]
  },
  {
   "cell_type": "code",
   "execution_count": 41,
   "metadata": {},
   "outputs": [
    {
     "name": "stdout",
     "output_type": "stream",
     "text": [
      "tensor([ 0,  1,  2, -1,  4, -1,  6, -1,  8,  9])\n"
     ]
    }
   ],
   "source": [
    "a = torch.as_tensor(list([i for i in range(10)]))\n",
    "b = frozenset([3,5,7])\n",
    "a[list(b)] = -1\n",
    "print(a)\n"
   ]
  },
  {
   "cell_type": "code",
   "execution_count": 42,
   "metadata": {},
   "outputs": [
    {
     "data": {
      "text/plain": [
       "True"
      ]
     },
     "execution_count": 42,
     "metadata": {},
     "output_type": "execute_result"
    }
   ],
   "source": [
    "a = [1,2,3,4,5]\n",
    "3 in a"
   ]
  },
  {
   "cell_type": "code",
   "execution_count": 43,
   "metadata": {},
   "outputs": [
    {
     "ename": "NameError",
     "evalue": "name 'replace' is not defined",
     "output_type": "error",
     "traceback": [
      "\u001b[1;31m---------------------------------------------------------------------------\u001b[0m",
      "\u001b[1;31mNameError\u001b[0m                                 Traceback (most recent call last)",
      "\u001b[1;32m~\\AppData\\Local\\Temp/ipykernel_21080/334272821.py\u001b[0m in \u001b[0;36m<module>\u001b[1;34m\u001b[0m\n\u001b[0;32m      1\u001b[0m \u001b[0ma\u001b[0m \u001b[1;33m=\u001b[0m \u001b[1;33m(\u001b[0m\u001b[1;36m4\u001b[0m\u001b[1;33m,\u001b[0m\u001b[1;36m5\u001b[0m\u001b[1;33m,\u001b[0m\u001b[1;36m6\u001b[0m\u001b[1;33m)\u001b[0m\u001b[1;33m\u001b[0m\u001b[1;33m\u001b[0m\u001b[0m\n\u001b[1;32m----> 2\u001b[1;33m \u001b[0mprint\u001b[0m\u001b[1;33m(\u001b[0m\u001b[0mreplace\u001b[0m\u001b[1;33m(\u001b[0m\u001b[0ma\u001b[0m\u001b[1;33m,\u001b[0m \u001b[1;36m2\u001b[0m\u001b[1;33m,\u001b[0m \u001b[1;36m5\u001b[0m\u001b[1;33m)\u001b[0m\u001b[1;33m)\u001b[0m\u001b[1;33m\u001b[0m\u001b[1;33m\u001b[0m\u001b[0m\n\u001b[0m",
      "\u001b[1;31mNameError\u001b[0m: name 'replace' is not defined"
     ]
    }
   ],
   "source": [
    "a = (4,5,6)\n",
    "print(replace(a, 2, 5))"
   ]
  },
  {
   "cell_type": "code",
   "execution_count": 47,
   "metadata": {},
   "outputs": [
    {
     "name": "stdout",
     "output_type": "stream",
     "text": [
      "tensor([[-2.0922,  0.1683,  0.5359,  0.2814, -0.2734, -1.2071, -0.1854, -2.1647,\n",
      "          0.5430, -0.0662, -0.2084, -1.1123,  1.0920,  0.8870,  1.2893,  0.0816,\n",
      "         -0.5979, -0.4983,  0.4677, -1.1966, -0.2003, -1.4302,  1.9543,  0.2031,\n",
      "          0.3300, -0.5353,  0.4217, -0.6558, -0.5075,  0.0821],\n",
      "        [ 2.3974, -0.3981,  1.1553,  0.2325, -0.6020,  1.2619, -0.3430,  1.5097,\n",
      "         -0.5900,  1.2804,  0.3886, -1.6676, -2.2727,  0.4238,  0.6324, -0.9350,\n",
      "          0.3174,  0.4497,  0.4562,  0.9700,  0.4833, -0.4236,  0.2571,  0.0699,\n",
      "         -0.4167,  0.1543, -1.1786,  1.8663, -0.8918, -1.2374]])\n",
      "tensor([[0., 1., 1., 1., 0., 0., 0., 0., 1., 0., 0., 0., 1., 1., 1., 1., 0., 0.,\n",
      "         1., 0., 0., 0., 1., 1., 1., 0., 1., 0., 0., 1.],\n",
      "        [1., 0., 1., 1., 0., 1., 0., 1., 0., 1., 1., 0., 0., 1., 1., 0., 1., 1.,\n",
      "         1., 1., 1., 0., 1., 1., 0., 1., 0., 1., 0., 0.]])\n"
     ]
    }
   ],
   "source": [
    "a = torch.randn((2,30))\n",
    "print(a)\n",
    "a = a.heaviside(torch.tensor(1.))\n",
    "print(a)\n"
   ]
  },
  {
   "cell_type": "code",
   "execution_count": 50,
   "metadata": {},
   "outputs": [
    {
     "data": {
      "text/plain": [
       "tensor([[0.2183, 0.8166, 0.4535, 0.7398]])"
      ]
     },
     "execution_count": 50,
     "metadata": {},
     "output_type": "execute_result"
    }
   ],
   "source": [
    "torch.rand(4).unsqueeze(dim=0)"
   ]
  },
  {
   "cell_type": "code",
   "execution_count": 51,
   "metadata": {},
   "outputs": [
    {
     "name": "stdout",
     "output_type": "stream",
     "text": [
      "tensor([0.8590, 0.9213, 0.7008, 0.5416])\n",
      "tensor(1)\n"
     ]
    }
   ],
   "source": [
    "a = torch.rand(4)\n",
    "print(a)\n",
    "print(a.argmax())\n"
   ]
  },
  {
   "cell_type": "code",
   "execution_count": 62,
   "metadata": {},
   "outputs": [
    {
     "name": "stdout",
     "output_type": "stream",
     "text": [
      "tensor([0, 0, 0, 1, 1, 0, 0, 0, 1])\n",
      "tensor([[3],\n",
      "        [4],\n",
      "        [8]])\n",
      "tensor([3, 4, 8])\n",
      "tensor([[3, 4, 8]])\n"
     ]
    }
   ],
   "source": [
    "a = torch.as_tensor([0,0,0,1,1,0,0,0,1])\n",
    "print(a)\n",
    "print(a.nonzero())\n",
    "print(a.nonzero().squeeze())\n",
    "print(a.nonzero().reshape((1,-1)))"
   ]
  },
  {
   "cell_type": "code",
   "execution_count": 63,
   "metadata": {},
   "outputs": [
    {
     "name": "stdout",
     "output_type": "stream",
     "text": [
      "tensor([[0, 0, 1, 1, 1, 0, 0],\n",
      "        [1, 1, 1, 0, 0, 0, 0]])\n",
      "tensor([2, 3, 4])\n",
      "tensor([[2, 3, 4]])\n"
     ]
    }
   ],
   "source": [
    "a = torch.as_tensor([\n",
    "    [0,0,1,1,1,0,0],\n",
    "    [1,1,1,0,0,0,0],\n",
    "])\n",
    "print(a)\n",
    "print(a[0].nonzero().squeeze())\n",
    "print(a[0].nonzero().reshape((1,-1)))"
   ]
  },
  {
   "cell_type": "code",
   "execution_count": 11,
   "metadata": {},
   "outputs": [
    {
     "name": "stdout",
     "output_type": "stream",
     "text": [
      "tensor([0, 1, 2, 3, 4, 5, 6, 7, 8, 9])\n",
      "frozenset({0, 1, 2, 3, 4, 5, 6, 7, 8, 9})\n"
     ]
    }
   ],
   "source": [
    "import torch\n",
    "a = torch.as_tensor([i for i in range(10)])\n",
    "print(a)\n",
    "a = frozenset(a.numpy())\n",
    "print(a)"
   ]
  },
  {
   "cell_type": "code",
   "execution_count": 14,
   "metadata": {},
   "outputs": [
    {
     "ename": "ValueError",
     "evalue": "Sample larger than population or is negative",
     "output_type": "error",
     "traceback": [
      "\u001b[1;31m---------------------------------------------------------------------------\u001b[0m",
      "\u001b[1;31mValueError\u001b[0m                                Traceback (most recent call last)",
      "\u001b[1;32m~\\AppData\\Local\\Temp/ipykernel_2880/3133369120.py\u001b[0m in \u001b[0;36m<module>\u001b[1;34m\u001b[0m\n\u001b[0;32m      1\u001b[0m \u001b[1;32mimport\u001b[0m \u001b[0mrandom\u001b[0m\u001b[1;33m\u001b[0m\u001b[1;33m\u001b[0m\u001b[0m\n\u001b[1;32m----> 2\u001b[1;33m \u001b[0mrandom\u001b[0m\u001b[1;33m.\u001b[0m\u001b[0msample\u001b[0m\u001b[1;33m(\u001b[0m\u001b[0mrange\u001b[0m\u001b[1;33m(\u001b[0m\u001b[1;36m10\u001b[0m\u001b[1;33m)\u001b[0m\u001b[1;33m,\u001b[0m\u001b[1;36m30\u001b[0m\u001b[1;33m)\u001b[0m\u001b[1;33m\u001b[0m\u001b[1;33m\u001b[0m\u001b[0m\n\u001b[0m",
      "\u001b[1;32mc:\\Users\\TeamD\\.conda\\envs\\subgame\\lib\\random.py\u001b[0m in \u001b[0;36msample\u001b[1;34m(self, population, k, counts)\u001b[0m\n\u001b[0;32m    447\u001b[0m         \u001b[0mrandbelow\u001b[0m \u001b[1;33m=\u001b[0m \u001b[0mself\u001b[0m\u001b[1;33m.\u001b[0m\u001b[0m_randbelow\u001b[0m\u001b[1;33m\u001b[0m\u001b[1;33m\u001b[0m\u001b[0m\n\u001b[0;32m    448\u001b[0m         \u001b[1;32mif\u001b[0m \u001b[1;32mnot\u001b[0m \u001b[1;36m0\u001b[0m \u001b[1;33m<=\u001b[0m \u001b[0mk\u001b[0m \u001b[1;33m<=\u001b[0m \u001b[0mn\u001b[0m\u001b[1;33m:\u001b[0m\u001b[1;33m\u001b[0m\u001b[1;33m\u001b[0m\u001b[0m\n\u001b[1;32m--> 449\u001b[1;33m             \u001b[1;32mraise\u001b[0m \u001b[0mValueError\u001b[0m\u001b[1;33m(\u001b[0m\u001b[1;34m\"Sample larger than population or is negative\"\u001b[0m\u001b[1;33m)\u001b[0m\u001b[1;33m\u001b[0m\u001b[1;33m\u001b[0m\u001b[0m\n\u001b[0m\u001b[0;32m    450\u001b[0m         \u001b[0mresult\u001b[0m \u001b[1;33m=\u001b[0m \u001b[1;33m[\u001b[0m\u001b[1;32mNone\u001b[0m\u001b[1;33m]\u001b[0m \u001b[1;33m*\u001b[0m \u001b[0mk\u001b[0m\u001b[1;33m\u001b[0m\u001b[1;33m\u001b[0m\u001b[0m\n\u001b[0;32m    451\u001b[0m         \u001b[0msetsize\u001b[0m \u001b[1;33m=\u001b[0m \u001b[1;36m21\u001b[0m        \u001b[1;31m# size of a small set minus size of an empty list\u001b[0m\u001b[1;33m\u001b[0m\u001b[1;33m\u001b[0m\u001b[0m\n",
      "\u001b[1;31mValueError\u001b[0m: Sample larger than population or is negative"
     ]
    }
   ],
   "source": [
    "import random\n",
    "random.sample(range(10),30)"
   ]
  },
  {
   "cell_type": "code",
   "execution_count": 28,
   "metadata": {},
   "outputs": [
    {
     "name": "stdout",
     "output_type": "stream",
     "text": [
      "tensor([-2, -1,  0,  1,  2,  5])\n",
      "tensor([[-2, -1,  0,  1,  2,  5],\n",
      "        [-2, -1,  0,  1,  2,  5],\n",
      "        [-2, -1,  0,  1,  2,  5],\n",
      "        [-2, -1,  0,  1,  2,  5],\n",
      "        [-2, -1,  0,  1,  2,  5]])\n",
      "tensor([[1],\n",
      "        [2],\n",
      "        [3],\n",
      "        [4],\n",
      "        [5]])\n",
      "tensor([[-1,  0,  1,  2,  3,  6],\n",
      "        [ 0,  1,  2,  3,  4,  7],\n",
      "        [ 1,  2,  3,  4,  5,  8],\n",
      "        [ 2,  3,  4,  5,  6,  9],\n",
      "        [ 3,  4,  5,  6,  7, 10]])\n",
      "tensor([[0, 0, 0, 0, 1, 1],\n",
      "        [0, 0, 0, 1, 1, 1],\n",
      "        [0, 0, 1, 1, 1, 1],\n",
      "        [0, 1, 1, 1, 1, 1],\n",
      "        [1, 1, 1, 1, 1, 1]])\n"
     ]
    }
   ],
   "source": [
    "import torch\n",
    "a = torch.tensor([-2,-1,0,1,2,5])\n",
    "print(a)\n",
    "b = a.tile(dims=(5,1))\n",
    "print(b)\n",
    "c = torch.tensor([1,2,3,4,5]).unsqueeze(dim=1)\n",
    "print(c)\n",
    "d = (b + c)\n",
    "print(d)\n",
    "print((d - 3).heaviside(torch.tensor(1)))"
   ]
  },
  {
   "cell_type": "code",
   "execution_count": 30,
   "metadata": {},
   "outputs": [
    {
     "data": {
      "text/plain": [
       "tensor([3.0000, 3.5000, 4.0000, 4.5000, 5.0000])"
      ]
     },
     "execution_count": 30,
     "metadata": {},
     "output_type": "execute_result"
    }
   ],
   "source": [
    "torch.linspace(3,+5,5)"
   ]
  },
  {
   "cell_type": "code",
   "execution_count": 72,
   "metadata": {},
   "outputs": [
    {
     "name": "stdout",
     "output_type": "stream",
     "text": [
      "tensor([[1, 2, 3, 4, 5],\n",
      "        [1, 2, 3, 4, 5]])\n",
      "tensor([[[1, 2, 3, 4, 5],\n",
      "         [1, 2, 3, 4, 5],\n",
      "         [1, 2, 3, 4, 5],\n",
      "         [1, 2, 3, 4, 5],\n",
      "         [1, 2, 3, 4, 5]],\n",
      "\n",
      "        [[1, 2, 3, 4, 5],\n",
      "         [1, 2, 3, 4, 5],\n",
      "         [1, 2, 3, 4, 5],\n",
      "         [1, 2, 3, 4, 5],\n",
      "         [1, 2, 3, 4, 5]]])\n",
      "tensor([[[0.5000, 1.5000, 2.5000, 3.5000, 4.5000],\n",
      "         [0.7500, 1.7500, 2.7500, 3.7500, 4.7500],\n",
      "         [1.0000, 2.0000, 3.0000, 4.0000, 5.0000],\n",
      "         [1.2500, 2.2500, 3.2500, 4.2500, 5.2500],\n",
      "         [1.5000, 2.5000, 3.5000, 4.5000, 5.5000]],\n",
      "\n",
      "        [[0.5000, 1.5000, 2.5000, 3.5000, 4.5000],\n",
      "         [0.7500, 1.7500, 2.7500, 3.7500, 4.7500],\n",
      "         [1.0000, 2.0000, 3.0000, 4.0000, 5.0000],\n",
      "         [1.2500, 2.2500, 3.2500, 4.2500, 5.2500],\n",
      "         [1.5000, 2.5000, 3.5000, 4.5000, 5.5000]]]) torch.Size([2, 5, 5])\n",
      "tensor([[0.5000, 1.5000, 2.5000, 3.5000, 4.5000],\n",
      "        [0.7500, 1.7500, 2.7500, 3.7500, 4.7500],\n",
      "        [1.0000, 2.0000, 3.0000, 4.0000, 5.0000],\n",
      "        [1.2500, 2.2500, 3.2500, 4.2500, 5.2500],\n",
      "        [1.5000, 2.5000, 3.5000, 4.5000, 5.5000],\n",
      "        [0.5000, 1.5000, 2.5000, 3.5000, 4.5000],\n",
      "        [0.7500, 1.7500, 2.7500, 3.7500, 4.7500],\n",
      "        [1.0000, 2.0000, 3.0000, 4.0000, 5.0000],\n",
      "        [1.2500, 2.2500, 3.2500, 4.2500, 5.2500],\n",
      "        [1.5000, 2.5000, 3.5000, 4.5000, 5.5000]]) torch.Size([10, 5])\n"
     ]
    }
   ],
   "source": [
    "a = torch.tensor([1,2,3,4,5]).unsqueeze(dim=0).repeat(2,1)\n",
    "print(a)\n",
    "b = a.unsqueeze(dim=1).repeat(1,5,1)\n",
    "print(b)\n",
    "c = b + torch.linspace(-0.5,+0.5,5).unsqueeze(dim=1)\n",
    "print(c, c.shape)\n",
    "d = c.flatten(0,1)\n",
    "print(d, d.shape)\n"
   ]
  },
  {
   "cell_type": "code",
   "execution_count": 73,
   "metadata": {},
   "outputs": [
    {
     "name": "stdout",
     "output_type": "stream",
     "text": [
      "torch.Size([2, 2, 5])\n",
      "tensor([[[1, 2, 3, 4, 5],\n",
      "         [3, 4, 5, 6, 7]],\n",
      "\n",
      "        [[1, 2, 3, 4, 5],\n",
      "         [3, 4, 5, 6, 7]]])\n",
      "torch.Size([4, 5])\n",
      "tensor([[1, 2, 3, 4, 5],\n",
      "        [3, 4, 5, 6, 7],\n",
      "        [1, 2, 3, 4, 5],\n",
      "        [3, 4, 5, 6, 7]])\n"
     ]
    }
   ],
   "source": [
    "import torch\n",
    "a = torch.tensor([[1,2,3,4,5], [3,4,5,6,7]]).repeat(2,1,1)\n",
    "print(a.shape)\n",
    "print(a)\n",
    "b = a.flatten(0,1)\n",
    "print(b.shape)\n",
    "print(b)"
   ]
  },
  {
   "cell_type": "code",
   "execution_count": 1,
   "metadata": {},
   "outputs": [
    {
     "name": "stdout",
     "output_type": "stream",
     "text": [
      "torch.Size([5, 30])\n",
      "torch.Size([5, 1, 30])\n"
     ]
    }
   ],
   "source": [
    "import torch\n",
    "a = torch.zeros((5,30))\n",
    "print(a.shape)\n",
    "b = a.unsqueeze(dim=1)\n",
    "print(b.shape)"
   ]
  },
  {
   "cell_type": "code",
   "execution_count": 1,
   "metadata": {},
   "outputs": [
    {
     "data": {
      "text/plain": [
       "Text(0.5, 1.0, 'Easy as 1, 2, 3')"
      ]
     },
     "execution_count": 1,
     "metadata": {},
     "output_type": "execute_result"
    },
    {
     "data": {
      "image/png": "[encoded data removed]",
      "text/plain": [
       "<Figure size 432x288 with 1 Axes>"
      ]
     },
     "metadata": {
      "needs_background": "light"
     },
     "output_type": "display_data"
    },
    {
     "data": {
      "image/png": "[encoded data removed]",
      "text/plain": [
       "<Figure size 432x288 with 2 Axes>"
      ]
     },
     "metadata": {
      "needs_background": "light"
     },
     "output_type": "display_data"
    }
   ],
   "source": [
    "import matplotlib.pyplot as plt\n",
    "plt.figure(1)                # the first figure\n",
    "plt.subplot(211)             # the first subplot in the first figure\n",
    "plt.plot([1, 2, 3])\n",
    "plt.subplot(212)             # the second subplot in the first figure\n",
    "plt.plot([4, 5, 6])\n",
    "\n",
    "\n",
    "plt.figure(2)                # a second figure\n",
    "plt.plot([4, 5, 6])          # creates a subplot() by default\n",
    "\n",
    "plt.figure(1)                # figure 1 current; subplot(212) still current\n",
    "plt.subplot(211)             # make subplot(211) in figure1 current\n",
    "plt.title('Easy as 1, 2, 3') # subplot 211 title"
   ]
  },
  {
   "cell_type": "code",
   "execution_count": 3,
   "metadata": {},
   "outputs": [
    {
     "ename": "StatisticsError",
     "evalue": "mean requires at least one data point",
     "output_type": "error",
     "traceback": [
      "\u001b[1;31m---------------------------------------------------------------------------\u001b[0m",
      "\u001b[1;31mStatisticsError\u001b[0m                           Traceback (most recent call last)",
      "\u001b[1;32m~\\AppData\\Local\\Temp/ipykernel_5856/1573310417.py\u001b[0m in \u001b[0;36m<module>\u001b[1;34m\u001b[0m\n\u001b[0;32m      2\u001b[0m \u001b[1;33m\u001b[0m\u001b[0m\n\u001b[0;32m      3\u001b[0m \u001b[1;33m\u001b[0m\u001b[0m\n\u001b[1;32m----> 4\u001b[1;33m \u001b[0mmean\u001b[0m\u001b[1;33m(\u001b[0m\u001b[1;33m[\u001b[0m\u001b[1;33m]\u001b[0m\u001b[1;33m)\u001b[0m\u001b[1;33m\u001b[0m\u001b[1;33m\u001b[0m\u001b[0m\n\u001b[0m",
      "\u001b[1;32mc:\\Users\\TeamD\\.conda\\envs\\subgame\\lib\\statistics.py\u001b[0m in \u001b[0;36mmean\u001b[1;34m(data)\u001b[0m\n\u001b[0;32m    313\u001b[0m     \u001b[0mn\u001b[0m \u001b[1;33m=\u001b[0m \u001b[0mlen\u001b[0m\u001b[1;33m(\u001b[0m\u001b[0mdata\u001b[0m\u001b[1;33m)\u001b[0m\u001b[1;33m\u001b[0m\u001b[1;33m\u001b[0m\u001b[0m\n\u001b[0;32m    314\u001b[0m     \u001b[1;32mif\u001b[0m \u001b[0mn\u001b[0m \u001b[1;33m<\u001b[0m \u001b[1;36m1\u001b[0m\u001b[1;33m:\u001b[0m\u001b[1;33m\u001b[0m\u001b[1;33m\u001b[0m\u001b[0m\n\u001b[1;32m--> 315\u001b[1;33m         \u001b[1;32mraise\u001b[0m \u001b[0mStatisticsError\u001b[0m\u001b[1;33m(\u001b[0m\u001b[1;34m'mean requires at least one data point'\u001b[0m\u001b[1;33m)\u001b[0m\u001b[1;33m\u001b[0m\u001b[1;33m\u001b[0m\u001b[0m\n\u001b[0m\u001b[0;32m    316\u001b[0m     \u001b[0mT\u001b[0m\u001b[1;33m,\u001b[0m \u001b[0mtotal\u001b[0m\u001b[1;33m,\u001b[0m \u001b[0mcount\u001b[0m \u001b[1;33m=\u001b[0m \u001b[0m_sum\u001b[0m\u001b[1;33m(\u001b[0m\u001b[0mdata\u001b[0m\u001b[1;33m)\u001b[0m\u001b[1;33m\u001b[0m\u001b[1;33m\u001b[0m\u001b[0m\n\u001b[0;32m    317\u001b[0m     \u001b[1;32massert\u001b[0m \u001b[0mcount\u001b[0m \u001b[1;33m==\u001b[0m \u001b[0mn\u001b[0m\u001b[1;33m\u001b[0m\u001b[1;33m\u001b[0m\u001b[0m\n",
      "\u001b[1;31mStatisticsError\u001b[0m: mean requires at least one data point"
     ]
    }
   ],
   "source": [
    "from statistics import mean\n",
    "\n",
    "\n",
    "mean([])"
   ]
  },
  {
   "cell_type": "code",
   "execution_count": null,
   "metadata": {},
   "outputs": [],
   "source": [
    "from models import DefenderActionTensorBatch, StateTensorBatch\n",
    "from utils import get_device\n",
    "\n",
    "a = defender.get_action(engine.game.state)\n",
    "state = engine.game.state.as_tensors(defender.state_shape_data)\n",
    "state = StateTensorBatch(\n",
    "    vulnerabilities=state.vulnerabilities.to(get_device()),\n",
    "    vehicles=state.vehicles.to(get_device()),\n",
    ")\n",
    "print(\"state\", state.vehicles.shape, state.vulnerabilities.shape)\n",
    "action = a.as_tensor(defender.state_shape_data)\n",
    "action = DefenderActionTensorBatch(\n",
    "    members=action.members.to(get_device()),\n",
    "    monitor=action.monitor.to(get_device()),\n",
    ")\n",
    "\n",
    "print(\"action\", action.members.shape, action.monitor.shape)\n",
    "print(action)\n",
    "q_values = defender.critic(state,action) \n",
    "print(\"q\", q_values)\n",
    "print(\"actual\", defender.get_utility(defender.take_action(engine.game.state, a)))\n"
   ]
  },
  {
   "cell_type": "code",
   "execution_count": 6,
   "metadata": {},
   "outputs": [
    {
     "name": "stdout",
     "output_type": "stream",
     "text": [
      "0.1235\n",
      "0.0000\n"
     ]
    }
   ],
   "source": [
    "print(f\"{0.123456:.4f}\")\n",
    "print(f\"{0:.4f}\")"
   ]
  },
  {
   "cell_type": "code",
   "execution_count": 30,
   "metadata": {},
   "outputs": [
    {
     "name": "stdout",
     "output_type": "stream",
     "text": [
      "2022-10-09 2037-33\n"
     ]
    }
   ],
   "source": [
    "from datetime import datetime\n",
    "\n",
    "now = datetime.now()\n",
    "a = now.strftime(\"%Y-%m-%d %H%M-%S\")\n",
    "print(f\"{a}\")"
   ]
  },
  {
   "cell_type": "code",
   "execution_count": 33,
   "metadata": {},
   "outputs": [
    {
     "data": {
      "text/plain": [
       "'2022-10-09 2043-01'"
      ]
     },
     "execution_count": 33,
     "metadata": {},
     "output_type": "execute_result"
    }
   ],
   "source": [
    "import time\n",
    "time.strftime(\"%Y-%m-%d %H%M-%S\")"
   ]
  },
  {
   "cell_type": "code",
   "execution_count": 35,
   "metadata": {},
   "outputs": [
    {
     "name": "stdout",
     "output_type": "stream",
     "text": [
      "005555\n"
     ]
    }
   ],
   "source": [
    "print(f\"{5555:06}\")"
   ]
  },
  {
   "cell_type": "code",
   "execution_count": 44,
   "metadata": {},
   "outputs": [
    {
     "data": {
      "text/plain": [
       "'2022-10-10 0027-39 486355'"
      ]
     },
     "execution_count": 44,
     "metadata": {},
     "output_type": "execute_result"
    }
   ],
   "source": [
    "datetime.now().strftime(\"%Y-%m-%d %H%M-%S %f\")"
   ]
  },
  {
   "cell_type": "code",
   "execution_count": 3,
   "metadata": {},
   "outputs": [
    {
     "data": {
      "text/plain": [
       "tensor([[-0.5000],\n",
       "        [-0.2500],\n",
       "        [ 0.0000],\n",
       "        [ 0.2500],\n",
       "        [ 0.5000]])"
      ]
     },
     "execution_count": 3,
     "metadata": {},
     "output_type": "execute_result"
    }
   ],
   "source": [
    "import torch\n",
    "num_proposals=1\n",
    "torch.linspace(-0.5, +0.5, 5).unsqueeze(dim=1)"
   ]
  },
  {
   "cell_type": "code",
   "execution_count": null,
   "metadata": {},
   "outputs": [],
   "source": []
  },
  {
   "cell_type": "code",
   "execution_count": 4,
   "metadata": {},
   "outputs": [
    {
     "name": "stdout",
     "output_type": "stream",
     "text": [
      "a(asd=1, dsa=2, b=b(woo='hoo'))\n",
      "{'asd': 1, 'dsa': 2, 'b': {'woo': 'hoo'}}\n"
     ]
    }
   ],
   "source": [
    "from dataclasses import dataclass\n",
    "import dataclasses\n",
    "\n",
    "\n",
    "@dataclass\n",
    "class b:\n",
    "    woo: str\n",
    "\n",
    "@dataclass\n",
    "class a:\n",
    "    asd: int\n",
    "    dsa: int\n",
    "    b: b\n",
    "\n",
    "z = a(asd=1,dsa=2,b=b(woo=\"hoo\"))\n",
    "print(z)\n",
    "print(dataclasses.asdict(z))"
   ]
  },
  {
   "cell_type": "code",
   "execution_count": 7,
   "metadata": {},
   "outputs": [
    {
     "data": {
      "text/plain": [
       "False"
      ]
     },
     "execution_count": 7,
     "metadata": {},
     "output_type": "execute_result"
    }
   ],
   "source": [
    "from math import nan\n",
    "\n",
    "\n",
    "5 % 0.1 == 0"
   ]
  },
  {
   "cell_type": "code",
   "execution_count": 9,
   "metadata": {},
   "outputs": [
    {
     "name": "stdout",
     "output_type": "stream",
     "text": [
      "tensor([False,  True,  True,  True, False])\n",
      "tensor(2)\n",
      "tensor([ True, False, False, False,  True])\n"
     ]
    }
   ],
   "source": [
    "import torch\n",
    "a = [False, True, True, True, False]\n",
    "a = torch.as_tensor(a)\n",
    "print(a)\n",
    "print((a == False).sum())\n",
    "b = ~a\n",
    "print(b)"
   ]
  },
  {
   "cell_type": "code",
   "execution_count": 10,
   "metadata": {},
   "outputs": [
    {
     "name": "stdout",
     "output_type": "stream",
     "text": [
      "tensor([4.]) torch.Size([1])\n"
     ]
    }
   ],
   "source": [
    "import torch\n",
    "reward = torch.as_tensor(4., dtype=torch.float32).unsqueeze(0)\n",
    "print(reward, reward.shape)"
   ]
  },
  {
   "cell_type": "code",
   "execution_count": 26,
   "metadata": {},
   "outputs": [
    {
     "data": {
      "text/plain": [
       "(array([0.04556847, 0.22133259, 0.63144886, 1.0871336 , 1.41913249,\n",
       "        1.38007379, 1.00901622, 0.53380213, 0.13670542, 0.04556847]),\n",
       " array([-0.24821067, -0.09459569,  0.05901928,  0.21263425,  0.36624923,\n",
       "         0.5198642 ,  0.67347918,  0.82709415,  0.98070912,  1.1343241 ,\n",
       "         1.28793907]),\n",
       " <BarContainer object of 10 artists>)"
      ]
     },
     "execution_count": 26,
     "metadata": {},
     "output_type": "execute_result"
    },
    {
     "data": {
      "image/png": "[encoded data removed]",
      "text/plain": [
       "<Figure size 432x288 with 1 Axes>"
      ]
     },
     "metadata": {
      "needs_background": "light"
     },
     "output_type": "display_data"
    }
   ],
   "source": [
    "import torch\n",
    "import matplotlib.pyplot as plt\n",
    "\n",
    "m = torch.distributions.Normal(torch.as_tensor(0.5), torch.as_tensor(0.25))\n",
    "points = [float(m.sample()) for _ in range(1000)]\n",
    "# print(points)\n",
    "plt.hist(points, density=True)"
   ]
  },
  {
   "cell_type": "code",
   "execution_count": 3,
   "metadata": {},
   "outputs": [
    {
     "name": "stdout",
     "output_type": "stream",
     "text": [
      "(0, 1, 2, 3, 4)\n"
     ]
    }
   ],
   "source": [
    "a = tuple(i for i in range(5))\n",
    "print(a)"
   ]
  },
  {
   "cell_type": "code",
   "execution_count": 7,
   "metadata": {},
   "outputs": [
    {
     "data": {
      "application/vnd.jupyter.widget-view+json": {
       "model_id": "7bf09f702a90443882aa30f200d21458",
       "version_major": 2,
       "version_minor": 0
      },
      "text/plain": [
       "  0%|          | 0/100 [00:00<?, ?it/s]"
      ]
     },
     "metadata": {},
     "output_type": "display_data"
    },
    {
     "name": "stdout",
     "output_type": "stream",
     "text": [
      "teehee\n",
      "teehee\n",
      "teehee\n",
      "teehee\n",
      "teehee\n",
      "teehee\n",
      "teehee\n",
      "teehee\n",
      "teehee\n",
      "teehee\n",
      "teehee\n",
      "teehee\n",
      "teehee\n",
      "teehee\n",
      "teehee\n",
      "teehee\n",
      "teehee\n",
      "teehee\n",
      "teehee\n",
      "teehee\n",
      "teehee\n",
      "teehee\n",
      "teehee\n",
      "teehee\n",
      "teehee\n",
      "teehee\n",
      "teehee\n",
      "teehee\n",
      "teehee\n",
      "teehee\n",
      "teehee\n",
      "teehee\n",
      "teehee\n",
      "teehee\n",
      "teehee\n",
      "teehee\n",
      "teehee\n",
      "teehee\n",
      "teehee\n",
      "teehee\n",
      "teehee\n",
      "teehee\n",
      "teehee\n",
      "teehee\n",
      "teehee\n",
      "teehee\n",
      "teehee\n",
      "teehee\n",
      "teehee\n",
      "teehee\n",
      "teehee\n",
      "teehee\n",
      "teehee\n",
      "teehee\n",
      "teehee\n",
      "teehee\n",
      "teehee\n",
      "teehee\n",
      "teehee\n",
      "teehee\n",
      "teehee\n",
      "teehee\n",
      "teehee\n",
      "teehee\n",
      "teehee\n",
      "teehee\n",
      "teehee\n",
      "teehee\n",
      "teehee\n",
      "teehee\n",
      "teehee\n",
      "teehee\n",
      "teehee\n",
      "teehee\n",
      "teehee\n",
      "teehee\n",
      "teehee\n",
      "teehee\n",
      "teehee\n",
      "teehee\n",
      "teehee\n",
      "teehee\n",
      "teehee\n",
      "teehee\n",
      "teehee\n",
      "teehee\n",
      "teehee\n",
      "teehee\n",
      "teehee\n",
      "teehee\n",
      "teehee\n",
      "teehee\n",
      "teehee\n",
      "teehee\n",
      "teehee\n",
      "teehee\n",
      "teehee\n",
      "teehee\n",
      "teehee\n",
      "teehee\n"
     ]
    }
   ],
   "source": [
    "from time import sleep\n",
    "from tqdm.notebook import tqdm\n",
    "\n",
    "a = tqdm(total=100)\n",
    "for i in range(100):\n",
    "    print(\"teehee\")\n",
    "    a.set_description(\"beans=\" + str(i))\n",
    "    a.set_postfix(zz=i, beans=\"yes please\")\n",
    "    a.update()\n",
    "    sleep(0.1)"
   ]
  },
  {
   "cell_type": "code",
   "execution_count": 5,
   "metadata": {},
   "outputs": [
    {
     "name": "stdout",
     "output_type": "stream",
     "text": [
      "tensor([[1, 2, 3],\n",
      "        [4, 5, 6],\n",
      "        [7, 8, 9],\n",
      "        [1, 2, 3],\n",
      "        [4, 5, 6],\n",
      "        [7, 8, 9],\n",
      "        [1, 2, 3],\n",
      "        [4, 5, 6],\n",
      "        [7, 8, 9],\n",
      "        [1, 2, 3],\n",
      "        [4, 5, 6],\n",
      "        [7, 8, 9],\n",
      "        [1, 2, 3],\n",
      "        [4, 5, 6],\n",
      "        [7, 8, 9]])\n",
      "tensor([[0.1000, 0.2000, 0.3000],\n",
      "        [0.1000, 0.2000, 0.3000],\n",
      "        [0.1000, 0.2000, 0.3000]])\n"
     ]
    }
   ],
   "source": [
    "import torch\n",
    "a = torch.as_tensor([[1,2,3],[4,5,6],[7,8,9]])\n",
    "a = a.repeat(5,1)\n",
    "b = torch.as_tensor([0.1,0.2,0.3])\n",
    "b = b.repeat(3,1)\n",
    "print(a)\n",
    "print(b)"
   ]
  },
  {
   "cell_type": "code",
   "execution_count": 6,
   "metadata": {},
   "outputs": [
    {
     "data": {
      "text/plain": [
       "torch.Size([5, 3])"
      ]
     },
     "execution_count": 6,
     "metadata": {},
     "output_type": "execute_result"
    }
   ],
   "source": [
    "torch.Size((5,3))"
   ]
  },
  {
   "cell_type": "code",
   "execution_count": 5,
   "metadata": {},
   "outputs": [
    {
     "data": {
      "text/plain": [
       "StateTensorBatch(vulnerabilities=tensor([[[[0.5000, 2.0000, 4.0000, 0.0000],\n",
       "          [0.8000, 3.0000, 9.0000, 1.0000],\n",
       "          [0.0000, 0.0000, 0.0000, 0.0000],\n",
       "          [0.0000, 0.0000, 0.0000, 0.0000]],\n",
       "\n",
       "         [[0.0000, 0.0000, 0.0000, 0.0000],\n",
       "          [0.0000, 0.0000, 0.0000, 0.0000],\n",
       "          [0.0000, 0.0000, 0.0000, 0.0000],\n",
       "          [0.0000, 0.0000, 0.0000, 0.0000]],\n",
       "\n",
       "         [[0.0000, 0.0000, 0.0000, 0.0000],\n",
       "          [0.0000, 0.0000, 0.0000, 0.0000],\n",
       "          [0.0000, 0.0000, 0.0000, 0.0000],\n",
       "          [0.0000, 0.0000, 0.0000, 0.0000]]]]), vehicles=tensor([[[ 0., 25.],\n",
       "         [ 0.,  0.],\n",
       "         [ 0.,  0.]]]))"
      ]
     },
     "execution_count": 5,
     "metadata": {},
     "output_type": "execute_result"
    }
   ],
   "source": [
    "from game import State\n",
    "from models import StateShapeData\n",
    "from vehicles import CompromiseState, Vehicle, Vulnerability\n",
    "\n",
    "\n",
    "state = State(\n",
    "    vehicles=(\n",
    "        Vehicle(\n",
    "            risk=25,\n",
    "            vulnerabilities=(\n",
    "                Vulnerability(0.5, 2, CompromiseState.NOT_COMPROMISED),\n",
    "                Vulnerability(0.8, 3, CompromiseState.COMPROMISED),\n",
    "            ),\n",
    "            in_platoon=False\n",
    "        ),\n",
    "    ),\n",
    "    defender_utility=0,\n",
    "    attacker_utility=0\n",
    ")\n",
    "state.as_tensor_batch(StateShapeData(\n",
    "    num_vehicle_features=4,\n",
    "    num_vehicles=3,\n",
    "    num_vuln_features=4,\n",
    "    num_vulns=4,\n",
    "))"
   ]
  },
  {
   "cell_type": "code",
   "execution_count": 12,
   "metadata": {},
   "outputs": [
    {
     "name": "stdout",
     "output_type": "stream",
     "text": [
      "00025\n"
     ]
    }
   ],
   "source": [
    "from math import ceil, log10\n",
    "\n",
    "\n",
    "a = 50000\n",
    "b = 25\n",
    "digits = ceil(log10(a))\n",
    "print(f\"{b:0{digits}d}\")"
   ]
  },
  {
   "cell_type": "code",
   "execution_count": 16,
   "metadata": {},
   "outputs": [
    {
     "name": "stdout",
     "output_type": "stream",
     "text": [
      "01.2300\n"
     ]
    }
   ],
   "source": [
    "print(f\"{1.23:07.4f}\")"
   ]
  },
  {
   "cell_type": "code",
   "execution_count": 20,
   "metadata": {},
   "outputs": [
    {
     "data": {
      "text/plain": [
       "0"
      ]
     },
     "execution_count": 20,
     "metadata": {},
     "output_type": "execute_result"
    }
   ],
   "source": [
    "2%-2"
   ]
  },
  {
   "cell_type": "code",
   "execution_count": 35,
   "metadata": {},
   "outputs": [
    {
     "name": "stdout",
     "output_type": "stream",
     "text": [
      "Parameter containing:\n",
      "tensor([[-0.4228, -0.4790,  0.1619,  0.4096]], requires_grad=True)\n",
      "Parameter containing:\n",
      "tensor([[-0.9013,  0.3244, -0.9394, -1.1314]], requires_grad=True)\n",
      "Parameter containing:\n",
      "tensor([[0.3112, 0.6835, 0.8438, 0.0310]], requires_grad=True)\n"
     ]
    }
   ],
   "source": [
    "import torch\n",
    "import torch.nn as nn\n",
    "a = nn.LazyLinear(1)\n",
    "a(torch.as_tensor([[1,2,3,4]], dtype=torch.float32))\n",
    "print(a.weight)\n",
    "nn.init.kaiming_normal_(a.weight, mode=\"fan_in\")\n",
    "print(a.weight)\n",
    "a.weight = nn.Parameter(torch.rand(1,4))\n",
    "print(a.weight)"
   ]
  },
  {
   "cell_type": "code",
   "execution_count": 37,
   "metadata": {},
   "outputs": [
    {
     "name": "stdout",
     "output_type": "stream",
     "text": [
      "states torch.Size([2, 3, 3, 3]) tensor([[[[0.3672, 2.0000, 0.0000],\n",
      "          [0.2386, 2.0000, 0.0000],\n",
      "          [1.0000, 1.0000, 0.0000]],\n",
      "\n",
      "         [[0.5873, 2.0000, 0.0000],\n",
      "          [0.7048, 3.0000, 0.0000],\n",
      "          [0.5552, 1.0000, 0.0000]],\n",
      "\n",
      "         [[0.4456, 3.0000, 0.0000],\n",
      "          [0.3886, 2.0000, 0.0000],\n",
      "          [0.3745, 1.0000, 0.0000]]],\n",
      "\n",
      "\n",
      "        [[[0.0000, 3.0000, 0.0000],\n",
      "          [0.3182, 3.0000, 0.0000],\n",
      "          [0.0357, 2.0000, 0.0000]],\n",
      "\n",
      "         [[0.6474, 1.0000, 0.0000],\n",
      "          [0.7376, 2.0000, 0.0000],\n",
      "          [0.6590, 2.0000, 0.0000]],\n",
      "\n",
      "         [[0.6119, 1.0000, 0.0000],\n",
      "          [0.7148, 3.0000, 0.0000],\n",
      "          [0.6434, 2.0000, 0.0000]]]])\n",
      "attack mask tensor([[False,  True,  True],\n",
      "        [False,  True,  True]])\n",
      "success mask tensor([[ True,  True, False],\n",
      "        [False,  True, False],\n",
      "        [ True,  True,  True],\n",
      "        [ True,  True,  True]])\n",
      "next states tensor([[[[0.3672, 2.0000, 0.0000],\n",
      "          [0.2386, 2.0000, 0.0000],\n",
      "          [1.0000, 1.0000, 0.0000]],\n",
      "\n",
      "         [[0.5873, 2.0000, 1.0000],\n",
      "          [0.7048, 3.0000, 1.0000],\n",
      "          [0.5552, 1.0000, 0.0000]],\n",
      "\n",
      "         [[0.4456, 3.0000, 0.0000],\n",
      "          [0.3886, 2.0000, 1.0000],\n",
      "          [0.3745, 1.0000, 0.0000]]],\n",
      "\n",
      "\n",
      "        [[[0.0000, 3.0000, 0.0000],\n",
      "          [0.3182, 3.0000, 0.0000],\n",
      "          [0.0357, 2.0000, 0.0000]],\n",
      "\n",
      "         [[0.6474, 1.0000, 1.0000],\n",
      "          [0.7376, 2.0000, 1.0000],\n",
      "          [0.6590, 2.0000, 1.0000]],\n",
      "\n",
      "         [[0.6119, 1.0000, 1.0000],\n",
      "          [0.7148, 3.0000, 1.0000],\n",
      "          [0.6434, 2.0000, 1.0000]]]])\n"
     ]
    }
   ],
   "source": [
    "import torch\n",
    "num_batches = 2\n",
    "MAX_VEHICLES = 3\n",
    "MAX_VULNS = 3\n",
    "MAX_ATTACK = 2\n",
    "\n",
    "# example definition of a batch of states\n",
    "prob_dist = torch.distributions.Normal(loc=torch.as_tensor(0.5, dtype=torch.float32), scale=torch.as_tensor(0.25, dtype=torch.float32))\n",
    "sev_dist = torch.distributions.Normal(loc=torch.as_tensor(2, dtype=torch.float32),scale=torch.as_tensor(1, dtype=torch.float32))\n",
    "states = torch.zeros((num_batches, MAX_VEHICLES, MAX_VULNS, 3), dtype=torch.float32)\n",
    "states[:,:,:,0] = prob_dist.sample(torch.Size((num_batches, MAX_VEHICLES, MAX_VULNS))).clamp(0,1)\n",
    "states[:,:,:,1] = sev_dist.sample(torch.Size((num_batches, MAX_VEHICLES, MAX_VULNS))).round().clamp(1,5)\n",
    "print(\"states\", states.shape, states)\n",
    "# return states\n",
    "\n",
    "# example definition of a batch of actions\n",
    "# the attacker picks MAX_ATTACK vehicles from each state\n",
    "priority = (states[:,:,:,0] * states[:,:,:,1] * (1-states[:,:,:,2])).sum(dim=-1)\n",
    "attack = priority.topk(MAX_ATTACK).indices\n",
    "attack_mask = torch.zeros((states.shape[0], MAX_VEHICLES), dtype=torch.float32).to(states.device).scatter_(1, attack, 1).bool()\n",
    "print(\"attack mask\", attack_mask)\n",
    "# return attack_mask\n",
    "\n",
    "# for each attacked vehicle in the state, each vulnerability has a chance of being compromised\n",
    "next_states = states.clone()\n",
    "attack = next_states[attack_mask]\n",
    "probs = torch.rand(attack.shape[:-1], dtype=torch.float32, device=states.device)\n",
    "\n",
    "success_mask = (probs > 1-attack[:,:,0])\n",
    "print(\"success mask\", success_mask)\n",
    "\n",
    "## fails because of advanced slicing cloning the tensors\n",
    "# next_states[attack_mask][success_mask][:,2] = 1\n",
    "## what's a better way to do this?\n",
    "\n",
    "# workaround: must rebuild the tensors despite the fact we have all the slicing information\n",
    "success = attack[success_mask]\n",
    "success[:,2] = 1\n",
    "attack[success_mask] = success\n",
    "next_states[attack_mask] = attack\n",
    "print(\"next states\", next_states)\n"
   ]
  },
  {
   "cell_type": "code",
   "execution_count": 2,
   "metadata": {},
   "outputs": [
    {
     "name": "stdout",
     "output_type": "stream",
     "text": [
      "Discrete(3)\n"
     ]
    }
   ],
   "source": [
    "import gym\n",
    "env = gym.make(\"MountainCar-v0\")\n",
    "print(env.action_space)"
   ]
  },
  {
   "cell_type": "code",
   "execution_count": 5,
   "metadata": {},
   "outputs": [
    {
     "data": {
      "text/plain": [
       "[0, 0, 1, 0, 0, 0, 0, 2, 0, 2, 1, 1, 1, 2, 2, 1, 2, 2, 2, 1, 2, 2, 0, 0, 1]"
      ]
     },
     "execution_count": 5,
     "metadata": {},
     "output_type": "execute_result"
    }
   ],
   "source": [
    "[env.action_space.sample() for _ in range(25)]"
   ]
  },
  {
   "cell_type": "code",
   "execution_count": 6,
   "metadata": {},
   "outputs": [
    {
     "data": {
      "text/plain": [
       "Box(-1.2000000476837158, 0.6000000238418579, (2,), float32)"
      ]
     },
     "execution_count": 6,
     "metadata": {},
     "output_type": "execute_result"
    }
   ],
   "source": [
    "env.observation_space"
   ]
  },
  {
   "cell_type": "code",
   "execution_count": 4,
   "metadata": {},
   "outputs": [
    {
     "name": "stdout",
     "output_type": "stream",
     "text": [
      "+05.0\n"
     ]
    }
   ],
   "source": [
    "x = 5\n",
    "print(f\"{x:+05.1f}\")"
   ]
  }
 ],
 "metadata": {
  "kernelspec": {
   "display_name": "Python 3.9.12 ('subgame')",
   "language": "python",
   "name": "python3"
  },
  "language_info": {
   "codemirror_mode": {
    "name": "ipython",
    "version": 3
   },
   "file_extension": ".py",
   "mimetype": "text/x-python",
   "name": "python",
   "nbconvert_exporter": "python",
   "pygments_lexer": "ipython3",
   "version": "3.9.12"
  },
  "orig_nbformat": 4,
  "vscode": {
   "interpreter": {
    "hash": "09b31e4957d63d79e1e76c5537c345194b9f565583fac53cbbb105281d72baf4"
   }
  }
 },
 "nbformat": 4,
 "nbformat_minor": 2
}
