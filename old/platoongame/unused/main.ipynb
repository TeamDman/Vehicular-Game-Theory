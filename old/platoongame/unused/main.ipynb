{
 "cells": [
  {
   "cell_type": "code",
   "execution_count": 1,
   "metadata": {},
   "outputs": [],
   "source": [
    "from __future__ import annotations\n",
    "import torch\n",
    "from torch import Tensor\n",
    "import random\n",
    "import math\n",
    "from typing import List, Tuple, Union, Iterable, Callable, Optional\n",
    "from tqdm.notebook import tqdm\n",
    "import matplotlib.pyplot as plt"
   ]
  },
  {
   "cell_type": "markdown",
   "metadata": {},
   "source": [
    "## Config"
   ]
  },
  {
   "cell_type": "code",
   "execution_count": 2,
   "metadata": {},
   "outputs": [],
   "source": [
    "State = Tensor # vehicle, vuln, feature\n",
    "StateBatch = Tensor\n",
    "DefenderAction = Tensor # vehicles\n",
    "DefenderActionBatch = Tensor\n",
    "DefenderActionBatchBatch = Tensor\n",
    "AttackerAction = Tensor # vehicles\n",
    "AttackerActionBatch = Tensor\n",
    "Reward = Tensor\n",
    "RewardBatch = Tensor\n",
    "Terminal = Tensor\n",
    "TerminalBatch = Tensor\n",
    "\n",
    "MAX_VEHICLES                        = 10     #@param {type:\"integer\"}\n",
    "MAX_VULNS                           = 3      #@param {type:\"integer\"}\n",
    "MAX_ATTACK                          = 2      #@param {type:\"integer\"}\n",
    "\n",
    "ACTION_K                            = 5      #@param {type:\"integer\"}\n",
    "\n",
    "BATCH_SIZE                          = 1000    #@param {type:\"integer\"}\n",
    "\n",
    "MEMORY_SIZE                         = 1000000  #@param {type:\"integer\"}\n",
    "MEMORY_WARMUP_STEPS                 = MEMORY_SIZE // BATCH_SIZE     #@param {type:\"integer\"} # scaled by batch size\n",
    "\n",
    "TRAIN_STEPS                         = 500     #@param {type:\"integer\"}\n",
    "EXPLORATION_STEPS_PER_TRAIN_STEP    = 1      #@param {type:\"integer\"} # scaled by batch size\n",
    "\n",
    "LEARNING_RATE                       = 0.001  #@param {type:\"number\"}\n",
    "LEARNING_RATE_GAMMA                 = 0.9    #@param {type:\"number\"}\n",
    "LEARNING_RATE_GAMMA_FREQUENCY       = 500    #@param {type:\"integer\"}\n",
    "\n",
    "REWARD_GAMMA                        = 0.99   #@param {type:\"number\"}\n",
    "\n",
    "EPSILON_DECAY_STEPS                 = 10000  #@param {type:\"integer\"}\n",
    "EPSILON_THETA                       = 1.0    #@param {type:\"number\"}\n",
    "EPSILON_MU                          = 0.0    #@param {type:\"number\"}\n",
    "EPSILON_SIGMA                       = 3      #@param {type:\"number\"}\n",
    "\n",
    "SOFT_UPDATE_TAU                     = 0.001  #@param {type:\"number\"}\n",
    "\n",
    "EVAL_STEPS                          = 100    #@param {type:\"integer\"}\n",
    "\n",
    "DEVICE = torch.cuda.is_available() and torch.device('cuda') or torch.device('cpu')"
   ]
  },
  {
   "cell_type": "markdown",
   "metadata": {},
   "source": [
    "## Definitions"
   ]
  },
  {
   "cell_type": "markdown",
   "metadata": {},
   "source": [
    "### States"
   ]
  },
  {
   "cell_type": "markdown",
   "metadata": {},
   "source": [
    "#### get random starting state batch"
   ]
  },
  {
   "cell_type": "code",
   "execution_count": 3,
   "metadata": {},
   "outputs": [],
   "source": [
    "def get_random_starting_state_batch(num_batches: int) -> StateBatch:\n",
    "    prob_dist = torch.distributions.Normal(\n",
    "        loc=torch.as_tensor(0.5, dtype=torch.float32),\n",
    "        scale=torch.as_tensor(0.25, dtype=torch.float32),\n",
    "    )\n",
    "    sev_dist = torch.distributions.Normal(\n",
    "        loc=torch.as_tensor(2, dtype=torch.float32),\n",
    "        scale=torch.as_tensor(1, dtype=torch.float32),\n",
    "    )\n",
    "    states = torch.zeros((num_batches, MAX_VEHICLES, MAX_VULNS, 4), dtype=torch.float32)\n",
    "    states[:,:,:,0] = prob_dist.sample(torch.Size((num_batches, MAX_VEHICLES, MAX_VULNS))).clamp(0,1)\n",
    "    states[:,:,:,1] = sev_dist.sample(torch.Size((num_batches, MAX_VEHICLES, MAX_VULNS))).round().clamp(1,5)\n",
    "    novulns = torch.rand(torch.Size((num_batches, MAX_VEHICLES, MAX_VULNS))) > 0.5\n",
    "    states[novulns, :] = 0\n",
    "\n",
    "    return states # prob, sev, compromised_flag, member_flag"
   ]
  },
  {
   "cell_type": "markdown",
   "metadata": {},
   "source": [
    "#### get random starting state"
   ]
  },
  {
   "cell_type": "code",
   "execution_count": 4,
   "metadata": {
    "tags": []
   },
   "outputs": [],
   "source": [
    "def get_random_starting_state() -> State:\n",
    "    return get_random_starting_state_batch(1)[0]"
   ]
  },
  {
   "cell_type": "markdown",
   "metadata": {},
   "source": [
    "#### get empty state"
   ]
  },
  {
   "cell_type": "code",
   "execution_count": 5,
   "metadata": {},
   "outputs": [],
   "source": [
    "def get_empty_state() -> State:\n",
    "    return torch.zeros((MAX_VEHICLES, MAX_VULNS, 4), dtype=torch.float32)"
   ]
  },
  {
   "cell_type": "markdown",
   "metadata": {},
   "source": [
    "#### batch states"
   ]
  },
  {
   "cell_type": "code",
   "execution_count": 6,
   "metadata": {},
   "outputs": [],
   "source": [
    "def batch_states(states: Union[Tuple[State, ...], List[State]]) -> StateBatch:\n",
    "    return torch.stack(states)"
   ]
  },
  {
   "cell_type": "markdown",
   "metadata": {},
   "source": [
    "### Actions"
   ]
  },
  {
   "cell_type": "markdown",
   "metadata": {},
   "source": [
    "#### get action space"
   ]
  },
  {
   "cell_type": "code",
   "execution_count": 7,
   "metadata": {},
   "outputs": [],
   "source": [
    "# https://stackoverflow.com/a/58869630/11141271\n",
    "def get_action_space() -> DefenderActionBatch:\n",
    "    return torch.arange(MAX_VEHICLES).unsqueeze(1)\n",
    "    # return ((torch.arange(2**MAX_VEHICLES).unsqueeze(1) >> torch.arange(MAX_VEHICLES-1, -1, -1)) & 1).float()"
   ]
  },
  {
   "cell_type": "code",
   "execution_count": 8,
   "metadata": {},
   "outputs": [],
   "source": [
    "assert ACTION_K <= get_action_space().shape[0]"
   ]
  },
  {
   "cell_type": "markdown",
   "metadata": {},
   "source": [
    "#### get attacker actions"
   ]
  },
  {
   "cell_type": "code",
   "execution_count": 9,
   "metadata": {},
   "outputs": [],
   "source": [
    "def get_attacker_actions(states: StateBatch) -> AttackerActionBatch:\n",
    "    priority = (states[:,:,:,0] * states[:,:,:,1] * (1-states[:,:,:,2])).sum(dim=-1)\n",
    "    # find indices of vehicles to attack\n",
    "    attack = priority.topk(MAX_ATTACK).indices\n",
    "    # return mask of vehicles to attack\n",
    "    return torch.zeros((states.shape[0], MAX_VEHICLES), dtype=torch.float32).to(states.device).scatter_(1, attack, 1)"
   ]
  },
  {
   "cell_type": "markdown",
   "metadata": {},
   "source": [
    "#### apply attacker actions"
   ]
  },
  {
   "cell_type": "code",
   "execution_count": 10,
   "metadata": {},
   "outputs": [],
   "source": [
    "def apply_attacker_actions(states: StateBatch, actions: AttackerActionBatch) -> StateBatch:\n",
    "    assert states.shape[0] == actions.shape[0]\n",
    "    assert states.device == actions.device\n",
    "\n",
    "\n",
    "    next_states = states.clone()\n",
    "\n",
    "    attack_mask = get_attacker_actions(states).bool()\n",
    "    attack = next_states[attack_mask]\n",
    "\n",
    "    probs = torch.rand(attack.shape[:-1], dtype=torch.float32, device=states.device)\n",
    "    success_mask = (probs > 1-attack[:,:,0])\n",
    "\n",
    "    # we need to copy some data since advanced slicing creates copies\n",
    "    success = attack[success_mask]\n",
    "    success[:,2] = 1\n",
    "    attack[success_mask] = success\n",
    "    next_states[attack_mask] = attack\n",
    "    return next_states"
   ]
  },
  {
   "cell_type": "markdown",
   "metadata": {},
   "source": [
    "#### get random defender actions"
   ]
  },
  {
   "cell_type": "code",
   "execution_count": 11,
   "metadata": {},
   "outputs": [],
   "source": [
    "def get_random_defender_actions(states: StateBatch) -> DefenderActionBatch:\n",
    "    # pick num vehicles in platoon\n",
    "    return torch.rand((states.shape[0],1), dtype=torch.float32) * MAX_VEHICLES\n",
    "\n",
    "    # return (torch.rand((states.shape[0], MAX_VEHICLES), dtype=torch.float32, device=states.device) > 0.5).float()"
   ]
  },
  {
   "cell_type": "markdown",
   "metadata": {},
   "source": [
    "#### get exploring defender actions"
   ]
  },
  {
   "cell_type": "code",
   "execution_count": 12,
   "metadata": {},
   "outputs": [],
   "source": [
    "def get_exploring_defender_actions(states: StateBatch) -> DefenderActionBatch:\n",
    "    assert states.shape[0] >= MAX_VEHICLES * 2 + 1 # we want to give diagonal and random actions a chance\n",
    "\n",
    "    return torch.cat((\n",
    "        torch.arange(0,MAX_VEHICLES+1, device=states.device, dtype=torch.float32).unsqueeze(1),\n",
    "        get_random_defender_actions(states[MAX_VEHICLES+1:]),\n",
    "    ))\n",
    "\n",
    "    # zero = torch.zeros((1,MAX_VEHICLES))\n",
    "    # diag = torch.eye(MAX_VEHICLES, dtype=torch.float32, device=states.device)\n",
    "    # rand = get_random_defender_actions(states[MAX_VEHICLES+1:])\n",
    "    # return torch.cat((zero, diag, rand))"
   ]
  },
  {
   "cell_type": "code",
   "execution_count": 13,
   "metadata": {},
   "outputs": [],
   "source": [
    "# todo: nearest neighbour for actions to find N nearest neighbours\n",
    "# just subtract the action from the action space and take the argmin"
   ]
  },
  {
   "cell_type": "markdown",
   "metadata": {},
   "source": [
    "#### apply defender actions"
   ]
  },
  {
   "cell_type": "code",
   "execution_count": 74,
   "metadata": {
    "tags": []
   },
   "outputs": [],
   "source": [
    "def apply_defender_actions(states: StateBatch, actions: DefenderActionBatch) -> StateBatch:\n",
    "    assert states.shape[0] == actions.shape[0]\n",
    "    assert states.device == actions.device\n",
    "\n",
    "    # create a copy so we don't modify the original\n",
    "    states = states.clone()\n",
    "\n",
    "    # set the membership flag to 1 for each vuln in each vehicle that is chosen\n",
    "    states[:,:,:,3] = 0\n",
    "\n",
    "    for i in range(states.shape[0]):\n",
    "        platoon_size = actions[i][0].clamp(0, MAX_VEHICLES)\n",
    "        members = random.sample(range(MAX_VEHICLES), int(platoon_size))\n",
    "        states[i,members,:,3] = 1\n",
    "\n",
    "    # for i in range(states.shape[0]):\n",
    "    #     states[i,actions[i,:]==1,:,3] = 1\n",
    "\n",
    "    return states"
   ]
  },
  {
   "cell_type": "markdown",
   "metadata": {},
   "source": [
    "#### nearest k actions"
   ]
  },
  {
   "cell_type": "code",
   "execution_count": 63,
   "metadata": {},
   "outputs": [],
   "source": [
    "def get_nearest_k_actions(proto_actions: DefenderActionBatch, k: int) -> DefenderActionBatchBatch:\n",
    "    # get all possible actions\n",
    "    space = get_action_space().to(proto_actions.device)\n",
    "    # copy the action set for each proto action\n",
    "    space2 = space.unsqueeze(0).repeat((proto_actions.shape[0], 1, 1))\n",
    "    # duplicate the proto actions for each action in the space\n",
    "    proto_actions = proto_actions.unsqueeze(1).repeat((1, space.shape[0], 1))\n",
    "    # find the indices of nearest k actions for each proto action\n",
    "    nearest = (space2 - proto_actions).abs().sum(dim=2).topk(largest=False, k=k, dim=1).indices\n",
    "    # return the actions themselves using the indices\n",
    "    return space[nearest]"
   ]
  },
  {
   "cell_type": "markdown",
   "metadata": {},
   "source": [
    "#### Epsilon noise"
   ]
  },
  {
   "cell_type": "markdown",
   "metadata": {},
   "source": [
    "##### OrnsteinUhlenbeck"
   ]
  },
  {
   "cell_type": "code",
   "execution_count": 16,
   "metadata": {},
   "outputs": [],
   "source": [
    "# from original deepRL author code\n",
    "# Based on http://math.stackexchange.com/questions/1287634/implementing-ornstein-uhlenbeck-in-matlab\n",
    "class OrnsteinUhlenbeckProcess():\n",
    "    def __init__(self, theta, mu=0., sigma=1., dt=1e-2, x0=None, size=1, sigma_min=None, n_steps_annealing=1000):\n",
    "        self.theta = theta\n",
    "        self.mu = mu\n",
    "        self.sigma = sigma\n",
    "        self.n_steps = 0\n",
    "        \n",
    "        if sigma_min is not None:\n",
    "            self.m = -float(sigma - sigma_min) / float(n_steps_annealing)\n",
    "            self.c = sigma\n",
    "            self.sigma_min = sigma_min\n",
    "        else:\n",
    "            self.m = 0.\n",
    "            self.c = sigma\n",
    "            self.sigma_min = sigma\n",
    "\n",
    "        self.dt = dt\n",
    "        self.x0 = x0\n",
    "        self.size = size\n",
    "        self.normal = torch.distributions.Normal(torch.as_tensor(0, dtype=torch.float32), torch.as_tensor(1, dtype=torch.float32))\n",
    "        self.reset_states()\n",
    "\n",
    "    @property\n",
    "    def current_sigma(self):\n",
    "        sigma = max(self.sigma_min, self.m * float(self.n_steps) + self.c)\n",
    "        return sigma\n",
    "\n",
    "    def sample(self):\n",
    "        x = self.x_prev + self.theta * (self.mu - self.x_prev) * self.dt + self.current_sigma * torch.sqrt(torch.as_tensor(self.dt, dtype=torch.float32)) * self.normal.sample((self.size,))  # type: ignore\n",
    "        self.x_prev = x\n",
    "        self.n_steps += 1\n",
    "        return x\n",
    "\n",
    "    def reset_states(self):\n",
    "        self.x_prev = self.x0 if self.x0 is not None else torch.zeros(self.size)"
   ]
  },
  {
   "cell_type": "markdown",
   "metadata": {},
   "source": [
    "##### Noise preview"
   ]
  },
  {
   "cell_type": "code",
   "execution_count": 17,
   "metadata": {},
   "outputs": [
    {
     "name": "stderr",
     "output_type": "stream",
     "text": [
      "c:\\Users\\TeamD\\.conda\\envs\\subgame\\lib\\site-packages\\numpy\\core\\shape_base.py:65: FutureWarning: The input object of type 'Tensor' is an array-like implementing one of the corresponding protocols (`__array__`, `__array_interface__` or `__array_struct__`); but not a sequence (or 0-D). In the future, this object will be coerced as if it was first converted using `np.array(obj)`. To retain the old behaviour, you have to either modify the type 'Tensor', or assign to an empty array created with `np.empty(correct_shape, dtype=object)`.\n",
      "  ary = asanyarray(ary)\n",
      "c:\\Users\\TeamD\\.conda\\envs\\subgame\\lib\\site-packages\\numpy\\core\\shape_base.py:65: VisibleDeprecationWarning: Creating an ndarray from ragged nested sequences (which is a list-or-tuple of lists-or-tuples-or ndarrays with different lengths or shapes) is deprecated. If you meant to do this, you must specify 'dtype=object' when creating the ndarray.\n",
      "  ary = asanyarray(ary)\n"
     ]
    },
    {
     "data": {
      "image/png": "[encoded data removed]",
      "text/plain": [
       "<Figure size 432x288 with 1 Axes>"
      ]
     },
     "metadata": {
      "needs_background": "light"
     },
     "output_type": "display_data"
    }
   ],
   "source": [
    "a = OrnsteinUhlenbeckProcess(\n",
    "    size=1,\n",
    "    theta=EPSILON_SIGMA,\n",
    "    mu=EPSILON_MU,\n",
    "    sigma=EPSILON_SIGMA,\n",
    ")\n",
    "b = [a.sample() for _ in range(1000)]\n",
    "plt.plot(b)\n",
    "del a\n",
    "del b"
   ]
  },
  {
   "cell_type": "markdown",
   "metadata": {},
   "source": [
    "##### apply epsilon noise"
   ]
  },
  {
   "cell_type": "code",
   "execution_count": 53,
   "metadata": {},
   "outputs": [],
   "source": [
    "epsilon = 1.0\n",
    "epsilon_decay = epsilon / EPSILON_DECAY_STEPS\n",
    "epsilon_noise = OrnsteinUhlenbeckProcess(\n",
    "    # size=MAX_VEHICLES,\n",
    "    size=1,\n",
    "    theta=EPSILON_SIGMA,\n",
    "    mu=EPSILON_MU,\n",
    "    sigma=EPSILON_SIGMA,\n",
    ")\n",
    "def apply_epsilon_noise(actions: DefenderActionBatch) -> None:\n",
    "    actions += epsilon * epsilon_noise.sample().to(actions.device)"
   ]
  },
  {
   "cell_type": "code",
   "execution_count": 54,
   "metadata": {},
   "outputs": [
    {
     "name": "stdout",
     "output_type": "stream",
     "text": [
      "tensor([[[0.7626, 0.7626, 0.7626, 0.7626, 0.7626, 0.7626, 0.7626, 0.7626,\n",
      "          0.7626, 0.7626],\n",
      "         [0.7626, 0.7626, 0.7626, 0.7626, 0.7626, 0.7626, 0.7626, 0.7626,\n",
      "          0.7626, 0.7626]],\n",
      "\n",
      "        [[0.7626, 0.7626, 0.7626, 0.7626, 0.7626, 0.7626, 0.7626, 0.7626,\n",
      "          0.7626, 0.7626],\n",
      "         [0.7626, 0.7626, 0.7626, 0.7626, 0.7626, 0.7626, 0.7626, 0.7626,\n",
      "          0.7626, 0.7626]]])\n"
     ]
    }
   ],
   "source": [
    "z = torch.zeros((2,2,10))\n",
    "apply_epsilon_noise(z)\n",
    "print(z)"
   ]
  },
  {
   "cell_type": "markdown",
   "metadata": {},
   "source": [
    "### Rewards"
   ]
  },
  {
   "cell_type": "markdown",
   "metadata": {},
   "source": [
    "#### get defender utilities"
   ]
  },
  {
   "cell_type": "code",
   "execution_count": 20,
   "metadata": {},
   "outputs": [],
   "source": [
    "def get_defender_utilities(states: StateBatch) -> RewardBatch:\n",
    "    # identify which platoons contain compromised vehicles\n",
    "    compromise_free_platoons = (states[:,:,:,2] * states[:,:,:,3]).sum(dim=[-1,-2]) == 0\n",
    "    # identify size of each platoon\n",
    "    members = states[:,:,:,3].max(dim=-1).values.sum(dim=-1)\n",
    "    # return 0 if platoon is compromised, size of platoon otherwise\n",
    "    return members * compromise_free_platoons.float()"
   ]
  },
  {
   "cell_type": "markdown",
   "metadata": {},
   "source": [
    "### Modelling"
   ]
  },
  {
   "cell_type": "code",
   "execution_count": 21,
   "metadata": {},
   "outputs": [],
   "source": [
    "import torch.nn as nn\n",
    "import torch.nn.functional as F"
   ]
  },
  {
   "cell_type": "markdown",
   "metadata": {},
   "source": [
    "#### Actor"
   ]
  },
  {
   "cell_type": "code",
   "execution_count": 46,
   "metadata": {},
   "outputs": [],
   "source": [
    "class DefenderActor(nn.Module):\n",
    "    def __init__(self):\n",
    "        super().__init__()\n",
    "        self.conv1 = nn.LazyConv2d(out_channels=5, kernel_size=2, stride=1)\n",
    "        self.fc1 = nn.LazyLinear(256)\n",
    "        self.fc2 = nn.LazyLinear(128)\n",
    "        # self.fc3 = nn.LazyLinear(MAX_VEHICLES)\n",
    "        self.fc3 = nn.LazyLinear(1)\n",
    "\n",
    "    def forward(self, x: StateBatch) -> DefenderActionBatch:\n",
    "        x = torch.hstack((\n",
    "            F.gelu(self.conv1(x)).flatten(start_dim=1),\n",
    "            x.flatten(start_dim=1), # skip connection after conv\n",
    "        ))\n",
    "        x = F.gelu(self.fc1(x))\n",
    "        x = F.gelu(self.fc2(x))\n",
    "        # x = torch.tanh(self.fc3(x))\n",
    "        x = F.relu(self.fc3(x))\n",
    "        return x"
   ]
  },
  {
   "cell_type": "markdown",
   "metadata": {},
   "source": [
    "#### Critic"
   ]
  },
  {
   "cell_type": "code",
   "execution_count": 56,
   "metadata": {},
   "outputs": [],
   "source": [
    "class DefenderCritic(nn.Module):\n",
    "    def __init__(self) -> None:\n",
    "        super().__init__()\n",
    "        # self.conv1 = nn.LazyConv2d(out_channels=5, kernel_size=2, stride=1)\n",
    "        self.fc1 = nn.LazyLinear(256)\n",
    "        self.fc2 = nn.LazyLinear(128)\n",
    "        self.fc3 = nn.LazyLinear(1)\n",
    "    def forward(self, x1: StateBatch, x2: DefenderActionBatch) -> Reward:\n",
    "        x = torch.hstack((\n",
    "            # F.gelu(self.conv1(x1)).flatten(start_dim=1),\n",
    "            x1.flatten(start_dim=1), # skip connection after conv\n",
    "            x2,\n",
    "        ))\n",
    "        x = F.gelu(self.fc1(x))\n",
    "        x = F.gelu(self.fc2(x))\n",
    "        x = self.fc3(x)\n",
    "        return x"
   ]
  },
  {
   "cell_type": "markdown",
   "metadata": {},
   "source": [
    "#### get defender actions"
   ]
  },
  {
   "cell_type": "code",
   "execution_count": 72,
   "metadata": {},
   "outputs": [],
   "source": [
    "def get_defender_actions(\n",
    "    states: StateBatch,\n",
    "    actor: DefenderActor,\n",
    "    critic: DefenderCritic,\n",
    "    proto_mutator: Optional[Callable[[DefenderActionBatch],None]],\n",
    ") -> DefenderActionBatch:\n",
    "    proto_actions = actor(states)\n",
    "    if proto_mutator is not None:\n",
    "        proto_mutator(proto_actions)\n",
    "    nearest_actions = get_nearest_k_actions(proto_actions, ACTION_K)\n",
    "    states_ = states.unsqueeze(1).repeat(1,ACTION_K,1,1,1).reshape(-1,MAX_VEHICLES,MAX_VULNS,4)\n",
    "    # actions_ = nearest_actions.reshape(-1, MAX_VEHICLES)\n",
    "    actions_ = nearest_actions.reshape(-1, 1)\n",
    "    q_values = critic(states_, actions_).reshape(states.shape[0], ACTION_K)\n",
    "    return nearest_actions[torch.arange(states.shape[0]), q_values.argmax(dim=1)]"
   ]
  },
  {
   "cell_type": "markdown",
   "metadata": {},
   "source": [
    "#### Replay memory"
   ]
  },
  {
   "cell_type": "code",
   "execution_count": 25,
   "metadata": {},
   "outputs": [],
   "source": [
    "from collections import deque\n",
    "from dataclasses import dataclass\n",
    "\n",
    "@dataclass\n",
    "class Transition:\n",
    "    state: State\n",
    "    action: DefenderAction\n",
    "    reward: Reward\n",
    "    next_state: State\n",
    "    terminal: Terminal\n",
    "\n",
    "    def to(self, device: torch.device) -> 'Transition':\n",
    "        return Transition(\n",
    "            state=self.state.to(device),\n",
    "            action=self.action.to(device),\n",
    "            reward=self.reward.to(device),\n",
    "            next_state=self.next_state.to(device),\n",
    "            terminal=self.terminal.to(device),\n",
    "        )\n",
    "\n",
    "@dataclass\n",
    "class TransitionBatch:\n",
    "    states: StateBatch\n",
    "    actions: DefenderActionBatch\n",
    "    rewards: RewardBatch\n",
    "    next_states: StateBatch\n",
    "    terminals: TerminalBatch\n",
    "\n",
    "    \n",
    "    def to(self, device: torch.device) -> 'TransitionBatch':\n",
    "        return TransitionBatch(\n",
    "            states=self.states.to(device),\n",
    "            actions=self.actions.to(device),\n",
    "            rewards=self.rewards.to(device),\n",
    "            next_states=self.next_states.to(device),\n",
    "            terminals=self.terminals.to(device),\n",
    "        )"
   ]
  },
  {
   "cell_type": "code",
   "execution_count": 26,
   "metadata": {},
   "outputs": [],
   "source": [
    "def sample_memory(memory: deque, batch_size: int) -> TransitionBatch:\n",
    "    samples = random.sample(memory, batch_size)\n",
    "    return TransitionBatch(\n",
    "        states=torch.stack([s.state for s in samples]),\n",
    "        actions=torch.stack([s.action for s in samples]),\n",
    "        rewards=torch.stack([s.reward for s in samples]),\n",
    "        next_states=torch.stack([s.next_state for s in samples]),\n",
    "        terminals=torch.stack([s.terminal for s in samples]),\n",
    "    )"
   ]
  },
  {
   "cell_type": "markdown",
   "metadata": {},
   "source": [
    "### Learning and exploration"
   ]
  },
  {
   "cell_type": "code",
   "execution_count": 28,
   "metadata": {},
   "outputs": [],
   "source": [
    "# from https://github.com/ghliu/pytorch-ddpg/blob/master/util.py#L26\n",
    "\n",
    "def soft_update(target, source, tau):\n",
    "        for target_param, param in zip(target.parameters(), source.parameters()):\n",
    "            ## shouldn't be necessary since we use target networks to calculate loss\n",
    "            # if isinstance(target_param, torch.nn.parameter.UninitializedParameter):\n",
    "            #     # target model uninitialize, hard update\n",
    "            #     target_param.data.copy_(param.data)\n",
    "            # else:\n",
    "            target_param.data.copy_(target_param.data * (1.0 - tau) + param.data * tau)\n",
    "\n",
    "def hard_update(target, source):\n",
    "    for target_param, param in zip(target.parameters(), source.parameters()):\n",
    "            target_param.data.copy_(param.data)"
   ]
  },
  {
   "cell_type": "markdown",
   "metadata": {},
   "source": [
    "## Training"
   ]
  },
  {
   "cell_type": "markdown",
   "metadata": {},
   "source": [
    "### Init"
   ]
  },
  {
   "cell_type": "code",
   "execution_count": 29,
   "metadata": {},
   "outputs": [],
   "source": [
    "# memory: deque[Transition] = deque(maxlen=MEMORY_SIZE) # colab uses old python version that doesn't support this :P\n",
    "memory = deque(maxlen=MEMORY_SIZE)"
   ]
  },
  {
   "cell_type": "code",
   "execution_count": 57,
   "metadata": {},
   "outputs": [],
   "source": [
    "actor = DefenderActor().to(DEVICE)\n",
    "actor_target = DefenderActor().to(DEVICE)\n",
    "critic = DefenderCritic().to(DEVICE)\n",
    "critic_target = DefenderCritic().to(DEVICE)"
   ]
  },
  {
   "cell_type": "code",
   "execution_count": 58,
   "metadata": {},
   "outputs": [],
   "source": [
    "# ensure weights are initialized\n",
    "states = get_random_starting_state_batch(1).to(DEVICE)\n",
    "critic(states, actor(states))\n",
    "critic_target(states, actor_target(states))\n",
    "\n",
    "# hard update weights\n",
    "hard_update(actor_target, actor)\n",
    "hard_update(critic_target, critic)"
   ]
  },
  {
   "cell_type": "code",
   "execution_count": 59,
   "metadata": {},
   "outputs": [],
   "source": [
    "actor_optimizer = torch.optim.Adam(actor.parameters(), lr=LEARNING_RATE)\n",
    "actor_scheduler = torch.optim.lr_scheduler.StepLR(\n",
    "    actor_optimizer,\n",
    "    step_size=LEARNING_RATE_GAMMA_FREQUENCY,\n",
    "    gamma=LEARNING_RATE_GAMMA,\n",
    ")\n",
    "critic_optimizer = torch.optim.Adam(critic.parameters(), lr=LEARNING_RATE)\n",
    "critic_scheduler = torch.optim.lr_scheduler.StepLR(\n",
    "    critic_optimizer,\n",
    "    step_size=LEARNING_RATE_GAMMA_FREQUENCY,\n",
    "    gamma=LEARNING_RATE_GAMMA,\n",
    ")"
   ]
  },
  {
   "cell_type": "code",
   "execution_count": 50,
   "metadata": {},
   "outputs": [],
   "source": [
    "criterion = nn.MSELoss()"
   ]
  },
  {
   "cell_type": "markdown",
   "metadata": {},
   "source": [
    "### Warmup"
   ]
  },
  {
   "cell_type": "markdown",
   "metadata": {},
   "source": [
    "#### Random games"
   ]
  },
  {
   "cell_type": "code",
   "execution_count": 34,
   "metadata": {},
   "outputs": [
    {
     "data": {
      "application/vnd.jupyter.widget-view+json": {
       "model_id": "4cab09364c714bcaadd770201cb3f110",
       "version_major": 2,
       "version_minor": 0
      },
      "text/plain": [
       "  0%|          | 0/500 [00:00<?, ?it/s]"
      ]
     },
     "metadata": {},
     "output_type": "display_data"
    }
   ],
   "source": [
    "states = get_random_starting_state_batch(BATCH_SIZE)\n",
    "\n",
    "# perform random exploration for one set of state sequences\n",
    "for _ in tqdm(range(MEMORY_WARMUP_STEPS // 2)):\n",
    "    assert len(memory) < MEMORY_SIZE\n",
    "    # random exploration\n",
    "    defender_actions = get_exploring_defender_actions(states)\n",
    "    next_states = apply_defender_actions(states, defender_actions)\n",
    "    attacker_actions = get_attacker_actions(next_states)\n",
    "    next_states = apply_attacker_actions(next_states, attacker_actions)\n",
    "    rewards = get_defender_utilities(next_states)\n",
    "    terminals = rewards == 0\n",
    "\n",
    "    # track next states as empty if terminal\n",
    "    next_states[terminals] = get_empty_state()\n",
    "\n",
    "    # save each transition in the batch to memory\n",
    "    for i in range(BATCH_SIZE):\n",
    "        memory.append(Transition(\n",
    "            state=states[i],\n",
    "            action=defender_actions[i],\n",
    "            reward=rewards[i],\n",
    "            next_state=next_states[i],\n",
    "            terminal=torch.as_tensor(rewards[i] == 0),\n",
    "        ))\n",
    "\n",
    "    # reset environment for terminal states\n",
    "    states = next_states.clone()\n",
    "    states[terminals] = get_random_starting_state_batch(int(terminals.sum()))\n",
    "\n",
    "del states"
   ]
  },
  {
   "cell_type": "markdown",
   "metadata": {},
   "source": [
    "#### Alternate paths"
   ]
  },
  {
   "cell_type": "code",
   "execution_count": 35,
   "metadata": {},
   "outputs": [
    {
     "data": {
      "application/vnd.jupyter.widget-view+json": {
       "model_id": "b5b43b3a0910411bbc2d16c4ddb5e252",
       "version_major": 2,
       "version_minor": 0
      },
      "text/plain": [
       "  0%|          | 0/500 [00:00<?, ?it/s]"
      ]
     },
     "metadata": {},
     "output_type": "display_data"
    }
   ],
   "source": [
    "# using random states from the memory, see what would happen if we took different actions at those states\n",
    "for _ in tqdm(range(MEMORY_WARMUP_STEPS // 2)):\n",
    "    assert len(memory) < MEMORY_SIZE\n",
    "\n",
    "    states = sample_memory(memory, BATCH_SIZE).states\n",
    "\n",
    "    # random exploration\n",
    "    defender_actions = get_exploring_defender_actions(states)\n",
    "    next_states = apply_defender_actions(states, defender_actions)\n",
    "    attacker_actions = get_attacker_actions(next_states)\n",
    "    next_states = apply_attacker_actions(next_states, attacker_actions)\n",
    "    rewards = get_defender_utilities(next_states)\n",
    "    terminals = rewards == 0\n",
    "\n",
    "    # track next states as empty if terminal\n",
    "    next_states[terminals] = get_empty_state()\n",
    "\n",
    "    # save each transition in the batch to memory\n",
    "    for i in range(BATCH_SIZE):\n",
    "        memory.append(Transition(\n",
    "            state=states[i],\n",
    "            action=defender_actions[i],\n",
    "            reward=rewards[i],\n",
    "            next_state=next_states[i],\n",
    "            terminal=torch.as_tensor(rewards[i] == 0),\n",
    "        ))\n",
    "\n",
    "    # reset environment for terminal states\n",
    "    states = next_states.clone()\n",
    "    states[terminals] = get_random_starting_state_batch(int(terminals.sum()))"
   ]
  },
  {
   "cell_type": "markdown",
   "metadata": {},
   "source": [
    "### Preflight checks"
   ]
  },
  {
   "cell_type": "code",
   "execution_count": 36,
   "metadata": {},
   "outputs": [
    {
     "name": "stdout",
     "output_type": "stream",
     "text": [
      "1.0\n"
     ]
    }
   ],
   "source": [
    "print(len(memory)/MEMORY_SIZE)"
   ]
  },
  {
   "cell_type": "code",
   "execution_count": 37,
   "metadata": {},
   "outputs": [
    {
     "data": {
      "text/plain": [
       "(array([718.,  84.,  70.,  40.,  37.,  21.,  15.,   9.,   3.,   3.]),\n",
       " array([ 0.,  1.,  2.,  3.,  4.,  5.,  6.,  7.,  8.,  9., 10.],\n",
       "       dtype=float32),\n",
       " <BarContainer object of 10 artists>)"
      ]
     },
     "execution_count": 37,
     "metadata": {},
     "output_type": "execute_result"
    },
    {
     "data": {
      "image/png": "[encoded data removed]",
      "text/plain": [
       "<Figure size 432x288 with 1 Axes>"
      ]
     },
     "metadata": {
      "needs_background": "light"
     },
     "output_type": "display_data"
    }
   ],
   "source": [
    "plt.hist(sample_memory(memory, 1000).rewards.numpy())"
   ]
  },
  {
   "cell_type": "code",
   "execution_count": 38,
   "metadata": {},
   "outputs": [
    {
     "name": "stdout",
     "output_type": "stream",
     "text": [
      "tensor(269) tensor(0.2690)\n"
     ]
    }
   ],
   "source": [
    "a = sample_memory(memory, 1000).rewards.count_nonzero()\n",
    "print(a, a/1000)"
   ]
  },
  {
   "cell_type": "code",
   "execution_count": 39,
   "metadata": {},
   "outputs": [
    {
     "data": {
      "text/plain": [
       "[<matplotlib.lines.Line2D at 0x1582256a850>]"
      ]
     },
     "execution_count": 39,
     "metadata": {},
     "output_type": "execute_result"
    },
    {
     "data": {
      "image/png": "[encoded data removed]",
      "text/plain": [
       "<Figure size 432x288 with 1 Axes>"
      ]
     },
     "metadata": {
      "needs_background": "light"
     },
     "output_type": "display_data"
    }
   ],
   "source": [
    "plt.plot(sample_memory(memory, 1000).rewards.cumsum(0).numpy())"
   ]
  },
  {
   "cell_type": "markdown",
   "metadata": {},
   "source": [
    "### Train loop"
   ]
  },
  {
   "cell_type": "code",
   "execution_count": 75,
   "metadata": {},
   "outputs": [],
   "source": [
    "critic_loss_history = []\n",
    "actor_loss_history = []\n",
    "actor_learning_rate_history = []\n",
    "critic_learning_rate_history = []\n",
    "epsilon_history = []"
   ]
  },
  {
   "cell_type": "code",
   "execution_count": 76,
   "metadata": {},
   "outputs": [
    {
     "data": {
      "application/vnd.jupyter.widget-view+json": {
       "model_id": "b8a0762103e24733b27e7649953db740",
       "version_major": 2,
       "version_minor": 0
      },
      "text/plain": [
       "  0%|          | 0/500 [00:00<?, ?it/s]"
      ]
     },
     "metadata": {},
     "output_type": "display_data"
    },
    {
     "ename": "KeyboardInterrupt",
     "evalue": "",
     "output_type": "error",
     "traceback": [
      "\u001b[1;31m---------------------------------------------------------------------------\u001b[0m",
      "\u001b[1;31mKeyboardInterrupt\u001b[0m                         Traceback (most recent call last)",
      "\u001b[1;32m~\\AppData\\Local\\Temp/ipykernel_1252/1113169801.py\u001b[0m in \u001b[0;36m<module>\u001b[1;34m\u001b[0m\n\u001b[0;32m      8\u001b[0m             \u001b[0mepsilon_history\u001b[0m\u001b[1;33m.\u001b[0m\u001b[0mappend\u001b[0m\u001b[1;33m(\u001b[0m\u001b[0mepsilon\u001b[0m\u001b[1;33m)\u001b[0m\u001b[1;33m\u001b[0m\u001b[1;33m\u001b[0m\u001b[0m\n\u001b[0;32m      9\u001b[0m             \u001b[0mepsilon\u001b[0m \u001b[1;33m=\u001b[0m \u001b[0mmax\u001b[0m\u001b[1;33m(\u001b[0m\u001b[1;36m0.0\u001b[0m\u001b[1;33m,\u001b[0m \u001b[0mepsilon\u001b[0m \u001b[1;33m-\u001b[0m \u001b[0mepsilon_decay\u001b[0m\u001b[1;33m)\u001b[0m\u001b[1;33m\u001b[0m\u001b[1;33m\u001b[0m\u001b[0m\n\u001b[1;32m---> 10\u001b[1;33m             \u001b[0mnext_states\u001b[0m \u001b[1;33m=\u001b[0m \u001b[0mapply_defender_actions\u001b[0m\u001b[1;33m(\u001b[0m\u001b[0mstates\u001b[0m\u001b[1;33m,\u001b[0m \u001b[0mdefender_actions\u001b[0m\u001b[1;33m)\u001b[0m\u001b[1;33m\u001b[0m\u001b[1;33m\u001b[0m\u001b[0m\n\u001b[0m\u001b[0;32m     11\u001b[0m             \u001b[0mattacker_actions\u001b[0m \u001b[1;33m=\u001b[0m \u001b[0mget_attacker_actions\u001b[0m\u001b[1;33m(\u001b[0m\u001b[0mnext_states\u001b[0m\u001b[1;33m)\u001b[0m\u001b[1;33m\u001b[0m\u001b[1;33m\u001b[0m\u001b[0m\n\u001b[0;32m     12\u001b[0m             \u001b[0mnext_states\u001b[0m \u001b[1;33m=\u001b[0m \u001b[0mapply_attacker_actions\u001b[0m\u001b[1;33m(\u001b[0m\u001b[0mnext_states\u001b[0m\u001b[1;33m,\u001b[0m \u001b[0mattacker_actions\u001b[0m\u001b[1;33m)\u001b[0m\u001b[1;33m\u001b[0m\u001b[1;33m\u001b[0m\u001b[0m\n",
      "\u001b[1;32m~\\AppData\\Local\\Temp/ipykernel_1252/3733182869.py\u001b[0m in \u001b[0;36mapply_defender_actions\u001b[1;34m(states, actions)\u001b[0m\n\u001b[0;32m     12\u001b[0m         \u001b[0mplatoon_size\u001b[0m \u001b[1;33m=\u001b[0m \u001b[0mactions\u001b[0m\u001b[1;33m[\u001b[0m\u001b[0mi\u001b[0m\u001b[1;33m]\u001b[0m\u001b[1;33m[\u001b[0m\u001b[1;36m0\u001b[0m\u001b[1;33m]\u001b[0m\u001b[1;33m.\u001b[0m\u001b[0mclamp\u001b[0m\u001b[1;33m(\u001b[0m\u001b[1;36m0\u001b[0m\u001b[1;33m,\u001b[0m \u001b[0mMAX_VEHICLES\u001b[0m\u001b[1;33m)\u001b[0m\u001b[1;33m\u001b[0m\u001b[1;33m\u001b[0m\u001b[0m\n\u001b[0;32m     13\u001b[0m         \u001b[0mmembers\u001b[0m \u001b[1;33m=\u001b[0m \u001b[0mrandom\u001b[0m\u001b[1;33m.\u001b[0m\u001b[0msample\u001b[0m\u001b[1;33m(\u001b[0m\u001b[0mrange\u001b[0m\u001b[1;33m(\u001b[0m\u001b[0mMAX_VEHICLES\u001b[0m\u001b[1;33m)\u001b[0m\u001b[1;33m,\u001b[0m \u001b[0mint\u001b[0m\u001b[1;33m(\u001b[0m\u001b[0mplatoon_size\u001b[0m\u001b[1;33m)\u001b[0m\u001b[1;33m)\u001b[0m\u001b[1;33m\u001b[0m\u001b[1;33m\u001b[0m\u001b[0m\n\u001b[1;32m---> 14\u001b[1;33m         \u001b[0mstates\u001b[0m\u001b[1;33m[\u001b[0m\u001b[0mi\u001b[0m\u001b[1;33m,\u001b[0m\u001b[0mmembers\u001b[0m\u001b[1;33m,\u001b[0m\u001b[1;33m:\u001b[0m\u001b[1;33m,\u001b[0m\u001b[1;36m3\u001b[0m\u001b[1;33m]\u001b[0m \u001b[1;33m=\u001b[0m \u001b[1;36m1\u001b[0m\u001b[1;33m\u001b[0m\u001b[1;33m\u001b[0m\u001b[0m\n\u001b[0m\u001b[0;32m     15\u001b[0m \u001b[1;33m\u001b[0m\u001b[0m\n\u001b[0;32m     16\u001b[0m     \u001b[1;31m# for i in range(states.shape[0]):\u001b[0m\u001b[1;33m\u001b[0m\u001b[1;33m\u001b[0m\u001b[0m\n",
      "\u001b[1;31mKeyboardInterrupt\u001b[0m: "
     ]
    }
   ],
   "source": [
    "digits = math.ceil(math.log10(TRAIN_STEPS))\n",
    "states = get_random_starting_state_batch(BATCH_SIZE).to(DEVICE)\n",
    "with tqdm(total=TRAIN_STEPS) as pbar:\n",
    "    for i in range(TRAIN_STEPS):\n",
    "        # EXPLORE\n",
    "        for j in range(EXPLORATION_STEPS_PER_TRAIN_STEP):\n",
    "            defender_actions = get_defender_actions(states, actor, critic, apply_epsilon_noise)\n",
    "            epsilon_history.append(epsilon)\n",
    "            epsilon = max(0.0, epsilon - epsilon_decay)\n",
    "            next_states = apply_defender_actions(states, defender_actions)\n",
    "            attacker_actions = get_attacker_actions(next_states)\n",
    "            next_states = apply_attacker_actions(next_states, attacker_actions)\n",
    "            rewards = get_defender_utilities(next_states)\n",
    "            terminals = rewards == 0\n",
    "\n",
    "            # track next states as empty if terminal\n",
    "            next_states[terminals] = get_empty_state().to(DEVICE)\n",
    "            \n",
    "            # save each transition in the batch to memory\n",
    "            for i in range(BATCH_SIZE):\n",
    "                memory.append(Transition(\n",
    "                    state=states[i],\n",
    "                    action=defender_actions[i],\n",
    "                    reward=rewards[i],\n",
    "                    next_state=next_states[i],\n",
    "                    terminal=torch.as_tensor(rewards[i] == 0, dtype=torch.bool),\n",
    "                ).to(torch.device(\"cpu\")))\n",
    "\n",
    "            # reset environment for terminal states\n",
    "            states = next_states.clone()\n",
    "            num_terminal = int(terminals.sum() > 0)\n",
    "            if num_terminal > 0:\n",
    "                states[terminals] = get_random_starting_state_batch(num_terminal).to(DEVICE)\n",
    "\n",
    "        # OPTIMIZE\n",
    "        batch = sample_memory(memory, BATCH_SIZE).to(DEVICE)\n",
    "\n",
    "        with torch.no_grad():\n",
    "            q_next: Tensor = critic_target(\n",
    "                batch.next_states,\n",
    "                actor_target(batch.next_states),\n",
    "            )\n",
    "        q_next.requires_grad_()\n",
    "        q_target = q_next * REWARD_GAMMA * (1-batch.terminals.float().unsqueeze(1)) + batch.rewards.unsqueeze(1)\n",
    "\n",
    "        critic.zero_grad()\n",
    "        q_pred = critic(batch.states, batch.actions)\n",
    "        critic_loss = criterion(q_pred, q_target)\n",
    "        critic_loss.backward()\n",
    "        critic_optimizer.step()\n",
    "        critic_learning_rate_history.append(critic_scheduler.get_last_lr())\n",
    "        critic_scheduler.step()\n",
    "        \n",
    "        critic_loss_history.append(critic_loss.item())\n",
    "\n",
    "\n",
    "        actor.zero_grad()\n",
    "        actor_loss = -critic(batch.states, actor(batch.states)).mean()\n",
    "        actor_loss.backward()\n",
    "        actor_optimizer.step()\n",
    "        actor_learning_rate_history.append(actor_scheduler.get_last_lr())\n",
    "        actor_scheduler.step()\n",
    "        actor_loss_history.append(actor_loss.item())\n",
    "\n",
    "        soft_update(actor_target, actor, SOFT_UPDATE_TAU)\n",
    "        soft_update(critic_target, critic, SOFT_UPDATE_TAU)\n",
    "\n",
    "        pbar.set_description(f\"critic: {critic_loss.item():.3f}, actor: {actor_loss.item():.3f}\")\n",
    "\n",
    "        pbar.update()\n",
    "\n"
   ]
  },
  {
   "cell_type": "markdown",
   "metadata": {},
   "source": [
    "### Training metrics"
   ]
  },
  {
   "cell_type": "markdown",
   "metadata": {},
   "source": [
    "#### Critic loss"
   ]
  },
  {
   "cell_type": "code",
   "execution_count": 77,
   "metadata": {},
   "outputs": [
    {
     "name": "stderr",
     "output_type": "stream",
     "text": [
      "No artists with labels found to put in legend.  Note that artists whose label start with an underscore are ignored when legend() is called with no argument.\n"
     ]
    },
    {
     "data": {
      "text/plain": [
       "<matplotlib.legend.Legend at 0x158239b28e0>"
      ]
     },
     "execution_count": 77,
     "metadata": {},
     "output_type": "execute_result"
    },
    {
     "data": {
      "image/png": "[encoded data removed]",
      "text/plain": [
       "<Figure size 432x288 with 1 Axes>"
      ]
     },
     "metadata": {
      "needs_background": "light"
     },
     "output_type": "display_data"
    }
   ],
   "source": [
    "plt.plot(critic_loss_history)\n",
    "plt.title(\"Critic loss\")\n",
    "plt.legend()"
   ]
  },
  {
   "cell_type": "markdown",
   "metadata": {},
   "source": [
    "#### Actor loss"
   ]
  },
  {
   "cell_type": "code",
   "execution_count": 78,
   "metadata": {},
   "outputs": [
    {
     "name": "stderr",
     "output_type": "stream",
     "text": [
      "No artists with labels found to put in legend.  Note that artists whose label start with an underscore are ignored when legend() is called with no argument.\n"
     ]
    },
    {
     "data": {
      "text/plain": [
       "<matplotlib.legend.Legend at 0x1582367ffa0>"
      ]
     },
     "execution_count": 78,
     "metadata": {},
     "output_type": "execute_result"
    },
    {
     "data": {
      "image/png": "[encoded data removed]",
      "text/plain": [
       "<Figure size 432x288 with 1 Axes>"
      ]
     },
     "metadata": {
      "needs_background": "light"
     },
     "output_type": "display_data"
    }
   ],
   "source": [
    "plt.plot(actor_loss_history)\n",
    "plt.title(\"Actor loss\")\n",
    "plt.legend()"
   ]
  },
  {
   "cell_type": "markdown",
   "metadata": {},
   "source": [
    "#### Actor learning rate"
   ]
  },
  {
   "cell_type": "code",
   "execution_count": 79,
   "metadata": {},
   "outputs": [
    {
     "name": "stderr",
     "output_type": "stream",
     "text": [
      "No artists with labels found to put in legend.  Note that artists whose label start with an underscore are ignored when legend() is called with no argument.\n"
     ]
    },
    {
     "data": {
      "text/plain": [
       "<matplotlib.legend.Legend at 0x158236d2bb0>"
      ]
     },
     "execution_count": 79,
     "metadata": {},
     "output_type": "execute_result"
    },
    {
     "data": {
      "image/png": "[encoded data removed]",
      "text/plain": [
       "<Figure size 432x288 with 1 Axes>"
      ]
     },
     "metadata": {
      "needs_background": "light"
     },
     "output_type": "display_data"
    }
   ],
   "source": [
    "plt.plot(actor_learning_rate_history)\n",
    "plt.title(\"Actor learning rate\")\n",
    "plt.legend()"
   ]
  },
  {
   "cell_type": "markdown",
   "metadata": {},
   "source": [
    "#### Critic learning rate"
   ]
  },
  {
   "cell_type": "code",
   "execution_count": 80,
   "metadata": {},
   "outputs": [
    {
     "name": "stderr",
     "output_type": "stream",
     "text": [
      "No artists with labels found to put in legend.  Note that artists whose label start with an underscore are ignored when legend() is called with no argument.\n"
     ]
    },
    {
     "data": {
      "text/plain": [
       "<matplotlib.legend.Legend at 0x1582373b160>"
      ]
     },
     "execution_count": 80,
     "metadata": {},
     "output_type": "execute_result"
    },
    {
     "data": {
      "image/png": "[encoded data removed]",
      "text/plain": [
       "<Figure size 432x288 with 1 Axes>"
      ]
     },
     "metadata": {
      "needs_background": "light"
     },
     "output_type": "display_data"
    }
   ],
   "source": [
    "plt.plot(critic_learning_rate_history)\n",
    "plt.title(\"Critic learning rate\")\n",
    "plt.legend()"
   ]
  },
  {
   "cell_type": "markdown",
   "metadata": {},
   "source": [
    "#### Epsilon"
   ]
  },
  {
   "cell_type": "code",
   "execution_count": 81,
   "metadata": {},
   "outputs": [
    {
     "name": "stderr",
     "output_type": "stream",
     "text": [
      "No artists with labels found to put in legend.  Note that artists whose label start with an underscore are ignored when legend() is called with no argument.\n"
     ]
    },
    {
     "data": {
      "text/plain": [
       "<matplotlib.legend.Legend at 0x158237a06d0>"
      ]
     },
     "execution_count": 81,
     "metadata": {},
     "output_type": "execute_result"
    },
    {
     "data": {
      "image/png": "[encoded data removed]",
      "text/plain": [
       "<Figure size 432x288 with 1 Axes>"
      ]
     },
     "metadata": {
      "needs_background": "light"
     },
     "output_type": "display_data"
    }
   ],
   "source": [
    "plt.plot(epsilon_history)\n",
    "plt.title(\"Epsilon\")\n",
    "plt.legend()"
   ]
  },
  {
   "cell_type": "markdown",
   "metadata": {},
   "source": [
    "## Eval"
   ]
  },
  {
   "cell_type": "code",
   "execution_count": 82,
   "metadata": {},
   "outputs": [],
   "source": [
    "eval_rewards = []\n",
    "eval_streaks = []\n",
    "eval_actions = []\n",
    "random_rewards = []"
   ]
  },
  {
   "cell_type": "markdown",
   "metadata": {},
   "source": [
    "### Eval steps"
   ]
  },
  {
   "cell_type": "code",
   "execution_count": 83,
   "metadata": {},
   "outputs": [
    {
     "data": {
      "application/vnd.jupyter.widget-view+json": {
       "model_id": "a9a8b4e7684947d49e238569b0334d09",
       "version_major": 2,
       "version_minor": 0
      },
      "text/plain": [
       "  0%|          | 0/100 [00:00<?, ?it/s]"
      ]
     },
     "metadata": {},
     "output_type": "display_data"
    }
   ],
   "source": [
    "states = get_random_starting_state_batch(BATCH_SIZE).to(DEVICE)\n",
    "streaks = torch.zeros((BATCH_SIZE,))\n",
    "\n",
    "for _ in tqdm(range(EVAL_STEPS)):\n",
    "    # random agent evaluted just for reference\n",
    "    defender_actions = get_random_defender_actions(states)\n",
    "    next_states = apply_defender_actions(states, defender_actions)\n",
    "    attacker_actions = get_attacker_actions(next_states)\n",
    "    next_states = apply_attacker_actions(next_states, attacker_actions)\n",
    "    rewards = get_defender_utilities(next_states)\n",
    "    random_rewards.extend(rewards.tolist())\n",
    "\n",
    "    # learning agent determines next state\n",
    "    defender_actions = get_defender_actions(states, actor, critic, None)\n",
    "    next_states = apply_defender_actions(states, defender_actions)\n",
    "    attacker_actions = get_attacker_actions(next_states)\n",
    "    next_states = apply_attacker_actions(next_states, attacker_actions)\n",
    "    rewards = get_defender_utilities(next_states)\n",
    "    eval_rewards.extend(rewards.tolist())\n",
    "    eval_actions.extend(defender_actions.tolist())\n",
    "    \n",
    "    terminals = rewards == 0\n",
    "    eval_streaks += streaks[terminals].tolist()\n",
    "    streaks[terminals] = 0\n",
    "    streaks[~terminals] += 1\n",
    "\n",
    "    # track next states as empty if terminal\n",
    "    next_states[terminals] = get_empty_state().to(DEVICE)\n",
    "\n",
    "    # reset environment for terminal states\n",
    "    states = next_states.clone()\n",
    "    states[terminals] = get_random_starting_state_batch(int(terminals.sum())).to(DEVICE)"
   ]
  },
  {
   "cell_type": "markdown",
   "metadata": {},
   "source": [
    "### Streaks"
   ]
  },
  {
   "cell_type": "code",
   "execution_count": 84,
   "metadata": {},
   "outputs": [
    {
     "name": "stderr",
     "output_type": "stream",
     "text": [
      "C:\\Users\\TeamD\\AppData\\Local\\Temp/ipykernel_1252/738803523.py:1: UserWarning: torch.range is deprecated and will be removed in a future release because its behavior is inconsistent with Python's range builtin. Instead, use torch.arange, which produces values in [start, end).\n",
      "  plt.hist(eval_streaks, bins=torch.range(min(eval_streaks)-0.5,max(eval_streaks)+0.5).tolist())\n"
     ]
    },
    {
     "data": {
      "text/plain": [
       "Text(0.5, 1.0, 'Streaks')"
      ]
     },
     "execution_count": 84,
     "metadata": {},
     "output_type": "execute_result"
    },
    {
     "data": {
      "image/png": "[encoded data removed]",
      "text/plain": [
       "<Figure size 432x288 with 1 Axes>"
      ]
     },
     "metadata": {
      "needs_background": "light"
     },
     "output_type": "display_data"
    }
   ],
   "source": [
    "plt.hist(eval_streaks, bins=torch.range(min(eval_streaks)-0.5,max(eval_streaks)+0.5).tolist())\n",
    "plt.title(\"Streaks\")"
   ]
  },
  {
   "cell_type": "markdown",
   "metadata": {},
   "source": [
    "### Rewards"
   ]
  },
  {
   "cell_type": "code",
   "execution_count": 85,
   "metadata": {},
   "outputs": [
    {
     "name": "stdout",
     "output_type": "stream",
     "text": [
      "eval tensor(1.2538) tensor(0.7823)\n",
      "rand tensor(0.7165)\n"
     ]
    }
   ],
   "source": [
    "print(\"eval\", torch.mean(torch.tensor(eval_rewards)), torch.mean(torch.tensor(eval_streaks)))\n",
    "print(\"rand\", torch.mean(torch.tensor(random_rewards)))"
   ]
  },
  {
   "cell_type": "code",
   "execution_count": 86,
   "metadata": {},
   "outputs": [
    {
     "name": "stderr",
     "output_type": "stream",
     "text": [
      "C:\\Users\\TeamD\\AppData\\Local\\Temp/ipykernel_1252/13135481.py:6: UserWarning: torch.range is deprecated and will be removed in a future release because its behavior is inconsistent with Python's range builtin. Instead, use torch.arange, which produces values in [start, end).\n",
      "  plt.hist(eval_rewards, bins=torch.range(min(eval_rewards)-0.5,max(eval_rewards)+0.5).tolist())\n"
     ]
    },
    {
     "data": {
      "text/plain": [
       "Text(0.5, 1.0, 'Eval rewards')"
      ]
     },
     "execution_count": 86,
     "metadata": {},
     "output_type": "execute_result"
    },
    {
     "data": {
      "image/png": "[encoded data removed]",
      "text/plain": [
       "<Figure size 432x288 with 1 Axes>"
      ]
     },
     "metadata": {
      "needs_background": "light"
     },
     "output_type": "display_data"
    }
   ],
   "source": [
    "# import ipywidgets as widgets\n",
    "# @widgets.interact(i=(0, BATCH_SIZE-1))\n",
    "# def asd(i=0):\n",
    "#     plt.plot(torch.vstack(eval_rewards)[:,i].cpu().numpy())\n",
    "\n",
    "plt.hist(eval_rewards, bins=torch.range(min(eval_rewards)-0.5,max(eval_rewards)+0.5).tolist())\n",
    "plt.title(\"Eval rewards\")"
   ]
  },
  {
   "cell_type": "code",
   "execution_count": 87,
   "metadata": {},
   "outputs": [
    {
     "name": "stderr",
     "output_type": "stream",
     "text": [
      "C:\\Users\\TeamD\\AppData\\Local\\Temp/ipykernel_1252/3988268182.py:1: UserWarning: torch.range is deprecated and will be removed in a future release because its behavior is inconsistent with Python's range builtin. Instead, use torch.arange, which produces values in [start, end).\n",
      "  plt.hist(random_rewards, bins=torch.range(min(random_rewards)-0.5,max(random_rewards)+0.5).tolist())\n"
     ]
    },
    {
     "data": {
      "text/plain": [
       "Text(0.5, 1.0, 'Random rewards')"
      ]
     },
     "execution_count": 87,
     "metadata": {},
     "output_type": "execute_result"
    },
    {
     "data": {
      "image/png": "[encoded data removed]",
      "text/plain": [
       "<Figure size 432x288 with 1 Axes>"
      ]
     },
     "metadata": {
      "needs_background": "light"
     },
     "output_type": "display_data"
    }
   ],
   "source": [
    "plt.hist(random_rewards, bins=torch.range(min(random_rewards)-0.5,max(random_rewards)+0.5).tolist())\n",
    "plt.title(\"Random rewards\")"
   ]
  },
  {
   "cell_type": "markdown",
   "metadata": {},
   "source": [
    "### Actions"
   ]
  },
  {
   "cell_type": "code",
   "execution_count": 89,
   "metadata": {},
   "outputs": [
    {
     "data": {
      "application/vnd.jupyter.widget-view+json": {
       "model_id": "714c0f4504074808ab27c7ddaad6c7f6",
       "version_major": 2,
       "version_minor": 0
      },
      "text/plain": [
       "interactive(children=(IntSlider(value=0, description='i', max=99999), IntSlider(value=50, description='window_…"
      ]
     },
     "metadata": {},
     "output_type": "display_data"
    }
   ],
   "source": [
    "import ipywidgets as widgets\n",
    "@widgets.interact(i=(0, len(eval_actions)-1), window_size=(1, len(eval_actions)-1))\n",
    "def preview_actions(i=0, window_size=50):\n",
    "    plt.imshow(eval_actions[i:i+window_size], aspect=\"auto\")"
   ]
  }
 ],
 "metadata": {
  "kernelspec": {
   "display_name": "Python 3.9.12 ('subgame')",
   "language": "python",
   "name": "python3"
  },
  "language_info": {
   "codemirror_mode": {
    "name": "ipython",
    "version": 3
   },
   "file_extension": ".py",
   "mimetype": "text/x-python",
   "name": "python",
   "nbconvert_exporter": "python",
   "pygments_lexer": "ipython3",
   "version": "3.9.12 (main, Apr  4 2022, 05:22:27) [MSC v.1916 64 bit (AMD64)]"
  },
  "orig_nbformat": 4,
  "vscode": {
   "interpreter": {
    "hash": "09b31e4957d63d79e1e76c5537c345194b9f565583fac53cbbb105281d72baf4"
   }
  }
 },
 "nbformat": 4,
 "nbformat_minor": 2
}
